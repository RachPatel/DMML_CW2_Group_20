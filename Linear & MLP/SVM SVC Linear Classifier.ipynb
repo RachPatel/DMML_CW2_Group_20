{
 "cells": [
  {
   "cell_type": "markdown",
   "metadata": {},
   "source": [
    "https://scikit-learn.org/stable/modules/generated/sklearn.svm.SVC.html\n",
    "https://scikit-learn.org/stable/modules/cross_validation.html#computing-cross-validated-metrics\n",
    "https://scikit-learn.org/stable/auto_examples/classification/plot_digits_classification.html#sphx-glr-auto-examples-classification-plot-digits-classification-py"
   ]
  },
  {
   "cell_type": "code",
   "execution_count": 14,
   "metadata": {},
   "outputs": [],
   "source": [
    "\"\"\" Packages \"\"\"\n",
    "import sys\n",
    "import numpy as np\n",
    "import pandas as pd\n",
    "from sklearn.model_selection import cross_val_score\n",
    "from sklearn import svm\n",
    "from sklearn.metrics import accuracy_score, classification_report\n",
    "from sklearn.preprocessing import StandardScaler\n",
    "from sklearn import metrics\n",
    "from sklearn.model_selection import train_test_split\n",
    "from matplotlib import pyplot"
   ]
  },
  {
   "cell_type": "code",
   "execution_count": 2,
   "metadata": {},
   "outputs": [],
   "source": [
    "\"\"\" Read the cross validation dataset \"\"\"\n",
    "cross_val_data = pd.read_csv ('For_10_Fold_Cross_Validation.csv')"
   ]
  },
  {
   "cell_type": "code",
   "execution_count": 3,
   "metadata": {},
   "outputs": [
    {
     "data": {
      "text/plain": [
       "(9690, 2305)"
      ]
     },
     "execution_count": 3,
     "metadata": {},
     "output_type": "execute_result"
    }
   ],
   "source": [
    "\"\"\" Check the shape of the read dataset\"\"\"\n",
    "cross_val_data.shape"
   ]
  },
  {
   "cell_type": "code",
   "execution_count": 7,
   "metadata": {
    "scrolled": true
   },
   "outputs": [
    {
     "data": {
      "text/html": [
       "<div>\n",
       "<style scoped>\n",
       "    .dataframe tbody tr th:only-of-type {\n",
       "        vertical-align: middle;\n",
       "    }\n",
       "\n",
       "    .dataframe tbody tr th {\n",
       "        vertical-align: top;\n",
       "    }\n",
       "\n",
       "    .dataframe thead th {\n",
       "        text-align: right;\n",
       "    }\n",
       "</style>\n",
       "<table border=\"1\" class=\"dataframe\">\n",
       "  <thead>\n",
       "    <tr style=\"text-align: right;\">\n",
       "      <th></th>\n",
       "      <th>0</th>\n",
       "      <th>1</th>\n",
       "      <th>2</th>\n",
       "      <th>3</th>\n",
       "      <th>4</th>\n",
       "      <th>5</th>\n",
       "      <th>6</th>\n",
       "      <th>7</th>\n",
       "      <th>8</th>\n",
       "      <th>9</th>\n",
       "      <th>...</th>\n",
       "      <th>2295</th>\n",
       "      <th>2296</th>\n",
       "      <th>2297</th>\n",
       "      <th>2298</th>\n",
       "      <th>2299</th>\n",
       "      <th>2300</th>\n",
       "      <th>2301</th>\n",
       "      <th>2302</th>\n",
       "      <th>2303</th>\n",
       "      <th>Class</th>\n",
       "    </tr>\n",
       "  </thead>\n",
       "  <tbody>\n",
       "    <tr>\n",
       "      <th>0</th>\n",
       "      <td>65.0</td>\n",
       "      <td>52.0</td>\n",
       "      <td>58.0</td>\n",
       "      <td>67.0</td>\n",
       "      <td>52.0</td>\n",
       "      <td>64.0</td>\n",
       "      <td>58.0</td>\n",
       "      <td>49.0</td>\n",
       "      <td>56.0</td>\n",
       "      <td>61.0</td>\n",
       "      <td>...</td>\n",
       "      <td>38.0</td>\n",
       "      <td>55.0</td>\n",
       "      <td>70.0</td>\n",
       "      <td>83.0</td>\n",
       "      <td>74.0</td>\n",
       "      <td>55.0</td>\n",
       "      <td>72.0</td>\n",
       "      <td>73.0</td>\n",
       "      <td>77.0</td>\n",
       "      <td>one</td>\n",
       "    </tr>\n",
       "    <tr>\n",
       "      <th>1</th>\n",
       "      <td>255.0</td>\n",
       "      <td>255.0</td>\n",
       "      <td>255.0</td>\n",
       "      <td>255.0</td>\n",
       "      <td>255.0</td>\n",
       "      <td>255.0</td>\n",
       "      <td>255.0</td>\n",
       "      <td>255.0</td>\n",
       "      <td>255.0</td>\n",
       "      <td>255.0</td>\n",
       "      <td>...</td>\n",
       "      <td>255.0</td>\n",
       "      <td>255.0</td>\n",
       "      <td>130.0</td>\n",
       "      <td>46.0</td>\n",
       "      <td>42.0</td>\n",
       "      <td>31.0</td>\n",
       "      <td>26.0</td>\n",
       "      <td>25.0</td>\n",
       "      <td>26.0</td>\n",
       "      <td>one</td>\n",
       "    </tr>\n",
       "    <tr>\n",
       "      <th>2</th>\n",
       "      <td>35.0</td>\n",
       "      <td>35.0</td>\n",
       "      <td>35.0</td>\n",
       "      <td>34.0</td>\n",
       "      <td>34.0</td>\n",
       "      <td>35.0</td>\n",
       "      <td>36.0</td>\n",
       "      <td>38.0</td>\n",
       "      <td>42.0</td>\n",
       "      <td>44.0</td>\n",
       "      <td>...</td>\n",
       "      <td>60.0</td>\n",
       "      <td>61.0</td>\n",
       "      <td>52.0</td>\n",
       "      <td>44.0</td>\n",
       "      <td>39.0</td>\n",
       "      <td>33.0</td>\n",
       "      <td>27.0</td>\n",
       "      <td>30.0</td>\n",
       "      <td>32.0</td>\n",
       "      <td>two</td>\n",
       "    </tr>\n",
       "    <tr>\n",
       "      <th>3</th>\n",
       "      <td>98.0</td>\n",
       "      <td>97.0</td>\n",
       "      <td>92.0</td>\n",
       "      <td>80.0</td>\n",
       "      <td>82.0</td>\n",
       "      <td>83.0</td>\n",
       "      <td>84.0</td>\n",
       "      <td>86.0</td>\n",
       "      <td>85.0</td>\n",
       "      <td>85.0</td>\n",
       "      <td>...</td>\n",
       "      <td>15.0</td>\n",
       "      <td>14.0</td>\n",
       "      <td>14.0</td>\n",
       "      <td>14.0</td>\n",
       "      <td>14.0</td>\n",
       "      <td>15.0</td>\n",
       "      <td>15.0</td>\n",
       "      <td>15.0</td>\n",
       "      <td>15.0</td>\n",
       "      <td>four</td>\n",
       "    </tr>\n",
       "    <tr>\n",
       "      <th>4</th>\n",
       "      <td>255.0</td>\n",
       "      <td>255.0</td>\n",
       "      <td>255.0</td>\n",
       "      <td>255.0</td>\n",
       "      <td>251.0</td>\n",
       "      <td>225.0</td>\n",
       "      <td>232.0</td>\n",
       "      <td>252.0</td>\n",
       "      <td>247.0</td>\n",
       "      <td>254.0</td>\n",
       "      <td>...</td>\n",
       "      <td>251.0</td>\n",
       "      <td>249.0</td>\n",
       "      <td>247.0</td>\n",
       "      <td>247.0</td>\n",
       "      <td>245.0</td>\n",
       "      <td>206.0</td>\n",
       "      <td>87.0</td>\n",
       "      <td>46.0</td>\n",
       "      <td>47.0</td>\n",
       "      <td>eight</td>\n",
       "    </tr>\n",
       "  </tbody>\n",
       "</table>\n",
       "<p>5 rows × 2305 columns</p>\n",
       "</div>"
      ],
      "text/plain": [
       "       0      1      2      3      4      5      6      7      8      9  ...  \\\n",
       "0   65.0   52.0   58.0   67.0   52.0   64.0   58.0   49.0   56.0   61.0  ...   \n",
       "1  255.0  255.0  255.0  255.0  255.0  255.0  255.0  255.0  255.0  255.0  ...   \n",
       "2   35.0   35.0   35.0   34.0   34.0   35.0   36.0   38.0   42.0   44.0  ...   \n",
       "3   98.0   97.0   92.0   80.0   82.0   83.0   84.0   86.0   85.0   85.0  ...   \n",
       "4  255.0  255.0  255.0  255.0  251.0  225.0  232.0  252.0  247.0  254.0  ...   \n",
       "\n",
       "    2295   2296   2297   2298   2299   2300  2301  2302  2303  Class  \n",
       "0   38.0   55.0   70.0   83.0   74.0   55.0  72.0  73.0  77.0    one  \n",
       "1  255.0  255.0  130.0   46.0   42.0   31.0  26.0  25.0  26.0    one  \n",
       "2   60.0   61.0   52.0   44.0   39.0   33.0  27.0  30.0  32.0    two  \n",
       "3   15.0   14.0   14.0   14.0   14.0   15.0  15.0  15.0  15.0   four  \n",
       "4  251.0  249.0  247.0  247.0  245.0  206.0  87.0  46.0  47.0  eight  \n",
       "\n",
       "[5 rows x 2305 columns]"
      ]
     },
     "execution_count": 7,
     "metadata": {},
     "output_type": "execute_result"
    }
   ],
   "source": [
    "\"\"\" Take a look at all the features and class attribute name \"\"\"\n",
    "cross_val_data.head()"
   ]
  },
  {
   "cell_type": "code",
   "execution_count": 17,
   "metadata": {},
   "outputs": [],
   "source": [
    "\"\"\" For training the classifier define the features and class attribute \"\"\"\n",
    "\n",
    "X_Train = cross_val_data.drop('Class', axis = 1)\n",
    "\n",
    "y_train = cross_val_data['Class']"
   ]
  },
  {
   "cell_type": "code",
   "execution_count": 18,
   "metadata": {},
   "outputs": [],
   "source": [
    "\"\"\" Scale the data \"\"\"\n",
    "sc = StandardScaler()\n",
    "X_train = sc.fit_transform(X_Train)"
   ]
  },
  {
   "cell_type": "markdown",
   "metadata": {},
   "source": [
    "Cross validation on the original Training dataset"
   ]
  },
  {
   "cell_type": "code",
   "execution_count": 23,
   "metadata": {},
   "outputs": [
    {
     "data": {
      "text/plain": [
       "array([0.94117647, 0.93601651, 0.93085655, 0.9370485 , 0.95562436,\n",
       "       0.95356037, 0.93292054, 0.94117647, 0.93498452, 0.94633643])"
      ]
     },
     "execution_count": 23,
     "metadata": {},
     "output_type": "execute_result"
    }
   ],
   "source": [
    "\"\"\" Run the classifier using 10 fold cross validation \"\"\"\n",
    "clf = svm.SVC(kernel='linear', C=1)\n",
    "scores = cross_val_score(clf, X_train, y_train, cv=10)\n",
    "\n",
    "\"\"\" scores array \"\"\"\n",
    "scores"
   ]
  },
  {
   "cell_type": "code",
   "execution_count": 24,
   "metadata": {},
   "outputs": [
    {
     "name": "stdout",
     "output_type": "stream",
     "text": [
      "Accuracy: 0.94 (+/- 0.02)\n"
     ]
    }
   ],
   "source": [
    "\"\"\" Get an average accuracy \"\"\"\n",
    "\n",
    "print(\"Accuracy: %0.2f (+/- %0.2f)\" % (scores.mean(), scores.std() * 2))"
   ]
  },
  {
   "cell_type": "code",
   "execution_count": 28,
   "metadata": {},
   "outputs": [],
   "source": [
    "\"\"\" Get the F scores \"\"\"\n",
    "\n",
    "scores = cross_val_score(clf, X_train, y_train, cv=10, scoring='f1_macro')"
   ]
  },
  {
   "cell_type": "code",
   "execution_count": 29,
   "metadata": {
    "scrolled": true
   },
   "outputs": [
    {
     "name": "stdout",
     "output_type": "stream",
     "text": [
      "[0.92741105 0.94677045 0.90956302 0.94363667 0.94397611 0.95771793\n",
      " 0.93497895 0.92902128 0.92516091 0.94647954]\n"
     ]
    }
   ],
   "source": [
    "print(scores)"
   ]
  },
  {
   "cell_type": "markdown",
   "metadata": {},
   "source": [
    "Test Train split on the original Training dataset"
   ]
  },
  {
   "cell_type": "code",
   "execution_count": 63,
   "metadata": {},
   "outputs": [],
   "source": [
    "X_train, X_test, y_train, y_test = train_test_split(\n",
    "X_train, y_train, test_size=0.4, random_state=0)"
   ]
  },
  {
   "cell_type": "code",
   "execution_count": 64,
   "metadata": {},
   "outputs": [],
   "source": [
    "cf = svm.SVC(kernel='linear', C=1).fit(X_train, y_train)"
   ]
  },
  {
   "cell_type": "code",
   "execution_count": 65,
   "metadata": {
    "scrolled": true
   },
   "outputs": [
    {
     "data": {
      "text/plain": [
       "0.934984520123839"
      ]
     },
     "execution_count": 65,
     "metadata": {},
     "output_type": "execute_result"
    }
   ],
   "source": [
    "cf.score(X_test, y_test)"
   ]
  },
  {
   "cell_type": "markdown",
   "metadata": {},
   "source": [
    "Predictions using the Train (original) and Test (new) datasets"
   ]
  },
  {
   "cell_type": "code",
   "execution_count": 32,
   "metadata": {},
   "outputs": [],
   "source": [
    "\"\"\" Read the test dataset \"\"\"\n",
    "Test = pd.read_csv ('Test_Dataset.csv')"
   ]
  },
  {
   "cell_type": "code",
   "execution_count": 33,
   "metadata": {},
   "outputs": [
    {
     "data": {
      "text/plain": [
       "(3090, 2305)"
      ]
     },
     "execution_count": 33,
     "metadata": {},
     "output_type": "execute_result"
    }
   ],
   "source": [
    "Test.shape"
   ]
  },
  {
   "cell_type": "code",
   "execution_count": 34,
   "metadata": {
    "scrolled": true
   },
   "outputs": [
    {
     "data": {
      "text/html": [
       "<div>\n",
       "<style scoped>\n",
       "    .dataframe tbody tr th:only-of-type {\n",
       "        vertical-align: middle;\n",
       "    }\n",
       "\n",
       "    .dataframe tbody tr th {\n",
       "        vertical-align: top;\n",
       "    }\n",
       "\n",
       "    .dataframe thead th {\n",
       "        text-align: right;\n",
       "    }\n",
       "</style>\n",
       "<table border=\"1\" class=\"dataframe\">\n",
       "  <thead>\n",
       "    <tr style=\"text-align: right;\">\n",
       "      <th></th>\n",
       "      <th>0</th>\n",
       "      <th>1</th>\n",
       "      <th>2</th>\n",
       "      <th>3</th>\n",
       "      <th>4</th>\n",
       "      <th>5</th>\n",
       "      <th>6</th>\n",
       "      <th>7</th>\n",
       "      <th>8</th>\n",
       "      <th>9</th>\n",
       "      <th>...</th>\n",
       "      <th>2295</th>\n",
       "      <th>2296</th>\n",
       "      <th>2297</th>\n",
       "      <th>2298</th>\n",
       "      <th>2299</th>\n",
       "      <th>2300</th>\n",
       "      <th>2301</th>\n",
       "      <th>2302</th>\n",
       "      <th>2303</th>\n",
       "      <th>Class</th>\n",
       "    </tr>\n",
       "  </thead>\n",
       "  <tbody>\n",
       "    <tr>\n",
       "      <th>0</th>\n",
       "      <td>22.0</td>\n",
       "      <td>23.0</td>\n",
       "      <td>24.0</td>\n",
       "      <td>24.0</td>\n",
       "      <td>24.0</td>\n",
       "      <td>22.0</td>\n",
       "      <td>20.0</td>\n",
       "      <td>24.0</td>\n",
       "      <td>25.0</td>\n",
       "      <td>26.0</td>\n",
       "      <td>...</td>\n",
       "      <td>24.0</td>\n",
       "      <td>24.0</td>\n",
       "      <td>24.0</td>\n",
       "      <td>24.0</td>\n",
       "      <td>24.0</td>\n",
       "      <td>24.0</td>\n",
       "      <td>23.0</td>\n",
       "      <td>23.0</td>\n",
       "      <td>22.0</td>\n",
       "      <td>two</td>\n",
       "    </tr>\n",
       "    <tr>\n",
       "      <th>1</th>\n",
       "      <td>255.0</td>\n",
       "      <td>255.0</td>\n",
       "      <td>255.0</td>\n",
       "      <td>255.0</td>\n",
       "      <td>255.0</td>\n",
       "      <td>255.0</td>\n",
       "      <td>255.0</td>\n",
       "      <td>255.0</td>\n",
       "      <td>255.0</td>\n",
       "      <td>255.0</td>\n",
       "      <td>...</td>\n",
       "      <td>200.0</td>\n",
       "      <td>226.0</td>\n",
       "      <td>243.0</td>\n",
       "      <td>253.0</td>\n",
       "      <td>246.0</td>\n",
       "      <td>240.0</td>\n",
       "      <td>249.0</td>\n",
       "      <td>247.0</td>\n",
       "      <td>242.0</td>\n",
       "      <td>six</td>\n",
       "    </tr>\n",
       "    <tr>\n",
       "      <th>2</th>\n",
       "      <td>173.0</td>\n",
       "      <td>187.0</td>\n",
       "      <td>168.0</td>\n",
       "      <td>118.0</td>\n",
       "      <td>63.0</td>\n",
       "      <td>118.0</td>\n",
       "      <td>107.0</td>\n",
       "      <td>131.0</td>\n",
       "      <td>164.0</td>\n",
       "      <td>119.0</td>\n",
       "      <td>...</td>\n",
       "      <td>255.0</td>\n",
       "      <td>255.0</td>\n",
       "      <td>255.0</td>\n",
       "      <td>255.0</td>\n",
       "      <td>255.0</td>\n",
       "      <td>255.0</td>\n",
       "      <td>255.0</td>\n",
       "      <td>255.0</td>\n",
       "      <td>255.0</td>\n",
       "      <td>four</td>\n",
       "    </tr>\n",
       "    <tr>\n",
       "      <th>3</th>\n",
       "      <td>52.0</td>\n",
       "      <td>52.0</td>\n",
       "      <td>54.0</td>\n",
       "      <td>57.0</td>\n",
       "      <td>59.0</td>\n",
       "      <td>60.0</td>\n",
       "      <td>61.0</td>\n",
       "      <td>58.0</td>\n",
       "      <td>57.0</td>\n",
       "      <td>56.0</td>\n",
       "      <td>...</td>\n",
       "      <td>255.0</td>\n",
       "      <td>255.0</td>\n",
       "      <td>255.0</td>\n",
       "      <td>255.0</td>\n",
       "      <td>255.0</td>\n",
       "      <td>255.0</td>\n",
       "      <td>255.0</td>\n",
       "      <td>255.0</td>\n",
       "      <td>255.0</td>\n",
       "      <td>two</td>\n",
       "    </tr>\n",
       "    <tr>\n",
       "      <th>4</th>\n",
       "      <td>235.0</td>\n",
       "      <td>156.0</td>\n",
       "      <td>121.0</td>\n",
       "      <td>70.0</td>\n",
       "      <td>44.0</td>\n",
       "      <td>66.0</td>\n",
       "      <td>86.0</td>\n",
       "      <td>94.0</td>\n",
       "      <td>106.0</td>\n",
       "      <td>110.0</td>\n",
       "      <td>...</td>\n",
       "      <td>255.0</td>\n",
       "      <td>255.0</td>\n",
       "      <td>255.0</td>\n",
       "      <td>255.0</td>\n",
       "      <td>255.0</td>\n",
       "      <td>255.0</td>\n",
       "      <td>254.0</td>\n",
       "      <td>254.0</td>\n",
       "      <td>254.0</td>\n",
       "      <td>one</td>\n",
       "    </tr>\n",
       "  </tbody>\n",
       "</table>\n",
       "<p>5 rows × 2305 columns</p>\n",
       "</div>"
      ],
      "text/plain": [
       "       0      1      2      3      4      5      6      7      8      9  ...  \\\n",
       "0   22.0   23.0   24.0   24.0   24.0   22.0   20.0   24.0   25.0   26.0  ...   \n",
       "1  255.0  255.0  255.0  255.0  255.0  255.0  255.0  255.0  255.0  255.0  ...   \n",
       "2  173.0  187.0  168.0  118.0   63.0  118.0  107.0  131.0  164.0  119.0  ...   \n",
       "3   52.0   52.0   54.0   57.0   59.0   60.0   61.0   58.0   57.0   56.0  ...   \n",
       "4  235.0  156.0  121.0   70.0   44.0   66.0   86.0   94.0  106.0  110.0  ...   \n",
       "\n",
       "    2295   2296   2297   2298   2299   2300   2301   2302   2303  Class  \n",
       "0   24.0   24.0   24.0   24.0   24.0   24.0   23.0   23.0   22.0    two  \n",
       "1  200.0  226.0  243.0  253.0  246.0  240.0  249.0  247.0  242.0    six  \n",
       "2  255.0  255.0  255.0  255.0  255.0  255.0  255.0  255.0  255.0   four  \n",
       "3  255.0  255.0  255.0  255.0  255.0  255.0  255.0  255.0  255.0    two  \n",
       "4  255.0  255.0  255.0  255.0  255.0  255.0  254.0  254.0  254.0    one  \n",
       "\n",
       "[5 rows x 2305 columns]"
      ]
     },
     "execution_count": 34,
     "metadata": {},
     "output_type": "execute_result"
    }
   ],
   "source": [
    "Test.head()"
   ]
  },
  {
   "cell_type": "code",
   "execution_count": 40,
   "metadata": {},
   "outputs": [],
   "source": [
    "\"\"\" For testing \"\"\"\n",
    "\n",
    "X_Test = Test.drop('Class', axis = 1)\n",
    "\n",
    "y_test = Test['Class']"
   ]
  },
  {
   "cell_type": "code",
   "execution_count": 41,
   "metadata": {},
   "outputs": [],
   "source": [
    "\"\"\" Scale the test data \"\"\"\n",
    "sc = StandardScaler()\n",
    "X_Test = sc.fit_transform(X_Test)"
   ]
  },
  {
   "cell_type": "code",
   "execution_count": 37,
   "metadata": {},
   "outputs": [],
   "source": [
    "\"\"\" Set up the classifier \"\"\"\n",
    "classifier = svm.SVC(gamma=0.001)"
   ]
  },
  {
   "cell_type": "code",
   "execution_count": 39,
   "metadata": {},
   "outputs": [
    {
     "data": {
      "text/plain": [
       "SVC(gamma=0.001)"
      ]
     },
     "execution_count": 39,
     "metadata": {},
     "output_type": "execute_result"
    }
   ],
   "source": [
    "\"\"\" Fit the training data \"\"\"\n",
    "classifier.fit(X_train, y_train)"
   ]
  },
  {
   "cell_type": "code",
   "execution_count": 43,
   "metadata": {},
   "outputs": [],
   "source": [
    "\"\"\" Predict the test data \"\"\"\n",
    "predicted = classifier.predict(X_Test)"
   ]
  },
  {
   "cell_type": "code",
   "execution_count": 44,
   "metadata": {
    "scrolled": false
   },
   "outputs": [
    {
     "name": "stdout",
     "output_type": "stream",
     "text": [
      "Classification report for classifier SVC(gamma=0.001):\n",
      "              precision    recall  f1-score   support\n",
      "\n",
      "       eight       0.58      0.37      0.45       150\n",
      "        five       1.00      0.50      0.67        60\n",
      "        four       0.76      0.71      0.73       660\n",
      "        nine       0.64      0.43      0.52        90\n",
      "         one       0.57      0.79      0.66       720\n",
      "       seven       1.00      0.20      0.33        60\n",
      "         six       0.72      0.34      0.47        90\n",
      "       three       0.67      0.63      0.65       450\n",
      "         two       0.68      0.72      0.70       750\n",
      "        zero       0.50      0.05      0.09        60\n",
      "\n",
      "    accuracy                           0.66      3090\n",
      "   macro avg       0.71      0.47      0.53      3090\n",
      "weighted avg       0.67      0.66      0.65      3090\n",
      "\n",
      "\n",
      "Confusion matrix:\n",
      "[[ 55   0   0   4  62   0   5  15   9   0]\n",
      " [  0  30  30   0   0   0   0   0   0   0]\n",
      " [  0   0 469   0 103   0   0  58  30   0]\n",
      " [  3   0   0  39  27   0   0   0  21   0]\n",
      " [  0   0  34   0 572   0   1  13 100   0]\n",
      " [  2   0   0  10  30  12   5   0   1   0]\n",
      " [ 35   0   0   8  14   0  31   1   1   0]\n",
      " [  0   0  14   0  71   0   1 282  79   3]\n",
      " [  0   0  59   0  98   0   0  52 541   0]\n",
      " [  0   0  15   0  34   0   0   0   8   3]]\n"
     ]
    },
    {
     "data": {
      "image/png": "[encoded data removed]",
      "text/plain": [
       "<Figure size 432x288 with 2 Axes>"
      ]
     },
     "metadata": {
      "needs_background": "light"
     },
     "output_type": "display_data"
    }
   ],
   "source": [
    "\"\"\" Confusion matrix of the predictions using the test data set \"\"\"\n",
    "\n",
    "print(\"Classification report for classifier %s:\\n%s\\n\"\n",
    "      % (classifier, metrics.classification_report(y_test, predicted)))\n",
    "disp = metrics.plot_confusion_matrix(classifier, X_Test, y_test)\n",
    "disp.figure_.suptitle(\"Confusion Matrix\")\n",
    "print(\"Confusion matrix:\\n%s\" % disp.confusion_matrix)\n"
   ]
  },
  {
   "cell_type": "markdown",
   "metadata": {},
   "source": [
    "Predictions using the Train-Test-4000 dataset"
   ]
  },
  {
   "cell_type": "code",
   "execution_count": 46,
   "metadata": {},
   "outputs": [],
   "source": [
    "\"\"\" Read the 4000 Train and Test datasets \"\"\"\n",
    "Train4000 = pd.read_csv ('Train_Dataset_4000.csv')\n",
    "Test4000 = pd.read_csv ('Test_Dataset_4000.csv')"
   ]
  },
  {
   "cell_type": "code",
   "execution_count": 47,
   "metadata": {},
   "outputs": [],
   "source": [
    "\"\"\" For training and testing \"\"\"\n",
    "\n",
    "X4000_Train = Train4000.drop('Class', axis = 1)\n",
    "y4000_train = Train4000 ['Class']\n",
    "\n",
    "X4000_Test = Test4000.drop('Class', axis = 1)\n",
    "y4000_test = Test4000['Class']"
   ]
  },
  {
   "cell_type": "code",
   "execution_count": 48,
   "metadata": {},
   "outputs": [],
   "source": [
    "\"\"\" Scale the test data \"\"\"\n",
    "sc = StandardScaler()\n",
    "X4000_train = sc.fit_transform(X4000_Train)\n",
    "X4000_test = sc.fit_transform(X4000_Test)\n"
   ]
  },
  {
   "cell_type": "code",
   "execution_count": 49,
   "metadata": {},
   "outputs": [],
   "source": [
    "\"\"\" Set up the classifier \"\"\"\n",
    "classifier = svm.SVC(gamma=0.001)"
   ]
  },
  {
   "cell_type": "code",
   "execution_count": 50,
   "metadata": {},
   "outputs": [
    {
     "data": {
      "text/plain": [
       "SVC(gamma=0.001)"
      ]
     },
     "execution_count": 50,
     "metadata": {},
     "output_type": "execute_result"
    }
   ],
   "source": [
    "\"\"\" Fit the training data \"\"\"\n",
    "classifier.fit(X4000_train, y4000_train)"
   ]
  },
  {
   "cell_type": "code",
   "execution_count": 51,
   "metadata": {},
   "outputs": [],
   "source": [
    "\"\"\" Predict the test data \"\"\"\n",
    "predicted = classifier.predict(X4000_test)"
   ]
  },
  {
   "cell_type": "code",
   "execution_count": 52,
   "metadata": {
    "scrolled": true
   },
   "outputs": [
    {
     "name": "stdout",
     "output_type": "stream",
     "text": [
      "Classification report for classifier SVC(gamma=0.001):\n",
      "              precision    recall  f1-score   support\n",
      "\n",
      "       eight       0.85      0.60      0.70       376\n",
      "        five       1.00      0.66      0.80       145\n",
      "        four       0.83      0.83      0.83      1474\n",
      "        nine       0.83      0.65      0.73       202\n",
      "         one       0.68      0.86      0.76      1634\n",
      "       seven       1.00      0.54      0.70       146\n",
      "         six       0.84      0.60      0.70       242\n",
      "       three       0.74      0.75      0.74      1036\n",
      "         two       0.79      0.78      0.78      1691\n",
      "        zero       0.98      0.43      0.60       144\n",
      "\n",
      "    accuracy                           0.77      7090\n",
      "   macro avg       0.85      0.67      0.74      7090\n",
      "weighted avg       0.78      0.77      0.77      7090\n",
      "\n",
      "\n",
      "Confusion matrix:\n",
      "[[ 225    0    8    3   93    0   12   21   14    0]\n",
      " [   4   96   39    0    4    0    1    0    1    0]\n",
      " [   0    0 1227    0  131    0    0   56   60    0]\n",
      " [   4    0    0  131   53    0    0    2   12    0]\n",
      " [   0    0   53    0 1408    0    1   26  146    0]\n",
      " [   4    0    0   12   35   79   13    1    2    0]\n",
      " [  28    0   18   11   19    0  146    7   13    0]\n",
      " [   0    0   42    0  126    0    1  772   94    1]\n",
      " [   0    0   80    0  138    0    0  153 1320    0]\n",
      " [   0    0   16    0   53    0    0    0   13   62]]\n"
     ]
    },
    {
     "data": {
      "image/png": "[encoded data removed]",
      "text/plain": [
       "<Figure size 432x288 with 2 Axes>"
      ]
     },
     "metadata": {
      "needs_background": "light"
     },
     "output_type": "display_data"
    }
   ],
   "source": [
    "\"\"\" Confusion matrix of the predictions using the test data set \"\"\"\n",
    "\n",
    "print(\"Classification report for classifier %s:\\n%s\\n\"\n",
    "      % (classifier, metrics.classification_report(y4000_test, predicted)))\n",
    "disp = metrics.plot_confusion_matrix(classifier, X4000_test, y4000_test)\n",
    "disp.figure_.suptitle(\"Confusion Matrix\")\n",
    "print(\"Confusion matrix:\\n%s\" % disp.confusion_matrix)"
   ]
  },
  {
   "cell_type": "markdown",
   "metadata": {},
   "source": [
    "Predictions using the Train-Test-9000 dataset"
   ]
  },
  {
   "cell_type": "code",
   "execution_count": 56,
   "metadata": {},
   "outputs": [],
   "source": [
    "\"\"\" Read the 9000 Train and Test datasets \"\"\"\n",
    "Train9000 = pd.read_csv ('Train_Dataset_9000.csv')\n",
    "Test9000 = pd.read_csv ('Test_Dataset_9000.csv')"
   ]
  },
  {
   "cell_type": "code",
   "execution_count": 57,
   "metadata": {},
   "outputs": [],
   "source": [
    "\"\"\" For training and testing \"\"\"\n",
    "\n",
    "X9000_Train = Train9000.drop('Class', axis = 1)\n",
    "y9000_train = Train9000 ['Class']\n",
    "\n",
    "X9000_Test = Test9000.drop('Class', axis = 1)\n",
    "y9000_test = Test9000['Class']"
   ]
  },
  {
   "cell_type": "code",
   "execution_count": 58,
   "metadata": {},
   "outputs": [],
   "source": [
    "\"\"\" Scale the test data \"\"\"\n",
    "sc = StandardScaler()\n",
    "X9000_train = sc.fit_transform(X9000_Train)\n",
    "X9000_test = sc.fit_transform(X9000_Test)"
   ]
  },
  {
   "cell_type": "code",
   "execution_count": 59,
   "metadata": {},
   "outputs": [],
   "source": [
    "\"\"\" Set up the classifier \"\"\"\n",
    "classifier = svm.SVC(gamma=0.001)"
   ]
  },
  {
   "cell_type": "code",
   "execution_count": 60,
   "metadata": {},
   "outputs": [
    {
     "data": {
      "text/plain": [
       "SVC(gamma=0.001)"
      ]
     },
     "execution_count": 60,
     "metadata": {},
     "output_type": "execute_result"
    }
   ],
   "source": [
    "\"\"\" Fit the training data \"\"\"\n",
    "classifier.fit(X9000_train, y9000_train)"
   ]
  },
  {
   "cell_type": "code",
   "execution_count": 61,
   "metadata": {},
   "outputs": [],
   "source": [
    "\"\"\" Predict the test data \"\"\"\n",
    "predicted = classifier.predict(X9000_test)"
   ]
  },
  {
   "cell_type": "code",
   "execution_count": 62,
   "metadata": {},
   "outputs": [
    {
     "name": "stdout",
     "output_type": "stream",
     "text": [
      "Classification report for classifier SVC(gamma=0.001):\n",
      "              precision    recall  f1-score   support\n",
      "\n",
      "       eight       0.76      0.39      0.52       508\n",
      "        five       1.00      0.13      0.23       195\n",
      "        four       0.55      0.70      0.61      1838\n",
      "        nine       1.00      0.07      0.13       252\n",
      "         one       0.53      0.65      0.58      2063\n",
      "       seven       0.79      0.49      0.60       219\n",
      "         six       0.67      0.30      0.41       336\n",
      "       three       0.76      0.40      0.52      1308\n",
      "         two       0.52      0.70      0.59      2089\n",
      "        zero       0.64      0.12      0.20       192\n",
      "\n",
      "    accuracy                           0.56      9000\n",
      "   macro avg       0.72      0.39      0.44      9000\n",
      "weighted avg       0.61      0.56      0.54      9000\n",
      "\n",
      "\n",
      "Confusion matrix:\n",
      "[[ 200    0   70    0  183    1   28    1   25    0]\n",
      " [  20   25   30    0   30   26    8    2   54    0]\n",
      " [   0    0 1285    0  268    0    0   28  246   11]\n",
      " [  29    0    1   18   57    1   10    4  132    0]\n",
      " [   0    0  154    0 1332    0    0   28  549    0]\n",
      " [   6    0   24    0   25  107    4    5   48    0]\n",
      " [   8    0  129    0   48    0  101   18   32    0]\n",
      " [   0    0  427    0  123    0    0  521  237    0]\n",
      " [   0    0  225    0  327    0    0   81 1454    2]\n",
      " [   0    0    0    0  142    0    0    0   27   23]]\n"
     ]
    },
    {
     "data": {
      "image/png": "[encoded data removed]",
      "text/plain": [
       "<Figure size 432x288 with 2 Axes>"
      ]
     },
     "metadata": {
      "needs_background": "light"
     },
     "output_type": "display_data"
    }
   ],
   "source": [
    "\"\"\" Confusion matrix of the predictions using the test data set \"\"\"\n",
    "\n",
    "print(\"Classification report for classifier %s:\\n%s\\n\"\n",
    "      % (classifier, metrics.classification_report(y9000_test, predicted)))\n",
    "disp = metrics.plot_confusion_matrix(classifier, X9000_test, y9000_test)\n",
    "disp.figure_.suptitle(\"Confusion Matrix\")\n",
    "print(\"Confusion matrix:\\n%s\" % disp.confusion_matrix)"
   ]
  },
  {
   "cell_type": "markdown",
   "metadata": {},
   "source": [
    "Predictions using Training and Test datasets with Top 20 features"
   ]
  },
  {
   "cell_type": "code",
   "execution_count": 3,
   "metadata": {},
   "outputs": [],
   "source": [
    "\"\"\" Read the Exploratory Train and Test datasets \"\"\"\n",
    "Exploratory_Train = pd.read_csv ('Top_20_Exploratory_random.csv')\n",
    "Exploratory_Test = pd.read_csv ('Test_Exploratory_random.csv')"
   ]
  },
  {
   "cell_type": "code",
   "execution_count": 5,
   "metadata": {},
   "outputs": [],
   "source": [
    "\"\"\" For training and testing \"\"\"\n",
    "\n",
    "XExp_Train = Exploratory_Train.drop('Class', axis = 1)\n",
    "yExp_train = Exploratory_Train ['Class']\n",
    "\n",
    "XExp_Test = Exploratory_Test.drop('Class', axis = 1)\n",
    "yExp_test = Exploratory_Test['Class']"
   ]
  },
  {
   "cell_type": "code",
   "execution_count": 6,
   "metadata": {},
   "outputs": [],
   "source": [
    "\"\"\" Scale the test data \"\"\"\n",
    "sc = StandardScaler()\n",
    "XExp_train = sc.fit_transform(XExp_Train)\n",
    "XExp_test = sc.fit_transform(XExp_Test)"
   ]
  },
  {
   "cell_type": "code",
   "execution_count": 7,
   "metadata": {},
   "outputs": [],
   "source": [
    "\"\"\" Set up the classifier \"\"\"\n",
    "classifier = svm.SVC(gamma=0.001)"
   ]
  },
  {
   "cell_type": "code",
   "execution_count": 8,
   "metadata": {},
   "outputs": [
    {
     "data": {
      "text/plain": [
       "SVC(gamma=0.001)"
      ]
     },
     "execution_count": 8,
     "metadata": {},
     "output_type": "execute_result"
    }
   ],
   "source": [
    "\"\"\" Fit the training data \"\"\"\n",
    "classifier.fit(XExp_train,yExp_train)"
   ]
  },
  {
   "cell_type": "code",
   "execution_count": 9,
   "metadata": {},
   "outputs": [],
   "source": [
    "\"\"\" Predict the test data \"\"\"\n",
    "predicted = classifier.predict(XExp_test)"
   ]
  },
  {
   "cell_type": "code",
   "execution_count": 12,
   "metadata": {
    "scrolled": true
   },
   "outputs": [
    {
     "name": "stdout",
     "output_type": "stream",
     "text": [
      "Classification report for classifier SVC(gamma=0.001):\n",
      "              precision    recall  f1-score   support\n",
      "\n",
      "       eight       0.62      0.65      0.63       150\n",
      "        five       0.67      0.50      0.57        60\n",
      "        four       0.76      0.85      0.80       660\n",
      "        nine       0.75      0.58      0.65        90\n",
      "         one       0.82      0.82      0.82       720\n",
      "       seven       0.85      0.48      0.62        60\n",
      "         six       0.59      0.39      0.47        90\n",
      "       three       0.74      0.94      0.83       450\n",
      "         two       0.89      0.80      0.84       750\n",
      "        zero       0.75      0.25      0.38        60\n",
      "\n",
      "    accuracy                           0.79      3090\n",
      "   macro avg       0.74      0.63      0.66      3090\n",
      "weighted avg       0.79      0.79      0.78      3090\n",
      "\n",
      "\n",
      "\n",
      "Confusion matrix:\n",
      "[[ 97   3   0  12   3   0  22  12   1   0]\n",
      " [  0  30  29   0   0   0   0   1   0   0]\n",
      " [  1   0 562   3  40   0   0  28  26   0]\n",
      " [ 23  11   0  52   0   1   1   0   2   0]\n",
      " [  0   0  88   0 593   0   0  12  27   0]\n",
      " [  0   1   0   0  29  29   0   0   1   0]\n",
      " [ 36   0   0   2   6   4  35   1   1   5]\n",
      " [  0   0   4   0   8   0   1 421  16   0]\n",
      " [  0   0  46   0  11   0   0  91 602   0]\n",
      " [  0   0   8   0  37   0   0   0   0  15]]\n"
     ]
    },
    {
     "data": {
      "image/png": "[encoded data removed]",
      "text/plain": [
       "<Figure size 432x288 with 2 Axes>"
      ]
     },
     "metadata": {
      "needs_background": "light"
     },
     "output_type": "display_data"
    }
   ],
   "source": [
    "\"\"\" Confusion matrix of the predictions using the test data set \"\"\"\n",
    "\n",
    "print(\"Classification report for classifier %s:\\n%s\\n\\n\"\n",
    "      % (classifier, metrics.classification_report(yExp_test, predicted)))\n",
    "disp = metrics.plot_confusion_matrix(classifier, XExp_test, yExp_test)\n",
    "disp.figure_.suptitle(\"Confusion Matrix\")\n",
    "print(\"Confusion matrix:\\n%s\" % disp.confusion_matrix)"
   ]
  },
  {
   "cell_type": "code",
   "execution_count": 23,
   "metadata": {},
   "outputs": [
    {
     "data": {
      "image/png": "[encoded data removed]",
      "text/plain": [
       "<Figure size 432x288 with 1 Axes>"
      ]
     },
     "metadata": {
      "needs_background": "light"
     },
     "output_type": "display_data"
    }
   ],
   "source": [
    "pyplot.subplot(212)\n",
    "Datasets = ['Cross Validation 10 fold', 'Train-Test Split ', 'Unseen Test Data',\n",
    "            'Train-Test-4000', 'Train-Test-9000', 'Exploratory']\n",
    "\n",
    "Accuracy = [0.94, 0.93, 0.66, 0.77, 0.56,\n",
    "         0.79]\n",
    "\n",
    "pyplot.title('Linear Classification Accuracy across datasets')\n",
    "pyplot.plot(Datasets, Accuracy, label = 'Accuracy')\n",
    "\n",
    "pyplot.xticks(rotation=90)\n",
    "pyplot.ylabel('Accuracy')\n",
    "pyplot.xlabel('Datasets')\n",
    "pyplot.legend()\n",
    "pyplot.show()"
   ]
  }
 ],
 "metadata": {
  "kernelspec": {
   "display_name": "Python 3",
   "language": "python",
   "name": "python3"
  },
  "language_info": {
   "codemirror_mode": {
    "name": "ipython",
    "version": 3
   },
   "file_extension": ".py",
   "mimetype": "text/x-python",
   "name": "python",
   "nbconvert_exporter": "python",
   "pygments_lexer": "ipython3",
   "version": "3.8.3"
  }
 },
 "nbformat": 4,
 "nbformat_minor": 4
}
