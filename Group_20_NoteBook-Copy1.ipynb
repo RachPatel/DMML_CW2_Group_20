{
 "cells": [
  {
   "cell_type": "markdown",
   "metadata": {},
   "source": [
    "<h1> Group 20 - DMML Coursework 2 <h1>\n",
    "    \n",
    "<hr>"
   ]
  },
  {
   "cell_type": "markdown",
   "metadata": {},
   "source": [
    "# Data\n",
    "Setup full data set:"
   ]
  },
  {
   "cell_type": "code",
   "execution_count": 63,
   "metadata": {},
   "outputs": [
    {
     "name": "stdout",
     "output_type": "stream",
     "text": [
      "          0      1      2      3      4      5      6      7      8      9  \\\n",
      "0      78.0   77.0   76.0   82.0   87.0   92.0  104.0  119.0  117.0  120.0   \n",
      "1      73.0   75.0   79.0   78.0   76.0   75.0   89.0  107.0  133.0  125.0   \n",
      "2      72.0   75.0   79.0   77.0   81.0   89.0  105.0  109.0   86.0   90.0   \n",
      "3      67.0   70.0   74.0   80.0   93.0  107.0  110.0   96.0   69.0  100.0   \n",
      "4      74.0   74.0   73.0   72.0   77.0   87.0  104.0  109.0   84.0   83.0   \n",
      "...     ...    ...    ...    ...    ...    ...    ...    ...    ...    ...   \n",
      "9685  247.0  220.0  254.0  213.0  129.0  208.0  254.0  255.0  255.0  255.0   \n",
      "9686  151.0  118.0  254.0  255.0  255.0  255.0  254.0  254.0  254.0  252.0   \n",
      "9687  255.0  255.0  255.0  255.0  255.0  255.0  255.0  255.0  255.0  255.0   \n",
      "9688  255.0  253.0  255.0  255.0  255.0  255.0  255.0  255.0  255.0  255.0   \n",
      "9689  252.0  189.0  238.0  255.0  255.0  245.0  219.0  212.0  140.0   40.0   \n",
      "\n",
      "      ...  2295  2296   2297  2298  2299  2300   2301   2302   2303  Class  \n",
      "0     ...  79.0  72.0   76.0  83.0  95.0  99.0   98.0   95.0   94.0      0  \n",
      "1     ...  93.0  85.0   77.0  69.0  73.0  83.0  100.0  101.0  101.0      0  \n",
      "2     ...  95.0  88.0   80.0  73.0  71.0  74.0   80.0   89.0   95.0      0  \n",
      "3     ...  92.0  87.0   82.0  77.0  72.0  70.0   72.0   81.0   88.0      0  \n",
      "4     ...  98.0  99.0  100.0  99.0  89.0  78.0   66.0   68.0   72.0      0  \n",
      "...   ...   ...   ...    ...   ...   ...   ...    ...    ...    ...    ...  \n",
      "9685  ...  29.0  27.0   26.0  25.0  23.0  22.0   26.0   26.0   27.0      9  \n",
      "9686  ...  31.0  30.0   30.0  30.0  30.0  29.0   26.0   28.0   27.0      9  \n",
      "9687  ...  49.0  42.0   36.0  33.0  36.0  39.0   31.0   39.0   43.0      9  \n",
      "9688  ...  27.0  26.0   27.0  35.0  28.0  27.0   26.0   26.0   24.0      9  \n",
      "9689  ...  23.0  23.0   30.0  32.0  23.0  23.0   26.0   20.0   17.0      9  \n",
      "\n",
      "[9690 rows x 2305 columns]\n"
     ]
    }
   ],
   "source": [
    "# Python ≥3.5 is required\n",
    "import sys\n",
    "assert sys.version_info >= (3, 5)\n",
    "# Scikit-Learn ≥0.20 is required\n",
    "import sklearn\n",
    "assert sklearn.__version__ >= \"0.20\"\n",
    "# Common imports\n",
    "import numpy as np\n",
    "import os\n",
    "import tarfile\n",
    "import urllib\n",
    "import pandas as pd\n",
    "# To plot pretty figures\n",
    "%matplotlib inline\n",
    "import matplotlib as mpl\n",
    "import matplotlib.pyplot as plt\n",
    "\n",
    "#read the attribute csvs file into respective dataframes\n",
    "X = pd.read_csv ('x_train_gr_smpl.csv')\n",
    "\n",
    "\n",
    "# read the class attribute file into Y datafram\n",
    "Y = pd.read_csv('y_train_smpl.csv')\n",
    "Y.columns = ['Class']\n",
    "\n",
    "#join the two such that Y is the last column\n",
    "XYraw = pd.concat([X,Y], axis=1)\n",
    "#check the concatination\n",
    "print(XYraw)"
   ]
  },
  {
   "cell_type": "code",
   "execution_count": 64,
   "metadata": {},
   "outputs": [
    {
     "name": "stdout",
     "output_type": "stream",
     "text": [
      "          0      1      2      3      4      5      6      7      8      9  \\\n",
      "0      22.0   23.0   25.0   24.0   24.0   26.0   25.0   24.0   23.0   23.0   \n",
      "1      85.0   83.0   82.0   81.0   80.0   79.0   80.0   82.0   83.0   84.0   \n",
      "2      17.0   14.0   26.0   29.0   31.0   28.0   25.0   18.0   49.0   73.0   \n",
      "3      22.0   22.0   22.0   22.0   23.0   26.0   31.0   35.0   38.0   35.0   \n",
      "4     177.0  177.0  179.0  178.0  177.0  175.0  175.0  177.0  177.0  178.0   \n",
      "...     ...    ...    ...    ...    ...    ...    ...    ...    ...    ...   \n",
      "9685   23.0   22.0   24.0   22.0   21.0   24.0   22.0   18.0   16.0   16.0   \n",
      "9686   27.0   25.0   28.0   37.0   36.0   32.0   27.0   21.0   19.0   19.0   \n",
      "9687   73.0   82.0   91.0  122.0  124.0  120.0  112.0   98.0   90.0   89.0   \n",
      "9688  156.0  158.0  161.0  161.0  157.0  154.0  155.0  153.0  154.0  155.0   \n",
      "9689   30.0   32.0   28.0   51.0  176.0  232.0  145.0   78.0   77.0  122.0   \n",
      "\n",
      "      ...   2295   2296   2297   2298   2299   2300   2301   2302   2303  \\\n",
      "0     ...   23.0   24.0   23.0   22.0   23.0   24.0   25.0   24.0   23.0   \n",
      "1     ...   62.0   58.0   57.0   56.0   54.0   52.0   52.0   52.0   54.0   \n",
      "2     ...   16.0   13.0   11.0   10.0   11.0   11.0   12.0   14.0   17.0   \n",
      "3     ...   23.0   25.0   26.0   26.0   25.0   26.0   26.0   27.0   27.0   \n",
      "4     ...   12.0   13.0   13.0   13.0   14.0   15.0   17.0   16.0   15.0   \n",
      "...   ...    ...    ...    ...    ...    ...    ...    ...    ...    ...   \n",
      "9685  ...   39.0   31.0   27.0   26.0   25.0   24.0   22.0   22.0   25.0   \n",
      "9686  ...   29.0   37.0   50.0   52.0   51.0   48.0   43.0   39.0   37.0   \n",
      "9687  ...   52.0   64.0   90.0   93.0  107.0  105.0   74.0   43.0   45.0   \n",
      "9688  ...  161.0  159.0  151.0  144.0  144.0  153.0  158.0  163.0  165.0   \n",
      "9689  ...   32.0   27.0   27.0   27.0   26.0   26.0   25.0   25.0   25.0   \n",
      "\n",
      "      Class  \n",
      "0         3  \n",
      "1         1  \n",
      "2         2  \n",
      "3         1  \n",
      "4         3  \n",
      "...     ...  \n",
      "9685      8  \n",
      "9686      2  \n",
      "9687      2  \n",
      "9688      2  \n",
      "9689      2  \n",
      "\n",
      "[9690 rows x 2305 columns]\n"
     ]
    }
   ],
   "source": [
    "#randomise \n",
    "XYraw_ran = XYraw.sample(frac=1).reset_index(drop=True)\n",
    "print(XYraw_ran)"
   ]
  },
  {
   "cell_type": "code",
   "execution_count": 65,
   "metadata": {},
   "outputs": [],
   "source": [
    "#generate this as a csv to directly feed into analyses on independent notebooks\n",
    "XYraw_ran.to_csv('For_10_Fold_Cross_Validation.csv', index = False)"
   ]
  },
  {
   "cell_type": "markdown",
   "metadata": {},
   "source": [
    "Split Data into data and expected classes:"
   ]
  },
  {
   "cell_type": "code",
   "execution_count": 66,
   "metadata": {},
   "outputs": [
    {
     "data": {
      "text/html": [
       "<div>\n",
       "<style scoped>\n",
       "    .dataframe tbody tr th:only-of-type {\n",
       "        vertical-align: middle;\n",
       "    }\n",
       "\n",
       "    .dataframe tbody tr th {\n",
       "        vertical-align: top;\n",
       "    }\n",
       "\n",
       "    .dataframe thead th {\n",
       "        text-align: right;\n",
       "    }\n",
       "</style>\n",
       "<table border=\"1\" class=\"dataframe\">\n",
       "  <thead>\n",
       "    <tr style=\"text-align: right;\">\n",
       "      <th></th>\n",
       "      <th>0</th>\n",
       "      <th>1</th>\n",
       "      <th>2</th>\n",
       "      <th>3</th>\n",
       "      <th>4</th>\n",
       "      <th>5</th>\n",
       "      <th>6</th>\n",
       "      <th>7</th>\n",
       "      <th>8</th>\n",
       "      <th>9</th>\n",
       "      <th>...</th>\n",
       "      <th>2295</th>\n",
       "      <th>2296</th>\n",
       "      <th>2297</th>\n",
       "      <th>2298</th>\n",
       "      <th>2299</th>\n",
       "      <th>2300</th>\n",
       "      <th>2301</th>\n",
       "      <th>2302</th>\n",
       "      <th>2303</th>\n",
       "      <th>Class</th>\n",
       "    </tr>\n",
       "  </thead>\n",
       "  <tbody>\n",
       "    <tr>\n",
       "      <th>0</th>\n",
       "      <td>22.0</td>\n",
       "      <td>23.0</td>\n",
       "      <td>25.0</td>\n",
       "      <td>24.0</td>\n",
       "      <td>24.0</td>\n",
       "      <td>26.0</td>\n",
       "      <td>25.0</td>\n",
       "      <td>24.0</td>\n",
       "      <td>23.0</td>\n",
       "      <td>23.0</td>\n",
       "      <td>...</td>\n",
       "      <td>23.0</td>\n",
       "      <td>24.0</td>\n",
       "      <td>23.0</td>\n",
       "      <td>22.0</td>\n",
       "      <td>23.0</td>\n",
       "      <td>24.0</td>\n",
       "      <td>25.0</td>\n",
       "      <td>24.0</td>\n",
       "      <td>23.0</td>\n",
       "      <td>3</td>\n",
       "    </tr>\n",
       "    <tr>\n",
       "      <th>1</th>\n",
       "      <td>85.0</td>\n",
       "      <td>83.0</td>\n",
       "      <td>82.0</td>\n",
       "      <td>81.0</td>\n",
       "      <td>80.0</td>\n",
       "      <td>79.0</td>\n",
       "      <td>80.0</td>\n",
       "      <td>82.0</td>\n",
       "      <td>83.0</td>\n",
       "      <td>84.0</td>\n",
       "      <td>...</td>\n",
       "      <td>62.0</td>\n",
       "      <td>58.0</td>\n",
       "      <td>57.0</td>\n",
       "      <td>56.0</td>\n",
       "      <td>54.0</td>\n",
       "      <td>52.0</td>\n",
       "      <td>52.0</td>\n",
       "      <td>52.0</td>\n",
       "      <td>54.0</td>\n",
       "      <td>1</td>\n",
       "    </tr>\n",
       "    <tr>\n",
       "      <th>2</th>\n",
       "      <td>17.0</td>\n",
       "      <td>14.0</td>\n",
       "      <td>26.0</td>\n",
       "      <td>29.0</td>\n",
       "      <td>31.0</td>\n",
       "      <td>28.0</td>\n",
       "      <td>25.0</td>\n",
       "      <td>18.0</td>\n",
       "      <td>49.0</td>\n",
       "      <td>73.0</td>\n",
       "      <td>...</td>\n",
       "      <td>16.0</td>\n",
       "      <td>13.0</td>\n",
       "      <td>11.0</td>\n",
       "      <td>10.0</td>\n",
       "      <td>11.0</td>\n",
       "      <td>11.0</td>\n",
       "      <td>12.0</td>\n",
       "      <td>14.0</td>\n",
       "      <td>17.0</td>\n",
       "      <td>2</td>\n",
       "    </tr>\n",
       "    <tr>\n",
       "      <th>3</th>\n",
       "      <td>22.0</td>\n",
       "      <td>22.0</td>\n",
       "      <td>22.0</td>\n",
       "      <td>22.0</td>\n",
       "      <td>23.0</td>\n",
       "      <td>26.0</td>\n",
       "      <td>31.0</td>\n",
       "      <td>35.0</td>\n",
       "      <td>38.0</td>\n",
       "      <td>35.0</td>\n",
       "      <td>...</td>\n",
       "      <td>23.0</td>\n",
       "      <td>25.0</td>\n",
       "      <td>26.0</td>\n",
       "      <td>26.0</td>\n",
       "      <td>25.0</td>\n",
       "      <td>26.0</td>\n",
       "      <td>26.0</td>\n",
       "      <td>27.0</td>\n",
       "      <td>27.0</td>\n",
       "      <td>1</td>\n",
       "    </tr>\n",
       "    <tr>\n",
       "      <th>4</th>\n",
       "      <td>177.0</td>\n",
       "      <td>177.0</td>\n",
       "      <td>179.0</td>\n",
       "      <td>178.0</td>\n",
       "      <td>177.0</td>\n",
       "      <td>175.0</td>\n",
       "      <td>175.0</td>\n",
       "      <td>177.0</td>\n",
       "      <td>177.0</td>\n",
       "      <td>178.0</td>\n",
       "      <td>...</td>\n",
       "      <td>12.0</td>\n",
       "      <td>13.0</td>\n",
       "      <td>13.0</td>\n",
       "      <td>13.0</td>\n",
       "      <td>14.0</td>\n",
       "      <td>15.0</td>\n",
       "      <td>17.0</td>\n",
       "      <td>16.0</td>\n",
       "      <td>15.0</td>\n",
       "      <td>3</td>\n",
       "    </tr>\n",
       "  </tbody>\n",
       "</table>\n",
       "<p>5 rows × 2305 columns</p>\n",
       "</div>"
      ],
      "text/plain": [
       "       0      1      2      3      4      5      6      7      8      9  ...  \\\n",
       "0   22.0   23.0   25.0   24.0   24.0   26.0   25.0   24.0   23.0   23.0  ...   \n",
       "1   85.0   83.0   82.0   81.0   80.0   79.0   80.0   82.0   83.0   84.0  ...   \n",
       "2   17.0   14.0   26.0   29.0   31.0   28.0   25.0   18.0   49.0   73.0  ...   \n",
       "3   22.0   22.0   22.0   22.0   23.0   26.0   31.0   35.0   38.0   35.0  ...   \n",
       "4  177.0  177.0  179.0  178.0  177.0  175.0  175.0  177.0  177.0  178.0  ...   \n",
       "\n",
       "   2295  2296  2297  2298  2299  2300  2301  2302  2303  Class  \n",
       "0  23.0  24.0  23.0  22.0  23.0  24.0  25.0  24.0  23.0      3  \n",
       "1  62.0  58.0  57.0  56.0  54.0  52.0  52.0  52.0  54.0      1  \n",
       "2  16.0  13.0  11.0  10.0  11.0  11.0  12.0  14.0  17.0      2  \n",
       "3  23.0  25.0  26.0  26.0  25.0  26.0  26.0  27.0  27.0      1  \n",
       "4  12.0  13.0  13.0  13.0  14.0  15.0  17.0  16.0  15.0      3  \n",
       "\n",
       "[5 rows x 2305 columns]"
      ]
     },
     "execution_count": 66,
     "metadata": {},
     "output_type": "execute_result"
    }
   ],
   "source": [
    "#read in data from csv \n",
    "training_Data = pd.read_csv(\"For_10_Fold_Cross_Validation.csv\")\n",
    "\n",
    "#look at shape\n",
    "training_Data.shape \n",
    "\n",
    "#look at data format\n",
    "training_Data.head()"
   ]
  },
  {
   "cell_type": "code",
   "execution_count": 67,
   "metadata": {},
   "outputs": [],
   "source": [
    "#define the data to be used as all but the class attribute from the data \n",
    "X_Train = training_Data.drop('Class', axis = 1)\n",
    "\n",
    "#define the expexted value to be the class column of the input data \n",
    "y_train = training_Data['Class']"
   ]
  },
  {
   "cell_type": "markdown",
   "metadata": {},
   "source": [
    "Scale data:"
   ]
  },
  {
   "cell_type": "code",
   "execution_count": 68,
   "metadata": {},
   "outputs": [],
   "source": [
    "from sklearn.preprocessing import StandardScaler\n",
    "\n",
    "sc = StandardScaler()\n",
    "X_train = sc.fit_transform(X_Train)"
   ]
  },
  {
   "cell_type": "markdown",
   "metadata": {},
   "source": [
    "<b> Setup Test Data </b>\n",
    "\n",
    "Import test data from file and set it as t_test and y_test"
   ]
  },
  {
   "cell_type": "code",
   "execution_count": 69,
   "metadata": {},
   "outputs": [],
   "source": [
    "testData = pd.read_csv ('Test_Dataset_Linear.csv')\n",
    "\n",
    "X_Test = testData.drop('Class', axis = 1)\n",
    "y_test = testData['Class']\n",
    "\n",
    "\n",
    "X_test = sc.fit_transform(X_Test)"
   ]
  },
  {
   "cell_type": "markdown",
   "metadata": {},
   "source": [
    "<b>Setup 4000 Split of test data</b>\n",
    "\n",
    "Take 4000 instances from the original training file and add them to the test file"
   ]
  },
  {
   "cell_type": "code",
   "execution_count": 70,
   "metadata": {},
   "outputs": [
    {
     "data": {
      "text/plain": [
       "9690"
      ]
     },
     "execution_count": 70,
     "metadata": {},
     "output_type": "execute_result"
    }
   ],
   "source": [
    "#Check length of training data\n",
    "len(training_Data)"
   ]
  },
  {
   "cell_type": "code",
   "execution_count": 71,
   "metadata": {},
   "outputs": [
    {
     "data": {
      "text/plain": [
       "4000"
      ]
     },
     "execution_count": 71,
     "metadata": {},
     "output_type": "execute_result"
    }
   ],
   "source": [
    "#split data into two divisions\n",
    "data_split4000, data_split5690= training_Data[:4000], training_Data[4000:]\n",
    "\n",
    "#test new split \n",
    "len(data_split4000)"
   ]
  },
  {
   "cell_type": "code",
   "execution_count": 72,
   "metadata": {},
   "outputs": [],
   "source": [
    "#merge test and 4000 cases from above \n",
    "testData_with4000 =pd.concat([testData, data_split4000])"
   ]
  },
  {
   "cell_type": "code",
   "execution_count": 73,
   "metadata": {},
   "outputs": [
    {
     "data": {
      "text/plain": [
       "3090"
      ]
     },
     "execution_count": 73,
     "metadata": {},
     "output_type": "execute_result"
    }
   ],
   "source": [
    "#size of testData before addition\n",
    "len(testData)"
   ]
  },
  {
   "cell_type": "code",
   "execution_count": 74,
   "metadata": {},
   "outputs": [
    {
     "data": {
      "text/plain": [
       "7090"
      ]
     },
     "execution_count": 74,
     "metadata": {},
     "output_type": "execute_result"
    }
   ],
   "source": [
    "#check items have been added to testData\n",
    "len(testData_with4000)"
   ]
  },
  {
   "cell_type": "code",
   "execution_count": 75,
   "metadata": {},
   "outputs": [],
   "source": [
    "#setup training data\n",
    "X_Train_4000Split = data_split5690.drop('Class', axis = 1)\n",
    "y_train_4000Split = data_split5690['Class']\n",
    "\n",
    "\n",
    "#setup test data\n",
    "X_Test_4000Split = testData_with4000.drop('Class', axis = 1)\n",
    "y_test_4000Split = testData_with4000['Class']\n",
    "\n",
    "\n",
    "\n",
    "sc = StandardScaler()\n",
    "X_train_4000Split = sc.fit_transform(X_Train_4000Split)\n",
    "X_test_4000Split = sc.fit_transform(X_Test_4000Split)"
   ]
  },
  {
   "cell_type": "markdown",
   "metadata": {},
   "source": [
    "<b>Setup 9000 Split of test data</b>\n",
    "\n",
    "Take 9000 instances from the original training file and add them to the test file"
   ]
  },
  {
   "cell_type": "code",
   "execution_count": 76,
   "metadata": {},
   "outputs": [
    {
     "data": {
      "text/plain": [
       "9690"
      ]
     },
     "execution_count": 76,
     "metadata": {},
     "output_type": "execute_result"
    }
   ],
   "source": [
    "#Check length of training data\n",
    "len(training_Data)"
   ]
  },
  {
   "cell_type": "code",
   "execution_count": 77,
   "metadata": {},
   "outputs": [
    {
     "data": {
      "text/plain": [
       "9000"
      ]
     },
     "execution_count": 77,
     "metadata": {},
     "output_type": "execute_result"
    }
   ],
   "source": [
    "#split data into two divisions\n",
    "data_split9000, data_split690= training_Data[:9000], training_Data[9000:]\n",
    "\n",
    "#test new split \n",
    "len(data_split9000)"
   ]
  },
  {
   "cell_type": "code",
   "execution_count": 78,
   "metadata": {},
   "outputs": [],
   "source": [
    "#merge test and 4000 cases from above \n",
    "testData_with9000 =pd.concat([testData, data_split9000])"
   ]
  },
  {
   "cell_type": "code",
   "execution_count": 79,
   "metadata": {},
   "outputs": [
    {
     "data": {
      "text/plain": [
       "3090"
      ]
     },
     "execution_count": 79,
     "metadata": {},
     "output_type": "execute_result"
    }
   ],
   "source": [
    "#size of testData before addition \n",
    "len(testData)"
   ]
  },
  {
   "cell_type": "code",
   "execution_count": 80,
   "metadata": {},
   "outputs": [
    {
     "data": {
      "text/plain": [
       "12090"
      ]
     },
     "execution_count": 80,
     "metadata": {},
     "output_type": "execute_result"
    }
   ],
   "source": [
    "#check items have been added to testData\n",
    "len(testData_with9000)"
   ]
  },
  {
   "cell_type": "code",
   "execution_count": 81,
   "metadata": {},
   "outputs": [],
   "source": [
    "#setup training data\n",
    "X_Train_9000Split = data_split690.drop('Class', axis = 1)\n",
    "y_train_9000Split = data_split690['Class']\n",
    "\n",
    "\n",
    "#setup test data\n",
    "X_Test_9000Split = testData_with4000.drop('Class', axis = 1)\n",
    "y_test_9000Split = testData_with4000['Class']\n",
    "\n",
    "#scale data\n",
    "X_train_9000Split = sc.fit_transform(X_Train_9000Split)\n",
    "X_test_9000Split = sc.fit_transform(X_Test_9000Split)"
   ]
  },
  {
   "cell_type": "markdown",
   "metadata": {},
   "source": [
    "<h2> Neural Networks <h2>\n",
    "   <hr>"
   ]
  },
  {
   "cell_type": "markdown",
   "metadata": {},
   "source": [
    "<h3> Linear Classifier <h3>"
   ]
  },
  {
   "cell_type": "code",
   "execution_count": 82,
   "metadata": {},
   "outputs": [],
   "source": [
    "from sklearn import linear_model\n",
    "import pandas as pd\n",
    "import numpy as np"
   ]
  },
  {
   "cell_type": "code",
   "execution_count": 83,
   "metadata": {},
   "outputs": [],
   "source": [
    "regr = linear_model.LinearRegression()"
   ]
  },
  {
   "cell_type": "code",
   "execution_count": 84,
   "metadata": {},
   "outputs": [
    {
     "data": {
      "text/plain": [
       "LinearRegression()"
      ]
     },
     "execution_count": 84,
     "metadata": {},
     "output_type": "execute_result"
    }
   ],
   "source": [
    "regr.fit(X_train, y_train)"
   ]
  },
  {
   "cell_type": "code",
   "execution_count": 85,
   "metadata": {},
   "outputs": [
    {
     "name": "stdout",
     "output_type": "stream",
     "text": [
      "[-0.22573113  0.48597554 -0.76214387 ... -0.41743961  0.12059639\n",
      "  0.01184512]\n"
     ]
    }
   ],
   "source": [
    "print(regr.coef_)"
   ]
  },
  {
   "cell_type": "code",
   "execution_count": 86,
   "metadata": {},
   "outputs": [
    {
     "data": {
      "text/plain": [
       "3.449489488059733"
      ]
     },
     "execution_count": 86,
     "metadata": {},
     "output_type": "execute_result"
    }
   ],
   "source": [
    "np.mean((regr.predict(X_test) - y_test)**2)"
   ]
  },
  {
   "cell_type": "code",
   "execution_count": 88,
   "metadata": {},
   "outputs": [
    {
     "data": {
      "text/plain": [
       "0.22849361262331425"
      ]
     },
     "execution_count": 88,
     "metadata": {},
     "output_type": "execute_result"
    }
   ],
   "source": [
    "# Explained variance score: 1 is perfect prediction\n",
    "# and 0 means that there is no linear relationship\n",
    "# between X and y.\n",
    "regr.score(X_test, y_test)"
   ]
  },
  {
   "cell_type": "code",
   "execution_count": null,
   "metadata": {},
   "outputs": [],
   "source": []
  }
 ],
 "metadata": {
  "kernelspec": {
   "display_name": "Python 3",
   "language": "python",
   "name": "python3"
  },
  "language_info": {
   "codemirror_mode": {
    "name": "ipython",
    "version": 3
   },
   "file_extension": ".py",
   "mimetype": "text/x-python",
   "name": "python",
   "nbconvert_exporter": "python",
   "pygments_lexer": "ipython3",
   "version": "3.8.3"
  }
 },
 "nbformat": 4,
 "nbformat_minor": 4
}
