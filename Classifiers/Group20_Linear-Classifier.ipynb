{
 "cells": [
  {
   "cell_type": "markdown",
   "metadata": {},
   "source": [
    "<h3> Import Data <h3>"
   ]
  },
  {
   "cell_type": "code",
   "execution_count": null,
   "metadata": {},
   "outputs": [],
   "source": [
    "# Python ≥3.5 is required\n",
    "import sys\n",
    "assert sys.version_info >= (3, 5)\n",
    "# Scikit-Learn ≥0.20 is required\n",
    "import sklearn\n",
    "assert sklearn.__version__ >= \"0.20\"\n",
    "# Common imports\n",
    "import numpy as np\n",
    "import os\n",
    "import tarfile\n",
    "import urllib\n",
    "import pandas as pd\n",
    "# To plot pretty figures\n",
    "%matplotlib inline\n",
    "import matplotlib as mpl\n",
    "import matplotlib.pyplot as plt\n",
    "from sklearn.preprocessing import StandardScaler\n",
    "\n",
    "# Setup SVC\n",
    "\n",
    "from sklearn.svm import SVC"
   ]
  },
  {
   "cell_type": "markdown",
   "metadata": {},
   "source": [
    "<h4> Import training data <h4>"
   ]
  },
  {
   "cell_type": "code",
   "execution_count": null,
   "metadata": {},
   "outputs": [],
   "source": [
    "#read in data from csv \n",
    "training_Data = pd.read_csv(\"For_10_Fold_Cross_Validation.csv\")\n",
    "\n",
    "#look at shape\n",
    "training_Data.shape \n",
    "\n",
    "#look at data format\n",
    "training_Data.head()"
   ]
  },
  {
   "cell_type": "code",
   "execution_count": null,
   "metadata": {},
   "outputs": [],
   "source": [
    "#define the data to be used as all but the class attribute from the data \n",
    "X_Train = training_Data.drop('Class', axis = 1)\n",
    "\n",
    "#define the expexted value to be the class column of the input data \n",
    "y_train = training_Data['Class']"
   ]
  },
  {
   "cell_type": "code",
   "execution_count": null,
   "metadata": {},
   "outputs": [],
   "source": [
    "from sklearn.preprocessing import StandardScaler\n",
    "\n",
    "sc = StandardScaler()\n",
    "X_train = sc.fit_transform(X_Train)\n"
   ]
  },
  {
   "cell_type": "markdown",
   "metadata": {},
   "source": [
    "<h4> Import test data <h4>"
   ]
  },
  {
   "cell_type": "code",
   "execution_count": null,
   "metadata": {},
   "outputs": [],
   "source": [
    "testData = pd.read_csv ('Test_Dataset.csv')\n",
    "\n",
    "X_Test = testData.drop('Class', axis = 1)\n",
    "y_test = testData['Class']\n",
    "\n",
    "\n",
    "X_test = sc.fit_transform(X_Test)"
   ]
  },
  {
   "cell_type": "markdown",
   "metadata": {},
   "source": [
    "<h4> Import 4000Split data <h4>"
   ]
  },
  {
   "cell_type": "code",
   "execution_count": null,
   "metadata": {},
   "outputs": [],
   "source": [
    "#Read in data\n",
    "testData_with4000 = pd.read_csv ('testData_4000Split.csv')\n",
    "data_split5690 = pd.read_csv ('trainData_5690Split.csv')"
   ]
  },
  {
   "cell_type": "code",
   "execution_count": null,
   "metadata": {},
   "outputs": [],
   "source": [
    "#setup training data\n",
    "X_Train_4000Split = data_split5690.drop('Class', axis = 1)\n",
    "y_train_4000Split = data_split5690['Class']\n",
    "\n",
    "\n",
    "#setup test data\n",
    "X_Test_4000Split = testData_with4000.drop('Class', axis = 1)\n",
    "y_test_4000Split = testData_with4000['Class']\n",
    "\n",
    "\n",
    "\n",
    "sc = StandardScaler()\n",
    "X_train_4000Split = sc.fit_transform(X_Train_4000Split)\n",
    "X_test_4000Split = sc.fit_transform(X_Test_4000Split)"
   ]
  },
  {
   "cell_type": "markdown",
   "metadata": {},
   "source": [
    "<h4> Import 9000Split data <h4>"
   ]
  },
  {
   "cell_type": "code",
   "execution_count": null,
   "metadata": {},
   "outputs": [],
   "source": [
    "#Read in data\n",
    "testData_with9000 = pd.read_csv ('testData_9000Split.csv')\n",
    "data_split690 = pd.read_csv ('trainData_690Split.csv')"
   ]
  },
  {
   "cell_type": "code",
   "execution_count": null,
   "metadata": {},
   "outputs": [],
   "source": [
    "#setup training data\n",
    "X_Train_9000Split = data_split690.drop('Class', axis = 1)\n",
    "y_train_9000Split = data_split690['Class']\n",
    "\n",
    "\n",
    "#setup test data\n",
    "X_Test_9000Split = testData_with9000.drop('Class', axis = 1)\n",
    "y_test_9000Split = testData_with9000['Class']\n",
    "\n",
    "#scale data\n",
    "X_train_9000Split = sc.fit_transform(X_Train_9000Split)\n",
    "X_test_9000Split = sc.fit_transform(X_Test_9000Split)"
   ]
  },
  {
   "cell_type": "markdown",
   "metadata": {},
   "source": [
    "Summary : \n",
    "\n",
    "X_train - full training data (minus class data) <br>\n",
    "X_train_4000Split - 4000 removed instances from X_train<br>\n",
    "X_train_9000Split - 9000 removed instances from X_train <br>\n",
    "\n",
    "X_test - original test data \n",
    "X_test_4000Split - 4000 more instances, taken from X_train<br>\n",
    "X_test_9000Split - 9000 more instances, taken from X_train<br>\n",
    "\n",
    "y_train - class attributes for the full training data<br>\n",
    "y_train_4000Split - 4000 removed instances than y_train<br>\n",
    "y_train_9000Split - 9000 removed instances than y_train<br>\n",
    "\n",
    "y_test - class attributes for original testing data <br>\n",
    "y_test_4000Split - 4000 more instances, taken from y_train <br>\n",
    "y_test_9000Split - 9000 more instances, taken from y_train <br>"
   ]
  },
  {
   "cell_type": "code",
   "execution_count": null,
   "metadata": {},
   "outputs": [],
   "source": []
  },
  {
   "cell_type": "code",
   "execution_count": null,
   "metadata": {},
   "outputs": [],
   "source": []
  },
  {
   "cell_type": "markdown",
   "metadata": {},
   "source": [
    "<h2> Linear Classifier - Support Vector Classification <h2>\n"
   ]
  },
  {
   "cell_type": "markdown",
   "metadata": {},
   "source": [
    "Adapted from https://scikit-learn.org/stable/modules/generated/sklearn.svm.SVC.html#sklearn.svm.SVC\n",
    "\n",
    "Benefits - High accuracy compard to other decision tree methods thanks to a kernel trick, which allows it to handle non linear input spaces.\n",
    "\n",
    "SVC - The classifier separates data points using a hyperplane with the largest amount of margin.\n",
    "\n",
    "Further info here :\n",
    "https://www.datacamp.com/community/tutorials/svm-classification-scikit-learn-python"
   ]
  },
  {
   "cell_type": "code",
   "execution_count": null,
   "metadata": {},
   "outputs": [],
   "source": [
    "#Create a svm Classifier\n",
    "svmClassifier_withTestData = SVC(kernel='linear') # Linear Kernel\n",
    "\n",
    "#Train the model using the training sets\n",
    "svmClassifier_withTestData.fit(X_train, y_train)\n",
    "\n",
    "\n",
    "#test this model on the seperated data\n",
    "y_pred_svmClassifier_withTestData = svmClassifier_withTestData.predict(X_test)\n",
    "\n",
    "\n",
    "#confusion matrix generation\n",
    "conf_matrix_svmClassifier_withTestData = confusion_matrix(y_test, y_pred_svmClassifier_withTestData)\n",
    "\n",
    "#accuracy report\n",
    "classification_report_randomForest_withTestData = classification_report(y_test, y_pred_svmClassifier_withTestData)"
   ]
  },
  {
   "cell_type": "code",
   "execution_count": null,
   "metadata": {},
   "outputs": [],
   "source": [
    "print(\"Confusion Matrix\")\n",
    "print(conf_matrix_svmClassifier_withTestData)\n",
    "print(\"\\n\")\n",
    "print(classification_report_randomForest_withTestData)"
   ]
  },
  {
   "cell_type": "code",
   "execution_count": null,
   "metadata": {},
   "outputs": [],
   "source": []
  },
  {
   "cell_type": "code",
   "execution_count": null,
   "metadata": {},
   "outputs": [],
   "source": []
  },
  {
   "cell_type": "code",
   "execution_count": null,
   "metadata": {},
   "outputs": [],
   "source": []
  },
  {
   "cell_type": "code",
   "execution_count": null,
   "metadata": {},
   "outputs": [],
   "source": []
  },
  {
   "cell_type": "code",
   "execution_count": null,
   "metadata": {},
   "outputs": [],
   "source": []
  },
  {
   "cell_type": "code",
   "execution_count": null,
   "metadata": {},
   "outputs": [],
   "source": []
  }
 ],
 "metadata": {
  "kernelspec": {
   "display_name": "Python 3",
   "language": "python",
   "name": "python3"
  },
  "language_info": {
   "codemirror_mode": {
    "name": "ipython",
    "version": 3
   },
   "file_extension": ".py",
   "mimetype": "text/x-python",
   "name": "python",
   "nbconvert_exporter": "python",
   "pygments_lexer": "ipython3",
   "version": "3.8.3"
  }
 },
 "nbformat": 4,
 "nbformat_minor": 4
}
