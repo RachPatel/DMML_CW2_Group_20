{
 "cells": [
  {
   "cell_type": "markdown",
   "metadata": {},
   "source": [
    "<h1> Group 20 - DMML Coursework 2 - J48<h1>\n",
    "    \n",
    "<hr>"
   ]
  },
  {
   "cell_type": "markdown",
   "metadata": {},
   "source": [
    "Disclaimer : Whilst we know we are not running J48 (a java equivalent of the C4.5 algorithm), we simply kept this notation inplace of CART for ease of marking. "
   ]
  },
  {
   "cell_type": "markdown",
   "metadata": {},
   "source": [
    "<h3 style=\"color:blue\"> Data <h3> "
   ]
  },
  {
   "cell_type": "markdown",
   "metadata": {},
   "source": [
    "Goal : Setup full training data set :"
   ]
  },
  {
   "cell_type": "code",
   "execution_count": 1,
   "metadata": {},
   "outputs": [
    {
     "name": "stdout",
     "output_type": "stream",
     "text": [
      "          0      1      2      3      4      5      6      7      8      9  \\\n",
      "0      78.0   77.0   76.0   82.0   87.0   92.0  104.0  119.0  117.0  120.0   \n",
      "1      73.0   75.0   79.0   78.0   76.0   75.0   89.0  107.0  133.0  125.0   \n",
      "2      72.0   75.0   79.0   77.0   81.0   89.0  105.0  109.0   86.0   90.0   \n",
      "3      67.0   70.0   74.0   80.0   93.0  107.0  110.0   96.0   69.0  100.0   \n",
      "4      74.0   74.0   73.0   72.0   77.0   87.0  104.0  109.0   84.0   83.0   \n",
      "...     ...    ...    ...    ...    ...    ...    ...    ...    ...    ...   \n",
      "9685  247.0  220.0  254.0  213.0  129.0  208.0  254.0  255.0  255.0  255.0   \n",
      "9686  151.0  118.0  254.0  255.0  255.0  255.0  254.0  254.0  254.0  252.0   \n",
      "9687  255.0  255.0  255.0  255.0  255.0  255.0  255.0  255.0  255.0  255.0   \n",
      "9688  255.0  253.0  255.0  255.0  255.0  255.0  255.0  255.0  255.0  255.0   \n",
      "9689  252.0  189.0  238.0  255.0  255.0  245.0  219.0  212.0  140.0   40.0   \n",
      "\n",
      "      ...  2295  2296   2297  2298  2299  2300   2301   2302   2303  Class  \n",
      "0     ...  79.0  72.0   76.0  83.0  95.0  99.0   98.0   95.0   94.0      0  \n",
      "1     ...  93.0  85.0   77.0  69.0  73.0  83.0  100.0  101.0  101.0      0  \n",
      "2     ...  95.0  88.0   80.0  73.0  71.0  74.0   80.0   89.0   95.0      0  \n",
      "3     ...  92.0  87.0   82.0  77.0  72.0  70.0   72.0   81.0   88.0      0  \n",
      "4     ...  98.0  99.0  100.0  99.0  89.0  78.0   66.0   68.0   72.0      0  \n",
      "...   ...   ...   ...    ...   ...   ...   ...    ...    ...    ...    ...  \n",
      "9685  ...  29.0  27.0   26.0  25.0  23.0  22.0   26.0   26.0   27.0      9  \n",
      "9686  ...  31.0  30.0   30.0  30.0  30.0  29.0   26.0   28.0   27.0      9  \n",
      "9687  ...  49.0  42.0   36.0  33.0  36.0  39.0   31.0   39.0   43.0      9  \n",
      "9688  ...  27.0  26.0   27.0  35.0  28.0  27.0   26.0   26.0   24.0      9  \n",
      "9689  ...  23.0  23.0   30.0  32.0  23.0  23.0   26.0   20.0   17.0      9  \n",
      "\n",
      "[9690 rows x 2305 columns]\n"
     ]
    }
   ],
   "source": [
    "# Python ≥3.5 is required\n",
    "import sys\n",
    "assert sys.version_info >= (3, 5)\n",
    "# Scikit-Learn ≥0.20 is required\n",
    "import sklearn\n",
    "assert sklearn.__version__ >= \"0.20\"\n",
    "# Common imports\n",
    "import numpy as np\n",
    "import os\n",
    "import tarfile\n",
    "import urllib\n",
    "import pandas as pd\n",
    "# To plot pretty figures\n",
    "%matplotlib inline\n",
    "import matplotlib as mpl\n",
    "import matplotlib.pyplot as plt\n",
    "\n",
    "#read the attribute csvs file into respective dataframes\n",
    "X = pd.read_csv ('x_train_gr_smpl.csv')\n",
    "\n",
    "\n",
    "# read the class attribute file into Y datafram\n",
    "Y = pd.read_csv('y_train_smpl.csv')\n",
    "Y.columns = ['Class']\n",
    "\n",
    "#join the two such that Y is the last column\n",
    "XYraw = pd.concat([X,Y], axis=1)\n",
    "#check the concatination\n",
    "print(XYraw)"
   ]
  },
  {
   "cell_type": "code",
   "execution_count": 2,
   "metadata": {},
   "outputs": [
    {
     "data": {
      "text/html": [
       "<div>\n",
       "<style scoped>\n",
       "    .dataframe tbody tr th:only-of-type {\n",
       "        vertical-align: middle;\n",
       "    }\n",
       "\n",
       "    .dataframe tbody tr th {\n",
       "        vertical-align: top;\n",
       "    }\n",
       "\n",
       "    .dataframe thead th {\n",
       "        text-align: right;\n",
       "    }\n",
       "</style>\n",
       "<table border=\"1\" class=\"dataframe\">\n",
       "  <thead>\n",
       "    <tr style=\"text-align: right;\">\n",
       "      <th></th>\n",
       "      <th>0</th>\n",
       "      <th>1</th>\n",
       "      <th>2</th>\n",
       "      <th>3</th>\n",
       "      <th>4</th>\n",
       "      <th>5</th>\n",
       "      <th>6</th>\n",
       "      <th>7</th>\n",
       "      <th>8</th>\n",
       "      <th>9</th>\n",
       "      <th>...</th>\n",
       "      <th>2295</th>\n",
       "      <th>2296</th>\n",
       "      <th>2297</th>\n",
       "      <th>2298</th>\n",
       "      <th>2299</th>\n",
       "      <th>2300</th>\n",
       "      <th>2301</th>\n",
       "      <th>2302</th>\n",
       "      <th>2303</th>\n",
       "      <th>Class</th>\n",
       "    </tr>\n",
       "  </thead>\n",
       "  <tbody>\n",
       "    <tr>\n",
       "      <th>0</th>\n",
       "      <td>78.0</td>\n",
       "      <td>77.0</td>\n",
       "      <td>76.0</td>\n",
       "      <td>82.0</td>\n",
       "      <td>87.0</td>\n",
       "      <td>92.0</td>\n",
       "      <td>104.0</td>\n",
       "      <td>119.0</td>\n",
       "      <td>117.0</td>\n",
       "      <td>120.0</td>\n",
       "      <td>...</td>\n",
       "      <td>79.0</td>\n",
       "      <td>72.0</td>\n",
       "      <td>76.0</td>\n",
       "      <td>83.0</td>\n",
       "      <td>95.0</td>\n",
       "      <td>99.0</td>\n",
       "      <td>98.0</td>\n",
       "      <td>95.0</td>\n",
       "      <td>94.0</td>\n",
       "      <td>zero</td>\n",
       "    </tr>\n",
       "    <tr>\n",
       "      <th>1</th>\n",
       "      <td>73.0</td>\n",
       "      <td>75.0</td>\n",
       "      <td>79.0</td>\n",
       "      <td>78.0</td>\n",
       "      <td>76.0</td>\n",
       "      <td>75.0</td>\n",
       "      <td>89.0</td>\n",
       "      <td>107.0</td>\n",
       "      <td>133.0</td>\n",
       "      <td>125.0</td>\n",
       "      <td>...</td>\n",
       "      <td>93.0</td>\n",
       "      <td>85.0</td>\n",
       "      <td>77.0</td>\n",
       "      <td>69.0</td>\n",
       "      <td>73.0</td>\n",
       "      <td>83.0</td>\n",
       "      <td>100.0</td>\n",
       "      <td>101.0</td>\n",
       "      <td>101.0</td>\n",
       "      <td>zero</td>\n",
       "    </tr>\n",
       "    <tr>\n",
       "      <th>2</th>\n",
       "      <td>72.0</td>\n",
       "      <td>75.0</td>\n",
       "      <td>79.0</td>\n",
       "      <td>77.0</td>\n",
       "      <td>81.0</td>\n",
       "      <td>89.0</td>\n",
       "      <td>105.0</td>\n",
       "      <td>109.0</td>\n",
       "      <td>86.0</td>\n",
       "      <td>90.0</td>\n",
       "      <td>...</td>\n",
       "      <td>95.0</td>\n",
       "      <td>88.0</td>\n",
       "      <td>80.0</td>\n",
       "      <td>73.0</td>\n",
       "      <td>71.0</td>\n",
       "      <td>74.0</td>\n",
       "      <td>80.0</td>\n",
       "      <td>89.0</td>\n",
       "      <td>95.0</td>\n",
       "      <td>zero</td>\n",
       "    </tr>\n",
       "    <tr>\n",
       "      <th>3</th>\n",
       "      <td>67.0</td>\n",
       "      <td>70.0</td>\n",
       "      <td>74.0</td>\n",
       "      <td>80.0</td>\n",
       "      <td>93.0</td>\n",
       "      <td>107.0</td>\n",
       "      <td>110.0</td>\n",
       "      <td>96.0</td>\n",
       "      <td>69.0</td>\n",
       "      <td>100.0</td>\n",
       "      <td>...</td>\n",
       "      <td>92.0</td>\n",
       "      <td>87.0</td>\n",
       "      <td>82.0</td>\n",
       "      <td>77.0</td>\n",
       "      <td>72.0</td>\n",
       "      <td>70.0</td>\n",
       "      <td>72.0</td>\n",
       "      <td>81.0</td>\n",
       "      <td>88.0</td>\n",
       "      <td>zero</td>\n",
       "    </tr>\n",
       "    <tr>\n",
       "      <th>4</th>\n",
       "      <td>74.0</td>\n",
       "      <td>74.0</td>\n",
       "      <td>73.0</td>\n",
       "      <td>72.0</td>\n",
       "      <td>77.0</td>\n",
       "      <td>87.0</td>\n",
       "      <td>104.0</td>\n",
       "      <td>109.0</td>\n",
       "      <td>84.0</td>\n",
       "      <td>83.0</td>\n",
       "      <td>...</td>\n",
       "      <td>98.0</td>\n",
       "      <td>99.0</td>\n",
       "      <td>100.0</td>\n",
       "      <td>99.0</td>\n",
       "      <td>89.0</td>\n",
       "      <td>78.0</td>\n",
       "      <td>66.0</td>\n",
       "      <td>68.0</td>\n",
       "      <td>72.0</td>\n",
       "      <td>zero</td>\n",
       "    </tr>\n",
       "  </tbody>\n",
       "</table>\n",
       "<p>5 rows × 2305 columns</p>\n",
       "</div>"
      ],
      "text/plain": [
       "      0     1     2     3     4      5      6      7      8      9  ...  2295  \\\n",
       "0  78.0  77.0  76.0  82.0  87.0   92.0  104.0  119.0  117.0  120.0  ...  79.0   \n",
       "1  73.0  75.0  79.0  78.0  76.0   75.0   89.0  107.0  133.0  125.0  ...  93.0   \n",
       "2  72.0  75.0  79.0  77.0  81.0   89.0  105.0  109.0   86.0   90.0  ...  95.0   \n",
       "3  67.0  70.0  74.0  80.0  93.0  107.0  110.0   96.0   69.0  100.0  ...  92.0   \n",
       "4  74.0  74.0  73.0  72.0  77.0   87.0  104.0  109.0   84.0   83.0  ...  98.0   \n",
       "\n",
       "   2296   2297  2298  2299  2300   2301   2302   2303  Class  \n",
       "0  72.0   76.0  83.0  95.0  99.0   98.0   95.0   94.0   zero  \n",
       "1  85.0   77.0  69.0  73.0  83.0  100.0  101.0  101.0   zero  \n",
       "2  88.0   80.0  73.0  71.0  74.0   80.0   89.0   95.0   zero  \n",
       "3  87.0   82.0  77.0  72.0  70.0   72.0   81.0   88.0   zero  \n",
       "4  99.0  100.0  99.0  89.0  78.0   66.0   68.0   72.0   zero  \n",
       "\n",
       "[5 rows x 2305 columns]"
      ]
     },
     "execution_count": 2,
     "metadata": {},
     "output_type": "execute_result"
    }
   ],
   "source": [
    "\n",
    "#convert numberic to nominal \n",
    "XYraw[['Class']] = XYraw[['Class']].replace([0, 1, 2,3,4,5,6,7,8,9], ['zero', 'one', 'two','three', 'four', 'five', 'six', 'seven', 'eight',\n",
    "                                 'nine'])\n",
    "\n",
    "XYraw.head()"
   ]
  },
  {
   "cell_type": "code",
   "execution_count": 3,
   "metadata": {},
   "outputs": [
    {
     "name": "stdout",
     "output_type": "stream",
     "text": [
      "          0      1      2      3      4      5      6      7      8      9  \\\n",
      "0      40.0   38.0   36.0   36.0   38.0   42.0   51.0   54.0   53.0   51.0   \n",
      "1     176.0  147.0  116.0  104.0   95.0   88.0   91.0   96.0   97.0   82.0   \n",
      "2     212.0  250.0  254.0  254.0  255.0  255.0  255.0  255.0  254.0  255.0   \n",
      "3     255.0  255.0  255.0  255.0  255.0  255.0  255.0  255.0  255.0  255.0   \n",
      "4      27.0   29.0   34.0   25.0   22.0   21.0   22.0   23.0   25.0   28.0   \n",
      "...     ...    ...    ...    ...    ...    ...    ...    ...    ...    ...   \n",
      "9685   15.0   15.0   16.0   16.0   16.0   16.0   15.0   15.0   15.0   15.0   \n",
      "9686   27.0   28.0   28.0   26.0   26.0   28.0   28.0   27.0   27.0   27.0   \n",
      "9687   78.0   76.0   77.0   82.0   85.0   80.0   73.0   69.0   70.0   72.0   \n",
      "9688   80.0   82.0   83.0   84.0   84.0   85.0   87.0   89.0   92.0   79.0   \n",
      "9689  118.0  139.0  118.0   95.0   97.0   83.0   76.0   69.0   60.0   77.0   \n",
      "\n",
      "      ...   2295   2296   2297  2298  2299  2300  2301  2302  2303  Class  \n",
      "0     ...   42.0   42.0   43.0  41.0  41.0  41.0  42.0  39.0  38.0    one  \n",
      "1     ...   53.0   50.0   49.0  50.0  51.0  51.0  48.0  45.0  43.0    one  \n",
      "2     ...   64.0   64.0   63.0  62.0  62.0  61.0  59.0  57.0  55.0    two  \n",
      "3     ...   69.0   77.0   84.0  84.0  81.0  68.0  66.0  61.0  49.0    two  \n",
      "4     ...  146.0  132.0  102.0  79.0  56.0  35.0  25.0  26.0  26.0    one  \n",
      "...   ...    ...    ...    ...   ...   ...   ...   ...   ...   ...    ...  \n",
      "9685  ...   17.0   17.0   17.0  17.0  18.0  18.0  18.0  18.0  18.0    two  \n",
      "9686  ...   26.0   28.0   27.0  27.0  26.0  27.0  28.0  29.0  29.0  three  \n",
      "9687  ...   77.0   78.0   76.0  72.0  67.0  69.0  72.0  69.0  62.0    two  \n",
      "9688  ...   62.0   59.0   56.0  51.0  48.0  49.0  57.0  60.0  62.0   nine  \n",
      "9689  ...   38.0   43.0   50.0  48.0  31.0  40.0  44.0  47.0  44.0   four  \n",
      "\n",
      "[9690 rows x 2305 columns]\n"
     ]
    }
   ],
   "source": [
    "\n",
    "#randomise \n",
    "XYraw_ran = XYraw.sample(frac=1).reset_index(drop=True)\n",
    "print(XYraw_ran)"
   ]
  },
  {
   "cell_type": "code",
   "execution_count": 4,
   "metadata": {},
   "outputs": [],
   "source": [
    "#generate this as a csv to directly feed into analyses on independent notebooks\n",
    "#XYraw_ran.to_csv('For_10_Fold_Cross_Validation.csv', index = False)"
   ]
  },
  {
   "cell_type": "markdown",
   "metadata": {},
   "source": [
    "Split Data into data and expected calsses\n"
   ]
  },
  {
   "cell_type": "code",
   "execution_count": 5,
   "metadata": {},
   "outputs": [
    {
     "data": {
      "text/html": [
       "<div>\n",
       "<style scoped>\n",
       "    .dataframe tbody tr th:only-of-type {\n",
       "        vertical-align: middle;\n",
       "    }\n",
       "\n",
       "    .dataframe tbody tr th {\n",
       "        vertical-align: top;\n",
       "    }\n",
       "\n",
       "    .dataframe thead th {\n",
       "        text-align: right;\n",
       "    }\n",
       "</style>\n",
       "<table border=\"1\" class=\"dataframe\">\n",
       "  <thead>\n",
       "    <tr style=\"text-align: right;\">\n",
       "      <th></th>\n",
       "      <th>0</th>\n",
       "      <th>1</th>\n",
       "      <th>2</th>\n",
       "      <th>3</th>\n",
       "      <th>4</th>\n",
       "      <th>5</th>\n",
       "      <th>6</th>\n",
       "      <th>7</th>\n",
       "      <th>8</th>\n",
       "      <th>9</th>\n",
       "      <th>...</th>\n",
       "      <th>2295</th>\n",
       "      <th>2296</th>\n",
       "      <th>2297</th>\n",
       "      <th>2298</th>\n",
       "      <th>2299</th>\n",
       "      <th>2300</th>\n",
       "      <th>2301</th>\n",
       "      <th>2302</th>\n",
       "      <th>2303</th>\n",
       "      <th>Class</th>\n",
       "    </tr>\n",
       "  </thead>\n",
       "  <tbody>\n",
       "    <tr>\n",
       "      <th>0</th>\n",
       "      <td>255.0</td>\n",
       "      <td>255.0</td>\n",
       "      <td>255.0</td>\n",
       "      <td>255.0</td>\n",
       "      <td>255.0</td>\n",
       "      <td>255.0</td>\n",
       "      <td>255.0</td>\n",
       "      <td>255.0</td>\n",
       "      <td>255.0</td>\n",
       "      <td>255.0</td>\n",
       "      <td>...</td>\n",
       "      <td>31.0</td>\n",
       "      <td>28.0</td>\n",
       "      <td>25.0</td>\n",
       "      <td>22.0</td>\n",
       "      <td>22.0</td>\n",
       "      <td>25.0</td>\n",
       "      <td>26.0</td>\n",
       "      <td>25.0</td>\n",
       "      <td>25.0</td>\n",
       "      <td>four</td>\n",
       "    </tr>\n",
       "    <tr>\n",
       "      <th>1</th>\n",
       "      <td>26.0</td>\n",
       "      <td>27.0</td>\n",
       "      <td>28.0</td>\n",
       "      <td>27.0</td>\n",
       "      <td>27.0</td>\n",
       "      <td>24.0</td>\n",
       "      <td>13.0</td>\n",
       "      <td>12.0</td>\n",
       "      <td>21.0</td>\n",
       "      <td>84.0</td>\n",
       "      <td>...</td>\n",
       "      <td>24.0</td>\n",
       "      <td>52.0</td>\n",
       "      <td>77.0</td>\n",
       "      <td>94.0</td>\n",
       "      <td>96.0</td>\n",
       "      <td>96.0</td>\n",
       "      <td>93.0</td>\n",
       "      <td>91.0</td>\n",
       "      <td>89.0</td>\n",
       "      <td>eight</td>\n",
       "    </tr>\n",
       "    <tr>\n",
       "      <th>2</th>\n",
       "      <td>149.0</td>\n",
       "      <td>110.0</td>\n",
       "      <td>68.0</td>\n",
       "      <td>55.0</td>\n",
       "      <td>54.0</td>\n",
       "      <td>55.0</td>\n",
       "      <td>45.0</td>\n",
       "      <td>36.0</td>\n",
       "      <td>31.0</td>\n",
       "      <td>35.0</td>\n",
       "      <td>...</td>\n",
       "      <td>149.0</td>\n",
       "      <td>96.0</td>\n",
       "      <td>52.0</td>\n",
       "      <td>54.0</td>\n",
       "      <td>68.0</td>\n",
       "      <td>87.0</td>\n",
       "      <td>110.0</td>\n",
       "      <td>104.0</td>\n",
       "      <td>92.0</td>\n",
       "      <td>two</td>\n",
       "    </tr>\n",
       "    <tr>\n",
       "      <th>3</th>\n",
       "      <td>73.0</td>\n",
       "      <td>80.0</td>\n",
       "      <td>86.0</td>\n",
       "      <td>97.0</td>\n",
       "      <td>113.0</td>\n",
       "      <td>120.0</td>\n",
       "      <td>118.0</td>\n",
       "      <td>84.0</td>\n",
       "      <td>56.0</td>\n",
       "      <td>46.0</td>\n",
       "      <td>...</td>\n",
       "      <td>98.0</td>\n",
       "      <td>99.0</td>\n",
       "      <td>100.0</td>\n",
       "      <td>101.0</td>\n",
       "      <td>99.0</td>\n",
       "      <td>98.0</td>\n",
       "      <td>100.0</td>\n",
       "      <td>106.0</td>\n",
       "      <td>114.0</td>\n",
       "      <td>one</td>\n",
       "    </tr>\n",
       "    <tr>\n",
       "      <th>4</th>\n",
       "      <td>62.0</td>\n",
       "      <td>58.0</td>\n",
       "      <td>57.0</td>\n",
       "      <td>57.0</td>\n",
       "      <td>57.0</td>\n",
       "      <td>58.0</td>\n",
       "      <td>58.0</td>\n",
       "      <td>54.0</td>\n",
       "      <td>52.0</td>\n",
       "      <td>50.0</td>\n",
       "      <td>...</td>\n",
       "      <td>30.0</td>\n",
       "      <td>29.0</td>\n",
       "      <td>28.0</td>\n",
       "      <td>26.0</td>\n",
       "      <td>25.0</td>\n",
       "      <td>27.0</td>\n",
       "      <td>28.0</td>\n",
       "      <td>28.0</td>\n",
       "      <td>31.0</td>\n",
       "      <td>three</td>\n",
       "    </tr>\n",
       "  </tbody>\n",
       "</table>\n",
       "<p>5 rows × 2305 columns</p>\n",
       "</div>"
      ],
      "text/plain": [
       "       0      1      2      3      4      5      6      7      8      9  ...  \\\n",
       "0  255.0  255.0  255.0  255.0  255.0  255.0  255.0  255.0  255.0  255.0  ...   \n",
       "1   26.0   27.0   28.0   27.0   27.0   24.0   13.0   12.0   21.0   84.0  ...   \n",
       "2  149.0  110.0   68.0   55.0   54.0   55.0   45.0   36.0   31.0   35.0  ...   \n",
       "3   73.0   80.0   86.0   97.0  113.0  120.0  118.0   84.0   56.0   46.0  ...   \n",
       "4   62.0   58.0   57.0   57.0   57.0   58.0   58.0   54.0   52.0   50.0  ...   \n",
       "\n",
       "    2295  2296   2297   2298  2299  2300   2301   2302   2303  Class  \n",
       "0   31.0  28.0   25.0   22.0  22.0  25.0   26.0   25.0   25.0   four  \n",
       "1   24.0  52.0   77.0   94.0  96.0  96.0   93.0   91.0   89.0  eight  \n",
       "2  149.0  96.0   52.0   54.0  68.0  87.0  110.0  104.0   92.0    two  \n",
       "3   98.0  99.0  100.0  101.0  99.0  98.0  100.0  106.0  114.0    one  \n",
       "4   30.0  29.0   28.0   26.0  25.0  27.0   28.0   28.0   31.0  three  \n",
       "\n",
       "[5 rows x 2305 columns]"
      ]
     },
     "execution_count": 5,
     "metadata": {},
     "output_type": "execute_result"
    }
   ],
   "source": [
    "#read in data from csv \n",
    "training_Data = pd.read_csv(\"For_10_Fold_Cross_Validation.csv\")\n",
    "\n",
    "#look at shape\n",
    "training_Data.shape \n",
    "\n",
    "#look at data format\n",
    "training_Data.head()"
   ]
  },
  {
   "cell_type": "code",
   "execution_count": 6,
   "metadata": {},
   "outputs": [],
   "source": [
    "#define the data to be used as all but the class attribute from the data \n",
    "X_Train = training_Data.drop('Class', axis = 1)\n",
    "\n",
    "#define the expexted value to be the class column of the input data \n",
    "y_train = training_Data['Class']"
   ]
  },
  {
   "cell_type": "markdown",
   "metadata": {},
   "source": [
    "Scale data"
   ]
  },
  {
   "cell_type": "code",
   "execution_count": 7,
   "metadata": {},
   "outputs": [],
   "source": [
    "from sklearn.preprocessing import StandardScaler\n",
    "\n",
    "sc = StandardScaler()\n",
    "X_train = sc.fit_transform(X_Train)\n",
    "\n"
   ]
  },
  {
   "cell_type": "markdown",
   "metadata": {},
   "source": [
    "<h4> Setup Test Data <h4>"
   ]
  },
  {
   "cell_type": "markdown",
   "metadata": {},
   "source": [
    "Goal : Import test data from file and set it as  t_test and y_test"
   ]
  },
  {
   "cell_type": "code",
   "execution_count": 8,
   "metadata": {},
   "outputs": [],
   "source": [
    "testData = pd.read_csv ('Test_Dataset.csv')\n",
    "\n",
    "X_Test = testData.drop('Class', axis = 1)\n",
    "y_test = testData['Class']\n",
    "\n",
    "\n",
    "X_test = sc.fit_transform(X_Test)"
   ]
  },
  {
   "cell_type": "markdown",
   "metadata": {},
   "source": [
    "<h4> Setup 4000 Split of test data <h4>\n",
    "    "
   ]
  },
  {
   "cell_type": "markdown",
   "metadata": {},
   "source": [
    "Goal : Take 4000 instances from the original training file and add them to the test file"
   ]
  },
  {
   "cell_type": "code",
   "execution_count": 9,
   "metadata": {},
   "outputs": [
    {
     "data": {
      "text/plain": [
       "9690"
      ]
     },
     "execution_count": 9,
     "metadata": {},
     "output_type": "execute_result"
    }
   ],
   "source": [
    "#Check length of training data\n",
    "len(training_Data)"
   ]
  },
  {
   "cell_type": "code",
   "execution_count": 10,
   "metadata": {},
   "outputs": [
    {
     "data": {
      "text/plain": [
       "4000"
      ]
     },
     "execution_count": 10,
     "metadata": {},
     "output_type": "execute_result"
    }
   ],
   "source": [
    "#split data into two divisions\n",
    "data_split4000, data_split5690= training_Data[:4000], training_Data[4000:]\n",
    "\n",
    "#test new split \n",
    "len(data_split4000)"
   ]
  },
  {
   "cell_type": "code",
   "execution_count": 11,
   "metadata": {},
   "outputs": [],
   "source": [
    "#merge test and 4000 cases from above \n",
    "testData_with4000 =pd.concat([testData, data_split4000])"
   ]
  },
  {
   "cell_type": "code",
   "execution_count": 12,
   "metadata": {},
   "outputs": [
    {
     "data": {
      "text/plain": [
       "3090"
      ]
     },
     "execution_count": 12,
     "metadata": {},
     "output_type": "execute_result"
    }
   ],
   "source": [
    "#size of testData before addition\n",
    "len(testData)"
   ]
  },
  {
   "cell_type": "code",
   "execution_count": 13,
   "metadata": {},
   "outputs": [
    {
     "data": {
      "text/plain": [
       "7090"
      ]
     },
     "execution_count": 13,
     "metadata": {},
     "output_type": "execute_result"
    }
   ],
   "source": [
    "#check items have been added to testData\n",
    "len(testData_with4000)"
   ]
  },
  {
   "cell_type": "code",
   "execution_count": 14,
   "metadata": {},
   "outputs": [],
   "source": [
    "#setup training data\n",
    "X_Train_4000Split = data_split5690.drop('Class', axis = 1)\n",
    "y_train_4000Split = data_split5690['Class']\n",
    "\n",
    "\n",
    "#setup test data\n",
    "X_Test_4000Split = testData_with4000.drop('Class', axis = 1)\n",
    "y_test_4000Split = testData_with4000['Class']\n",
    "\n",
    "\n",
    "\n",
    "sc = StandardScaler()\n",
    "X_train_4000Split = sc.fit_transform(X_Train_4000Split)\n",
    "X_test_4000Split = sc.fit_transform(X_Test_4000Split)"
   ]
  },
  {
   "cell_type": "code",
   "execution_count": 17,
   "metadata": {},
   "outputs": [],
   "source": [
    "#generate this as a csv to directly feed into analyses on independent notebooks\n",
    "testData_with4000.to_csv('testData_4000Split.csv', index = False)"
   ]
  },
  {
   "cell_type": "code",
   "execution_count": 18,
   "metadata": {},
   "outputs": [],
   "source": [
    "#generate this as a csv to directly feed into analyses on independent notebooks\n",
    "data_split5690.to_csv('trainData_5690Split.csv', index = False)"
   ]
  },
  {
   "cell_type": "markdown",
   "metadata": {},
   "source": [
    "<h4> Setup 9000 Split <h4> "
   ]
  },
  {
   "cell_type": "markdown",
   "metadata": {},
   "source": [
    "Goal : Take 9000 instances from the original training file and add them to the test file"
   ]
  },
  {
   "cell_type": "code",
   "execution_count": 19,
   "metadata": {},
   "outputs": [
    {
     "data": {
      "text/plain": [
       "9690"
      ]
     },
     "execution_count": 19,
     "metadata": {},
     "output_type": "execute_result"
    }
   ],
   "source": [
    "#Check length of training data\n",
    "len(training_Data)"
   ]
  },
  {
   "cell_type": "code",
   "execution_count": 20,
   "metadata": {},
   "outputs": [
    {
     "data": {
      "text/plain": [
       "9000"
      ]
     },
     "execution_count": 20,
     "metadata": {},
     "output_type": "execute_result"
    }
   ],
   "source": [
    "#split data into two divisions\n",
    "data_split9000, data_split690= training_Data[:9000], training_Data[9000:]\n",
    "\n",
    "#test new split \n",
    "len(data_split9000)"
   ]
  },
  {
   "cell_type": "code",
   "execution_count": 21,
   "metadata": {},
   "outputs": [],
   "source": [
    "#merge test and 4000 cases from above \n",
    "testData_with9000 =pd.concat([testData, data_split9000])"
   ]
  },
  {
   "cell_type": "code",
   "execution_count": 22,
   "metadata": {},
   "outputs": [
    {
     "data": {
      "text/plain": [
       "3090"
      ]
     },
     "execution_count": 22,
     "metadata": {},
     "output_type": "execute_result"
    }
   ],
   "source": [
    "#size of testData before addition \n",
    "len(testData)"
   ]
  },
  {
   "cell_type": "code",
   "execution_count": 23,
   "metadata": {},
   "outputs": [
    {
     "data": {
      "text/plain": [
       "12090"
      ]
     },
     "execution_count": 23,
     "metadata": {},
     "output_type": "execute_result"
    }
   ],
   "source": [
    "#check items have been added to testData\n",
    "len(testData_with9000)"
   ]
  },
  {
   "cell_type": "code",
   "execution_count": 30,
   "metadata": {},
   "outputs": [],
   "source": [
    "#setup training data\n",
    "X_Train_9000Split = data_split690.drop('Class', axis = 1)\n",
    "y_train_9000Split = data_split690['Class']\n",
    "\n",
    "\n",
    "#setup test data\n",
    "X_Test_9000Split = testData_with9000.drop('Class', axis = 1)\n",
    "y_test_9000Split = testData_with9000['Class']\n",
    "\n",
    "#scale data\n",
    "X_train_9000Split = sc.fit_transform(X_Train_9000Split)\n",
    "X_test_9000Split = sc.fit_transform(X_Test_9000Split)"
   ]
  },
  {
   "cell_type": "code",
   "execution_count": 31,
   "metadata": {},
   "outputs": [],
   "source": [
    "#generate this as a csv to directly feed into analyses on independent notebooks\n",
    "testData_with9000.to_csv('testData_9000Split.csv', index = False)"
   ]
  },
  {
   "cell_type": "code",
   "execution_count": 32,
   "metadata": {},
   "outputs": [],
   "source": [
    "#generate this as a csv to directly feed into analyses on independent notebooks\n",
    "data_split690.to_csv('trainData_690Split.csv', index = False)"
   ]
  },
  {
   "cell_type": "code",
   "execution_count": 101,
   "metadata": {},
   "outputs": [
    {
     "data": {
      "text/plain": [
       "12090"
      ]
     },
     "execution_count": 101,
     "metadata": {},
     "output_type": "execute_result"
    }
   ],
   "source": [
    "len(y_test_9000Split)"
   ]
  },
  {
   "cell_type": "code",
   "execution_count": 102,
   "metadata": {},
   "outputs": [
    {
     "data": {
      "text/plain": [
       "690"
      ]
     },
     "execution_count": 102,
     "metadata": {},
     "output_type": "execute_result"
    }
   ],
   "source": [
    "len(y_train_9000Split)"
   ]
  },
  {
   "cell_type": "code",
   "execution_count": 103,
   "metadata": {},
   "outputs": [
    {
     "data": {
      "text/plain": [
       "690"
      ]
     },
     "execution_count": 103,
     "metadata": {},
     "output_type": "execute_result"
    }
   ],
   "source": [
    "len(X_train_9000Split)"
   ]
  },
  {
   "cell_type": "code",
   "execution_count": 104,
   "metadata": {},
   "outputs": [
    {
     "data": {
      "text/plain": [
       "12090"
      ]
     },
     "execution_count": 104,
     "metadata": {},
     "output_type": "execute_result"
    }
   ],
   "source": [
    "len(X_test_9000Split)"
   ]
  },
  {
   "cell_type": "markdown",
   "metadata": {},
   "source": [
    "Setup Dataframe for all tree data"
   ]
  },
  {
   "cell_type": "code",
   "execution_count": 21,
   "metadata": {},
   "outputs": [],
   "source": [
    "treeComparisonTable = pd.DataFrame(columns=[\"Number of Nodes\", \"Depth of Tree\", \"Number of Leaves\", \"Accuracy\" ])"
   ]
  },
  {
   "cell_type": "code",
   "execution_count": 22,
   "metadata": {},
   "outputs": [
    {
     "data": {
      "text/html": [
       "<div>\n",
       "<style scoped>\n",
       "    .dataframe tbody tr th:only-of-type {\n",
       "        vertical-align: middle;\n",
       "    }\n",
       "\n",
       "    .dataframe tbody tr th {\n",
       "        vertical-align: top;\n",
       "    }\n",
       "\n",
       "    .dataframe thead th {\n",
       "        text-align: right;\n",
       "    }\n",
       "</style>\n",
       "<table border=\"1\" class=\"dataframe\">\n",
       "  <thead>\n",
       "    <tr style=\"text-align: right;\">\n",
       "      <th></th>\n",
       "      <th>Number of Nodes</th>\n",
       "      <th>Depth of Tree</th>\n",
       "      <th>Number of Leaves</th>\n",
       "      <th>Accuracy</th>\n",
       "    </tr>\n",
       "  </thead>\n",
       "  <tbody>\n",
       "  </tbody>\n",
       "</table>\n",
       "</div>"
      ],
      "text/plain": [
       "Empty DataFrame\n",
       "Columns: [Number of Nodes, Depth of Tree, Number of Leaves, Accuracy]\n",
       "Index: []"
      ]
     },
     "execution_count": 22,
     "metadata": {},
     "output_type": "execute_result"
    }
   ],
   "source": [
    "treeComparisonTable"
   ]
  },
  {
   "cell_type": "markdown",
   "metadata": {},
   "source": [
    "Setup Tree Comparison DataFrame"
   ]
  },
  {
   "cell_type": "markdown",
   "metadata": {},
   "source": [
    "Summary : \n",
    "\n",
    "X_train - full training data (minus class data) <br>\n",
    "X_train_4000Split - 4000 removed instances from X_train<br>\n",
    "X_train_9000Split - 9000 removed instances from X_train <br>\n",
    "\n",
    "X_test - original test data \n",
    "X_test_4000Split - 4000 more instances, taken from X_train<br>\n",
    "X_test_9000Split - 9000 more instances, taken from X_train<br>\n",
    "\n",
    "y_train - class attributes for the full training data<br>\n",
    "y_train_4000Split - 4000 removed instances than y_train<br>\n",
    "y_train_9000Split - 9000 removed instances than y_train<br>\n",
    "\n",
    "y_test - class attributes for original testing data <br>\n",
    "y_test_4000Split - 4000 more instances, taken from y_train <br>\n",
    "y_test_9000Split - 9000 more instances, taken from y_train <br>"
   ]
  },
  {
   "cell_type": "markdown",
   "metadata": {},
   "source": [
    "<h2> Decision Trees <h2> \n",
    "    <hr>\n",
    "<h2> J48 - Default Settings<h2>"
   ]
  },
  {
   "cell_type": "markdown",
   "metadata": {},
   "source": [
    "Decision tree adapted from : \n",
    "https://scikit-learn.org/stable/modules/generated/sklearn.tree.DecisionTreeClassifier.html\n",
    "<hr>\n",
    "Cross-Validation adapted from : \n",
    "https://scikit-learn.org/stable/modules/cross_validation.html \n",
    "    \n",
    "HOWEVER Sklearn uses CART rather than C4.5 which is the algorithm that J48 runs off so this could be incorrect. "
   ]
  },
  {
   "cell_type": "code",
   "execution_count": 33,
   "metadata": {},
   "outputs": [],
   "source": [
    "#imports for J48\n",
    "from sklearn.tree import DecisionTreeClassifier\n",
    "\n",
    "import os\n",
    "import numpy as np\n",
    "import pandas as pd\n",
    "import matplotlib.pyplot as plt\n",
    "from sklearn.utils import shuffle\n",
    "from sklearn.tree import export_graphviz, plot_tree\n",
    "\n",
    "import seaborn as sns\n",
    "from sklearn.metrics import classification_report, accuracy_score, roc_auc_score, confusion_matrix\n",
    "from sklearn.model_selection import cross_val_score, cross_val_predict\n",
    "\n"
   ]
  },
  {
   "cell_type": "markdown",
   "metadata": {},
   "source": [
    "<h4> Cross validation <h4>"
   ]
  },
  {
   "cell_type": "markdown",
   "metadata": {},
   "source": [
    "Goal : Run cross a decision tree classifier with 10 fold cross validation then output metrics"
   ]
  },
  {
   "cell_type": "code",
   "execution_count": 34,
   "metadata": {
    "scrolled": true
   },
   "outputs": [],
   "source": [
    "# adapted from https://scikit-learn.org/stable/modules/generated/sklearn.tree.DecisionTreeClassifier.html\n",
    "#\n",
    "# Sklearn uses CART rather than C4.5 which is the algorithm that J48 runs off so this could be incorrect. Both \n",
    "\n",
    "J48_crossVal = DecisionTreeClassifier()\n",
    "J48_crossVal.fit(X_train, y_train)\n",
    "\n",
    "#setup cross validation using the above classifier, X_train = data to be classified, y = the labels, CV = number of folds\n",
    "cross_validation_scores_J48 = cross_val_score(J48_crossVal, X_train, y_train, cv=10)"
   ]
  },
  {
   "cell_type": "code",
   "execution_count": 35,
   "metadata": {},
   "outputs": [
    {
     "data": {
      "text/plain": [
       "Text(0.5, 1.0, 'Average score: 0.8311661506707946')"
      ]
     },
     "execution_count": 35,
     "metadata": {},
     "output_type": "execute_result"
    },
    {
     "data": {
      "image/png": "[encoded data removed]",
      "text/plain": [
       "<Figure size 432x288 with 1 Axes>"
      ]
     },
     "metadata": {
      "needs_background": "light"
     },
     "output_type": "display_data"
    }
   ],
   "source": [
    "# use seaborn (sns) to plot a graph of the above scores\n",
    "sns.distplot(cross_validation_scores_J48)\n",
    "plt.title('Average score: {}'.format(np.mean(cross_validation_scores_J48)))"
   ]
  },
  {
   "cell_type": "code",
   "execution_count": 36,
   "metadata": {},
   "outputs": [],
   "source": [
    "#train model with 10 fold validation, \n",
    "#cross_val_predict Get predictions from each split of cross-validation for diagnostic purposes.\n",
    "y_pred_J48_crossVal = cross_val_predict(J48_crossVal, X_train, y_train, cv=10)\n",
    "\n",
    "#confusion matrix generation\n",
    "conf_matrix_J48_crossVal = confusion_matrix(y_train, y_pred_J48_crossVal)\n",
    "\n",
    "#accuracy report\n",
    "classification_report_J48_crossVal = classification_report(y_train, y_pred_J48_crossVal)\n",
    "\n",
    "#Tree topology metrics\n",
    "n_nodes_J48_crossVal = J48_crossVal.tree_.node_count\n",
    "depth_J48_crossVal = J48_crossVal.get_depth()\n",
    "num_Leaves_J48_crossVal = J48_crossVal.get_n_leaves()\n",
    "\n",
    "#Find the accuracy of this model based on the test data\n",
    "accuracy_J48_crossVal = accuracy_score(y_train, y_pred_J48_crossVal)*100\n",
    "\n",
    "J48_crossVal_data = [n_nodes_J48_crossVal, depth_J48_crossVal, num_Leaves_J48_crossVal, accuracy_J48_crossVal]\n"
   ]
  },
  {
   "cell_type": "code",
   "execution_count": 37,
   "metadata": {},
   "outputs": [
    {
     "name": "stdout",
     "output_type": "stream",
     "text": [
      "Confusion Matrix\n",
      "[[ 439    4    7   11   17    9   15   11   22    5]\n",
      " [   2  149    7    9    5   11    3   10   12    2]\n",
      " [   4    3 1761    4   78    8    4   27   82    9]\n",
      " [  16    6    5  191   12    5    7   14   12    2]\n",
      " [  16    7   96    8 1848    6   10   47  169   13]\n",
      " [   9    6    4    5    7  179   10    6   10    4]\n",
      " [  10    7   10    6   13    3  286   13   10    2]\n",
      " [  11    7   24   11   43    6    7 1211   81    9]\n",
      " [  15    6   89   16  146   14   14   90 1847   13]\n",
      " [   3    1   19    2   24    2    1    6   10  142]]\n",
      "\n",
      "\n",
      "              precision    recall  f1-score   support\n",
      "\n",
      "       eight       0.84      0.81      0.82       540\n",
      "        five       0.76      0.71      0.73       210\n",
      "        four       0.87      0.89      0.88      1980\n",
      "        nine       0.73      0.71      0.72       270\n",
      "         one       0.84      0.83      0.84      2220\n",
      "       seven       0.74      0.75      0.74       240\n",
      "         six       0.80      0.79      0.80       360\n",
      "       three       0.84      0.86      0.85      1410\n",
      "         two       0.82      0.82      0.82      2250\n",
      "        zero       0.71      0.68      0.69       210\n",
      "\n",
      "    accuracy                           0.83      9690\n",
      "   macro avg       0.79      0.78      0.79      9690\n",
      "weighted avg       0.83      0.83      0.83      9690\n",
      "\n",
      "\n",
      "\n",
      "Number of Nodes : 1483\n",
      "Depth of Tree : 24\n",
      "Number of Leaves : 742\n",
      "Accuracy of Model : 83.1062951496388\n"
     ]
    }
   ],
   "source": [
    "#Print Confusion matrix and other important results\n",
    "print(\"Confusion Matrix\")\n",
    "print(conf_matrix_J48_crossVal)\n",
    "\n",
    "print(\"\\n\")\n",
    "print(classification_report_J48_crossVal)\n",
    "#print(roc_auc_score(y, y_pred))\n",
    "print(\"\\n\")\n",
    "\n",
    "\n",
    "print(\"Number of Nodes : \" + str(n_nodes_J48_crossVal))\n",
    "print(\"Depth of Tree : \" + str(depth_J48_crossVal))\n",
    "print(\"Number of Leaves : \" + str(num_Leaves_J48_crossVal))\n",
    "print(\"Accuracy of Model : \" + str(accuracy_J48_crossVal))"
   ]
  },
  {
   "cell_type": "markdown",
   "metadata": {},
   "source": [
    "<hr>\n",
    "<h4>Part 2 - Using test data<h4>"
   ]
  },
  {
   "cell_type": "markdown",
   "metadata": {},
   "source": [
    "Goal : Run decision classifier on test data provided"
   ]
  },
  {
   "cell_type": "code",
   "execution_count": 38,
   "metadata": {},
   "outputs": [],
   "source": [
    "#define the model to be used \n",
    "J48_withTestData = DecisionTreeClassifier()\n",
    "\n",
    "#fit this model using the test data\n",
    "J48_withTestData.fit(X_train, y_train)\n",
    "\n",
    "#test this model on the seperated data\n",
    "y_pred_J48_withTestData = J48_withTestData.predict(X_test)\n",
    "\n",
    "\n",
    "#confusion matrix generation\n",
    "conf_matrix_J48_withTestData = confusion_matrix(y_test, y_pred_J48_withTestData)\n",
    "\n",
    "#accuracy report\n",
    "classification_report_J48_withTestData = classification_report(y_test, y_pred_J48_withTestData)\n",
    "\n",
    "#Tree topology metrics\n",
    "n_nodes_J48_withTestData = J48_withTestData.tree_.node_count\n",
    "depth_J48_withTestData = J48_withTestData.get_depth()\n",
    "num_Leaves_J48_withTestData = J48_withTestData.get_n_leaves()\n",
    "\n",
    "#Find the accuracy of this model based on the test data\n",
    "accuracy_J48_withTestData = accuracy_score(y_test, y_pred_J48_withTestData)*100\n",
    "\n",
    "J48_withTestData_data = [n_nodes_J48_withTestData, depth_J48_withTestData, num_Leaves_J48_withTestData, accuracy_J48_withTestData]"
   ]
  },
  {
   "cell_type": "code",
   "execution_count": 39,
   "metadata": {},
   "outputs": [
    {
     "name": "stdout",
     "output_type": "stream",
     "text": [
      "Confusion Matrix\n",
      "[[ 66   7   6   7  11   9  13  15  11   5]\n",
      " [  0  27   0   0   0   2   1  30   0   0]\n",
      " [  6   2 441   6  57  18   8  41  54  27]\n",
      " [ 12   1   1  38   1   6   1   2  28   0]\n",
      " [  4   2  57   2 547   2   0  11  69  26]\n",
      " [  0  10   2   4  24  13   3   4   0   0]\n",
      " [ 13  11   3   3  13   1  36   6   4   0]\n",
      " [  2   0  26   6  44   1   8 310  51   2]\n",
      " [  3   3  69   5  66  14   8  47 530   5]\n",
      " [  0   0  18   2   7   1   4   0   4  24]]\n",
      "\n",
      "\n",
      "              precision    recall  f1-score   support\n",
      "\n",
      "       eight       0.62      0.44      0.52       150\n",
      "        five       0.43      0.45      0.44        60\n",
      "        four       0.71      0.67      0.69       660\n",
      "        nine       0.52      0.42      0.47        90\n",
      "         one       0.71      0.76      0.73       720\n",
      "       seven       0.19      0.22      0.20        60\n",
      "         six       0.44      0.40      0.42        90\n",
      "       three       0.67      0.69      0.68       450\n",
      "         two       0.71      0.71      0.71       750\n",
      "        zero       0.27      0.40      0.32        60\n",
      "\n",
      "    accuracy                           0.66      3090\n",
      "   macro avg       0.53      0.52      0.52      3090\n",
      "weighted avg       0.66      0.66      0.66      3090\n",
      "\n",
      "Number of Nodes : 1485\n",
      "Depth of Tree : 24\n",
      "Number of Leaves : 743\n",
      "Accuracy of Model : 65.76051779935274\n"
     ]
    }
   ],
   "source": [
    "#Print Confusion matrix and other important results\n",
    "print(\"Confusion Matrix\")\n",
    "print(conf_matrix_J48_withTestData)\n",
    "print(\"\\n\")\n",
    "print(classification_report_J48_withTestData)\n",
    "\n",
    "print(\"Number of Nodes : \" + str(n_nodes_J48_withTestData))\n",
    "print(\"Depth of Tree : \" + str(depth_J48_withTestData))\n",
    "print(\"Number of Leaves : \" + str(num_Leaves_J48_withTestData))\n",
    "print(\"Accuracy of Model : \" + str(accuracy_J48_withTestData))"
   ]
  },
  {
   "cell_type": "markdown",
   "metadata": {},
   "source": [
    "<hr>\n",
    "<h4>Part 3 - 4000 into the test cases <h4>"
   ]
  },
  {
   "cell_type": "markdown",
   "metadata": {},
   "source": [
    "Goal : Run decision tree classifier on a reduced training set, but increased training set."
   ]
  },
  {
   "cell_type": "code",
   "execution_count": 40,
   "metadata": {},
   "outputs": [],
   "source": [
    "#define the model to be used \n",
    "J48_4000Split = DecisionTreeClassifier()\n",
    "\n",
    "#fit this model using the test data\n",
    "J48_4000Split.fit(X_train_4000Split, y_train_4000Split)\n",
    "\n",
    "#test this model on the seperated data\n",
    "y_pred_J48_4000Split = J48_4000Split.predict(X_test_4000Split)\n",
    "\n",
    "#generate confusion matrix\n",
    "conf_matrix_J48_4000Split = confusion_matrix(y_test_4000Split, y_pred_J48_4000Split)\n",
    "\n",
    "#generate classification report\n",
    "classification_report_J48_4000Split = classification_report(y_test_4000Split, y_pred_J48_4000Split)\n",
    "\n",
    "#Tree topology metrics\n",
    "n_nodes_J48_4000Split = J48_4000Split.tree_.node_count\n",
    "depth_J48_4000Split = J48_4000Split.get_depth()\n",
    "num_Leaves_J48_4000Split = J48_4000Split.get_n_leaves()\n",
    "\n",
    "#Find the accuracy of this model based on the test data\n",
    "accuracy_J48_4000Split = accuracy_score(y_test_4000Split, y_pred_J48_4000Split)*100\n",
    "\n",
    "J48_4000Split_data = [n_nodes_J48_4000Split, depth_J48_4000Split, num_Leaves_J48_4000Split, accuracy_J48_4000Split]"
   ]
  },
  {
   "cell_type": "code",
   "execution_count": 41,
   "metadata": {},
   "outputs": [
    {
     "name": "stdout",
     "output_type": "stream",
     "text": [
      "Confusion Matrix\n",
      "[[ 222   11   14   13   24   13   15   24   20    7]\n",
      " [   1   79   14    5    4    2    2   29    3    0]\n",
      " [   8    1 1133    3  123    7   19   36   91   25]\n",
      " [  22    5    5  117   10    7    5   11   28    2]\n",
      " [  20    4  117    5 1280   10    5   36  149   22]\n",
      " [   5    4   10    5   23   92    6   11    7    2]\n",
      " [  31   11    6    4   10    3  147   15    9    5]\n",
      " [  20    3   20   16   69    1   15  784  125   12]\n",
      " [  15    8   93    2  184    2   11   87 1257    4]\n",
      " [   2    0   17    2   44    0    3    5    8   67]]\n",
      "\n",
      "\n",
      "              precision    recall  f1-score   support\n",
      "\n",
      "       eight       0.64      0.61      0.63       363\n",
      "        five       0.63      0.57      0.60       139\n",
      "        four       0.79      0.78      0.79      1446\n",
      "        nine       0.68      0.55      0.61       212\n",
      "         one       0.72      0.78      0.75      1648\n",
      "       seven       0.67      0.56      0.61       165\n",
      "         six       0.64      0.61      0.63       241\n",
      "       three       0.76      0.74      0.75      1065\n",
      "         two       0.74      0.76      0.75      1663\n",
      "        zero       0.46      0.45      0.46       148\n",
      "\n",
      "    accuracy                           0.73      7090\n",
      "   macro avg       0.67      0.64      0.66      7090\n",
      "weighted avg       0.73      0.73      0.73      7090\n",
      "\n",
      "Number of Nodes : 1153\n",
      "Depth of Tree : 21\n",
      "Number of Leaves : 577\n",
      "Accuracy of Model : 73.03244005641749\n"
     ]
    }
   ],
   "source": [
    "#Print Confusion matrix and other important results\n",
    "print(\"Confusion Matrix\")\n",
    "print(conf_matrix_J48_4000Split)\n",
    "print(\"\\n\")\n",
    "print(classification_report_J48_4000Split)\n",
    "\n",
    "print(\"Number of Nodes : \" + str(n_nodes_J48_4000Split))\n",
    "print(\"Depth of Tree : \" + str(depth_J48_4000Split))\n",
    "print(\"Number of Leaves : \" + str(num_Leaves_J48_4000Split))\n",
    "print(\"Accuracy of Model : \" + str(accuracy_J48_4000Split))"
   ]
  },
  {
   "cell_type": "markdown",
   "metadata": {},
   "source": [
    "<hr>\n",
    "<h4>Part 4 - 9000 into the test cases <h4>"
   ]
  },
  {
   "cell_type": "markdown",
   "metadata": {},
   "source": [
    "Goal : Run decision tree classifier on a reduced training set, but increased training set"
   ]
  },
  {
   "cell_type": "code",
   "execution_count": 42,
   "metadata": {},
   "outputs": [],
   "source": [
    "#define the model to be used \n",
    "J48_9000Split = DecisionTreeClassifier()\n",
    "\n",
    "#fit this model using the test data\n",
    "J48_9000Split.fit(X_train_9000Split, y_train_9000Split)\n",
    "\n",
    "#test this model on the seperated data\n",
    "y_pred_J48_9000Split = J48_9000Split.predict(X_test_9000Split)\n",
    "\n",
    "#generate confusion matrix\n",
    "conf_matrix_J48_9000Split = confusion_matrix(y_test_9000Split, y_pred_J48_9000Split)\n",
    "\n",
    "#generate classification report\n",
    "classification_report_J48_9000Split = classification_report(y_test_9000Split, y_pred_J48_9000Split)\n",
    "\n",
    "#Tree topology metrics\n",
    "n_nodes_J48_9000Split = J48_9000Split.tree_.node_count\n",
    "depth_J48_9000Split = J48_9000Split.get_depth()\n",
    "num_Leaves_J48_9000Split = J48_9000Split.get_n_leaves()\n",
    "\n",
    "#Find the accuracy of this model based on the test data\n",
    "accuracy_J48_9000Split = accuracy_score(y_test_9000Split, y_pred_J48_9000Split)*100\n",
    "\n",
    "J48_9000Split_data = [n_nodes_J48_9000Split, depth_J48_9000Split, num_Leaves_J48_9000Split, accuracy_J48_9000Split]"
   ]
  },
  {
   "cell_type": "code",
   "execution_count": 43,
   "metadata": {},
   "outputs": [
    {
     "name": "stdout",
     "output_type": "stream",
     "text": [
      "Confusion Matrix\n",
      "[[ 346   56   40   30   40   20   27   34   32   21]\n",
      " [  27  100   36   23    2   26    7   24    7    0]\n",
      " [  64   29 1577   31  344   50   36   52  272   31]\n",
      " [  64   14   13  129   10   12   44   22   16   10]\n",
      " [  70   25  235   38 1654   64   28   88  468  117]\n",
      " [  19    7   37   19   25   98    6    5   64    7]\n",
      " [  81    3   17   10   19   11  157   78   46    2]\n",
      " [  67   19   90   33  148    6   85 1051  256   13]\n",
      " [ 104   21  230   35  443   58   34  241 1633   53]\n",
      " [  21    0   35    5   66    2    0   10   52   63]]\n",
      "\n",
      "\n",
      "              precision    recall  f1-score   support\n",
      "\n",
      "       eight       0.40      0.54      0.46       646\n",
      "        five       0.36      0.40      0.38       252\n",
      "        four       0.68      0.63      0.66      2486\n",
      "        nine       0.37      0.39      0.38       334\n",
      "         one       0.60      0.59      0.60      2787\n",
      "       seven       0.28      0.34      0.31       287\n",
      "         six       0.37      0.37      0.37       424\n",
      "       three       0.65      0.59      0.62      1768\n",
      "         two       0.57      0.57      0.57      2852\n",
      "        zero       0.20      0.25      0.22       254\n",
      "\n",
      "    accuracy                           0.56     12090\n",
      "   macro avg       0.45      0.47      0.46     12090\n",
      "weighted avg       0.57      0.56      0.57     12090\n",
      "\n",
      "Number of Nodes : 231\n",
      "Depth of Tree : 14\n",
      "Number of Leaves : 116\n",
      "Accuracy of Model : 56.31100082712987\n"
     ]
    }
   ],
   "source": [
    "#Print Confusion matrix and other important results\n",
    "print(\"Confusion Matrix\")\n",
    "print(conf_matrix_J48_9000Split)\n",
    "print(\"\\n\")\n",
    "print(classification_report_J48_9000Split)\n",
    "\n",
    "print(\"Number of Nodes : \" + str(n_nodes_J48_9000Split))\n",
    "print(\"Depth of Tree : \" + str(depth_J48_9000Split))\n",
    "print(\"Number of Leaves : \" + str(num_Leaves_J48_9000Split))\n",
    "print(\"Accuracy of Model : \" + str(accuracy_J48_9000Split))"
   ]
  },
  {
   "cell_type": "markdown",
   "metadata": {},
   "source": [
    "<h4> Generate Table to Explore Results <h4>"
   ]
  },
  {
   "cell_type": "code",
   "execution_count": 44,
   "metadata": {},
   "outputs": [
    {
     "data": {
      "text/html": [
       "<div>\n",
       "<style scoped>\n",
       "    .dataframe tbody tr th:only-of-type {\n",
       "        vertical-align: middle;\n",
       "    }\n",
       "\n",
       "    .dataframe tbody tr th {\n",
       "        vertical-align: top;\n",
       "    }\n",
       "\n",
       "    .dataframe thead th {\n",
       "        text-align: right;\n",
       "    }\n",
       "</style>\n",
       "<table border=\"1\" class=\"dataframe\">\n",
       "  <thead>\n",
       "    <tr style=\"text-align: right;\">\n",
       "      <th></th>\n",
       "      <th>Number of Nodes</th>\n",
       "      <th>Depth of Tree</th>\n",
       "      <th>Number of Leaves</th>\n",
       "      <th>Accuracy</th>\n",
       "    </tr>\n",
       "  </thead>\n",
       "  <tbody>\n",
       "    <tr>\n",
       "      <th>Cross Validation</th>\n",
       "      <td>1483</td>\n",
       "      <td>24</td>\n",
       "      <td>742</td>\n",
       "      <td>83.106295</td>\n",
       "    </tr>\n",
       "    <tr>\n",
       "      <th>Test Data</th>\n",
       "      <td>1485</td>\n",
       "      <td>24</td>\n",
       "      <td>743</td>\n",
       "      <td>65.760518</td>\n",
       "    </tr>\n",
       "    <tr>\n",
       "      <th>4000 Split</th>\n",
       "      <td>1153</td>\n",
       "      <td>21</td>\n",
       "      <td>577</td>\n",
       "      <td>73.032440</td>\n",
       "    </tr>\n",
       "    <tr>\n",
       "      <th>9000 Split</th>\n",
       "      <td>231</td>\n",
       "      <td>14</td>\n",
       "      <td>116</td>\n",
       "      <td>56.311001</td>\n",
       "    </tr>\n",
       "  </tbody>\n",
       "</table>\n",
       "</div>"
      ],
      "text/plain": [
       "                  Number of Nodes  Depth of Tree  Number of Leaves   Accuracy\n",
       "Cross Validation             1483             24               742  83.106295\n",
       "Test Data                    1485             24               743  65.760518\n",
       "4000 Split                   1153             21               577  73.032440\n",
       "9000 Split                    231             14               116  56.311001"
      ]
     },
     "execution_count": 44,
     "metadata": {},
     "output_type": "execute_result"
    }
   ],
   "source": [
    "infoFrames = [J48_crossVal_data, J48_withTestData_data, J48_4000Split_data, J48_9000Split_data]\n",
    "\n",
    "J48_Table = pd.DataFrame(infoFrames, columns=[\"Number of Nodes\", \"Depth of Tree\", \"Number of Leaves\", \"Accuracy\" ], index=['Cross Validation','Test Data','4000 Split','9000 Split'])\n",
    "\n",
    "J48_Table"
   ]
  },
  {
   "cell_type": "markdown",
   "metadata": {},
   "source": [
    "<h3> J48 Parameter Exploration <h3>\n",
    "\n",
    "<hr>\n"
   ]
  },
  {
   "cell_type": "markdown",
   "metadata": {},
   "source": [
    "    \n",
    "Goal : To understand how binary splits or multiple branching, pruning,\n",
    "confidence threshold for pruning, and the minimal number of instances permissible per leaf."
   ]
  },
  {
   "cell_type": "markdown",
   "metadata": {},
   "source": [
    "<h4> binary splits or multiple branching <h4> "
   ]
  },
  {
   "cell_type": "markdown",
   "metadata": {},
   "source": [
    "Editing this with the DecisionTreeClassifier is not possible, thus we must hypothesize on its effects."
   ]
  },
  {
   "cell_type": "markdown",
   "metadata": {},
   "source": [
    "<h4>Pruning <h4>"
   ]
  },
  {
   "cell_type": "markdown",
   "metadata": {},
   "source": [
    " Information on pruning a decision tree classifier, if it doesnt work open a tab in incognito mode and it will show you the full article. \n",
    " https://medium.com/swlh/post-pruning-decision-trees-using-python-b5d4bcda8e23\n",
    " \n",
    " the below implementation is heavily influenced by the above link."
   ]
  },
  {
   "cell_type": "code",
   "execution_count": null,
   "metadata": {},
   "outputs": [],
   "source": []
  },
  {
   "cell_type": "code",
   "execution_count": 45,
   "metadata": {},
   "outputs": [],
   "source": [
    "#cost_complexity_pruning_path - implements the pruning process and returns the effective \n",
    "# alphas and respective impurities of the prund tree\n",
    "\n",
    "classifier_J48_TD_Pruned=DecisionTreeClassifier(random_state=1).\\\n",
    "cost_complexity_pruning_path(X_train, y_train)\n",
    "\n",
    "#ccp_alpha is used as a parameter for post pruning - ie pruning the tree after it has 'grown'\n",
    "ccp_alphas, impurities = classifier_J48_TD_Pruned.ccp_alphas, classifier_J48_TD_Pruned.impurities"
   ]
  },
  {
   "cell_type": "code",
   "execution_count": 46,
   "metadata": {},
   "outputs": [
    {
     "data": {
      "text/plain": [
       "Text(0.5, 1.0, 'Total Impurity vs effective alpha for training set')"
      ]
     },
     "execution_count": 46,
     "metadata": {},
     "output_type": "execute_result"
    },
    {
     "data": {
      "image/png": "[encoded data removed]",
      "text/plain": [
       "<Figure size 432x288 with 1 Axes>"
      ]
     },
     "metadata": {
      "needs_background": "light"
     },
     "output_type": "display_data"
    }
   ],
   "source": [
    "#Plotting the alphas vs impurities(except the last alpha corresponding to root node):\n",
    "\n",
    "fig, ax = plt.subplots()\n",
    "ax.plot(ccp_alphas[:-1], impurities[:-1], marker='o', drawstyle=\"steps-post\")\n",
    "ax.set_xlabel(\"effective alpha\")\n",
    "ax.set_ylabel(\"total impurity of leaves\")\n",
    "ax.set_title(\"Total Impurity vs effective alpha for training set\")"
   ]
  },
  {
   "cell_type": "code",
   "execution_count": 47,
   "metadata": {},
   "outputs": [
    {
     "data": {
      "text/plain": [
       "'\\n#build a forest of trees with different values of ccp_alpha values extracted from \\n# cost_complexity_pruning_path in order. The last tree will be the root node.\\n\\nclfs = []\\nfor ccp_alpha in ccp_alphas:\\n    clf = DecisionTreeClassifier(random_state=1,ccp_alpha=ccp_alpha)\\n    clf.fit(X_train, y_train)\\n    clfs.append(clf)\\n\\nprint(\"Number of nodes in the last tree is: {} with ccp_alpha: {} and a depth of: {}\".format(\\nclfs[-1].tree_.node_count, ccp_alphas[-1],clfs[-1].tree_.max_depth))\\n\\n#Remove the last tree in the list as it is a single noded tree with a depth of 0, thus we can remove. \\n\\nclfs = clfs[:-1]\\nccp_alphas = ccp_alphas[:-1]\\n\\n# plot how different values of ccp_alpha effects the number of nodes and depth of the corresponding pruned trees\\n\\nnode_counts = [clf.tree_.node_count for clf in clfs]\\ndepth = [clf.tree_.max_depth for clf in clfs]\\nfig, ax = plt.subplots(2, 1)\\nax[0].plot(ccp_alphas, node_counts, marker=\\'o\\', drawstyle=\"steps-post\")\\nax[0].set_xlabel(\"alpha\")\\nax[0].set_ylabel(\"number of nodes\")\\nax[0].set_title(\"Number of nodes vs alpha\")\\nax[1].plot(ccp_alphas, depth, marker=\\'o\\', drawstyle=\"steps-post\")\\nax[1].set_xlabel(\"alpha\")\\nax[1].set_ylabel(\"depth of tree\")\\nax[1].set_title(\"Depth vs alpha\")\\nfig.tight_layout()\\n\\n#plot the accuracy vs alpha for training and test \\n\\ntrain_scores = [clf.score(X_train, y_train) for clf in clfs]\\ntest_scores = [clf.score(X_test, y_test) for clf in clfs]\\nfig, ax = plt.subplots()\\nax.set_xlabel(\"alpha\")\\nax.set_ylabel(\"accuracy\")\\nax.set_title(\"Accuracy vs alpha for training and testing sets\")\\nax.plot(ccp_alphas, train_scores, marker=\\'o\\', label=\"train\",\\n        drawstyle=\"steps-post\")\\nax.plot(ccp_alphas, test_scores, marker=\\'o\\', label=\"test\",\\n        drawstyle=\"steps-post\")\\nax.legend()\\nplt.show()\\n\\n\\nindex_best_model = np.argmax(test_scores)\\nbest_model = clfs[index_best_model]\\nprint(\\'Training accuracy of best model: \\',best_model.score(X_train, y_train))\\nprint(\\'Test accuracy of best model: \\',best_model.score(X_test, y_test))\\n\\n#turn the above dictionary into a dataframe then save it to a file \\n#alphaData = pd.DataFrame(clfs)\\n#alphaData.to_csv(\\'alphaData.csv\\')\\n'"
      ]
     },
     "execution_count": 47,
     "metadata": {},
     "output_type": "execute_result"
    }
   ],
   "source": [
    "\n",
    "#the below codeis disabled as it takes over 4 hours to run, running DecisionTreeClassifer over 661 instances.\n",
    "# In short, it runs decision tree classifeirs over trees pruned with increasing alphas, then saves these results to a \n",
    "# list and graphs the resulting accuracies. This allows for observation of the best ccp_alpha value to use for \n",
    "# this model. \n",
    "'''\n",
    "#build a forest of trees with different values of ccp_alpha values extracted from \n",
    "# cost_complexity_pruning_path in order. The last tree will be the root node.\n",
    "\n",
    "clfs = []\n",
    "for ccp_alpha in ccp_alphas:\n",
    "    clf = DecisionTreeClassifier(random_state=1,ccp_alpha=ccp_alpha)\n",
    "    clf.fit(X_train, y_train)\n",
    "    clfs.append(clf)\n",
    "\n",
    "print(\"Number of nodes in the last tree is: {} with ccp_alpha: {} and a depth of: {}\".format(\n",
    "clfs[-1].tree_.node_count, ccp_alphas[-1],clfs[-1].tree_.max_depth))\n",
    "\n",
    "#Remove the last tree in the list as it is a single noded tree with a depth of 0, thus we can remove. \n",
    "\n",
    "clfs = clfs[:-1]\n",
    "ccp_alphas = ccp_alphas[:-1]\n",
    "\n",
    "# plot how different values of ccp_alpha effects the number of nodes and depth of the corresponding pruned trees\n",
    "\n",
    "node_counts = [clf.tree_.node_count for clf in clfs]\n",
    "depth = [clf.tree_.max_depth for clf in clfs]\n",
    "fig, ax = plt.subplots(2, 1)\n",
    "ax[0].plot(ccp_alphas, node_counts, marker='o', drawstyle=\"steps-post\")\n",
    "ax[0].set_xlabel(\"alpha\")\n",
    "ax[0].set_ylabel(\"number of nodes\")\n",
    "ax[0].set_title(\"Number of nodes vs alpha\")\n",
    "ax[1].plot(ccp_alphas, depth, marker='o', drawstyle=\"steps-post\")\n",
    "ax[1].set_xlabel(\"alpha\")\n",
    "ax[1].set_ylabel(\"depth of tree\")\n",
    "ax[1].set_title(\"Depth vs alpha\")\n",
    "fig.tight_layout()\n",
    "\n",
    "#plot the accuracy vs alpha for training and test \n",
    "\n",
    "train_scores = [clf.score(X_train, y_train) for clf in clfs]\n",
    "test_scores = [clf.score(X_test, y_test) for clf in clfs]\n",
    "fig, ax = plt.subplots()\n",
    "ax.set_xlabel(\"alpha\")\n",
    "ax.set_ylabel(\"accuracy\")\n",
    "ax.set_title(\"Accuracy vs alpha for training and testing sets\")\n",
    "ax.plot(ccp_alphas, train_scores, marker='o', label=\"train\",\n",
    "        drawstyle=\"steps-post\")\n",
    "ax.plot(ccp_alphas, test_scores, marker='o', label=\"test\",\n",
    "        drawstyle=\"steps-post\")\n",
    "ax.legend()\n",
    "plt.show()\n",
    "\n",
    "\n",
    "index_best_model = np.argmax(test_scores)\n",
    "best_model = clfs[index_best_model]\n",
    "print('Training accuracy of best model: ',best_model.score(X_train, y_train))\n",
    "print('Test accuracy of best model: ',best_model.score(X_test, y_test))\n",
    "\n",
    "#turn the above dictionary into a dataframe then save it to a file \n",
    "#alphaData = pd.DataFrame(clfs)\n",
    "#alphaData.to_csv('alphaData.csv')\n",
    "'''"
   ]
  },
  {
   "cell_type": "code",
   "execution_count": null,
   "metadata": {},
   "outputs": [],
   "source": []
  },
  {
   "cell_type": "code",
   "execution_count": null,
   "metadata": {},
   "outputs": [],
   "source": []
  },
  {
   "cell_type": "code",
   "execution_count": null,
   "metadata": {},
   "outputs": [],
   "source": []
  },
  {
   "cell_type": "code",
   "execution_count": null,
   "metadata": {},
   "outputs": [],
   "source": []
  },
  {
   "cell_type": "markdown",
   "metadata": {},
   "source": [
    "Conclusions from above : approx 0.001 is the most effective value of cc_alpha on the test set. Pruning only reduces the accuracy of the model ran on its training data. "
   ]
  },
  {
   "cell_type": "markdown",
   "metadata": {},
   "source": [
    "part 1 - Cross-Validation"
   ]
  },
  {
   "cell_type": "code",
   "execution_count": 48,
   "metadata": {},
   "outputs": [],
   "source": [
    "J48_pruned_crossVal = DecisionTreeClassifier(ccp_alpha= 0.001)\n",
    "J48_pruned_crossVal.fit(X_train, y_train)\n",
    "\n",
    "#setup cross validation using the above classifier, X_train = data to be classified, y = the labels, CV = number of folds\n",
    "cross_validation_scores_J48_pruned = cross_val_score(J48_pruned_crossVal, X_train, y_train, cv=10)\n",
    "\n",
    "#train model with 10 fold validation, \n",
    "#cross_val_predict Get predictions from each split of cross-validation for diagnostic purposes.\n",
    "y_pred_J48_pruned_crossVal = cross_val_predict(J48_pruned_crossVal, X_train, y_train, cv=10)\n",
    "\n",
    "#confusion matrix generation\n",
    "conf_matrix_J48_pruned_crossVal = confusion_matrix(y_train, y_pred_J48_pruned_crossVal)\n",
    "\n",
    "#accuracy report\n",
    "classification_report_J48_pruned_crossVal = classification_report(y_train, y_pred_J48_pruned_crossVal)\n",
    "\n",
    "#Tree topology metrics\n",
    "n_nodes_J48_pruned_crossVal = J48_pruned_crossVal.tree_.node_count\n",
    "depth_J48_pruned_crossVal = J48_pruned_crossVal.get_depth()\n",
    "num_Leaves_J48_pruned_crossVal = J48_pruned_crossVal.get_n_leaves()\n",
    "\n",
    "#Find the accuracy of this model based on the test data\n",
    "accuracy_J48_pruned_crossVal = accuracy_score(y_train, y_pred_J48_pruned_crossVal)*100\n",
    "\n",
    "J48_pruned_crossVal_data = [n_nodes_J48_pruned_crossVal, depth_J48_pruned_crossVal, num_Leaves_J48_pruned_crossVal, accuracy_J48_pruned_crossVal]\n"
   ]
  },
  {
   "cell_type": "code",
   "execution_count": 49,
   "metadata": {},
   "outputs": [
    {
     "name": "stdout",
     "output_type": "stream",
     "text": [
      "Confusion Matrix\n",
      "[[ 412    3   12   11   29    8   14   20   24    7]\n",
      " [   7  124    7   12   10    9    7    9   24    1]\n",
      " [   8   19 1721    2   95    2    3   26   93   11]\n",
      " [  15    5    3  182    8    2    9   18   25    3]\n",
      " [   8   13  108    8 1828    5    5   52  178   15]\n",
      " [   7   11    5    3   22  147   15   14   14    2]\n",
      " [  19    6   10    7   14    5  259   23   16    1]\n",
      " [  16    6   29   22   48    5   11 1170   97    6]\n",
      " [  13   11   99   20  168   10   12   91 1823    3]\n",
      " [   3    0   27    2   32    0    0    7   15  124]]\n",
      "\n",
      "\n",
      "              precision    recall  f1-score   support\n",
      "\n",
      "       eight       0.81      0.76      0.79       540\n",
      "        five       0.63      0.59      0.61       210\n",
      "        four       0.85      0.87      0.86      1980\n",
      "        nine       0.68      0.67      0.68       270\n",
      "         one       0.81      0.82      0.82      2220\n",
      "       seven       0.76      0.61      0.68       240\n",
      "         six       0.77      0.72      0.75       360\n",
      "       three       0.82      0.83      0.82      1410\n",
      "         two       0.79      0.81      0.80      2250\n",
      "        zero       0.72      0.59      0.65       210\n",
      "\n",
      "    accuracy                           0.80      9690\n",
      "   macro avg       0.76      0.73      0.74      9690\n",
      "weighted avg       0.80      0.80      0.80      9690\n",
      "\n",
      "Number of Nodes : 313\n",
      "Depth of Tree : 14\n",
      "Number of Leaves : 157\n",
      "Accuracy of Model : 80.3921568627451\n"
     ]
    }
   ],
   "source": [
    "#Print Confusion matrix and other important results\n",
    "print(\"Confusion Matrix\")\n",
    "print(conf_matrix_J48_pruned_crossVal)\n",
    "print(\"\\n\")\n",
    "print(classification_report_J48_pruned_crossVal)\n",
    "\n",
    "print(\"Number of Nodes : \" + str(n_nodes_J48_pruned_crossVal))\n",
    "print(\"Depth of Tree : \" + str(depth_J48_pruned_crossVal))\n",
    "print(\"Number of Leaves : \" + str(num_Leaves_J48_pruned_crossVal))\n",
    "print(\"Accuracy of Model : \" + str(accuracy_J48_pruned_crossVal))"
   ]
  },
  {
   "cell_type": "code",
   "execution_count": null,
   "metadata": {},
   "outputs": [],
   "source": []
  },
  {
   "cell_type": "markdown",
   "metadata": {},
   "source": [
    "Part 2 - With test Data"
   ]
  },
  {
   "cell_type": "code",
   "execution_count": 50,
   "metadata": {},
   "outputs": [],
   "source": [
    "#define the model to be used \n",
    "J48_pruned_testData = DecisionTreeClassifier(ccp_alpha= 0.001)\n",
    "\n",
    "#fit this model using the test data\n",
    "J48_pruned_testData.fit(X_train, y_train)\n",
    "\n",
    "#test this model on the seperated data\n",
    "y_pred_J48_pruned_testData = J48_pruned_testData.predict(X_test)\n",
    "\n",
    "#generate confusion matrix\n",
    "conf_matrix_J48_pruned_testData = confusion_matrix(y_test, y_pred_J48_pruned_testData)\n",
    "\n",
    "#generate classification report\n",
    "classification_report_J48_pruned_testData = classification_report(y_test, y_pred_J48_pruned_testData)\n",
    "\n",
    "#Tree topology metrics\n",
    "n_nodes_J48_pruned_testData = J48_pruned_testData.tree_.node_count\n",
    "depth_J48_pruned_testData = J48_pruned_testData.get_depth()\n",
    "num_Leaves_J48_pruned_testData = J48_pruned_testData.get_n_leaves()\n",
    "\n",
    "#Find the accuracy of this model based on the test data\n",
    "accuracy_J48_pruned_testData = accuracy_score(y_test, y_pred_J48_pruned_testData)*100\n",
    "\n",
    "J48_pruned_testData_data = [n_nodes_J48_pruned_testData, depth_J48_pruned_testData, num_Leaves_J48_pruned_testData, accuracy_J48_pruned_testData]\n"
   ]
  },
  {
   "cell_type": "code",
   "execution_count": 52,
   "metadata": {},
   "outputs": [
    {
     "name": "stdout",
     "output_type": "stream",
     "text": [
      "Confusion Matrix\n",
      "[[ 57   8  17   7  11   8   7  19  14   2]\n",
      " [  0  28   0   0   0   2   0  30   0   0]\n",
      " [  2   3 484   1  41  10   7  52  48  12]\n",
      " [  2  14   0  45  19   0   1   0   9   0]\n",
      " [  4   0  66   2 550   4   3  14  74   3]\n",
      " [  0  10   2   3  34   4   0   4   0   3]\n",
      " [ 22  14   2   4  10   1  23   4   5   5]\n",
      " [  6   4  15   8  29  14   5 294  73   2]\n",
      " [  7   1  67   9  74   5   0  42 543   2]\n",
      " [  0   0  25   0  18   0   0   0   1  16]]\n",
      "\n",
      "\n",
      "              precision    recall  f1-score   support\n",
      "\n",
      "       eight       0.57      0.38      0.46       150\n",
      "        five       0.34      0.47      0.39        60\n",
      "        four       0.71      0.73      0.72       660\n",
      "        nine       0.57      0.50      0.53        90\n",
      "         one       0.70      0.76      0.73       720\n",
      "       seven       0.08      0.07      0.07        60\n",
      "         six       0.50      0.26      0.34        90\n",
      "       three       0.64      0.65      0.65       450\n",
      "         two       0.71      0.72      0.72       750\n",
      "        zero       0.36      0.27      0.30        60\n",
      "\n",
      "    accuracy                           0.66      3090\n",
      "   macro avg       0.52      0.48      0.49      3090\n",
      "weighted avg       0.65      0.66      0.66      3090\n",
      "\n",
      "Number of Nodes : 313\n",
      "Depth of Tree : 14\n",
      "Number of Leaves : 157\n",
      "Accuracy of Model : 66.14886731391586\n"
     ]
    }
   ],
   "source": [
    "#Print Confusion matrix and other important results\n",
    "print(\"Confusion Matrix\")\n",
    "print(conf_matrix_J48_pruned_testData)\n",
    "print(\"\\n\")\n",
    "print(classification_report_J48_pruned_testData)\n",
    "\n",
    "print(\"Number of Nodes : \" + str(n_nodes_J48_pruned_testData))\n",
    "print(\"Depth of Tree : \" + str(depth_J48_pruned_testData))\n",
    "print(\"Number of Leaves : \" + str(num_Leaves_J48_pruned_testData))\n",
    "print(\"Accuracy of Model : \" + str(accuracy_J48_pruned_testData))"
   ]
  },
  {
   "cell_type": "markdown",
   "metadata": {},
   "source": [
    "part 3 - 4000 Split "
   ]
  },
  {
   "cell_type": "code",
   "execution_count": 53,
   "metadata": {},
   "outputs": [],
   "source": [
    "#define the model to be used \n",
    "J48_pruned_4000Split = DecisionTreeClassifier(ccp_alpha= 0.001)\n",
    "\n",
    "#fit this model using the test data\n",
    "J48_pruned_4000Split.fit(X_train_4000Split, y_train_4000Split)\n",
    "\n",
    "#test this model on the seperated data\n",
    "y_pred_J48_pruned_4000Split = J48_pruned_4000Split.predict(X_test_4000Split)\n",
    "\n",
    "#generate confusion matrix\n",
    "conf_matrix_J48_pruned_4000Split = confusion_matrix(y_test_4000Split, y_pred_J48_pruned_4000Split)\n",
    "\n",
    "#generate classification report\n",
    "classification_report_J48_pruned_4000Split = classification_report(y_test_4000Split, y_pred_J48_pruned_4000Split)\n",
    "\n",
    "#Tree topology metrics\n",
    "n_nodes_J48_pruned_4000Split = J48_pruned_4000Split.tree_.node_count\n",
    "depth_J48_pruned_4000Split = J48_pruned_4000Split.get_depth()\n",
    "num_Leaves_J48_pruned_4000Split = J48_pruned_4000Split.get_n_leaves()\n",
    "\n",
    "#Find the accuracy of this model based on the test data\n",
    "accuracy_J48_pruned_4000Split = accuracy_score(y_test_4000Split, y_pred_J48_pruned_4000Split)*100\n",
    "\n",
    "J48_pruned_4000Split_data = [n_nodes_J48_pruned_4000Split, depth_J48_pruned_4000Split, num_Leaves_J48_pruned_4000Split, accuracy_J48_pruned_4000Split]\n"
   ]
  },
  {
   "cell_type": "code",
   "execution_count": 54,
   "metadata": {},
   "outputs": [
    {
     "name": "stdout",
     "output_type": "stream",
     "text": [
      "Confusion Matrix\n",
      "[[ 226   26   13   14   12   15    8   16   30    3]\n",
      " [   8   69   15    2    2    4    1   32    6    0]\n",
      " [  11    6 1144    6  127   11    6   37   70   28]\n",
      " [  21    3    3  113   18    4    5   10   32    3]\n",
      " [  18    5  117    5 1317    6    1   22  145   12]\n",
      " [  12    3    6    7   42   70   11    4    9    1]\n",
      " [  30   11   12    1   15    3  132   19   14    4]\n",
      " [  19    9   33   13   79    1    4  755  147    5]\n",
      " [  19    7   93    7  162    2    5   93 1270    5]\n",
      " [   5    0   28    3   39    0    0    8    1   64]]\n",
      "\n",
      "\n",
      "              precision    recall  f1-score   support\n",
      "\n",
      "       eight       0.61      0.62      0.62       363\n",
      "        five       0.50      0.50      0.50       139\n",
      "        four       0.78      0.79      0.79      1446\n",
      "        nine       0.66      0.53      0.59       212\n",
      "         one       0.73      0.80      0.76      1648\n",
      "       seven       0.60      0.42      0.50       165\n",
      "         six       0.76      0.55      0.64       241\n",
      "       three       0.76      0.71      0.73      1065\n",
      "         two       0.74      0.76      0.75      1663\n",
      "        zero       0.51      0.43      0.47       148\n",
      "\n",
      "    accuracy                           0.73      7090\n",
      "   macro avg       0.67      0.61      0.63      7090\n",
      "weighted avg       0.73      0.73      0.73      7090\n",
      "\n",
      "Number of Nodes : 323\n",
      "Depth of Tree : 14\n",
      "Number of Leaves : 162\n",
      "Accuracy of Model : 72.77856135401974\n"
     ]
    }
   ],
   "source": [
    "#Print Confusion matrix and other important results\n",
    "print(\"Confusion Matrix\")\n",
    "print(conf_matrix_J48_pruned_4000Split)\n",
    "print(\"\\n\")\n",
    "print(classification_report_J48_pruned_4000Split)\n",
    "\n",
    "print(\"Number of Nodes : \" + str(n_nodes_J48_pruned_4000Split))\n",
    "print(\"Depth of Tree : \" + str(depth_J48_pruned_4000Split))\n",
    "print(\"Number of Leaves : \" + str(num_Leaves_J48_pruned_4000Split))\n",
    "print(\"Accuracy of Model : \" + str(accuracy_J48_pruned_4000Split))"
   ]
  },
  {
   "cell_type": "code",
   "execution_count": null,
   "metadata": {},
   "outputs": [],
   "source": []
  },
  {
   "cell_type": "markdown",
   "metadata": {},
   "source": [
    "part 4 - 9000 Split"
   ]
  },
  {
   "cell_type": "code",
   "execution_count": 55,
   "metadata": {},
   "outputs": [],
   "source": [
    "#define the model to be used \n",
    "J48_pruned_9000Split = DecisionTreeClassifier(ccp_alpha= 0.001)\n",
    "\n",
    "#fit this model using the test data\n",
    "J48_pruned_9000Split.fit(X_train_9000Split, y_train_9000Split)\n",
    "\n",
    "#test this model on the seperated data\n",
    "y_pred_J48_pruned_9000Split = J48_pruned_9000Split.predict(X_test_9000Split)\n",
    "\n",
    "#generate confusion matrix\n",
    "conf_matrix_J48_pruned_9000Split = confusion_matrix(y_test_9000Split, y_pred_J48_pruned_9000Split)\n",
    "\n",
    "#generate classification report\n",
    "classification_report_J48_pruned_9000Split = classification_report(y_test_9000Split, y_pred_J48_pruned_9000Split)\n",
    "\n",
    "#Tree topology metrics\n",
    "n_nodes_J48_pruned_9000Split = J48_pruned_9000Split.tree_.node_count\n",
    "depth_J48_pruned_9000Split = J48_pruned_9000Split.get_depth()\n",
    "num_Leaves_J48_pruned_9000Split = J48_pruned_9000Split.get_n_leaves()\n",
    "\n",
    "#Find the accuracy of this model based on the test data\n",
    "accuracy_J48_pruned_9000Split = accuracy_score(y_test_9000Split, y_pred_J48_pruned_9000Split)*100\n",
    "\n",
    "J48_pruned_9000Split_data = [n_nodes_J48_pruned_9000Split, depth_J48_pruned_9000Split, num_Leaves_J48_pruned_9000Split, accuracy_J48_pruned_9000Split]\n"
   ]
  },
  {
   "cell_type": "code",
   "execution_count": 56,
   "metadata": {},
   "outputs": [
    {
     "name": "stdout",
     "output_type": "stream",
     "text": [
      "Confusion Matrix\n",
      "[[ 311   36   58   48   38   19   46   41   29   20]\n",
      " [  26  119   22   29    7    6   12   23    8    0]\n",
      " [  30   65 1581   23  319   19   80   49  279   41]\n",
      " [  39    5    8  154   15    9   50   24    9   21]\n",
      " [  87   32  246   40 1627   17   34   75  484  145]\n",
      " [  42    7   29   35   26   74    4    7   60    3]\n",
      " [  91    3   18   10   19   13  167   78   23    2]\n",
      " [  58   18   81   43  171   11  117 1027  234    8]\n",
      " [ 119    6  263   65  440   32   54  221 1589   63]\n",
      " [  20    2   40    7   78    1    0   11   22   73]]\n",
      "\n",
      "\n",
      "              precision    recall  f1-score   support\n",
      "\n",
      "       eight       0.38      0.48      0.42       646\n",
      "        five       0.41      0.47      0.44       252\n",
      "        four       0.67      0.64      0.65      2486\n",
      "        nine       0.34      0.46      0.39       334\n",
      "         one       0.59      0.58      0.59      2787\n",
      "       seven       0.37      0.26      0.30       287\n",
      "         six       0.30      0.39      0.34       424\n",
      "       three       0.66      0.58      0.62      1768\n",
      "         two       0.58      0.56      0.57      2852\n",
      "        zero       0.19      0.29      0.23       254\n",
      "\n",
      "    accuracy                           0.56     12090\n",
      "   macro avg       0.45      0.47      0.46     12090\n",
      "weighted avg       0.57      0.56      0.56     12090\n",
      "\n",
      "Number of Nodes : 231\n",
      "Depth of Tree : 14\n",
      "Number of Leaves : 116\n",
      "Accuracy of Model : 55.59966914805624\n"
     ]
    }
   ],
   "source": [
    "#Print Confusion matrix and other important results\n",
    "print(\"Confusion Matrix\")\n",
    "print(conf_matrix_J48_pruned_9000Split)\n",
    "print(\"\\n\")\n",
    "print(classification_report_J48_pruned_9000Split)\n",
    "\n",
    "print(\"Number of Nodes : \" + str(n_nodes_J48_pruned_9000Split))\n",
    "print(\"Depth of Tree : \" + str(depth_J48_pruned_9000Split))\n",
    "print(\"Number of Leaves : \" + str(num_Leaves_J48_pruned_9000Split))\n",
    "print(\"Accuracy of Model : \" + str(accuracy_J48_pruned_9000Split))"
   ]
  },
  {
   "cell_type": "code",
   "execution_count": null,
   "metadata": {},
   "outputs": [],
   "source": []
  },
  {
   "cell_type": "markdown",
   "metadata": {},
   "source": [
    "summary table creation"
   ]
  },
  {
   "cell_type": "code",
   "execution_count": 57,
   "metadata": {},
   "outputs": [
    {
     "data": {
      "text/html": [
       "<div>\n",
       "<style scoped>\n",
       "    .dataframe tbody tr th:only-of-type {\n",
       "        vertical-align: middle;\n",
       "    }\n",
       "\n",
       "    .dataframe tbody tr th {\n",
       "        vertical-align: top;\n",
       "    }\n",
       "\n",
       "    .dataframe thead th {\n",
       "        text-align: right;\n",
       "    }\n",
       "</style>\n",
       "<table border=\"1\" class=\"dataframe\">\n",
       "  <thead>\n",
       "    <tr style=\"text-align: right;\">\n",
       "      <th></th>\n",
       "      <th>Number of Nodes</th>\n",
       "      <th>Depth of Tree</th>\n",
       "      <th>Number of Leaves</th>\n",
       "      <th>Accuracy</th>\n",
       "    </tr>\n",
       "  </thead>\n",
       "  <tbody>\n",
       "    <tr>\n",
       "      <th>Cross Validation</th>\n",
       "      <td>313</td>\n",
       "      <td>14</td>\n",
       "      <td>157</td>\n",
       "      <td>80.392157</td>\n",
       "    </tr>\n",
       "    <tr>\n",
       "      <th>Test Data</th>\n",
       "      <td>313</td>\n",
       "      <td>14</td>\n",
       "      <td>157</td>\n",
       "      <td>66.148867</td>\n",
       "    </tr>\n",
       "    <tr>\n",
       "      <th>4000 Split</th>\n",
       "      <td>323</td>\n",
       "      <td>14</td>\n",
       "      <td>162</td>\n",
       "      <td>72.778561</td>\n",
       "    </tr>\n",
       "    <tr>\n",
       "      <th>9000 Split</th>\n",
       "      <td>231</td>\n",
       "      <td>14</td>\n",
       "      <td>116</td>\n",
       "      <td>55.599669</td>\n",
       "    </tr>\n",
       "  </tbody>\n",
       "</table>\n",
       "</div>"
      ],
      "text/plain": [
       "                  Number of Nodes  Depth of Tree  Number of Leaves   Accuracy\n",
       "Cross Validation              313             14               157  80.392157\n",
       "Test Data                     313             14               157  66.148867\n",
       "4000 Split                    323             14               162  72.778561\n",
       "9000 Split                    231             14               116  55.599669"
      ]
     },
     "execution_count": 57,
     "metadata": {},
     "output_type": "execute_result"
    }
   ],
   "source": [
    "infoFrames2 = [J48_pruned_crossVal_data, J48_pruned_testData_data, J48_pruned_4000Split_data, J48_pruned_9000Split_data]\n",
    "\n",
    "J48_Table_pruned = pd.DataFrame(infoFrames2, columns=[\"Number of Nodes\", \"Depth of Tree\", \"Number of Leaves\", \"Accuracy\" ], index=['Cross Validation','Test Data','4000 Split','9000 Split'])\n",
    "\n",
    "J48_Table_pruned"
   ]
  },
  {
   "cell_type": "markdown",
   "metadata": {},
   "source": [
    "<h4> Gini vs Entropy <h4>"
   ]
  },
  {
   "cell_type": "markdown",
   "metadata": {},
   "source": [
    "Decision tree classifier allows for use of two strategies for attribute selectioon, entropy and gini. \n",
    "“gini” = Gini index\n",
    "“entropy” = information gain."
   ]
  },
  {
   "cell_type": "markdown",
   "metadata": {},
   "source": [
    "part 1  - crossValidation"
   ]
  },
  {
   "cell_type": "code",
   "execution_count": 58,
   "metadata": {},
   "outputs": [],
   "source": [
    "J48_entropy_crossVal = DecisionTreeClassifier(criterion=\"entropy\")\n",
    "J48_entropy_crossVal.fit(X_train, y_train)\n",
    "\n",
    "#setup cross validation using the above classifier, X_train = data to be classified, y = the labels, CV = number of folds\n",
    "cross_validation_scores_J48_entropy = cross_val_score(J48_entropy_crossVal, X_train, y_train, cv=10)\n",
    "\n",
    "#train model with 10 fold validation, \n",
    "#cross_val_predict Get predictions from each split of cross-validation for diagnostic purposes.\n",
    "y_pred_J48_entropy_crossVal = cross_val_predict(J48_entropy_crossVal, X_train, y_train, cv=10)\n",
    "\n",
    "#confusion matrix generation\n",
    "conf_matrix_J48_entropy_crossVal = confusion_matrix(y_train, y_pred_J48_entropy_crossVal)\n",
    "\n",
    "#accuracy report\n",
    "classification_report_J48_entropy_crossVal = classification_report(y_train, y_pred_J48_entropy_crossVal)\n",
    "\n",
    "#Tree topology metrics\n",
    "n_nodes_J48_entropy_crossVal = J48_entropy_crossVal.tree_.node_count\n",
    "depth_J48_entropy_crossVal = J48_entropy_crossVal.get_depth()\n",
    "num_Leaves_J48_entropy_crossVal = J48_entropy_crossVal.get_n_leaves()\n",
    "\n",
    "#Find the accuracy of this model based on the test data\n",
    "accuracy_J48_entropy_crossVal = accuracy_score(y_train, y_pred_J48_entropy_crossVal)*100\n",
    "\n",
    "J48_entropy_crossVal_data = [n_nodes_J48_entropy_crossVal, depth_J48_entropy_crossVal, num_Leaves_J48_entropy_crossVal, accuracy_J48_entropy_crossVal]\n"
   ]
  },
  {
   "cell_type": "code",
   "execution_count": 59,
   "metadata": {},
   "outputs": [
    {
     "name": "stdout",
     "output_type": "stream",
     "text": [
      "Confusion Matrix\n",
      "[[ 460    9    4   14   12    6   16    9    9    1]\n",
      " [   8  163    3    5    2    8    2    4   15    0]\n",
      " [   1    5 1764    7   91    6    4   26   63   13]\n",
      " [  16    6    6  197    7    4    7   12   13    2]\n",
      " [  12    0   74    7 1915    5   11   27  148   21]\n",
      " [  10    6    4    1    3  198    5    6    6    1]\n",
      " [  16    4    9   10    4    7  287   17    6    0]\n",
      " [   9    5   24   14   41    3   20 1225   65    4]\n",
      " [  13    9   86    6  142   11   10   67 1898    8]\n",
      " [   2    0   19    4   23    0    6   10    7  139]]\n",
      "\n",
      "\n",
      "              precision    recall  f1-score   support\n",
      "\n",
      "       eight       0.84      0.85      0.85       540\n",
      "        five       0.79      0.78      0.78       210\n",
      "        four       0.89      0.89      0.89      1980\n",
      "        nine       0.74      0.73      0.74       270\n",
      "         one       0.85      0.86      0.86      2220\n",
      "       seven       0.80      0.82      0.81       240\n",
      "         six       0.78      0.80      0.79       360\n",
      "       three       0.87      0.87      0.87      1410\n",
      "         two       0.85      0.84      0.85      2250\n",
      "        zero       0.74      0.66      0.70       210\n",
      "\n",
      "    accuracy                           0.85      9690\n",
      "   macro avg       0.81      0.81      0.81      9690\n",
      "weighted avg       0.85      0.85      0.85      9690\n",
      "\n",
      "\n",
      "\n",
      "Number of Nodes : 1259\n",
      "Depth of Tree : 15\n",
      "Number of Leaves : 630\n",
      "Accuracy of Model : 85.09803921568627\n"
     ]
    }
   ],
   "source": [
    "#Print Confusion matrix and other important results\n",
    "print(\"Confusion Matrix\")\n",
    "print(conf_matrix_J48_entropy_crossVal)\n",
    "\n",
    "print(\"\\n\")\n",
    "print(classification_report_J48_entropy_crossVal)\n",
    "#print(roc_auc_score(y, y_pred))\n",
    "print(\"\\n\")\n",
    "\n",
    "\n",
    "print(\"Number of Nodes : \" + str(n_nodes_J48_entropy_crossVal))\n",
    "print(\"Depth of Tree : \" + str(depth_J48_entropy_crossVal))\n",
    "print(\"Number of Leaves : \" + str(num_Leaves_J48_entropy_crossVal))\n",
    "print(\"Accuracy of Model : \" + str(accuracy_J48_entropy_crossVal))"
   ]
  },
  {
   "cell_type": "markdown",
   "metadata": {},
   "source": [
    "part 2 - Test Data "
   ]
  },
  {
   "cell_type": "code",
   "execution_count": 60,
   "metadata": {},
   "outputs": [],
   "source": [
    "#Define model, with the splitting criterion set to entropy. Default is Gini \n",
    "J48_entropy_testData = DecisionTreeClassifier(criterion=\"entropy\")\n",
    "\n",
    "#fit this model using the test data\n",
    "J48_entropy_testData.fit(X_train, y_train)\n",
    "\n",
    "#test this model on the seperated data\n",
    "y_pred_J48_entropy_testData = J48_entropy_testData.predict(X_test)\n",
    "\n",
    "#generate confusion matrix\n",
    "conf_matrix_J48_entropy_testData = confusion_matrix(y_test, y_pred_J48_entropy_testData)\n",
    "\n",
    "#generate classification report\n",
    "classification_report_J48_entropy_testData = classification_report(y_test, y_pred_J48_entropy_testData)\n",
    "\n",
    "#Tree topology metrics\n",
    "n_nodes_J48_entropy_testData = J48_entropy_testData.tree_.node_count\n",
    "depth_J48_entropy_testData = J48_entropy_testData.get_depth()\n",
    "num_Leaves_J48_entropy_testData = J48_entropy_testData.get_n_leaves()\n",
    "\n",
    "#Find the accuracy of this model based on the test data\n",
    "accuracy_J48_entropy_testData = accuracy_score(y_test, y_pred_J48_entropy_testData)*100\n",
    "\n",
    "J48_entropy_testData_data = [n_nodes_J48_entropy_testData, depth_J48_entropy_testData, num_Leaves_J48_entropy_testData, accuracy_J48_entropy_testData]"
   ]
  },
  {
   "cell_type": "code",
   "execution_count": 61,
   "metadata": {},
   "outputs": [
    {
     "name": "stdout",
     "output_type": "stream",
     "text": [
      "Confusion Matrix\n",
      "[[ 95   4   2  16   4   6   1  13   9   0]\n",
      " [  1  26  10   0   2   1   2  18   0   0]\n",
      " [  1   3 463   7  64   8   4  40  54  16]\n",
      " [ 10   1   3  39  17   2   0   0  18   0]\n",
      " [  9   2  57   0 554   6   1   9  69  13]\n",
      " [  0   0   3   2   7  15   3  14   2  14]\n",
      " [ 27  10   5   5   5   2  31   2   1   2]\n",
      " [  9   1  10   6  21   0   6 347  47   3]\n",
      " [ 12   3  43   1  79   7   0  31 573   1]\n",
      " [  0   0   7   3  15   3   2   1   3  26]]\n",
      "\n",
      "\n",
      "              precision    recall  f1-score   support\n",
      "\n",
      "       eight       0.58      0.63      0.61       150\n",
      "        five       0.52      0.43      0.47        60\n",
      "        four       0.77      0.70      0.73       660\n",
      "        nine       0.49      0.43      0.46        90\n",
      "         one       0.72      0.77      0.74       720\n",
      "       seven       0.30      0.25      0.27        60\n",
      "         six       0.62      0.34      0.44        90\n",
      "       three       0.73      0.77      0.75       450\n",
      "         two       0.74      0.76      0.75       750\n",
      "        zero       0.35      0.43      0.39        60\n",
      "\n",
      "    accuracy                           0.70      3090\n",
      "   macro avg       0.58      0.55      0.56      3090\n",
      "weighted avg       0.70      0.70      0.70      3090\n",
      "\n",
      "Number of Nodes : 1259\n",
      "Depth of Tree : 15\n",
      "Number of Leaves : 630\n",
      "Accuracy of Model : 70.19417475728156\n"
     ]
    }
   ],
   "source": [
    "#Print Confusion matrix and other important results\n",
    "print(\"Confusion Matrix\")\n",
    "print(conf_matrix_J48_entropy_testData)\n",
    "print(\"\\n\")\n",
    "print(classification_report_J48_entropy_testData)\n",
    "\n",
    "print(\"Number of Nodes : \" + str(n_nodes_J48_entropy_testData))\n",
    "print(\"Depth of Tree : \" + str(depth_J48_entropy_testData))\n",
    "print(\"Number of Leaves : \" + str(num_Leaves_J48_entropy_testData))\n",
    "print(\"Accuracy of Model : \" + str(accuracy_J48_entropy_testData))"
   ]
  },
  {
   "cell_type": "markdown",
   "metadata": {},
   "source": [
    "part 3 - 4000 Split "
   ]
  },
  {
   "cell_type": "code",
   "execution_count": 62,
   "metadata": {},
   "outputs": [],
   "source": [
    "#define the model to be used \n",
    "J48_entropy_4000Split = DecisionTreeClassifier(criterion=\"entropy\")\n",
    "\n",
    "#fit this model using the test data\n",
    "J48_entropy_4000Split.fit(X_train_4000Split, y_train_4000Split)\n",
    "\n",
    "#test this model on the seperated data\n",
    "y_pred_J48_entropy_4000Split = J48_entropy_4000Split.predict(X_test_4000Split)\n",
    "\n",
    "#generate confusion matrix\n",
    "conf_matrix_J48_entropy_4000Split = confusion_matrix(y_test_4000Split, y_pred_J48_entropy_4000Split)\n",
    "\n",
    "#generate classification report\n",
    "classification_report_J48_entropy_4000Split = classification_report(y_test_4000Split, y_pred_J48_entropy_4000Split)\n",
    "\n",
    "#Tree topology metrics\n",
    "n_nodes_J48_entropy_4000Split = J48_entropy_4000Split.tree_.node_count\n",
    "depth_J48_entropy_4000Split = J48_entropy_4000Split.get_depth()\n",
    "num_Leaves_J48_entropy_4000Split = J48_entropy_4000Split.get_n_leaves()\n",
    "\n",
    "#Find the accuracy of this model based on the test data\n",
    "accuracy_J48_entropy_4000Split = accuracy_score(y_test_4000Split, y_pred_J48_entropy_4000Split)*100\n",
    "\n",
    "J48_entropy_4000Split_data = [n_nodes_J48_entropy_4000Split, depth_J48_entropy_4000Split, num_Leaves_J48_entropy_4000Split, accuracy_J48_entropy_4000Split]\n"
   ]
  },
  {
   "cell_type": "code",
   "execution_count": 63,
   "metadata": {},
   "outputs": [
    {
     "name": "stdout",
     "output_type": "stream",
     "text": [
      "Confusion Matrix\n",
      "[[ 261    6    5   19   19    9   13   20   10    1]\n",
      " [   2   80    3    2   14    2    2   29    5    0]\n",
      " [   7   11 1134    2   90   12    7   53  114   16]\n",
      " [  20    4    9  128    9    7    5   10   12    8]\n",
      " [   3    6  100    1 1334   10    5   27  130   32]\n",
      " [   3    2   10   11   10   85    5    7   17   15]\n",
      " [  31    5    5   16    1    5  151   11   11    5]\n",
      " [  15    2   31   12   63    8   15  789  125    5]\n",
      " [  12    6  104    5  116   10   10   45 1350    5]\n",
      " [   0    0   34    4   24    0    0    1    4   81]]\n",
      "\n",
      "\n",
      "              precision    recall  f1-score   support\n",
      "\n",
      "       eight       0.74      0.72      0.73       363\n",
      "        five       0.66      0.58      0.61       139\n",
      "        four       0.79      0.78      0.79      1446\n",
      "        nine       0.64      0.60      0.62       212\n",
      "         one       0.79      0.81      0.80      1648\n",
      "       seven       0.57      0.52      0.54       165\n",
      "         six       0.71      0.63      0.67       241\n",
      "       three       0.80      0.74      0.77      1065\n",
      "         two       0.76      0.81      0.78      1663\n",
      "        zero       0.48      0.55      0.51       148\n",
      "\n",
      "    accuracy                           0.76      7090\n",
      "   macro avg       0.69      0.67      0.68      7090\n",
      "weighted avg       0.76      0.76      0.76      7090\n",
      "\n",
      "Number of Nodes : 887\n",
      "Depth of Tree : 15\n",
      "Number of Leaves : 444\n",
      "Accuracy of Model : 76.06488011283497\n"
     ]
    }
   ],
   "source": [
    "#Print Confusion matrix and other important results\n",
    "print(\"Confusion Matrix\")\n",
    "print(conf_matrix_J48_entropy_4000Split)\n",
    "print(\"\\n\")\n",
    "print(classification_report_J48_entropy_4000Split)\n",
    "\n",
    "print(\"Number of Nodes : \" + str(n_nodes_J48_entropy_4000Split))\n",
    "print(\"Depth of Tree : \" + str(depth_J48_entropy_4000Split))\n",
    "print(\"Number of Leaves : \" + str(num_Leaves_J48_entropy_4000Split))\n",
    "print(\"Accuracy of Model : \" + str(accuracy_J48_entropy_4000Split))"
   ]
  },
  {
   "cell_type": "markdown",
   "metadata": {},
   "source": [
    "part 4 - 9000 Split"
   ]
  },
  {
   "cell_type": "code",
   "execution_count": 64,
   "metadata": {},
   "outputs": [],
   "source": [
    "#define the model to be used \n",
    "J48_entropy_9000Split = DecisionTreeClassifier(criterion=\"entropy\")\n",
    "\n",
    "#fit this model using the test data\n",
    "J48_entropy_9000Split.fit(X_train_9000Split, y_train_9000Split)\n",
    "\n",
    "#test this model on the seperated data\n",
    "y_pred_J48_entropy_9000Split = J48_entropy_9000Split.predict(X_test_9000Split)\n",
    "\n",
    "#generate confusion matrix\n",
    "conf_matrix_J48_entropy_9000Split = confusion_matrix(y_test_9000Split, y_pred_J48_entropy_9000Split)\n",
    "\n",
    "#generate classification report\n",
    "classification_report_J48_entropy_9000Split = classification_report(y_test_9000Split, y_pred_J48_entropy_9000Split)\n",
    "\n",
    "#Tree topology metrics\n",
    "n_nodes_J48_entropy_9000Split = J48_entropy_9000Split.tree_.node_count\n",
    "depth_J48_entropy_9000Split = J48_entropy_9000Split.get_depth()\n",
    "num_Leaves_J48_entropy_9000Split = J48_entropy_9000Split.get_n_leaves()\n",
    "\n",
    "#Find the accuracy of this model based on the test data\n",
    "accuracy_J48_entropy_9000Split = accuracy_score(y_test_9000Split, y_pred_J48_entropy_9000Split)*100\n",
    "\n",
    "J48_entropy_9000Split_data = [n_nodes_J48_entropy_9000Split, depth_J48_entropy_9000Split, num_Leaves_J48_entropy_9000Split, accuracy_J48_entropy_9000Split]\n"
   ]
  },
  {
   "cell_type": "code",
   "execution_count": 65,
   "metadata": {},
   "outputs": [
    {
     "name": "stdout",
     "output_type": "stream",
     "text": [
      "Confusion Matrix\n",
      "[[ 330   43   21   20   45   33   43   55   34   22]\n",
      " [  25   94   45   22    6   10   24    9   15    2]\n",
      " [  16   44 1709   39  371   17   43   62  173   12]\n",
      " [  43   51    9  141    4   10   19   28   24    5]\n",
      " [  33   26  426   22 1592   25    5  110  497   51]\n",
      " [  15   50   34   35   20   85    9    8   22    9]\n",
      " [  38   14   14    6   10   13  185   97   47    0]\n",
      " [  39   25  183   45  139   11   69  986  250   21]\n",
      " [  99   28  242   67  310    9   35  313 1729   20]\n",
      " [   2   10   46    9   71    0    4   21   16   75]]\n",
      "\n",
      "\n",
      "              precision    recall  f1-score   support\n",
      "\n",
      "       eight       0.52      0.51      0.51       646\n",
      "        five       0.24      0.37      0.30       252\n",
      "        four       0.63      0.69      0.66      2486\n",
      "        nine       0.35      0.42      0.38       334\n",
      "         one       0.62      0.57      0.59      2787\n",
      "       seven       0.40      0.30      0.34       287\n",
      "         six       0.42      0.44      0.43       424\n",
      "       three       0.58      0.56      0.57      1768\n",
      "         two       0.62      0.61      0.61      2852\n",
      "        zero       0.35      0.30      0.32       254\n",
      "\n",
      "    accuracy                           0.57     12090\n",
      "   macro avg       0.47      0.48      0.47     12090\n",
      "weighted avg       0.58      0.57      0.57     12090\n",
      "\n",
      "Number of Nodes : 207\n",
      "Depth of Tree : 10\n",
      "Number of Leaves : 104\n",
      "Accuracy of Model : 57.28701406120761\n"
     ]
    }
   ],
   "source": [
    "#Print Confusion matrix and other important results\n",
    "print(\"Confusion Matrix\")\n",
    "print(conf_matrix_J48_entropy_9000Split)\n",
    "print(\"\\n\")\n",
    "print(classification_report_J48_entropy_9000Split)\n",
    "\n",
    "print(\"Number of Nodes : \" + str(n_nodes_J48_entropy_9000Split))\n",
    "print(\"Depth of Tree : \" + str(depth_J48_entropy_9000Split))\n",
    "print(\"Number of Leaves : \" + str(num_Leaves_J48_entropy_9000Split))\n",
    "print(\"Accuracy of Model : \" + str(accuracy_J48_entropy_9000Split))"
   ]
  },
  {
   "cell_type": "code",
   "execution_count": null,
   "metadata": {},
   "outputs": [],
   "source": []
  },
  {
   "cell_type": "code",
   "execution_count": 66,
   "metadata": {},
   "outputs": [
    {
     "data": {
      "text/html": [
       "<div>\n",
       "<style scoped>\n",
       "    .dataframe tbody tr th:only-of-type {\n",
       "        vertical-align: middle;\n",
       "    }\n",
       "\n",
       "    .dataframe tbody tr th {\n",
       "        vertical-align: top;\n",
       "    }\n",
       "\n",
       "    .dataframe thead th {\n",
       "        text-align: right;\n",
       "    }\n",
       "</style>\n",
       "<table border=\"1\" class=\"dataframe\">\n",
       "  <thead>\n",
       "    <tr style=\"text-align: right;\">\n",
       "      <th></th>\n",
       "      <th>Number of Nodes</th>\n",
       "      <th>Depth of Tree</th>\n",
       "      <th>Number of Leaves</th>\n",
       "      <th>Accuracy</th>\n",
       "    </tr>\n",
       "  </thead>\n",
       "  <tbody>\n",
       "    <tr>\n",
       "      <th>Cross Validation</th>\n",
       "      <td>1259</td>\n",
       "      <td>15</td>\n",
       "      <td>630</td>\n",
       "      <td>85.098039</td>\n",
       "    </tr>\n",
       "    <tr>\n",
       "      <th>Test Data</th>\n",
       "      <td>1259</td>\n",
       "      <td>15</td>\n",
       "      <td>630</td>\n",
       "      <td>70.194175</td>\n",
       "    </tr>\n",
       "    <tr>\n",
       "      <th>4000 Split</th>\n",
       "      <td>887</td>\n",
       "      <td>15</td>\n",
       "      <td>444</td>\n",
       "      <td>76.064880</td>\n",
       "    </tr>\n",
       "    <tr>\n",
       "      <th>9000 Split</th>\n",
       "      <td>207</td>\n",
       "      <td>10</td>\n",
       "      <td>104</td>\n",
       "      <td>57.287014</td>\n",
       "    </tr>\n",
       "  </tbody>\n",
       "</table>\n",
       "</div>"
      ],
      "text/plain": [
       "                  Number of Nodes  Depth of Tree  Number of Leaves   Accuracy\n",
       "Cross Validation             1259             15               630  85.098039\n",
       "Test Data                    1259             15               630  70.194175\n",
       "4000 Split                    887             15               444  76.064880\n",
       "9000 Split                    207             10               104  57.287014"
      ]
     },
     "execution_count": 66,
     "metadata": {},
     "output_type": "execute_result"
    }
   ],
   "source": [
    "infoFrames3 = [J48_entropy_crossVal_data, J48_entropy_testData_data, J48_entropy_4000Split_data, J48_entropy_9000Split_data]\n",
    "\n",
    "J48_Table_Entropy = pd.DataFrame(infoFrames3, columns=[\"Number of Nodes\", \"Depth of Tree\", \"Number of Leaves\", \"Accuracy\" ], index=['Cross Validation','Test Data','4000 Split','9000 Split'])\n",
    "\n",
    "J48_Table_Entropy"
   ]
  },
  {
   "cell_type": "markdown",
   "metadata": {},
   "source": [
    "<h4> minimal number of instances permissible per leaf <h4>"
   ]
  },
  {
   "cell_type": "markdown",
   "metadata": {},
   "source": [
    "J48 with crossVal minimum 5 instances per leaf"
   ]
  },
  {
   "cell_type": "code",
   "execution_count": 67,
   "metadata": {},
   "outputs": [],
   "source": [
    "J48_minInstances5_crossVal = DecisionTreeClassifier(min_samples_leaf = 5)\n",
    "J48_minInstances5_crossVal.fit(X_train, y_train)\n",
    "\n",
    "#train model with 10 fold validation, \n",
    "#cross_val_predict Get predictions from each split of cross-validation for diagnostic purposes.\n",
    "y_pred_J48_minInstances5_crossVal = cross_val_predict(J48_minInstances5_crossVal, X_train, y_train, cv=10)\n",
    "\n",
    "#confusion matrix generation\n",
    "conf_matrix_J48_minInstances5_crossVal = confusion_matrix(y_train, y_pred_J48_minInstances5_crossVal)\n",
    "\n",
    "#accuracy report\n",
    "classification_report_J48_minInstances5_crossVal = classification_report(y_train, y_pred_J48_minInstances5_crossVal)\n",
    "\n",
    "#Tree topology metrics\n",
    "n_nodes_J48_minInstances5_crossVal = J48_minInstances5_crossVal.tree_.node_count\n",
    "depth_J48_minInstances5_crossVal = J48_minInstances5_crossVal.get_depth()\n",
    "num_Leaves_J48_minInstances5_crossVal = J48_minInstances5_crossVal.get_n_leaves()\n",
    "\n",
    "#Find the accuracy of this model based on the test data\n",
    "accuracy_J48_minInstances5_crossVal = accuracy_score(y_train, y_pred_J48_minInstances5_crossVal)*100\n",
    "\n",
    "J48_minInstances5_crossVal_data = [n_nodes_J48_minInstances5_crossVal, depth_J48_minInstances5_crossVal, num_Leaves_J48_minInstances5_crossVal, accuracy_J48_minInstances5_crossVal]\n"
   ]
  },
  {
   "cell_type": "code",
   "execution_count": 68,
   "metadata": {},
   "outputs": [
    {
     "name": "stdout",
     "output_type": "stream",
     "text": [
      "Confusion Matrix\n",
      "[[ 438    5    8   12   15   13   16   13   17    3]\n",
      " [   5  148    6    7    5    8    7   10   12    2]\n",
      " [   7    7 1754    4   93    4    7   23   73    8]\n",
      " [  13    3    4  192   10    4    9   18   16    1]\n",
      " [  19    8  100    4 1864   13    9   49  146    8]\n",
      " [   4    6   10    5   17  173    5    8   10    2]\n",
      " [  14    5    9    6   13    5  275   20   13    0]\n",
      " [  14   14   25   15   63    5   12 1190   67    5]\n",
      " [  11   11  101   10  171   10    9   89 1834    4]\n",
      " [   5    1   26    3   36    1    0    6    5  127]]\n",
      "\n",
      "\n",
      "              precision    recall  f1-score   support\n",
      "\n",
      "       eight       0.83      0.81      0.82       540\n",
      "        five       0.71      0.70      0.71       210\n",
      "        four       0.86      0.89      0.87      1980\n",
      "        nine       0.74      0.71      0.73       270\n",
      "         one       0.82      0.84      0.83      2220\n",
      "       seven       0.73      0.72      0.73       240\n",
      "         six       0.79      0.76      0.78       360\n",
      "       three       0.83      0.84      0.84      1410\n",
      "         two       0.84      0.82      0.83      2250\n",
      "        zero       0.79      0.60      0.69       210\n",
      "\n",
      "    accuracy                           0.83      9690\n",
      "   macro avg       0.79      0.77      0.78      9690\n",
      "weighted avg       0.82      0.83      0.82      9690\n",
      "\n",
      "\n",
      "\n",
      "Number of Nodes : 873\n",
      "Depth of Tree : 19\n",
      "Number of Leaves : 437\n",
      "Accuracy of Model : 82.50773993808049\n"
     ]
    }
   ],
   "source": [
    "#Print Confusion matrix and other important results\n",
    "print(\"Confusion Matrix\")\n",
    "print(conf_matrix_J48_minInstances5_crossVal)\n",
    "\n",
    "print(\"\\n\")\n",
    "print(classification_report_J48_minInstances5_crossVal)\n",
    "#print(roc_auc_score(y, y_pred))\n",
    "print(\"\\n\")\n",
    "\n",
    "\n",
    "print(\"Number of Nodes : \" + str(n_nodes_J48_minInstances5_crossVal))\n",
    "print(\"Depth of Tree : \" + str(depth_J48_minInstances5_crossVal))\n",
    "print(\"Number of Leaves : \" + str(num_Leaves_J48_minInstances5_crossVal))\n",
    "print(\"Accuracy of Model : \" + str(accuracy_J48_minInstances5_crossVal))"
   ]
  },
  {
   "cell_type": "markdown",
   "metadata": {},
   "source": [
    "J48 with crossVal minimum 2 instances per leaf"
   ]
  },
  {
   "cell_type": "code",
   "execution_count": 69,
   "metadata": {},
   "outputs": [],
   "source": [
    "J48_minInstances2_crossVal = DecisionTreeClassifier(min_samples_leaf = 2)\n",
    "J48_minInstances2_crossVal.fit(X_train, y_train)\n",
    "\n",
    "#train model with 10 fold validation, \n",
    "#cross_val_predict Get predictions from each split of cross-validation for diagnostic purposes.\n",
    "y_pred_J48_minInstances2_crossVal = cross_val_predict(J48_minInstances2_crossVal, X_train, y_train, cv=10)\n",
    "\n",
    "#confusion matrix generation\n",
    "conf_matrix_J48_minInstances2_crossVal = confusion_matrix(y_train, y_pred_J48_minInstances2_crossVal)\n",
    "\n",
    "#accuracy report\n",
    "classification_report_J48_minInstances2_crossVal = classification_report(y_train, y_pred_J48_minInstances2_crossVal)\n",
    "\n",
    "#Tree topology metrics\n",
    "n_nodes_J48_minInstances2_crossVal = J48_minInstances2_crossVal.tree_.node_count\n",
    "depth_J48_minInstances2_crossVal = J48_minInstances2_crossVal.get_depth()\n",
    "num_Leaves_J48_minInstances2_crossVal = J48_minInstances2_crossVal.get_n_leaves()\n",
    "\n",
    "#Find the accuracy of this model based on the test data\n",
    "accuracy_J48_minInstances2_crossVal = accuracy_score(y_train, y_pred_J48_minInstances2_crossVal)*100\n",
    "\n",
    "J48_minInstances2_crossVal_data = [n_nodes_J48_minInstances2_crossVal, depth_J48_minInstances2_crossVal, num_Leaves_J48_minInstances2_crossVal, accuracy_J48_minInstances2_crossVal]\n"
   ]
  },
  {
   "cell_type": "code",
   "execution_count": 70,
   "metadata": {},
   "outputs": [
    {
     "name": "stdout",
     "output_type": "stream",
     "text": [
      "Confusion Matrix\n",
      "[[ 448    8   10   13   13    9   13   11   13    2]\n",
      " [   6  158    6    7    4   11    3    5    8    2]\n",
      " [  10    5 1779    1   74    5    5   22   70    9]\n",
      " [  14    4    6  197   13    3    4   12   16    1]\n",
      " [  19    8  100    6 1861    9    7   53  144   13]\n",
      " [   7    5    1    5   10  187    7    5   11    2]\n",
      " [  10    8    8    6   14    2  289   13   10    0]\n",
      " [  14   18   34   20   58    4    5 1200   53    4]\n",
      " [  19   10  103   14  158    5    7   97 1834    3]\n",
      " [   3    1   23    7   24    1    0    5    6  140]]\n",
      "\n",
      "\n",
      "              precision    recall  f1-score   support\n",
      "\n",
      "       eight       0.81      0.83      0.82       540\n",
      "        five       0.70      0.75      0.73       210\n",
      "        four       0.86      0.90      0.88      1980\n",
      "        nine       0.71      0.73      0.72       270\n",
      "         one       0.83      0.84      0.84      2220\n",
      "       seven       0.79      0.78      0.79       240\n",
      "         six       0.85      0.80      0.83       360\n",
      "       three       0.84      0.85      0.85      1410\n",
      "         two       0.85      0.82      0.83      2250\n",
      "        zero       0.80      0.67      0.73       210\n",
      "\n",
      "    accuracy                           0.84      9690\n",
      "   macro avg       0.81      0.80      0.80      9690\n",
      "weighted avg       0.84      0.84      0.83      9690\n",
      "\n",
      "\n",
      "\n",
      "Number of Nodes : 1221\n",
      "Depth of Tree : 22\n",
      "Number of Leaves : 611\n",
      "Accuracy of Model : 83.51909184726523\n"
     ]
    }
   ],
   "source": [
    "#Print Confusion matrix and other important results\n",
    "print(\"Confusion Matrix\")\n",
    "print(conf_matrix_J48_minInstances2_crossVal)\n",
    "\n",
    "print(\"\\n\")\n",
    "print(classification_report_J48_minInstances2_crossVal)\n",
    "#print(roc_auc_score(y, y_pred))\n",
    "print(\"\\n\")\n",
    "\n",
    "\n",
    "print(\"Number of Nodes : \" + str(n_nodes_J48_minInstances2_crossVal))\n",
    "print(\"Depth of Tree : \" + str(depth_J48_minInstances2_crossVal))\n",
    "print(\"Number of Leaves : \" + str(num_Leaves_J48_minInstances2_crossVal))\n",
    "print(\"Accuracy of Model : \" + str(accuracy_J48_minInstances2_crossVal))"
   ]
  },
  {
   "cell_type": "code",
   "execution_count": 71,
   "metadata": {},
   "outputs": [
    {
     "data": {
      "text/html": [
       "<div>\n",
       "<style scoped>\n",
       "    .dataframe tbody tr th:only-of-type {\n",
       "        vertical-align: middle;\n",
       "    }\n",
       "\n",
       "    .dataframe tbody tr th {\n",
       "        vertical-align: top;\n",
       "    }\n",
       "\n",
       "    .dataframe thead th {\n",
       "        text-align: right;\n",
       "    }\n",
       "</style>\n",
       "<table border=\"1\" class=\"dataframe\">\n",
       "  <thead>\n",
       "    <tr style=\"text-align: right;\">\n",
       "      <th></th>\n",
       "      <th>Number of Nodes</th>\n",
       "      <th>Depth of Tree</th>\n",
       "      <th>Number of Leaves</th>\n",
       "      <th>Accuracy</th>\n",
       "    </tr>\n",
       "  </thead>\n",
       "  <tbody>\n",
       "    <tr>\n",
       "      <th>crossVal Min 1</th>\n",
       "      <td>1483</td>\n",
       "      <td>24</td>\n",
       "      <td>742</td>\n",
       "      <td>83.106295</td>\n",
       "    </tr>\n",
       "    <tr>\n",
       "      <th>crossVal Min 2</th>\n",
       "      <td>1221</td>\n",
       "      <td>22</td>\n",
       "      <td>611</td>\n",
       "      <td>83.519092</td>\n",
       "    </tr>\n",
       "    <tr>\n",
       "      <th>crossVal Min 5</th>\n",
       "      <td>873</td>\n",
       "      <td>19</td>\n",
       "      <td>437</td>\n",
       "      <td>82.507740</td>\n",
       "    </tr>\n",
       "  </tbody>\n",
       "</table>\n",
       "</div>"
      ],
      "text/plain": [
       "                Number of Nodes  Depth of Tree  Number of Leaves   Accuracy\n",
       "crossVal Min 1             1483             24               742  83.106295\n",
       "crossVal Min 2             1221             22               611  83.519092\n",
       "crossVal Min 5              873             19               437  82.507740"
      ]
     },
     "execution_count": 71,
     "metadata": {},
     "output_type": "execute_result"
    }
   ],
   "source": [
    "infoFrames4 = [J48_crossVal_data,J48_minInstances2_crossVal_data, J48_minInstances5_crossVal_data]\n",
    "\n",
    "J48_Table_minInstances_crossVal = pd.DataFrame(infoFrames4, columns=[\"Number of Nodes\", \"Depth of Tree\", \"Number of Leaves\", \"Accuracy\" ], index=['crossVal Min 1','crossVal Min 2','crossVal Min 5'])\n",
    "\n",
    "J48_Table_minInstances_crossVal"
   ]
  },
  {
   "cell_type": "markdown",
   "metadata": {},
   "source": [
    "part 2 - Test Data"
   ]
  },
  {
   "cell_type": "markdown",
   "metadata": {},
   "source": [
    "J48 with test data min samples per leaf = 5 "
   ]
  },
  {
   "cell_type": "code",
   "execution_count": 72,
   "metadata": {},
   "outputs": [],
   "source": [
    "#Define model, with the splitting criterion set to entropy. Default is Gini \n",
    "J48_minInstances5_testData = DecisionTreeClassifier(min_samples_leaf = 5)\n",
    "\n",
    "#fit this model using the test data\n",
    "J48_minInstances5_testData.fit(X_train, y_train)\n",
    "\n",
    "#test this model on the seperated data\n",
    "y_pred_J48_minInstances5_testData = J48_minInstances5_testData.predict(X_test)\n",
    "\n",
    "#generate confusion matrix\n",
    "conf_matrix_J48_minInstances5_testData = confusion_matrix(y_test, y_pred_J48_minInstances5_testData)\n",
    "\n",
    "#generate classification report\n",
    "classification_report_J48_minInstances5_testData = classification_report(y_test, y_pred_J48_minInstances5_testData)\n",
    "\n",
    "#Tree topology metrics\n",
    "n_nodes_J48_minInstances5_testData = J48_minInstances5_testData.tree_.node_count\n",
    "depth_J48_minInstances5_testData = J48_minInstances5_testData.get_depth()\n",
    "num_Leaves_J48_minInstances5_testData = J48_minInstances5_testData.get_n_leaves()\n",
    "\n",
    "#Find the accuracy of this model based on the test data\n",
    "accuracy_J48_minInstances5_testData = accuracy_score(y_test, y_pred_J48_minInstances5_testData)*100\n",
    "\n",
    "J48_minInstances5_testData_data = [n_nodes_J48_minInstances5_testData, depth_J48_minInstances5_testData, num_Leaves_J48_minInstances5_testData, accuracy_J48_minInstances5_testData]"
   ]
  },
  {
   "cell_type": "code",
   "execution_count": 73,
   "metadata": {},
   "outputs": [
    {
     "name": "stdout",
     "output_type": "stream",
     "text": [
      "Confusion Matrix\n",
      "[[ 68  17   5   8  12   4   7  13   8   8]\n",
      " [  0  28   0   0   0   2   0  30   0   0]\n",
      " [  4   1 476   2  50  27  12  42  36  10]\n",
      " [  3  11   0  44  11   0   0   9  12   0]\n",
      " [  4   3  51   3 572   2   2  10  52  21]\n",
      " [  1  10   2   2  26   9   0   4   0   6]\n",
      " [ 24   8   0   6  16   0  23   8   3   2]\n",
      " [  3   0  18   9  30   4   5 310  70   1]\n",
      " [  5   2  63   4  80   1   4  53 535   3]\n",
      " [  2   0  23   0  10   1   1   1   4  18]]\n",
      "\n",
      "\n",
      "              precision    recall  f1-score   support\n",
      "\n",
      "       eight       0.60      0.45      0.52       150\n",
      "        five       0.35      0.47      0.40        60\n",
      "        four       0.75      0.72      0.73       660\n",
      "        nine       0.56      0.49      0.52        90\n",
      "         one       0.71      0.79      0.75       720\n",
      "       seven       0.18      0.15      0.16        60\n",
      "         six       0.43      0.26      0.32        90\n",
      "       three       0.65      0.69      0.67       450\n",
      "         two       0.74      0.71      0.73       750\n",
      "        zero       0.26      0.30      0.28        60\n",
      "\n",
      "    accuracy                           0.67      3090\n",
      "   macro avg       0.52      0.50      0.51      3090\n",
      "weighted avg       0.67      0.67      0.67      3090\n",
      "\n",
      "\n",
      "\n",
      "Number of Nodes : 875\n",
      "Depth of Tree : 19\n",
      "Number of Leaves : 438\n",
      "Accuracy of Model : 67.41100323624596\n"
     ]
    }
   ],
   "source": [
    "#Print Confusion matrix and other important results\n",
    "print(\"Confusion Matrix\")\n",
    "print(conf_matrix_J48_minInstances5_testData)\n",
    "\n",
    "print(\"\\n\")\n",
    "print(classification_report_J48_minInstances5_testData)\n",
    "#print(roc_auc_score(y, y_pred))\n",
    "print(\"\\n\")\n",
    "\n",
    "\n",
    "print(\"Number of Nodes : \" + str(n_nodes_J48_minInstances5_testData))\n",
    "print(\"Depth of Tree : \" + str(depth_J48_minInstances5_testData))\n",
    "print(\"Number of Leaves : \" + str(num_Leaves_J48_minInstances5_testData))\n",
    "print(\"Accuracy of Model : \" + str(accuracy_J48_minInstances5_testData))"
   ]
  },
  {
   "cell_type": "markdown",
   "metadata": {},
   "source": [
    "J48 with test data min samples per leaf = 2 "
   ]
  },
  {
   "cell_type": "code",
   "execution_count": 74,
   "metadata": {},
   "outputs": [],
   "source": [
    "#Define model, with the splitting criterion set to entropy. Default is Gini \n",
    "J48_minInstances2_testData = DecisionTreeClassifier(min_samples_leaf = 2)\n",
    "\n",
    "#fit this model using the test data\n",
    "J48_minInstances2_testData.fit(X_train, y_train)\n",
    "\n",
    "#test this model on the seperated data\n",
    "y_pred_J48_minInstances2_testData = J48_minInstances2_testData.predict(X_test)\n",
    "\n",
    "#generate confusion matrix\n",
    "conf_matrix_J48_minInstances2_testData = confusion_matrix(y_test, y_pred_J48_minInstances2_testData)\n",
    "\n",
    "#generate classification report\n",
    "classification_report_J48_minInstances2_testData = classification_report(y_test, y_pred_J48_minInstances2_testData)\n",
    "\n",
    "#Tree topology metrics\n",
    "n_nodes_J48_minInstances2_testData = J48_minInstances2_testData.tree_.node_count\n",
    "depth_J48_minInstances2_testData = J48_minInstances2_testData.get_depth()\n",
    "num_Leaves_J48_minInstances2_testData = J48_minInstances2_testData.get_n_leaves()\n",
    "\n",
    "#Find the accuracy of this model based on the test data\n",
    "accuracy_J48_minInstances2_testData = accuracy_score(y_test, y_pred_J48_minInstances2_testData)*100\n",
    "\n",
    "J48_minInstances2_testData_data = [n_nodes_J48_minInstances2_testData, depth_J48_minInstances2_testData, num_Leaves_J48_minInstances2_testData, accuracy_J48_minInstances2_testData]"
   ]
  },
  {
   "cell_type": "code",
   "execution_count": 75,
   "metadata": {},
   "outputs": [
    {
     "name": "stdout",
     "output_type": "stream",
     "text": [
      "Confusion Matrix\n",
      "[[ 68  17  10   9   8   1  10  13  11   3]\n",
      " [  0  28   0   0   0   2   0  30   0   0]\n",
      " [  7   7 466   5  61   6   5  57  32  14]\n",
      " [ 16   7   2  42   4   7   0   1  11   0]\n",
      " [  4   3  54   2 572   9   1  10  56   9]\n",
      " [  0   9   2   4  27   6   2   0   7   3]\n",
      " [ 14  12   8  11   9   0  23   5   4   4]\n",
      " [  5  12  22  12  32   2   9 310  46   0]\n",
      " [ 11   4  70   3  75   4  16  52 513   2]\n",
      " [  0   0  12   0  14   1   4   3   3  23]]\n",
      "\n",
      "\n",
      "              precision    recall  f1-score   support\n",
      "\n",
      "       eight       0.54      0.45      0.49       150\n",
      "        five       0.28      0.47      0.35        60\n",
      "        four       0.72      0.71      0.71       660\n",
      "        nine       0.48      0.47      0.47        90\n",
      "         one       0.71      0.79      0.75       720\n",
      "       seven       0.16      0.10      0.12        60\n",
      "         six       0.33      0.26      0.29        90\n",
      "       three       0.64      0.69      0.67       450\n",
      "         two       0.75      0.68      0.72       750\n",
      "        zero       0.40      0.38      0.39        60\n",
      "\n",
      "    accuracy                           0.66      3090\n",
      "   macro avg       0.50      0.50      0.50      3090\n",
      "weighted avg       0.66      0.66      0.66      3090\n",
      "\n",
      "\n",
      "\n",
      "Number of Nodes : 1221\n",
      "Depth of Tree : 22\n",
      "Number of Leaves : 611\n",
      "Accuracy of Model : 66.37540453074435\n"
     ]
    }
   ],
   "source": [
    "#Print Confusion matrix and other important results\n",
    "print(\"Confusion Matrix\")\n",
    "print(conf_matrix_J48_minInstances2_testData)\n",
    "\n",
    "print(\"\\n\")\n",
    "print(classification_report_J48_minInstances2_testData)\n",
    "#print(roc_auc_score(y, y_pred))\n",
    "print(\"\\n\")\n",
    "\n",
    "\n",
    "print(\"Number of Nodes : \" + str(n_nodes_J48_minInstances2_testData))\n",
    "print(\"Depth of Tree : \" + str(depth_J48_minInstances2_testData))\n",
    "print(\"Number of Leaves : \" + str(num_Leaves_J48_minInstances2_testData))\n",
    "print(\"Accuracy of Model : \" + str(accuracy_J48_minInstances2_testData))"
   ]
  },
  {
   "cell_type": "code",
   "execution_count": 76,
   "metadata": {},
   "outputs": [
    {
     "data": {
      "text/html": [
       "<div>\n",
       "<style scoped>\n",
       "    .dataframe tbody tr th:only-of-type {\n",
       "        vertical-align: middle;\n",
       "    }\n",
       "\n",
       "    .dataframe tbody tr th {\n",
       "        vertical-align: top;\n",
       "    }\n",
       "\n",
       "    .dataframe thead th {\n",
       "        text-align: right;\n",
       "    }\n",
       "</style>\n",
       "<table border=\"1\" class=\"dataframe\">\n",
       "  <thead>\n",
       "    <tr style=\"text-align: right;\">\n",
       "      <th></th>\n",
       "      <th>Number of Nodes</th>\n",
       "      <th>Depth of Tree</th>\n",
       "      <th>Number of Leaves</th>\n",
       "      <th>Accuracy</th>\n",
       "    </tr>\n",
       "  </thead>\n",
       "  <tbody>\n",
       "    <tr>\n",
       "      <th>crossVal Min 1</th>\n",
       "      <td>1483</td>\n",
       "      <td>24</td>\n",
       "      <td>742</td>\n",
       "      <td>83.106295</td>\n",
       "    </tr>\n",
       "    <tr>\n",
       "      <th>crossVal Min 2</th>\n",
       "      <td>1221</td>\n",
       "      <td>22</td>\n",
       "      <td>611</td>\n",
       "      <td>83.519092</td>\n",
       "    </tr>\n",
       "    <tr>\n",
       "      <th>crossVal Min 5</th>\n",
       "      <td>873</td>\n",
       "      <td>19</td>\n",
       "      <td>437</td>\n",
       "      <td>82.507740</td>\n",
       "    </tr>\n",
       "    <tr>\n",
       "      <th>testData 1</th>\n",
       "      <td>1485</td>\n",
       "      <td>24</td>\n",
       "      <td>743</td>\n",
       "      <td>65.760518</td>\n",
       "    </tr>\n",
       "    <tr>\n",
       "      <th>testData 2</th>\n",
       "      <td>1221</td>\n",
       "      <td>22</td>\n",
       "      <td>611</td>\n",
       "      <td>66.375405</td>\n",
       "    </tr>\n",
       "    <tr>\n",
       "      <th>testData 5</th>\n",
       "      <td>875</td>\n",
       "      <td>19</td>\n",
       "      <td>438</td>\n",
       "      <td>67.411003</td>\n",
       "    </tr>\n",
       "  </tbody>\n",
       "</table>\n",
       "</div>"
      ],
      "text/plain": [
       "                Number of Nodes  Depth of Tree  Number of Leaves   Accuracy\n",
       "crossVal Min 1             1483             24               742  83.106295\n",
       "crossVal Min 2             1221             22               611  83.519092\n",
       "crossVal Min 5              873             19               437  82.507740\n",
       "testData 1                 1485             24               743  65.760518\n",
       "testData 2                 1221             22               611  66.375405\n",
       "testData 5                  875             19               438  67.411003"
      ]
     },
     "execution_count": 76,
     "metadata": {},
     "output_type": "execute_result"
    }
   ],
   "source": [
    "infoFrames5 = [J48_crossVal_data,J48_minInstances2_crossVal_data, J48_minInstances5_crossVal_data,J48_withTestData_data,J48_minInstances2_testData_data,J48_minInstances5_testData_data ]\n",
    "\n",
    "J48_Table_minInstances_crossVal_test = pd.DataFrame(infoFrames5, columns=[\"Number of Nodes\", \"Depth of Tree\", \"Number of Leaves\", \"Accuracy\" ], index=['crossVal Min 1','crossVal Min 2','crossVal Min 5', 'testData 1' ,'testData 2','testData 5'])\n",
    "\n",
    "J48_Table_minInstances_crossVal_test"
   ]
  },
  {
   "cell_type": "markdown",
   "metadata": {},
   "source": [
    "J48 with 4000 split data using min samples per leaf at 5"
   ]
  },
  {
   "cell_type": "code",
   "execution_count": 77,
   "metadata": {},
   "outputs": [],
   "source": [
    "#define the model to be used \n",
    "J48_minInstances5_4000Split = DecisionTreeClassifier(min_samples_leaf = 5)\n",
    "\n",
    "#fit this model using the test data\n",
    "J48_minInstances5_4000Split.fit(X_train_4000Split, y_train_4000Split)\n",
    "\n",
    "#test this model on the seperated data\n",
    "y_pred_J48_minInstances5_4000Split = J48_minInstances5_4000Split.predict(X_test_4000Split)\n",
    "\n",
    "#generate confusion matrix\n",
    "conf_matrix_J48_minInstances5_4000Split = confusion_matrix(y_test_4000Split, y_pred_J48_minInstances5_4000Split)\n",
    "\n",
    "#generate classification report\n",
    "classification_report_J48_minInstances5_4000Split = classification_report(y_test_4000Split, y_pred_J48_minInstances5_4000Split)\n",
    "\n",
    "#Tree topology metrics\n",
    "n_nodes_J48_minInstances5_4000Split = J48_minInstances5_4000Split.tree_.node_count\n",
    "depth_J48_minInstances5_4000Split = J48_minInstances5_4000Split.get_depth()\n",
    "num_Leaves_J48_minInstances5_4000Split = J48_minInstances5_4000Split.get_n_leaves()\n",
    "\n",
    "#Find the accuracy of this model based on the test data\n",
    "accuracy_J48_minInstances5_4000Split = accuracy_score(y_test_4000Split, y_pred_J48_minInstances5_4000Split)*100\n",
    "\n",
    "J48_minInstances5_4000Split_data = [n_nodes_J48_minInstances5_4000Split, depth_J48_minInstances5_4000Split, num_Leaves_J48_minInstances5_4000Split, accuracy_J48_minInstances5_4000Split]\n"
   ]
  },
  {
   "cell_type": "code",
   "execution_count": 78,
   "metadata": {},
   "outputs": [
    {
     "name": "stdout",
     "output_type": "stream",
     "text": [
      "Confusion Matrix\n",
      "[[ 226   13   12   20   27    8    9   21   21    6]\n",
      " [   3   78   10    4    2    2    3   32    4    1]\n",
      " [   5    2 1144    2  127    9   10   35   81   31]\n",
      " [  24    5    3  112   11    2    6   15   32    2]\n",
      " [  15    4  132    4 1287    7    2   22  151   24]\n",
      " [   6    5    8    6   37   72   10    7   13    1]\n",
      " [  35   13    8    3    4    1  133   22   17    5]\n",
      " [  19   19   21   19   75    4    2  764  132   10]\n",
      " [  16   10   96    9  151    4   15   99 1256    7]\n",
      " [   3    2   26    2   31    0    0    5    3   76]]\n",
      "\n",
      "\n",
      "              precision    recall  f1-score   support\n",
      "\n",
      "       eight       0.64      0.62      0.63       363\n",
      "        five       0.52      0.56      0.54       139\n",
      "        four       0.78      0.79      0.79      1446\n",
      "        nine       0.62      0.53      0.57       212\n",
      "         one       0.73      0.78      0.76      1648\n",
      "       seven       0.66      0.44      0.53       165\n",
      "         six       0.70      0.55      0.62       241\n",
      "       three       0.75      0.72      0.73      1065\n",
      "         two       0.73      0.76      0.74      1663\n",
      "        zero       0.47      0.51      0.49       148\n",
      "\n",
      "    accuracy                           0.73      7090\n",
      "   macro avg       0.66      0.63      0.64      7090\n",
      "weighted avg       0.73      0.73      0.72      7090\n",
      "\n",
      "Number of Nodes : 645\n",
      "Depth of Tree : 16\n",
      "Number of Leaves : 323\n",
      "Accuracy of Model : 72.60930888575459\n"
     ]
    }
   ],
   "source": [
    "#Print Confusion matrix and other important results\n",
    "print(\"Confusion Matrix\")\n",
    "print(conf_matrix_J48_minInstances5_4000Split)\n",
    "print(\"\\n\")\n",
    "print(classification_report_J48_minInstances5_4000Split)\n",
    "\n",
    "print(\"Number of Nodes : \" + str(n_nodes_J48_minInstances5_4000Split))\n",
    "print(\"Depth of Tree : \" + str(depth_J48_minInstances5_4000Split))\n",
    "print(\"Number of Leaves : \" + str(num_Leaves_J48_minInstances5_4000Split))\n",
    "print(\"Accuracy of Model : \" + str(accuracy_J48_minInstances5_4000Split))"
   ]
  },
  {
   "cell_type": "markdown",
   "metadata": {},
   "source": [
    "J48 with 4000 split data using min samples per leaf at 2"
   ]
  },
  {
   "cell_type": "code",
   "execution_count": 79,
   "metadata": {},
   "outputs": [],
   "source": [
    "#define the model to be used \n",
    "J48_minInstances2_4000Split = DecisionTreeClassifier(min_samples_leaf = 2)\n",
    "\n",
    "#fit this model using the test data\n",
    "J48_minInstances2_4000Split.fit(X_train_4000Split, y_train_4000Split)\n",
    "\n",
    "#test this model on the seperated data\n",
    "y_pred_J48_minInstances2_4000Split = J48_minInstances2_4000Split.predict(X_test_4000Split)\n",
    "\n",
    "#generate confusion matrix\n",
    "conf_matrix_J48_minInstances2_4000Split = confusion_matrix(y_test_4000Split, y_pred_J48_minInstances2_4000Split)\n",
    "\n",
    "#generate classification report\n",
    "classification_report_J48_minInstances2_4000Split = classification_report(y_test_4000Split, y_pred_J48_minInstances2_4000Split)\n",
    "\n",
    "#Tree topology metrics\n",
    "n_nodes_J48_minInstances2_4000Split = J48_minInstances2_4000Split.tree_.node_count\n",
    "depth_J48_minInstances2_4000Split = J48_minInstances2_4000Split.get_depth()\n",
    "num_Leaves_J48_minInstances2_4000Split = J48_minInstances2_4000Split.get_n_leaves()\n",
    "\n",
    "#Find the accuracy of this model based on the test data\n",
    "accuracy_J48_minInstances2_4000Split = accuracy_score(y_test_4000Split, y_pred_J48_minInstances2_4000Split)*100\n",
    "\n",
    "J48_minInstances2_4000Split_data = [n_nodes_J48_minInstances2_4000Split, depth_J48_minInstances2_4000Split, num_Leaves_J48_minInstances2_4000Split, accuracy_J48_minInstances2_4000Split]\n"
   ]
  },
  {
   "cell_type": "code",
   "execution_count": 80,
   "metadata": {},
   "outputs": [
    {
     "name": "stdout",
     "output_type": "stream",
     "text": [
      "Confusion Matrix\n",
      "[[ 209   32   17   22   16   10   14   25   16    2]\n",
      " [   3   72   15    4    4    4    1   31    5    0]\n",
      " [   6   20 1144    4  118    7   10   47   64   26]\n",
      " [  24    5   11  112    7    7    5   14   26    1]\n",
      " [  22   18  134    3 1301    7    3   29  114   17]\n",
      " [   7    3   10    6   40   77   11    3    6    2]\n",
      " [  29   17    6    5    4    5  146   15   10    4]\n",
      " [  20   18   18   11   85    0   16  774  114    9]\n",
      " [  23   10   81   13  169    2    8   84 1272    1]\n",
      " [   2    1   21    2   49    0    0   11    1   61]]\n",
      "\n",
      "\n",
      "              precision    recall  f1-score   support\n",
      "\n",
      "       eight       0.61      0.58      0.59       363\n",
      "        five       0.37      0.52      0.43       139\n",
      "        four       0.79      0.79      0.79      1446\n",
      "        nine       0.62      0.53      0.57       212\n",
      "         one       0.73      0.79      0.76      1648\n",
      "       seven       0.65      0.47      0.54       165\n",
      "         six       0.68      0.61      0.64       241\n",
      "       three       0.75      0.73      0.74      1065\n",
      "         two       0.78      0.76      0.77      1663\n",
      "        zero       0.50      0.41      0.45       148\n",
      "\n",
      "    accuracy                           0.73      7090\n",
      "   macro avg       0.65      0.62      0.63      7090\n",
      "weighted avg       0.73      0.73      0.73      7090\n",
      "\n",
      "Number of Nodes : 919\n",
      "Depth of Tree : 18\n",
      "Number of Leaves : 460\n",
      "Accuracy of Model : 72.8913963328632\n"
     ]
    }
   ],
   "source": [
    "#Print Confusion matrix and other important results\n",
    "print(\"Confusion Matrix\")\n",
    "print(conf_matrix_J48_minInstances2_4000Split)\n",
    "print(\"\\n\")\n",
    "print(classification_report_J48_minInstances2_4000Split)\n",
    "\n",
    "print(\"Number of Nodes : \" + str(n_nodes_J48_minInstances2_4000Split))\n",
    "print(\"Depth of Tree : \" + str(depth_J48_minInstances2_4000Split))\n",
    "print(\"Number of Leaves : \" + str(num_Leaves_J48_minInstances2_4000Split))\n",
    "print(\"Accuracy of Model : \" + str(accuracy_J48_minInstances2_4000Split))"
   ]
  },
  {
   "cell_type": "code",
   "execution_count": 81,
   "metadata": {},
   "outputs": [
    {
     "data": {
      "text/html": [
       "<div>\n",
       "<style scoped>\n",
       "    .dataframe tbody tr th:only-of-type {\n",
       "        vertical-align: middle;\n",
       "    }\n",
       "\n",
       "    .dataframe tbody tr th {\n",
       "        vertical-align: top;\n",
       "    }\n",
       "\n",
       "    .dataframe thead th {\n",
       "        text-align: right;\n",
       "    }\n",
       "</style>\n",
       "<table border=\"1\" class=\"dataframe\">\n",
       "  <thead>\n",
       "    <tr style=\"text-align: right;\">\n",
       "      <th></th>\n",
       "      <th>Number of Nodes</th>\n",
       "      <th>Depth of Tree</th>\n",
       "      <th>Number of Leaves</th>\n",
       "      <th>Accuracy</th>\n",
       "    </tr>\n",
       "  </thead>\n",
       "  <tbody>\n",
       "    <tr>\n",
       "      <th>crossVal 1</th>\n",
       "      <td>1483</td>\n",
       "      <td>24</td>\n",
       "      <td>742</td>\n",
       "      <td>83.106295</td>\n",
       "    </tr>\n",
       "    <tr>\n",
       "      <th>crossVal 2</th>\n",
       "      <td>1221</td>\n",
       "      <td>22</td>\n",
       "      <td>611</td>\n",
       "      <td>83.519092</td>\n",
       "    </tr>\n",
       "    <tr>\n",
       "      <th>crossVal 5</th>\n",
       "      <td>873</td>\n",
       "      <td>19</td>\n",
       "      <td>437</td>\n",
       "      <td>82.507740</td>\n",
       "    </tr>\n",
       "    <tr>\n",
       "      <th>testData 1</th>\n",
       "      <td>1485</td>\n",
       "      <td>24</td>\n",
       "      <td>743</td>\n",
       "      <td>65.760518</td>\n",
       "    </tr>\n",
       "    <tr>\n",
       "      <th>testData 2</th>\n",
       "      <td>1221</td>\n",
       "      <td>22</td>\n",
       "      <td>611</td>\n",
       "      <td>66.375405</td>\n",
       "    </tr>\n",
       "    <tr>\n",
       "      <th>testData 5</th>\n",
       "      <td>875</td>\n",
       "      <td>19</td>\n",
       "      <td>438</td>\n",
       "      <td>67.411003</td>\n",
       "    </tr>\n",
       "    <tr>\n",
       "      <th>4000Split 1</th>\n",
       "      <td>1153</td>\n",
       "      <td>21</td>\n",
       "      <td>577</td>\n",
       "      <td>73.032440</td>\n",
       "    </tr>\n",
       "    <tr>\n",
       "      <th>4000Split 2</th>\n",
       "      <td>919</td>\n",
       "      <td>18</td>\n",
       "      <td>460</td>\n",
       "      <td>72.891396</td>\n",
       "    </tr>\n",
       "    <tr>\n",
       "      <th>4000Split 5</th>\n",
       "      <td>645</td>\n",
       "      <td>16</td>\n",
       "      <td>323</td>\n",
       "      <td>72.609309</td>\n",
       "    </tr>\n",
       "  </tbody>\n",
       "</table>\n",
       "</div>"
      ],
      "text/plain": [
       "             Number of Nodes  Depth of Tree  Number of Leaves   Accuracy\n",
       "crossVal 1              1483             24               742  83.106295\n",
       "crossVal 2              1221             22               611  83.519092\n",
       "crossVal 5               873             19               437  82.507740\n",
       "testData 1              1485             24               743  65.760518\n",
       "testData 2              1221             22               611  66.375405\n",
       "testData 5               875             19               438  67.411003\n",
       "4000Split 1             1153             21               577  73.032440\n",
       "4000Split 2              919             18               460  72.891396\n",
       "4000Split 5              645             16               323  72.609309"
      ]
     },
     "execution_count": 81,
     "metadata": {},
     "output_type": "execute_result"
    }
   ],
   "source": [
    "infoFrames6 = [J48_crossVal_data,J48_minInstances2_crossVal_data, J48_minInstances5_crossVal_data,J48_withTestData_data,J48_minInstances2_testData_data,J48_minInstances5_testData_data, J48_4000Split_data, J48_minInstances2_4000Split_data, J48_minInstances5_4000Split_data ]\n",
    "\n",
    "J48_Table_minInstances = pd.DataFrame(infoFrames6, columns=[\"Number of Nodes\", \"Depth of Tree\", \"Number of Leaves\", \"Accuracy\" ], index=['crossVal 1','crossVal 2','crossVal 5', 'testData 1' ,'testData 2','testData 5','4000Split 1','4000Split 2','4000Split 5'])\n",
    "\n",
    "J48_Table_minInstances"
   ]
  },
  {
   "cell_type": "markdown",
   "metadata": {},
   "source": [
    "<h3> Entropy & Pruning <h3> "
   ]
  },
  {
   "cell_type": "markdown",
   "metadata": {},
   "source": [
    "J48 trained with cross validation, using both pruning and entropy "
   ]
  },
  {
   "cell_type": "code",
   "execution_count": 82,
   "metadata": {},
   "outputs": [],
   "source": [
    "J48_prunedEntropy_crossVal = DecisionTreeClassifier(ccp_alpha= 0.001, criterion=\"entropy\")\n",
    "J48_prunedEntropy_crossVal.fit(X_train, y_train)\n",
    "\n",
    "#setup cross validation using the above classifier, X_train = data to be classified, y = the labels, CV = number of folds\n",
    "cross_validation_scores_J48_prunedEntropy = cross_val_score(J48_prunedEntropy_crossVal, X_train, y_train, cv=10)\n",
    "\n",
    "#train model with 10 fold validation, \n",
    "#cross_val_predict Get predictions from each split of cross-validation for diagnostic purposes.\n",
    "y_pred_J48_prunedEntropy_crossVal = cross_val_predict(J48_prunedEntropy_crossVal, X_train, y_train, cv=10)\n",
    "\n",
    "#confusion matrix generation\n",
    "conf_matrix_J48_prunedEntropy_crossVal = confusion_matrix(y_train, y_pred_J48_prunedEntropy_crossVal)\n",
    "\n",
    "#accuracy report\n",
    "classification_report_J48_prunedEntropy_crossVal = classification_report(y_train, y_pred_J48_prunedEntropy_crossVal)\n",
    "\n",
    "#Tree topology metrics\n",
    "n_nodes_J48_prunedEntropy_crossVal = J48_prunedEntropy_crossVal.tree_.node_count\n",
    "depth_J48_prunedEntropy_crossVal = J48_prunedEntropy_crossVal.get_depth()\n",
    "num_Leaves_J48_prunedEntropy_crossVal = J48_prunedEntropy_crossVal.get_n_leaves()\n",
    "\n",
    "#Find the accuracy of this model based on the test data\n",
    "accuracy_J48_prunedEntropy_crossVal = accuracy_score(y_train, y_pred_J48_prunedEntropy_crossVal)*100\n",
    "\n",
    "J48_prunedEntropy_crossVal_data = [n_nodes_J48_prunedEntropy_crossVal, depth_J48_prunedEntropy_crossVal, num_Leaves_J48_prunedEntropy_crossVal, accuracy_J48_prunedEntropy_crossVal]\n"
   ]
  },
  {
   "cell_type": "code",
   "execution_count": 83,
   "metadata": {},
   "outputs": [
    {
     "name": "stdout",
     "output_type": "stream",
     "text": [
      "Confusion Matrix\n",
      "[[ 464    9    4   13    8    6   16   11    6    3]\n",
      " [   7  164    1    6    4    7    4    5   12    0]\n",
      " [   3    8 1761    4  101    1    7   23   65    7]\n",
      " [  16    8    5  198    4    0   11   11   13    4]\n",
      " [  10    7   81    9 1905    8    7   29  144   20]\n",
      " [   8    7    7    2    5  193    5    6    7    0]\n",
      " [  17    6   10   11    5    3  285   12   10    1]\n",
      " [  14    6   23   18   49    4   19 1214   60    3]\n",
      " [  16   10   79   11  154    8   12   73 1877   10]\n",
      " [   1    1   14    9   31    0    1   11    4  138]]\n",
      "\n",
      "\n",
      "              precision    recall  f1-score   support\n",
      "\n",
      "       eight       0.81      0.76      0.79       540\n",
      "        five       0.63      0.59      0.61       210\n",
      "        four       0.85      0.87      0.86      1980\n",
      "        nine       0.68      0.67      0.68       270\n",
      "         one       0.81      0.82      0.82      2220\n",
      "       seven       0.76      0.61      0.68       240\n",
      "         six       0.77      0.72      0.75       360\n",
      "       three       0.82      0.83      0.82      1410\n",
      "         two       0.79      0.81      0.80      2250\n",
      "        zero       0.72      0.59      0.65       210\n",
      "\n",
      "    accuracy                           0.80      9690\n",
      "   macro avg       0.76      0.73      0.74      9690\n",
      "weighted avg       0.80      0.80      0.80      9690\n",
      "\n",
      "Number of Nodes : 725\n",
      "Depth of Tree : 13\n",
      "Number of Leaves : 363\n",
      "Accuracy of Model : 84.61300309597523\n"
     ]
    }
   ],
   "source": [
    "#Print Confusion matrix and other important results\n",
    "print(\"Confusion Matrix\")\n",
    "print(conf_matrix_J48_prunedEntropy_crossVal)\n",
    "print(\"\\n\")\n",
    "print(classification_report_J48_pruned_crossVal)\n",
    "\n",
    "print(\"Number of Nodes : \" + str(n_nodes_J48_prunedEntropy_crossVal))\n",
    "print(\"Depth of Tree : \" + str(depth_J48_prunedEntropy_crossVal))\n",
    "print(\"Number of Leaves : \" + str(num_Leaves_J48_prunedEntropy_crossVal))\n",
    "print(\"Accuracy of Model : \" + str(accuracy_J48_prunedEntropy_crossVal))"
   ]
  },
  {
   "cell_type": "markdown",
   "metadata": {},
   "source": [
    "J48 trained with the testData, using both pruning and entropy "
   ]
  },
  {
   "cell_type": "code",
   "execution_count": 84,
   "metadata": {},
   "outputs": [],
   "source": [
    "#define the model to be used \n",
    "J48_prunedEntropy_testData = DecisionTreeClassifier(ccp_alpha= 0.001, criterion=\"entropy\")\n",
    "\n",
    "#fit this model using the test data\n",
    "J48_prunedEntropy_testData.fit(X_train, y_train)\n",
    "\n",
    "#test this model on the seperated data\n",
    "y_pred_J48_prunedEntropy_testData = J48_prunedEntropy_testData.predict(X_test)\n",
    "\n",
    "#generate confusion matrix\n",
    "conf_matrix_J48_prunedEntropy_testData = confusion_matrix(y_test, y_pred_J48_prunedEntropy_testData)\n",
    "\n",
    "#generate classification report\n",
    "classification_report_J48_prunedEntropy_testData = classification_report(y_test, y_pred_J48_prunedEntropy_testData)\n",
    "\n",
    "#Tree topology metrics\n",
    "n_nodes_J48_prunedEntropy_testData = J48_prunedEntropy_testData.tree_.node_count\n",
    "depth_J48_prunedEntropy_testData = J48_prunedEntropy_testData.get_depth()\n",
    "num_Leaves_J48_prunedEntropy_testData = J48_prunedEntropy_testData.get_n_leaves()\n",
    "\n",
    "#Find the accuracy of this model based on the test data\n",
    "accuracy_J48_prunedEntropy_testData = accuracy_score(y_test, y_pred_J48_prunedEntropy_testData)*100\n",
    "\n",
    "J48_prunedEntropy_testData_data = [n_nodes_J48_prunedEntropy_testData, depth_J48_prunedEntropy_testData, num_Leaves_J48_prunedEntropy_testData, accuracy_J48_prunedEntropy_testData]\n"
   ]
  },
  {
   "cell_type": "code",
   "execution_count": 85,
   "metadata": {},
   "outputs": [
    {
     "name": "stdout",
     "output_type": "stream",
     "text": [
      "Confusion Matrix\n",
      "[[ 97   5   5  19   7   2   6   2   7   0]\n",
      " [  1  26  10   2   2   1   0  18   0   0]\n",
      " [  4   1 481   0  61   4   3  39  61   6]\n",
      " [ 12   1   2  44  10   1   0   0  19   1]\n",
      " [ 11   2  54   2 559   2   0  15  65  10]\n",
      " [  0   0   5   4   7  14   9  14   4   3]\n",
      " [ 28   8   4   8   4   1  31   2   2   2]\n",
      " [ 12   0   7  13  22   0   3 349  40   4]\n",
      " [ 11   3  50   4  74   1   1  27 577   2]\n",
      " [  0   0   7   3  13   0   2   0   2  33]]\n",
      "\n",
      "\n",
      "              precision    recall  f1-score   support\n",
      "\n",
      "       eight       0.55      0.65      0.60       150\n",
      "        five       0.57      0.43      0.49        60\n",
      "        four       0.77      0.73      0.75       660\n",
      "        nine       0.44      0.49      0.47        90\n",
      "         one       0.74      0.78      0.76       720\n",
      "       seven       0.54      0.23      0.33        60\n",
      "         six       0.56      0.34      0.43        90\n",
      "       three       0.75      0.78      0.76       450\n",
      "         two       0.74      0.77      0.76       750\n",
      "        zero       0.54      0.55      0.55        60\n",
      "\n",
      "    accuracy                           0.72      3090\n",
      "   macro avg       0.62      0.57      0.59      3090\n",
      "weighted avg       0.71      0.72      0.71      3090\n",
      "\n",
      "Number of Nodes : 725\n",
      "Depth of Tree : 13\n",
      "Number of Leaves : 363\n",
      "Accuracy of Model : 71.55339805825243\n"
     ]
    }
   ],
   "source": [
    "#Print Confusion matrix and other important results\n",
    "print(\"Confusion Matrix\")\n",
    "print(conf_matrix_J48_prunedEntropy_testData)\n",
    "print(\"\\n\")\n",
    "print(classification_report_J48_prunedEntropy_testData)\n",
    "\n",
    "print(\"Number of Nodes : \" + str(n_nodes_J48_prunedEntropy_testData))\n",
    "print(\"Depth of Tree : \" + str(depth_J48_prunedEntropy_testData))\n",
    "print(\"Number of Leaves : \" + str(num_Leaves_J48_prunedEntropy_testData))\n",
    "print(\"Accuracy of Model : \" + str(accuracy_J48_prunedEntropy_testData))"
   ]
  },
  {
   "cell_type": "markdown",
   "metadata": {},
   "source": [
    "J48 trained with the 4000 split data, using both pruning and entropy "
   ]
  },
  {
   "cell_type": "code",
   "execution_count": 88,
   "metadata": {},
   "outputs": [],
   "source": [
    "#define the model to be used \n",
    "J48_prunedEntropy_4000Split = DecisionTreeClassifier(ccp_alpha= 0.001, criterion=\"entropy\")\n",
    "\n",
    "#fit this model using the test data\n",
    "J48_prunedEntropy_4000Split.fit(X_train_4000Split, y_train_4000Split)\n",
    "\n",
    "#test this model on the seperated data\n",
    "y_pred_J48_prunedEntropy_4000Split = J48_prunedEntropy_testData.predict(X_test_4000Split)\n",
    "\n",
    "#generate confusion matrix\n",
    "conf_matrix_J48_prunedEntropy_4000Split = confusion_matrix(y_test_4000Split, y_pred_J48_prunedEntropy_4000Split)\n",
    "\n",
    "#generate classification report\n",
    "classification_report_J48_prunedEntropy_4000Split = classification_report(y_test_4000Split, y_pred_J48_prunedEntropy_4000Split)\n",
    "\n",
    "#Tree topology metrics\n",
    "n_nodes_J48_prunedEntropy_4000Split = J48_prunedEntropy_4000Split.tree_.node_count\n",
    "depth_J48_prunedEntropy_4000Split = J48_prunedEntropy_4000Split.get_depth()\n",
    "num_Leaves_J48_prunedEntropy_4000Split = J48_prunedEntropy_4000Split.get_n_leaves()\n",
    "\n",
    "#Find the accuracy of this model based on the test data\n",
    "accuracy_J48_prunedEntropy_4000Split = accuracy_score(y_test_4000Split, y_pred_J48_prunedEntropy_4000Split)*100\n",
    "\n",
    "J48_prunedEntropy_4000Split_data = [n_nodes_J48_prunedEntropy_4000Split, depth_J48_prunedEntropy_4000Split, num_Leaves_J48_prunedEntropy_4000Split, accuracy_J48_prunedEntropy_4000Split]\n"
   ]
  },
  {
   "cell_type": "code",
   "execution_count": 89,
   "metadata": {},
   "outputs": [
    {
     "name": "stdout",
     "output_type": "stream",
     "text": [
      "Confusion Matrix\n",
      "[[ 289    6    6   24   11    2   10    5   10    0]\n",
      " [   4   93    3    3    2    1    0   33    0    0]\n",
      " [   5    2 1223    1   91    5   10   48   54    7]\n",
      " [  17    8    4  144   11    2    2    4   18    2]\n",
      " [  19    4   69    2 1412    4    3   24   98   13]\n",
      " [   0    3    7    3    9  106   12   16    5    4]\n",
      " [  24   14    3   11    6    0  170    8    3    2]\n",
      " [  16    2    9   20   29    0    9  912   61    7]\n",
      " [  17    3   64    4   90    4    3   50 1426    2]\n",
      " [   1    1    9    3   19    0    2    0    5  108]]\n",
      "\n",
      "\n",
      "              precision    recall  f1-score   support\n",
      "\n",
      "       eight       0.74      0.80      0.77       363\n",
      "        five       0.68      0.67      0.68       139\n",
      "        four       0.88      0.85      0.86      1446\n",
      "        nine       0.67      0.68      0.67       212\n",
      "         one       0.84      0.86      0.85      1648\n",
      "       seven       0.85      0.64      0.73       165\n",
      "         six       0.77      0.71      0.74       241\n",
      "       three       0.83      0.86      0.84      1065\n",
      "         two       0.85      0.86      0.85      1663\n",
      "        zero       0.74      0.73      0.74       148\n",
      "\n",
      "    accuracy                           0.83      7090\n",
      "   macro avg       0.79      0.76      0.77      7090\n",
      "weighted avg       0.83      0.83      0.83      7090\n",
      "\n",
      "Number of Nodes : 323\n",
      "Depth of Tree : 14\n",
      "Number of Leaves : 162\n",
      "Accuracy of Model : 72.77856135401974\n"
     ]
    }
   ],
   "source": [
    "#Print Confusion matrix and other important results\n",
    "print(\"Confusion Matrix\")\n",
    "print(conf_matrix_J48_prunedEntropy_4000Split)\n",
    "print(\"\\n\")\n",
    "print(classification_report_J48_prunedEntropy_4000Split)\n",
    "\n",
    "print(\"Number of Nodes : \" + str(n_nodes_J48_pruned_4000Split))\n",
    "print(\"Depth of Tree : \" + str(depth_J48_pruned_4000Split))\n",
    "print(\"Number of Leaves : \" + str(num_Leaves_J48_pruned_4000Split))\n",
    "print(\"Accuracy of Model : \" + str(accuracy_J48_pruned_4000Split))"
   ]
  },
  {
   "cell_type": "markdown",
   "metadata": {},
   "source": [
    "J48 trained with the 9000 split data, using both pruning and entropy "
   ]
  },
  {
   "cell_type": "code",
   "execution_count": 92,
   "metadata": {},
   "outputs": [],
   "source": [
    "#define the model to be used \n",
    "J48_prunedEntropy_9000Split = DecisionTreeClassifier(ccp_alpha= 0.001, criterion=\"entropy\")\n",
    "\n",
    "#fit this model using the test data\n",
    "J48_prunedEntropy_9000Split.fit(X_train_9000Split, y_train_9000Split)\n",
    "\n",
    "#test this model on the seperated data\n",
    "y_pred_J48_prunedEntropy_9000Split = J48_prunedEntropy_testData.predict(X_test_9000Split)\n",
    "\n",
    "#generate confusion matrix\n",
    "conf_matrix_J48_prunedEntropy_9000Split = confusion_matrix(y_test_9000Split, y_pred_J48_prunedEntropy_9000Split)\n",
    "\n",
    "#generate classification report\n",
    "classification_report_J48_prunedEntropy_9000Split = classification_report(y_test_9000Split, y_pred_J48_prunedEntropy_9000Split)\n",
    "\n",
    "#Tree topology metrics\n",
    "n_nodes_J48_prunedEntropy_9000Split = J48_prunedEntropy_9000Split.tree_.node_count\n",
    "depth_J48_prunedEntropy_9000Split = J48_prunedEntropy_9000Split.get_depth()\n",
    "num_Leaves_J48_prunedEntropy_9000Split = J48_prunedEntropy_9000Split.get_n_leaves()\n",
    "\n",
    "#Find the accuracy of this model based on the test data\n",
    "accuracy_J48_prunedEntropy_9000Split = accuracy_score(y_test_9000Split, y_pred_J48_prunedEntropy_9000Split)*100\n",
    "\n",
    "J48_prunedEntropy_9000Split_data = [n_nodes_J48_prunedEntropy_9000Split, depth_J48_prunedEntropy_9000Split, num_Leaves_J48_prunedEntropy_9000Split, accuracy_J48_prunedEntropy_9000Split]\n"
   ]
  },
  {
   "cell_type": "code",
   "execution_count": 93,
   "metadata": {},
   "outputs": [
    {
     "name": "stdout",
     "output_type": "stream",
     "text": [
      "Confusion Matrix\n",
      "[[ 569    8    5   24   13    2   12    3   10    0]\n",
      " [   8  204    5    1    3    2    0   28    1    0]\n",
      " [   3    4 2224    7   99    4   11   61   63   10]\n",
      " [  22   11    4  250   13    2    6    7   17    2]\n",
      " [  22    6   88    4 2482    4    6   32  120   23]\n",
      " [   2    5    8    6    9  208   14   16   10    9]\n",
      " [  27   16    2   12    8    1  338   10    7    3]\n",
      " [  18    4   11   21   38    1   13 1570   79   13]\n",
      " [  19    6   68   10  122    5    7   66 2545    4]\n",
      " [   2    3    9    4   23    0    3    1    3  206]]\n",
      "\n",
      "\n",
      "              precision    recall  f1-score   support\n",
      "\n",
      "       eight       0.82      0.88      0.85       646\n",
      "        five       0.76      0.81      0.79       252\n",
      "        four       0.92      0.89      0.91      2486\n",
      "        nine       0.74      0.75      0.74       334\n",
      "         one       0.88      0.89      0.89      2787\n",
      "       seven       0.91      0.72      0.81       287\n",
      "         six       0.82      0.80      0.81       424\n",
      "       three       0.88      0.89      0.88      1768\n",
      "         two       0.89      0.89      0.89      2852\n",
      "        zero       0.76      0.81      0.79       254\n",
      "\n",
      "    accuracy                           0.88     12090\n",
      "   macro avg       0.84      0.83      0.83     12090\n",
      "weighted avg       0.88      0.88      0.88     12090\n",
      "\n",
      "Number of Nodes : 207\n",
      "Depth of Tree : 10\n",
      "Number of Leaves : 104\n",
      "Accuracy of Model : 87.64267990074441\n"
     ]
    }
   ],
   "source": [
    "#Print Confusion matrix and other important results\n",
    "print(\"Confusion Matrix\")\n",
    "print(conf_matrix_J48_prunedEntropy_9000Split)\n",
    "print(\"\\n\")\n",
    "print(classification_report_J48_prunedEntropy_9000Split)\n",
    "\n",
    "print(\"Number of Nodes : \" + str(n_nodes_J48_prunedEntropy_9000Split))\n",
    "print(\"Depth of Tree : \" + str(depth_J48_prunedEntropy_9000Split))\n",
    "print(\"Number of Leaves : \" + str(num_Leaves_J48_prunedEntropy_9000Split))\n",
    "print(\"Accuracy of Model : \" + str(accuracy_J48_prunedEntropy_9000Split))"
   ]
  },
  {
   "cell_type": "code",
   "execution_count": null,
   "metadata": {},
   "outputs": [],
   "source": []
  },
  {
   "cell_type": "code",
   "execution_count": null,
   "metadata": {},
   "outputs": [],
   "source": []
  },
  {
   "cell_type": "code",
   "execution_count": 94,
   "metadata": {},
   "outputs": [
    {
     "data": {
      "text/html": [
       "<div>\n",
       "<style scoped>\n",
       "    .dataframe tbody tr th:only-of-type {\n",
       "        vertical-align: middle;\n",
       "    }\n",
       "\n",
       "    .dataframe tbody tr th {\n",
       "        vertical-align: top;\n",
       "    }\n",
       "\n",
       "    .dataframe thead th {\n",
       "        text-align: right;\n",
       "    }\n",
       "</style>\n",
       "<table border=\"1\" class=\"dataframe\">\n",
       "  <thead>\n",
       "    <tr style=\"text-align: right;\">\n",
       "      <th></th>\n",
       "      <th>Number of Nodes</th>\n",
       "      <th>Depth of Tree</th>\n",
       "      <th>Number of Leaves</th>\n",
       "      <th>Accuracy</th>\n",
       "    </tr>\n",
       "  </thead>\n",
       "  <tbody>\n",
       "    <tr>\n",
       "      <th>Cross Validation</th>\n",
       "      <td>725</td>\n",
       "      <td>13</td>\n",
       "      <td>363</td>\n",
       "      <td>84.613003</td>\n",
       "    </tr>\n",
       "    <tr>\n",
       "      <th>Test Data</th>\n",
       "      <td>725</td>\n",
       "      <td>13</td>\n",
       "      <td>363</td>\n",
       "      <td>71.553398</td>\n",
       "    </tr>\n",
       "    <tr>\n",
       "      <th>4000 Split</th>\n",
       "      <td>627</td>\n",
       "      <td>14</td>\n",
       "      <td>314</td>\n",
       "      <td>82.976023</td>\n",
       "    </tr>\n",
       "    <tr>\n",
       "      <th>9000 Split</th>\n",
       "      <td>207</td>\n",
       "      <td>10</td>\n",
       "      <td>104</td>\n",
       "      <td>87.642680</td>\n",
       "    </tr>\n",
       "  </tbody>\n",
       "</table>\n",
       "</div>"
      ],
      "text/plain": [
       "                  Number of Nodes  Depth of Tree  Number of Leaves   Accuracy\n",
       "Cross Validation              725             13               363  84.613003\n",
       "Test Data                     725             13               363  71.553398\n",
       "4000 Split                    627             14               314  82.976023\n",
       "9000 Split                    207             10               104  87.642680"
      ]
     },
     "execution_count": 94,
     "metadata": {},
     "output_type": "execute_result"
    }
   ],
   "source": [
    "infoFrames8 = [J48_prunedEntropy_crossVal_data, J48_prunedEntropy_testData_data, J48_prunedEntropy_4000Split_data, J48_prunedEntropy_9000Split_data]\n",
    "\n",
    "J48_Table_prunedEntropy = pd.DataFrame(infoFrames8, columns=[\"Number of Nodes\", \"Depth of Tree\", \"Number of Leaves\", \"Accuracy\" ], index=['Cross Validation','Test Data','4000 Split','9000 Split'])\n",
    "\n",
    "J48_Table_prunedEntropy"
   ]
  },
  {
   "cell_type": "markdown",
   "metadata": {},
   "source": [
    "<h3> RESULTS SECTION J48 <h3>"
   ]
  },
  {
   "cell_type": "code",
   "execution_count": 95,
   "metadata": {},
   "outputs": [
    {
     "name": "stdout",
     "output_type": "stream",
     "text": [
      "Original J48\n"
     ]
    },
    {
     "data": {
      "text/html": [
       "<div>\n",
       "<style scoped>\n",
       "    .dataframe tbody tr th:only-of-type {\n",
       "        vertical-align: middle;\n",
       "    }\n",
       "\n",
       "    .dataframe tbody tr th {\n",
       "        vertical-align: top;\n",
       "    }\n",
       "\n",
       "    .dataframe thead th {\n",
       "        text-align: right;\n",
       "    }\n",
       "</style>\n",
       "<table border=\"1\" class=\"dataframe\">\n",
       "  <thead>\n",
       "    <tr style=\"text-align: right;\">\n",
       "      <th></th>\n",
       "      <th>Number of Nodes</th>\n",
       "      <th>Depth of Tree</th>\n",
       "      <th>Number of Leaves</th>\n",
       "      <th>Accuracy</th>\n",
       "    </tr>\n",
       "  </thead>\n",
       "  <tbody>\n",
       "    <tr>\n",
       "      <th>Cross Validation</th>\n",
       "      <td>1483</td>\n",
       "      <td>24</td>\n",
       "      <td>742</td>\n",
       "      <td>83.106295</td>\n",
       "    </tr>\n",
       "    <tr>\n",
       "      <th>Test Data</th>\n",
       "      <td>1485</td>\n",
       "      <td>24</td>\n",
       "      <td>743</td>\n",
       "      <td>65.760518</td>\n",
       "    </tr>\n",
       "    <tr>\n",
       "      <th>4000 Split</th>\n",
       "      <td>1153</td>\n",
       "      <td>21</td>\n",
       "      <td>577</td>\n",
       "      <td>73.032440</td>\n",
       "    </tr>\n",
       "    <tr>\n",
       "      <th>9000 Split</th>\n",
       "      <td>231</td>\n",
       "      <td>14</td>\n",
       "      <td>116</td>\n",
       "      <td>56.311001</td>\n",
       "    </tr>\n",
       "  </tbody>\n",
       "</table>\n",
       "</div>"
      ],
      "text/plain": [
       "                  Number of Nodes  Depth of Tree  Number of Leaves   Accuracy\n",
       "Cross Validation             1483             24               742  83.106295\n",
       "Test Data                    1485             24               743  65.760518\n",
       "4000 Split                   1153             21               577  73.032440\n",
       "9000 Split                    231             14               116  56.311001"
      ]
     },
     "execution_count": 95,
     "metadata": {},
     "output_type": "execute_result"
    }
   ],
   "source": [
    "print('Original J48')\n",
    "J48_Table"
   ]
  },
  {
   "cell_type": "code",
   "execution_count": 96,
   "metadata": {},
   "outputs": [
    {
     "name": "stdout",
     "output_type": "stream",
     "text": [
      "Pruned J48\n"
     ]
    },
    {
     "data": {
      "text/html": [
       "<div>\n",
       "<style scoped>\n",
       "    .dataframe tbody tr th:only-of-type {\n",
       "        vertical-align: middle;\n",
       "    }\n",
       "\n",
       "    .dataframe tbody tr th {\n",
       "        vertical-align: top;\n",
       "    }\n",
       "\n",
       "    .dataframe thead th {\n",
       "        text-align: right;\n",
       "    }\n",
       "</style>\n",
       "<table border=\"1\" class=\"dataframe\">\n",
       "  <thead>\n",
       "    <tr style=\"text-align: right;\">\n",
       "      <th></th>\n",
       "      <th>Number of Nodes</th>\n",
       "      <th>Depth of Tree</th>\n",
       "      <th>Number of Leaves</th>\n",
       "      <th>Accuracy</th>\n",
       "    </tr>\n",
       "  </thead>\n",
       "  <tbody>\n",
       "    <tr>\n",
       "      <th>Cross Validation</th>\n",
       "      <td>313</td>\n",
       "      <td>14</td>\n",
       "      <td>157</td>\n",
       "      <td>80.392157</td>\n",
       "    </tr>\n",
       "    <tr>\n",
       "      <th>Test Data</th>\n",
       "      <td>313</td>\n",
       "      <td>14</td>\n",
       "      <td>157</td>\n",
       "      <td>66.148867</td>\n",
       "    </tr>\n",
       "    <tr>\n",
       "      <th>4000 Split</th>\n",
       "      <td>323</td>\n",
       "      <td>14</td>\n",
       "      <td>162</td>\n",
       "      <td>72.778561</td>\n",
       "    </tr>\n",
       "    <tr>\n",
       "      <th>9000 Split</th>\n",
       "      <td>231</td>\n",
       "      <td>14</td>\n",
       "      <td>116</td>\n",
       "      <td>55.599669</td>\n",
       "    </tr>\n",
       "  </tbody>\n",
       "</table>\n",
       "</div>"
      ],
      "text/plain": [
       "                  Number of Nodes  Depth of Tree  Number of Leaves   Accuracy\n",
       "Cross Validation              313             14               157  80.392157\n",
       "Test Data                     313             14               157  66.148867\n",
       "4000 Split                    323             14               162  72.778561\n",
       "9000 Split                    231             14               116  55.599669"
      ]
     },
     "execution_count": 96,
     "metadata": {},
     "output_type": "execute_result"
    }
   ],
   "source": [
    "print('Pruned J48')\n",
    "J48_Table_pruned"
   ]
  },
  {
   "cell_type": "code",
   "execution_count": 97,
   "metadata": {},
   "outputs": [
    {
     "name": "stdout",
     "output_type": "stream",
     "text": [
      "Entropy \n"
     ]
    },
    {
     "data": {
      "text/html": [
       "<div>\n",
       "<style scoped>\n",
       "    .dataframe tbody tr th:only-of-type {\n",
       "        vertical-align: middle;\n",
       "    }\n",
       "\n",
       "    .dataframe tbody tr th {\n",
       "        vertical-align: top;\n",
       "    }\n",
       "\n",
       "    .dataframe thead th {\n",
       "        text-align: right;\n",
       "    }\n",
       "</style>\n",
       "<table border=\"1\" class=\"dataframe\">\n",
       "  <thead>\n",
       "    <tr style=\"text-align: right;\">\n",
       "      <th></th>\n",
       "      <th>Number of Nodes</th>\n",
       "      <th>Depth of Tree</th>\n",
       "      <th>Number of Leaves</th>\n",
       "      <th>Accuracy</th>\n",
       "    </tr>\n",
       "  </thead>\n",
       "  <tbody>\n",
       "    <tr>\n",
       "      <th>Cross Validation</th>\n",
       "      <td>1259</td>\n",
       "      <td>15</td>\n",
       "      <td>630</td>\n",
       "      <td>85.098039</td>\n",
       "    </tr>\n",
       "    <tr>\n",
       "      <th>Test Data</th>\n",
       "      <td>1259</td>\n",
       "      <td>15</td>\n",
       "      <td>630</td>\n",
       "      <td>70.194175</td>\n",
       "    </tr>\n",
       "    <tr>\n",
       "      <th>4000 Split</th>\n",
       "      <td>887</td>\n",
       "      <td>15</td>\n",
       "      <td>444</td>\n",
       "      <td>76.064880</td>\n",
       "    </tr>\n",
       "    <tr>\n",
       "      <th>9000 Split</th>\n",
       "      <td>207</td>\n",
       "      <td>10</td>\n",
       "      <td>104</td>\n",
       "      <td>57.287014</td>\n",
       "    </tr>\n",
       "  </tbody>\n",
       "</table>\n",
       "</div>"
      ],
      "text/plain": [
       "                  Number of Nodes  Depth of Tree  Number of Leaves   Accuracy\n",
       "Cross Validation             1259             15               630  85.098039\n",
       "Test Data                    1259             15               630  70.194175\n",
       "4000 Split                    887             15               444  76.064880\n",
       "9000 Split                    207             10               104  57.287014"
      ]
     },
     "execution_count": 97,
     "metadata": {},
     "output_type": "execute_result"
    }
   ],
   "source": [
    "print('Entropy ')\n",
    "J48_Table_Entropy"
   ]
  },
  {
   "cell_type": "code",
   "execution_count": 98,
   "metadata": {},
   "outputs": [
    {
     "name": "stdout",
     "output_type": "stream",
     "text": [
      "Min sample per leaf\n"
     ]
    },
    {
     "data": {
      "text/html": [
       "<div>\n",
       "<style scoped>\n",
       "    .dataframe tbody tr th:only-of-type {\n",
       "        vertical-align: middle;\n",
       "    }\n",
       "\n",
       "    .dataframe tbody tr th {\n",
       "        vertical-align: top;\n",
       "    }\n",
       "\n",
       "    .dataframe thead th {\n",
       "        text-align: right;\n",
       "    }\n",
       "</style>\n",
       "<table border=\"1\" class=\"dataframe\">\n",
       "  <thead>\n",
       "    <tr style=\"text-align: right;\">\n",
       "      <th></th>\n",
       "      <th>Number of Nodes</th>\n",
       "      <th>Depth of Tree</th>\n",
       "      <th>Number of Leaves</th>\n",
       "      <th>Accuracy</th>\n",
       "    </tr>\n",
       "  </thead>\n",
       "  <tbody>\n",
       "    <tr>\n",
       "      <th>crossVal 1</th>\n",
       "      <td>1483</td>\n",
       "      <td>24</td>\n",
       "      <td>742</td>\n",
       "      <td>83.106295</td>\n",
       "    </tr>\n",
       "    <tr>\n",
       "      <th>crossVal 2</th>\n",
       "      <td>1221</td>\n",
       "      <td>22</td>\n",
       "      <td>611</td>\n",
       "      <td>83.519092</td>\n",
       "    </tr>\n",
       "    <tr>\n",
       "      <th>crossVal 5</th>\n",
       "      <td>873</td>\n",
       "      <td>19</td>\n",
       "      <td>437</td>\n",
       "      <td>82.507740</td>\n",
       "    </tr>\n",
       "    <tr>\n",
       "      <th>testData 1</th>\n",
       "      <td>1485</td>\n",
       "      <td>24</td>\n",
       "      <td>743</td>\n",
       "      <td>65.760518</td>\n",
       "    </tr>\n",
       "    <tr>\n",
       "      <th>testData 2</th>\n",
       "      <td>1221</td>\n",
       "      <td>22</td>\n",
       "      <td>611</td>\n",
       "      <td>66.375405</td>\n",
       "    </tr>\n",
       "    <tr>\n",
       "      <th>testData 5</th>\n",
       "      <td>875</td>\n",
       "      <td>19</td>\n",
       "      <td>438</td>\n",
       "      <td>67.411003</td>\n",
       "    </tr>\n",
       "    <tr>\n",
       "      <th>4000Split 1</th>\n",
       "      <td>1153</td>\n",
       "      <td>21</td>\n",
       "      <td>577</td>\n",
       "      <td>73.032440</td>\n",
       "    </tr>\n",
       "    <tr>\n",
       "      <th>4000Split 2</th>\n",
       "      <td>919</td>\n",
       "      <td>18</td>\n",
       "      <td>460</td>\n",
       "      <td>72.891396</td>\n",
       "    </tr>\n",
       "    <tr>\n",
       "      <th>4000Split 5</th>\n",
       "      <td>645</td>\n",
       "      <td>16</td>\n",
       "      <td>323</td>\n",
       "      <td>72.609309</td>\n",
       "    </tr>\n",
       "  </tbody>\n",
       "</table>\n",
       "</div>"
      ],
      "text/plain": [
       "             Number of Nodes  Depth of Tree  Number of Leaves   Accuracy\n",
       "crossVal 1              1483             24               742  83.106295\n",
       "crossVal 2              1221             22               611  83.519092\n",
       "crossVal 5               873             19               437  82.507740\n",
       "testData 1              1485             24               743  65.760518\n",
       "testData 2              1221             22               611  66.375405\n",
       "testData 5               875             19               438  67.411003\n",
       "4000Split 1             1153             21               577  73.032440\n",
       "4000Split 2              919             18               460  72.891396\n",
       "4000Split 5              645             16               323  72.609309"
      ]
     },
     "execution_count": 98,
     "metadata": {},
     "output_type": "execute_result"
    }
   ],
   "source": [
    "print('Min sample per leaf')\n",
    "J48_Table_minInstances"
   ]
  },
  {
   "cell_type": "code",
   "execution_count": 99,
   "metadata": {},
   "outputs": [
    {
     "name": "stdout",
     "output_type": "stream",
     "text": [
      "Pruned & Entropy \n"
     ]
    },
    {
     "data": {
      "text/html": [
       "<div>\n",
       "<style scoped>\n",
       "    .dataframe tbody tr th:only-of-type {\n",
       "        vertical-align: middle;\n",
       "    }\n",
       "\n",
       "    .dataframe tbody tr th {\n",
       "        vertical-align: top;\n",
       "    }\n",
       "\n",
       "    .dataframe thead th {\n",
       "        text-align: right;\n",
       "    }\n",
       "</style>\n",
       "<table border=\"1\" class=\"dataframe\">\n",
       "  <thead>\n",
       "    <tr style=\"text-align: right;\">\n",
       "      <th></th>\n",
       "      <th>Number of Nodes</th>\n",
       "      <th>Depth of Tree</th>\n",
       "      <th>Number of Leaves</th>\n",
       "      <th>Accuracy</th>\n",
       "    </tr>\n",
       "  </thead>\n",
       "  <tbody>\n",
       "    <tr>\n",
       "      <th>Cross Validation</th>\n",
       "      <td>725</td>\n",
       "      <td>13</td>\n",
       "      <td>363</td>\n",
       "      <td>84.613003</td>\n",
       "    </tr>\n",
       "    <tr>\n",
       "      <th>Test Data</th>\n",
       "      <td>725</td>\n",
       "      <td>13</td>\n",
       "      <td>363</td>\n",
       "      <td>71.553398</td>\n",
       "    </tr>\n",
       "    <tr>\n",
       "      <th>4000 Split</th>\n",
       "      <td>627</td>\n",
       "      <td>14</td>\n",
       "      <td>314</td>\n",
       "      <td>82.976023</td>\n",
       "    </tr>\n",
       "    <tr>\n",
       "      <th>9000 Split</th>\n",
       "      <td>207</td>\n",
       "      <td>10</td>\n",
       "      <td>104</td>\n",
       "      <td>87.642680</td>\n",
       "    </tr>\n",
       "  </tbody>\n",
       "</table>\n",
       "</div>"
      ],
      "text/plain": [
       "                  Number of Nodes  Depth of Tree  Number of Leaves   Accuracy\n",
       "Cross Validation              725             13               363  84.613003\n",
       "Test Data                     725             13               363  71.553398\n",
       "4000 Split                    627             14               314  82.976023\n",
       "9000 Split                    207             10               104  87.642680"
      ]
     },
     "execution_count": 99,
     "metadata": {},
     "output_type": "execute_result"
    }
   ],
   "source": [
    "print('Pruned & Entropy ')\n",
    "J48_Table_prunedEntropy"
   ]
  },
  {
   "cell_type": "code",
   "execution_count": null,
   "metadata": {},
   "outputs": [],
   "source": []
  },
  {
   "cell_type": "code",
   "execution_count": null,
   "metadata": {},
   "outputs": [],
   "source": [
    "plot_tree(J48_withTestData);"
   ]
  },
  {
   "cell_type": "code",
   "execution_count": null,
   "metadata": {},
   "outputs": [],
   "source": [
    "plot_tree(J48_pruned_testData);"
   ]
  },
  {
   "cell_type": "code",
   "execution_count": null,
   "metadata": {},
   "outputs": [],
   "source": [
    "plot_tree(J48_entropy_testData);"
   ]
  },
  {
   "cell_type": "markdown",
   "metadata": {},
   "source": [
    "adapted from https://scikit-learn.org/stable/modules/generated/sklearn.ensemble.RandomForestClassifier.html"
   ]
  },
  {
   "cell_type": "code",
   "execution_count": 23,
   "metadata": {},
   "outputs": [],
   "source": [
    "#imports for Random Forest\n",
    "import os\n",
    "import numpy as np\n",
    "import pandas as pd\n",
    "import matplotlib.pyplot as plt\n",
    "from sklearn.utils import shuffle\n",
    "\n",
    "from sklearn.metrics import roc_auc_score\n",
    "from sklearn.metrics import confusion_matrix\n",
    "import seaborn as sns\n",
    "from sklearn.metrics import classification_report\n",
    "from sklearn.model_selection import cross_val_score\n",
    "from sklearn.model_selection import cross_val_predict\n",
    "from sklearn.metrics import roc_auc_score\n",
    "\n",
    "from sklearn.ensemble import RandomForestClassifier"
   ]
  },
  {
   "cell_type": "markdown",
   "metadata": {},
   "source": [
    "<hr>\n",
    "<h4> Cross Validation <h4>"
   ]
  },
  {
   "cell_type": "markdown",
   "metadata": {},
   "source": [
    "Goal : Run cross a random forest classifier with 10 fold cross validation then output metrics"
   ]
  },
  {
   "cell_type": "code",
   "execution_count": 363,
   "metadata": {},
   "outputs": [],
   "source": [
    "#create a Gaussian Classifier - random forest\n",
    "randomForest_crossVal = RandomForestClassifier(n_estimators = 100)\n",
    "\n",
    "#train the model using the training set generated \n",
    "randomForest_crossVal.fit(X_train, y_train)\n",
    "\n",
    "\n",
    "#setup cross validation using the above classifier, X_train = data to be classified, y = the labels, CV = number of folds\n",
    "cross_validation_scores_randomForest = cross_val_score(randomForest_crossVal, X_train, y_train, cv=10)\n"
   ]
  },
  {
   "cell_type": "code",
   "execution_count": 364,
   "metadata": {},
   "outputs": [
    {
     "data": {
      "text/plain": [
       "Text(0.5, 1.0, 'Average score: 0.9782249742002064')"
      ]
     },
     "execution_count": 364,
     "metadata": {},
     "output_type": "execute_result"
    },
    {
     "data": {
      "image/png": "[encoded data removed]",
      "text/plain": [
       "<Figure size 432x288 with 1 Axes>"
      ]
     },
     "metadata": {
      "needs_background": "light"
     },
     "output_type": "display_data"
    }
   ],
   "source": [
    "# use seaborn (sns) to plot a graph of the above scores\n",
    "sns.distplot(cross_validation_scores_randomForest)\n",
    "plt.title('Average score: {}'.format(np.mean(cross_validation_scores_randomForest)))"
   ]
  },
  {
   "cell_type": "code",
   "execution_count": 367,
   "metadata": {},
   "outputs": [],
   "source": [
    "#train model with 10 fold validation, \n",
    "#cross_val_predict Get predictions from each split of cross-validation for diagnostic purposes.\n",
    "y_pred_randomForest_crosVal = cross_val_predict(randomForest_crossVal, X_train, y_train, cv=10)\n",
    "\n",
    "#allows for confusion matrix generation\n",
    "conf_matrix_randomForest = confusion_matrix(y_train, y_pred_randomForest_crosVal)\n",
    "classification_report_randomForest = classification_report(y_train, y_pred_randomForest_crosVal)"
   ]
  },
  {
   "cell_type": "code",
   "execution_count": 368,
   "metadata": {},
   "outputs": [
    {
     "name": "stdout",
     "output_type": "stream",
     "text": [
      "Confusion Matrix\n",
      "[[ 529    0    0    2    3    0    3    0    3    0]\n",
      " [   2  198    1    2    1    2    0    0    4    0]\n",
      " [   0    0 1955    0   15    0    0    0   10    0]\n",
      " [   2    0    0  253    9    0    1    3    2    0]\n",
      " [   0    0   17    0 2177    0    0    3   23    0]\n",
      " [   0    0    1    0    0  238    1    0    0    0]\n",
      " [   2    0    3    1    6    0  346    2    0    0]\n",
      " [   0    0    1    0   13    0    0 1371   25    0]\n",
      " [   0    0   10    0   27    0    0    9 2204    0]\n",
      " [   0    0    2    0   21    0    0    0    3  184]]\n",
      "\n",
      "\n",
      "              precision    recall  f1-score   support\n",
      "\n",
      "       eight       0.99      0.98      0.98       540\n",
      "        five       1.00      0.94      0.97       210\n",
      "        four       0.98      0.99      0.98      1980\n",
      "        nine       0.98      0.94      0.96       270\n",
      "         one       0.96      0.98      0.97      2220\n",
      "       seven       0.99      0.99      0.99       240\n",
      "         six       0.99      0.96      0.97       360\n",
      "       three       0.99      0.97      0.98      1410\n",
      "         two       0.97      0.98      0.97      2250\n",
      "        zero       1.00      0.88      0.93       210\n",
      "\n",
      "    accuracy                           0.98      9690\n",
      "   macro avg       0.98      0.96      0.97      9690\n",
      "weighted avg       0.98      0.98      0.98      9690\n",
      "\n"
     ]
    }
   ],
   "source": [
    "#Print Confusion matrix and other important results\n",
    "print(\"Confusion Matrix\")\n",
    "print(conf_matrix_randomForest)\n",
    "\n",
    "print(\"\\n\")\n",
    "print(classification_report_randomForest)\n",
    "#print(roc_auc_score(y, y_pred))"
   ]
  },
  {
   "cell_type": "markdown",
   "metadata": {},
   "source": [
    "<hr>\n",
    "<h4> with Test data <h4> "
   ]
  },
  {
   "cell_type": "markdown",
   "metadata": {},
   "source": [
    "Goal : Run a random forest classifier with test data"
   ]
  },
  {
   "cell_type": "code",
   "execution_count": null,
   "metadata": {},
   "outputs": [],
   "source": [
    "#create a Gaussian Classifier - random forest\n",
    "\n",
    "randomForest_withTestData = RandomForestClassifier(n_estimators = 100)\n",
    "\n",
    "#train the model using the training set generated \n",
    "randomForest_withTestData.fit(X_train, y_train)\n",
    "\n",
    "\n",
    "#test this model on the seperated data\n",
    "y_pred_randomForest_testData = randomForest_withTestData.predict(X_test)\n",
    "\n",
    "\n",
    "#confusion matrix generation\n",
    "conf_matrix_randomForest_withTestData = confusion_matrix(y_test, y_pred_randomForest_testData)\n",
    "\n",
    "#accuracy report\n",
    "classification_report_randomForest_withTestData = classification_report(y_test, y_pred_randomForest_testData)"
   ]
  },
  {
   "cell_type": "code",
   "execution_count": null,
   "metadata": {},
   "outputs": [],
   "source": [
    "print(\"Confusion Matrix\")\n",
    "print(conf_matrix_randomForest_withTestData)\n",
    "print(\"\\n\")\n",
    "print(classification_report_randomForest_withTestData)"
   ]
  },
  {
   "cell_type": "markdown",
   "metadata": {},
   "source": [
    "<hr>\n",
    "<h4> Data Split - 4000<h4> "
   ]
  },
  {
   "cell_type": "markdown",
   "metadata": {},
   "source": [
    "Goal : Run a random forest classifier with 4000 instances moves from the original training data into the test data. "
   ]
  },
  {
   "cell_type": "code",
   "execution_count": null,
   "metadata": {},
   "outputs": [],
   "source": [
    "#create a Gaussian Classifier - random forest\n",
    "\n",
    "randomForest_4000Split = RandomForestClassifier(n_estimators = 100)\n",
    "\n",
    "#train the model using the training set generated \n",
    "randomForest_4000Split.fit(X_train_4000Split, y_train_4000Split)\n",
    "\n",
    "\n",
    "#test this model on the seperated data\n",
    "y_pred_randomForest_4000Split = randomForest_4000Split.predict(X_test_4000Split)\n",
    "\n",
    "\n",
    "#confusion matrix generation\n",
    "conf_matrix_randomForest_4000Split = confusion_matrix(y_test_4000Split, y_pred_randomForest_4000Split)\n",
    "\n",
    "#accuracy report\n",
    "classification_report_randomForest_4000Split = classification_report(y_test_4000Split, y_pred_randomForest_4000Split)"
   ]
  },
  {
   "cell_type": "code",
   "execution_count": null,
   "metadata": {},
   "outputs": [],
   "source": [
    "print(\"Confusion Matrix\")\n",
    "print(conf_matrix_randomForest_4000Split)\n",
    "print(\"\\n\")\n",
    "print(classification_report_randomForest_4000Split)"
   ]
  },
  {
   "cell_type": "markdown",
   "metadata": {},
   "source": [
    "<hr>\n",
    "<h4> Data Split - 9000<h4> "
   ]
  },
  {
   "cell_type": "markdown",
   "metadata": {},
   "source": [
    "Goal : Run a random forest classifier with 9000 instances moves from the original training data into the test data. "
   ]
  },
  {
   "cell_type": "code",
   "execution_count": 24,
   "metadata": {},
   "outputs": [],
   "source": [
    "#create a Gaussian Classifier - random forest\n",
    "\n",
    "randomForest_9000Split = RandomForestClassifier(n_estimators = 100)\n",
    "\n",
    "#train the model using the training set generated \n",
    "randomForest_9000Split.fit(X_train_9000Split, y_train_9000Split)\n",
    "\n",
    "\n",
    "#test this model on the seperated data\n",
    "y_pred_randomForest_9000Split = randomForest_9000Split.predict(X_test_9000Split)\n",
    "\n",
    "\n",
    "#confusion matrix generation\n",
    "conf_matrix_randomForest_9000Split = confusion_matrix(y_test_9000Split, y_pred_randomForest_9000Split)\n",
    "\n",
    "#accuracy report\n",
    "classification_report_randomForest_9000Split = classification_report(y_test_9000Split, y_pred_randomForest_9000Split)"
   ]
  },
  {
   "cell_type": "code",
   "execution_count": 25,
   "metadata": {},
   "outputs": [
    {
     "name": "stdout",
     "output_type": "stream",
     "text": [
      "Confusion Matrix\n",
      "[[ 240    6   16   21   10    0   13   32   25    0]\n",
      " [  26   42   45   15    5    0    0    1    5    0]\n",
      " [   3    0 1118    1  173    0    0   66   85    0]\n",
      " [  37    0    4  124   11    0    7    6   23    0]\n",
      " [   3    0   77    0 1202    0    0   45  321    0]\n",
      " [  19    5   23   27   15   37    6    8   25    0]\n",
      " [  45    4   16   25    7    0  110   23   11    0]\n",
      " [   1    0   96    1   90    0    6  735  136    0]\n",
      " [   5    0  103    0  155    0    0  323 1077    0]\n",
      " [   0    0   23    0   93    0    0    1   13   18]]\n",
      "\n",
      "\n",
      "              precision    recall  f1-score   support\n",
      "\n",
      "       eight       0.63      0.66      0.65       363\n",
      "        five       0.74      0.30      0.43       139\n",
      "        four       0.74      0.77      0.75      1446\n",
      "        nine       0.58      0.58      0.58       212\n",
      "         one       0.68      0.73      0.71      1648\n",
      "       seven       1.00      0.22      0.37       165\n",
      "         six       0.77      0.46      0.57       241\n",
      "       three       0.59      0.69      0.64      1065\n",
      "         two       0.63      0.65      0.64      1663\n",
      "        zero       1.00      0.12      0.22       148\n",
      "\n",
      "    accuracy                           0.66      7090\n",
      "   macro avg       0.74      0.52      0.55      7090\n",
      "weighted avg       0.68      0.66      0.65      7090\n",
      "\n"
     ]
    }
   ],
   "source": [
    "print(\"Confusion Matrix\")\n",
    "print(conf_matrix_randomForest_9000Split)\n",
    "print(\"\\n\")\n",
    "print(classification_report_randomForest_9000Split)"
   ]
  },
  {
   "cell_type": "markdown",
   "metadata": {},
   "source": [
    "<h3> Random Forest Parameter Exploration <h3>\n",
    "\n",
    "<hr>"
   ]
  },
  {
   "cell_type": "markdown",
   "metadata": {},
   "source": [
    "<h4> binary splits or multiple branching <h4> "
   ]
  },
  {
   "cell_type": "markdown",
   "metadata": {},
   "source": [
    "Information on binary splitting with random forests : https://link.springer.com/article/10.1007/s10994-014-5451-2"
   ]
  },
  {
   "cell_type": "code",
   "execution_count": 28,
   "metadata": {},
   "outputs": [
    {
     "name": "stderr",
     "output_type": "stream",
     "text": [
      "/Users/Rob/opt/anaconda3/lib/python3.8/site-packages/sklearn/metrics/_classification.py:1221: UndefinedMetricWarning: Precision and F-score are ill-defined and being set to 0.0 in labels with no predicted samples. Use `zero_division` parameter to control this behavior.\n",
      "  _warn_prf(average, modifier, msg_start, len(result))\n"
     ]
    }
   ],
   "source": [
    "#create a Gaussian Classifier - random forest\n",
    "\n",
    "randomForest_TD_PE1 = RandomForestClassifier(n_estimators = 100, min_samples_split = 1 )\n",
    "\n",
    "#train the model using the training set generated \n",
    "randomForest_TD_PE1.fit(X_train, y_train)\n",
    "\n",
    "\n",
    "#test this model on the seperated data\n",
    "y_pred_randomForest_TD_PE1 = randomForest_TD_PE1.predict(X_test)\n",
    "\n",
    "\n",
    "#confusion matrix generation\n",
    "conf_matrix_randomForest_TD_PE1 = confusion_matrix(y_test, y_pred_randomForest_TD_PE1)\n",
    "\n",
    "#accuracy report\n",
    "classification_report_randomForest_TD_PE1 = classification_report(y_test, y_pred_randomForest_TD_PE1)"
   ]
  },
  {
   "cell_type": "code",
   "execution_count": null,
   "metadata": {},
   "outputs": [],
   "source": []
  },
  {
   "cell_type": "code",
   "execution_count": null,
   "metadata": {},
   "outputs": [],
   "source": []
  },
  {
   "cell_type": "code",
   "execution_count": null,
   "metadata": {},
   "outputs": [],
   "source": []
  },
  {
   "cell_type": "code",
   "execution_count": null,
   "metadata": {},
   "outputs": [],
   "source": []
  },
  {
   "cell_type": "code",
   "execution_count": null,
   "metadata": {},
   "outputs": [],
   "source": []
  },
  {
   "cell_type": "markdown",
   "metadata": {},
   "source": [
    "<h4>Pruning <h4>"
   ]
  },
  {
   "cell_type": "markdown",
   "metadata": {},
   "source": [
    "Pruning Info - https://scikit-learn.org/0.22/auto_examples/tree/plot_cost_complexity_pruning.html"
   ]
  },
  {
   "cell_type": "code",
   "execution_count": null,
   "metadata": {},
   "outputs": [],
   "source": []
  },
  {
   "cell_type": "code",
   "execution_count": null,
   "metadata": {},
   "outputs": [],
   "source": []
  },
  {
   "cell_type": "code",
   "execution_count": null,
   "metadata": {},
   "outputs": [],
   "source": []
  },
  {
   "cell_type": "code",
   "execution_count": null,
   "metadata": {},
   "outputs": [],
   "source": []
  },
  {
   "cell_type": "code",
   "execution_count": null,
   "metadata": {},
   "outputs": [],
   "source": []
  },
  {
   "cell_type": "code",
   "execution_count": null,
   "metadata": {},
   "outputs": [],
   "source": []
  },
  {
   "cell_type": "markdown",
   "metadata": {},
   "source": [
    "<h4> confidence threshold for pruning <h4>"
   ]
  },
  {
   "cell_type": "code",
   "execution_count": null,
   "metadata": {},
   "outputs": [],
   "source": []
  },
  {
   "cell_type": "code",
   "execution_count": null,
   "metadata": {},
   "outputs": [],
   "source": []
  },
  {
   "cell_type": "code",
   "execution_count": null,
   "metadata": {},
   "outputs": [],
   "source": []
  },
  {
   "cell_type": "code",
   "execution_count": null,
   "metadata": {},
   "outputs": [],
   "source": []
  },
  {
   "cell_type": "code",
   "execution_count": null,
   "metadata": {},
   "outputs": [],
   "source": []
  },
  {
   "cell_type": "code",
   "execution_count": null,
   "metadata": {},
   "outputs": [],
   "source": []
  },
  {
   "cell_type": "code",
   "execution_count": null,
   "metadata": {},
   "outputs": [],
   "source": []
  },
  {
   "cell_type": "markdown",
   "metadata": {},
   "source": [
    "<h4> minimal number of instances permissible per leaf <h4>"
   ]
  },
  {
   "cell_type": "code",
   "execution_count": null,
   "metadata": {},
   "outputs": [],
   "source": []
  },
  {
   "cell_type": "code",
   "execution_count": null,
   "metadata": {},
   "outputs": [],
   "source": []
  },
  {
   "cell_type": "code",
   "execution_count": null,
   "metadata": {},
   "outputs": [],
   "source": []
  },
  {
   "cell_type": "code",
   "execution_count": null,
   "metadata": {},
   "outputs": [],
   "source": []
  },
  {
   "cell_type": "markdown",
   "metadata": {},
   "source": [
    "<h2> MLP <h2>"
   ]
  },
  {
   "cell_type": "markdown",
   "metadata": {},
   "source": [
    "https://scikit-learn.org/stable/modules/generated/sklearn.neural_network.MLPClassifier.html"
   ]
  },
  {
   "cell_type": "code",
   "execution_count": 377,
   "metadata": {},
   "outputs": [],
   "source": [
    "from sklearn.neural_network import MLPClassifier\n",
    "from sklearn.datasets import make_classification\n",
    "from sklearn.model_selection import train_test_split\n",
    "\n",
    "MLPclassifier = MLPClassifier(hidden_layer_sizes=(150,100,50), \n",
    "                           max_iter=300,activation = 'relu',solver='adam',random_state=1)\n",
    "\n",
    "#Fitting the training data to the network\n",
    "MLPclassifier.fit(X_train, y_train)\n",
    "\n",
    "#Predicting y for X_val\n",
    "y_pred_MLP = MLPclassifier.predict(X_test)\n",
    "\n",
    "#generate classification report\n",
    "classification_report_MLP= classification_report(y_test, y_pred_MLP)\n",
    "\n",
    "#set variable as the accuracy of the MLP\n",
    "accuracy_MLP = MLPclassifier.score(X_test, y_test)"
   ]
  },
  {
   "cell_type": "code",
   "execution_count": 385,
   "metadata": {},
   "outputs": [
    {
     "ename": "TypeError",
     "evalue": "'numpy.ndarray' object is not callable",
     "output_type": "error",
     "traceback": [
      "\u001b[0;31m---------------------------------------------------------------------------\u001b[0m",
      "\u001b[0;31mTypeError\u001b[0m                                 Traceback (most recent call last)",
      "\u001b[0;32m<ipython-input-385-3c6e3a3ef61c>\u001b[0m in \u001b[0;36m<module>\u001b[0;34m\u001b[0m\n\u001b[1;32m      1\u001b[0m \u001b[0;31m#confusion matrix generation\u001b[0m\u001b[0;34m\u001b[0m\u001b[0;34m\u001b[0m\u001b[0;34m\u001b[0m\u001b[0m\n\u001b[0;32m----> 2\u001b[0;31m \u001b[0mconf_matrix_MLP\u001b[0m \u001b[0;34m=\u001b[0m \u001b[0mconfusion_matrix\u001b[0m\u001b[0;34m(\u001b[0m\u001b[0my_test\u001b[0m\u001b[0;34m,\u001b[0m \u001b[0my_pred_MLP\u001b[0m\u001b[0;34m)\u001b[0m\u001b[0;34m\u001b[0m\u001b[0;34m\u001b[0m\u001b[0m\n\u001b[0m",
      "\u001b[0;31mTypeError\u001b[0m: 'numpy.ndarray' object is not callable"
     ]
    }
   ],
   "source": [
    "#confusion matrix generation --- currently NOT working\n",
    "conf_matrix_MLP = confusion_matrix(y_test, y_pred_MLP)"
   ]
  },
  {
   "cell_type": "code",
   "execution_count": 387,
   "metadata": {},
   "outputs": [
    {
     "name": "stdout",
     "output_type": "stream",
     "text": [
      "0.7679611650485437\n",
      "              precision    recall  f1-score   support\n",
      "\n",
      "       eight       0.56      0.81      0.66       150\n",
      "        five       0.78      0.53      0.63        60\n",
      "        four       0.79      0.86      0.82       660\n",
      "        nine       0.75      0.49      0.59        90\n",
      "         one       0.83      0.81      0.82       720\n",
      "       seven       0.88      0.50      0.64        60\n",
      "         six       0.77      0.38      0.51        90\n",
      "       three       0.68      0.88      0.77       450\n",
      "         two       0.83      0.74      0.78       750\n",
      "        zero       0.45      0.25      0.32        60\n",
      "\n",
      "    accuracy                           0.77      3090\n",
      "   macro avg       0.73      0.62      0.65      3090\n",
      "weighted avg       0.78      0.77      0.76      3090\n",
      "\n"
     ]
    }
   ],
   "source": [
    "print(accuracy_MLP)\n",
    "print(classification_report_MLP)"
   ]
  },
  {
   "cell_type": "markdown",
   "metadata": {},
   "source": [
    "<h3> Results and Other <h3>"
   ]
  },
  {
   "cell_type": "markdown",
   "metadata": {},
   "source": [
    "would be cool to produce some plots like this for comparing models : \n",
    "\n",
    "\n",
    "https://scikit-learn.org/stable/auto_examples/classification/plot_classifier_comparison.html"
   ]
  },
  {
   "cell_type": "markdown",
   "metadata": {},
   "source": [
    "would be good to get this tree visualiser working <br>\n",
    "\n",
    "https://chrisalbon.com/machine_learning/trees_and_forests/visualize_a_decision_tree/"
   ]
  },
  {
   "cell_type": "code",
   "execution_count": 141,
   "metadata": {},
   "outputs": [],
   "source": []
  },
  {
   "cell_type": "code",
   "execution_count": 145,
   "metadata": {},
   "outputs": [
    {
     "ename": "AttributeError",
     "evalue": "'DataFrame' object has no attribute 'concat'",
     "output_type": "error",
     "traceback": [
      "\u001b[0;31m---------------------------------------------------------------------------\u001b[0m",
      "\u001b[0;31mAttributeError\u001b[0m                            Traceback (most recent call last)",
      "\u001b[0;32m<ipython-input-145-a7e851c596e9>\u001b[0m in \u001b[0;36m<module>\u001b[0;34m\u001b[0m\n\u001b[0;32m----> 1\u001b[0;31m \u001b[0mtreeComparisonTable\u001b[0m\u001b[0;34m.\u001b[0m\u001b[0mconcat\u001b[0m\u001b[0;34m(\u001b[0m\u001b[0mtreeDataFrame_J48_crossVal\u001b[0m\u001b[0;34m)\u001b[0m\u001b[0;34m\u001b[0m\u001b[0;34m\u001b[0m\u001b[0m\n\u001b[0m\u001b[1;32m      2\u001b[0m \u001b[0mtreeComparisonTable\u001b[0m\u001b[0;34m.\u001b[0m\u001b[0mconcat\u001b[0m\u001b[0;34m(\u001b[0m\u001b[0mtreeDataFrame_pruned_DTC\u001b[0m\u001b[0;34m)\u001b[0m\u001b[0;34m\u001b[0m\u001b[0;34m\u001b[0m\u001b[0m\n\u001b[1;32m      3\u001b[0m \u001b[0;34m\u001b[0m\u001b[0m\n\u001b[1;32m      4\u001b[0m \u001b[0mtreeComparisonTable\u001b[0m\u001b[0;34m\u001b[0m\u001b[0;34m\u001b[0m\u001b[0m\n",
      "\u001b[0;32m~/opt/anaconda3/lib/python3.8/site-packages/pandas/core/generic.py\u001b[0m in \u001b[0;36m__getattr__\u001b[0;34m(self, name)\u001b[0m\n\u001b[1;32m   5272\u001b[0m             \u001b[0;32mif\u001b[0m \u001b[0mself\u001b[0m\u001b[0;34m.\u001b[0m\u001b[0m_info_axis\u001b[0m\u001b[0;34m.\u001b[0m\u001b[0m_can_hold_identifiers_and_holds_name\u001b[0m\u001b[0;34m(\u001b[0m\u001b[0mname\u001b[0m\u001b[0;34m)\u001b[0m\u001b[0;34m:\u001b[0m\u001b[0;34m\u001b[0m\u001b[0;34m\u001b[0m\u001b[0m\n\u001b[1;32m   5273\u001b[0m                 \u001b[0;32mreturn\u001b[0m \u001b[0mself\u001b[0m\u001b[0;34m[\u001b[0m\u001b[0mname\u001b[0m\u001b[0;34m]\u001b[0m\u001b[0;34m\u001b[0m\u001b[0;34m\u001b[0m\u001b[0m\n\u001b[0;32m-> 5274\u001b[0;31m             \u001b[0;32mreturn\u001b[0m \u001b[0mobject\u001b[0m\u001b[0;34m.\u001b[0m\u001b[0m__getattribute__\u001b[0m\u001b[0;34m(\u001b[0m\u001b[0mself\u001b[0m\u001b[0;34m,\u001b[0m \u001b[0mname\u001b[0m\u001b[0;34m)\u001b[0m\u001b[0;34m\u001b[0m\u001b[0;34m\u001b[0m\u001b[0m\n\u001b[0m\u001b[1;32m   5275\u001b[0m \u001b[0;34m\u001b[0m\u001b[0m\n\u001b[1;32m   5276\u001b[0m     \u001b[0;32mdef\u001b[0m \u001b[0m__setattr__\u001b[0m\u001b[0;34m(\u001b[0m\u001b[0mself\u001b[0m\u001b[0;34m,\u001b[0m \u001b[0mname\u001b[0m\u001b[0;34m:\u001b[0m \u001b[0mstr\u001b[0m\u001b[0;34m,\u001b[0m \u001b[0mvalue\u001b[0m\u001b[0;34m)\u001b[0m \u001b[0;34m->\u001b[0m \u001b[0;32mNone\u001b[0m\u001b[0;34m:\u001b[0m\u001b[0;34m\u001b[0m\u001b[0;34m\u001b[0m\u001b[0m\n",
      "\u001b[0;31mAttributeError\u001b[0m: 'DataFrame' object has no attribute 'concat'"
     ]
    }
   ],
   "source": []
  },
  {
   "cell_type": "code",
   "execution_count": null,
   "metadata": {},
   "outputs": [],
   "source": []
  }
 ],
 "metadata": {
  "kernelspec": {
   "display_name": "Python 3",
   "language": "python",
   "name": "python3"
  },
  "language_info": {
   "codemirror_mode": {
    "name": "ipython",
    "version": 3
   },
   "file_extension": ".py",
   "mimetype": "text/x-python",
   "name": "python",
   "nbconvert_exporter": "python",
   "pygments_lexer": "ipython3",
   "version": "3.8.3"
  }
 },
 "nbformat": 4,
 "nbformat_minor": 4
}
