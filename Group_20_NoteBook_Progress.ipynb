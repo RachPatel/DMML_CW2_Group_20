{
 "cells": [
  {
   "cell_type": "markdown",
   "metadata": {},
   "source": [
    "<h1> Group 20 - DMMML Coursework 2<h1>\n",
    "    \n",
    "<hr>"
   ]
  },
  {
   "cell_type": "markdown",
   "metadata": {},
   "source": [
    "<h3 style=\"color:blue\"> Data <h3> "
   ]
  },
  {
   "cell_type": "markdown",
   "metadata": {},
   "source": [
    "Goal : Setup full training data set :"
   ]
  },
  {
   "cell_type": "code",
   "execution_count": 258,
   "metadata": {},
   "outputs": [
    {
     "name": "stdout",
     "output_type": "stream",
     "text": [
      "          0      1      2      3      4      5      6      7      8      9  \\\n",
      "0      78.0   77.0   76.0   82.0   87.0   92.0  104.0  119.0  117.0  120.0   \n",
      "1      73.0   75.0   79.0   78.0   76.0   75.0   89.0  107.0  133.0  125.0   \n",
      "2      72.0   75.0   79.0   77.0   81.0   89.0  105.0  109.0   86.0   90.0   \n",
      "3      67.0   70.0   74.0   80.0   93.0  107.0  110.0   96.0   69.0  100.0   \n",
      "4      74.0   74.0   73.0   72.0   77.0   87.0  104.0  109.0   84.0   83.0   \n",
      "...     ...    ...    ...    ...    ...    ...    ...    ...    ...    ...   \n",
      "9685  247.0  220.0  254.0  213.0  129.0  208.0  254.0  255.0  255.0  255.0   \n",
      "9686  151.0  118.0  254.0  255.0  255.0  255.0  254.0  254.0  254.0  252.0   \n",
      "9687  255.0  255.0  255.0  255.0  255.0  255.0  255.0  255.0  255.0  255.0   \n",
      "9688  255.0  253.0  255.0  255.0  255.0  255.0  255.0  255.0  255.0  255.0   \n",
      "9689  252.0  189.0  238.0  255.0  255.0  245.0  219.0  212.0  140.0   40.0   \n",
      "\n",
      "      ...  2295  2296   2297  2298  2299  2300   2301   2302   2303  Class  \n",
      "0     ...  79.0  72.0   76.0  83.0  95.0  99.0   98.0   95.0   94.0      0  \n",
      "1     ...  93.0  85.0   77.0  69.0  73.0  83.0  100.0  101.0  101.0      0  \n",
      "2     ...  95.0  88.0   80.0  73.0  71.0  74.0   80.0   89.0   95.0      0  \n",
      "3     ...  92.0  87.0   82.0  77.0  72.0  70.0   72.0   81.0   88.0      0  \n",
      "4     ...  98.0  99.0  100.0  99.0  89.0  78.0   66.0   68.0   72.0      0  \n",
      "...   ...   ...   ...    ...   ...   ...   ...    ...    ...    ...    ...  \n",
      "9685  ...  29.0  27.0   26.0  25.0  23.0  22.0   26.0   26.0   27.0      9  \n",
      "9686  ...  31.0  30.0   30.0  30.0  30.0  29.0   26.0   28.0   27.0      9  \n",
      "9687  ...  49.0  42.0   36.0  33.0  36.0  39.0   31.0   39.0   43.0      9  \n",
      "9688  ...  27.0  26.0   27.0  35.0  28.0  27.0   26.0   26.0   24.0      9  \n",
      "9689  ...  23.0  23.0   30.0  32.0  23.0  23.0   26.0   20.0   17.0      9  \n",
      "\n",
      "[9690 rows x 2305 columns]\n"
     ]
    }
   ],
   "source": [
    "# Python ≥3.5 is required\n",
    "import sys\n",
    "assert sys.version_info >= (3, 5)\n",
    "# Scikit-Learn ≥0.20 is required\n",
    "import sklearn\n",
    "assert sklearn.__version__ >= \"0.20\"\n",
    "# Common imports\n",
    "import numpy as np\n",
    "import os\n",
    "import tarfile\n",
    "import urllib\n",
    "import pandas as pd\n",
    "# To plot pretty figures\n",
    "%matplotlib inline\n",
    "import matplotlib as mpl\n",
    "import matplotlib.pyplot as plt\n",
    "\n",
    "#read the attribute csvs file into respective dataframes\n",
    "X = pd.read_csv ('x_train_gr_smpl.csv')\n",
    "\n",
    "\n",
    "# read the class attribute file into Y datafram\n",
    "Y = pd.read_csv('y_train_smpl.csv')\n",
    "Y.columns = ['Class']\n",
    "\n",
    "#join the two such that Y is the last column\n",
    "XYraw = pd.concat([X,Y], axis=1)\n",
    "#check the concatination\n",
    "print(XYraw)"
   ]
  },
  {
   "cell_type": "code",
   "execution_count": 259,
   "metadata": {},
   "outputs": [
    {
     "data": {
      "text/html": [
       "<div>\n",
       "<style scoped>\n",
       "    .dataframe tbody tr th:only-of-type {\n",
       "        vertical-align: middle;\n",
       "    }\n",
       "\n",
       "    .dataframe tbody tr th {\n",
       "        vertical-align: top;\n",
       "    }\n",
       "\n",
       "    .dataframe thead th {\n",
       "        text-align: right;\n",
       "    }\n",
       "</style>\n",
       "<table border=\"1\" class=\"dataframe\">\n",
       "  <thead>\n",
       "    <tr style=\"text-align: right;\">\n",
       "      <th></th>\n",
       "      <th>0</th>\n",
       "      <th>1</th>\n",
       "      <th>2</th>\n",
       "      <th>3</th>\n",
       "      <th>4</th>\n",
       "      <th>5</th>\n",
       "      <th>6</th>\n",
       "      <th>7</th>\n",
       "      <th>8</th>\n",
       "      <th>9</th>\n",
       "      <th>...</th>\n",
       "      <th>2295</th>\n",
       "      <th>2296</th>\n",
       "      <th>2297</th>\n",
       "      <th>2298</th>\n",
       "      <th>2299</th>\n",
       "      <th>2300</th>\n",
       "      <th>2301</th>\n",
       "      <th>2302</th>\n",
       "      <th>2303</th>\n",
       "      <th>Class</th>\n",
       "    </tr>\n",
       "  </thead>\n",
       "  <tbody>\n",
       "    <tr>\n",
       "      <th>0</th>\n",
       "      <td>78.0</td>\n",
       "      <td>77.0</td>\n",
       "      <td>76.0</td>\n",
       "      <td>82.0</td>\n",
       "      <td>87.0</td>\n",
       "      <td>92.0</td>\n",
       "      <td>104.0</td>\n",
       "      <td>119.0</td>\n",
       "      <td>117.0</td>\n",
       "      <td>120.0</td>\n",
       "      <td>...</td>\n",
       "      <td>79.0</td>\n",
       "      <td>72.0</td>\n",
       "      <td>76.0</td>\n",
       "      <td>83.0</td>\n",
       "      <td>95.0</td>\n",
       "      <td>99.0</td>\n",
       "      <td>98.0</td>\n",
       "      <td>95.0</td>\n",
       "      <td>94.0</td>\n",
       "      <td>zero</td>\n",
       "    </tr>\n",
       "    <tr>\n",
       "      <th>1</th>\n",
       "      <td>73.0</td>\n",
       "      <td>75.0</td>\n",
       "      <td>79.0</td>\n",
       "      <td>78.0</td>\n",
       "      <td>76.0</td>\n",
       "      <td>75.0</td>\n",
       "      <td>89.0</td>\n",
       "      <td>107.0</td>\n",
       "      <td>133.0</td>\n",
       "      <td>125.0</td>\n",
       "      <td>...</td>\n",
       "      <td>93.0</td>\n",
       "      <td>85.0</td>\n",
       "      <td>77.0</td>\n",
       "      <td>69.0</td>\n",
       "      <td>73.0</td>\n",
       "      <td>83.0</td>\n",
       "      <td>100.0</td>\n",
       "      <td>101.0</td>\n",
       "      <td>101.0</td>\n",
       "      <td>zero</td>\n",
       "    </tr>\n",
       "    <tr>\n",
       "      <th>2</th>\n",
       "      <td>72.0</td>\n",
       "      <td>75.0</td>\n",
       "      <td>79.0</td>\n",
       "      <td>77.0</td>\n",
       "      <td>81.0</td>\n",
       "      <td>89.0</td>\n",
       "      <td>105.0</td>\n",
       "      <td>109.0</td>\n",
       "      <td>86.0</td>\n",
       "      <td>90.0</td>\n",
       "      <td>...</td>\n",
       "      <td>95.0</td>\n",
       "      <td>88.0</td>\n",
       "      <td>80.0</td>\n",
       "      <td>73.0</td>\n",
       "      <td>71.0</td>\n",
       "      <td>74.0</td>\n",
       "      <td>80.0</td>\n",
       "      <td>89.0</td>\n",
       "      <td>95.0</td>\n",
       "      <td>zero</td>\n",
       "    </tr>\n",
       "    <tr>\n",
       "      <th>3</th>\n",
       "      <td>67.0</td>\n",
       "      <td>70.0</td>\n",
       "      <td>74.0</td>\n",
       "      <td>80.0</td>\n",
       "      <td>93.0</td>\n",
       "      <td>107.0</td>\n",
       "      <td>110.0</td>\n",
       "      <td>96.0</td>\n",
       "      <td>69.0</td>\n",
       "      <td>100.0</td>\n",
       "      <td>...</td>\n",
       "      <td>92.0</td>\n",
       "      <td>87.0</td>\n",
       "      <td>82.0</td>\n",
       "      <td>77.0</td>\n",
       "      <td>72.0</td>\n",
       "      <td>70.0</td>\n",
       "      <td>72.0</td>\n",
       "      <td>81.0</td>\n",
       "      <td>88.0</td>\n",
       "      <td>zero</td>\n",
       "    </tr>\n",
       "    <tr>\n",
       "      <th>4</th>\n",
       "      <td>74.0</td>\n",
       "      <td>74.0</td>\n",
       "      <td>73.0</td>\n",
       "      <td>72.0</td>\n",
       "      <td>77.0</td>\n",
       "      <td>87.0</td>\n",
       "      <td>104.0</td>\n",
       "      <td>109.0</td>\n",
       "      <td>84.0</td>\n",
       "      <td>83.0</td>\n",
       "      <td>...</td>\n",
       "      <td>98.0</td>\n",
       "      <td>99.0</td>\n",
       "      <td>100.0</td>\n",
       "      <td>99.0</td>\n",
       "      <td>89.0</td>\n",
       "      <td>78.0</td>\n",
       "      <td>66.0</td>\n",
       "      <td>68.0</td>\n",
       "      <td>72.0</td>\n",
       "      <td>zero</td>\n",
       "    </tr>\n",
       "  </tbody>\n",
       "</table>\n",
       "<p>5 rows × 2305 columns</p>\n",
       "</div>"
      ],
      "text/plain": [
       "      0     1     2     3     4      5      6      7      8      9  ...  2295  \\\n",
       "0  78.0  77.0  76.0  82.0  87.0   92.0  104.0  119.0  117.0  120.0  ...  79.0   \n",
       "1  73.0  75.0  79.0  78.0  76.0   75.0   89.0  107.0  133.0  125.0  ...  93.0   \n",
       "2  72.0  75.0  79.0  77.0  81.0   89.0  105.0  109.0   86.0   90.0  ...  95.0   \n",
       "3  67.0  70.0  74.0  80.0  93.0  107.0  110.0   96.0   69.0  100.0  ...  92.0   \n",
       "4  74.0  74.0  73.0  72.0  77.0   87.0  104.0  109.0   84.0   83.0  ...  98.0   \n",
       "\n",
       "   2296   2297  2298  2299  2300   2301   2302   2303  Class  \n",
       "0  72.0   76.0  83.0  95.0  99.0   98.0   95.0   94.0   zero  \n",
       "1  85.0   77.0  69.0  73.0  83.0  100.0  101.0  101.0   zero  \n",
       "2  88.0   80.0  73.0  71.0  74.0   80.0   89.0   95.0   zero  \n",
       "3  87.0   82.0  77.0  72.0  70.0   72.0   81.0   88.0   zero  \n",
       "4  99.0  100.0  99.0  89.0  78.0   66.0   68.0   72.0   zero  \n",
       "\n",
       "[5 rows x 2305 columns]"
      ]
     },
     "execution_count": 259,
     "metadata": {},
     "output_type": "execute_result"
    }
   ],
   "source": [
    "\n",
    "#convert numberic to nominal \n",
    "XYraw[['Class']] = XYraw[['Class']].replace([0, 1, 2,3,4,5,6,7,8,9], ['zero', 'one', 'two','three', 'four', 'five', 'six', 'seven', 'eight',\n",
    "                                 'nine'])\n",
    "\n",
    "XYraw.head()"
   ]
  },
  {
   "cell_type": "code",
   "execution_count": 260,
   "metadata": {},
   "outputs": [
    {
     "name": "stdout",
     "output_type": "stream",
     "text": [
      "          0      1      2      3      4      5      6      7      8      9  \\\n",
      "0      29.0   27.0   25.0   23.0   23.0   24.0   24.0   25.0   26.0   25.0   \n",
      "1     255.0  255.0  255.0  255.0  255.0  221.0  179.0  179.0  225.0  177.0   \n",
      "2       9.0    9.0    9.0    9.0   10.0   10.0   10.0   11.0   10.0   10.0   \n",
      "3      32.0   32.0   32.0   32.0   30.0   32.0   29.0   29.0   30.0   30.0   \n",
      "4      50.0   38.0   30.0   32.0   50.0   78.0  137.0  145.0  194.0  242.0   \n",
      "...     ...    ...    ...    ...    ...    ...    ...    ...    ...    ...   \n",
      "9685  140.0  164.0  180.0  193.0  195.0  152.0  138.0  180.0  210.0  212.0   \n",
      "9686   35.0   30.0   29.0   28.0   28.0   28.0   27.0   26.0   24.0   23.0   \n",
      "9687  255.0  255.0  253.0  146.0   51.0   41.0   40.0   44.0   37.0   42.0   \n",
      "9688   29.0   29.0   30.0   29.0   29.0   29.0   29.0   29.0   30.0   34.0   \n",
      "9689   78.0   63.0   44.0   41.0   40.0   43.0   41.0   40.0   41.0   40.0   \n",
      "\n",
      "      ...   2295   2296   2297   2298   2299   2300  2301   2302   2303  Class  \n",
      "0     ...   54.0   54.0   55.0   56.0   55.0   55.0  54.0   55.0   55.0  three  \n",
      "1     ...  160.0  143.0  118.0   89.0   71.0   73.0  57.0   41.0   48.0    one  \n",
      "2     ...   10.0    9.0    8.0    7.0    7.0    7.0   7.0    7.0    8.0   four  \n",
      "3     ...   34.0   35.0   36.0   34.0   32.0   32.0  32.0   32.0   34.0    one  \n",
      "4     ...   92.0  123.0  135.0  102.0  105.0  104.0  76.0   70.0   53.0    one  \n",
      "...   ...    ...    ...    ...    ...    ...    ...   ...    ...    ...    ...  \n",
      "9685  ...  136.0  140.0  113.0   85.0   88.0   98.0  89.0  124.0  135.0    one  \n",
      "9686  ...   28.0   28.0   29.0   31.0   33.0   35.0  37.0   40.0   42.0    two  \n",
      "9687  ...   69.0   67.0   65.0   49.0   49.0   49.0  41.0   37.0   28.0  eight  \n",
      "9688  ...   23.0   23.0   23.0   23.0   23.0   23.0  23.0   23.0   24.0    one  \n",
      "9689  ...  100.0   99.0   98.0   96.0   90.0   84.0  77.0   72.0   69.0  three  \n",
      "\n",
      "[9690 rows x 2305 columns]\n"
     ]
    }
   ],
   "source": [
    "\n",
    "#randomise \n",
    "XYraw_ran = XYraw.sample(frac=1).reset_index(drop=True)\n",
    "print(XYraw_ran)"
   ]
  },
  {
   "cell_type": "code",
   "execution_count": 261,
   "metadata": {},
   "outputs": [],
   "source": [
    "#generate this as a csv to directly feed into analyses on independent notebooks\n",
    "XYraw_ran.to_csv('For_10_Fold_Cross_Validation.csv', index = False)"
   ]
  },
  {
   "cell_type": "markdown",
   "metadata": {},
   "source": [
    "Split Data into data and expected calsses\n"
   ]
  },
  {
   "cell_type": "code",
   "execution_count": 262,
   "metadata": {},
   "outputs": [
    {
     "data": {
      "text/html": [
       "<div>\n",
       "<style scoped>\n",
       "    .dataframe tbody tr th:only-of-type {\n",
       "        vertical-align: middle;\n",
       "    }\n",
       "\n",
       "    .dataframe tbody tr th {\n",
       "        vertical-align: top;\n",
       "    }\n",
       "\n",
       "    .dataframe thead th {\n",
       "        text-align: right;\n",
       "    }\n",
       "</style>\n",
       "<table border=\"1\" class=\"dataframe\">\n",
       "  <thead>\n",
       "    <tr style=\"text-align: right;\">\n",
       "      <th></th>\n",
       "      <th>0</th>\n",
       "      <th>1</th>\n",
       "      <th>2</th>\n",
       "      <th>3</th>\n",
       "      <th>4</th>\n",
       "      <th>5</th>\n",
       "      <th>6</th>\n",
       "      <th>7</th>\n",
       "      <th>8</th>\n",
       "      <th>9</th>\n",
       "      <th>...</th>\n",
       "      <th>2295</th>\n",
       "      <th>2296</th>\n",
       "      <th>2297</th>\n",
       "      <th>2298</th>\n",
       "      <th>2299</th>\n",
       "      <th>2300</th>\n",
       "      <th>2301</th>\n",
       "      <th>2302</th>\n",
       "      <th>2303</th>\n",
       "      <th>Class</th>\n",
       "    </tr>\n",
       "  </thead>\n",
       "  <tbody>\n",
       "    <tr>\n",
       "      <th>0</th>\n",
       "      <td>29.0</td>\n",
       "      <td>27.0</td>\n",
       "      <td>25.0</td>\n",
       "      <td>23.0</td>\n",
       "      <td>23.0</td>\n",
       "      <td>24.0</td>\n",
       "      <td>24.0</td>\n",
       "      <td>25.0</td>\n",
       "      <td>26.0</td>\n",
       "      <td>25.0</td>\n",
       "      <td>...</td>\n",
       "      <td>54.0</td>\n",
       "      <td>54.0</td>\n",
       "      <td>55.0</td>\n",
       "      <td>56.0</td>\n",
       "      <td>55.0</td>\n",
       "      <td>55.0</td>\n",
       "      <td>54.0</td>\n",
       "      <td>55.0</td>\n",
       "      <td>55.0</td>\n",
       "      <td>three</td>\n",
       "    </tr>\n",
       "    <tr>\n",
       "      <th>1</th>\n",
       "      <td>255.0</td>\n",
       "      <td>255.0</td>\n",
       "      <td>255.0</td>\n",
       "      <td>255.0</td>\n",
       "      <td>255.0</td>\n",
       "      <td>221.0</td>\n",
       "      <td>179.0</td>\n",
       "      <td>179.0</td>\n",
       "      <td>225.0</td>\n",
       "      <td>177.0</td>\n",
       "      <td>...</td>\n",
       "      <td>160.0</td>\n",
       "      <td>143.0</td>\n",
       "      <td>118.0</td>\n",
       "      <td>89.0</td>\n",
       "      <td>71.0</td>\n",
       "      <td>73.0</td>\n",
       "      <td>57.0</td>\n",
       "      <td>41.0</td>\n",
       "      <td>48.0</td>\n",
       "      <td>one</td>\n",
       "    </tr>\n",
       "    <tr>\n",
       "      <th>2</th>\n",
       "      <td>9.0</td>\n",
       "      <td>9.0</td>\n",
       "      <td>9.0</td>\n",
       "      <td>9.0</td>\n",
       "      <td>10.0</td>\n",
       "      <td>10.0</td>\n",
       "      <td>10.0</td>\n",
       "      <td>11.0</td>\n",
       "      <td>10.0</td>\n",
       "      <td>10.0</td>\n",
       "      <td>...</td>\n",
       "      <td>10.0</td>\n",
       "      <td>9.0</td>\n",
       "      <td>8.0</td>\n",
       "      <td>7.0</td>\n",
       "      <td>7.0</td>\n",
       "      <td>7.0</td>\n",
       "      <td>7.0</td>\n",
       "      <td>7.0</td>\n",
       "      <td>8.0</td>\n",
       "      <td>four</td>\n",
       "    </tr>\n",
       "    <tr>\n",
       "      <th>3</th>\n",
       "      <td>32.0</td>\n",
       "      <td>32.0</td>\n",
       "      <td>32.0</td>\n",
       "      <td>32.0</td>\n",
       "      <td>30.0</td>\n",
       "      <td>32.0</td>\n",
       "      <td>29.0</td>\n",
       "      <td>29.0</td>\n",
       "      <td>30.0</td>\n",
       "      <td>30.0</td>\n",
       "      <td>...</td>\n",
       "      <td>34.0</td>\n",
       "      <td>35.0</td>\n",
       "      <td>36.0</td>\n",
       "      <td>34.0</td>\n",
       "      <td>32.0</td>\n",
       "      <td>32.0</td>\n",
       "      <td>32.0</td>\n",
       "      <td>32.0</td>\n",
       "      <td>34.0</td>\n",
       "      <td>one</td>\n",
       "    </tr>\n",
       "    <tr>\n",
       "      <th>4</th>\n",
       "      <td>50.0</td>\n",
       "      <td>38.0</td>\n",
       "      <td>30.0</td>\n",
       "      <td>32.0</td>\n",
       "      <td>50.0</td>\n",
       "      <td>78.0</td>\n",
       "      <td>137.0</td>\n",
       "      <td>145.0</td>\n",
       "      <td>194.0</td>\n",
       "      <td>242.0</td>\n",
       "      <td>...</td>\n",
       "      <td>92.0</td>\n",
       "      <td>123.0</td>\n",
       "      <td>135.0</td>\n",
       "      <td>102.0</td>\n",
       "      <td>105.0</td>\n",
       "      <td>104.0</td>\n",
       "      <td>76.0</td>\n",
       "      <td>70.0</td>\n",
       "      <td>53.0</td>\n",
       "      <td>one</td>\n",
       "    </tr>\n",
       "  </tbody>\n",
       "</table>\n",
       "<p>5 rows × 2305 columns</p>\n",
       "</div>"
      ],
      "text/plain": [
       "       0      1      2      3      4      5      6      7      8      9  ...  \\\n",
       "0   29.0   27.0   25.0   23.0   23.0   24.0   24.0   25.0   26.0   25.0  ...   \n",
       "1  255.0  255.0  255.0  255.0  255.0  221.0  179.0  179.0  225.0  177.0  ...   \n",
       "2    9.0    9.0    9.0    9.0   10.0   10.0   10.0   11.0   10.0   10.0  ...   \n",
       "3   32.0   32.0   32.0   32.0   30.0   32.0   29.0   29.0   30.0   30.0  ...   \n",
       "4   50.0   38.0   30.0   32.0   50.0   78.0  137.0  145.0  194.0  242.0  ...   \n",
       "\n",
       "    2295   2296   2297   2298   2299   2300  2301  2302  2303  Class  \n",
       "0   54.0   54.0   55.0   56.0   55.0   55.0  54.0  55.0  55.0  three  \n",
       "1  160.0  143.0  118.0   89.0   71.0   73.0  57.0  41.0  48.0    one  \n",
       "2   10.0    9.0    8.0    7.0    7.0    7.0   7.0   7.0   8.0   four  \n",
       "3   34.0   35.0   36.0   34.0   32.0   32.0  32.0  32.0  34.0    one  \n",
       "4   92.0  123.0  135.0  102.0  105.0  104.0  76.0  70.0  53.0    one  \n",
       "\n",
       "[5 rows x 2305 columns]"
      ]
     },
     "execution_count": 262,
     "metadata": {},
     "output_type": "execute_result"
    }
   ],
   "source": [
    "#read in data from csv \n",
    "training_Data = pd.read_csv(\"For_10_Fold_Cross_Validation.csv\")\n",
    "\n",
    "#look at shape\n",
    "training_Data.shape \n",
    "\n",
    "#look at data format\n",
    "training_Data.head()"
   ]
  },
  {
   "cell_type": "code",
   "execution_count": 263,
   "metadata": {},
   "outputs": [],
   "source": [
    "#define the data to be used as all but the class attribute from the data \n",
    "X_Train = training_Data.drop('Class', axis = 1)\n",
    "\n",
    "#define the expexted value to be the class column of the input data \n",
    "y_train = training_Data['Class']"
   ]
  },
  {
   "cell_type": "markdown",
   "metadata": {},
   "source": [
    "Scale data"
   ]
  },
  {
   "cell_type": "code",
   "execution_count": 264,
   "metadata": {},
   "outputs": [],
   "source": [
    "from sklearn.preprocessing import StandardScaler\n",
    "\n",
    "sc = StandardScaler()\n",
    "X_train = sc.fit_transform(X_Train)\n",
    "\n"
   ]
  },
  {
   "cell_type": "markdown",
   "metadata": {},
   "source": [
    "<h4> Setup Test Data <h4>"
   ]
  },
  {
   "cell_type": "markdown",
   "metadata": {},
   "source": [
    "Goal : Import test data from file and set it as  t_test and y_test"
   ]
  },
  {
   "cell_type": "code",
   "execution_count": 265,
   "metadata": {},
   "outputs": [],
   "source": [
    "testData = pd.read_csv ('Test_Dataset.csv')\n",
    "\n",
    "X_Test = testData.drop('Class', axis = 1)\n",
    "y_test = testData['Class']\n",
    "\n",
    "\n",
    "X_test = sc.fit_transform(X_Test)"
   ]
  },
  {
   "cell_type": "markdown",
   "metadata": {},
   "source": [
    "<h4> Setup 4000 Split of test data <h4>\n",
    "    "
   ]
  },
  {
   "cell_type": "markdown",
   "metadata": {},
   "source": [
    "Goal : Take 4000 instances from the original training file and add them to the test file"
   ]
  },
  {
   "cell_type": "code",
   "execution_count": 266,
   "metadata": {},
   "outputs": [
    {
     "data": {
      "text/plain": [
       "9690"
      ]
     },
     "execution_count": 266,
     "metadata": {},
     "output_type": "execute_result"
    }
   ],
   "source": [
    "#Check length of training data\n",
    "len(training_Data)"
   ]
  },
  {
   "cell_type": "code",
   "execution_count": 267,
   "metadata": {},
   "outputs": [
    {
     "data": {
      "text/plain": [
       "4000"
      ]
     },
     "execution_count": 267,
     "metadata": {},
     "output_type": "execute_result"
    }
   ],
   "source": [
    "#split data into two divisions\n",
    "data_split4000, data_split5690= training_Data[:4000], training_Data[4000:]\n",
    "\n",
    "#test new split \n",
    "len(data_split4000)"
   ]
  },
  {
   "cell_type": "code",
   "execution_count": 268,
   "metadata": {},
   "outputs": [],
   "source": [
    "#merge test and 4000 cases from above \n",
    "testData_with4000 =pd.concat([testData, data_split4000])"
   ]
  },
  {
   "cell_type": "code",
   "execution_count": 269,
   "metadata": {},
   "outputs": [
    {
     "data": {
      "text/plain": [
       "3090"
      ]
     },
     "execution_count": 269,
     "metadata": {},
     "output_type": "execute_result"
    }
   ],
   "source": [
    "#size of testData before addition\n",
    "len(testData)"
   ]
  },
  {
   "cell_type": "code",
   "execution_count": 270,
   "metadata": {},
   "outputs": [
    {
     "data": {
      "text/plain": [
       "7090"
      ]
     },
     "execution_count": 270,
     "metadata": {},
     "output_type": "execute_result"
    }
   ],
   "source": [
    "#check items have been added to testData\n",
    "len(testData_with4000)"
   ]
  },
  {
   "cell_type": "code",
   "execution_count": 271,
   "metadata": {},
   "outputs": [],
   "source": [
    "#setup training data\n",
    "X_Train_4000Split = data_split5690.drop('Class', axis = 1)\n",
    "y_train_4000Split = data_split5690['Class']\n",
    "\n",
    "\n",
    "#setup test data\n",
    "X_Test_4000Split = testData_with4000.drop('Class', axis = 1)\n",
    "y_test_4000Split = testData_with4000['Class']\n",
    "\n",
    "\n",
    "\n",
    "sc = StandardScaler()\n",
    "X_train_4000Split = sc.fit_transform(X_Train_4000Split)\n",
    "X_test_4000Split = sc.fit_transform(X_Test_4000Split)"
   ]
  },
  {
   "cell_type": "markdown",
   "metadata": {},
   "source": [
    "<h4> Setup 9000 Split <h4> "
   ]
  },
  {
   "cell_type": "markdown",
   "metadata": {},
   "source": [
    "Goal : Take 9000 instances from the original training file and add them to the test file"
   ]
  },
  {
   "cell_type": "code",
   "execution_count": 272,
   "metadata": {},
   "outputs": [
    {
     "data": {
      "text/plain": [
       "9690"
      ]
     },
     "execution_count": 272,
     "metadata": {},
     "output_type": "execute_result"
    }
   ],
   "source": [
    "#Check length of training data\n",
    "len(training_Data)"
   ]
  },
  {
   "cell_type": "code",
   "execution_count": 273,
   "metadata": {},
   "outputs": [
    {
     "data": {
      "text/plain": [
       "9000"
      ]
     },
     "execution_count": 273,
     "metadata": {},
     "output_type": "execute_result"
    }
   ],
   "source": [
    "#split data into two divisions\n",
    "data_split9000, data_split690= training_Data[:9000], training_Data[9000:]\n",
    "\n",
    "#test new split \n",
    "len(data_split9000)"
   ]
  },
  {
   "cell_type": "code",
   "execution_count": 274,
   "metadata": {},
   "outputs": [],
   "source": [
    "#merge test and 4000 cases from above \n",
    "testData_with9000 =pd.concat([testData, data_split9000])"
   ]
  },
  {
   "cell_type": "code",
   "execution_count": 275,
   "metadata": {},
   "outputs": [
    {
     "data": {
      "text/plain": [
       "3090"
      ]
     },
     "execution_count": 275,
     "metadata": {},
     "output_type": "execute_result"
    }
   ],
   "source": [
    "#size of testData before addition \n",
    "len(testData)"
   ]
  },
  {
   "cell_type": "code",
   "execution_count": 276,
   "metadata": {},
   "outputs": [
    {
     "data": {
      "text/plain": [
       "12090"
      ]
     },
     "execution_count": 276,
     "metadata": {},
     "output_type": "execute_result"
    }
   ],
   "source": [
    "#check items have been added to testData\n",
    "len(testData_with9000)"
   ]
  },
  {
   "cell_type": "code",
   "execution_count": 277,
   "metadata": {},
   "outputs": [],
   "source": [
    "#setup training data\n",
    "X_Train_9000Split = data_split690.drop('Class', axis = 1)\n",
    "y_train_9000Split = data_split690['Class']\n",
    "\n",
    "\n",
    "#setup test data\n",
    "X_Test_9000Split = testData_with4000.drop('Class', axis = 1)\n",
    "y_test_9000Split = testData_with4000['Class']\n",
    "\n",
    "#scale data\n",
    "X_train_9000Split = sc.fit_transform(X_Train_9000Split)\n",
    "X_test_9000Split = sc.fit_transform(X_Test_9000Split)"
   ]
  },
  {
   "cell_type": "markdown",
   "metadata": {},
   "source": [
    "Summary : \n",
    "\n",
    "X_train - full training data (minus class data) <br>\n",
    "X_train_4000Split - 4000 removed instances from X_train<br>\n",
    "X_train_9000Split - 9000 removed instances from X_train <br>\n",
    "\n",
    "X_test - original test data \n",
    "X_test_4000Split - 4000 more instances, taken from X_train<br>\n",
    "X_test_9000Split - 9000 more instances, taken from X_train<br>\n",
    "\n",
    "y_train - class attributes for the full training data<br>\n",
    "y_train_4000Split - 4000 removed instances than y_train<br>\n",
    "y_train_9000Split - 9000 removed instances than y_train<br>\n",
    "\n",
    "y_test - class attributes for original testing data <br>\n",
    "y_test_4000Split - 4000 more instances, taken from y_train <br>\n",
    "y_test_9000Split - 9000 more instances, taken from y_train <br>"
   ]
  },
  {
   "cell_type": "markdown",
   "metadata": {},
   "source": [
    "<h2> Decision Trees <h2> \n",
    "    <hr>\n",
    "<h3> J48 <h3>"
   ]
  },
  {
   "cell_type": "markdown",
   "metadata": {},
   "source": [
    "Decision tree adapted from : \n",
    "https://scikit-learn.org/stable/modules/generated/sklearn.tree.DecisionTreeClassifier.html\n",
    "<hr>\n",
    "Cross-Validation adapted from : \n",
    "https://scikit-learn.org/stable/modules/cross_validation.html \n",
    "    \n",
    "HOWEVER Sklearn uses CART rather than C4.5 which is the algorithm that J48 runs off so this could be incorrect. "
   ]
  },
  {
   "cell_type": "code",
   "execution_count": 278,
   "metadata": {},
   "outputs": [],
   "source": [
    "#imports for J48\n",
    "from sklearn.tree import DecisionTreeClassifier\n",
    "\n",
    "import os\n",
    "import numpy as np\n",
    "import pandas as pd\n",
    "import matplotlib.pyplot as plt\n",
    "from sklearn.utils import shuffle\n",
    "\n",
    "from sklearn.metrics import roc_auc_score\n",
    "from sklearn.metrics import confusion_matrix\n",
    "import seaborn as sns\n",
    "from sklearn.metrics import classification_report\n",
    "from sklearn.model_selection import cross_val_score\n",
    "from sklearn.model_selection import cross_val_predict\n",
    "from sklearn.metrics import roc_auc_score"
   ]
  },
  {
   "cell_type": "markdown",
   "metadata": {},
   "source": [
    "<h4> Cross validation <h4>"
   ]
  },
  {
   "cell_type": "markdown",
   "metadata": {},
   "source": [
    "Goal : Run cross a decision tree classifier with 10 fold cross validation then output metrics"
   ]
  },
  {
   "cell_type": "code",
   "execution_count": 279,
   "metadata": {
    "scrolled": true
   },
   "outputs": [],
   "source": [
    "# adapted from https://scikit-learn.org/stable/modules/generated/sklearn.tree.DecisionTreeClassifier.html\n",
    "#\n",
    "# Sklearn uses CART rather than C4.5 which is the algorithm that J48 runs off so this could be incorrect. Both \n",
    "\n",
    "classifier = DecisionTreeClassifier()\n",
    "classifier.fit(X_train, y_train)\n",
    "\n",
    "#setup cross validation using the above classifier, X_train = data to be classified, y = the labels, CV = number of folds\n",
    "cross_validation_scores = cross_val_score(classifier, X_train, y_train, cv=10)\n"
   ]
  },
  {
   "cell_type": "code",
   "execution_count": 280,
   "metadata": {},
   "outputs": [
    {
     "data": {
      "text/plain": [
       "Text(0.5, 1.0, 'Average score: 0.8329205366357069')"
      ]
     },
     "execution_count": 280,
     "metadata": {},
     "output_type": "execute_result"
    },
    {
     "data": {
      "image/png": "[encoded data removed]",
      "text/plain": [
       "<Figure size 432x288 with 1 Axes>"
      ]
     },
     "metadata": {
      "needs_background": "light"
     },
     "output_type": "display_data"
    }
   ],
   "source": [
    "# use seaborn (sns) to plot a graph of the above scores\n",
    "sns.distplot(cross_validation_scores)\n",
    "plt.title('Average score: {}'.format(np.mean(cross_validation_scores)))"
   ]
  },
  {
   "cell_type": "code",
   "execution_count": 281,
   "metadata": {},
   "outputs": [],
   "source": [
    "#train model with 10 fold validation, \n",
    "#cross_val_predict Get predictions from each split of cross-validation for diagnostic purposes.\n",
    "y_pred = cross_val_predict(classifier, X_train, y_train, cv=10)\n",
    "\n",
    "#confusion matrix generation\n",
    "conf_matrix_J48 = confusion_matrix(y_train, y_pred)\n",
    "\n",
    "#accuracy report\n",
    "classification_report_J48 = classification_report(y_train, y_pred)"
   ]
  },
  {
   "cell_type": "code",
   "execution_count": 282,
   "metadata": {},
   "outputs": [
    {
     "name": "stdout",
     "output_type": "stream",
     "text": [
      "Confusion Matrix\n",
      "[[ 416    9   20   12   17   13   15   15   19    4]\n",
      " [   4  160    3    5    7   10    4    5   11    1]\n",
      " [   8    6 1752    7   82    6    6   25   75   13]\n",
      " [  11    5    8  190    9    5    6   17   16    3]\n",
      " [  12    7   93   12 1846    8    9   51  156   26]\n",
      " [   6    6    5    5    9  192    3    2   11    1]\n",
      " [  17    1    9    4    9    6  283   15   14    2]\n",
      " [  17    4   23   19   44    1   15 1217   64    6]\n",
      " [  12   15   82   16  146   14    9   72 1873   11]\n",
      " [   1    1    9    0   27    2    0    5    9  156]]\n",
      "\n",
      "\n",
      "              precision    recall  f1-score   support\n",
      "\n",
      "       eight       0.83      0.77      0.80       540\n",
      "        five       0.75      0.76      0.75       210\n",
      "        four       0.87      0.88      0.88      1980\n",
      "        nine       0.70      0.70      0.70       270\n",
      "         one       0.84      0.83      0.84      2220\n",
      "       seven       0.75      0.80      0.77       240\n",
      "         six       0.81      0.79      0.80       360\n",
      "       three       0.85      0.86      0.86      1410\n",
      "         two       0.83      0.83      0.83      2250\n",
      "        zero       0.70      0.74      0.72       210\n",
      "\n",
      "    accuracy                           0.83      9690\n",
      "   macro avg       0.79      0.80      0.80      9690\n",
      "weighted avg       0.83      0.83      0.83      9690\n",
      "\n"
     ]
    }
   ],
   "source": [
    "#Print Confusion matrix and other important results\n",
    "print(\"Confusion Matrix\")\n",
    "print(conf_matrix_J48)\n",
    "\n",
    "print(\"\\n\")\n",
    "print(classification_report_J48)\n",
    "#print(roc_auc_score(y, y_pred))\n"
   ]
  },
  {
   "cell_type": "markdown",
   "metadata": {},
   "source": [
    "<hr>\n",
    "<h4>Part 2 - Using test data<h4>"
   ]
  },
  {
   "cell_type": "markdown",
   "metadata": {},
   "source": [
    "Goal : Run decision classifier on test data provided"
   ]
  },
  {
   "cell_type": "code",
   "execution_count": 285,
   "metadata": {},
   "outputs": [],
   "source": [
    "#define the model to be used \n",
    "classifier_withTestData = DecisionTreeClassifier()\n",
    "\n",
    "#fit this model using the test data\n",
    "classifier_withTestData.fit(X_train, y_train)\n",
    "\n",
    "#test this model on the seperated data\n",
    "y_pred_J48_testData = classifier_withTestData.predict(X_test)\n",
    "\n",
    "\n",
    "#confusion matrix generation\n",
    "conf_matrix_withTestData = confusion_matrix(y_test, y_pred_J48_testData)\n",
    "\n",
    "#accuracy report\n",
    "classification_report_withTestData = classification_report(y_test, y_pred_J48_testData)\n"
   ]
  },
  {
   "cell_type": "code",
   "execution_count": 286,
   "metadata": {},
   "outputs": [
    {
     "name": "stdout",
     "output_type": "stream",
     "text": [
      "Confusion Matrix\n",
      "[[ 62   5   6  11  17   4  12  12  17   4]\n",
      " [  0  28   0   0   0   2   0  30   0   0]\n",
      " [  4   3 460   0  51  19  10  45  44  24]\n",
      " [ 10   1   2  41  13   3   0   6  14   0]\n",
      " [  5   1  70   3 551   9   0   7  64  10]\n",
      " [  3   8   2   2  21  11   2   4   4   3]\n",
      " [ 18   8   3   6  12   1  31   8   3   0]\n",
      " [  3   7  24   8  35   2   5 314  47   5]\n",
      " [  5   3  72   2  79   2   2  52 531   2]\n",
      " [  0   0  22   0   8   2   0   2   3  23]]\n",
      "\n",
      "\n",
      "              precision    recall  f1-score   support\n",
      "\n",
      "       eight       0.56      0.41      0.48       150\n",
      "        five       0.44      0.47      0.45        60\n",
      "        four       0.70      0.70      0.70       660\n",
      "        nine       0.56      0.46      0.50        90\n",
      "         one       0.70      0.77      0.73       720\n",
      "       seven       0.20      0.18      0.19        60\n",
      "         six       0.50      0.34      0.41        90\n",
      "       three       0.65      0.70      0.68       450\n",
      "         two       0.73      0.71      0.72       750\n",
      "        zero       0.32      0.38      0.35        60\n",
      "\n",
      "    accuracy                           0.66      3090\n",
      "   macro avg       0.54      0.51      0.52      3090\n",
      "weighted avg       0.66      0.66      0.66      3090\n",
      "\n"
     ]
    }
   ],
   "source": [
    "#Print Confusion matrix and other important results\n",
    "print(\"Confusion Matrix\")\n",
    "print(conf_matrix_withTestData)\n",
    "print(\"\\n\")\n",
    "print(classification_report_withTestData)"
   ]
  },
  {
   "cell_type": "markdown",
   "metadata": {},
   "source": [
    "<hr>\n",
    "<h4>Part 3 - 4000 into the test cases <h4>"
   ]
  },
  {
   "cell_type": "markdown",
   "metadata": {},
   "source": [
    "Goal : Run decision tree classifier on a reduced training set, but increased training set."
   ]
  },
  {
   "cell_type": "code",
   "execution_count": 287,
   "metadata": {},
   "outputs": [],
   "source": [
    "#define the model to be used \n",
    "classifier_4000Split = DecisionTreeClassifier()\n",
    "\n",
    "#fit this model using the test data\n",
    "classifier_4000Split.fit(X_train_4000Split, y_train_4000Split)\n",
    "\n",
    "#test this model on the seperated data\n",
    "y_pred_4000Split = classifier_4000Split.predict(X_test_4000Split)"
   ]
  },
  {
   "cell_type": "code",
   "execution_count": 288,
   "metadata": {},
   "outputs": [
    {
     "name": "stdout",
     "output_type": "stream",
     "text": [
      "Confusion Matrix\n",
      "[[ 230    6    7   26   21   14   29   11   20    1]\n",
      " [   1   85   13    7   11    4   13   14    3    0]\n",
      " [  17    5 1162    5  125    8   11   41   82   30]\n",
      " [   8    4    6  105    9    5    7    6   32    1]\n",
      " [  13   21  113    5 1263   15    3   27  156   38]\n",
      " [   1   13   13    6    9   79    3   11    8    4]\n",
      " [  23    4   11    5    5    5  167   15   20    1]\n",
      " [  16    4   41    4   52   11   11  791  105    9]\n",
      " [  26   10  107   10  142    4    5   91 1256   11]\n",
      " [   0    0   20    1   18    0    0    8   18   77]]\n",
      "\n",
      "\n",
      "              precision    recall  f1-score   support\n",
      "\n",
      "       eight       0.69      0.63      0.66       365\n",
      "        five       0.56      0.56      0.56       151\n",
      "        four       0.78      0.78      0.78      1486\n",
      "        nine       0.60      0.57      0.59       183\n",
      "         one       0.76      0.76      0.76      1654\n",
      "       seven       0.54      0.54      0.54       147\n",
      "         six       0.67      0.65      0.66       256\n",
      "       three       0.78      0.76      0.77      1044\n",
      "         two       0.74      0.76      0.75      1662\n",
      "        zero       0.45      0.54      0.49       142\n",
      "\n",
      "    accuracy                           0.74      7090\n",
      "   macro avg       0.66      0.66      0.66      7090\n",
      "weighted avg       0.74      0.74      0.74      7090\n",
      "\n"
     ]
    }
   ],
   "source": [
    "#Print Confusion matrix and other important results\n",
    "print(\"Confusion Matrix\")\n",
    "print(confusion_matrix(y_test_4000Split, y_pred_4000Split))\n",
    "print(\"\\n\")\n",
    "print(classification_report(y_test_4000Split, y_pred_4000Split))"
   ]
  },
  {
   "cell_type": "markdown",
   "metadata": {},
   "source": [
    "<hr>\n",
    "<h4>Part 4 - 9000 into the test cases <h4>"
   ]
  },
  {
   "cell_type": "markdown",
   "metadata": {},
   "source": [
    "Goal : Run decision tree classifier on a reduced training set, but increased training set"
   ]
  },
  {
   "cell_type": "code",
   "execution_count": 289,
   "metadata": {},
   "outputs": [],
   "source": [
    "#define the model to be used \n",
    "classifier_9000Split = DecisionTreeClassifier()\n",
    "\n",
    "#fit this model using the test data\n",
    "classifier_9000Split.fit(X_train_9000Split, y_train_9000Split)\n",
    "\n",
    "#test this model on the seperated data\n",
    "y_pred_9000Split = classifier_9000Split.predict(X_test_9000Split)\n",
    "\n",
    "#generate confusion matrix\n",
    "conf_matrix_9000Split = confusion_matrix(y_test_9000Split, y_pred_9000Split)\n",
    "\n",
    "#generate classification report\n",
    "classification_report_9000Split = classification_report(y_test_9000Split, y_pred_9000Split)"
   ]
  },
  {
   "cell_type": "code",
   "execution_count": 291,
   "metadata": {},
   "outputs": [
    {
     "name": "stdout",
     "output_type": "stream",
     "text": [
      "Confusion Matrix\n",
      "[[ 170   65   22   14   20    4   26   24   20    0]\n",
      " [  26   45   13   12   14    7    0   28    5    1]\n",
      " [  11    3  962    7  173   12   12   95  185   26]\n",
      " [  55   23   11   39   20    0    5    3   24    3]\n",
      " [  23    6  173    6 1051    6    3   32  298   56]\n",
      " [  36    4    2    7   13   23    7    5   36   14]\n",
      " [  39   15   21   14   16    6  124   15    5    1]\n",
      " [  39    2   70   28  157   12   41  518  172    5]\n",
      " [  27    6  121   42  223    7    9  124 1097    6]\n",
      " [   1    0   21    1   44    0    1    6   37   31]]\n",
      "\n",
      "\n",
      "              precision    recall  f1-score   support\n",
      "\n",
      "       eight       0.40      0.47      0.43       365\n",
      "        five       0.27      0.30      0.28       151\n",
      "        four       0.68      0.65      0.66      1486\n",
      "        nine       0.23      0.21      0.22       183\n",
      "         one       0.61      0.64      0.62      1654\n",
      "       seven       0.30      0.16      0.21       147\n",
      "         six       0.54      0.48      0.51       256\n",
      "       three       0.61      0.50      0.55      1044\n",
      "         two       0.58      0.66      0.62      1662\n",
      "        zero       0.22      0.22      0.22       142\n",
      "\n",
      "    accuracy                           0.57      7090\n",
      "   macro avg       0.44      0.43      0.43      7090\n",
      "weighted avg       0.57      0.57      0.57      7090\n",
      "\n"
     ]
    }
   ],
   "source": [
    "#Print Confusion matrix and other important results\n",
    "print(\"Confusion Matrix\")\n",
    "print(conf_matrix_9000Split)\n",
    "print(\"\\n\")\n",
    "print(classification_report_9000Split)"
   ]
  },
  {
   "cell_type": "markdown",
   "metadata": {},
   "source": [
    "\n"
   ]
  },
  {
   "cell_type": "markdown",
   "metadata": {},
   "source": [
    "<hr>\n",
    "<h3> Alternative Tree - Random Forest <h3> \n",
    "    \n",
    "  "
   ]
  },
  {
   "cell_type": "markdown",
   "metadata": {},
   "source": [
    "adapted from https://scikit-learn.org/stable/modules/generated/sklearn.ensemble.RandomForestClassifier.html"
   ]
  },
  {
   "cell_type": "code",
   "execution_count": 312,
   "metadata": {},
   "outputs": [],
   "source": [
    "#imports for Random Forest\n",
    "import os\n",
    "import numpy as np\n",
    "import pandas as pd\n",
    "import matplotlib.pyplot as plt\n",
    "from sklearn.utils import shuffle\n",
    "\n",
    "from sklearn.metrics import roc_auc_score\n",
    "from sklearn.metrics import confusion_matrix\n",
    "import seaborn as sns\n",
    "from sklearn.metrics import classification_report\n",
    "from sklearn.model_selection import cross_val_score\n",
    "from sklearn.model_selection import cross_val_predict\n",
    "from sklearn.metrics import roc_auc_score\n",
    "\n",
    "from sklearn.ensemble import RandomForestClassifier"
   ]
  },
  {
   "cell_type": "markdown",
   "metadata": {},
   "source": [
    "<hr>\n",
    "<h4> Cross Validation <h4>"
   ]
  },
  {
   "cell_type": "markdown",
   "metadata": {},
   "source": [
    "Goal : Run cross a random forest classifier with 10 fold cross validation then output metrics"
   ]
  },
  {
   "cell_type": "code",
   "execution_count": 298,
   "metadata": {},
   "outputs": [],
   "source": [
    "#create a Gaussian Classifier - random forest\n",
    "randomForest_crossVal = RandomForestClassifier(n_estimators = 100)\n",
    "\n",
    "#train the model using the training set generated \n",
    "randomForest_crossVal.fit(X_train, y_train)\n",
    "\n",
    "\n",
    "#setup cross validation using the above classifier, X_train = data to be classified, y = the labels, CV = number of folds\n",
    "cross_validation_scores_randomForest = cross_val_score(randomForest_crossVal, X_train, y_train, cv=10)\n"
   ]
  },
  {
   "cell_type": "code",
   "execution_count": 299,
   "metadata": {},
   "outputs": [
    {
     "data": {
      "text/plain": [
       "Text(0.5, 1.0, 'Average score: 0.9763673890608875')"
      ]
     },
     "execution_count": 299,
     "metadata": {},
     "output_type": "execute_result"
    },
    {
     "data": {
      "image/png": "[encoded data removed]",
      "text/plain": [
       "<Figure size 432x288 with 1 Axes>"
      ]
     },
     "metadata": {
      "needs_background": "light"
     },
     "output_type": "display_data"
    }
   ],
   "source": [
    "# use seaborn (sns) to plot a graph of the above scores\n",
    "sns.distplot(cross_validation_scores_randomForest)\n",
    "plt.title('Average score: {}'.format(np.mean(cross_validation_scores_randomForest)))"
   ]
  },
  {
   "cell_type": "code",
   "execution_count": 295,
   "metadata": {},
   "outputs": [],
   "source": [
    "#train model with 10 fold validation, \n",
    "#cross_val_predict Get predictions from each split of cross-validation for diagnostic purposes.\n",
    "y_pred_randomForest_crosVal = cross_val_predict(randomForest, X_train, y_train, cv=10)\n",
    "\n",
    "#allows for confusion matrix generation\n",
    "conf_matrix_randomForest = confusion_matrix(y_train, y_pred_randomForest_crossVal)\n",
    "classification_report_randomForest = classification_report(y_train, y_pred_RandomForest_crossVal)"
   ]
  },
  {
   "cell_type": "code",
   "execution_count": 296,
   "metadata": {},
   "outputs": [
    {
     "name": "stdout",
     "output_type": "stream",
     "text": [
      "Confusion Matrix\n",
      "[[ 531    0    0    0    4    0    3    1    1    0]\n",
      " [   2  202    1    2    1    1    0    0    1    0]\n",
      " [   0    0 1954    0   19    0    0    1    5    1]\n",
      " [   3    0    0  253    7    0    2    2    3    0]\n",
      " [   0    0   15    0 2182    0    0    1   22    0]\n",
      " [   0    0    0    0    1  239    0    0    0    0]\n",
      " [   4    0    5    1    4    0  343    2    1    0]\n",
      " [   0    0    4    0   12    0    0 1374   20    0]\n",
      " [   0    0   10    0   23    0    0    8 2209    0]\n",
      " [   0    0    1    0   22    0    0    0    1  186]]\n",
      "\n",
      "\n",
      "              precision    recall  f1-score   support\n",
      "\n",
      "       eight       0.98      0.98      0.98       540\n",
      "        five       1.00      0.96      0.98       210\n",
      "        four       0.98      0.99      0.98      1980\n",
      "        nine       0.99      0.94      0.96       270\n",
      "         one       0.96      0.98      0.97      2220\n",
      "       seven       1.00      1.00      1.00       240\n",
      "         six       0.99      0.95      0.97       360\n",
      "       three       0.99      0.97      0.98      1410\n",
      "         two       0.98      0.98      0.98      2250\n",
      "        zero       0.99      0.89      0.94       210\n",
      "\n",
      "    accuracy                           0.98      9690\n",
      "   macro avg       0.99      0.96      0.97      9690\n",
      "weighted avg       0.98      0.98      0.98      9690\n",
      "\n"
     ]
    }
   ],
   "source": [
    "#Print Confusion matrix and other important results\n",
    "print(\"Confusion Matrix\")\n",
    "print(conf_matrix_randomForest)\n",
    "\n",
    "print(\"\\n\")\n",
    "print(classification_report_randomForest)\n",
    "#print(roc_auc_score(y, y_pred))"
   ]
  },
  {
   "cell_type": "markdown",
   "metadata": {},
   "source": [
    "<hr>\n",
    "<h4> with Test data <h4> "
   ]
  },
  {
   "cell_type": "markdown",
   "metadata": {},
   "source": [
    "Goal : Run a random forest classifier with test data"
   ]
  },
  {
   "cell_type": "code",
   "execution_count": 305,
   "metadata": {},
   "outputs": [],
   "source": [
    "#create a Gaussian Classifier - random forest\n",
    "\n",
    "randomForest_withTestData = RandomForestClassifier(n_estimators = 100)\n",
    "\n",
    "#train the model using the training set generated \n",
    "randomForest_withTestData.fit(X_train, y_train)\n",
    "\n",
    "\n",
    "#test this model on the seperated data\n",
    "y_pred_randomForest_testData = randomForest_withTestData.predict(X_test)\n",
    "\n",
    "\n",
    "#confusion matrix generation\n",
    "conf_matrix_randomForest_withTestData = confusion_matrix(y_test, y_pred_randomForest_testData)\n",
    "\n",
    "#accuracy report\n",
    "classification_report_randomForest_withTestData = classification_report(y_test, y_pred_randomForest_testData)"
   ]
  },
  {
   "cell_type": "code",
   "execution_count": 306,
   "metadata": {},
   "outputs": [
    {
     "name": "stdout",
     "output_type": "stream",
     "text": [
      "Confusion Matrix\n",
      "[[109   2   0   3   3   0  10  21   1   1]\n",
      " [  0  29   0   0   0   0   0  30   1   0]\n",
      " [  0   0 528   0  92   0   0  24  16   0]\n",
      " [ 40   0   0  41   3   0   0   0   6   0]\n",
      " [  0   0  37   0 619   0   0  12  52   0]\n",
      " [  0   3  15   0   8  16  13   0   5   0]\n",
      " [ 30   1   0  11   8   3  35   1   1   0]\n",
      " [  0   0  14   0  30   0   0 360  46   0]\n",
      " [  0   0  34   0  37   0   0  48 631   0]\n",
      " [  0   0  23   0  27   0   0   0   2   8]]\n",
      "\n",
      "\n",
      "              precision    recall  f1-score   support\n",
      "\n",
      "       eight       0.61      0.73      0.66       150\n",
      "        five       0.83      0.48      0.61        60\n",
      "        four       0.81      0.80      0.81       660\n",
      "        nine       0.75      0.46      0.57        90\n",
      "         one       0.75      0.86      0.80       720\n",
      "       seven       0.84      0.27      0.41        60\n",
      "         six       0.60      0.39      0.47        90\n",
      "       three       0.73      0.80      0.76       450\n",
      "         two       0.83      0.84      0.84       750\n",
      "        zero       0.89      0.13      0.23        60\n",
      "\n",
      "    accuracy                           0.77      3090\n",
      "   macro avg       0.76      0.58      0.62      3090\n",
      "weighted avg       0.77      0.77      0.76      3090\n",
      "\n"
     ]
    }
   ],
   "source": [
    "print(\"Confusion Matrix\")\n",
    "print(conf_matrix_randomForest_withTestData)\n",
    "print(\"\\n\")\n",
    "print(classification_report_randomForest_withTestData)"
   ]
  },
  {
   "cell_type": "markdown",
   "metadata": {},
   "source": [
    "<hr>\n",
    "<h4> Data Split - 4000<h4> "
   ]
  },
  {
   "cell_type": "markdown",
   "metadata": {},
   "source": [
    "Goal : Run a random forest classifier with 4000 instances moves from the original training data into the test data. "
   ]
  },
  {
   "cell_type": "code",
   "execution_count": 308,
   "metadata": {},
   "outputs": [],
   "source": [
    "#create a Gaussian Classifier - random forest\n",
    "\n",
    "randomForest_4000Split = RandomForestClassifier(n_estimators = 100)\n",
    "\n",
    "#train the model using the training set generated \n",
    "randomForest_4000Split.fit(X_train_4000Split, y_train_4000Split)\n",
    "\n",
    "\n",
    "#test this model on the seperated data\n",
    "y_pred_randomForest_4000Split = randomForest_4000Split.predict(X_test_4000Split)\n",
    "\n",
    "\n",
    "#confusion matrix generation\n",
    "conf_matrix_randomForest_4000Split = confusion_matrix(y_test_4000Split, y_pred_randomForest_4000Split)\n",
    "\n",
    "#accuracy report\n",
    "classification_report_randomForest_4000Split = classification_report(y_test_4000Split, y_pred_randomForest_4000Split)"
   ]
  },
  {
   "cell_type": "code",
   "execution_count": 309,
   "metadata": {},
   "outputs": [
    {
     "name": "stdout",
     "output_type": "stream",
     "text": [
      "Confusion Matrix\n",
      "[[ 317    0    2    6    9    0    9   21    0    1]\n",
      " [   2  109   15    1    0    1    0   22    1    0]\n",
      " [   0    0 1315    0  110    0    0   31   30    0]\n",
      " [  38    0    0  122   10    0    2    1   10    0]\n",
      " [   0    0   42    0 1520    0    0   16   76    0]\n",
      " [   0    7    4    3   19  102    7    0    5    0]\n",
      " [  28    2    0    8   12    0  191   10    5    0]\n",
      " [   0    0   13    0   45    0    0  926   60    0]\n",
      " [   0    0   39    0   63    0    0   69 1491    0]\n",
      " [   0    0   18    0   41    0    0    0    4   79]]\n",
      "\n",
      "\n",
      "              precision    recall  f1-score   support\n",
      "\n",
      "       eight       0.82      0.87      0.85       365\n",
      "        five       0.92      0.72      0.81       151\n",
      "        four       0.91      0.88      0.90      1486\n",
      "        nine       0.87      0.67      0.76       183\n",
      "         one       0.83      0.92      0.87      1654\n",
      "       seven       0.99      0.69      0.82       147\n",
      "         six       0.91      0.75      0.82       256\n",
      "       three       0.84      0.89      0.87      1044\n",
      "         two       0.89      0.90      0.89      1662\n",
      "        zero       0.99      0.56      0.71       142\n",
      "\n",
      "    accuracy                           0.87      7090\n",
      "   macro avg       0.90      0.78      0.83      7090\n",
      "weighted avg       0.87      0.87      0.87      7090\n",
      "\n"
     ]
    }
   ],
   "source": [
    "print(\"Confusion Matrix\")\n",
    "print(conf_matrix_randomForest_4000Split)\n",
    "print(\"\\n\")\n",
    "print(classification_report_randomForest_4000Split)"
   ]
  },
  {
   "cell_type": "markdown",
   "metadata": {},
   "source": [
    "<hr>\n",
    "<h4> Data Split - 9000<h4> "
   ]
  },
  {
   "cell_type": "markdown",
   "metadata": {},
   "source": [
    "Goal : Run a random forest classifier with 9000 instances moves from the original training data into the test data. "
   ]
  },
  {
   "cell_type": "code",
   "execution_count": 310,
   "metadata": {},
   "outputs": [],
   "source": [
    "#create a Gaussian Classifier - random forest\n",
    "\n",
    "randomForest_9000Split = RandomForestClassifier(n_estimators = 100)\n",
    "\n",
    "#train the model using the training set generated \n",
    "randomForest_9000Split.fit(X_train_9000Split, y_train_9000Split)\n",
    "\n",
    "\n",
    "#test this model on the seperated data\n",
    "y_pred_randomForest_9000Split = randomForest_9000Split.predict(X_test_9000Split)\n",
    "\n",
    "\n",
    "#confusion matrix generation\n",
    "conf_matrix_randomForest_9000Split = confusion_matrix(y_test_9000Split, y_pred_randomForest_9000Split)\n",
    "\n",
    "#accuracy report\n",
    "classification_report_randomForest_9000Split = classification_report(y_test_9000Split, y_pred_randomForest_9000Split)"
   ]
  },
  {
   "cell_type": "code",
   "execution_count": 311,
   "metadata": {},
   "outputs": [
    {
     "name": "stdout",
     "output_type": "stream",
     "text": [
      "Confusion Matrix\n",
      "[[ 249    0   10    4   26    0   30   21   25    0]\n",
      " [  53   22   26    4    3    0    4   19   20    0]\n",
      " [   3    0 1012    0  287    0    1   92   91    0]\n",
      " [  46    0    5   84   17    0    0    6   25    0]\n",
      " [  10    0   99    0 1327    0    0   23  195    0]\n",
      " [  23    1   39   11   22   31    5    4   11    0]\n",
      " [  62    1    5    9   23    0  132   15    9    0]\n",
      " [   2    0   82    0  154    0    8  563  235    0]\n",
      " [   2    0  141    0  190    0    0  169 1160    0]\n",
      " [   0    0    4    0  120    0    0    0    8   10]]\n",
      "\n",
      "\n",
      "              precision    recall  f1-score   support\n",
      "\n",
      "       eight       0.55      0.68      0.61       365\n",
      "        five       0.92      0.15      0.25       151\n",
      "        four       0.71      0.68      0.70      1486\n",
      "        nine       0.75      0.46      0.57       183\n",
      "         one       0.61      0.80      0.69      1654\n",
      "       seven       1.00      0.21      0.35       147\n",
      "         six       0.73      0.52      0.61       256\n",
      "       three       0.62      0.54      0.58      1044\n",
      "         two       0.65      0.70      0.67      1662\n",
      "        zero       1.00      0.07      0.13       142\n",
      "\n",
      "    accuracy                           0.65      7090\n",
      "   macro avg       0.75      0.48      0.52      7090\n",
      "weighted avg       0.67      0.65      0.63      7090\n",
      "\n"
     ]
    }
   ],
   "source": [
    "print(\"Confusion Matrix\")\n",
    "print(conf_matrix_randomForest_9000Split)\n",
    "print(\"\\n\")\n",
    "print(classification_report_randomForest_9000Split)"
   ]
  },
  {
   "cell_type": "markdown",
   "metadata": {},
   "source": [
    "<h3> Support Vector Classification <h3> \n",
    "    "
   ]
  },
  {
   "cell_type": "markdown",
   "metadata": {},
   "source": [
    "Adapted from https://scikit-learn.org/stable/modules/generated/sklearn.svm.SVC.html#sklearn.svm.SVC\n"
   ]
  },
  {
   "cell_type": "markdown",
   "metadata": {},
   "source": [
    "<h4> CAUTION - TAKES ABOUT 5-10 min per run <h4>"
   ]
  },
  {
   "cell_type": "code",
   "execution_count": 316,
   "metadata": {},
   "outputs": [],
   "source": [
    "# Setup SVC\n",
    "\n",
    "from sklearn.svm import SVC\n"
   ]
  },
  {
   "cell_type": "code",
   "execution_count": 315,
   "metadata": {},
   "outputs": [],
   "source": [
    "#Create a svm Classifier\n",
    "svmClassifier_crossVal = SVC(kernel='linear') # Linear Kernel\n",
    "\n",
    "#Train the model using the training sets\n",
    "svmClassifier_crossVal.fit(X_train, y_train)\n",
    "\n",
    "#setup cross validation using the above classifier, X_train = data to be classified, y = the labels, CV = number of folds\n",
    "cross_validation_scores_SVC = cross_val_score(svmClassifier_crossVal, X_train, y_train, cv=10)"
   ]
  },
  {
   "cell_type": "code",
   "execution_count": 317,
   "metadata": {},
   "outputs": [
    {
     "data": {
      "text/plain": [
       "Text(0.5, 1.0, 'Average score: 0.9435500515995873')"
      ]
     },
     "execution_count": 317,
     "metadata": {},
     "output_type": "execute_result"
    },
    {
     "data": {
      "image/png": "[encoded data removed]",
      "text/plain": [
       "<Figure size 432x288 with 1 Axes>"
      ]
     },
     "metadata": {
      "needs_background": "light"
     },
     "output_type": "display_data"
    }
   ],
   "source": [
    "# use seaborn (sns) to plot a graph of the above scores\n",
    "sns.distplot(cross_validation_scores_SVC)\n",
    "plt.title('Average score: {}'.format(np.mean(cross_validation_scores_SVC)))\n"
   ]
  },
  {
   "cell_type": "code",
   "execution_count": 318,
   "metadata": {},
   "outputs": [],
   "source": [
    "#train model with 10 fold validation, \n",
    "#cross_val_predict Get predictions from each split of cross-validation for diagnostic purposes.\n",
    "y_pred_SVC_crosVal = cross_val_predict(svmClassifier_crossVal, X_train, y_train, cv=10)\n",
    "\n",
    "#allows for confusion matrix generation\n",
    "conf_matrix_SVC_crossVal = confusion_matrix(y_train, y_pred_SVC_crosVal)\n",
    "classification_SVC_crossVal = classification_report(y_train, y_pred_SVC_crosVal)"
   ]
  },
  {
   "cell_type": "code",
   "execution_count": 319,
   "metadata": {},
   "outputs": [
    {
     "name": "stdout",
     "output_type": "stream",
     "text": [
      "Confusion Matrix\n",
      "[[ 521    3    0    8    2    1    2    2    0    1]\n",
      " [   7  192    1    4    0    5    0    0    1    0]\n",
      " [   0    0 1912    0   32    0    0    4   27    5]\n",
      " [  12    2    1  249    1    1    1    1    1    1]\n",
      " [   3    0   42    3 2072    0    3   13   72   12]\n",
      " [   0    1    0    2    0  234    3    0    0    0]\n",
      " [  11    2    2    0    7    1  328    8    1    0]\n",
      " [   4    1   21    2   15    0    1 1354   11    1]\n",
      " [   1    1   38    3   70    0    7   27 2099    4]\n",
      " [   0    1   11    0   13    0    0    1    2  182]]\n",
      "\n",
      "\n",
      "              precision    recall  f1-score   support\n",
      "\n",
      "       eight       0.93      0.96      0.95       540\n",
      "        five       0.95      0.91      0.93       210\n",
      "        four       0.94      0.97      0.95      1980\n",
      "        nine       0.92      0.92      0.92       270\n",
      "         one       0.94      0.93      0.94      2220\n",
      "       seven       0.97      0.97      0.97       240\n",
      "         six       0.95      0.91      0.93       360\n",
      "       three       0.96      0.96      0.96      1410\n",
      "         two       0.95      0.93      0.94      2250\n",
      "        zero       0.88      0.87      0.88       210\n",
      "\n",
      "    accuracy                           0.94      9690\n",
      "   macro avg       0.94      0.93      0.94      9690\n",
      "weighted avg       0.94      0.94      0.94      9690\n",
      "\n"
     ]
    }
   ],
   "source": [
    "print(\"Confusion Matrix\")\n",
    "print(conf_matrix_SVC_crossVal)\n",
    "print(\"\\n\")\n",
    "print(classification_SVC_crossVal)"
   ]
  },
  {
   "cell_type": "markdown",
   "metadata": {},
   "source": [
    "<hr>\n",
    "<h4> With test Data <h4>"
   ]
  },
  {
   "cell_type": "code",
   "execution_count": 320,
   "metadata": {},
   "outputs": [],
   "source": [
    "#Create a svm Classifier\n",
    "svmClassifier_withTestData = SVC(kernel='linear') # Linear Kernel\n",
    "\n",
    "#Train the model using the training sets\n",
    "svmClassifier_withTestData.fit(X_train, y_train)\n",
    "\n",
    "\n",
    "#test this model on the seperated data\n",
    "y_pred_svmClassifier_withTestData = svmClassifier_withTestData.predict(X_test)\n",
    "\n",
    "\n",
    "#confusion matrix generation\n",
    "conf_matrix_svmClassifier_withTestData = confusion_matrix(y_test, y_pred_svmClassifier_withTestData)\n",
    "\n",
    "#accuracy report\n",
    "classification_report_randomForest_withTestData = classification_report(y_test, y_pred_svmClassifier_withTestData)"
   ]
  },
  {
   "cell_type": "code",
   "execution_count": 321,
   "metadata": {},
   "outputs": [
    {
     "name": "stdout",
     "output_type": "stream",
     "text": [
      "Confusion Matrix\n",
      "[[110   1   2  21   1   0  12   3   0   0]\n",
      " [  3  57   0   0   0   0   0   0   0   0]\n",
      " [  0   1 569   4  50   0   2  10  18   6]\n",
      " [  0   0   0  89   0   0   1   0   0   0]\n",
      " [  3   0  40   0 600   0   2   4  59  12]\n",
      " [  0   0   0   0  30  30   0   0   0   0]\n",
      " [ 26   0   2   8   7   0  46   1   0   0]\n",
      " [  0   6   5   1   4   1   3 414  12   4]\n",
      " [  0   0  22   0  30   0   0  23 673   2]\n",
      " [  0   0  17   0  20   0   0   0   0  23]]\n",
      "\n",
      "\n",
      "              precision    recall  f1-score   support\n",
      "\n",
      "       eight       0.77      0.73      0.75       150\n",
      "        five       0.88      0.95      0.91        60\n",
      "        four       0.87      0.86      0.86       660\n",
      "        nine       0.72      0.99      0.84        90\n",
      "         one       0.81      0.83      0.82       720\n",
      "       seven       0.97      0.50      0.66        60\n",
      "         six       0.70      0.51      0.59        90\n",
      "       three       0.91      0.92      0.91       450\n",
      "         two       0.88      0.90      0.89       750\n",
      "        zero       0.49      0.38      0.43        60\n",
      "\n",
      "    accuracy                           0.84      3090\n",
      "   macro avg       0.80      0.76      0.77      3090\n",
      "weighted avg       0.84      0.84      0.84      3090\n",
      "\n"
     ]
    }
   ],
   "source": [
    "print(\"Confusion Matrix\")\n",
    "print(conf_matrix_svmClassifier_withTestData)\n",
    "print(\"\\n\")\n",
    "print(classification_report_randomForest_withTestData)"
   ]
  },
  {
   "cell_type": "markdown",
   "metadata": {},
   "source": [
    "<hr>\n",
    "<h4> with data 4000 split <h4>"
   ]
  },
  {
   "cell_type": "markdown",
   "metadata": {},
   "source": [
    "Goal : Train SVM model on reduced data set, test it on an increased data set"
   ]
  },
  {
   "cell_type": "code",
   "execution_count": 322,
   "metadata": {},
   "outputs": [],
   "source": [
    "#create a Gaussian Classifier - random forest\n",
    "\n",
    "svmClassifier_4000Split = SVC(kernel='linear') # Linear Kernel\n",
    "\n",
    "#Train the model using the training sets\n",
    "svmClassifier_4000Split.fit(X_train_4000Split, y_train_4000Split)\n",
    "\n",
    "\n",
    "#test this model on the seperated data\n",
    "y_pred_svmClassifier_4000Split = svmClassifier_4000Split.predict(X_test_4000Split)\n",
    "\n",
    "\n",
    "#confusion matrix generation\n",
    "conf_matrix_svmClassifier_4000Split = confusion_matrix(y_test_4000Split, y_pred_svmClassifier_4000Split)\n",
    "\n",
    "#accuracy report\n",
    "classification_report_randomForest_4000Split = classification_report(y_test_4000Split, y_pred_svmClassifier_4000Split)"
   ]
  },
  {
   "cell_type": "code",
   "execution_count": 323,
   "metadata": {},
   "outputs": [
    {
     "name": "stdout",
     "output_type": "stream",
     "text": [
      "Confusion Matrix\n",
      "[[ 299    2    2   32    4    0   13   10    0    3]\n",
      " [   4  139    2    3    0    3    0    0    0    0]\n",
      " [   0    0 1379    4   39    0    4   13   40    7]\n",
      " [   4    0    0  172    1    0    2    1    3    0]\n",
      " [   3    0   54    3 1455    0    4    9  110   16]\n",
      " [   0    0    0    1   30  116    0    0    0    0]\n",
      " [  34    1    0    5    9    0  196    6    2    3]\n",
      " [   2    7   20    2   15    1    5  953   35    4]\n",
      " [   0    1   38    1   64    0    5   35 1513    5]\n",
      " [   0    0   16    0   30    0    0    0    1   95]]\n",
      "\n",
      "\n",
      "              precision    recall  f1-score   support\n",
      "\n",
      "       eight       0.86      0.82      0.84       365\n",
      "        five       0.93      0.92      0.92       151\n",
      "        four       0.91      0.93      0.92      1486\n",
      "        nine       0.77      0.94      0.85       183\n",
      "         one       0.88      0.88      0.88      1654\n",
      "       seven       0.97      0.79      0.87       147\n",
      "         six       0.86      0.77      0.81       256\n",
      "       three       0.93      0.91      0.92      1044\n",
      "         two       0.89      0.91      0.90      1662\n",
      "        zero       0.71      0.67      0.69       142\n",
      "\n",
      "    accuracy                           0.89      7090\n",
      "   macro avg       0.87      0.85      0.86      7090\n",
      "weighted avg       0.89      0.89      0.89      7090\n",
      "\n"
     ]
    }
   ],
   "source": [
    "print(\"Confusion Matrix\")\n",
    "print(conf_matrix_svmClassifier_4000Split)\n",
    "print(\"\\n\")\n",
    "print(classification_report_randomForest_4000Split)"
   ]
  },
  {
   "cell_type": "markdown",
   "metadata": {},
   "source": [
    "<hr>\n",
    "<h4> with data 9000 split <h4>"
   ]
  },
  {
   "cell_type": "code",
   "execution_count": 325,
   "metadata": {},
   "outputs": [],
   "source": [
    "#create a Gaussian Classifier - random forest\n",
    "\n",
    "svmClassifier_9000Split = SVC(kernel='linear') # Linear Kernel\n",
    "\n",
    "#Train the model using the training sets\n",
    "svmClassifier_9000Split.fit(X_train_9000Split, y_train_9000Split)\n",
    "\n",
    "\n",
    "#test this model on the seperated data\n",
    "y_pred_svmClassifier_9000Split = svmClassifier_9000Split.predict(X_test_9000Split)\n",
    "\n",
    "\n",
    "#confusion matrix generation\n",
    "conf_matrix_svmClassifier_9000Split = confusion_matrix(y_test_9000Split, y_pred_svmClassifier_9000Split)\n",
    "\n",
    "#accuracy report\n",
    "classification_report_randomForest_9000Split = classification_report(y_test_9000Split, y_pred_svmClassifier_9000Split)"
   ]
  },
  {
   "cell_type": "code",
   "execution_count": 326,
   "metadata": {},
   "outputs": [
    {
     "name": "stdout",
     "output_type": "stream",
     "text": [
      "Confusion Matrix\n",
      "[[ 277    9   14   28   11    5   14    2    5    0]\n",
      " [  13   91   26    7    0    8    1    3    2    0]\n",
      " [   0    2 1195    0  154    0    8   50   72    5]\n",
      " [  46    0    5  108    5    3    1    2   10    3]\n",
      " [  15    0  129    1 1277    2    4   28  154   44]\n",
      " [   6    0    5    8   27  100    0    0    1    0]\n",
      " [  39    0    6   20   19   10  145    4   12    1]\n",
      " [   8    3   60    5   61    0   17  746  142    2]\n",
      " [   5    1   81    1  157    1    4   73 1329   10]\n",
      " [   0    0   23    0   77    0    0    4    3   35]]\n",
      "\n",
      "\n",
      "              precision    recall  f1-score   support\n",
      "\n",
      "       eight       0.68      0.76      0.72       365\n",
      "        five       0.86      0.60      0.71       151\n",
      "        four       0.77      0.80      0.79      1486\n",
      "        nine       0.61      0.59      0.60       183\n",
      "         one       0.71      0.77      0.74      1654\n",
      "       seven       0.78      0.68      0.72       147\n",
      "         six       0.75      0.57      0.64       256\n",
      "       three       0.82      0.71      0.76      1044\n",
      "         two       0.77      0.80      0.78      1662\n",
      "        zero       0.35      0.25      0.29       142\n",
      "\n",
      "    accuracy                           0.75      7090\n",
      "   macro avg       0.71      0.65      0.68      7090\n",
      "weighted avg       0.75      0.75      0.75      7090\n",
      "\n"
     ]
    }
   ],
   "source": [
    "print(\"Confusion Matrix\")\n",
    "print(conf_matrix_svmClassifier_9000Split)\n",
    "print(\"\\n\")\n",
    "print(classification_report_randomForest_9000Split)"
   ]
  },
  {
   "cell_type": "code",
   "execution_count": null,
   "metadata": {},
   "outputs": [],
   "source": []
  },
  {
   "cell_type": "markdown",
   "metadata": {},
   "source": [
    "<h2> Neural Networks <h2>\n",
    "   <hr>"
   ]
  },
  {
   "cell_type": "markdown",
   "metadata": {},
   "source": [
    "<h3> Linear Classifier <h3>"
   ]
  },
  {
   "cell_type": "code",
   "execution_count": null,
   "metadata": {},
   "outputs": [],
   "source": []
  },
  {
   "cell_type": "code",
   "execution_count": null,
   "metadata": {},
   "outputs": [],
   "source": []
  },
  {
   "cell_type": "markdown",
   "metadata": {},
   "source": [
    "<h3> MLP <h3>"
   ]
  },
  {
   "cell_type": "code",
   "execution_count": null,
   "metadata": {},
   "outputs": [],
   "source": []
  },
  {
   "cell_type": "code",
   "execution_count": null,
   "metadata": {},
   "outputs": [],
   "source": []
  }
 ],
 "metadata": {
  "kernelspec": {
   "display_name": "Python 3",
   "language": "python",
   "name": "python3"
  },
  "language_info": {
   "codemirror_mode": {
    "name": "ipython",
    "version": 3
   },
   "file_extension": ".py",
   "mimetype": "text/x-python",
   "name": "python",
   "nbconvert_exporter": "python",
   "pygments_lexer": "ipython3",
   "version": "3.8.3"
  }
 },
 "nbformat": 4,
 "nbformat_minor": 4
}
