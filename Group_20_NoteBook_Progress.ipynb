{
 "cells": [
  {
   "cell_type": "markdown",
   "metadata": {},
   "source": [
    "<h1> Group 20 - DMMML Coursework 2<h1>\n",
    "    \n",
    "<hr>"
   ]
  },
  {
   "cell_type": "markdown",
   "metadata": {},
   "source": [
    "<h3 style=\"color:blue\"> Data <h3> "
   ]
  },
  {
   "cell_type": "markdown",
   "metadata": {},
   "source": [
    "Goal : Setup full training data set :"
   ]
  },
  {
   "cell_type": "code",
   "execution_count": 1,
   "metadata": {},
   "outputs": [
    {
     "name": "stdout",
     "output_type": "stream",
     "text": [
      "          0      1      2      3      4      5      6      7      8      9  \\\n",
      "0      78.0   77.0   76.0   82.0   87.0   92.0  104.0  119.0  117.0  120.0   \n",
      "1      73.0   75.0   79.0   78.0   76.0   75.0   89.0  107.0  133.0  125.0   \n",
      "2      72.0   75.0   79.0   77.0   81.0   89.0  105.0  109.0   86.0   90.0   \n",
      "3      67.0   70.0   74.0   80.0   93.0  107.0  110.0   96.0   69.0  100.0   \n",
      "4      74.0   74.0   73.0   72.0   77.0   87.0  104.0  109.0   84.0   83.0   \n",
      "...     ...    ...    ...    ...    ...    ...    ...    ...    ...    ...   \n",
      "9685  247.0  220.0  254.0  213.0  129.0  208.0  254.0  255.0  255.0  255.0   \n",
      "9686  151.0  118.0  254.0  255.0  255.0  255.0  254.0  254.0  254.0  252.0   \n",
      "9687  255.0  255.0  255.0  255.0  255.0  255.0  255.0  255.0  255.0  255.0   \n",
      "9688  255.0  253.0  255.0  255.0  255.0  255.0  255.0  255.0  255.0  255.0   \n",
      "9689  252.0  189.0  238.0  255.0  255.0  245.0  219.0  212.0  140.0   40.0   \n",
      "\n",
      "      ...  2295  2296   2297  2298  2299  2300   2301   2302   2303  Class  \n",
      "0     ...  79.0  72.0   76.0  83.0  95.0  99.0   98.0   95.0   94.0      0  \n",
      "1     ...  93.0  85.0   77.0  69.0  73.0  83.0  100.0  101.0  101.0      0  \n",
      "2     ...  95.0  88.0   80.0  73.0  71.0  74.0   80.0   89.0   95.0      0  \n",
      "3     ...  92.0  87.0   82.0  77.0  72.0  70.0   72.0   81.0   88.0      0  \n",
      "4     ...  98.0  99.0  100.0  99.0  89.0  78.0   66.0   68.0   72.0      0  \n",
      "...   ...   ...   ...    ...   ...   ...   ...    ...    ...    ...    ...  \n",
      "9685  ...  29.0  27.0   26.0  25.0  23.0  22.0   26.0   26.0   27.0      9  \n",
      "9686  ...  31.0  30.0   30.0  30.0  30.0  29.0   26.0   28.0   27.0      9  \n",
      "9687  ...  49.0  42.0   36.0  33.0  36.0  39.0   31.0   39.0   43.0      9  \n",
      "9688  ...  27.0  26.0   27.0  35.0  28.0  27.0   26.0   26.0   24.0      9  \n",
      "9689  ...  23.0  23.0   30.0  32.0  23.0  23.0   26.0   20.0   17.0      9  \n",
      "\n",
      "[9690 rows x 2305 columns]\n"
     ]
    }
   ],
   "source": [
    "# Python ≥3.5 is required\n",
    "import sys\n",
    "assert sys.version_info >= (3, 5)\n",
    "# Scikit-Learn ≥0.20 is required\n",
    "import sklearn\n",
    "assert sklearn.__version__ >= \"0.20\"\n",
    "# Common imports\n",
    "import numpy as np\n",
    "import os\n",
    "import tarfile\n",
    "import urllib\n",
    "import pandas as pd\n",
    "# To plot pretty figures\n",
    "%matplotlib inline\n",
    "import matplotlib as mpl\n",
    "import matplotlib.pyplot as plt\n",
    "\n",
    "#read the attribute csvs file into respective dataframes\n",
    "X = pd.read_csv ('x_train_gr_smpl.csv')\n",
    "\n",
    "\n",
    "# read the class attribute file into Y datafram\n",
    "Y = pd.read_csv('y_train_smpl.csv')\n",
    "Y.columns = ['Class']\n",
    "\n",
    "#join the two such that Y is the last column\n",
    "XYraw = pd.concat([X,Y], axis=1)\n",
    "#check the concatination\n",
    "print(XYraw)"
   ]
  },
  {
   "cell_type": "code",
   "execution_count": 2,
   "metadata": {},
   "outputs": [
    {
     "data": {
      "text/html": [
       "<div>\n",
       "<style scoped>\n",
       "    .dataframe tbody tr th:only-of-type {\n",
       "        vertical-align: middle;\n",
       "    }\n",
       "\n",
       "    .dataframe tbody tr th {\n",
       "        vertical-align: top;\n",
       "    }\n",
       "\n",
       "    .dataframe thead th {\n",
       "        text-align: right;\n",
       "    }\n",
       "</style>\n",
       "<table border=\"1\" class=\"dataframe\">\n",
       "  <thead>\n",
       "    <tr style=\"text-align: right;\">\n",
       "      <th></th>\n",
       "      <th>0</th>\n",
       "      <th>1</th>\n",
       "      <th>2</th>\n",
       "      <th>3</th>\n",
       "      <th>4</th>\n",
       "      <th>5</th>\n",
       "      <th>6</th>\n",
       "      <th>7</th>\n",
       "      <th>8</th>\n",
       "      <th>9</th>\n",
       "      <th>...</th>\n",
       "      <th>2295</th>\n",
       "      <th>2296</th>\n",
       "      <th>2297</th>\n",
       "      <th>2298</th>\n",
       "      <th>2299</th>\n",
       "      <th>2300</th>\n",
       "      <th>2301</th>\n",
       "      <th>2302</th>\n",
       "      <th>2303</th>\n",
       "      <th>Class</th>\n",
       "    </tr>\n",
       "  </thead>\n",
       "  <tbody>\n",
       "    <tr>\n",
       "      <th>0</th>\n",
       "      <td>78.0</td>\n",
       "      <td>77.0</td>\n",
       "      <td>76.0</td>\n",
       "      <td>82.0</td>\n",
       "      <td>87.0</td>\n",
       "      <td>92.0</td>\n",
       "      <td>104.0</td>\n",
       "      <td>119.0</td>\n",
       "      <td>117.0</td>\n",
       "      <td>120.0</td>\n",
       "      <td>...</td>\n",
       "      <td>79.0</td>\n",
       "      <td>72.0</td>\n",
       "      <td>76.0</td>\n",
       "      <td>83.0</td>\n",
       "      <td>95.0</td>\n",
       "      <td>99.0</td>\n",
       "      <td>98.0</td>\n",
       "      <td>95.0</td>\n",
       "      <td>94.0</td>\n",
       "      <td>zero</td>\n",
       "    </tr>\n",
       "    <tr>\n",
       "      <th>1</th>\n",
       "      <td>73.0</td>\n",
       "      <td>75.0</td>\n",
       "      <td>79.0</td>\n",
       "      <td>78.0</td>\n",
       "      <td>76.0</td>\n",
       "      <td>75.0</td>\n",
       "      <td>89.0</td>\n",
       "      <td>107.0</td>\n",
       "      <td>133.0</td>\n",
       "      <td>125.0</td>\n",
       "      <td>...</td>\n",
       "      <td>93.0</td>\n",
       "      <td>85.0</td>\n",
       "      <td>77.0</td>\n",
       "      <td>69.0</td>\n",
       "      <td>73.0</td>\n",
       "      <td>83.0</td>\n",
       "      <td>100.0</td>\n",
       "      <td>101.0</td>\n",
       "      <td>101.0</td>\n",
       "      <td>zero</td>\n",
       "    </tr>\n",
       "    <tr>\n",
       "      <th>2</th>\n",
       "      <td>72.0</td>\n",
       "      <td>75.0</td>\n",
       "      <td>79.0</td>\n",
       "      <td>77.0</td>\n",
       "      <td>81.0</td>\n",
       "      <td>89.0</td>\n",
       "      <td>105.0</td>\n",
       "      <td>109.0</td>\n",
       "      <td>86.0</td>\n",
       "      <td>90.0</td>\n",
       "      <td>...</td>\n",
       "      <td>95.0</td>\n",
       "      <td>88.0</td>\n",
       "      <td>80.0</td>\n",
       "      <td>73.0</td>\n",
       "      <td>71.0</td>\n",
       "      <td>74.0</td>\n",
       "      <td>80.0</td>\n",
       "      <td>89.0</td>\n",
       "      <td>95.0</td>\n",
       "      <td>zero</td>\n",
       "    </tr>\n",
       "    <tr>\n",
       "      <th>3</th>\n",
       "      <td>67.0</td>\n",
       "      <td>70.0</td>\n",
       "      <td>74.0</td>\n",
       "      <td>80.0</td>\n",
       "      <td>93.0</td>\n",
       "      <td>107.0</td>\n",
       "      <td>110.0</td>\n",
       "      <td>96.0</td>\n",
       "      <td>69.0</td>\n",
       "      <td>100.0</td>\n",
       "      <td>...</td>\n",
       "      <td>92.0</td>\n",
       "      <td>87.0</td>\n",
       "      <td>82.0</td>\n",
       "      <td>77.0</td>\n",
       "      <td>72.0</td>\n",
       "      <td>70.0</td>\n",
       "      <td>72.0</td>\n",
       "      <td>81.0</td>\n",
       "      <td>88.0</td>\n",
       "      <td>zero</td>\n",
       "    </tr>\n",
       "    <tr>\n",
       "      <th>4</th>\n",
       "      <td>74.0</td>\n",
       "      <td>74.0</td>\n",
       "      <td>73.0</td>\n",
       "      <td>72.0</td>\n",
       "      <td>77.0</td>\n",
       "      <td>87.0</td>\n",
       "      <td>104.0</td>\n",
       "      <td>109.0</td>\n",
       "      <td>84.0</td>\n",
       "      <td>83.0</td>\n",
       "      <td>...</td>\n",
       "      <td>98.0</td>\n",
       "      <td>99.0</td>\n",
       "      <td>100.0</td>\n",
       "      <td>99.0</td>\n",
       "      <td>89.0</td>\n",
       "      <td>78.0</td>\n",
       "      <td>66.0</td>\n",
       "      <td>68.0</td>\n",
       "      <td>72.0</td>\n",
       "      <td>zero</td>\n",
       "    </tr>\n",
       "  </tbody>\n",
       "</table>\n",
       "<p>5 rows × 2305 columns</p>\n",
       "</div>"
      ],
      "text/plain": [
       "      0     1     2     3     4      5      6      7      8      9  ...  2295  \\\n",
       "0  78.0  77.0  76.0  82.0  87.0   92.0  104.0  119.0  117.0  120.0  ...  79.0   \n",
       "1  73.0  75.0  79.0  78.0  76.0   75.0   89.0  107.0  133.0  125.0  ...  93.0   \n",
       "2  72.0  75.0  79.0  77.0  81.0   89.0  105.0  109.0   86.0   90.0  ...  95.0   \n",
       "3  67.0  70.0  74.0  80.0  93.0  107.0  110.0   96.0   69.0  100.0  ...  92.0   \n",
       "4  74.0  74.0  73.0  72.0  77.0   87.0  104.0  109.0   84.0   83.0  ...  98.0   \n",
       "\n",
       "   2296   2297  2298  2299  2300   2301   2302   2303  Class  \n",
       "0  72.0   76.0  83.0  95.0  99.0   98.0   95.0   94.0   zero  \n",
       "1  85.0   77.0  69.0  73.0  83.0  100.0  101.0  101.0   zero  \n",
       "2  88.0   80.0  73.0  71.0  74.0   80.0   89.0   95.0   zero  \n",
       "3  87.0   82.0  77.0  72.0  70.0   72.0   81.0   88.0   zero  \n",
       "4  99.0  100.0  99.0  89.0  78.0   66.0   68.0   72.0   zero  \n",
       "\n",
       "[5 rows x 2305 columns]"
      ]
     },
     "execution_count": 2,
     "metadata": {},
     "output_type": "execute_result"
    }
   ],
   "source": [
    "\n",
    "#convert numberic to nominal \n",
    "XYraw[['Class']] = XYraw[['Class']].replace([0, 1, 2,3,4,5,6,7,8,9], ['zero', 'one', 'two','three', 'four', 'five', 'six', 'seven', 'eight',\n",
    "                                 'nine'])\n",
    "\n",
    "XYraw.head()"
   ]
  },
  {
   "cell_type": "code",
   "execution_count": 3,
   "metadata": {},
   "outputs": [
    {
     "name": "stdout",
     "output_type": "stream",
     "text": [
      "          0      1      2      3      4      5      6      7      8      9  \\\n",
      "0     255.0  255.0  139.0   58.0   37.0   30.0   32.0   29.0   41.0   89.0   \n",
      "1      42.0   36.0   40.0   46.0   48.0   43.0   40.0   53.0   64.0   68.0   \n",
      "2      42.0   45.0   80.0   88.0   72.0   75.0   50.0   34.0   34.0   38.0   \n",
      "3      26.0   29.0   32.0   35.0   39.0   39.0   34.0   30.0   27.0   26.0   \n",
      "4      48.0   69.0   66.0   61.0   62.0   59.0   56.0   49.0   43.0   39.0   \n",
      "...     ...    ...    ...    ...    ...    ...    ...    ...    ...    ...   \n",
      "9685  144.0  107.0  160.0  176.0  208.0  244.0  254.0  255.0  255.0  255.0   \n",
      "9686  127.0   97.0  128.0  142.0  110.0   92.0   81.0   79.0   77.0   77.0   \n",
      "9687   27.0   27.0   27.0   25.0   25.0   23.0   22.0   22.0   22.0   22.0   \n",
      "9688  146.0  153.0  154.0  149.0  132.0   98.0   52.0   54.0   58.0   74.0   \n",
      "9689   23.0   22.0   22.0   23.0   24.0   27.0   27.0   27.0   28.0   26.0   \n",
      "\n",
      "      ...   2295   2296   2297   2298   2299   2300   2301   2302   2303  \\\n",
      "0     ...   84.0   78.0   72.0   57.0   43.0   34.0   28.0   24.0   23.0   \n",
      "1     ...   78.0   78.0   81.0   80.0   81.0   80.0   79.0   79.0   78.0   \n",
      "2     ...   36.0   38.0   38.0   39.0   41.0   38.0   35.0   36.0   40.0   \n",
      "3     ...   29.0   28.0   26.0   24.0   24.0   23.0   23.0   22.0   22.0   \n",
      "4     ...   67.0   76.0   79.0   78.0   78.0   79.0   80.0   80.0   80.0   \n",
      "...   ...    ...    ...    ...    ...    ...    ...    ...    ...    ...   \n",
      "9685  ...   63.0   43.0   29.0   28.0   26.0   24.0   24.0   35.0   47.0   \n",
      "9686  ...   73.0   72.0   70.0   70.0   70.0   71.0   70.0   70.0   70.0   \n",
      "9687  ...   29.0   30.0   28.0   27.0   28.0   27.0   27.0   26.0   25.0   \n",
      "9688  ...  117.0  211.0  246.0  245.0  242.0  241.0  243.0  244.0  246.0   \n",
      "9689  ...   32.0   33.0   34.0   32.0   33.0   33.0   34.0   31.0   29.0   \n",
      "\n",
      "      Class  \n",
      "0       two  \n",
      "1       one  \n",
      "2       six  \n",
      "3       six  \n",
      "4       one  \n",
      "...     ...  \n",
      "9685   four  \n",
      "9686   four  \n",
      "9687  eight  \n",
      "9688    one  \n",
      "9689    one  \n",
      "\n",
      "[9690 rows x 2305 columns]\n"
     ]
    }
   ],
   "source": [
    "\n",
    "#randomise \n",
    "XYraw_ran = XYraw.sample(frac=1).reset_index(drop=True)\n",
    "print(XYraw_ran)"
   ]
  },
  {
   "cell_type": "code",
   "execution_count": 4,
   "metadata": {},
   "outputs": [],
   "source": [
    "#generate this as a csv to directly feed into analyses on independent notebooks\n",
    "#XYraw_ran.to_csv('For_10_Fold_Cross_Validation.csv', index = False)"
   ]
  },
  {
   "cell_type": "markdown",
   "metadata": {},
   "source": [
    "Split Data into data and expected calsses\n"
   ]
  },
  {
   "cell_type": "code",
   "execution_count": 5,
   "metadata": {},
   "outputs": [
    {
     "data": {
      "text/html": [
       "<div>\n",
       "<style scoped>\n",
       "    .dataframe tbody tr th:only-of-type {\n",
       "        vertical-align: middle;\n",
       "    }\n",
       "\n",
       "    .dataframe tbody tr th {\n",
       "        vertical-align: top;\n",
       "    }\n",
       "\n",
       "    .dataframe thead th {\n",
       "        text-align: right;\n",
       "    }\n",
       "</style>\n",
       "<table border=\"1\" class=\"dataframe\">\n",
       "  <thead>\n",
       "    <tr style=\"text-align: right;\">\n",
       "      <th></th>\n",
       "      <th>0</th>\n",
       "      <th>1</th>\n",
       "      <th>2</th>\n",
       "      <th>3</th>\n",
       "      <th>4</th>\n",
       "      <th>5</th>\n",
       "      <th>6</th>\n",
       "      <th>7</th>\n",
       "      <th>8</th>\n",
       "      <th>9</th>\n",
       "      <th>...</th>\n",
       "      <th>2295</th>\n",
       "      <th>2296</th>\n",
       "      <th>2297</th>\n",
       "      <th>2298</th>\n",
       "      <th>2299</th>\n",
       "      <th>2300</th>\n",
       "      <th>2301</th>\n",
       "      <th>2302</th>\n",
       "      <th>2303</th>\n",
       "      <th>Class</th>\n",
       "    </tr>\n",
       "  </thead>\n",
       "  <tbody>\n",
       "    <tr>\n",
       "      <th>0</th>\n",
       "      <td>255.0</td>\n",
       "      <td>255.0</td>\n",
       "      <td>255.0</td>\n",
       "      <td>255.0</td>\n",
       "      <td>255.0</td>\n",
       "      <td>255.0</td>\n",
       "      <td>255.0</td>\n",
       "      <td>255.0</td>\n",
       "      <td>255.0</td>\n",
       "      <td>255.0</td>\n",
       "      <td>...</td>\n",
       "      <td>31.0</td>\n",
       "      <td>28.0</td>\n",
       "      <td>25.0</td>\n",
       "      <td>22.0</td>\n",
       "      <td>22.0</td>\n",
       "      <td>25.0</td>\n",
       "      <td>26.0</td>\n",
       "      <td>25.0</td>\n",
       "      <td>25.0</td>\n",
       "      <td>four</td>\n",
       "    </tr>\n",
       "    <tr>\n",
       "      <th>1</th>\n",
       "      <td>26.0</td>\n",
       "      <td>27.0</td>\n",
       "      <td>28.0</td>\n",
       "      <td>27.0</td>\n",
       "      <td>27.0</td>\n",
       "      <td>24.0</td>\n",
       "      <td>13.0</td>\n",
       "      <td>12.0</td>\n",
       "      <td>21.0</td>\n",
       "      <td>84.0</td>\n",
       "      <td>...</td>\n",
       "      <td>24.0</td>\n",
       "      <td>52.0</td>\n",
       "      <td>77.0</td>\n",
       "      <td>94.0</td>\n",
       "      <td>96.0</td>\n",
       "      <td>96.0</td>\n",
       "      <td>93.0</td>\n",
       "      <td>91.0</td>\n",
       "      <td>89.0</td>\n",
       "      <td>eight</td>\n",
       "    </tr>\n",
       "    <tr>\n",
       "      <th>2</th>\n",
       "      <td>149.0</td>\n",
       "      <td>110.0</td>\n",
       "      <td>68.0</td>\n",
       "      <td>55.0</td>\n",
       "      <td>54.0</td>\n",
       "      <td>55.0</td>\n",
       "      <td>45.0</td>\n",
       "      <td>36.0</td>\n",
       "      <td>31.0</td>\n",
       "      <td>35.0</td>\n",
       "      <td>...</td>\n",
       "      <td>149.0</td>\n",
       "      <td>96.0</td>\n",
       "      <td>52.0</td>\n",
       "      <td>54.0</td>\n",
       "      <td>68.0</td>\n",
       "      <td>87.0</td>\n",
       "      <td>110.0</td>\n",
       "      <td>104.0</td>\n",
       "      <td>92.0</td>\n",
       "      <td>two</td>\n",
       "    </tr>\n",
       "    <tr>\n",
       "      <th>3</th>\n",
       "      <td>73.0</td>\n",
       "      <td>80.0</td>\n",
       "      <td>86.0</td>\n",
       "      <td>97.0</td>\n",
       "      <td>113.0</td>\n",
       "      <td>120.0</td>\n",
       "      <td>118.0</td>\n",
       "      <td>84.0</td>\n",
       "      <td>56.0</td>\n",
       "      <td>46.0</td>\n",
       "      <td>...</td>\n",
       "      <td>98.0</td>\n",
       "      <td>99.0</td>\n",
       "      <td>100.0</td>\n",
       "      <td>101.0</td>\n",
       "      <td>99.0</td>\n",
       "      <td>98.0</td>\n",
       "      <td>100.0</td>\n",
       "      <td>106.0</td>\n",
       "      <td>114.0</td>\n",
       "      <td>one</td>\n",
       "    </tr>\n",
       "    <tr>\n",
       "      <th>4</th>\n",
       "      <td>62.0</td>\n",
       "      <td>58.0</td>\n",
       "      <td>57.0</td>\n",
       "      <td>57.0</td>\n",
       "      <td>57.0</td>\n",
       "      <td>58.0</td>\n",
       "      <td>58.0</td>\n",
       "      <td>54.0</td>\n",
       "      <td>52.0</td>\n",
       "      <td>50.0</td>\n",
       "      <td>...</td>\n",
       "      <td>30.0</td>\n",
       "      <td>29.0</td>\n",
       "      <td>28.0</td>\n",
       "      <td>26.0</td>\n",
       "      <td>25.0</td>\n",
       "      <td>27.0</td>\n",
       "      <td>28.0</td>\n",
       "      <td>28.0</td>\n",
       "      <td>31.0</td>\n",
       "      <td>three</td>\n",
       "    </tr>\n",
       "  </tbody>\n",
       "</table>\n",
       "<p>5 rows × 2305 columns</p>\n",
       "</div>"
      ],
      "text/plain": [
       "       0      1      2      3      4      5      6      7      8      9  ...  \\\n",
       "0  255.0  255.0  255.0  255.0  255.0  255.0  255.0  255.0  255.0  255.0  ...   \n",
       "1   26.0   27.0   28.0   27.0   27.0   24.0   13.0   12.0   21.0   84.0  ...   \n",
       "2  149.0  110.0   68.0   55.0   54.0   55.0   45.0   36.0   31.0   35.0  ...   \n",
       "3   73.0   80.0   86.0   97.0  113.0  120.0  118.0   84.0   56.0   46.0  ...   \n",
       "4   62.0   58.0   57.0   57.0   57.0   58.0   58.0   54.0   52.0   50.0  ...   \n",
       "\n",
       "    2295  2296   2297   2298  2299  2300   2301   2302   2303  Class  \n",
       "0   31.0  28.0   25.0   22.0  22.0  25.0   26.0   25.0   25.0   four  \n",
       "1   24.0  52.0   77.0   94.0  96.0  96.0   93.0   91.0   89.0  eight  \n",
       "2  149.0  96.0   52.0   54.0  68.0  87.0  110.0  104.0   92.0    two  \n",
       "3   98.0  99.0  100.0  101.0  99.0  98.0  100.0  106.0  114.0    one  \n",
       "4   30.0  29.0   28.0   26.0  25.0  27.0   28.0   28.0   31.0  three  \n",
       "\n",
       "[5 rows x 2305 columns]"
      ]
     },
     "execution_count": 5,
     "metadata": {},
     "output_type": "execute_result"
    }
   ],
   "source": [
    "#read in data from csv \n",
    "training_Data = pd.read_csv(\"For_10_Fold_Cross_Validation.csv\")\n",
    "\n",
    "#look at shape\n",
    "training_Data.shape \n",
    "\n",
    "#look at data format\n",
    "training_Data.head()"
   ]
  },
  {
   "cell_type": "code",
   "execution_count": 6,
   "metadata": {},
   "outputs": [],
   "source": [
    "#define the data to be used as all but the class attribute from the data \n",
    "X_Train = training_Data.drop('Class', axis = 1)\n",
    "\n",
    "#define the expexted value to be the class column of the input data \n",
    "y_train = training_Data['Class']"
   ]
  },
  {
   "cell_type": "markdown",
   "metadata": {},
   "source": [
    "Scale data"
   ]
  },
  {
   "cell_type": "code",
   "execution_count": 7,
   "metadata": {},
   "outputs": [],
   "source": [
    "from sklearn.preprocessing import StandardScaler\n",
    "\n",
    "sc = StandardScaler()\n",
    "X_train = sc.fit_transform(X_Train)\n",
    "\n"
   ]
  },
  {
   "cell_type": "markdown",
   "metadata": {},
   "source": [
    "<h4> Setup Test Data <h4>"
   ]
  },
  {
   "cell_type": "markdown",
   "metadata": {},
   "source": [
    "Goal : Import test data from file and set it as  t_test and y_test"
   ]
  },
  {
   "cell_type": "code",
   "execution_count": 8,
   "metadata": {},
   "outputs": [],
   "source": [
    "testData = pd.read_csv ('Test_Dataset.csv')\n",
    "\n",
    "X_Test = testData.drop('Class', axis = 1)\n",
    "y_test = testData['Class']\n",
    "\n",
    "\n",
    "X_test = sc.fit_transform(X_Test)"
   ]
  },
  {
   "cell_type": "markdown",
   "metadata": {},
   "source": [
    "<h4> Setup 4000 Split of test data <h4>\n",
    "    "
   ]
  },
  {
   "cell_type": "markdown",
   "metadata": {},
   "source": [
    "Goal : Take 4000 instances from the original training file and add them to the test file"
   ]
  },
  {
   "cell_type": "code",
   "execution_count": 9,
   "metadata": {},
   "outputs": [
    {
     "data": {
      "text/plain": [
       "9690"
      ]
     },
     "execution_count": 9,
     "metadata": {},
     "output_type": "execute_result"
    }
   ],
   "source": [
    "#Check length of training data\n",
    "len(training_Data)"
   ]
  },
  {
   "cell_type": "code",
   "execution_count": 10,
   "metadata": {},
   "outputs": [
    {
     "data": {
      "text/plain": [
       "4000"
      ]
     },
     "execution_count": 10,
     "metadata": {},
     "output_type": "execute_result"
    }
   ],
   "source": [
    "#split data into two divisions\n",
    "data_split4000, data_split5690= training_Data[:4000], training_Data[4000:]\n",
    "\n",
    "#test new split \n",
    "len(data_split4000)"
   ]
  },
  {
   "cell_type": "code",
   "execution_count": 11,
   "metadata": {},
   "outputs": [],
   "source": [
    "#merge test and 4000 cases from above \n",
    "testData_with4000 =pd.concat([testData, data_split4000])"
   ]
  },
  {
   "cell_type": "code",
   "execution_count": 12,
   "metadata": {},
   "outputs": [
    {
     "data": {
      "text/plain": [
       "3090"
      ]
     },
     "execution_count": 12,
     "metadata": {},
     "output_type": "execute_result"
    }
   ],
   "source": [
    "#size of testData before addition\n",
    "len(testData)"
   ]
  },
  {
   "cell_type": "code",
   "execution_count": 13,
   "metadata": {},
   "outputs": [
    {
     "data": {
      "text/plain": [
       "7090"
      ]
     },
     "execution_count": 13,
     "metadata": {},
     "output_type": "execute_result"
    }
   ],
   "source": [
    "#check items have been added to testData\n",
    "len(testData_with4000)"
   ]
  },
  {
   "cell_type": "code",
   "execution_count": 14,
   "metadata": {},
   "outputs": [],
   "source": [
    "#setup training data\n",
    "X_Train_4000Split = data_split5690.drop('Class', axis = 1)\n",
    "y_train_4000Split = data_split5690['Class']\n",
    "\n",
    "\n",
    "#setup test data\n",
    "X_Test_4000Split = testData_with4000.drop('Class', axis = 1)\n",
    "y_test_4000Split = testData_with4000['Class']\n",
    "\n",
    "\n",
    "\n",
    "sc = StandardScaler()\n",
    "X_train_4000Split = sc.fit_transform(X_Train_4000Split)\n",
    "X_test_4000Split = sc.fit_transform(X_Test_4000Split)"
   ]
  },
  {
   "cell_type": "markdown",
   "metadata": {},
   "source": [
    "<h4> Setup 9000 Split <h4> "
   ]
  },
  {
   "cell_type": "markdown",
   "metadata": {},
   "source": [
    "Goal : Take 9000 instances from the original training file and add them to the test file"
   ]
  },
  {
   "cell_type": "code",
   "execution_count": 15,
   "metadata": {},
   "outputs": [
    {
     "data": {
      "text/plain": [
       "9690"
      ]
     },
     "execution_count": 15,
     "metadata": {},
     "output_type": "execute_result"
    }
   ],
   "source": [
    "#Check length of training data\n",
    "len(training_Data)"
   ]
  },
  {
   "cell_type": "code",
   "execution_count": 16,
   "metadata": {},
   "outputs": [
    {
     "data": {
      "text/plain": [
       "9000"
      ]
     },
     "execution_count": 16,
     "metadata": {},
     "output_type": "execute_result"
    }
   ],
   "source": [
    "#split data into two divisions\n",
    "data_split9000, data_split690= training_Data[:9000], training_Data[9000:]\n",
    "\n",
    "#test new split \n",
    "len(data_split9000)"
   ]
  },
  {
   "cell_type": "code",
   "execution_count": 17,
   "metadata": {},
   "outputs": [],
   "source": [
    "#merge test and 4000 cases from above \n",
    "testData_with9000 =pd.concat([testData, data_split9000])"
   ]
  },
  {
   "cell_type": "code",
   "execution_count": 18,
   "metadata": {},
   "outputs": [
    {
     "data": {
      "text/plain": [
       "3090"
      ]
     },
     "execution_count": 18,
     "metadata": {},
     "output_type": "execute_result"
    }
   ],
   "source": [
    "#size of testData before addition \n",
    "len(testData)"
   ]
  },
  {
   "cell_type": "code",
   "execution_count": 19,
   "metadata": {},
   "outputs": [
    {
     "data": {
      "text/plain": [
       "12090"
      ]
     },
     "execution_count": 19,
     "metadata": {},
     "output_type": "execute_result"
    }
   ],
   "source": [
    "#check items have been added to testData\n",
    "len(testData_with9000)"
   ]
  },
  {
   "cell_type": "code",
   "execution_count": 20,
   "metadata": {},
   "outputs": [],
   "source": [
    "#setup training data\n",
    "X_Train_9000Split = data_split690.drop('Class', axis = 1)\n",
    "y_train_9000Split = data_split690['Class']\n",
    "\n",
    "\n",
    "#setup test data\n",
    "X_Test_9000Split = testData_with4000.drop('Class', axis = 1)\n",
    "y_test_9000Split = testData_with4000['Class']\n",
    "\n",
    "#scale data\n",
    "X_train_9000Split = sc.fit_transform(X_Train_9000Split)\n",
    "X_test_9000Split = sc.fit_transform(X_Test_9000Split)"
   ]
  },
  {
   "cell_type": "markdown",
   "metadata": {},
   "source": [
    "Setup Dataframe for all tree data"
   ]
  },
  {
   "cell_type": "code",
   "execution_count": 129,
   "metadata": {},
   "outputs": [],
   "source": [
    "treeComparisonTable = pd.DataFrame(columns=[\"Number of Nodes\", \"Depth of Tree\", \"Number of Leaves\", \"Accuracy\" ])"
   ]
  },
  {
   "cell_type": "code",
   "execution_count": 130,
   "metadata": {},
   "outputs": [
    {
     "data": {
      "text/html": [
       "<div>\n",
       "<style scoped>\n",
       "    .dataframe tbody tr th:only-of-type {\n",
       "        vertical-align: middle;\n",
       "    }\n",
       "\n",
       "    .dataframe tbody tr th {\n",
       "        vertical-align: top;\n",
       "    }\n",
       "\n",
       "    .dataframe thead th {\n",
       "        text-align: right;\n",
       "    }\n",
       "</style>\n",
       "<table border=\"1\" class=\"dataframe\">\n",
       "  <thead>\n",
       "    <tr style=\"text-align: right;\">\n",
       "      <th></th>\n",
       "      <th>Number of Nodes</th>\n",
       "      <th>Depth of Tree</th>\n",
       "      <th>Number of Leaves</th>\n",
       "      <th>Accuracy</th>\n",
       "    </tr>\n",
       "  </thead>\n",
       "  <tbody>\n",
       "  </tbody>\n",
       "</table>\n",
       "</div>"
      ],
      "text/plain": [
       "Empty DataFrame\n",
       "Columns: [Number of Nodes, Depth of Tree, Number of Leaves, Accuracy]\n",
       "Index: []"
      ]
     },
     "execution_count": 130,
     "metadata": {},
     "output_type": "execute_result"
    }
   ],
   "source": [
    "treeComparisonTable"
   ]
  },
  {
   "cell_type": "markdown",
   "metadata": {},
   "source": [
    "Setup Tree Comparison DataFrame"
   ]
  },
  {
   "cell_type": "markdown",
   "metadata": {},
   "source": [
    "Summary : \n",
    "\n",
    "X_train - full training data (minus class data) <br>\n",
    "X_train_4000Split - 4000 removed instances from X_train<br>\n",
    "X_train_9000Split - 9000 removed instances from X_train <br>\n",
    "\n",
    "X_test - original test data \n",
    "X_test_4000Split - 4000 more instances, taken from X_train<br>\n",
    "X_test_9000Split - 9000 more instances, taken from X_train<br>\n",
    "\n",
    "y_train - class attributes for the full training data<br>\n",
    "y_train_4000Split - 4000 removed instances than y_train<br>\n",
    "y_train_9000Split - 9000 removed instances than y_train<br>\n",
    "\n",
    "y_test - class attributes for original testing data <br>\n",
    "y_test_4000Split - 4000 more instances, taken from y_train <br>\n",
    "y_test_9000Split - 9000 more instances, taken from y_train <br>"
   ]
  },
  {
   "cell_type": "markdown",
   "metadata": {},
   "source": [
    "<h2> Decision Trees <h2> \n",
    "    <hr>\n",
    "<h2> J48 - Default Settings<h2>"
   ]
  },
  {
   "cell_type": "markdown",
   "metadata": {},
   "source": [
    "Decision tree adapted from : \n",
    "https://scikit-learn.org/stable/modules/generated/sklearn.tree.DecisionTreeClassifier.html\n",
    "<hr>\n",
    "Cross-Validation adapted from : \n",
    "https://scikit-learn.org/stable/modules/cross_validation.html \n",
    "    \n",
    "HOWEVER Sklearn uses CART rather than C4.5 which is the algorithm that J48 runs off so this could be incorrect. "
   ]
  },
  {
   "cell_type": "code",
   "execution_count": 180,
   "metadata": {},
   "outputs": [],
   "source": [
    "#imports for J48\n",
    "from sklearn.tree import DecisionTreeClassifier\n",
    "\n",
    "import os\n",
    "import numpy as np\n",
    "import pandas as pd\n",
    "import matplotlib.pyplot as plt\n",
    "from sklearn.utils import shuffle\n",
    "from sklearn.tree import export_graphviz, plot_tree\n",
    "\n",
    "import seaborn as sns\n",
    "from sklearn.metrics import classification_report, accuracy_score, roc_auc_score, confusion_matrix\n",
    "from sklearn.model_selection import cross_val_score, cross_val_predict\n",
    "\n"
   ]
  },
  {
   "cell_type": "markdown",
   "metadata": {},
   "source": [
    "<h4> Cross validation <h4>"
   ]
  },
  {
   "cell_type": "markdown",
   "metadata": {},
   "source": [
    "Goal : Run cross a decision tree classifier with 10 fold cross validation then output metrics"
   ]
  },
  {
   "cell_type": "code",
   "execution_count": 181,
   "metadata": {
    "scrolled": true
   },
   "outputs": [],
   "source": [
    "# adapted from https://scikit-learn.org/stable/modules/generated/sklearn.tree.DecisionTreeClassifier.html\n",
    "#\n",
    "# Sklearn uses CART rather than C4.5 which is the algorithm that J48 runs off so this could be incorrect. Both \n",
    "\n",
    "J48_crossVal = DecisionTreeClassifier()\n",
    "J48_crossVal.fit(X_train, y_train)\n",
    "\n",
    "#setup cross validation using the above classifier, X_train = data to be classified, y = the labels, CV = number of folds\n",
    "cross_validation_scores_J48 = cross_val_score(J48_crossVal, X_train, y_train, cv=10)"
   ]
  },
  {
   "cell_type": "code",
   "execution_count": 182,
   "metadata": {},
   "outputs": [
    {
     "data": {
      "text/plain": [
       "Text(0.5, 1.0, 'Average score: 0.834984520123839')"
      ]
     },
     "execution_count": 182,
     "metadata": {},
     "output_type": "execute_result"
    },
    {
     "data": {
      "image/png": "[encoded data removed]",
      "text/plain": [
       "<Figure size 432x288 with 1 Axes>"
      ]
     },
     "metadata": {
      "needs_background": "light"
     },
     "output_type": "display_data"
    }
   ],
   "source": [
    "# use seaborn (sns) to plot a graph of the above scores\n",
    "sns.distplot(cross_validation_scores_J48)\n",
    "plt.title('Average score: {}'.format(np.mean(cross_validation_scores_J48)))"
   ]
  },
  {
   "cell_type": "code",
   "execution_count": 183,
   "metadata": {},
   "outputs": [],
   "source": [
    "#train model with 10 fold validation, \n",
    "#cross_val_predict Get predictions from each split of cross-validation for diagnostic purposes.\n",
    "y_pred_J48_crossVal = cross_val_predict(J48_crossVal, X_train, y_train, cv=10)\n",
    "\n",
    "#confusion matrix generation\n",
    "conf_matrix_J48_crossVal = confusion_matrix(y_train, y_pred_J48_crossVal)\n",
    "\n",
    "#accuracy report\n",
    "classification_report_J48_crossVal = classification_report(y_train, y_pred_J48_crossVal)\n",
    "\n",
    "#Tree topology metrics\n",
    "n_nodes_J48_crossVal = J48_crossVal.tree_.node_count\n",
    "depth_J48_crossVal = J48_crossVal.get_depth()\n",
    "num_Leaves_J48_crossVal = J48_crossVal.get_n_leaves()\n",
    "\n",
    "#Find the accuracy of this model based on the test data\n",
    "accuracy_J48_crossVal = accuracy_score(y_train, y_pred_J48_crossVal)*100\n",
    "\n",
    "J48_crossVal_data = [n_nodes_J48_crossVal, depth_J48_crossVal, num_Leaves_J48_crossVal, accuracy_J48_crossVal]\n"
   ]
  },
  {
   "cell_type": "code",
   "execution_count": 184,
   "metadata": {},
   "outputs": [
    {
     "name": "stdout",
     "output_type": "stream",
     "text": [
      "Confusion Matrix\n",
      "[[ 446    3    7   11   15    9   13   14   18    4]\n",
      " [   4  146    6    9    4   10    5    8   15    3]\n",
      " [   7    4 1755    1   83    9    4   26   79   12]\n",
      " [  11    5    3  190   12    7   10   17   13    2]\n",
      " [  18   10   90    4 1844   10   12   56  151   25]\n",
      " [   4    4    3    3   11  184   12    3   15    1]\n",
      " [  14    5    9    6   12    6  283   17    8    0]\n",
      " [  14    4   29   17   45    2   12 1202   78    7]\n",
      " [  12    2   86   13  150   14   13   93 1852   15]\n",
      " [   1    0   18    2   26    1    0    7    6  149]]\n",
      "\n",
      "\n",
      "              precision    recall  f1-score   support\n",
      "\n",
      "       eight       0.84      0.83      0.83       540\n",
      "        five       0.80      0.70      0.74       210\n",
      "        four       0.87      0.89      0.88      1980\n",
      "        nine       0.74      0.70      0.72       270\n",
      "         one       0.84      0.83      0.83      2220\n",
      "       seven       0.73      0.77      0.75       240\n",
      "         six       0.78      0.79      0.78       360\n",
      "       three       0.83      0.85      0.84      1410\n",
      "         two       0.83      0.82      0.83      2250\n",
      "        zero       0.68      0.71      0.70       210\n",
      "\n",
      "    accuracy                           0.83      9690\n",
      "   macro avg       0.79      0.79      0.79      9690\n",
      "weighted avg       0.83      0.83      0.83      9690\n",
      "\n",
      "\n",
      "\n",
      "Number of Nodes : 1483\n",
      "Depth of Tree : 24\n",
      "Number of Leaves : 742\n",
      "Accuracy of Model : 83.08565531475747\n"
     ]
    }
   ],
   "source": [
    "#Print Confusion matrix and other important results\n",
    "print(\"Confusion Matrix\")\n",
    "print(conf_matrix_J48_crossVal)\n",
    "\n",
    "print(\"\\n\")\n",
    "print(classification_report_J48_crossVal)\n",
    "#print(roc_auc_score(y, y_pred))\n",
    "print(\"\\n\")\n",
    "\n",
    "\n",
    "print(\"Number of Nodes : \" + str(n_nodes_J48_crossVal))\n",
    "print(\"Depth of Tree : \" + str(depth_J48_crossVal))\n",
    "print(\"Number of Leaves : \" + str(num_Leaves_J48_crossVal))\n",
    "print(\"Accuracy of Model : \" + str(accuracy_J48_crossVal))"
   ]
  },
  {
   "cell_type": "markdown",
   "metadata": {},
   "source": [
    "<hr>\n",
    "<h4>Part 2 - Using test data<h4>"
   ]
  },
  {
   "cell_type": "markdown",
   "metadata": {},
   "source": [
    "Goal : Run decision classifier on test data provided"
   ]
  },
  {
   "cell_type": "code",
   "execution_count": 185,
   "metadata": {},
   "outputs": [],
   "source": [
    "#define the model to be used \n",
    "J48_withTestData = DecisionTreeClassifier()\n",
    "\n",
    "#fit this model using the test data\n",
    "J48_withTestData.fit(X_train, y_train)\n",
    "\n",
    "#test this model on the seperated data\n",
    "y_pred_J48_withTestData = J48_withTestData.predict(X_test)\n",
    "\n",
    "\n",
    "#confusion matrix generation\n",
    "conf_matrix_J48_withTestData = confusion_matrix(y_test, y_pred_J48_withTestData)\n",
    "\n",
    "#accuracy report\n",
    "classification_report_J48_withTestData = classification_report(y_test, y_pred_J48_withTestData)\n",
    "\n",
    "#Tree topology metrics\n",
    "n_nodes_J48_withTestData = J48_withTestData.tree_.node_count\n",
    "depth_J48_withTestData = J48_withTestData.get_depth()\n",
    "num_Leaves_J48_withTestData = J48_withTestData.get_n_leaves()\n",
    "\n",
    "#Find the accuracy of this model based on the test data\n",
    "accuracy_J48_withTestData = accuracy_score(y_test, y_pred_J48_withTestData)*100\n",
    "\n",
    "J48_withTestData_data = [n_nodes_J48_withTestData, depth_J48_withTestData, num_Leaves_J48_withTestData, accuracy_J48_withTestData]"
   ]
  },
  {
   "cell_type": "code",
   "execution_count": 186,
   "metadata": {},
   "outputs": [
    {
     "name": "stdout",
     "output_type": "stream",
     "text": [
      "Confusion Matrix\n",
      "[[ 58  11   9  12  11   4  10  19  13   3]\n",
      " [  0  28   0   0   0   2   0  30   0   0]\n",
      " [  3   2 465   3  46   4  17  64  38  18]\n",
      " [ 13   0   0  41   4   8   0   3  21   0]\n",
      " [  4   2  56   2 559  14   0  12  56  15]\n",
      " [  1   9   2   5  21  19   1   2   0   0]\n",
      " [ 15   4   1   6   9   0  36  14   5   0]\n",
      " [  1   2  24   8  41   1   5 310  56   2]\n",
      " [  4   5  69   5  73   4  10  52 526   2]\n",
      " [  0   1  22   1   7   0   0   6   3  20]]\n",
      "\n",
      "\n",
      "              precision    recall  f1-score   support\n",
      "\n",
      "       eight       0.59      0.39      0.47       150\n",
      "        five       0.44      0.47      0.45        60\n",
      "        four       0.72      0.70      0.71       660\n",
      "        nine       0.49      0.46      0.47        90\n",
      "         one       0.73      0.78      0.75       720\n",
      "       seven       0.34      0.32      0.33        60\n",
      "         six       0.46      0.40      0.43        90\n",
      "       three       0.61      0.69      0.64       450\n",
      "         two       0.73      0.70      0.72       750\n",
      "        zero       0.33      0.33      0.33        60\n",
      "\n",
      "    accuracy                           0.67      3090\n",
      "   macro avg       0.54      0.52      0.53      3090\n",
      "weighted avg       0.67      0.67      0.66      3090\n",
      "\n",
      "Number of Nodes : 1483\n",
      "Depth of Tree : 24\n",
      "Number of Leaves : 742\n",
      "Accuracy of Model : 66.73139158576052\n"
     ]
    }
   ],
   "source": [
    "#Print Confusion matrix and other important results\n",
    "print(\"Confusion Matrix\")\n",
    "print(conf_matrix_J48_withTestData)\n",
    "print(\"\\n\")\n",
    "print(classification_report_J48_withTestData)\n",
    "\n",
    "print(\"Number of Nodes : \" + str(n_nodes_J48_withTestData))\n",
    "print(\"Depth of Tree : \" + str(depth_J48_withTestData))\n",
    "print(\"Number of Leaves : \" + str(num_Leaves_J48_withTestData))\n",
    "print(\"Accuracy of Model : \" + str(accuracy_J48_withTestData))"
   ]
  },
  {
   "cell_type": "markdown",
   "metadata": {},
   "source": [
    "<hr>\n",
    "<h4>Part 3 - 4000 into the test cases <h4>"
   ]
  },
  {
   "cell_type": "markdown",
   "metadata": {},
   "source": [
    "Goal : Run decision tree classifier on a reduced training set, but increased training set."
   ]
  },
  {
   "cell_type": "code",
   "execution_count": 187,
   "metadata": {},
   "outputs": [],
   "source": [
    "#define the model to be used \n",
    "J48_4000Split = DecisionTreeClassifier()\n",
    "\n",
    "#fit this model using the test data\n",
    "J48_4000Split.fit(X_train_4000Split, y_train_4000Split)\n",
    "\n",
    "#test this model on the seperated data\n",
    "y_pred_J48_4000Split = J48_4000Split.predict(X_test_4000Split)\n",
    "\n",
    "#generate confusion matrix\n",
    "conf_matrix_J48_4000Split = confusion_matrix(y_test_4000Split, y_pred_J48_4000Split)\n",
    "\n",
    "#generate classification report\n",
    "classification_report_J48_4000Split = classification_report(y_test_4000Split, y_pred_J48_4000Split)\n",
    "\n",
    "#Tree topology metrics\n",
    "n_nodes_J48_4000Split = J48_4000Split.tree_.node_count\n",
    "depth_J48_4000Split = J48_4000Split.get_depth()\n",
    "num_Leaves_J48_4000Split = J48_4000Split.get_n_leaves()\n",
    "\n",
    "#Find the accuracy of this model based on the test data\n",
    "accuracy_J48_4000Split = accuracy_score(y_test_4000Split, y_pred_J48_4000Split)*100\n",
    "\n",
    "J48_4000Split_data = [n_nodes_J48_4000Split, depth_J48_4000Split, num_Leaves_J48_4000Split, accuracy_J48_4000Split]"
   ]
  },
  {
   "cell_type": "code",
   "execution_count": 188,
   "metadata": {},
   "outputs": [
    {
     "name": "stdout",
     "output_type": "stream",
     "text": [
      "Confusion Matrix\n",
      "[[ 208   18    8   17   30   11   18   23   26    4]\n",
      " [   1   72   15    5    2    3    2   31    7    1]\n",
      " [   4   11 1142    5  115    7    6   54   73   29]\n",
      " [  18    6    2  120   12    6    7    6   30    5]\n",
      " [   6    4  127   10 1283   15    2   36  141   24]\n",
      " [   6    5   13    4   25   83    5    5    3   16]\n",
      " [  20   10    7    7   10    4  155   14    9    5]\n",
      " [   9    8   23   16   80    4   26  770  118   11]\n",
      " [  13   11   91   10  172    6    5   87 1262    6]\n",
      " [   0    3   15    1   45    1    1    2    3   77]]\n",
      "\n",
      "\n",
      "              precision    recall  f1-score   support\n",
      "\n",
      "       eight       0.73      0.57      0.64       363\n",
      "        five       0.49      0.52      0.50       139\n",
      "        four       0.79      0.79      0.79      1446\n",
      "        nine       0.62      0.57      0.59       212\n",
      "         one       0.72      0.78      0.75      1648\n",
      "       seven       0.59      0.50      0.54       165\n",
      "         six       0.68      0.64      0.66       241\n",
      "       three       0.75      0.72      0.74      1065\n",
      "         two       0.75      0.76      0.76      1663\n",
      "        zero       0.43      0.52      0.47       148\n",
      "\n",
      "    accuracy                           0.73      7090\n",
      "   macro avg       0.66      0.64      0.64      7090\n",
      "weighted avg       0.73      0.73      0.73      7090\n",
      "\n",
      "Number of Nodes : 1155\n",
      "Depth of Tree : 21\n",
      "Number of Leaves : 578\n",
      "Accuracy of Model : 72.94781382228491\n"
     ]
    }
   ],
   "source": [
    "#Print Confusion matrix and other important results\n",
    "print(\"Confusion Matrix\")\n",
    "print(conf_matrix_J48_4000Split)\n",
    "print(\"\\n\")\n",
    "print(classification_report_J48_4000Split)\n",
    "\n",
    "print(\"Number of Nodes : \" + str(n_nodes_J48_4000Split))\n",
    "print(\"Depth of Tree : \" + str(depth_J48_4000Split))\n",
    "print(\"Number of Leaves : \" + str(num_Leaves_J48_4000Split))\n",
    "print(\"Accuracy of Model : \" + str(accuracy_J48_4000Split))"
   ]
  },
  {
   "cell_type": "markdown",
   "metadata": {},
   "source": [
    "<hr>\n",
    "<h4>Part 4 - 9000 into the test cases <h4>"
   ]
  },
  {
   "cell_type": "markdown",
   "metadata": {},
   "source": [
    "Goal : Run decision tree classifier on a reduced training set, but increased training set"
   ]
  },
  {
   "cell_type": "code",
   "execution_count": 189,
   "metadata": {},
   "outputs": [],
   "source": [
    "#define the model to be used \n",
    "J48_9000Split = DecisionTreeClassifier()\n",
    "\n",
    "#fit this model using the test data\n",
    "J48_9000Split.fit(X_train_9000Split, y_train_9000Split)\n",
    "\n",
    "#test this model on the seperated data\n",
    "y_pred_J48_9000Split = J48_9000Split.predict(X_test_9000Split)\n",
    "\n",
    "#generate confusion matrix\n",
    "conf_matrix_J48_9000Split = confusion_matrix(y_test_9000Split, y_pred_J48_9000Split)\n",
    "\n",
    "#generate classification report\n",
    "classification_report_J48_9000Split = classification_report(y_test_9000Split, y_pred_J48_9000Split)\n",
    "\n",
    "#Tree topology metrics\n",
    "n_nodes_J48_9000Split = J48_9000Split.tree_.node_count\n",
    "depth_J48_9000Split = J48_9000Split.get_depth()\n",
    "num_Leaves_J48_9000Split = J48_9000Split.get_n_leaves()\n",
    "\n",
    "#Find the accuracy of this model based on the test data\n",
    "accuracy_J48_9000Split = accuracy_score(y_test_9000Split, y_pred_J48_9000Split)*100\n",
    "\n",
    "J48_9000Split_data = [n_nodes_J48_9000Split, depth_J48_9000Split, num_Leaves_J48_9000Split, accuracy_J48_9000Split]"
   ]
  },
  {
   "cell_type": "code",
   "execution_count": 190,
   "metadata": {},
   "outputs": [
    {
     "name": "stdout",
     "output_type": "stream",
     "text": [
      "Confusion Matrix\n",
      "[[188  15  24  21  19   4  31  22  27  12]\n",
      " [ 16  54  18   7   0   1   4  31   6   2]\n",
      " [ 43  21 964  18 224   4  28  36  78  30]\n",
      " [ 49   7   6  87   6   4  17  13   8  15]\n",
      " [ 33  25 172  31 981  14  18  40 267  67]\n",
      " [ 15   2  24  16  10  39   6   4  46   3]\n",
      " [ 52   1   8   6  11   2  98  39  22   2]\n",
      " [ 36  22  46  19  84  11  72 559 190  26]\n",
      " [ 79  21 176  17 230   4  20 126 962  28]\n",
      " [  3   0  38   6  44   1  11   6  14  25]]\n",
      "\n",
      "\n",
      "              precision    recall  f1-score   support\n",
      "\n",
      "       eight       0.37      0.52      0.43       363\n",
      "        five       0.32      0.39      0.35       139\n",
      "        four       0.65      0.67      0.66      1446\n",
      "        nine       0.38      0.41      0.40       212\n",
      "         one       0.61      0.60      0.60      1648\n",
      "       seven       0.46      0.24      0.31       165\n",
      "         six       0.32      0.41      0.36       241\n",
      "       three       0.64      0.52      0.58      1065\n",
      "         two       0.59      0.58      0.59      1663\n",
      "        zero       0.12      0.17      0.14       148\n",
      "\n",
      "    accuracy                           0.56      7090\n",
      "   macro avg       0.45      0.45      0.44      7090\n",
      "weighted avg       0.57      0.56      0.56      7090\n",
      "\n",
      "Number of Nodes : 231\n",
      "Depth of Tree : 14\n",
      "Number of Leaves : 116\n",
      "Accuracy of Model : 55.811001410437235\n"
     ]
    }
   ],
   "source": [
    "#Print Confusion matrix and other important results\n",
    "print(\"Confusion Matrix\")\n",
    "print(conf_matrix_J48_9000Split)\n",
    "print(\"\\n\")\n",
    "print(classification_report_J48_9000Split)\n",
    "\n",
    "print(\"Number of Nodes : \" + str(n_nodes_J48_9000Split))\n",
    "print(\"Depth of Tree : \" + str(depth_J48_9000Split))\n",
    "print(\"Number of Leaves : \" + str(num_Leaves_J48_9000Split))\n",
    "print(\"Accuracy of Model : \" + str(accuracy_J48_9000Split))"
   ]
  },
  {
   "cell_type": "markdown",
   "metadata": {},
   "source": [
    "<h4> Generate Table to Explore Results <h4>"
   ]
  },
  {
   "cell_type": "code",
   "execution_count": 196,
   "metadata": {},
   "outputs": [
    {
     "data": {
      "text/html": [
       "<div>\n",
       "<style scoped>\n",
       "    .dataframe tbody tr th:only-of-type {\n",
       "        vertical-align: middle;\n",
       "    }\n",
       "\n",
       "    .dataframe tbody tr th {\n",
       "        vertical-align: top;\n",
       "    }\n",
       "\n",
       "    .dataframe thead th {\n",
       "        text-align: right;\n",
       "    }\n",
       "</style>\n",
       "<table border=\"1\" class=\"dataframe\">\n",
       "  <thead>\n",
       "    <tr style=\"text-align: right;\">\n",
       "      <th></th>\n",
       "      <th>Number of Nodes</th>\n",
       "      <th>Depth of Tree</th>\n",
       "      <th>Number of Leaves</th>\n",
       "      <th>Accuracy</th>\n",
       "    </tr>\n",
       "  </thead>\n",
       "  <tbody>\n",
       "    <tr>\n",
       "      <th>Cross Validation</th>\n",
       "      <td>1483</td>\n",
       "      <td>24</td>\n",
       "      <td>742</td>\n",
       "      <td>83.085655</td>\n",
       "    </tr>\n",
       "    <tr>\n",
       "      <th>Test Data</th>\n",
       "      <td>1483</td>\n",
       "      <td>24</td>\n",
       "      <td>742</td>\n",
       "      <td>66.731392</td>\n",
       "    </tr>\n",
       "    <tr>\n",
       "      <th>4000 Split</th>\n",
       "      <td>1155</td>\n",
       "      <td>21</td>\n",
       "      <td>578</td>\n",
       "      <td>72.947814</td>\n",
       "    </tr>\n",
       "    <tr>\n",
       "      <th>9000 Split</th>\n",
       "      <td>231</td>\n",
       "      <td>14</td>\n",
       "      <td>116</td>\n",
       "      <td>55.811001</td>\n",
       "    </tr>\n",
       "  </tbody>\n",
       "</table>\n",
       "</div>"
      ],
      "text/plain": [
       "                  Number of Nodes  Depth of Tree  Number of Leaves   Accuracy\n",
       "Cross Validation             1483             24               742  83.085655\n",
       "Test Data                    1483             24               742  66.731392\n",
       "4000 Split                   1155             21               578  72.947814\n",
       "9000 Split                    231             14               116  55.811001"
      ]
     },
     "execution_count": 196,
     "metadata": {},
     "output_type": "execute_result"
    }
   ],
   "source": [
    "infoFrames = [J48_crossVal_data, J48_withTestData_data, J48_4000Split_data, J48_9000Split_data]\n",
    "\n",
    "J48_Table = pd.DataFrame(infoFrames, columns=[\"Number of Nodes\", \"Depth of Tree\", \"Number of Leaves\", \"Accuracy\" ], index=['Cross Validation','Test Data','4000 Split','9000 Split'])\n",
    "\n",
    "J48_table"
   ]
  },
  {
   "cell_type": "markdown",
   "metadata": {},
   "source": [
    "<h3> J48 Parameter Exploration <h3>\n",
    "\n",
    "<hr>\n"
   ]
  },
  {
   "cell_type": "markdown",
   "metadata": {},
   "source": [
    "    \n",
    "Goal : To understand how binary splits or multiple branching, pruning,\n",
    "confidence threshold for pruning, and the minimal number of instances permissible per leaf."
   ]
  },
  {
   "cell_type": "markdown",
   "metadata": {},
   "source": [
    "<h4> binary splits or multiple branching <h4> "
   ]
  },
  {
   "cell_type": "markdown",
   "metadata": {},
   "source": [
    "Editing this with the DecisionTreeClassifier is not possible, thus we must hypothesize on its effects."
   ]
  },
  {
   "cell_type": "markdown",
   "metadata": {},
   "source": [
    "<h4>Pruning <h4>"
   ]
  },
  {
   "cell_type": "markdown",
   "metadata": {},
   "source": [
    " Information on pruning a decision tree classifier, if it doesnt work open a tab in incognito mode and it will show you the full article. \n",
    " https://medium.com/swlh/post-pruning-decision-trees-using-python-b5d4bcda8e23\n",
    " \n",
    " the below implementation is heavily influenced by the above link."
   ]
  },
  {
   "cell_type": "code",
   "execution_count": 27,
   "metadata": {},
   "outputs": [],
   "source": []
  },
  {
   "cell_type": "code",
   "execution_count": 34,
   "metadata": {},
   "outputs": [],
   "source": [
    "#cost_complexity_pruning_path - implements the pruning process and returns the effective \n",
    "# alphas and respective impurities of the prund tree\n",
    "\n",
    "classifier_J48_TD_Pruned=DecisionTreeClassifier(random_state=1).\\\n",
    "cost_complexity_pruning_path(X_train, y_train)\n",
    "\n",
    "#ccp_alpha is used as a parameter for post pruning - ie pruning the tree after it has 'grown'\n",
    "ccp_alphas, impurities = classifier_J48_TD_Pruned.ccp_alphas, classifier_J48_TD_Pruned.impurities"
   ]
  },
  {
   "cell_type": "code",
   "execution_count": 35,
   "metadata": {},
   "outputs": [
    {
     "data": {
      "text/plain": [
       "Text(0.5, 1.0, 'Total Impurity vs effective alpha for training set')"
      ]
     },
     "execution_count": 35,
     "metadata": {},
     "output_type": "execute_result"
    },
    {
     "data": {
      "image/png": "[encoded data removed]",
      "text/plain": [
       "<Figure size 432x288 with 1 Axes>"
      ]
     },
     "metadata": {
      "needs_background": "light"
     },
     "output_type": "display_data"
    }
   ],
   "source": [
    "#Plotting the alphas vs impurities(except the last alpha corresponding to root node):\n",
    "\n",
    "fig, ax = plt.subplots()\n",
    "ax.plot(ccp_alphas[:-1], impurities[:-1], marker='o', drawstyle=\"steps-post\")\n",
    "ax.set_xlabel(\"effective alpha\")\n",
    "ax.set_ylabel(\"total impurity of leaves\")\n",
    "ax.set_title(\"Total Impurity vs effective alpha for training set\")"
   ]
  },
  {
   "cell_type": "code",
   "execution_count": 44,
   "metadata": {},
   "outputs": [
    {
     "data": {
      "text/plain": [
       "'\\n#build a forest of trees with different values of ccp_alpha values extracted from \\n# cost_complexity_pruning_path in order. The last tree will be the root node.\\n\\nclfs = []\\nfor ccp_alpha in ccp_alphas:\\n    clf = DecisionTreeClassifier(random_state=1,ccp_alpha=ccp_alpha)\\n    clf.fit(X_train, y_train)\\n    clfs.append(clf)\\n\\nprint(\"Number of nodes in the last tree is: {} with ccp_alpha: {} and a depth of: {}\".format(\\nclfs[-1].tree_.node_count, ccp_alphas[-1],clfs[-1].tree_.max_depth))\\n\\n#Remove the last tree in the list as it is a single noded tree with a depth of 0, thus we can remove. \\n\\nclfs = clfs[:-1]\\nccp_alphas = ccp_alphas[:-1]\\n\\n# plot how different values of ccp_alpha effects the number of nodes and depth of the corresponding pruned trees\\n\\nnode_counts = [clf.tree_.node_count for clf in clfs]\\ndepth = [clf.tree_.max_depth for clf in clfs]\\nfig, ax = plt.subplots(2, 1)\\nax[0].plot(ccp_alphas, node_counts, marker=\\'o\\', drawstyle=\"steps-post\")\\nax[0].set_xlabel(\"alpha\")\\nax[0].set_ylabel(\"number of nodes\")\\nax[0].set_title(\"Number of nodes vs alpha\")\\nax[1].plot(ccp_alphas, depth, marker=\\'o\\', drawstyle=\"steps-post\")\\nax[1].set_xlabel(\"alpha\")\\nax[1].set_ylabel(\"depth of tree\")\\nax[1].set_title(\"Depth vs alpha\")\\nfig.tight_layout()\\n\\n#plot the accuracy vs alpha for training and test \\n\\ntrain_scores = [clf.score(X_train, y_train) for clf in clfs]\\ntest_scores = [clf.score(X_test, y_test) for clf in clfs]\\nfig, ax = plt.subplots()\\nax.set_xlabel(\"alpha\")\\nax.set_ylabel(\"accuracy\")\\nax.set_title(\"Accuracy vs alpha for training and testing sets\")\\nax.plot(ccp_alphas, train_scores, marker=\\'o\\', label=\"train\",\\n        drawstyle=\"steps-post\")\\nax.plot(ccp_alphas, test_scores, marker=\\'o\\', label=\"test\",\\n        drawstyle=\"steps-post\")\\nax.legend()\\nplt.show()\\n\\n\\nindex_best_model = np.argmax(test_scores)\\nbest_model = clfs[index_best_model]\\nprint(\\'Training accuracy of best model: \\',best_model.score(X_train, y_train))\\nprint(\\'Test accuracy of best model: \\',best_model.score(X_test, y_test))\\n'"
      ]
     },
     "execution_count": 44,
     "metadata": {},
     "output_type": "execute_result"
    }
   ],
   "source": [
    "\n",
    "#the below codeis disabled as it takes over 4 hours to run, running DecisionTreeClassifer over 661 instances.\n",
    "# In short, it runs decision tree classifeirs over trees pruned with increasing alphas, then saves these results to a \n",
    "# list and graphs the resulting accuracies. This allows for observation of the best ccp_alpha value to use for \n",
    "# this model. \n",
    "'''\n",
    "#build a forest of trees with different values of ccp_alpha values extracted from \n",
    "# cost_complexity_pruning_path in order. The last tree will be the root node.\n",
    "\n",
    "clfs = []\n",
    "for ccp_alpha in ccp_alphas:\n",
    "    clf = DecisionTreeClassifier(random_state=1,ccp_alpha=ccp_alpha)\n",
    "    clf.fit(X_train, y_train)\n",
    "    clfs.append(clf)\n",
    "\n",
    "print(\"Number of nodes in the last tree is: {} with ccp_alpha: {} and a depth of: {}\".format(\n",
    "clfs[-1].tree_.node_count, ccp_alphas[-1],clfs[-1].tree_.max_depth))\n",
    "\n",
    "#Remove the last tree in the list as it is a single noded tree with a depth of 0, thus we can remove. \n",
    "\n",
    "clfs = clfs[:-1]\n",
    "ccp_alphas = ccp_alphas[:-1]\n",
    "\n",
    "# plot how different values of ccp_alpha effects the number of nodes and depth of the corresponding pruned trees\n",
    "\n",
    "node_counts = [clf.tree_.node_count for clf in clfs]\n",
    "depth = [clf.tree_.max_depth for clf in clfs]\n",
    "fig, ax = plt.subplots(2, 1)\n",
    "ax[0].plot(ccp_alphas, node_counts, marker='o', drawstyle=\"steps-post\")\n",
    "ax[0].set_xlabel(\"alpha\")\n",
    "ax[0].set_ylabel(\"number of nodes\")\n",
    "ax[0].set_title(\"Number of nodes vs alpha\")\n",
    "ax[1].plot(ccp_alphas, depth, marker='o', drawstyle=\"steps-post\")\n",
    "ax[1].set_xlabel(\"alpha\")\n",
    "ax[1].set_ylabel(\"depth of tree\")\n",
    "ax[1].set_title(\"Depth vs alpha\")\n",
    "fig.tight_layout()\n",
    "\n",
    "#plot the accuracy vs alpha for training and test \n",
    "\n",
    "train_scores = [clf.score(X_train, y_train) for clf in clfs]\n",
    "test_scores = [clf.score(X_test, y_test) for clf in clfs]\n",
    "fig, ax = plt.subplots()\n",
    "ax.set_xlabel(\"alpha\")\n",
    "ax.set_ylabel(\"accuracy\")\n",
    "ax.set_title(\"Accuracy vs alpha for training and testing sets\")\n",
    "ax.plot(ccp_alphas, train_scores, marker='o', label=\"train\",\n",
    "        drawstyle=\"steps-post\")\n",
    "ax.plot(ccp_alphas, test_scores, marker='o', label=\"test\",\n",
    "        drawstyle=\"steps-post\")\n",
    "ax.legend()\n",
    "plt.show()\n",
    "\n",
    "\n",
    "index_best_model = np.argmax(test_scores)\n",
    "best_model = clfs[index_best_model]\n",
    "print('Training accuracy of best model: ',best_model.score(X_train, y_train))\n",
    "print('Test accuracy of best model: ',best_model.score(X_test, y_test))\n",
    "\n",
    "#turn the above dictionary into a dataframe then save it to a file \n",
    "#alphaData = pd.DataFrame(clfs)\n",
    "#alphaData.to_csv('alphaData.csv')\n",
    "'''"
   ]
  },
  {
   "cell_type": "code",
   "execution_count": 39,
   "metadata": {},
   "outputs": [
    {
     "name": "stdout",
     "output_type": "stream",
     "text": [
      "Number of nodes in the last tree is: 1 with ccp_alpha: 0.045092230390203936 and a depth of: 0\n"
     ]
    }
   ],
   "source": []
  },
  {
   "cell_type": "code",
   "execution_count": 41,
   "metadata": {},
   "outputs": [
    {
     "data": {
      "image/png": "[encoded data removed]",
      "text/plain": [
       "<Figure size 432x288 with 2 Axes>"
      ]
     },
     "metadata": {
      "needs_background": "light"
     },
     "output_type": "display_data"
    }
   ],
   "source": []
  },
  {
   "cell_type": "code",
   "execution_count": 42,
   "metadata": {},
   "outputs": [
    {
     "data": {
      "image/png": "[encoded data removed]",
      "text/plain": [
       "<Figure size 432x288 with 1 Axes>"
      ]
     },
     "metadata": {
      "needs_background": "light"
     },
     "output_type": "display_data"
    }
   ],
   "source": []
  },
  {
   "cell_type": "code",
   "execution_count": 43,
   "metadata": {},
   "outputs": [
    {
     "name": "stdout",
     "output_type": "stream",
     "text": [
      "Training accuracy of best model:  0.930546955624355\n",
      "Test accuracy of best model:  0.6838187702265373\n"
     ]
    }
   ],
   "source": []
  },
  {
   "cell_type": "markdown",
   "metadata": {},
   "source": [
    "Conclusions from above : approx 0.1 is the most effective value of cc_alpha on the test set. Pruning only reduces the accuracy of the model ran on its training data. "
   ]
  },
  {
   "cell_type": "code",
   "execution_count": 64,
   "metadata": {},
   "outputs": [],
   "source": [
    "pruned_DTC = DecisionTreeClassifier(random_state=1,ccp_alpha= 0.001)\n",
    "pruned_DTC.fit(X_train, y_train)\n",
    "\n",
    "#test this model on the seperated data\n",
    "y_pred_pruned_DTC = pruned_DTC.predict(X_test)\n",
    "\n",
    "#Find the accuracy of this model based on the test data\n",
    "accuracy_pruned_DTC = accuracy_score(y_test, y_pred_pruned_DTC)*100"
   ]
  },
  {
   "cell_type": "code",
   "execution_count": 27,
   "metadata": {},
   "outputs": [
    {
     "data": {
      "image/png": "[encoded data removed]",
      "text/plain": [
       "<Figure size 432x288 with 1 Axes>"
      ]
     },
     "metadata": {
      "needs_background": "light"
     },
     "output_type": "display_data"
    }
   ],
   "source": [
    "plot_tree(pruned_DTC);"
   ]
  },
  {
   "cell_type": "code",
   "execution_count": 28,
   "metadata": {},
   "outputs": [
    {
     "ename": "AttributeError",
     "evalue": "'numpy.ndarray' object has no attribute 'columns'",
     "output_type": "error",
     "traceback": [
      "\u001b[0;31m---------------------------------------------------------------------------\u001b[0m",
      "\u001b[0;31mAttributeError\u001b[0m                            Traceback (most recent call last)",
      "\u001b[0;32m<ipython-input-28-a4ca52b31a67>\u001b[0m in \u001b[0;36m<module>\u001b[0;34m\u001b[0m\n\u001b[1;32m      2\u001b[0m             \u001b[0mpruned_DTC\u001b[0m\u001b[0;34m,\u001b[0m\u001b[0;34m\u001b[0m\u001b[0;34m\u001b[0m\u001b[0m\n\u001b[1;32m      3\u001b[0m             \u001b[0mout_file\u001b[0m \u001b[0;34m=\u001b[0m  \u001b[0;34m\"myTreeName.dot\"\u001b[0m\u001b[0;34m,\u001b[0m\u001b[0;34m\u001b[0m\u001b[0;34m\u001b[0m\u001b[0m\n\u001b[0;32m----> 4\u001b[0;31m             \u001b[0mfeature_names\u001b[0m \u001b[0;34m=\u001b[0m \u001b[0mlist\u001b[0m\u001b[0;34m(\u001b[0m\u001b[0mX_train\u001b[0m\u001b[0;34m.\u001b[0m\u001b[0mcolumns\u001b[0m\u001b[0;34m)\u001b[0m\u001b[0;34m,\u001b[0m\u001b[0;34m\u001b[0m\u001b[0;34m\u001b[0m\u001b[0m\n\u001b[0m\u001b[1;32m      5\u001b[0m             \u001b[0mclass_names\u001b[0m \u001b[0;34m=\u001b[0m \u001b[0;34m\"Class\"\u001b[0m\u001b[0;34m,\u001b[0m\u001b[0;34m\u001b[0m\u001b[0;34m\u001b[0m\u001b[0m\n\u001b[1;32m      6\u001b[0m             \u001b[0mfilled\u001b[0m \u001b[0;34m=\u001b[0m \u001b[0;32mTrue\u001b[0m\u001b[0;34m,\u001b[0m\u001b[0;34m\u001b[0m\u001b[0;34m\u001b[0m\u001b[0m\n",
      "\u001b[0;31mAttributeError\u001b[0m: 'numpy.ndarray' object has no attribute 'columns'"
     ]
    }
   ],
   "source": [
    "export_graphviz(\n",
    "            pruned_DTC,\n",
    "            out_file =  \"myTreeName.dot\",\n",
    "            feature_names = list(X_train.columns),\n",
    "            class_names = \"Class\",\n",
    "            filled = True,\n",
    "            rounded = True)"
   ]
  },
  {
   "cell_type": "code",
   "execution_count": 136,
   "metadata": {},
   "outputs": [],
   "source": [
    "# Using those arrays, we can parse the tree structure:\n",
    "\n",
    "n_nodes_Pruned_DTC = pruned_DTC.tree_.node_count\n",
    "depth_Pruned_DTC = pruned_DTC.get_depth()\n",
    "num_Leaves_DTC = pruned_DTC.get_n_leaves()\n",
    "\n",
    "\n",
    "#other information availible :\n",
    "#children_left_Pruned_DTC = pruned_DTC.tree_.children_left\n",
    "#children_right_Pruned_DTC = pruned_DTC.tree_.children_right\n",
    "#feature_Pruned_DTC = pruned_DTC.tree_.feature\n",
    "#threshold_Pruned_DTC = pruned_DTC.tree_.threshold\n",
    "\n",
    "pruned_DTC_data = [[n_nodes_Pruned_DTC, depth_Pruned_DTC, num_Leaves_DTC, accuracy_pruned_DTC]]\n",
    "treeDataFrame_pruned_DTC = pd.DataFrame(pruned_DTC_data, columns=[\"Number of Nodes\", \"Depth of Tree\", \"Number of Leaves\", \"Accuracy\" ], index=['Pruned_DTC'])\n"
   ]
  },
  {
   "cell_type": "code",
   "execution_count": 139,
   "metadata": {},
   "outputs": [
    {
     "data": {
      "text/html": [
       "<div>\n",
       "<style scoped>\n",
       "    .dataframe tbody tr th:only-of-type {\n",
       "        vertical-align: middle;\n",
       "    }\n",
       "\n",
       "    .dataframe tbody tr th {\n",
       "        vertical-align: top;\n",
       "    }\n",
       "\n",
       "    .dataframe thead th {\n",
       "        text-align: right;\n",
       "    }\n",
       "</style>\n",
       "<table border=\"1\" class=\"dataframe\">\n",
       "  <thead>\n",
       "    <tr style=\"text-align: right;\">\n",
       "      <th></th>\n",
       "      <th>Number of Nodes</th>\n",
       "      <th>Depth of Tree</th>\n",
       "      <th>Number of Leaves</th>\n",
       "      <th>Accuracy</th>\n",
       "    </tr>\n",
       "  </thead>\n",
       "  <tbody>\n",
       "    <tr>\n",
       "      <th>Pruned_DTC</th>\n",
       "      <td>313</td>\n",
       "      <td>14</td>\n",
       "      <td>157</td>\n",
       "      <td>66.148867</td>\n",
       "    </tr>\n",
       "  </tbody>\n",
       "</table>\n",
       "</div>"
      ],
      "text/plain": [
       "           Number of Nodes Depth of Tree Number of Leaves   Accuracy\n",
       "Pruned_DTC             313            14              157  66.148867"
      ]
     },
     "execution_count": 139,
     "metadata": {},
     "output_type": "execute_result"
    }
   ],
   "source": []
  },
  {
   "cell_type": "markdown",
   "metadata": {},
   "source": [
    "<h4> confidence threshold for pruning <h4>"
   ]
  },
  {
   "cell_type": "code",
   "execution_count": 140,
   "metadata": {},
   "outputs": [
    {
     "data": {
      "text/html": [
       "<div>\n",
       "<style scoped>\n",
       "    .dataframe tbody tr th:only-of-type {\n",
       "        vertical-align: middle;\n",
       "    }\n",
       "\n",
       "    .dataframe tbody tr th {\n",
       "        vertical-align: top;\n",
       "    }\n",
       "\n",
       "    .dataframe thead th {\n",
       "        text-align: right;\n",
       "    }\n",
       "</style>\n",
       "<table border=\"1\" class=\"dataframe\">\n",
       "  <thead>\n",
       "    <tr style=\"text-align: right;\">\n",
       "      <th></th>\n",
       "      <th>Number of Nodes</th>\n",
       "      <th>Depth of Tree</th>\n",
       "      <th>Number of Leaves</th>\n",
       "      <th>Accuracy</th>\n",
       "    </tr>\n",
       "  </thead>\n",
       "  <tbody>\n",
       "  </tbody>\n",
       "</table>\n",
       "</div>"
      ],
      "text/plain": [
       "Empty DataFrame\n",
       "Columns: [Number of Nodes, Depth of Tree, Number of Leaves, Accuracy]\n",
       "Index: []"
      ]
     },
     "execution_count": 140,
     "metadata": {},
     "output_type": "execute_result"
    }
   ],
   "source": []
  },
  {
   "cell_type": "code",
   "execution_count": null,
   "metadata": {},
   "outputs": [],
   "source": []
  },
  {
   "cell_type": "code",
   "execution_count": null,
   "metadata": {},
   "outputs": [],
   "source": []
  },
  {
   "cell_type": "code",
   "execution_count": null,
   "metadata": {},
   "outputs": [],
   "source": []
  },
  {
   "cell_type": "code",
   "execution_count": null,
   "metadata": {},
   "outputs": [],
   "source": []
  },
  {
   "cell_type": "code",
   "execution_count": null,
   "metadata": {},
   "outputs": [],
   "source": []
  },
  {
   "cell_type": "code",
   "execution_count": null,
   "metadata": {},
   "outputs": [],
   "source": []
  },
  {
   "cell_type": "markdown",
   "metadata": {},
   "source": [
    "<h4> minimal number of instances permissible per leaf <h4>"
   ]
  },
  {
   "cell_type": "code",
   "execution_count": null,
   "metadata": {},
   "outputs": [],
   "source": []
  },
  {
   "cell_type": "code",
   "execution_count": null,
   "metadata": {},
   "outputs": [],
   "source": []
  },
  {
   "cell_type": "code",
   "execution_count": null,
   "metadata": {},
   "outputs": [],
   "source": []
  },
  {
   "cell_type": "code",
   "execution_count": null,
   "metadata": {},
   "outputs": [],
   "source": []
  },
  {
   "cell_type": "code",
   "execution_count": null,
   "metadata": {},
   "outputs": [],
   "source": []
  },
  {
   "cell_type": "code",
   "execution_count": null,
   "metadata": {},
   "outputs": [],
   "source": []
  },
  {
   "cell_type": "code",
   "execution_count": null,
   "metadata": {},
   "outputs": [],
   "source": []
  },
  {
   "cell_type": "code",
   "execution_count": null,
   "metadata": {},
   "outputs": [],
   "source": []
  },
  {
   "cell_type": "markdown",
   "metadata": {},
   "source": [
    "<hr>\n",
    "<h2> Alternative Tree - Random Forest <h2> \n",
    "    \n",
    "  "
   ]
  },
  {
   "cell_type": "markdown",
   "metadata": {},
   "source": [
    "adapted from https://scikit-learn.org/stable/modules/generated/sklearn.ensemble.RandomForestClassifier.html"
   ]
  },
  {
   "cell_type": "code",
   "execution_count": 23,
   "metadata": {},
   "outputs": [],
   "source": [
    "#imports for Random Forest\n",
    "import os\n",
    "import numpy as np\n",
    "import pandas as pd\n",
    "import matplotlib.pyplot as plt\n",
    "from sklearn.utils import shuffle\n",
    "\n",
    "from sklearn.metrics import roc_auc_score\n",
    "from sklearn.metrics import confusion_matrix\n",
    "import seaborn as sns\n",
    "from sklearn.metrics import classification_report\n",
    "from sklearn.model_selection import cross_val_score\n",
    "from sklearn.model_selection import cross_val_predict\n",
    "from sklearn.metrics import roc_auc_score\n",
    "\n",
    "from sklearn.ensemble import RandomForestClassifier"
   ]
  },
  {
   "cell_type": "markdown",
   "metadata": {},
   "source": [
    "<hr>\n",
    "<h4> Cross Validation <h4>"
   ]
  },
  {
   "cell_type": "markdown",
   "metadata": {},
   "source": [
    "Goal : Run cross a random forest classifier with 10 fold cross validation then output metrics"
   ]
  },
  {
   "cell_type": "code",
   "execution_count": 363,
   "metadata": {},
   "outputs": [],
   "source": [
    "#create a Gaussian Classifier - random forest\n",
    "randomForest_crossVal = RandomForestClassifier(n_estimators = 100)\n",
    "\n",
    "#train the model using the training set generated \n",
    "randomForest_crossVal.fit(X_train, y_train)\n",
    "\n",
    "\n",
    "#setup cross validation using the above classifier, X_train = data to be classified, y = the labels, CV = number of folds\n",
    "cross_validation_scores_randomForest = cross_val_score(randomForest_crossVal, X_train, y_train, cv=10)\n"
   ]
  },
  {
   "cell_type": "code",
   "execution_count": 364,
   "metadata": {},
   "outputs": [
    {
     "data": {
      "text/plain": [
       "Text(0.5, 1.0, 'Average score: 0.9782249742002064')"
      ]
     },
     "execution_count": 364,
     "metadata": {},
     "output_type": "execute_result"
    },
    {
     "data": {
      "image/png": "[encoded data removed]",
      "text/plain": [
       "<Figure size 432x288 with 1 Axes>"
      ]
     },
     "metadata": {
      "needs_background": "light"
     },
     "output_type": "display_data"
    }
   ],
   "source": [
    "# use seaborn (sns) to plot a graph of the above scores\n",
    "sns.distplot(cross_validation_scores_randomForest)\n",
    "plt.title('Average score: {}'.format(np.mean(cross_validation_scores_randomForest)))"
   ]
  },
  {
   "cell_type": "code",
   "execution_count": 367,
   "metadata": {},
   "outputs": [],
   "source": [
    "#train model with 10 fold validation, \n",
    "#cross_val_predict Get predictions from each split of cross-validation for diagnostic purposes.\n",
    "y_pred_randomForest_crosVal = cross_val_predict(randomForest_crossVal, X_train, y_train, cv=10)\n",
    "\n",
    "#allows for confusion matrix generation\n",
    "conf_matrix_randomForest = confusion_matrix(y_train, y_pred_randomForest_crosVal)\n",
    "classification_report_randomForest = classification_report(y_train, y_pred_randomForest_crosVal)"
   ]
  },
  {
   "cell_type": "code",
   "execution_count": 368,
   "metadata": {},
   "outputs": [
    {
     "name": "stdout",
     "output_type": "stream",
     "text": [
      "Confusion Matrix\n",
      "[[ 529    0    0    2    3    0    3    0    3    0]\n",
      " [   2  198    1    2    1    2    0    0    4    0]\n",
      " [   0    0 1955    0   15    0    0    0   10    0]\n",
      " [   2    0    0  253    9    0    1    3    2    0]\n",
      " [   0    0   17    0 2177    0    0    3   23    0]\n",
      " [   0    0    1    0    0  238    1    0    0    0]\n",
      " [   2    0    3    1    6    0  346    2    0    0]\n",
      " [   0    0    1    0   13    0    0 1371   25    0]\n",
      " [   0    0   10    0   27    0    0    9 2204    0]\n",
      " [   0    0    2    0   21    0    0    0    3  184]]\n",
      "\n",
      "\n",
      "              precision    recall  f1-score   support\n",
      "\n",
      "       eight       0.99      0.98      0.98       540\n",
      "        five       1.00      0.94      0.97       210\n",
      "        four       0.98      0.99      0.98      1980\n",
      "        nine       0.98      0.94      0.96       270\n",
      "         one       0.96      0.98      0.97      2220\n",
      "       seven       0.99      0.99      0.99       240\n",
      "         six       0.99      0.96      0.97       360\n",
      "       three       0.99      0.97      0.98      1410\n",
      "         two       0.97      0.98      0.97      2250\n",
      "        zero       1.00      0.88      0.93       210\n",
      "\n",
      "    accuracy                           0.98      9690\n",
      "   macro avg       0.98      0.96      0.97      9690\n",
      "weighted avg       0.98      0.98      0.98      9690\n",
      "\n"
     ]
    }
   ],
   "source": [
    "#Print Confusion matrix and other important results\n",
    "print(\"Confusion Matrix\")\n",
    "print(conf_matrix_randomForest)\n",
    "\n",
    "print(\"\\n\")\n",
    "print(classification_report_randomForest)\n",
    "#print(roc_auc_score(y, y_pred))"
   ]
  },
  {
   "cell_type": "markdown",
   "metadata": {},
   "source": [
    "<hr>\n",
    "<h4> with Test data <h4> "
   ]
  },
  {
   "cell_type": "markdown",
   "metadata": {},
   "source": [
    "Goal : Run a random forest classifier with test data"
   ]
  },
  {
   "cell_type": "code",
   "execution_count": null,
   "metadata": {},
   "outputs": [],
   "source": [
    "#create a Gaussian Classifier - random forest\n",
    "\n",
    "randomForest_withTestData = RandomForestClassifier(n_estimators = 100)\n",
    "\n",
    "#train the model using the training set generated \n",
    "randomForest_withTestData.fit(X_train, y_train)\n",
    "\n",
    "\n",
    "#test this model on the seperated data\n",
    "y_pred_randomForest_testData = randomForest_withTestData.predict(X_test)\n",
    "\n",
    "\n",
    "#confusion matrix generation\n",
    "conf_matrix_randomForest_withTestData = confusion_matrix(y_test, y_pred_randomForest_testData)\n",
    "\n",
    "#accuracy report\n",
    "classification_report_randomForest_withTestData = classification_report(y_test, y_pred_randomForest_testData)"
   ]
  },
  {
   "cell_type": "code",
   "execution_count": null,
   "metadata": {},
   "outputs": [],
   "source": [
    "print(\"Confusion Matrix\")\n",
    "print(conf_matrix_randomForest_withTestData)\n",
    "print(\"\\n\")\n",
    "print(classification_report_randomForest_withTestData)"
   ]
  },
  {
   "cell_type": "markdown",
   "metadata": {},
   "source": [
    "<hr>\n",
    "<h4> Data Split - 4000<h4> "
   ]
  },
  {
   "cell_type": "markdown",
   "metadata": {},
   "source": [
    "Goal : Run a random forest classifier with 4000 instances moves from the original training data into the test data. "
   ]
  },
  {
   "cell_type": "code",
   "execution_count": null,
   "metadata": {},
   "outputs": [],
   "source": [
    "#create a Gaussian Classifier - random forest\n",
    "\n",
    "randomForest_4000Split = RandomForestClassifier(n_estimators = 100)\n",
    "\n",
    "#train the model using the training set generated \n",
    "randomForest_4000Split.fit(X_train_4000Split, y_train_4000Split)\n",
    "\n",
    "\n",
    "#test this model on the seperated data\n",
    "y_pred_randomForest_4000Split = randomForest_4000Split.predict(X_test_4000Split)\n",
    "\n",
    "\n",
    "#confusion matrix generation\n",
    "conf_matrix_randomForest_4000Split = confusion_matrix(y_test_4000Split, y_pred_randomForest_4000Split)\n",
    "\n",
    "#accuracy report\n",
    "classification_report_randomForest_4000Split = classification_report(y_test_4000Split, y_pred_randomForest_4000Split)"
   ]
  },
  {
   "cell_type": "code",
   "execution_count": null,
   "metadata": {},
   "outputs": [],
   "source": [
    "print(\"Confusion Matrix\")\n",
    "print(conf_matrix_randomForest_4000Split)\n",
    "print(\"\\n\")\n",
    "print(classification_report_randomForest_4000Split)"
   ]
  },
  {
   "cell_type": "markdown",
   "metadata": {},
   "source": [
    "<hr>\n",
    "<h4> Data Split - 9000<h4> "
   ]
  },
  {
   "cell_type": "markdown",
   "metadata": {},
   "source": [
    "Goal : Run a random forest classifier with 9000 instances moves from the original training data into the test data. "
   ]
  },
  {
   "cell_type": "code",
   "execution_count": 24,
   "metadata": {},
   "outputs": [],
   "source": [
    "#create a Gaussian Classifier - random forest\n",
    "\n",
    "randomForest_9000Split = RandomForestClassifier(n_estimators = 100)\n",
    "\n",
    "#train the model using the training set generated \n",
    "randomForest_9000Split.fit(X_train_9000Split, y_train_9000Split)\n",
    "\n",
    "\n",
    "#test this model on the seperated data\n",
    "y_pred_randomForest_9000Split = randomForest_9000Split.predict(X_test_9000Split)\n",
    "\n",
    "\n",
    "#confusion matrix generation\n",
    "conf_matrix_randomForest_9000Split = confusion_matrix(y_test_9000Split, y_pred_randomForest_9000Split)\n",
    "\n",
    "#accuracy report\n",
    "classification_report_randomForest_9000Split = classification_report(y_test_9000Split, y_pred_randomForest_9000Split)"
   ]
  },
  {
   "cell_type": "code",
   "execution_count": 25,
   "metadata": {},
   "outputs": [
    {
     "name": "stdout",
     "output_type": "stream",
     "text": [
      "Confusion Matrix\n",
      "[[ 240    6   16   21   10    0   13   32   25    0]\n",
      " [  26   42   45   15    5    0    0    1    5    0]\n",
      " [   3    0 1118    1  173    0    0   66   85    0]\n",
      " [  37    0    4  124   11    0    7    6   23    0]\n",
      " [   3    0   77    0 1202    0    0   45  321    0]\n",
      " [  19    5   23   27   15   37    6    8   25    0]\n",
      " [  45    4   16   25    7    0  110   23   11    0]\n",
      " [   1    0   96    1   90    0    6  735  136    0]\n",
      " [   5    0  103    0  155    0    0  323 1077    0]\n",
      " [   0    0   23    0   93    0    0    1   13   18]]\n",
      "\n",
      "\n",
      "              precision    recall  f1-score   support\n",
      "\n",
      "       eight       0.63      0.66      0.65       363\n",
      "        five       0.74      0.30      0.43       139\n",
      "        four       0.74      0.77      0.75      1446\n",
      "        nine       0.58      0.58      0.58       212\n",
      "         one       0.68      0.73      0.71      1648\n",
      "       seven       1.00      0.22      0.37       165\n",
      "         six       0.77      0.46      0.57       241\n",
      "       three       0.59      0.69      0.64      1065\n",
      "         two       0.63      0.65      0.64      1663\n",
      "        zero       1.00      0.12      0.22       148\n",
      "\n",
      "    accuracy                           0.66      7090\n",
      "   macro avg       0.74      0.52      0.55      7090\n",
      "weighted avg       0.68      0.66      0.65      7090\n",
      "\n"
     ]
    }
   ],
   "source": [
    "print(\"Confusion Matrix\")\n",
    "print(conf_matrix_randomForest_9000Split)\n",
    "print(\"\\n\")\n",
    "print(classification_report_randomForest_9000Split)"
   ]
  },
  {
   "cell_type": "markdown",
   "metadata": {},
   "source": [
    "<h3> Random Forest Parameter Exploration <h3>\n",
    "\n",
    "<hr>"
   ]
  },
  {
   "cell_type": "markdown",
   "metadata": {},
   "source": [
    "<h4> binary splits or multiple branching <h4> "
   ]
  },
  {
   "cell_type": "markdown",
   "metadata": {},
   "source": [
    "Information on binary splitting with random forests : https://link.springer.com/article/10.1007/s10994-014-5451-2"
   ]
  },
  {
   "cell_type": "code",
   "execution_count": 28,
   "metadata": {},
   "outputs": [
    {
     "name": "stderr",
     "output_type": "stream",
     "text": [
      "/Users/Rob/opt/anaconda3/lib/python3.8/site-packages/sklearn/metrics/_classification.py:1221: UndefinedMetricWarning: Precision and F-score are ill-defined and being set to 0.0 in labels with no predicted samples. Use `zero_division` parameter to control this behavior.\n",
      "  _warn_prf(average, modifier, msg_start, len(result))\n"
     ]
    }
   ],
   "source": [
    "#create a Gaussian Classifier - random forest\n",
    "\n",
    "randomForest_TD_PE1 = RandomForestClassifier(n_estimators = 100, min_samples_split = 1 )\n",
    "\n",
    "#train the model using the training set generated \n",
    "randomForest_TD_PE1.fit(X_train, y_train)\n",
    "\n",
    "\n",
    "#test this model on the seperated data\n",
    "y_pred_randomForest_TD_PE1 = randomForest_TD_PE1.predict(X_test)\n",
    "\n",
    "\n",
    "#confusion matrix generation\n",
    "conf_matrix_randomForest_TD_PE1 = confusion_matrix(y_test, y_pred_randomForest_TD_PE1)\n",
    "\n",
    "#accuracy report\n",
    "classification_report_randomForest_TD_PE1 = classification_report(y_test, y_pred_randomForest_TD_PE1)"
   ]
  },
  {
   "cell_type": "code",
   "execution_count": null,
   "metadata": {},
   "outputs": [],
   "source": []
  },
  {
   "cell_type": "code",
   "execution_count": null,
   "metadata": {},
   "outputs": [],
   "source": []
  },
  {
   "cell_type": "code",
   "execution_count": null,
   "metadata": {},
   "outputs": [],
   "source": []
  },
  {
   "cell_type": "code",
   "execution_count": null,
   "metadata": {},
   "outputs": [],
   "source": []
  },
  {
   "cell_type": "code",
   "execution_count": null,
   "metadata": {},
   "outputs": [],
   "source": []
  },
  {
   "cell_type": "markdown",
   "metadata": {},
   "source": [
    "<h4>Pruning <h4>"
   ]
  },
  {
   "cell_type": "markdown",
   "metadata": {},
   "source": [
    "Pruning Info - https://scikit-learn.org/0.22/auto_examples/tree/plot_cost_complexity_pruning.html"
   ]
  },
  {
   "cell_type": "code",
   "execution_count": null,
   "metadata": {},
   "outputs": [],
   "source": []
  },
  {
   "cell_type": "code",
   "execution_count": null,
   "metadata": {},
   "outputs": [],
   "source": []
  },
  {
   "cell_type": "code",
   "execution_count": null,
   "metadata": {},
   "outputs": [],
   "source": []
  },
  {
   "cell_type": "code",
   "execution_count": null,
   "metadata": {},
   "outputs": [],
   "source": []
  },
  {
   "cell_type": "code",
   "execution_count": null,
   "metadata": {},
   "outputs": [],
   "source": []
  },
  {
   "cell_type": "code",
   "execution_count": null,
   "metadata": {},
   "outputs": [],
   "source": []
  },
  {
   "cell_type": "markdown",
   "metadata": {},
   "source": [
    "<h4> confidence threshold for pruning <h4>"
   ]
  },
  {
   "cell_type": "code",
   "execution_count": null,
   "metadata": {},
   "outputs": [],
   "source": []
  },
  {
   "cell_type": "code",
   "execution_count": null,
   "metadata": {},
   "outputs": [],
   "source": []
  },
  {
   "cell_type": "code",
   "execution_count": null,
   "metadata": {},
   "outputs": [],
   "source": []
  },
  {
   "cell_type": "code",
   "execution_count": null,
   "metadata": {},
   "outputs": [],
   "source": []
  },
  {
   "cell_type": "code",
   "execution_count": null,
   "metadata": {},
   "outputs": [],
   "source": []
  },
  {
   "cell_type": "code",
   "execution_count": null,
   "metadata": {},
   "outputs": [],
   "source": []
  },
  {
   "cell_type": "code",
   "execution_count": null,
   "metadata": {},
   "outputs": [],
   "source": []
  },
  {
   "cell_type": "markdown",
   "metadata": {},
   "source": [
    "<h4> minimal number of instances permissible per leaf <h4>"
   ]
  },
  {
   "cell_type": "code",
   "execution_count": null,
   "metadata": {},
   "outputs": [],
   "source": []
  },
  {
   "cell_type": "code",
   "execution_count": null,
   "metadata": {},
   "outputs": [],
   "source": []
  },
  {
   "cell_type": "code",
   "execution_count": null,
   "metadata": {},
   "outputs": [],
   "source": []
  },
  {
   "cell_type": "code",
   "execution_count": null,
   "metadata": {},
   "outputs": [],
   "source": []
  },
  {
   "cell_type": "markdown",
   "metadata": {},
   "source": [
    "<h2> Neural Networks <h2>\n",
    "   <hr>"
   ]
  },
  {
   "cell_type": "markdown",
   "metadata": {},
   "source": [
    "<h2> Linear Classifier - Support Vector Classification <h2>"
   ]
  },
  {
   "cell_type": "markdown",
   "metadata": {},
   "source": [
    "Adapted from https://scikit-learn.org/stable/modules/generated/sklearn.svm.SVC.html#sklearn.svm.SVC\n",
    "\n",
    "Benefits - High accuracy compard to other decision tree methods thanks to a kernel trick, which allows it to handle non linear input spaces.\n",
    "\n",
    "SVC - The classifier separates data points using a hyperplane with the largest amount of margin.\n",
    "\n",
    "Further info here :\n",
    "https://www.datacamp.com/community/tutorials/svm-classification-scikit-learn-python"
   ]
  },
  {
   "cell_type": "code",
   "execution_count": null,
   "metadata": {},
   "outputs": [],
   "source": [
    "# Setup SVC\n",
    "\n",
    "from sklearn.svm import SVC"
   ]
  },
  {
   "cell_type": "code",
   "execution_count": null,
   "metadata": {},
   "outputs": [],
   "source": [
    "#Create a svm Classifier\n",
    "svmClassifier_withTestData = SVC(kernel='linear') # Linear Kernel\n",
    "\n",
    "#Train the model using the training sets\n",
    "svmClassifier_withTestData.fit(X_train, y_train)\n",
    "\n",
    "\n",
    "#test this model on the seperated data\n",
    "y_pred_svmClassifier_withTestData = svmClassifier_withTestData.predict(X_test)\n",
    "\n",
    "\n",
    "#confusion matrix generation\n",
    "conf_matrix_svmClassifier_withTestData = confusion_matrix(y_test, y_pred_svmClassifier_withTestData)\n",
    "\n",
    "#accuracy report\n",
    "classification_report_randomForest_withTestData = classification_report(y_test, y_pred_svmClassifier_withTestData)"
   ]
  },
  {
   "cell_type": "code",
   "execution_count": null,
   "metadata": {},
   "outputs": [],
   "source": [
    "print(\"Confusion Matrix\")\n",
    "print(conf_matrix_svmClassifier_withTestData)\n",
    "print(\"\\n\")\n",
    "print(classification_report_randomForest_withTestData)"
   ]
  },
  {
   "cell_type": "markdown",
   "metadata": {},
   "source": [
    "<h2> MLP <h2>"
   ]
  },
  {
   "cell_type": "markdown",
   "metadata": {},
   "source": [
    "https://scikit-learn.org/stable/modules/generated/sklearn.neural_network.MLPClassifier.html"
   ]
  },
  {
   "cell_type": "code",
   "execution_count": 377,
   "metadata": {},
   "outputs": [],
   "source": [
    "from sklearn.neural_network import MLPClassifier\n",
    "from sklearn.datasets import make_classification\n",
    "from sklearn.model_selection import train_test_split\n",
    "\n",
    "MLPclassifier = MLPClassifier(hidden_layer_sizes=(150,100,50), \n",
    "                           max_iter=300,activation = 'relu',solver='adam',random_state=1)\n",
    "\n",
    "#Fitting the training data to the network\n",
    "MLPclassifier.fit(X_train, y_train)\n",
    "\n",
    "#Predicting y for X_val\n",
    "y_pred_MLP = MLPclassifier.predict(X_test)\n",
    "\n",
    "#generate classification report\n",
    "classification_report_MLP= classification_report(y_test, y_pred_MLP)\n",
    "\n",
    "#set variable as the accuracy of the MLP\n",
    "accuracy_MLP = MLPclassifier.score(X_test, y_test)"
   ]
  },
  {
   "cell_type": "code",
   "execution_count": 385,
   "metadata": {},
   "outputs": [
    {
     "ename": "TypeError",
     "evalue": "'numpy.ndarray' object is not callable",
     "output_type": "error",
     "traceback": [
      "\u001b[0;31m---------------------------------------------------------------------------\u001b[0m",
      "\u001b[0;31mTypeError\u001b[0m                                 Traceback (most recent call last)",
      "\u001b[0;32m<ipython-input-385-3c6e3a3ef61c>\u001b[0m in \u001b[0;36m<module>\u001b[0;34m\u001b[0m\n\u001b[1;32m      1\u001b[0m \u001b[0;31m#confusion matrix generation\u001b[0m\u001b[0;34m\u001b[0m\u001b[0;34m\u001b[0m\u001b[0;34m\u001b[0m\u001b[0m\n\u001b[0;32m----> 2\u001b[0;31m \u001b[0mconf_matrix_MLP\u001b[0m \u001b[0;34m=\u001b[0m \u001b[0mconfusion_matrix\u001b[0m\u001b[0;34m(\u001b[0m\u001b[0my_test\u001b[0m\u001b[0;34m,\u001b[0m \u001b[0my_pred_MLP\u001b[0m\u001b[0;34m)\u001b[0m\u001b[0;34m\u001b[0m\u001b[0;34m\u001b[0m\u001b[0m\n\u001b[0m",
      "\u001b[0;31mTypeError\u001b[0m: 'numpy.ndarray' object is not callable"
     ]
    }
   ],
   "source": [
    "#confusion matrix generation --- currently NOT working\n",
    "conf_matrix_MLP = confusion_matrix(y_test, y_pred_MLP)"
   ]
  },
  {
   "cell_type": "code",
   "execution_count": 387,
   "metadata": {},
   "outputs": [
    {
     "name": "stdout",
     "output_type": "stream",
     "text": [
      "0.7679611650485437\n",
      "              precision    recall  f1-score   support\n",
      "\n",
      "       eight       0.56      0.81      0.66       150\n",
      "        five       0.78      0.53      0.63        60\n",
      "        four       0.79      0.86      0.82       660\n",
      "        nine       0.75      0.49      0.59        90\n",
      "         one       0.83      0.81      0.82       720\n",
      "       seven       0.88      0.50      0.64        60\n",
      "         six       0.77      0.38      0.51        90\n",
      "       three       0.68      0.88      0.77       450\n",
      "         two       0.83      0.74      0.78       750\n",
      "        zero       0.45      0.25      0.32        60\n",
      "\n",
      "    accuracy                           0.77      3090\n",
      "   macro avg       0.73      0.62      0.65      3090\n",
      "weighted avg       0.78      0.77      0.76      3090\n",
      "\n"
     ]
    }
   ],
   "source": [
    "print(accuracy_MLP)\n",
    "print(classification_report_MLP)"
   ]
  },
  {
   "cell_type": "markdown",
   "metadata": {},
   "source": [
    "<h3> Results and Other <h3>"
   ]
  },
  {
   "cell_type": "markdown",
   "metadata": {},
   "source": [
    "would be cool to produce some plots like this for comparing models : \n",
    "\n",
    "\n",
    "https://scikit-learn.org/stable/auto_examples/classification/plot_classifier_comparison.html"
   ]
  },
  {
   "cell_type": "markdown",
   "metadata": {},
   "source": [
    "would be good to get this tree visualiser working <br>\n",
    "\n",
    "https://chrisalbon.com/machine_learning/trees_and_forests/visualize_a_decision_tree/"
   ]
  },
  {
   "cell_type": "code",
   "execution_count": 141,
   "metadata": {},
   "outputs": [],
   "source": []
  },
  {
   "cell_type": "code",
   "execution_count": 145,
   "metadata": {},
   "outputs": [
    {
     "ename": "AttributeError",
     "evalue": "'DataFrame' object has no attribute 'concat'",
     "output_type": "error",
     "traceback": [
      "\u001b[0;31m---------------------------------------------------------------------------\u001b[0m",
      "\u001b[0;31mAttributeError\u001b[0m                            Traceback (most recent call last)",
      "\u001b[0;32m<ipython-input-145-a7e851c596e9>\u001b[0m in \u001b[0;36m<module>\u001b[0;34m\u001b[0m\n\u001b[0;32m----> 1\u001b[0;31m \u001b[0mtreeComparisonTable\u001b[0m\u001b[0;34m.\u001b[0m\u001b[0mconcat\u001b[0m\u001b[0;34m(\u001b[0m\u001b[0mtreeDataFrame_J48_crossVal\u001b[0m\u001b[0;34m)\u001b[0m\u001b[0;34m\u001b[0m\u001b[0;34m\u001b[0m\u001b[0m\n\u001b[0m\u001b[1;32m      2\u001b[0m \u001b[0mtreeComparisonTable\u001b[0m\u001b[0;34m.\u001b[0m\u001b[0mconcat\u001b[0m\u001b[0;34m(\u001b[0m\u001b[0mtreeDataFrame_pruned_DTC\u001b[0m\u001b[0;34m)\u001b[0m\u001b[0;34m\u001b[0m\u001b[0;34m\u001b[0m\u001b[0m\n\u001b[1;32m      3\u001b[0m \u001b[0;34m\u001b[0m\u001b[0m\n\u001b[1;32m      4\u001b[0m \u001b[0mtreeComparisonTable\u001b[0m\u001b[0;34m\u001b[0m\u001b[0;34m\u001b[0m\u001b[0m\n",
      "\u001b[0;32m~/opt/anaconda3/lib/python3.8/site-packages/pandas/core/generic.py\u001b[0m in \u001b[0;36m__getattr__\u001b[0;34m(self, name)\u001b[0m\n\u001b[1;32m   5272\u001b[0m             \u001b[0;32mif\u001b[0m \u001b[0mself\u001b[0m\u001b[0;34m.\u001b[0m\u001b[0m_info_axis\u001b[0m\u001b[0;34m.\u001b[0m\u001b[0m_can_hold_identifiers_and_holds_name\u001b[0m\u001b[0;34m(\u001b[0m\u001b[0mname\u001b[0m\u001b[0;34m)\u001b[0m\u001b[0;34m:\u001b[0m\u001b[0;34m\u001b[0m\u001b[0;34m\u001b[0m\u001b[0m\n\u001b[1;32m   5273\u001b[0m                 \u001b[0;32mreturn\u001b[0m \u001b[0mself\u001b[0m\u001b[0;34m[\u001b[0m\u001b[0mname\u001b[0m\u001b[0;34m]\u001b[0m\u001b[0;34m\u001b[0m\u001b[0;34m\u001b[0m\u001b[0m\n\u001b[0;32m-> 5274\u001b[0;31m             \u001b[0;32mreturn\u001b[0m \u001b[0mobject\u001b[0m\u001b[0;34m.\u001b[0m\u001b[0m__getattribute__\u001b[0m\u001b[0;34m(\u001b[0m\u001b[0mself\u001b[0m\u001b[0;34m,\u001b[0m \u001b[0mname\u001b[0m\u001b[0;34m)\u001b[0m\u001b[0;34m\u001b[0m\u001b[0;34m\u001b[0m\u001b[0m\n\u001b[0m\u001b[1;32m   5275\u001b[0m \u001b[0;34m\u001b[0m\u001b[0m\n\u001b[1;32m   5276\u001b[0m     \u001b[0;32mdef\u001b[0m \u001b[0m__setattr__\u001b[0m\u001b[0;34m(\u001b[0m\u001b[0mself\u001b[0m\u001b[0;34m,\u001b[0m \u001b[0mname\u001b[0m\u001b[0;34m:\u001b[0m \u001b[0mstr\u001b[0m\u001b[0;34m,\u001b[0m \u001b[0mvalue\u001b[0m\u001b[0;34m)\u001b[0m \u001b[0;34m->\u001b[0m \u001b[0;32mNone\u001b[0m\u001b[0;34m:\u001b[0m\u001b[0;34m\u001b[0m\u001b[0;34m\u001b[0m\u001b[0m\n",
      "\u001b[0;31mAttributeError\u001b[0m: 'DataFrame' object has no attribute 'concat'"
     ]
    }
   ],
   "source": []
  },
  {
   "cell_type": "code",
   "execution_count": null,
   "metadata": {},
   "outputs": [],
   "source": []
  }
 ],
 "metadata": {
  "kernelspec": {
   "display_name": "Python 3",
   "language": "python",
   "name": "python3"
  },
  "language_info": {
   "codemirror_mode": {
    "name": "ipython",
    "version": 3
   },
   "file_extension": ".py",
   "mimetype": "text/x-python",
   "name": "python",
   "nbconvert_exporter": "python",
   "pygments_lexer": "ipython3",
   "version": "3.8.3"
  }
 },
 "nbformat": 4,
 "nbformat_minor": 4
}
