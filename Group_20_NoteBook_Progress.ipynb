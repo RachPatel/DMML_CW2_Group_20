{
 "cells": [
  {
   "cell_type": "markdown",
   "metadata": {},
   "source": [
    "<h1> Group 20 - DMMML Coursework 2<h1>\n",
    "    \n",
    "<hr>"
   ]
  },
  {
   "cell_type": "markdown",
   "metadata": {},
   "source": [
    "<h3 style=\"color:blue\"> Data <h3> "
   ]
  },
  {
   "cell_type": "markdown",
   "metadata": {},
   "source": [
    "Goal : Setup full training data set :"
   ]
  },
  {
   "cell_type": "code",
   "execution_count": 331,
   "metadata": {},
   "outputs": [
    {
     "name": "stdout",
     "output_type": "stream",
     "text": [
      "          0      1      2      3      4      5      6      7      8      9  \\\n",
      "0      78.0   77.0   76.0   82.0   87.0   92.0  104.0  119.0  117.0  120.0   \n",
      "1      73.0   75.0   79.0   78.0   76.0   75.0   89.0  107.0  133.0  125.0   \n",
      "2      72.0   75.0   79.0   77.0   81.0   89.0  105.0  109.0   86.0   90.0   \n",
      "3      67.0   70.0   74.0   80.0   93.0  107.0  110.0   96.0   69.0  100.0   \n",
      "4      74.0   74.0   73.0   72.0   77.0   87.0  104.0  109.0   84.0   83.0   \n",
      "...     ...    ...    ...    ...    ...    ...    ...    ...    ...    ...   \n",
      "9685  247.0  220.0  254.0  213.0  129.0  208.0  254.0  255.0  255.0  255.0   \n",
      "9686  151.0  118.0  254.0  255.0  255.0  255.0  254.0  254.0  254.0  252.0   \n",
      "9687  255.0  255.0  255.0  255.0  255.0  255.0  255.0  255.0  255.0  255.0   \n",
      "9688  255.0  253.0  255.0  255.0  255.0  255.0  255.0  255.0  255.0  255.0   \n",
      "9689  252.0  189.0  238.0  255.0  255.0  245.0  219.0  212.0  140.0   40.0   \n",
      "\n",
      "      ...  2295  2296   2297  2298  2299  2300   2301   2302   2303  Class  \n",
      "0     ...  79.0  72.0   76.0  83.0  95.0  99.0   98.0   95.0   94.0      0  \n",
      "1     ...  93.0  85.0   77.0  69.0  73.0  83.0  100.0  101.0  101.0      0  \n",
      "2     ...  95.0  88.0   80.0  73.0  71.0  74.0   80.0   89.0   95.0      0  \n",
      "3     ...  92.0  87.0   82.0  77.0  72.0  70.0   72.0   81.0   88.0      0  \n",
      "4     ...  98.0  99.0  100.0  99.0  89.0  78.0   66.0   68.0   72.0      0  \n",
      "...   ...   ...   ...    ...   ...   ...   ...    ...    ...    ...    ...  \n",
      "9685  ...  29.0  27.0   26.0  25.0  23.0  22.0   26.0   26.0   27.0      9  \n",
      "9686  ...  31.0  30.0   30.0  30.0  30.0  29.0   26.0   28.0   27.0      9  \n",
      "9687  ...  49.0  42.0   36.0  33.0  36.0  39.0   31.0   39.0   43.0      9  \n",
      "9688  ...  27.0  26.0   27.0  35.0  28.0  27.0   26.0   26.0   24.0      9  \n",
      "9689  ...  23.0  23.0   30.0  32.0  23.0  23.0   26.0   20.0   17.0      9  \n",
      "\n",
      "[9690 rows x 2305 columns]\n"
     ]
    }
   ],
   "source": [
    "# Python ≥3.5 is required\n",
    "import sys\n",
    "assert sys.version_info >= (3, 5)\n",
    "# Scikit-Learn ≥0.20 is required\n",
    "import sklearn\n",
    "assert sklearn.__version__ >= \"0.20\"\n",
    "# Common imports\n",
    "import numpy as np\n",
    "import os\n",
    "import tarfile\n",
    "import urllib\n",
    "import pandas as pd\n",
    "# To plot pretty figures\n",
    "%matplotlib inline\n",
    "import matplotlib as mpl\n",
    "import matplotlib.pyplot as plt\n",
    "\n",
    "#read the attribute csvs file into respective dataframes\n",
    "X = pd.read_csv ('x_train_gr_smpl.csv')\n",
    "\n",
    "\n",
    "# read the class attribute file into Y datafram\n",
    "Y = pd.read_csv('y_train_smpl.csv')\n",
    "Y.columns = ['Class']\n",
    "\n",
    "#join the two such that Y is the last column\n",
    "XYraw = pd.concat([X,Y], axis=1)\n",
    "#check the concatination\n",
    "print(XYraw)"
   ]
  },
  {
   "cell_type": "code",
   "execution_count": 332,
   "metadata": {},
   "outputs": [
    {
     "data": {
      "text/html": [
       "<div>\n",
       "<style scoped>\n",
       "    .dataframe tbody tr th:only-of-type {\n",
       "        vertical-align: middle;\n",
       "    }\n",
       "\n",
       "    .dataframe tbody tr th {\n",
       "        vertical-align: top;\n",
       "    }\n",
       "\n",
       "    .dataframe thead th {\n",
       "        text-align: right;\n",
       "    }\n",
       "</style>\n",
       "<table border=\"1\" class=\"dataframe\">\n",
       "  <thead>\n",
       "    <tr style=\"text-align: right;\">\n",
       "      <th></th>\n",
       "      <th>0</th>\n",
       "      <th>1</th>\n",
       "      <th>2</th>\n",
       "      <th>3</th>\n",
       "      <th>4</th>\n",
       "      <th>5</th>\n",
       "      <th>6</th>\n",
       "      <th>7</th>\n",
       "      <th>8</th>\n",
       "      <th>9</th>\n",
       "      <th>...</th>\n",
       "      <th>2295</th>\n",
       "      <th>2296</th>\n",
       "      <th>2297</th>\n",
       "      <th>2298</th>\n",
       "      <th>2299</th>\n",
       "      <th>2300</th>\n",
       "      <th>2301</th>\n",
       "      <th>2302</th>\n",
       "      <th>2303</th>\n",
       "      <th>Class</th>\n",
       "    </tr>\n",
       "  </thead>\n",
       "  <tbody>\n",
       "    <tr>\n",
       "      <th>0</th>\n",
       "      <td>78.0</td>\n",
       "      <td>77.0</td>\n",
       "      <td>76.0</td>\n",
       "      <td>82.0</td>\n",
       "      <td>87.0</td>\n",
       "      <td>92.0</td>\n",
       "      <td>104.0</td>\n",
       "      <td>119.0</td>\n",
       "      <td>117.0</td>\n",
       "      <td>120.0</td>\n",
       "      <td>...</td>\n",
       "      <td>79.0</td>\n",
       "      <td>72.0</td>\n",
       "      <td>76.0</td>\n",
       "      <td>83.0</td>\n",
       "      <td>95.0</td>\n",
       "      <td>99.0</td>\n",
       "      <td>98.0</td>\n",
       "      <td>95.0</td>\n",
       "      <td>94.0</td>\n",
       "      <td>zero</td>\n",
       "    </tr>\n",
       "    <tr>\n",
       "      <th>1</th>\n",
       "      <td>73.0</td>\n",
       "      <td>75.0</td>\n",
       "      <td>79.0</td>\n",
       "      <td>78.0</td>\n",
       "      <td>76.0</td>\n",
       "      <td>75.0</td>\n",
       "      <td>89.0</td>\n",
       "      <td>107.0</td>\n",
       "      <td>133.0</td>\n",
       "      <td>125.0</td>\n",
       "      <td>...</td>\n",
       "      <td>93.0</td>\n",
       "      <td>85.0</td>\n",
       "      <td>77.0</td>\n",
       "      <td>69.0</td>\n",
       "      <td>73.0</td>\n",
       "      <td>83.0</td>\n",
       "      <td>100.0</td>\n",
       "      <td>101.0</td>\n",
       "      <td>101.0</td>\n",
       "      <td>zero</td>\n",
       "    </tr>\n",
       "    <tr>\n",
       "      <th>2</th>\n",
       "      <td>72.0</td>\n",
       "      <td>75.0</td>\n",
       "      <td>79.0</td>\n",
       "      <td>77.0</td>\n",
       "      <td>81.0</td>\n",
       "      <td>89.0</td>\n",
       "      <td>105.0</td>\n",
       "      <td>109.0</td>\n",
       "      <td>86.0</td>\n",
       "      <td>90.0</td>\n",
       "      <td>...</td>\n",
       "      <td>95.0</td>\n",
       "      <td>88.0</td>\n",
       "      <td>80.0</td>\n",
       "      <td>73.0</td>\n",
       "      <td>71.0</td>\n",
       "      <td>74.0</td>\n",
       "      <td>80.0</td>\n",
       "      <td>89.0</td>\n",
       "      <td>95.0</td>\n",
       "      <td>zero</td>\n",
       "    </tr>\n",
       "    <tr>\n",
       "      <th>3</th>\n",
       "      <td>67.0</td>\n",
       "      <td>70.0</td>\n",
       "      <td>74.0</td>\n",
       "      <td>80.0</td>\n",
       "      <td>93.0</td>\n",
       "      <td>107.0</td>\n",
       "      <td>110.0</td>\n",
       "      <td>96.0</td>\n",
       "      <td>69.0</td>\n",
       "      <td>100.0</td>\n",
       "      <td>...</td>\n",
       "      <td>92.0</td>\n",
       "      <td>87.0</td>\n",
       "      <td>82.0</td>\n",
       "      <td>77.0</td>\n",
       "      <td>72.0</td>\n",
       "      <td>70.0</td>\n",
       "      <td>72.0</td>\n",
       "      <td>81.0</td>\n",
       "      <td>88.0</td>\n",
       "      <td>zero</td>\n",
       "    </tr>\n",
       "    <tr>\n",
       "      <th>4</th>\n",
       "      <td>74.0</td>\n",
       "      <td>74.0</td>\n",
       "      <td>73.0</td>\n",
       "      <td>72.0</td>\n",
       "      <td>77.0</td>\n",
       "      <td>87.0</td>\n",
       "      <td>104.0</td>\n",
       "      <td>109.0</td>\n",
       "      <td>84.0</td>\n",
       "      <td>83.0</td>\n",
       "      <td>...</td>\n",
       "      <td>98.0</td>\n",
       "      <td>99.0</td>\n",
       "      <td>100.0</td>\n",
       "      <td>99.0</td>\n",
       "      <td>89.0</td>\n",
       "      <td>78.0</td>\n",
       "      <td>66.0</td>\n",
       "      <td>68.0</td>\n",
       "      <td>72.0</td>\n",
       "      <td>zero</td>\n",
       "    </tr>\n",
       "  </tbody>\n",
       "</table>\n",
       "<p>5 rows × 2305 columns</p>\n",
       "</div>"
      ],
      "text/plain": [
       "      0     1     2     3     4      5      6      7      8      9  ...  2295  \\\n",
       "0  78.0  77.0  76.0  82.0  87.0   92.0  104.0  119.0  117.0  120.0  ...  79.0   \n",
       "1  73.0  75.0  79.0  78.0  76.0   75.0   89.0  107.0  133.0  125.0  ...  93.0   \n",
       "2  72.0  75.0  79.0  77.0  81.0   89.0  105.0  109.0   86.0   90.0  ...  95.0   \n",
       "3  67.0  70.0  74.0  80.0  93.0  107.0  110.0   96.0   69.0  100.0  ...  92.0   \n",
       "4  74.0  74.0  73.0  72.0  77.0   87.0  104.0  109.0   84.0   83.0  ...  98.0   \n",
       "\n",
       "   2296   2297  2298  2299  2300   2301   2302   2303  Class  \n",
       "0  72.0   76.0  83.0  95.0  99.0   98.0   95.0   94.0   zero  \n",
       "1  85.0   77.0  69.0  73.0  83.0  100.0  101.0  101.0   zero  \n",
       "2  88.0   80.0  73.0  71.0  74.0   80.0   89.0   95.0   zero  \n",
       "3  87.0   82.0  77.0  72.0  70.0   72.0   81.0   88.0   zero  \n",
       "4  99.0  100.0  99.0  89.0  78.0   66.0   68.0   72.0   zero  \n",
       "\n",
       "[5 rows x 2305 columns]"
      ]
     },
     "execution_count": 332,
     "metadata": {},
     "output_type": "execute_result"
    }
   ],
   "source": [
    "\n",
    "#convert numberic to nominal \n",
    "XYraw[['Class']] = XYraw[['Class']].replace([0, 1, 2,3,4,5,6,7,8,9], ['zero', 'one', 'two','three', 'four', 'five', 'six', 'seven', 'eight',\n",
    "                                 'nine'])\n",
    "\n",
    "XYraw.head()"
   ]
  },
  {
   "cell_type": "code",
   "execution_count": 333,
   "metadata": {},
   "outputs": [
    {
     "name": "stdout",
     "output_type": "stream",
     "text": [
      "          0      1      2      3      4      5      6      7      8      9  \\\n",
      "0      32.0   32.0   33.0   34.0   32.0   31.0   30.0   30.0   29.0   27.0   \n",
      "1      60.0   60.0   62.0   60.0   62.0   64.0   68.0   84.0  132.0  189.0   \n",
      "2      25.0   26.0   27.0   29.0   30.0   30.0   29.0   28.0   28.0   26.0   \n",
      "3      31.0   30.0   30.0   30.0   29.0   27.0   25.0   25.0   25.0   25.0   \n",
      "4     141.0  145.0  146.0  136.0  103.0  120.0  138.0  146.0  140.0  125.0   \n",
      "...     ...    ...    ...    ...    ...    ...    ...    ...    ...    ...   \n",
      "9685   13.0   15.0   13.0   14.0   15.0   16.0   17.0   15.0   13.0   14.0   \n",
      "9686   94.0  118.0   85.0   81.0  136.0  173.0  101.0   88.0   84.0   79.0   \n",
      "9687   59.0   60.0   63.0   70.0   83.0   98.0  103.0  102.0   98.0   93.0   \n",
      "9688  178.0  167.0  170.0   82.0   75.0  161.0  207.0  207.0  209.0  207.0   \n",
      "9689  255.0  255.0  255.0  255.0  255.0  255.0  255.0  255.0  255.0  255.0   \n",
      "\n",
      "      ...   2295   2296   2297   2298   2299   2300   2301   2302   2303  \\\n",
      "0     ...   38.0   39.0   46.0   49.0   48.0   43.0   36.0   31.0   28.0   \n",
      "1     ...  216.0  217.0  214.0  211.0  203.0  186.0  146.0  120.0   86.0   \n",
      "2     ...   28.0   27.0   27.0   27.0   27.0   28.0   29.0   29.0   31.0   \n",
      "3     ...   31.0   29.0   27.0   26.0   26.0   27.0   28.0   30.0   31.0   \n",
      "4     ...  108.0  110.0  110.0  107.0  103.0  101.0  102.0  103.0  102.0   \n",
      "...   ...    ...    ...    ...    ...    ...    ...    ...    ...    ...   \n",
      "9685  ...   44.0   38.0   25.0   28.0   31.0   33.0   33.0   32.0   35.0   \n",
      "9686  ...   79.0   94.0   92.0   98.0  110.0  100.0  110.0   97.0  105.0   \n",
      "9687  ...  107.0  110.0  106.0  106.0  108.0  106.0  102.0   99.0  100.0   \n",
      "9688  ...  203.0  184.0  144.0  180.0  195.0  204.0  203.0  199.0  160.0   \n",
      "9689  ...   82.0   71.0   63.0   57.0   60.0   66.0   63.0   58.0   60.0   \n",
      "\n",
      "      Class  \n",
      "0       two  \n",
      "1       one  \n",
      "2       two  \n",
      "3       two  \n",
      "4       one  \n",
      "...     ...  \n",
      "9685  three  \n",
      "9686   nine  \n",
      "9687    one  \n",
      "9688   four  \n",
      "9689    one  \n",
      "\n",
      "[9690 rows x 2305 columns]\n"
     ]
    }
   ],
   "source": [
    "\n",
    "#randomise \n",
    "XYraw_ran = XYraw.sample(frac=1).reset_index(drop=True)\n",
    "print(XYraw_ran)"
   ]
  },
  {
   "cell_type": "code",
   "execution_count": 334,
   "metadata": {},
   "outputs": [],
   "source": [
    "#generate this as a csv to directly feed into analyses on independent notebooks\n",
    "XYraw_ran.to_csv('For_10_Fold_Cross_Validation.csv', index = False)"
   ]
  },
  {
   "cell_type": "markdown",
   "metadata": {},
   "source": [
    "Split Data into data and expected calsses\n"
   ]
  },
  {
   "cell_type": "code",
   "execution_count": 335,
   "metadata": {},
   "outputs": [
    {
     "data": {
      "text/html": [
       "<div>\n",
       "<style scoped>\n",
       "    .dataframe tbody tr th:only-of-type {\n",
       "        vertical-align: middle;\n",
       "    }\n",
       "\n",
       "    .dataframe tbody tr th {\n",
       "        vertical-align: top;\n",
       "    }\n",
       "\n",
       "    .dataframe thead th {\n",
       "        text-align: right;\n",
       "    }\n",
       "</style>\n",
       "<table border=\"1\" class=\"dataframe\">\n",
       "  <thead>\n",
       "    <tr style=\"text-align: right;\">\n",
       "      <th></th>\n",
       "      <th>0</th>\n",
       "      <th>1</th>\n",
       "      <th>2</th>\n",
       "      <th>3</th>\n",
       "      <th>4</th>\n",
       "      <th>5</th>\n",
       "      <th>6</th>\n",
       "      <th>7</th>\n",
       "      <th>8</th>\n",
       "      <th>9</th>\n",
       "      <th>...</th>\n",
       "      <th>2295</th>\n",
       "      <th>2296</th>\n",
       "      <th>2297</th>\n",
       "      <th>2298</th>\n",
       "      <th>2299</th>\n",
       "      <th>2300</th>\n",
       "      <th>2301</th>\n",
       "      <th>2302</th>\n",
       "      <th>2303</th>\n",
       "      <th>Class</th>\n",
       "    </tr>\n",
       "  </thead>\n",
       "  <tbody>\n",
       "    <tr>\n",
       "      <th>0</th>\n",
       "      <td>32.0</td>\n",
       "      <td>32.0</td>\n",
       "      <td>33.0</td>\n",
       "      <td>34.0</td>\n",
       "      <td>32.0</td>\n",
       "      <td>31.0</td>\n",
       "      <td>30.0</td>\n",
       "      <td>30.0</td>\n",
       "      <td>29.0</td>\n",
       "      <td>27.0</td>\n",
       "      <td>...</td>\n",
       "      <td>38.0</td>\n",
       "      <td>39.0</td>\n",
       "      <td>46.0</td>\n",
       "      <td>49.0</td>\n",
       "      <td>48.0</td>\n",
       "      <td>43.0</td>\n",
       "      <td>36.0</td>\n",
       "      <td>31.0</td>\n",
       "      <td>28.0</td>\n",
       "      <td>two</td>\n",
       "    </tr>\n",
       "    <tr>\n",
       "      <th>1</th>\n",
       "      <td>60.0</td>\n",
       "      <td>60.0</td>\n",
       "      <td>62.0</td>\n",
       "      <td>60.0</td>\n",
       "      <td>62.0</td>\n",
       "      <td>64.0</td>\n",
       "      <td>68.0</td>\n",
       "      <td>84.0</td>\n",
       "      <td>132.0</td>\n",
       "      <td>189.0</td>\n",
       "      <td>...</td>\n",
       "      <td>216.0</td>\n",
       "      <td>217.0</td>\n",
       "      <td>214.0</td>\n",
       "      <td>211.0</td>\n",
       "      <td>203.0</td>\n",
       "      <td>186.0</td>\n",
       "      <td>146.0</td>\n",
       "      <td>120.0</td>\n",
       "      <td>86.0</td>\n",
       "      <td>one</td>\n",
       "    </tr>\n",
       "    <tr>\n",
       "      <th>2</th>\n",
       "      <td>25.0</td>\n",
       "      <td>26.0</td>\n",
       "      <td>27.0</td>\n",
       "      <td>29.0</td>\n",
       "      <td>30.0</td>\n",
       "      <td>30.0</td>\n",
       "      <td>29.0</td>\n",
       "      <td>28.0</td>\n",
       "      <td>28.0</td>\n",
       "      <td>26.0</td>\n",
       "      <td>...</td>\n",
       "      <td>28.0</td>\n",
       "      <td>27.0</td>\n",
       "      <td>27.0</td>\n",
       "      <td>27.0</td>\n",
       "      <td>27.0</td>\n",
       "      <td>28.0</td>\n",
       "      <td>29.0</td>\n",
       "      <td>29.0</td>\n",
       "      <td>31.0</td>\n",
       "      <td>two</td>\n",
       "    </tr>\n",
       "    <tr>\n",
       "      <th>3</th>\n",
       "      <td>31.0</td>\n",
       "      <td>30.0</td>\n",
       "      <td>30.0</td>\n",
       "      <td>30.0</td>\n",
       "      <td>29.0</td>\n",
       "      <td>27.0</td>\n",
       "      <td>25.0</td>\n",
       "      <td>25.0</td>\n",
       "      <td>25.0</td>\n",
       "      <td>25.0</td>\n",
       "      <td>...</td>\n",
       "      <td>31.0</td>\n",
       "      <td>29.0</td>\n",
       "      <td>27.0</td>\n",
       "      <td>26.0</td>\n",
       "      <td>26.0</td>\n",
       "      <td>27.0</td>\n",
       "      <td>28.0</td>\n",
       "      <td>30.0</td>\n",
       "      <td>31.0</td>\n",
       "      <td>two</td>\n",
       "    </tr>\n",
       "    <tr>\n",
       "      <th>4</th>\n",
       "      <td>141.0</td>\n",
       "      <td>145.0</td>\n",
       "      <td>146.0</td>\n",
       "      <td>136.0</td>\n",
       "      <td>103.0</td>\n",
       "      <td>120.0</td>\n",
       "      <td>138.0</td>\n",
       "      <td>146.0</td>\n",
       "      <td>140.0</td>\n",
       "      <td>125.0</td>\n",
       "      <td>...</td>\n",
       "      <td>108.0</td>\n",
       "      <td>110.0</td>\n",
       "      <td>110.0</td>\n",
       "      <td>107.0</td>\n",
       "      <td>103.0</td>\n",
       "      <td>101.0</td>\n",
       "      <td>102.0</td>\n",
       "      <td>103.0</td>\n",
       "      <td>102.0</td>\n",
       "      <td>one</td>\n",
       "    </tr>\n",
       "  </tbody>\n",
       "</table>\n",
       "<p>5 rows × 2305 columns</p>\n",
       "</div>"
      ],
      "text/plain": [
       "       0      1      2      3      4      5      6      7      8      9  ...  \\\n",
       "0   32.0   32.0   33.0   34.0   32.0   31.0   30.0   30.0   29.0   27.0  ...   \n",
       "1   60.0   60.0   62.0   60.0   62.0   64.0   68.0   84.0  132.0  189.0  ...   \n",
       "2   25.0   26.0   27.0   29.0   30.0   30.0   29.0   28.0   28.0   26.0  ...   \n",
       "3   31.0   30.0   30.0   30.0   29.0   27.0   25.0   25.0   25.0   25.0  ...   \n",
       "4  141.0  145.0  146.0  136.0  103.0  120.0  138.0  146.0  140.0  125.0  ...   \n",
       "\n",
       "    2295   2296   2297   2298   2299   2300   2301   2302   2303  Class  \n",
       "0   38.0   39.0   46.0   49.0   48.0   43.0   36.0   31.0   28.0    two  \n",
       "1  216.0  217.0  214.0  211.0  203.0  186.0  146.0  120.0   86.0    one  \n",
       "2   28.0   27.0   27.0   27.0   27.0   28.0   29.0   29.0   31.0    two  \n",
       "3   31.0   29.0   27.0   26.0   26.0   27.0   28.0   30.0   31.0    two  \n",
       "4  108.0  110.0  110.0  107.0  103.0  101.0  102.0  103.0  102.0    one  \n",
       "\n",
       "[5 rows x 2305 columns]"
      ]
     },
     "execution_count": 335,
     "metadata": {},
     "output_type": "execute_result"
    }
   ],
   "source": [
    "#read in data from csv \n",
    "training_Data = pd.read_csv(\"For_10_Fold_Cross_Validation.csv\")\n",
    "\n",
    "#look at shape\n",
    "training_Data.shape \n",
    "\n",
    "#look at data format\n",
    "training_Data.head()"
   ]
  },
  {
   "cell_type": "code",
   "execution_count": 336,
   "metadata": {},
   "outputs": [],
   "source": [
    "#define the data to be used as all but the class attribute from the data \n",
    "X_Train = training_Data.drop('Class', axis = 1)\n",
    "\n",
    "#define the expexted value to be the class column of the input data \n",
    "y_train = training_Data['Class']"
   ]
  },
  {
   "cell_type": "markdown",
   "metadata": {},
   "source": [
    "Scale data"
   ]
  },
  {
   "cell_type": "code",
   "execution_count": 337,
   "metadata": {},
   "outputs": [],
   "source": [
    "from sklearn.preprocessing import StandardScaler\n",
    "\n",
    "sc = StandardScaler()\n",
    "X_train = sc.fit_transform(X_Train)\n",
    "\n"
   ]
  },
  {
   "cell_type": "markdown",
   "metadata": {},
   "source": [
    "<h4> Setup Test Data <h4>"
   ]
  },
  {
   "cell_type": "markdown",
   "metadata": {},
   "source": [
    "Goal : Import test data from file and set it as  t_test and y_test"
   ]
  },
  {
   "cell_type": "code",
   "execution_count": 338,
   "metadata": {},
   "outputs": [],
   "source": [
    "testData = pd.read_csv ('Test_Dataset.csv')\n",
    "\n",
    "X_Test = testData.drop('Class', axis = 1)\n",
    "y_test = testData['Class']\n",
    "\n",
    "\n",
    "X_test = sc.fit_transform(X_Test)"
   ]
  },
  {
   "cell_type": "markdown",
   "metadata": {},
   "source": [
    "<h4> Setup 4000 Split of test data <h4>\n",
    "    "
   ]
  },
  {
   "cell_type": "markdown",
   "metadata": {},
   "source": [
    "Goal : Take 4000 instances from the original training file and add them to the test file"
   ]
  },
  {
   "cell_type": "code",
   "execution_count": 339,
   "metadata": {},
   "outputs": [
    {
     "data": {
      "text/plain": [
       "9690"
      ]
     },
     "execution_count": 339,
     "metadata": {},
     "output_type": "execute_result"
    }
   ],
   "source": [
    "#Check length of training data\n",
    "len(training_Data)"
   ]
  },
  {
   "cell_type": "code",
   "execution_count": 340,
   "metadata": {},
   "outputs": [
    {
     "data": {
      "text/plain": [
       "4000"
      ]
     },
     "execution_count": 340,
     "metadata": {},
     "output_type": "execute_result"
    }
   ],
   "source": [
    "#split data into two divisions\n",
    "data_split4000, data_split5690= training_Data[:4000], training_Data[4000:]\n",
    "\n",
    "#test new split \n",
    "len(data_split4000)"
   ]
  },
  {
   "cell_type": "code",
   "execution_count": 341,
   "metadata": {},
   "outputs": [],
   "source": [
    "#merge test and 4000 cases from above \n",
    "testData_with4000 =pd.concat([testData, data_split4000])"
   ]
  },
  {
   "cell_type": "code",
   "execution_count": 342,
   "metadata": {},
   "outputs": [
    {
     "data": {
      "text/plain": [
       "3090"
      ]
     },
     "execution_count": 342,
     "metadata": {},
     "output_type": "execute_result"
    }
   ],
   "source": [
    "#size of testData before addition\n",
    "len(testData)"
   ]
  },
  {
   "cell_type": "code",
   "execution_count": 343,
   "metadata": {},
   "outputs": [
    {
     "data": {
      "text/plain": [
       "7090"
      ]
     },
     "execution_count": 343,
     "metadata": {},
     "output_type": "execute_result"
    }
   ],
   "source": [
    "#check items have been added to testData\n",
    "len(testData_with4000)"
   ]
  },
  {
   "cell_type": "code",
   "execution_count": 344,
   "metadata": {},
   "outputs": [],
   "source": [
    "#setup training data\n",
    "X_Train_4000Split = data_split5690.drop('Class', axis = 1)\n",
    "y_train_4000Split = data_split5690['Class']\n",
    "\n",
    "\n",
    "#setup test data\n",
    "X_Test_4000Split = testData_with4000.drop('Class', axis = 1)\n",
    "y_test_4000Split = testData_with4000['Class']\n",
    "\n",
    "\n",
    "\n",
    "sc = StandardScaler()\n",
    "X_train_4000Split = sc.fit_transform(X_Train_4000Split)\n",
    "X_test_4000Split = sc.fit_transform(X_Test_4000Split)"
   ]
  },
  {
   "cell_type": "markdown",
   "metadata": {},
   "source": [
    "<h4> Setup 9000 Split <h4> "
   ]
  },
  {
   "cell_type": "markdown",
   "metadata": {},
   "source": [
    "Goal : Take 9000 instances from the original training file and add them to the test file"
   ]
  },
  {
   "cell_type": "code",
   "execution_count": 345,
   "metadata": {},
   "outputs": [
    {
     "data": {
      "text/plain": [
       "9690"
      ]
     },
     "execution_count": 345,
     "metadata": {},
     "output_type": "execute_result"
    }
   ],
   "source": [
    "#Check length of training data\n",
    "len(training_Data)"
   ]
  },
  {
   "cell_type": "code",
   "execution_count": 346,
   "metadata": {},
   "outputs": [
    {
     "data": {
      "text/plain": [
       "9000"
      ]
     },
     "execution_count": 346,
     "metadata": {},
     "output_type": "execute_result"
    }
   ],
   "source": [
    "#split data into two divisions\n",
    "data_split9000, data_split690= training_Data[:9000], training_Data[9000:]\n",
    "\n",
    "#test new split \n",
    "len(data_split9000)"
   ]
  },
  {
   "cell_type": "code",
   "execution_count": 347,
   "metadata": {},
   "outputs": [],
   "source": [
    "#merge test and 4000 cases from above \n",
    "testData_with9000 =pd.concat([testData, data_split9000])"
   ]
  },
  {
   "cell_type": "code",
   "execution_count": 348,
   "metadata": {},
   "outputs": [
    {
     "data": {
      "text/plain": [
       "3090"
      ]
     },
     "execution_count": 348,
     "metadata": {},
     "output_type": "execute_result"
    }
   ],
   "source": [
    "#size of testData before addition \n",
    "len(testData)"
   ]
  },
  {
   "cell_type": "code",
   "execution_count": 349,
   "metadata": {},
   "outputs": [
    {
     "data": {
      "text/plain": [
       "12090"
      ]
     },
     "execution_count": 349,
     "metadata": {},
     "output_type": "execute_result"
    }
   ],
   "source": [
    "#check items have been added to testData\n",
    "len(testData_with9000)"
   ]
  },
  {
   "cell_type": "code",
   "execution_count": 350,
   "metadata": {},
   "outputs": [],
   "source": [
    "#setup training data\n",
    "X_Train_9000Split = data_split690.drop('Class', axis = 1)\n",
    "y_train_9000Split = data_split690['Class']\n",
    "\n",
    "\n",
    "#setup test data\n",
    "X_Test_9000Split = testData_with4000.drop('Class', axis = 1)\n",
    "y_test_9000Split = testData_with4000['Class']\n",
    "\n",
    "#scale data\n",
    "X_train_9000Split = sc.fit_transform(X_Train_9000Split)\n",
    "X_test_9000Split = sc.fit_transform(X_Test_9000Split)"
   ]
  },
  {
   "cell_type": "markdown",
   "metadata": {},
   "source": [
    "Summary : \n",
    "\n",
    "X_train - full training data (minus class data) <br>\n",
    "X_train_4000Split - 4000 removed instances from X_train<br>\n",
    "X_train_9000Split - 9000 removed instances from X_train <br>\n",
    "\n",
    "X_test - original test data \n",
    "X_test_4000Split - 4000 more instances, taken from X_train<br>\n",
    "X_test_9000Split - 9000 more instances, taken from X_train<br>\n",
    "\n",
    "y_train - class attributes for the full training data<br>\n",
    "y_train_4000Split - 4000 removed instances than y_train<br>\n",
    "y_train_9000Split - 9000 removed instances than y_train<br>\n",
    "\n",
    "y_test - class attributes for original testing data <br>\n",
    "y_test_4000Split - 4000 more instances, taken from y_train <br>\n",
    "y_test_9000Split - 9000 more instances, taken from y_train <br>"
   ]
  },
  {
   "cell_type": "markdown",
   "metadata": {},
   "source": [
    "<h2> Decision Trees <h2> \n",
    "    <hr>\n",
    "<h3> J48 <h3>"
   ]
  },
  {
   "cell_type": "markdown",
   "metadata": {},
   "source": [
    "Decision tree adapted from : \n",
    "https://scikit-learn.org/stable/modules/generated/sklearn.tree.DecisionTreeClassifier.html\n",
    "<hr>\n",
    "Cross-Validation adapted from : \n",
    "https://scikit-learn.org/stable/modules/cross_validation.html \n",
    "    \n",
    "HOWEVER Sklearn uses CART rather than C4.5 which is the algorithm that J48 runs off so this could be incorrect. "
   ]
  },
  {
   "cell_type": "code",
   "execution_count": 351,
   "metadata": {},
   "outputs": [],
   "source": [
    "#imports for J48\n",
    "from sklearn.tree import DecisionTreeClassifier\n",
    "\n",
    "import os\n",
    "import numpy as np\n",
    "import pandas as pd\n",
    "import matplotlib.pyplot as plt\n",
    "from sklearn.utils import shuffle\n",
    "\n",
    "from sklearn.metrics import roc_auc_score\n",
    "from sklearn.metrics import confusion_matrix\n",
    "import seaborn as sns\n",
    "from sklearn.metrics import classification_report\n",
    "from sklearn.model_selection import cross_val_score\n",
    "from sklearn.model_selection import cross_val_predict\n",
    "from sklearn.metrics import roc_auc_score"
   ]
  },
  {
   "cell_type": "markdown",
   "metadata": {},
   "source": [
    "<h4> Cross validation <h4>"
   ]
  },
  {
   "cell_type": "markdown",
   "metadata": {},
   "source": [
    "Goal : Run cross a decision tree classifier with 10 fold cross validation then output metrics"
   ]
  },
  {
   "cell_type": "code",
   "execution_count": 352,
   "metadata": {
    "scrolled": true
   },
   "outputs": [],
   "source": [
    "# adapted from https://scikit-learn.org/stable/modules/generated/sklearn.tree.DecisionTreeClassifier.html\n",
    "#\n",
    "# Sklearn uses CART rather than C4.5 which is the algorithm that J48 runs off so this could be incorrect. Both \n",
    "\n",
    "classifier = DecisionTreeClassifier()\n",
    "classifier.fit(X_train, y_train)\n",
    "\n",
    "#setup cross validation using the above classifier, X_train = data to be classified, y = the labels, CV = number of folds\n",
    "cross_validation_scores = cross_val_score(classifier, X_train, y_train, cv=10)\n"
   ]
  },
  {
   "cell_type": "code",
   "execution_count": 353,
   "metadata": {},
   "outputs": [
    {
     "data": {
      "text/plain": [
       "Text(0.5, 1.0, 'Average score: 0.8362229102167182')"
      ]
     },
     "execution_count": 353,
     "metadata": {},
     "output_type": "execute_result"
    },
    {
     "data": {
      "image/png": "[encoded data removed]",
      "text/plain": [
       "<Figure size 432x288 with 1 Axes>"
      ]
     },
     "metadata": {
      "needs_background": "light"
     },
     "output_type": "display_data"
    }
   ],
   "source": [
    "# use seaborn (sns) to plot a graph of the above scores\n",
    "sns.distplot(cross_validation_scores)\n",
    "plt.title('Average score: {}'.format(np.mean(cross_validation_scores)))"
   ]
  },
  {
   "cell_type": "code",
   "execution_count": 354,
   "metadata": {},
   "outputs": [],
   "source": [
    "#train model with 10 fold validation, \n",
    "#cross_val_predict Get predictions from each split of cross-validation for diagnostic purposes.\n",
    "y_pred = cross_val_predict(classifier, X_train, y_train, cv=10)\n",
    "\n",
    "#confusion matrix generation\n",
    "conf_matrix_J48 = confusion_matrix(y_train, y_pred)\n",
    "\n",
    "#accuracy report\n",
    "classification_report_J48 = classification_report(y_train, y_pred)"
   ]
  },
  {
   "cell_type": "code",
   "execution_count": 355,
   "metadata": {},
   "outputs": [
    {
     "name": "stdout",
     "output_type": "stream",
     "text": [
      "Confusion Matrix\n",
      "[[ 453    9    9    6   14    4   16   10   14    5]\n",
      " [   6  161    8    6    7    3    5    7    7    0]\n",
      " [   5    3 1753   10   88    6    3   29   76    7]\n",
      " [  14    5    3  195   14    2    8   12   15    2]\n",
      " [  18    5   95    6 1857    7    9   42  146   35]\n",
      " [   6    6    8    5    7  191    2    2   11    2]\n",
      " [  11    3    9    8   10    2  283   11   22    1]\n",
      " [  19    9   27   11   35    5   16 1205   78    5]\n",
      " [   8   12   89   13  144    9   12   86 1861   16]\n",
      " [   2    0   12    2   33    0    0    5    5  151]]\n",
      "\n",
      "\n",
      "              precision    recall  f1-score   support\n",
      "\n",
      "       eight       0.84      0.84      0.84       540\n",
      "        five       0.76      0.77      0.76       210\n",
      "        four       0.87      0.89      0.88      1980\n",
      "        nine       0.74      0.72      0.73       270\n",
      "         one       0.84      0.84      0.84      2220\n",
      "       seven       0.83      0.80      0.81       240\n",
      "         six       0.80      0.79      0.79       360\n",
      "       three       0.86      0.85      0.85      1410\n",
      "         two       0.83      0.83      0.83      2250\n",
      "        zero       0.67      0.72      0.70       210\n",
      "\n",
      "    accuracy                           0.84      9690\n",
      "   macro avg       0.80      0.80      0.80      9690\n",
      "weighted avg       0.84      0.84      0.84      9690\n",
      "\n"
     ]
    }
   ],
   "source": [
    "#Print Confusion matrix and other important results\n",
    "print(\"Confusion Matrix\")\n",
    "print(conf_matrix_J48)\n",
    "\n",
    "print(\"\\n\")\n",
    "print(classification_report_J48)\n",
    "#print(roc_auc_score(y, y_pred))\n"
   ]
  },
  {
   "cell_type": "markdown",
   "metadata": {},
   "source": [
    "<hr>\n",
    "<h4>Part 2 - Using test data<h4>"
   ]
  },
  {
   "cell_type": "markdown",
   "metadata": {},
   "source": [
    "Goal : Run decision classifier on test data provided"
   ]
  },
  {
   "cell_type": "code",
   "execution_count": 356,
   "metadata": {},
   "outputs": [],
   "source": [
    "#define the model to be used \n",
    "classifier_withTestData = DecisionTreeClassifier()\n",
    "\n",
    "#fit this model using the test data\n",
    "classifier_withTestData.fit(X_train, y_train)\n",
    "\n",
    "#test this model on the seperated data\n",
    "y_pred_J48_testData = classifier_withTestData.predict(X_test)\n",
    "\n",
    "\n",
    "#confusion matrix generation\n",
    "conf_matrix_withTestData = confusion_matrix(y_test, y_pred_J48_testData)\n",
    "\n",
    "#accuracy report\n",
    "classification_report_withTestData = classification_report(y_test, y_pred_J48_testData)\n"
   ]
  },
  {
   "cell_type": "code",
   "execution_count": 357,
   "metadata": {},
   "outputs": [
    {
     "name": "stdout",
     "output_type": "stream",
     "text": [
      "Confusion Matrix\n",
      "[[ 56   2  11   6  17   2  15  18  19   4]\n",
      " [  0  27   0   0   0   2   1  30   0   0]\n",
      " [  4   3 468   0  49   4  13  61  40  18]\n",
      " [  9   1   0  36   9   6   1   0  28   0]\n",
      " [ 11   1  49   1 569   3   1   8  67  10]\n",
      " [  1  10   1   4  13  18   3   5   2   3]\n",
      " [ 13  11   3   8   7   0  32   9   7   0]\n",
      " [ 10   3  24   8  42   1   8 305  48   1]\n",
      " [  3   3  61   2  73   7   3  47 547   4]\n",
      " [  0   0  21   0   6   1   0   3   4  25]]\n",
      "\n",
      "\n",
      "              precision    recall  f1-score   support\n",
      "\n",
      "       eight       0.52      0.37      0.44       150\n",
      "        five       0.44      0.45      0.45        60\n",
      "        four       0.73      0.71      0.72       660\n",
      "        nine       0.55      0.40      0.46        90\n",
      "         one       0.72      0.79      0.76       720\n",
      "       seven       0.41      0.30      0.35        60\n",
      "         six       0.42      0.36      0.38        90\n",
      "       three       0.63      0.68      0.65       450\n",
      "         two       0.72      0.73      0.72       750\n",
      "        zero       0.38      0.42      0.40        60\n",
      "\n",
      "    accuracy                           0.67      3090\n",
      "   macro avg       0.55      0.52      0.53      3090\n",
      "weighted avg       0.67      0.67      0.67      3090\n",
      "\n"
     ]
    }
   ],
   "source": [
    "#Print Confusion matrix and other important results\n",
    "print(\"Confusion Matrix\")\n",
    "print(conf_matrix_withTestData)\n",
    "print(\"\\n\")\n",
    "print(classification_report_withTestData)"
   ]
  },
  {
   "cell_type": "markdown",
   "metadata": {},
   "source": [
    "<hr>\n",
    "<h4>Part 3 - 4000 into the test cases <h4>"
   ]
  },
  {
   "cell_type": "markdown",
   "metadata": {},
   "source": [
    "Goal : Run decision tree classifier on a reduced training set, but increased training set."
   ]
  },
  {
   "cell_type": "code",
   "execution_count": 358,
   "metadata": {},
   "outputs": [],
   "source": [
    "#define the model to be used \n",
    "classifier_4000Split = DecisionTreeClassifier()\n",
    "\n",
    "#fit this model using the test data\n",
    "classifier_4000Split.fit(X_train_4000Split, y_train_4000Split)\n",
    "\n",
    "#test this model on the seperated data\n",
    "y_pred_4000Split = classifier_4000Split.predict(X_test_4000Split)"
   ]
  },
  {
   "cell_type": "code",
   "execution_count": 359,
   "metadata": {},
   "outputs": [
    {
     "name": "stdout",
     "output_type": "stream",
     "text": [
      "Confusion Matrix\n",
      "[[ 239    5    8   18   30   15   23    8   25    3]\n",
      " [   2   68   14    2    4   10    2   43    4    1]\n",
      " [  13    6 1162    5  105    2   20   59   97   26]\n",
      " [  18    9    6   90    4   14    3   11   26    1]\n",
      " [   9    2  121   10 1256    1    8   41  152   33]\n",
      " [  16    5    3   21    2   94    5    3    5    2]\n",
      " [  13    4    5    6   31    7  125   22   17    4]\n",
      " [  18    8   15    9   55    5   15  786  132    8]\n",
      " [  13   12   53    3  197   12    4   95 1258   11]\n",
      " [  11    0   16    3   34    0    2    6   12   73]]\n",
      "\n",
      "\n",
      "              precision    recall  f1-score   support\n",
      "\n",
      "       eight       0.68      0.64      0.66       374\n",
      "        five       0.57      0.45      0.51       150\n",
      "        four       0.83      0.78      0.80      1495\n",
      "        nine       0.54      0.49      0.52       182\n",
      "         one       0.73      0.77      0.75      1633\n",
      "       seven       0.59      0.60      0.59       156\n",
      "         six       0.60      0.53      0.57       234\n",
      "       three       0.73      0.75      0.74      1051\n",
      "         two       0.73      0.76      0.74      1658\n",
      "        zero       0.45      0.46      0.46       157\n",
      "\n",
      "    accuracy                           0.73      7090\n",
      "   macro avg       0.65      0.62      0.63      7090\n",
      "weighted avg       0.73      0.73      0.73      7090\n",
      "\n"
     ]
    }
   ],
   "source": [
    "#Print Confusion matrix and other important results\n",
    "print(\"Confusion Matrix\")\n",
    "print(confusion_matrix(y_test_4000Split, y_pred_4000Split))\n",
    "print(\"\\n\")\n",
    "print(classification_report(y_test_4000Split, y_pred_4000Split))"
   ]
  },
  {
   "cell_type": "markdown",
   "metadata": {},
   "source": [
    "<hr>\n",
    "<h4>Part 4 - 9000 into the test cases <h4>"
   ]
  },
  {
   "cell_type": "markdown",
   "metadata": {},
   "source": [
    "Goal : Run decision tree classifier on a reduced training set, but increased training set"
   ]
  },
  {
   "cell_type": "code",
   "execution_count": 360,
   "metadata": {},
   "outputs": [],
   "source": [
    "#define the model to be used \n",
    "classifier_9000Split = DecisionTreeClassifier()\n",
    "\n",
    "#fit this model using the test data\n",
    "classifier_9000Split.fit(X_train_9000Split, y_train_9000Split)\n",
    "\n",
    "#test this model on the seperated data\n",
    "y_pred_9000Split = classifier_9000Split.predict(X_test_9000Split)\n",
    "\n",
    "#generate confusion matrix\n",
    "conf_matrix_9000Split = confusion_matrix(y_test_9000Split, y_pred_9000Split)\n",
    "\n",
    "#generate classification report\n",
    "classification_report_9000Split = classification_report(y_test_9000Split, y_pred_9000Split)"
   ]
  },
  {
   "cell_type": "code",
   "execution_count": 361,
   "metadata": {},
   "outputs": [
    {
     "name": "stdout",
     "output_type": "stream",
     "text": [
      "Confusion Matrix\n",
      "[[ 156    4   18   38   31   15   17   29   57    9]\n",
      " [   8   16   29   20    3   26    4   35    9    0]\n",
      " [  35    6 1035    6  162   21   31   65  129    5]\n",
      " [  47    5   15   73    6    3    9   10   13    1]\n",
      " [  21   10  198    7 1045   15   21   61  245   10]\n",
      " [  23   13   30   14   18   35    5   12    6    0]\n",
      " [  50    4   10   26   16    4   71   20   33    0]\n",
      " [  35    0   51    7  156   12   26  553  183   28]\n",
      " [  29    1  141   38  426   10   27   99  885    2]\n",
      " [  26    5   20    0   46    0    2   21   21   16]]\n",
      "\n",
      "\n",
      "              precision    recall  f1-score   support\n",
      "\n",
      "       eight       0.36      0.42      0.39       374\n",
      "        five       0.25      0.11      0.15       150\n",
      "        four       0.67      0.69      0.68      1495\n",
      "        nine       0.32      0.40      0.36       182\n",
      "         one       0.55      0.64      0.59      1633\n",
      "       seven       0.25      0.22      0.24       156\n",
      "         six       0.33      0.30      0.32       234\n",
      "       three       0.61      0.53      0.57      1051\n",
      "         two       0.56      0.53      0.55      1658\n",
      "        zero       0.23      0.10      0.14       157\n",
      "\n",
      "    accuracy                           0.55      7090\n",
      "   macro avg       0.41      0.39      0.40      7090\n",
      "weighted avg       0.54      0.55      0.54      7090\n",
      "\n"
     ]
    }
   ],
   "source": [
    "#Print Confusion matrix and other important results\n",
    "print(\"Confusion Matrix\")\n",
    "print(conf_matrix_9000Split)\n",
    "print(\"\\n\")\n",
    "print(classification_report_9000Split)"
   ]
  },
  {
   "cell_type": "markdown",
   "metadata": {},
   "source": [
    "\n"
   ]
  },
  {
   "cell_type": "markdown",
   "metadata": {},
   "source": [
    "<hr>\n",
    "<h3> Alternative Tree - Random Forest <h3> \n",
    "    \n",
    "  "
   ]
  },
  {
   "cell_type": "markdown",
   "metadata": {},
   "source": [
    "adapted from https://scikit-learn.org/stable/modules/generated/sklearn.ensemble.RandomForestClassifier.html"
   ]
  },
  {
   "cell_type": "code",
   "execution_count": 362,
   "metadata": {},
   "outputs": [],
   "source": [
    "#imports for Random Forest\n",
    "import os\n",
    "import numpy as np\n",
    "import pandas as pd\n",
    "import matplotlib.pyplot as plt\n",
    "from sklearn.utils import shuffle\n",
    "\n",
    "from sklearn.metrics import roc_auc_score\n",
    "from sklearn.metrics import confusion_matrix\n",
    "import seaborn as sns\n",
    "from sklearn.metrics import classification_report\n",
    "from sklearn.model_selection import cross_val_score\n",
    "from sklearn.model_selection import cross_val_predict\n",
    "from sklearn.metrics import roc_auc_score\n",
    "\n",
    "from sklearn.ensemble import RandomForestClassifier"
   ]
  },
  {
   "cell_type": "markdown",
   "metadata": {},
   "source": [
    "<hr>\n",
    "<h4> Cross Validation <h4>"
   ]
  },
  {
   "cell_type": "markdown",
   "metadata": {},
   "source": [
    "Goal : Run cross a random forest classifier with 10 fold cross validation then output metrics"
   ]
  },
  {
   "cell_type": "code",
   "execution_count": 363,
   "metadata": {},
   "outputs": [],
   "source": [
    "#create a Gaussian Classifier - random forest\n",
    "randomForest_crossVal = RandomForestClassifier(n_estimators = 100)\n",
    "\n",
    "#train the model using the training set generated \n",
    "randomForest_crossVal.fit(X_train, y_train)\n",
    "\n",
    "\n",
    "#setup cross validation using the above classifier, X_train = data to be classified, y = the labels, CV = number of folds\n",
    "cross_validation_scores_randomForest = cross_val_score(randomForest_crossVal, X_train, y_train, cv=10)\n"
   ]
  },
  {
   "cell_type": "code",
   "execution_count": 364,
   "metadata": {},
   "outputs": [
    {
     "data": {
      "text/plain": [
       "Text(0.5, 1.0, 'Average score: 0.9782249742002064')"
      ]
     },
     "execution_count": 364,
     "metadata": {},
     "output_type": "execute_result"
    },
    {
     "data": {
      "image/png": "[encoded data removed]",
      "text/plain": [
       "<Figure size 432x288 with 1 Axes>"
      ]
     },
     "metadata": {
      "needs_background": "light"
     },
     "output_type": "display_data"
    }
   ],
   "source": [
    "# use seaborn (sns) to plot a graph of the above scores\n",
    "sns.distplot(cross_validation_scores_randomForest)\n",
    "plt.title('Average score: {}'.format(np.mean(cross_validation_scores_randomForest)))"
   ]
  },
  {
   "cell_type": "code",
   "execution_count": 365,
   "metadata": {},
   "outputs": [
    {
     "ename": "NameError",
     "evalue": "name 'y_pred_randomForest_crossVal' is not defined",
     "output_type": "error",
     "traceback": [
      "\u001b[0;31m---------------------------------------------------------------------------\u001b[0m",
      "\u001b[0;31mNameError\u001b[0m                                 Traceback (most recent call last)",
      "\u001b[0;32m<ipython-input-365-a6e7cccefe6d>\u001b[0m in \u001b[0;36m<module>\u001b[0;34m\u001b[0m\n\u001b[1;32m      4\u001b[0m \u001b[0;34m\u001b[0m\u001b[0m\n\u001b[1;32m      5\u001b[0m \u001b[0;31m#allows for confusion matrix generation\u001b[0m\u001b[0;34m\u001b[0m\u001b[0;34m\u001b[0m\u001b[0;34m\u001b[0m\u001b[0m\n\u001b[0;32m----> 6\u001b[0;31m \u001b[0mconf_matrix_randomForest\u001b[0m \u001b[0;34m=\u001b[0m \u001b[0mconfusion_matrix\u001b[0m\u001b[0;34m(\u001b[0m\u001b[0my_train\u001b[0m\u001b[0;34m,\u001b[0m \u001b[0my_pred_randomForest_crossVal\u001b[0m\u001b[0;34m)\u001b[0m\u001b[0;34m\u001b[0m\u001b[0;34m\u001b[0m\u001b[0m\n\u001b[0m\u001b[1;32m      7\u001b[0m \u001b[0mclassification_report_randomForest\u001b[0m \u001b[0;34m=\u001b[0m \u001b[0mclassification_report\u001b[0m\u001b[0;34m(\u001b[0m\u001b[0my_train\u001b[0m\u001b[0;34m,\u001b[0m \u001b[0my_pred_RandomForest_crossVal\u001b[0m\u001b[0;34m)\u001b[0m\u001b[0;34m\u001b[0m\u001b[0;34m\u001b[0m\u001b[0m\n",
      "\u001b[0;31mNameError\u001b[0m: name 'y_pred_randomForest_crossVal' is not defined"
     ]
    }
   ],
   "source": [
    "#train model with 10 fold validation, \n",
    "#cross_val_predict Get predictions from each split of cross-validation for diagnostic purposes.\n",
    "y_pred_randomForest_crosVal = cross_val_predict(randomForest, X_train, y_train, cv=10)\n",
    "\n",
    "#allows for confusion matrix generation\n",
    "conf_matrix_randomForest = confusion_matrix(y_train, y_pred_randomForest_crossVal)\n",
    "classification_report_randomForest = classification_report(y_train, y_pred_RandomForest_crossVal)"
   ]
  },
  {
   "cell_type": "code",
   "execution_count": null,
   "metadata": {},
   "outputs": [],
   "source": [
    "#Print Confusion matrix and other important results\n",
    "print(\"Confusion Matrix\")\n",
    "print(conf_matrix_randomForest)\n",
    "\n",
    "print(\"\\n\")\n",
    "print(classification_report_randomForest)\n",
    "#print(roc_auc_score(y, y_pred))"
   ]
  },
  {
   "cell_type": "markdown",
   "metadata": {},
   "source": [
    "<hr>\n",
    "<h4> with Test data <h4> "
   ]
  },
  {
   "cell_type": "markdown",
   "metadata": {},
   "source": [
    "Goal : Run a random forest classifier with test data"
   ]
  },
  {
   "cell_type": "code",
   "execution_count": null,
   "metadata": {},
   "outputs": [],
   "source": [
    "#create a Gaussian Classifier - random forest\n",
    "\n",
    "randomForest_withTestData = RandomForestClassifier(n_estimators = 100)\n",
    "\n",
    "#train the model using the training set generated \n",
    "randomForest_withTestData.fit(X_train, y_train)\n",
    "\n",
    "\n",
    "#test this model on the seperated data\n",
    "y_pred_randomForest_testData = randomForest_withTestData.predict(X_test)\n",
    "\n",
    "\n",
    "#confusion matrix generation\n",
    "conf_matrix_randomForest_withTestData = confusion_matrix(y_test, y_pred_randomForest_testData)\n",
    "\n",
    "#accuracy report\n",
    "classification_report_randomForest_withTestData = classification_report(y_test, y_pred_randomForest_testData)"
   ]
  },
  {
   "cell_type": "code",
   "execution_count": null,
   "metadata": {},
   "outputs": [],
   "source": [
    "print(\"Confusion Matrix\")\n",
    "print(conf_matrix_randomForest_withTestData)\n",
    "print(\"\\n\")\n",
    "print(classification_report_randomForest_withTestData)"
   ]
  },
  {
   "cell_type": "markdown",
   "metadata": {},
   "source": [
    "<hr>\n",
    "<h4> Data Split - 4000<h4> "
   ]
  },
  {
   "cell_type": "markdown",
   "metadata": {},
   "source": [
    "Goal : Run a random forest classifier with 4000 instances moves from the original training data into the test data. "
   ]
  },
  {
   "cell_type": "code",
   "execution_count": null,
   "metadata": {},
   "outputs": [],
   "source": [
    "#create a Gaussian Classifier - random forest\n",
    "\n",
    "randomForest_4000Split = RandomForestClassifier(n_estimators = 100)\n",
    "\n",
    "#train the model using the training set generated \n",
    "randomForest_4000Split.fit(X_train_4000Split, y_train_4000Split)\n",
    "\n",
    "\n",
    "#test this model on the seperated data\n",
    "y_pred_randomForest_4000Split = randomForest_4000Split.predict(X_test_4000Split)\n",
    "\n",
    "\n",
    "#confusion matrix generation\n",
    "conf_matrix_randomForest_4000Split = confusion_matrix(y_test_4000Split, y_pred_randomForest_4000Split)\n",
    "\n",
    "#accuracy report\n",
    "classification_report_randomForest_4000Split = classification_report(y_test_4000Split, y_pred_randomForest_4000Split)"
   ]
  },
  {
   "cell_type": "code",
   "execution_count": null,
   "metadata": {},
   "outputs": [],
   "source": [
    "print(\"Confusion Matrix\")\n",
    "print(conf_matrix_randomForest_4000Split)\n",
    "print(\"\\n\")\n",
    "print(classification_report_randomForest_4000Split)"
   ]
  },
  {
   "cell_type": "markdown",
   "metadata": {},
   "source": [
    "<hr>\n",
    "<h4> Data Split - 9000<h4> "
   ]
  },
  {
   "cell_type": "markdown",
   "metadata": {},
   "source": [
    "Goal : Run a random forest classifier with 9000 instances moves from the original training data into the test data. "
   ]
  },
  {
   "cell_type": "code",
   "execution_count": null,
   "metadata": {},
   "outputs": [],
   "source": [
    "#create a Gaussian Classifier - random forest\n",
    "\n",
    "randomForest_9000Split = RandomForestClassifier(n_estimators = 100)\n",
    "\n",
    "#train the model using the training set generated \n",
    "randomForest_9000Split.fit(X_train_9000Split, y_train_9000Split)\n",
    "\n",
    "\n",
    "#test this model on the seperated data\n",
    "y_pred_randomForest_9000Split = randomForest_9000Split.predict(X_test_9000Split)\n",
    "\n",
    "\n",
    "#confusion matrix generation\n",
    "conf_matrix_randomForest_9000Split = confusion_matrix(y_test_9000Split, y_pred_randomForest_9000Split)\n",
    "\n",
    "#accuracy report\n",
    "classification_report_randomForest_9000Split = classification_report(y_test_9000Split, y_pred_randomForest_9000Split)"
   ]
  },
  {
   "cell_type": "code",
   "execution_count": null,
   "metadata": {},
   "outputs": [],
   "source": [
    "print(\"Confusion Matrix\")\n",
    "print(conf_matrix_randomForest_9000Split)\n",
    "print(\"\\n\")\n",
    "print(classification_report_randomForest_9000Split)"
   ]
  },
  {
   "cell_type": "code",
   "execution_count": null,
   "metadata": {},
   "outputs": [],
   "source": []
  },
  {
   "cell_type": "markdown",
   "metadata": {},
   "source": [
    "<h2> Neural Networks <h2>\n",
    "   <hr>"
   ]
  },
  {
   "cell_type": "markdown",
   "metadata": {},
   "source": [
    "<h3> Linear Classifier - Support Vector Classification <h3>"
   ]
  },
  {
   "cell_type": "markdown",
   "metadata": {},
   "source": [
    "Adapted from https://scikit-learn.org/stable/modules/generated/sklearn.svm.SVC.html#sklearn.svm.SVC\n",
    "\n",
    "Benefits - High accuracy compard to other decision tree methods thanks to a kernel trick, which allows it to handle non linear input spaces.\n",
    "\n",
    "SVC - The classifier separates data points using a hyperplane with the largest amount of margin.\n",
    "\n",
    "Further info here :\n",
    "https://www.datacamp.com/community/tutorials/svm-classification-scikit-learn-python"
   ]
  },
  {
   "cell_type": "code",
   "execution_count": null,
   "metadata": {},
   "outputs": [],
   "source": [
    "# Setup SVC\n",
    "\n",
    "from sklearn.svm import SVC"
   ]
  },
  {
   "cell_type": "code",
   "execution_count": null,
   "metadata": {},
   "outputs": [],
   "source": [
    "#Create a svm Classifier\n",
    "svmClassifier_withTestData = SVC(kernel='linear') # Linear Kernel\n",
    "\n",
    "#Train the model using the training sets\n",
    "svmClassifier_withTestData.fit(X_train, y_train)\n",
    "\n",
    "\n",
    "#test this model on the seperated data\n",
    "y_pred_svmClassifier_withTestData = svmClassifier_withTestData.predict(X_test)\n",
    "\n",
    "\n",
    "#confusion matrix generation\n",
    "conf_matrix_svmClassifier_withTestData = confusion_matrix(y_test, y_pred_svmClassifier_withTestData)\n",
    "\n",
    "#accuracy report\n",
    "classification_report_randomForest_withTestData = classification_report(y_test, y_pred_svmClassifier_withTestData)"
   ]
  },
  {
   "cell_type": "code",
   "execution_count": null,
   "metadata": {},
   "outputs": [],
   "source": [
    "print(\"Confusion Matrix\")\n",
    "print(conf_matrix_svmClassifier_withTestData)\n",
    "print(\"\\n\")\n",
    "print(classification_report_randomForest_withTestData)"
   ]
  },
  {
   "cell_type": "markdown",
   "metadata": {},
   "source": [
    "<h3> MLP <h3>"
   ]
  },
  {
   "cell_type": "code",
   "execution_count": null,
   "metadata": {},
   "outputs": [],
   "source": []
  },
  {
   "cell_type": "code",
   "execution_count": null,
   "metadata": {},
   "outputs": [],
   "source": []
  },
  {
   "cell_type": "markdown",
   "metadata": {},
   "source": [
    "<h3> Results and Other <h3>"
   ]
  },
  {
   "cell_type": "markdown",
   "metadata": {},
   "source": [
    "would be cool to produce some plots like this for comparing models : \n",
    "\n",
    "\n",
    "https://scikit-learn.org/stable/auto_examples/classification/plot_classifier_comparison.html"
   ]
  },
  {
   "cell_type": "code",
   "execution_count": null,
   "metadata": {},
   "outputs": [],
   "source": []
  }
 ],
 "metadata": {
  "kernelspec": {
   "display_name": "Python 3",
   "language": "python",
   "name": "python3"
  },
  "language_info": {
   "codemirror_mode": {
    "name": "ipython",
    "version": 3
   },
   "file_extension": ".py",
   "mimetype": "text/x-python",
   "name": "python",
   "nbconvert_exporter": "python",
   "pygments_lexer": "ipython3",
   "version": "3.8.3"
  }
 },
 "nbformat": 4,
 "nbformat_minor": 4
}
