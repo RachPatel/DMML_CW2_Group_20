{
 "cells": [
  {
   "cell_type": "markdown",
   "metadata": {},
   "source": [
    "# ANN AND CONVOLUTIONS IN TENSOR FLOW\n",
    "\n",
    "\"ALL MACHINE LEARNING INTERFACES ARE THE SAME\" The lazy programmer"
   ]
  },
  {
   "cell_type": "code",
   "execution_count": 1,
   "metadata": {},
   "outputs": [],
   "source": [
    "# IMPORT ALL THE NECCESARY LIBRARYS\n",
    "import pandas as pd\n",
    "import matplotlib.pyplot as plt\n",
    "import numpy as np\n",
    "import seaborn as sns"
   ]
  },
  {
   "cell_type": "markdown",
   "metadata": {},
   "source": [
    "## Read in Data"
   ]
  },
  {
   "cell_type": "code",
   "execution_count": 2,
   "metadata": {},
   "outputs": [],
   "source": [
    "Features_data=pd.read_csv(\"x_train_gr_smpl.csv\")"
   ]
  },
  {
   "cell_type": "code",
   "execution_count": 3,
   "metadata": {},
   "outputs": [
    {
     "data": {
      "text/html": [
       "<div>\n",
       "<style scoped>\n",
       "    .dataframe tbody tr th:only-of-type {\n",
       "        vertical-align: middle;\n",
       "    }\n",
       "\n",
       "    .dataframe tbody tr th {\n",
       "        vertical-align: top;\n",
       "    }\n",
       "\n",
       "    .dataframe thead th {\n",
       "        text-align: right;\n",
       "    }\n",
       "</style>\n",
       "<table border=\"1\" class=\"dataframe\">\n",
       "  <thead>\n",
       "    <tr style=\"text-align: right;\">\n",
       "      <th></th>\n",
       "      <th>0</th>\n",
       "      <th>1</th>\n",
       "      <th>2</th>\n",
       "      <th>3</th>\n",
       "      <th>4</th>\n",
       "      <th>5</th>\n",
       "      <th>6</th>\n",
       "      <th>7</th>\n",
       "      <th>8</th>\n",
       "      <th>9</th>\n",
       "      <th>...</th>\n",
       "      <th>2294</th>\n",
       "      <th>2295</th>\n",
       "      <th>2296</th>\n",
       "      <th>2297</th>\n",
       "      <th>2298</th>\n",
       "      <th>2299</th>\n",
       "      <th>2300</th>\n",
       "      <th>2301</th>\n",
       "      <th>2302</th>\n",
       "      <th>2303</th>\n",
       "    </tr>\n",
       "  </thead>\n",
       "  <tbody>\n",
       "    <tr>\n",
       "      <th>0</th>\n",
       "      <td>78.0</td>\n",
       "      <td>77.0</td>\n",
       "      <td>76.0</td>\n",
       "      <td>82.0</td>\n",
       "      <td>87.0</td>\n",
       "      <td>92.0</td>\n",
       "      <td>104.0</td>\n",
       "      <td>119.0</td>\n",
       "      <td>117.0</td>\n",
       "      <td>120.0</td>\n",
       "      <td>...</td>\n",
       "      <td>87.0</td>\n",
       "      <td>79.0</td>\n",
       "      <td>72.0</td>\n",
       "      <td>76.0</td>\n",
       "      <td>83.0</td>\n",
       "      <td>95.0</td>\n",
       "      <td>99.0</td>\n",
       "      <td>98.0</td>\n",
       "      <td>95.0</td>\n",
       "      <td>94.0</td>\n",
       "    </tr>\n",
       "    <tr>\n",
       "      <th>1</th>\n",
       "      <td>73.0</td>\n",
       "      <td>75.0</td>\n",
       "      <td>79.0</td>\n",
       "      <td>78.0</td>\n",
       "      <td>76.0</td>\n",
       "      <td>75.0</td>\n",
       "      <td>89.0</td>\n",
       "      <td>107.0</td>\n",
       "      <td>133.0</td>\n",
       "      <td>125.0</td>\n",
       "      <td>...</td>\n",
       "      <td>96.0</td>\n",
       "      <td>93.0</td>\n",
       "      <td>85.0</td>\n",
       "      <td>77.0</td>\n",
       "      <td>69.0</td>\n",
       "      <td>73.0</td>\n",
       "      <td>83.0</td>\n",
       "      <td>100.0</td>\n",
       "      <td>101.0</td>\n",
       "      <td>101.0</td>\n",
       "    </tr>\n",
       "    <tr>\n",
       "      <th>2</th>\n",
       "      <td>72.0</td>\n",
       "      <td>75.0</td>\n",
       "      <td>79.0</td>\n",
       "      <td>77.0</td>\n",
       "      <td>81.0</td>\n",
       "      <td>89.0</td>\n",
       "      <td>105.0</td>\n",
       "      <td>109.0</td>\n",
       "      <td>86.0</td>\n",
       "      <td>90.0</td>\n",
       "      <td>...</td>\n",
       "      <td>98.0</td>\n",
       "      <td>95.0</td>\n",
       "      <td>88.0</td>\n",
       "      <td>80.0</td>\n",
       "      <td>73.0</td>\n",
       "      <td>71.0</td>\n",
       "      <td>74.0</td>\n",
       "      <td>80.0</td>\n",
       "      <td>89.0</td>\n",
       "      <td>95.0</td>\n",
       "    </tr>\n",
       "    <tr>\n",
       "      <th>3</th>\n",
       "      <td>67.0</td>\n",
       "      <td>70.0</td>\n",
       "      <td>74.0</td>\n",
       "      <td>80.0</td>\n",
       "      <td>93.0</td>\n",
       "      <td>107.0</td>\n",
       "      <td>110.0</td>\n",
       "      <td>96.0</td>\n",
       "      <td>69.0</td>\n",
       "      <td>100.0</td>\n",
       "      <td>...</td>\n",
       "      <td>112.0</td>\n",
       "      <td>92.0</td>\n",
       "      <td>87.0</td>\n",
       "      <td>82.0</td>\n",
       "      <td>77.0</td>\n",
       "      <td>72.0</td>\n",
       "      <td>70.0</td>\n",
       "      <td>72.0</td>\n",
       "      <td>81.0</td>\n",
       "      <td>88.0</td>\n",
       "    </tr>\n",
       "    <tr>\n",
       "      <th>4</th>\n",
       "      <td>74.0</td>\n",
       "      <td>74.0</td>\n",
       "      <td>73.0</td>\n",
       "      <td>72.0</td>\n",
       "      <td>77.0</td>\n",
       "      <td>87.0</td>\n",
       "      <td>104.0</td>\n",
       "      <td>109.0</td>\n",
       "      <td>84.0</td>\n",
       "      <td>83.0</td>\n",
       "      <td>...</td>\n",
       "      <td>100.0</td>\n",
       "      <td>98.0</td>\n",
       "      <td>99.0</td>\n",
       "      <td>100.0</td>\n",
       "      <td>99.0</td>\n",
       "      <td>89.0</td>\n",
       "      <td>78.0</td>\n",
       "      <td>66.0</td>\n",
       "      <td>68.0</td>\n",
       "      <td>72.0</td>\n",
       "    </tr>\n",
       "    <tr>\n",
       "      <th>5</th>\n",
       "      <td>68.0</td>\n",
       "      <td>67.0</td>\n",
       "      <td>71.0</td>\n",
       "      <td>93.0</td>\n",
       "      <td>117.0</td>\n",
       "      <td>139.0</td>\n",
       "      <td>105.0</td>\n",
       "      <td>82.0</td>\n",
       "      <td>70.0</td>\n",
       "      <td>125.0</td>\n",
       "      <td>...</td>\n",
       "      <td>90.0</td>\n",
       "      <td>82.0</td>\n",
       "      <td>89.0</td>\n",
       "      <td>95.0</td>\n",
       "      <td>100.0</td>\n",
       "      <td>92.0</td>\n",
       "      <td>82.0</td>\n",
       "      <td>70.0</td>\n",
       "      <td>68.0</td>\n",
       "      <td>68.0</td>\n",
       "    </tr>\n",
       "    <tr>\n",
       "      <th>6</th>\n",
       "      <td>63.0</td>\n",
       "      <td>64.0</td>\n",
       "      <td>66.0</td>\n",
       "      <td>69.0</td>\n",
       "      <td>75.0</td>\n",
       "      <td>90.0</td>\n",
       "      <td>118.0</td>\n",
       "      <td>96.0</td>\n",
       "      <td>82.0</td>\n",
       "      <td>79.0</td>\n",
       "      <td>...</td>\n",
       "      <td>93.0</td>\n",
       "      <td>91.0</td>\n",
       "      <td>92.0</td>\n",
       "      <td>92.0</td>\n",
       "      <td>94.0</td>\n",
       "      <td>93.0</td>\n",
       "      <td>86.0</td>\n",
       "      <td>72.0</td>\n",
       "      <td>69.0</td>\n",
       "      <td>70.0</td>\n",
       "    </tr>\n",
       "    <tr>\n",
       "      <th>7</th>\n",
       "      <td>67.0</td>\n",
       "      <td>67.0</td>\n",
       "      <td>70.0</td>\n",
       "      <td>78.0</td>\n",
       "      <td>113.0</td>\n",
       "      <td>119.0</td>\n",
       "      <td>100.0</td>\n",
       "      <td>73.0</td>\n",
       "      <td>82.0</td>\n",
       "      <td>120.0</td>\n",
       "      <td>...</td>\n",
       "      <td>107.0</td>\n",
       "      <td>99.0</td>\n",
       "      <td>86.0</td>\n",
       "      <td>89.0</td>\n",
       "      <td>94.0</td>\n",
       "      <td>96.0</td>\n",
       "      <td>94.0</td>\n",
       "      <td>80.0</td>\n",
       "      <td>69.0</td>\n",
       "      <td>62.0</td>\n",
       "    </tr>\n",
       "    <tr>\n",
       "      <th>8</th>\n",
       "      <td>94.0</td>\n",
       "      <td>123.0</td>\n",
       "      <td>138.0</td>\n",
       "      <td>98.0</td>\n",
       "      <td>77.0</td>\n",
       "      <td>79.0</td>\n",
       "      <td>109.0</td>\n",
       "      <td>177.0</td>\n",
       "      <td>224.0</td>\n",
       "      <td>247.0</td>\n",
       "      <td>...</td>\n",
       "      <td>104.0</td>\n",
       "      <td>99.0</td>\n",
       "      <td>94.0</td>\n",
       "      <td>89.0</td>\n",
       "      <td>90.0</td>\n",
       "      <td>92.0</td>\n",
       "      <td>92.0</td>\n",
       "      <td>82.0</td>\n",
       "      <td>71.0</td>\n",
       "      <td>63.0</td>\n",
       "    </tr>\n",
       "    <tr>\n",
       "      <th>9</th>\n",
       "      <td>67.0</td>\n",
       "      <td>75.0</td>\n",
       "      <td>97.0</td>\n",
       "      <td>122.0</td>\n",
       "      <td>115.0</td>\n",
       "      <td>89.0</td>\n",
       "      <td>73.0</td>\n",
       "      <td>81.0</td>\n",
       "      <td>140.0</td>\n",
       "      <td>205.0</td>\n",
       "      <td>...</td>\n",
       "      <td>130.0</td>\n",
       "      <td>110.0</td>\n",
       "      <td>102.0</td>\n",
       "      <td>98.0</td>\n",
       "      <td>95.0</td>\n",
       "      <td>91.0</td>\n",
       "      <td>75.0</td>\n",
       "      <td>70.0</td>\n",
       "      <td>69.0</td>\n",
       "      <td>71.0</td>\n",
       "    </tr>\n",
       "  </tbody>\n",
       "</table>\n",
       "<p>10 rows × 2304 columns</p>\n",
       "</div>"
      ],
      "text/plain": [
       "      0      1      2      3      4      5      6      7      8      9  ...  \\\n",
       "0  78.0   77.0   76.0   82.0   87.0   92.0  104.0  119.0  117.0  120.0  ...   \n",
       "1  73.0   75.0   79.0   78.0   76.0   75.0   89.0  107.0  133.0  125.0  ...   \n",
       "2  72.0   75.0   79.0   77.0   81.0   89.0  105.0  109.0   86.0   90.0  ...   \n",
       "3  67.0   70.0   74.0   80.0   93.0  107.0  110.0   96.0   69.0  100.0  ...   \n",
       "4  74.0   74.0   73.0   72.0   77.0   87.0  104.0  109.0   84.0   83.0  ...   \n",
       "5  68.0   67.0   71.0   93.0  117.0  139.0  105.0   82.0   70.0  125.0  ...   \n",
       "6  63.0   64.0   66.0   69.0   75.0   90.0  118.0   96.0   82.0   79.0  ...   \n",
       "7  67.0   67.0   70.0   78.0  113.0  119.0  100.0   73.0   82.0  120.0  ...   \n",
       "8  94.0  123.0  138.0   98.0   77.0   79.0  109.0  177.0  224.0  247.0  ...   \n",
       "9  67.0   75.0   97.0  122.0  115.0   89.0   73.0   81.0  140.0  205.0  ...   \n",
       "\n",
       "    2294   2295   2296   2297   2298  2299  2300   2301   2302   2303  \n",
       "0   87.0   79.0   72.0   76.0   83.0  95.0  99.0   98.0   95.0   94.0  \n",
       "1   96.0   93.0   85.0   77.0   69.0  73.0  83.0  100.0  101.0  101.0  \n",
       "2   98.0   95.0   88.0   80.0   73.0  71.0  74.0   80.0   89.0   95.0  \n",
       "3  112.0   92.0   87.0   82.0   77.0  72.0  70.0   72.0   81.0   88.0  \n",
       "4  100.0   98.0   99.0  100.0   99.0  89.0  78.0   66.0   68.0   72.0  \n",
       "5   90.0   82.0   89.0   95.0  100.0  92.0  82.0   70.0   68.0   68.0  \n",
       "6   93.0   91.0   92.0   92.0   94.0  93.0  86.0   72.0   69.0   70.0  \n",
       "7  107.0   99.0   86.0   89.0   94.0  96.0  94.0   80.0   69.0   62.0  \n",
       "8  104.0   99.0   94.0   89.0   90.0  92.0  92.0   82.0   71.0   63.0  \n",
       "9  130.0  110.0  102.0   98.0   95.0  91.0  75.0   70.0   69.0   71.0  \n",
       "\n",
       "[10 rows x 2304 columns]"
      ]
     },
     "execution_count": 3,
     "metadata": {},
     "output_type": "execute_result"
    }
   ],
   "source": [
    "Features_data.head(10)"
   ]
  },
  {
   "cell_type": "code",
   "execution_count": 4,
   "metadata": {},
   "outputs": [
    {
     "name": "stdout",
     "output_type": "stream",
     "text": [
      "<class 'pandas.core.frame.DataFrame'>\n",
      "RangeIndex: 9690 entries, 0 to 9689\n",
      "Columns: 2304 entries, 0 to 2303\n",
      "dtypes: float64(2304)\n",
      "memory usage: 170.3 MB\n"
     ]
    }
   ],
   "source": [
    "#Investigate the data at high level\n",
    "#it seems okay 48 * 48 =2304\n",
    "Features_data.info()\n"
   ]
  },
  {
   "cell_type": "markdown",
   "metadata": {},
   "source": [
    "Divide it by 225 for proper scaling"
   ]
  },
  {
   "cell_type": "code",
   "execution_count": 5,
   "metadata": {},
   "outputs": [
    {
     "data": {
      "text/html": [
       "<div>\n",
       "<style scoped>\n",
       "    .dataframe tbody tr th:only-of-type {\n",
       "        vertical-align: middle;\n",
       "    }\n",
       "\n",
       "    .dataframe tbody tr th {\n",
       "        vertical-align: top;\n",
       "    }\n",
       "\n",
       "    .dataframe thead th {\n",
       "        text-align: right;\n",
       "    }\n",
       "</style>\n",
       "<table border=\"1\" class=\"dataframe\">\n",
       "  <thead>\n",
       "    <tr style=\"text-align: right;\">\n",
       "      <th></th>\n",
       "      <th>0</th>\n",
       "      <th>1</th>\n",
       "      <th>2</th>\n",
       "      <th>3</th>\n",
       "      <th>4</th>\n",
       "      <th>5</th>\n",
       "      <th>6</th>\n",
       "      <th>7</th>\n",
       "      <th>8</th>\n",
       "      <th>9</th>\n",
       "      <th>...</th>\n",
       "      <th>2294</th>\n",
       "      <th>2295</th>\n",
       "      <th>2296</th>\n",
       "      <th>2297</th>\n",
       "      <th>2298</th>\n",
       "      <th>2299</th>\n",
       "      <th>2300</th>\n",
       "      <th>2301</th>\n",
       "      <th>2302</th>\n",
       "      <th>2303</th>\n",
       "    </tr>\n",
       "  </thead>\n",
       "  <tbody>\n",
       "    <tr>\n",
       "      <th>0</th>\n",
       "      <td>0.305882</td>\n",
       "      <td>0.301961</td>\n",
       "      <td>0.298039</td>\n",
       "      <td>0.321569</td>\n",
       "      <td>0.341176</td>\n",
       "      <td>0.360784</td>\n",
       "      <td>0.407843</td>\n",
       "      <td>0.466667</td>\n",
       "      <td>0.458824</td>\n",
       "      <td>0.470588</td>\n",
       "      <td>...</td>\n",
       "      <td>0.341176</td>\n",
       "      <td>0.309804</td>\n",
       "      <td>0.282353</td>\n",
       "      <td>0.298039</td>\n",
       "      <td>0.325490</td>\n",
       "      <td>0.372549</td>\n",
       "      <td>0.388235</td>\n",
       "      <td>0.384314</td>\n",
       "      <td>0.372549</td>\n",
       "      <td>0.368627</td>\n",
       "    </tr>\n",
       "    <tr>\n",
       "      <th>1</th>\n",
       "      <td>0.286275</td>\n",
       "      <td>0.294118</td>\n",
       "      <td>0.309804</td>\n",
       "      <td>0.305882</td>\n",
       "      <td>0.298039</td>\n",
       "      <td>0.294118</td>\n",
       "      <td>0.349020</td>\n",
       "      <td>0.419608</td>\n",
       "      <td>0.521569</td>\n",
       "      <td>0.490196</td>\n",
       "      <td>...</td>\n",
       "      <td>0.376471</td>\n",
       "      <td>0.364706</td>\n",
       "      <td>0.333333</td>\n",
       "      <td>0.301961</td>\n",
       "      <td>0.270588</td>\n",
       "      <td>0.286275</td>\n",
       "      <td>0.325490</td>\n",
       "      <td>0.392157</td>\n",
       "      <td>0.396078</td>\n",
       "      <td>0.396078</td>\n",
       "    </tr>\n",
       "    <tr>\n",
       "      <th>2</th>\n",
       "      <td>0.282353</td>\n",
       "      <td>0.294118</td>\n",
       "      <td>0.309804</td>\n",
       "      <td>0.301961</td>\n",
       "      <td>0.317647</td>\n",
       "      <td>0.349020</td>\n",
       "      <td>0.411765</td>\n",
       "      <td>0.427451</td>\n",
       "      <td>0.337255</td>\n",
       "      <td>0.352941</td>\n",
       "      <td>...</td>\n",
       "      <td>0.384314</td>\n",
       "      <td>0.372549</td>\n",
       "      <td>0.345098</td>\n",
       "      <td>0.313725</td>\n",
       "      <td>0.286275</td>\n",
       "      <td>0.278431</td>\n",
       "      <td>0.290196</td>\n",
       "      <td>0.313725</td>\n",
       "      <td>0.349020</td>\n",
       "      <td>0.372549</td>\n",
       "    </tr>\n",
       "    <tr>\n",
       "      <th>3</th>\n",
       "      <td>0.262745</td>\n",
       "      <td>0.274510</td>\n",
       "      <td>0.290196</td>\n",
       "      <td>0.313725</td>\n",
       "      <td>0.364706</td>\n",
       "      <td>0.419608</td>\n",
       "      <td>0.431373</td>\n",
       "      <td>0.376471</td>\n",
       "      <td>0.270588</td>\n",
       "      <td>0.392157</td>\n",
       "      <td>...</td>\n",
       "      <td>0.439216</td>\n",
       "      <td>0.360784</td>\n",
       "      <td>0.341176</td>\n",
       "      <td>0.321569</td>\n",
       "      <td>0.301961</td>\n",
       "      <td>0.282353</td>\n",
       "      <td>0.274510</td>\n",
       "      <td>0.282353</td>\n",
       "      <td>0.317647</td>\n",
       "      <td>0.345098</td>\n",
       "    </tr>\n",
       "    <tr>\n",
       "      <th>4</th>\n",
       "      <td>0.290196</td>\n",
       "      <td>0.290196</td>\n",
       "      <td>0.286275</td>\n",
       "      <td>0.282353</td>\n",
       "      <td>0.301961</td>\n",
       "      <td>0.341176</td>\n",
       "      <td>0.407843</td>\n",
       "      <td>0.427451</td>\n",
       "      <td>0.329412</td>\n",
       "      <td>0.325490</td>\n",
       "      <td>...</td>\n",
       "      <td>0.392157</td>\n",
       "      <td>0.384314</td>\n",
       "      <td>0.388235</td>\n",
       "      <td>0.392157</td>\n",
       "      <td>0.388235</td>\n",
       "      <td>0.349020</td>\n",
       "      <td>0.305882</td>\n",
       "      <td>0.258824</td>\n",
       "      <td>0.266667</td>\n",
       "      <td>0.282353</td>\n",
       "    </tr>\n",
       "    <tr>\n",
       "      <th>5</th>\n",
       "      <td>0.266667</td>\n",
       "      <td>0.262745</td>\n",
       "      <td>0.278431</td>\n",
       "      <td>0.364706</td>\n",
       "      <td>0.458824</td>\n",
       "      <td>0.545098</td>\n",
       "      <td>0.411765</td>\n",
       "      <td>0.321569</td>\n",
       "      <td>0.274510</td>\n",
       "      <td>0.490196</td>\n",
       "      <td>...</td>\n",
       "      <td>0.352941</td>\n",
       "      <td>0.321569</td>\n",
       "      <td>0.349020</td>\n",
       "      <td>0.372549</td>\n",
       "      <td>0.392157</td>\n",
       "      <td>0.360784</td>\n",
       "      <td>0.321569</td>\n",
       "      <td>0.274510</td>\n",
       "      <td>0.266667</td>\n",
       "      <td>0.266667</td>\n",
       "    </tr>\n",
       "    <tr>\n",
       "      <th>6</th>\n",
       "      <td>0.247059</td>\n",
       "      <td>0.250980</td>\n",
       "      <td>0.258824</td>\n",
       "      <td>0.270588</td>\n",
       "      <td>0.294118</td>\n",
       "      <td>0.352941</td>\n",
       "      <td>0.462745</td>\n",
       "      <td>0.376471</td>\n",
       "      <td>0.321569</td>\n",
       "      <td>0.309804</td>\n",
       "      <td>...</td>\n",
       "      <td>0.364706</td>\n",
       "      <td>0.356863</td>\n",
       "      <td>0.360784</td>\n",
       "      <td>0.360784</td>\n",
       "      <td>0.368627</td>\n",
       "      <td>0.364706</td>\n",
       "      <td>0.337255</td>\n",
       "      <td>0.282353</td>\n",
       "      <td>0.270588</td>\n",
       "      <td>0.274510</td>\n",
       "    </tr>\n",
       "    <tr>\n",
       "      <th>7</th>\n",
       "      <td>0.262745</td>\n",
       "      <td>0.262745</td>\n",
       "      <td>0.274510</td>\n",
       "      <td>0.305882</td>\n",
       "      <td>0.443137</td>\n",
       "      <td>0.466667</td>\n",
       "      <td>0.392157</td>\n",
       "      <td>0.286275</td>\n",
       "      <td>0.321569</td>\n",
       "      <td>0.470588</td>\n",
       "      <td>...</td>\n",
       "      <td>0.419608</td>\n",
       "      <td>0.388235</td>\n",
       "      <td>0.337255</td>\n",
       "      <td>0.349020</td>\n",
       "      <td>0.368627</td>\n",
       "      <td>0.376471</td>\n",
       "      <td>0.368627</td>\n",
       "      <td>0.313725</td>\n",
       "      <td>0.270588</td>\n",
       "      <td>0.243137</td>\n",
       "    </tr>\n",
       "    <tr>\n",
       "      <th>8</th>\n",
       "      <td>0.368627</td>\n",
       "      <td>0.482353</td>\n",
       "      <td>0.541176</td>\n",
       "      <td>0.384314</td>\n",
       "      <td>0.301961</td>\n",
       "      <td>0.309804</td>\n",
       "      <td>0.427451</td>\n",
       "      <td>0.694118</td>\n",
       "      <td>0.878431</td>\n",
       "      <td>0.968627</td>\n",
       "      <td>...</td>\n",
       "      <td>0.407843</td>\n",
       "      <td>0.388235</td>\n",
       "      <td>0.368627</td>\n",
       "      <td>0.349020</td>\n",
       "      <td>0.352941</td>\n",
       "      <td>0.360784</td>\n",
       "      <td>0.360784</td>\n",
       "      <td>0.321569</td>\n",
       "      <td>0.278431</td>\n",
       "      <td>0.247059</td>\n",
       "    </tr>\n",
       "    <tr>\n",
       "      <th>9</th>\n",
       "      <td>0.262745</td>\n",
       "      <td>0.294118</td>\n",
       "      <td>0.380392</td>\n",
       "      <td>0.478431</td>\n",
       "      <td>0.450980</td>\n",
       "      <td>0.349020</td>\n",
       "      <td>0.286275</td>\n",
       "      <td>0.317647</td>\n",
       "      <td>0.549020</td>\n",
       "      <td>0.803922</td>\n",
       "      <td>...</td>\n",
       "      <td>0.509804</td>\n",
       "      <td>0.431373</td>\n",
       "      <td>0.400000</td>\n",
       "      <td>0.384314</td>\n",
       "      <td>0.372549</td>\n",
       "      <td>0.356863</td>\n",
       "      <td>0.294118</td>\n",
       "      <td>0.274510</td>\n",
       "      <td>0.270588</td>\n",
       "      <td>0.278431</td>\n",
       "    </tr>\n",
       "  </tbody>\n",
       "</table>\n",
       "<p>10 rows × 2304 columns</p>\n",
       "</div>"
      ],
      "text/plain": [
       "          0         1         2         3         4         5         6  \\\n",
       "0  0.305882  0.301961  0.298039  0.321569  0.341176  0.360784  0.407843   \n",
       "1  0.286275  0.294118  0.309804  0.305882  0.298039  0.294118  0.349020   \n",
       "2  0.282353  0.294118  0.309804  0.301961  0.317647  0.349020  0.411765   \n",
       "3  0.262745  0.274510  0.290196  0.313725  0.364706  0.419608  0.431373   \n",
       "4  0.290196  0.290196  0.286275  0.282353  0.301961  0.341176  0.407843   \n",
       "5  0.266667  0.262745  0.278431  0.364706  0.458824  0.545098  0.411765   \n",
       "6  0.247059  0.250980  0.258824  0.270588  0.294118  0.352941  0.462745   \n",
       "7  0.262745  0.262745  0.274510  0.305882  0.443137  0.466667  0.392157   \n",
       "8  0.368627  0.482353  0.541176  0.384314  0.301961  0.309804  0.427451   \n",
       "9  0.262745  0.294118  0.380392  0.478431  0.450980  0.349020  0.286275   \n",
       "\n",
       "          7         8         9  ...      2294      2295      2296      2297  \\\n",
       "0  0.466667  0.458824  0.470588  ...  0.341176  0.309804  0.282353  0.298039   \n",
       "1  0.419608  0.521569  0.490196  ...  0.376471  0.364706  0.333333  0.301961   \n",
       "2  0.427451  0.337255  0.352941  ...  0.384314  0.372549  0.345098  0.313725   \n",
       "3  0.376471  0.270588  0.392157  ...  0.439216  0.360784  0.341176  0.321569   \n",
       "4  0.427451  0.329412  0.325490  ...  0.392157  0.384314  0.388235  0.392157   \n",
       "5  0.321569  0.274510  0.490196  ...  0.352941  0.321569  0.349020  0.372549   \n",
       "6  0.376471  0.321569  0.309804  ...  0.364706  0.356863  0.360784  0.360784   \n",
       "7  0.286275  0.321569  0.470588  ...  0.419608  0.388235  0.337255  0.349020   \n",
       "8  0.694118  0.878431  0.968627  ...  0.407843  0.388235  0.368627  0.349020   \n",
       "9  0.317647  0.549020  0.803922  ...  0.509804  0.431373  0.400000  0.384314   \n",
       "\n",
       "       2298      2299      2300      2301      2302      2303  \n",
       "0  0.325490  0.372549  0.388235  0.384314  0.372549  0.368627  \n",
       "1  0.270588  0.286275  0.325490  0.392157  0.396078  0.396078  \n",
       "2  0.286275  0.278431  0.290196  0.313725  0.349020  0.372549  \n",
       "3  0.301961  0.282353  0.274510  0.282353  0.317647  0.345098  \n",
       "4  0.388235  0.349020  0.305882  0.258824  0.266667  0.282353  \n",
       "5  0.392157  0.360784  0.321569  0.274510  0.266667  0.266667  \n",
       "6  0.368627  0.364706  0.337255  0.282353  0.270588  0.274510  \n",
       "7  0.368627  0.376471  0.368627  0.313725  0.270588  0.243137  \n",
       "8  0.352941  0.360784  0.360784  0.321569  0.278431  0.247059  \n",
       "9  0.372549  0.356863  0.294118  0.274510  0.270588  0.278431  \n",
       "\n",
       "[10 rows x 2304 columns]"
      ]
     },
     "execution_count": 5,
     "metadata": {},
     "output_type": "execute_result"
    }
   ],
   "source": [
    "\"\"\"values are between 0 and 255, this will scale them to be between 0 and 1\"\"\"\n",
    "scaled=Features_data/255\n",
    "scaled.head(10)"
   ]
  },
  {
   "cell_type": "markdown",
   "metadata": {},
   "source": [
    "## Load in the Labels data"
   ]
  },
  {
   "cell_type": "code",
   "execution_count": 6,
   "metadata": {},
   "outputs": [],
   "source": [
    "class_data=pd.read_csv(\"y_train_smpl.csv\")\n",
    "renamed_class_data=class_data.rename(columns={\"0\": \"Class\"})\n",
    "class_data\n",
    "npie=class_data.to_numpy()   #convert the data to numpy array\n",
    "labels1=np.squeeze(npie)     # perfrom an transformation to fix the dimension to be suitable for CNN/ANN"
   ]
  },
  {
   "cell_type": "code",
   "execution_count": 7,
   "metadata": {},
   "outputs": [],
   "source": [
    "Features=scaled.to_numpy() #Convert the input to numpy array"
   ]
  },
  {
   "cell_type": "markdown",
   "metadata": {},
   "source": [
    "# Split the data "
   ]
  },
  {
   "cell_type": "code",
   "execution_count": 8,
   "metadata": {},
   "outputs": [],
   "source": [
    "from sklearn.naive_bayes import GaussianNB\n",
    "from sklearn.model_selection import train_test_split\n",
    "from sklearn.metrics import accuracy_score\n",
    "\n",
    "#define the feature vector\n",
    "\n",
    "X_train, X_test, y_train, y_test = train_test_split( Features, labels1, test_size=0.2, random_state=0)\n",
    "\n"
   ]
  },
  {
   "cell_type": "code",
   "execution_count": 9,
   "metadata": {},
   "outputs": [
    {
     "data": {
      "text/plain": [
       "(7752, 2304)"
      ]
     },
     "execution_count": 9,
     "metadata": {},
     "output_type": "execute_result"
    }
   ],
   "source": [
    "#Visualise \n",
    "X_train.shape"
   ]
  },
  {
   "cell_type": "markdown",
   "metadata": {},
   "source": [
    "# Import tensorflow"
   ]
  },
  {
   "cell_type": "code",
   "execution_count": 10,
   "metadata": {},
   "outputs": [
    {
     "name": "stdout",
     "output_type": "stream",
     "text": [
      "2.3.1\n"
     ]
    }
   ],
   "source": [
    "\n",
    "import tensorflow as tf\n",
    "print(tf.__version__)"
   ]
  },
  {
   "cell_type": "markdown",
   "metadata": {},
   "source": [
    "#  Build the model\n",
    "The data is already flat so no need for the flatten layer\n",
    "\n",
    "We have a dense layer representing the actual layer of the neural network\n",
    "\n",
    "This will pform a linear transformation with 128 outputs using the  Relu activation \n",
    "\n",
    "Next we have a dropout regularisation with a  drop out probability of 20%\n",
    "\n",
    "Finally we add the second layer ,another dense which ends with the softmax activatiojnn over the 10 output classes"
   ]
  },
  {
   "cell_type": "code",
   "execution_count": 11,
   "metadata": {},
   "outputs": [],
   "source": [
    "model = tf.keras.models.Sequential([\n",
    "  tf.keras.layers.Dense(128, activation='relu'),\n",
    "  tf.keras.layers.Dropout(0.2),\n",
    "  tf.keras.layers.Dense(10, activation='softmax')\n",
    "])"
   ]
  },
  {
   "cell_type": "markdown",
   "metadata": {},
   "source": [
    "# Compile the model\n",
    "Here we used adam for the optimiser\n",
    "\n",
    "'Adam is an optimization algorithm that can be used instead of the classical stochastic gradient descent procedure to update network weights iterative based in training data.'\n",
    "\n",
    "see this for more information of adam: https://machinelearningmastery.com/adam-optimization-algorithm-for-deep-learning/\n",
    "\n",
    "Sparse categorical cross entropy for the loss: Use sparse categorical crossentropy when your classes are mutually exclusive\n",
    "\n"
   ]
  },
  {
   "cell_type": "code",
   "execution_count": 12,
   "metadata": {},
   "outputs": [],
   "source": [
    "model.compile(optimizer='adam',\n",
    "              loss='sparse_categorical_crossentropy',\n",
    "              metrics=['accuracy'])"
   ]
  },
  {
   "cell_type": "markdown",
   "metadata": {},
   "source": [
    "# Fit the model"
   ]
  },
  {
   "cell_type": "code",
   "execution_count": 13,
   "metadata": {
    "scrolled": false
   },
   "outputs": [
    {
     "name": "stdout",
     "output_type": "stream",
     "text": [
      "Epoch 1/50\n",
      "243/243 [==============================] - 1s 4ms/step - loss: 1.7198 - accuracy: 0.3568 - val_loss: 1.4744 - val_accuracy: 0.4881\n",
      "Epoch 2/50\n",
      "243/243 [==============================] - 1s 3ms/step - loss: 1.3915 - accuracy: 0.4942 - val_loss: 1.2861 - val_accuracy: 0.5279\n",
      "Epoch 3/50\n",
      "243/243 [==============================] - 1s 3ms/step - loss: 1.1728 - accuracy: 0.5898 - val_loss: 1.0500 - val_accuracy: 0.6496\n",
      "Epoch 4/50\n",
      "243/243 [==============================] - 1s 3ms/step - loss: 1.0039 - accuracy: 0.6691 - val_loss: 0.8600 - val_accuracy: 0.7384\n",
      "Epoch 5/50\n",
      "243/243 [==============================] - 1s 3ms/step - loss: 0.8670 - accuracy: 0.7225 - val_loss: 0.7189 - val_accuracy: 0.8055\n",
      "Epoch 6/50\n",
      "243/243 [==============================] - 1s 3ms/step - loss: 0.7762 - accuracy: 0.7532 - val_loss: 0.6049 - val_accuracy: 0.8504\n",
      "Epoch 7/50\n",
      "243/243 [==============================] - 1s 3ms/step - loss: 0.6916 - accuracy: 0.7825 - val_loss: 0.5401 - val_accuracy: 0.8710\n",
      "Epoch 8/50\n",
      "243/243 [==============================] - 1s 3ms/step - loss: 0.6302 - accuracy: 0.8020 - val_loss: 0.5101 - val_accuracy: 0.8643\n",
      "Epoch 9/50\n",
      "243/243 [==============================] - 1s 3ms/step - loss: 0.5795 - accuracy: 0.8222 - val_loss: 0.4758 - val_accuracy: 0.8607\n",
      "Epoch 10/50\n",
      "243/243 [==============================] - 1s 3ms/step - loss: 0.5700 - accuracy: 0.8194 - val_loss: 0.4507 - val_accuracy: 0.8829\n",
      "Epoch 11/50\n",
      "243/243 [==============================] - 1s 3ms/step - loss: 0.5336 - accuracy: 0.8318 - val_loss: 0.4353 - val_accuracy: 0.8684\n",
      "Epoch 12/50\n",
      "243/243 [==============================] - 1s 3ms/step - loss: 0.4801 - accuracy: 0.8517 - val_loss: 0.4174 - val_accuracy: 0.8715\n",
      "Epoch 13/50\n",
      "243/243 [==============================] - 1s 3ms/step - loss: 0.4779 - accuracy: 0.8443 - val_loss: 0.3380 - val_accuracy: 0.9102\n",
      "Epoch 14/50\n",
      "243/243 [==============================] - 1s 3ms/step - loss: 0.4482 - accuracy: 0.8589 - val_loss: 0.3494 - val_accuracy: 0.9097\n",
      "Epoch 15/50\n",
      "243/243 [==============================] - 1s 3ms/step - loss: 0.4257 - accuracy: 0.8608 - val_loss: 0.3336 - val_accuracy: 0.9143\n",
      "Epoch 16/50\n",
      "243/243 [==============================] - 1s 3ms/step - loss: 0.4276 - accuracy: 0.8603 - val_loss: 0.3396 - val_accuracy: 0.8983\n",
      "Epoch 17/50\n",
      "243/243 [==============================] - 1s 3ms/step - loss: 0.4095 - accuracy: 0.8640 - val_loss: 0.2818 - val_accuracy: 0.9154\n",
      "Epoch 18/50\n",
      "243/243 [==============================] - 1s 3ms/step - loss: 0.3704 - accuracy: 0.8791 - val_loss: 0.2707 - val_accuracy: 0.9262\n",
      "Epoch 19/50\n",
      "243/243 [==============================] - 1s 3ms/step - loss: 0.3754 - accuracy: 0.8782 - val_loss: 0.3221 - val_accuracy: 0.9020\n",
      "Epoch 20/50\n",
      "243/243 [==============================] - 1s 3ms/step - loss: 0.3486 - accuracy: 0.8876 - val_loss: 0.2640 - val_accuracy: 0.9314\n",
      "Epoch 21/50\n",
      "243/243 [==============================] - 1s 3ms/step - loss: 0.3228 - accuracy: 0.8965 - val_loss: 0.2667 - val_accuracy: 0.9231\n",
      "Epoch 22/50\n",
      "243/243 [==============================] - 1s 3ms/step - loss: 0.3395 - accuracy: 0.8884 - val_loss: 0.2545 - val_accuracy: 0.9272\n",
      "Epoch 23/50\n",
      "243/243 [==============================] - 1s 3ms/step - loss: 0.3365 - accuracy: 0.8904 - val_loss: 0.2509 - val_accuracy: 0.9231\n",
      "Epoch 24/50\n",
      "243/243 [==============================] - 1s 3ms/step - loss: 0.3213 - accuracy: 0.8900 - val_loss: 0.2256 - val_accuracy: 0.9376\n",
      "Epoch 25/50\n",
      "243/243 [==============================] - 1s 3ms/step - loss: 0.3152 - accuracy: 0.8976 - val_loss: 0.2148 - val_accuracy: 0.9365\n",
      "Epoch 26/50\n",
      "243/243 [==============================] - 1s 3ms/step - loss: 0.3075 - accuracy: 0.8983 - val_loss: 0.2537 - val_accuracy: 0.9154\n",
      "Epoch 27/50\n",
      "243/243 [==============================] - 1s 3ms/step - loss: 0.3047 - accuracy: 0.8945 - val_loss: 0.2474 - val_accuracy: 0.9221\n",
      "Epoch 28/50\n",
      "243/243 [==============================] - 1s 3ms/step - loss: 0.3559 - accuracy: 0.8813 - val_loss: 0.2426 - val_accuracy: 0.9272\n",
      "Epoch 29/50\n",
      "243/243 [==============================] - 1s 3ms/step - loss: 0.3043 - accuracy: 0.8993 - val_loss: 0.2150 - val_accuracy: 0.9432\n",
      "Epoch 30/50\n",
      "243/243 [==============================] - 1s 3ms/step - loss: 0.3112 - accuracy: 0.8933 - val_loss: 0.2868 - val_accuracy: 0.9138\n",
      "Epoch 31/50\n",
      "243/243 [==============================] - 1s 3ms/step - loss: 0.3013 - accuracy: 0.8974 - val_loss: 0.2207 - val_accuracy: 0.9355\n",
      "Epoch 32/50\n",
      "243/243 [==============================] - 1s 3ms/step - loss: 0.2955 - accuracy: 0.9000 - val_loss: 0.2131 - val_accuracy: 0.9360\n",
      "Epoch 33/50\n",
      "243/243 [==============================] - 1s 3ms/step - loss: 0.3070 - accuracy: 0.8950 - val_loss: 0.2283 - val_accuracy: 0.9257\n",
      "Epoch 34/50\n",
      "243/243 [==============================] - 1s 3ms/step - loss: 0.2781 - accuracy: 0.9071 - val_loss: 0.2132 - val_accuracy: 0.9386\n",
      "Epoch 35/50\n",
      "243/243 [==============================] - 1s 3ms/step - loss: 0.3022 - accuracy: 0.8991 - val_loss: 0.2270 - val_accuracy: 0.9293\n",
      "Epoch 36/50\n",
      "243/243 [==============================] - 1s 3ms/step - loss: 0.3004 - accuracy: 0.8931 - val_loss: 0.2087 - val_accuracy: 0.9345\n",
      "Epoch 37/50\n",
      "243/243 [==============================] - 1s 3ms/step - loss: 0.2695 - accuracy: 0.9094 - val_loss: 0.1972 - val_accuracy: 0.9386\n",
      "Epoch 38/50\n",
      "243/243 [==============================] - 1s 3ms/step - loss: 0.2641 - accuracy: 0.9080 - val_loss: 0.2019 - val_accuracy: 0.9396\n",
      "Epoch 39/50\n",
      "243/243 [==============================] - 1s 3ms/step - loss: 0.2637 - accuracy: 0.9062 - val_loss: 0.2254 - val_accuracy: 0.9334\n",
      "Epoch 40/50\n",
      "243/243 [==============================] - 1s 3ms/step - loss: 0.2658 - accuracy: 0.9062 - val_loss: 0.1807 - val_accuracy: 0.9479\n",
      "Epoch 41/50\n",
      "243/243 [==============================] - 1s 3ms/step - loss: 0.2383 - accuracy: 0.9172 - val_loss: 0.2031 - val_accuracy: 0.9407\n",
      "Epoch 42/50\n",
      "243/243 [==============================] - 1s 3ms/step - loss: 0.2536 - accuracy: 0.9110 - val_loss: 0.2048 - val_accuracy: 0.9381\n",
      "Epoch 43/50\n",
      "243/243 [==============================] - 1s 3ms/step - loss: 0.2627 - accuracy: 0.9107 - val_loss: 0.2547 - val_accuracy: 0.9190\n",
      "Epoch 44/50\n",
      "243/243 [==============================] - 1s 3ms/step - loss: 0.2421 - accuracy: 0.9164 - val_loss: 0.2479 - val_accuracy: 0.9231\n",
      "Epoch 45/50\n",
      "243/243 [==============================] - 1s 3ms/step - loss: 0.2437 - accuracy: 0.9159 - val_loss: 0.2930 - val_accuracy: 0.9071\n",
      "Epoch 46/50\n",
      "243/243 [==============================] - 1s 3ms/step - loss: 0.2324 - accuracy: 0.9186 - val_loss: 0.2206 - val_accuracy: 0.9365\n",
      "Epoch 47/50\n",
      "243/243 [==============================] - 1s 3ms/step - loss: 0.2481 - accuracy: 0.9150 - val_loss: 0.2784 - val_accuracy: 0.8963\n",
      "Epoch 48/50\n",
      "243/243 [==============================] - 1s 3ms/step - loss: 0.2783 - accuracy: 0.9043 - val_loss: 0.2913 - val_accuracy: 0.9190\n",
      "Epoch 49/50\n",
      "243/243 [==============================] - 1s 3ms/step - loss: 0.2675 - accuracy: 0.9094 - val_loss: 0.2541 - val_accuracy: 0.9231\n",
      "Epoch 50/50\n",
      "243/243 [==============================] - 1s 3ms/step - loss: 0.2409 - accuracy: 0.9198 - val_loss: 0.1779 - val_accuracy: 0.9463\n"
     ]
    }
   ],
   "source": [
    "r = model.fit(X_train, y_train, validation_data=(X_test, y_test), epochs=50)"
   ]
  },
  {
   "cell_type": "code",
   "execution_count": 14,
   "metadata": {},
   "outputs": [
    {
     "name": "stdout",
     "output_type": "stream",
     "text": [
      "Model: \"sequential\"\n",
      "_________________________________________________________________\n",
      "Layer (type)                 Output Shape              Param #   \n",
      "=================================================================\n",
      "dense (Dense)                (None, 128)               295040    \n",
      "_________________________________________________________________\n",
      "dropout (Dropout)            (None, 128)               0         \n",
      "_________________________________________________________________\n",
      "dense_1 (Dense)              (None, 10)                1290      \n",
      "=================================================================\n",
      "Total params: 296,330\n",
      "Trainable params: 296,330\n",
      "Non-trainable params: 0\n",
      "_________________________________________________________________\n"
     ]
    }
   ],
   "source": [
    "model.summary()"
   ]
  },
  {
   "cell_type": "code",
   "execution_count": 15,
   "metadata": {},
   "outputs": [
    {
     "data": {
      "text/plain": [
       "<matplotlib.legend.Legend at 0x2494e1edd30>"
      ]
     },
     "execution_count": 15,
     "metadata": {},
     "output_type": "execute_result"
    },
    {
     "data": {
      "image/png": "[encoded data removed]",
      "text/plain": [
       "<Figure size 432x288 with 1 Axes>"
      ]
     },
     "metadata": {
      "needs_background": "light"
     },
     "output_type": "display_data"
    }
   ],
   "source": [
    "# Plot loss per iteration\n",
    "import matplotlib.pyplot as plt\n",
    "plt.plot(r.history['loss'], label='loss')\n",
    "plt.plot(r.history['val_loss'], label='val_loss')\n",
    "plt.legend()"
   ]
  },
  {
   "cell_type": "code",
   "execution_count": 16,
   "metadata": {},
   "outputs": [
    {
     "data": {
      "text/plain": [
       "<matplotlib.legend.Legend at 0x2494e0d8400>"
      ]
     },
     "execution_count": 16,
     "metadata": {},
     "output_type": "execute_result"
    },
    {
     "data": {
      "image/png": "[encoded data removed]",
      "text/plain": [
       "<Figure size 432x288 with 1 Axes>"
      ]
     },
     "metadata": {
      "needs_background": "light"
     },
     "output_type": "display_data"
    }
   ],
   "source": [
    "# Plot accuracy per iteration\n",
    "plt.plot(r.history['accuracy'], label='acc')\n",
    "plt.plot(r.history['val_accuracy'], label='val_acc')\n",
    "plt.legend()"
   ]
  },
  {
   "cell_type": "code",
   "execution_count": 17,
   "metadata": {},
   "outputs": [
    {
     "name": "stdout",
     "output_type": "stream",
     "text": [
      "61/61 [==============================] - 0s 983us/step - loss: 0.1779 - accuracy: 0.9463\n",
      "[0.17785388231277466, 0.9463364481925964]\n"
     ]
    }
   ],
   "source": [
    "print(model.evaluate(X_test, y_test))"
   ]
  },
  {
   "cell_type": "code",
   "execution_count": 18,
   "metadata": {},
   "outputs": [
    {
     "name": "stdout",
     "output_type": "stream",
     "text": [
      "Confusion matrix, without normalization\n",
      "[[ 39   4   0   0   0   0   0   0   0   0]\n",
      " [  0 384  17   7   7   0   0   0   0   1]\n",
      " [  0  20 433   3   2   0   1   0   0   0]\n",
      " [  0   0   0 283   1   0   0   0   0   0]\n",
      " [  0   8   5   1 381   0   0   0   0   0]\n",
      " [  0   0   0   0   0  50   0   0   0   4]\n",
      " [  0   1   1   6   2   0  73   1   0   0]\n",
      " [  0   0   0   0   0   0   0  43   1   1]\n",
      " [  0   1   0   1   0   1   1   0 107   2]\n",
      " [  0   1   1   0   0   0   0   0   2  41]]\n"
     ]
    },
    {
     "data": {
      "image/png": "[encoded data removed]",
      "text/plain": [
       "<Figure size 432x288 with 2 Axes>"
      ]
     },
     "metadata": {
      "needs_background": "light"
     },
     "output_type": "display_data"
    }
   ],
   "source": [
    "# Plot confusion matrix\n",
    "from sklearn.metrics import confusion_matrix\n",
    "import numpy as np\n",
    "import itertools\n",
    "\n",
    "def plot_confusion_matrix(cm, classes,\n",
    "                          normalize=False,\n",
    "                          title='Confusion matrix',\n",
    "                          cmap=plt.cm.Blues):\n",
    "  \"\"\"\n",
    "  This function prints and plots the confusion matrix.\n",
    "  Normalization can be applied by setting `normalize=True`.\n",
    "  \"\"\"\n",
    "  if normalize:\n",
    "      cm = cm.astype('float') / cm.sum(axis=1)[:, np.newaxis]\n",
    "      print(\"Normalized confusion matrix\")\n",
    "  else:\n",
    "      print('Confusion matrix, without normalization')\n",
    "\n",
    "  print(cm)\n",
    "\n",
    "  plt.imshow(cm, interpolation='nearest', cmap=cmap)\n",
    "  plt.title(title)\n",
    "  plt.colorbar()\n",
    "  tick_marks = np.arange(len(classes))\n",
    "  plt.xticks(tick_marks, classes, rotation=45)\n",
    "  plt.yticks(tick_marks, classes)\n",
    "\n",
    "  fmt = '.2f' if normalize else 'd'\n",
    "  thresh = cm.max() / 2.\n",
    "  for i, j in itertools.product(range(cm.shape[0]), range(cm.shape[1])):\n",
    "      plt.text(j, i, format(cm[i, j], fmt),\n",
    "               horizontalalignment=\"center\",\n",
    "               color=\"white\" if cm[i, j] > thresh else \"black\")\n",
    "\n",
    "  plt.tight_layout()\n",
    "  plt.ylabel('True label')\n",
    "  plt.xlabel('Predicted label')\n",
    "  plt.show()\n",
    "\n",
    "\n",
    "p_test = model.predict(X_test).argmax(axis=1)\n",
    "cm = confusion_matrix(y_test, p_test)\n",
    "plot_confusion_matrix(cm, list(range(10)))\n",
    "\n",
    "# Do these results make sense?\n"
   ]
  },
  {
   "cell_type": "code",
   "execution_count": 19,
   "metadata": {},
   "outputs": [
    {
     "data": {
      "text/plain": [
       "(1938, 2304)"
      ]
     },
     "execution_count": 19,
     "metadata": {},
     "output_type": "execute_result"
    }
   ],
   "source": [
    "X_test.shape   #Shape not suitable for visualising"
   ]
  },
  {
   "cell_type": "code",
   "execution_count": 20,
   "metadata": {},
   "outputs": [],
   "source": [
    "X_test=X_test.reshape(1938,48,48)  # reshape"
   ]
  },
  {
   "cell_type": "markdown",
   "metadata": {},
   "source": [
    "# Check the misclassifications randomly\n",
    "\n",
    "The results are quite interesting"
   ]
  },
  {
   "cell_type": "code",
   "execution_count": 21,
   "metadata": {},
   "outputs": [
    {
     "data": {
      "image/png": "[encoded data removed]",
      "text/plain": [
       "<Figure size 432x288 with 1 Axes>"
      ]
     },
     "metadata": {
      "needs_background": "light"
     },
     "output_type": "display_data"
    }
   ],
   "source": [
    "# Show some misclassified examples\n",
    "misclassified_idx = np.where(p_test != y_test)[0]\n",
    "i = np.random.choice(misclassified_idx)\n",
    "plt.imshow(X_test[i], cmap='gray')\n",
    "plt.title(\"True label: %s Predicted: %s\" % (y_test[i], p_test[i]));"
   ]
  },
  {
   "cell_type": "markdown",
   "metadata": {},
   "source": [
    "# PART 2 CNN"
   ]
  },
  {
   "cell_type": "code",
   "execution_count": 22,
   "metadata": {},
   "outputs": [
    {
     "data": {
      "text/plain": [
       "(7752, 2304)"
      ]
     },
     "execution_count": 22,
     "metadata": {},
     "output_type": "execute_result"
    }
   ],
   "source": [
    "#Shape not suitable for a convultion\n",
    "X_train.shape"
   ]
  },
  {
   "cell_type": "code",
   "execution_count": 23,
   "metadata": {},
   "outputs": [],
   "source": [
    "R=X_train.shape[0]"
   ]
  },
  {
   "cell_type": "code",
   "execution_count": 24,
   "metadata": {},
   "outputs": [],
   "source": [
    "X_train=X_train.reshape(R,48,48)"
   ]
  },
  {
   "cell_type": "markdown",
   "metadata": {},
   "source": [
    "## Think of the above process As a reverse flattening"
   ]
  },
  {
   "cell_type": "code",
   "execution_count": 25,
   "metadata": {},
   "outputs": [
    {
     "data": {
      "text/plain": [
       "(7752, 48, 48)"
      ]
     },
     "execution_count": 25,
     "metadata": {},
     "output_type": "execute_result"
    }
   ],
   "source": [
    "X_train.shape"
   ]
  },
  {
   "cell_type": "code",
   "execution_count": 26,
   "metadata": {},
   "outputs": [
    {
     "data": {
      "text/plain": [
       "(1938, 48, 48)"
      ]
     },
     "execution_count": 26,
     "metadata": {},
     "output_type": "execute_result"
    }
   ],
   "source": [
    "X_test.shape"
   ]
  },
  {
   "cell_type": "code",
   "execution_count": 27,
   "metadata": {},
   "outputs": [
    {
     "data": {
      "text/plain": [
       "(1938, 48, 48)"
      ]
     },
     "execution_count": 27,
     "metadata": {},
     "output_type": "execute_result"
    }
   ],
   "source": [
    "X_test=X_test.reshape(1938,48,48)\n",
    "X_test.shape"
   ]
  },
  {
   "cell_type": "markdown",
   "metadata": {},
   "source": [
    "# MODIFY DATA FURTHER FOR A CONVOLUTIONAL NETWORK\n",
    "\n",
    "## Note tha for an ANN the first operation we did was flatten but for cnn it expects a 3 dimension input so we need hieght by with by color\n",
    "\n",
    "In order to achieve the above we add 1 in the last dimension"
   ]
  },
  {
   "cell_type": "code",
   "execution_count": 28,
   "metadata": {},
   "outputs": [
    {
     "name": "stdout",
     "output_type": "stream",
     "text": [
      "(7752, 48, 48, 1)\n"
     ]
    }
   ],
   "source": [
    "# the data is only 2D!\n",
    "# convolution expects height x width x color\n",
    "X_train = np.expand_dims(X_train, -1)\n",
    "X_test = np.expand_dims(X_test, -1)\n",
    "print(X_train.shape)"
   ]
  },
  {
   "cell_type": "markdown",
   "metadata": {},
   "source": [
    "# Imports"
   ]
  },
  {
   "cell_type": "code",
   "execution_count": 29,
   "metadata": {},
   "outputs": [],
   "source": [
    "import numpy as np\n",
    "import matplotlib.pyplot as plt\n",
    "from tensorflow.keras.layers import Input, Conv2D, Dense, Flatten, Dropout\n",
    "from tensorflow.keras.models import Model"
   ]
  },
  {
   "cell_type": "code",
   "execution_count": 30,
   "metadata": {},
   "outputs": [
    {
     "name": "stdout",
     "output_type": "stream",
     "text": [
      "number of classes: 10\n"
     ]
    }
   ],
   "source": [
    "# We get the number of classes\n",
    "K = len(set(y_train))\n",
    "print(\"number of classes:\", K)"
   ]
  },
  {
   "cell_type": "markdown",
   "metadata": {},
   "source": [
    "  # Model Building\n",
    "  \n",
    "  ### First we have our 3 convolution layers\n",
    "  \n",
    "  ### Constant size filter 3 by 3\n",
    "  \n",
    "  ### We use a stride of 2 so that image dimensions get reduced by half after each convolution\n",
    "  \n",
    "  \n",
    "  ### Relu ActivTION\n",
    "  \n",
    "  ### Final activation is softmax"
   ]
  },
  {
   "cell_type": "code",
   "execution_count": 33,
   "metadata": {},
   "outputs": [],
   "source": [
    "# Build the model using the functional API\n",
    "i = Input(shape=X_train[0].shape)                          #\n",
    "x = Conv2D(32, (3, 3), strides=2, activation='relu')(i)\n",
    "x = Conv2D(64, (3, 3), strides=2, activation='relu')(x)\n",
    "x = Conv2D(128, (3, 3), strides=2, activation='relu')(x)\n",
    "x = Flatten()(x)   # converts image into a feature vector\n",
    "x = Dropout(0.2)(x)\n",
    "x = Dense(512, activation='relu')(x)\n",
    "x = Dropout(0.2)(x)\n",
    "x = Dense(K, activation='softmax')(x)   # k output points\n",
    "\n",
    "model = Model(i, x)"
   ]
  },
  {
   "cell_type": "code",
   "execution_count": 34,
   "metadata": {},
   "outputs": [
    {
     "data": {
      "text/plain": [
       "(1938,)"
      ]
     },
     "execution_count": 34,
     "metadata": {},
     "output_type": "execute_result"
    }
   ],
   "source": [
    "y_test.shape"
   ]
  },
  {
   "cell_type": "code",
   "execution_count": 35,
   "metadata": {},
   "outputs": [
    {
     "name": "stdout",
     "output_type": "stream",
     "text": [
      "Epoch 1/15\n",
      "243/243 [==============================] - 6s 23ms/step - loss: 1.0160 - accuracy: 0.6254 - val_loss: 0.3400 - val_accuracy: 0.8880\n",
      "Epoch 2/15\n",
      "243/243 [==============================] - 5s 21ms/step - loss: 0.1877 - accuracy: 0.9427 - val_loss: 0.1440 - val_accuracy: 0.9592\n",
      "Epoch 3/15\n",
      "243/243 [==============================] - 5s 22ms/step - loss: 0.1007 - accuracy: 0.9706 - val_loss: 0.1139 - val_accuracy: 0.9670\n",
      "Epoch 4/15\n",
      "243/243 [==============================] - 5s 22ms/step - loss: 0.0646 - accuracy: 0.9817 - val_loss: 0.0747 - val_accuracy: 0.9804\n",
      "Epoch 5/15\n",
      "243/243 [==============================] - 5s 22ms/step - loss: 0.0503 - accuracy: 0.9857 - val_loss: 0.0803 - val_accuracy: 0.9794\n",
      "Epoch 6/15\n",
      "243/243 [==============================] - 6s 23ms/step - loss: 0.0290 - accuracy: 0.9923 - val_loss: 0.1015 - val_accuracy: 0.9701\n",
      "Epoch 7/15\n",
      "243/243 [==============================] - 5s 22ms/step - loss: 0.0355 - accuracy: 0.9905 - val_loss: 0.0925 - val_accuracy: 0.9788\n",
      "Epoch 8/15\n",
      "243/243 [==============================] - 6s 23ms/step - loss: 0.0169 - accuracy: 0.9954 - val_loss: 0.0936 - val_accuracy: 0.9763\n",
      "Epoch 9/15\n",
      "243/243 [==============================] - 6s 23ms/step - loss: 0.0187 - accuracy: 0.9942 - val_loss: 0.0760 - val_accuracy: 0.9850\n",
      "Epoch 10/15\n",
      "243/243 [==============================] - 5s 22ms/step - loss: 0.0117 - accuracy: 0.9968 - val_loss: 0.1011 - val_accuracy: 0.9799\n",
      "Epoch 11/15\n",
      "243/243 [==============================] - 5s 22ms/step - loss: 0.0193 - accuracy: 0.9941 - val_loss: 0.0756 - val_accuracy: 0.9871\n",
      "Epoch 12/15\n",
      "243/243 [==============================] - 5s 22ms/step - loss: 0.0193 - accuracy: 0.9936 - val_loss: 0.0988 - val_accuracy: 0.9845\n",
      "Epoch 13/15\n",
      "243/243 [==============================] - 5s 22ms/step - loss: 0.0161 - accuracy: 0.9951 - val_loss: 0.0667 - val_accuracy: 0.9861\n",
      "Epoch 14/15\n",
      "243/243 [==============================] - 5s 22ms/step - loss: 0.0109 - accuracy: 0.9970 - val_loss: 0.0667 - val_accuracy: 0.9876\n",
      "Epoch 15/15\n",
      "243/243 [==============================] - 5s 22ms/step - loss: 0.0016 - accuracy: 0.9997 - val_loss: 0.0702 - val_accuracy: 0.9876\n"
     ]
    }
   ],
   "source": [
    "# Compile and fit\n",
    "#make sure you are using the GPU for this!\n",
    "model.compile(optimizer='adam',\n",
    "              loss='sparse_categorical_crossentropy',\n",
    "              metrics=['accuracy'])\n",
    "r = model.fit(X_train, y_train, validation_data=(X_test, y_test), epochs=15)"
   ]
  },
  {
   "cell_type": "code",
   "execution_count": 37,
   "metadata": {},
   "outputs": [
    {
     "data": {
      "text/plain": [
       "<matplotlib.legend.Legend at 0x2494adfaca0>"
      ]
     },
     "execution_count": 37,
     "metadata": {},
     "output_type": "execute_result"
    },
    {
     "data": {
      "image/png": "[encoded data removed]",
      "text/plain": [
       "<Figure size 432x288 with 1 Axes>"
      ]
     },
     "metadata": {
      "needs_background": "light"
     },
     "output_type": "display_data"
    }
   ],
   "source": [
    "# Plot loss per iteration\n",
    "import matplotlib.pyplot as plt\n",
    "plt.plot(r.history['loss'], label='loss')\n",
    "plt.plot(r.history['val_loss'], label='val_loss')\n",
    "plt.legend()"
   ]
  },
  {
   "cell_type": "code",
   "execution_count": 434,
   "metadata": {},
   "outputs": [
    {
     "data": {
      "text/plain": [
       "<matplotlib.legend.Legend at 0x204ab649610>"
      ]
     },
     "execution_count": 434,
     "metadata": {},
     "output_type": "execute_result"
    },
    {
     "data": {
      "image/png": "[encoded data removed]",
      "text/plain": [
       "<Figure size 432x288 with 1 Axes>"
      ]
     },
     "metadata": {
      "needs_background": "light"
     },
     "output_type": "display_data"
    }
   ],
   "source": [
    "# Plot accuracy per iteration\n",
    "plt.plot(r.history['accuracy'], label='acc')\n",
    "plt.plot(r.history['val_accuracy'], label='val_acc')\n",
    "plt.legend()"
   ]
  },
  {
   "cell_type": "code",
   "execution_count": 435,
   "metadata": {},
   "outputs": [
    {
     "name": "stdout",
     "output_type": "stream",
     "text": [
      "Confusion matrix, without normalization\n",
      "[[ 42   0   1   0   0   0   0   0   0   0]\n",
      " [  0 406   7   0   1   0   1   0   1   0]\n",
      " [  0   5 453   1   0   0   0   0   0   0]\n",
      " [  0   0   0 283   0   0   1   0   0   0]\n",
      " [  2   7   3   0 383   0   0   0   0   0]\n",
      " [  0   0   0   0   0  52   0   0   0   2]\n",
      " [  0   0   0   0   1   0  83   0   0   0]\n",
      " [  0   0   0   0   0   0   3  41   1   0]\n",
      " [  0   0   0   0   0   1   0   0 112   0]\n",
      " [  0   0   0   1   0   0   0   0   1  43]]\n"
     ]
    },
    {
     "data": {
      "image/png": "[encoded data removed]",
      "text/plain": [
       "<Figure size 432x288 with 2 Axes>"
      ]
     },
     "metadata": {
      "needs_background": "light"
     },
     "output_type": "display_data"
    }
   ],
   "source": [
    "# Plot confusion matrix\n",
    "from sklearn.metrics import confusion_matrix\n",
    "import itertools\n",
    "\n",
    "def plot_confusion_matrix(cm, classes,\n",
    "                          normalize=False,\n",
    "                          title='Confusion matrix',\n",
    "                          cmap=plt.cm.Blues):\n",
    "  \"\"\"\n",
    "  This function prints and plots the confusion matrix.\n",
    "  Normalization can be applied by setting `normalize=True`.\n",
    "  \"\"\"\n",
    "  if normalize:\n",
    "      cm = cm.astype('float') / cm.sum(axis=1)[:, np.newaxis]\n",
    "      print(\"Normalized confusion matrix\")\n",
    "  else:\n",
    "      print('Confusion matrix, without normalization')\n",
    "\n",
    "  print(cm)\n",
    "\n",
    "  plt.imshow(cm, interpolation='nearest', cmap=cmap)\n",
    "  plt.title(title)\n",
    "  plt.colorbar()\n",
    "  tick_marks = np.arange(len(classes))\n",
    "  plt.xticks(tick_marks, classes, rotation=45)\n",
    "  plt.yticks(tick_marks, classes)\n",
    "\n",
    "  fmt = '.2f' if normalize else 'd'\n",
    "  thresh = cm.max() / 2.\n",
    "  for i, j in itertools.product(range(cm.shape[0]), range(cm.shape[1])):\n",
    "      plt.text(j, i, format(cm[i, j], fmt),\n",
    "               horizontalalignment=\"center\",\n",
    "               color=\"white\" if cm[i, j] > thresh else \"black\")\n",
    "\n",
    "  plt.tight_layout()\n",
    "  plt.ylabel('True label')\n",
    "  plt.xlabel('Predicted label')\n",
    "  plt.show()\n",
    "\n",
    "\n",
    "p_test = model.predict(X_test).argmax(axis=1)\n",
    "cm = confusion_matrix(y_test, p_test)\n",
    "plot_confusion_matrix(cm, list(range(10)))\n",
    "\n"
   ]
  },
  {
   "cell_type": "code",
   "execution_count": 436,
   "metadata": {},
   "outputs": [
    {
     "data": {
      "text/plain": [
       "(1938, 48, 48, 1)"
      ]
     },
     "execution_count": 436,
     "metadata": {},
     "output_type": "execute_result"
    }
   ],
   "source": [
    "X_test.shape"
   ]
  },
  {
   "cell_type": "markdown",
   "metadata": {},
   "source": [
    "# Class label Meaning\n",
    "\n",
    "0 speed limit 20\n",
    "\n",
    "1 speed limit 30\n",
    "\n",
    "2 speed limit 50\n",
    "\n",
    "3 speed limit 60\n",
    "\n",
    "4 speed limit 70\n",
    "\n",
    "5 left turn\n",
    "\n",
    "6 right turn\n",
    "\n",
    "7 beware pedestrian crossing\n",
    "\n",
    "8 beware children\n",
    "\n",
    "9 beware cycle route ahead"
   ]
  },
  {
   "cell_type": "code",
   "execution_count": 44,
   "metadata": {
    "scrolled": true
   },
   "outputs": [
    {
     "data": {
      "image/png": "[encoded data removed]",
      "text/plain": [
       "<Figure size 432x288 with 1 Axes>"
      ]
     },
     "metadata": {
      "needs_background": "light"
     },
     "output_type": "display_data"
    }
   ],
   "source": [
    "# Show some misclassified examples\n",
    "misclassified_idx = np.where(p_test != y_test)[0]\n",
    "i = np.random.choice(misclassified_idx)\n",
    "plt.imshow(X_test[i].reshape(48,48), cmap='gray')\n",
    "plt.title(\"True label: %s Predicted: %s\" % (y_test[i], p_test[i]));"
   ]
  },
  {
   "cell_type": "code",
   "execution_count": 45,
   "metadata": {},
   "outputs": [
    {
     "name": "stdout",
     "output_type": "stream",
     "text": [
      "Model: \"functional_3\"\n",
      "_________________________________________________________________\n",
      "Layer (type)                 Output Shape              Param #   \n",
      "=================================================================\n",
      "input_2 (InputLayer)         [(None, 48, 48, 1)]       0         \n",
      "_________________________________________________________________\n",
      "conv2d_3 (Conv2D)            (None, 23, 23, 32)        320       \n",
      "_________________________________________________________________\n",
      "conv2d_4 (Conv2D)            (None, 11, 11, 64)        18496     \n",
      "_________________________________________________________________\n",
      "conv2d_5 (Conv2D)            (None, 5, 5, 128)         73856     \n",
      "_________________________________________________________________\n",
      "flatten_1 (Flatten)          (None, 3200)              0         \n",
      "_________________________________________________________________\n",
      "dense_4 (Dense)              (None, 512)               1638912   \n",
      "_________________________________________________________________\n",
      "dropout_3 (Dropout)          (None, 512)               0         \n",
      "_________________________________________________________________\n",
      "dense_5 (Dense)              (None, 10)                5130      \n",
      "=================================================================\n",
      "Total params: 1,736,714\n",
      "Trainable params: 1,736,714\n",
      "Non-trainable params: 0\n",
      "_________________________________________________________________\n"
     ]
    }
   ],
   "source": [
    "model.summary()"
   ]
  },
  {
   "cell_type": "markdown",
   "metadata": {},
   "source": [
    "# Evaluate on unseen Data"
   ]
  },
  {
   "cell_type": "code",
   "execution_count": 46,
   "metadata": {},
   "outputs": [],
   "source": [
    "Test_features=pd.read_csv(\"x_test_gr_smpl.csv\")\n",
    "\n",
    "\n",
    "Test_features=Test_features/255\n"
   ]
  },
  {
   "cell_type": "code",
   "execution_count": 49,
   "metadata": {},
   "outputs": [],
   "source": [
    "y_test_new=pd.read_csv(\"y_test_smpl.csv\")\n",
    "npie=y_test_new.to_numpy()   #convert the data to numpy array\n",
    "labels_test_new=np.squeeze(npie) \n"
   ]
  },
  {
   "cell_type": "code",
   "execution_count": 50,
   "metadata": {},
   "outputs": [],
   "source": [
    "Test_features=Test_features.to_numpy()"
   ]
  },
  {
   "cell_type": "code",
   "execution_count": 51,
   "metadata": {},
   "outputs": [],
   "source": [
    "Test_features=Test_features.reshape(3090,48,48)"
   ]
  },
  {
   "cell_type": "code",
   "execution_count": 52,
   "metadata": {},
   "outputs": [],
   "source": [
    "test_features = np.expand_dims(Test_features, -1)"
   ]
  },
  {
   "cell_type": "code",
   "execution_count": 53,
   "metadata": {},
   "outputs": [
    {
     "data": {
      "text/plain": [
       "(3090, 48, 48, 1)"
      ]
     },
     "execution_count": 53,
     "metadata": {},
     "output_type": "execute_result"
    }
   ],
   "source": [
    "test_features.shape"
   ]
  },
  {
   "cell_type": "code",
   "execution_count": 55,
   "metadata": {},
   "outputs": [
    {
     "name": "stdout",
     "output_type": "stream",
     "text": [
      "97/97 [==============================] - 1s 6ms/step - loss: 0.4166 - accuracy: 0.9599\n",
      "[0.4165985882282257, 0.9598705768585205]\n"
     ]
    }
   ],
   "source": [
    "print(model.evaluate(test_features, labels_test_new))"
   ]
  },
  {
   "cell_type": "markdown",
   "metadata": {},
   "source": [
    "# 4000 LESS INSTANCES IN TRAINING"
   ]
  },
  {
   "cell_type": "code",
   "execution_count": 56,
   "metadata": {},
   "outputs": [],
   "source": [
    "X_train_4000less=pd.read_csv(\"Train_Dataset_4000.csv\")\n",
    "X_train_4000less[['Class']] = X_train_4000less[['Class']].replace( ['zero', 'one', 'two','three', 'four', 'five', 'six', 'seven', 'eight',\n",
    "                                 'nine'],[0, 1, 2,3,4,5,6,7,8,9])"
   ]
  },
  {
   "cell_type": "code",
   "execution_count": 57,
   "metadata": {},
   "outputs": [],
   "source": [
    "y_train_400less=X_train_4000less[['Class']]\n",
    "npie=y_train_400less.to_numpy()   #convert the data to numpy array\n",
    "labels1=np.squeeze(npie) "
   ]
  },
  {
   "cell_type": "markdown",
   "metadata": {},
   "source": [
    "Drop last collumn"
   ]
  },
  {
   "cell_type": "code",
   "execution_count": 58,
   "metadata": {},
   "outputs": [
    {
     "data": {
      "text/html": [
       "<div>\n",
       "<style scoped>\n",
       "    .dataframe tbody tr th:only-of-type {\n",
       "        vertical-align: middle;\n",
       "    }\n",
       "\n",
       "    .dataframe tbody tr th {\n",
       "        vertical-align: top;\n",
       "    }\n",
       "\n",
       "    .dataframe thead th {\n",
       "        text-align: right;\n",
       "    }\n",
       "</style>\n",
       "<table border=\"1\" class=\"dataframe\">\n",
       "  <thead>\n",
       "    <tr style=\"text-align: right;\">\n",
       "      <th></th>\n",
       "      <th>0</th>\n",
       "      <th>1</th>\n",
       "      <th>2</th>\n",
       "      <th>3</th>\n",
       "      <th>4</th>\n",
       "      <th>5</th>\n",
       "      <th>6</th>\n",
       "      <th>7</th>\n",
       "      <th>8</th>\n",
       "      <th>9</th>\n",
       "      <th>...</th>\n",
       "      <th>2294</th>\n",
       "      <th>2295</th>\n",
       "      <th>2296</th>\n",
       "      <th>2297</th>\n",
       "      <th>2298</th>\n",
       "      <th>2299</th>\n",
       "      <th>2300</th>\n",
       "      <th>2301</th>\n",
       "      <th>2302</th>\n",
       "      <th>2303</th>\n",
       "    </tr>\n",
       "  </thead>\n",
       "  <tbody>\n",
       "    <tr>\n",
       "      <th>0</th>\n",
       "      <td>0.125490</td>\n",
       "      <td>0.211765</td>\n",
       "      <td>0.266667</td>\n",
       "      <td>0.309804</td>\n",
       "      <td>0.313725</td>\n",
       "      <td>0.309804</td>\n",
       "      <td>0.243137</td>\n",
       "      <td>0.164706</td>\n",
       "      <td>0.137255</td>\n",
       "      <td>0.137255</td>\n",
       "      <td>...</td>\n",
       "      <td>0.227451</td>\n",
       "      <td>0.219608</td>\n",
       "      <td>0.219608</td>\n",
       "      <td>0.215686</td>\n",
       "      <td>0.227451</td>\n",
       "      <td>0.235294</td>\n",
       "      <td>0.235294</td>\n",
       "      <td>0.227451</td>\n",
       "      <td>0.211765</td>\n",
       "      <td>0.223529</td>\n",
       "    </tr>\n",
       "    <tr>\n",
       "      <th>1</th>\n",
       "      <td>0.070588</td>\n",
       "      <td>0.070588</td>\n",
       "      <td>0.074510</td>\n",
       "      <td>0.074510</td>\n",
       "      <td>0.074510</td>\n",
       "      <td>0.074510</td>\n",
       "      <td>0.074510</td>\n",
       "      <td>0.074510</td>\n",
       "      <td>0.074510</td>\n",
       "      <td>0.074510</td>\n",
       "      <td>...</td>\n",
       "      <td>0.043137</td>\n",
       "      <td>0.043137</td>\n",
       "      <td>0.043137</td>\n",
       "      <td>0.043137</td>\n",
       "      <td>0.043137</td>\n",
       "      <td>0.047059</td>\n",
       "      <td>0.047059</td>\n",
       "      <td>0.043137</td>\n",
       "      <td>0.043137</td>\n",
       "      <td>0.047059</td>\n",
       "    </tr>\n",
       "    <tr>\n",
       "      <th>2</th>\n",
       "      <td>0.054902</td>\n",
       "      <td>0.054902</td>\n",
       "      <td>0.054902</td>\n",
       "      <td>0.054902</td>\n",
       "      <td>0.054902</td>\n",
       "      <td>0.054902</td>\n",
       "      <td>0.054902</td>\n",
       "      <td>0.054902</td>\n",
       "      <td>0.054902</td>\n",
       "      <td>0.058824</td>\n",
       "      <td>...</td>\n",
       "      <td>0.070588</td>\n",
       "      <td>0.070588</td>\n",
       "      <td>0.070588</td>\n",
       "      <td>0.070588</td>\n",
       "      <td>0.105882</td>\n",
       "      <td>0.133333</td>\n",
       "      <td>0.156863</td>\n",
       "      <td>0.145098</td>\n",
       "      <td>0.121569</td>\n",
       "      <td>0.105882</td>\n",
       "    </tr>\n",
       "    <tr>\n",
       "      <th>3</th>\n",
       "      <td>0.835294</td>\n",
       "      <td>0.929412</td>\n",
       "      <td>0.937255</td>\n",
       "      <td>0.945098</td>\n",
       "      <td>0.721569</td>\n",
       "      <td>0.403922</td>\n",
       "      <td>0.337255</td>\n",
       "      <td>0.294118</td>\n",
       "      <td>0.454902</td>\n",
       "      <td>0.611765</td>\n",
       "      <td>...</td>\n",
       "      <td>0.164706</td>\n",
       "      <td>0.192157</td>\n",
       "      <td>0.223529</td>\n",
       "      <td>0.203922</td>\n",
       "      <td>0.258824</td>\n",
       "      <td>0.325490</td>\n",
       "      <td>0.298039</td>\n",
       "      <td>0.262745</td>\n",
       "      <td>0.341176</td>\n",
       "      <td>0.435294</td>\n",
       "    </tr>\n",
       "    <tr>\n",
       "      <th>4</th>\n",
       "      <td>0.650980</td>\n",
       "      <td>0.392157</td>\n",
       "      <td>0.419608</td>\n",
       "      <td>0.372549</td>\n",
       "      <td>0.368627</td>\n",
       "      <td>0.254902</td>\n",
       "      <td>0.321569</td>\n",
       "      <td>0.341176</td>\n",
       "      <td>0.337255</td>\n",
       "      <td>0.337255</td>\n",
       "      <td>...</td>\n",
       "      <td>0.349020</td>\n",
       "      <td>0.235294</td>\n",
       "      <td>0.250980</td>\n",
       "      <td>0.321569</td>\n",
       "      <td>0.396078</td>\n",
       "      <td>0.478431</td>\n",
       "      <td>0.564706</td>\n",
       "      <td>0.294118</td>\n",
       "      <td>0.243137</td>\n",
       "      <td>0.290196</td>\n",
       "    </tr>\n",
       "  </tbody>\n",
       "</table>\n",
       "<p>5 rows × 2304 columns</p>\n",
       "</div>"
      ],
      "text/plain": [
       "          0         1         2         3         4         5         6  \\\n",
       "0  0.125490  0.211765  0.266667  0.309804  0.313725  0.309804  0.243137   \n",
       "1  0.070588  0.070588  0.074510  0.074510  0.074510  0.074510  0.074510   \n",
       "2  0.054902  0.054902  0.054902  0.054902  0.054902  0.054902  0.054902   \n",
       "3  0.835294  0.929412  0.937255  0.945098  0.721569  0.403922  0.337255   \n",
       "4  0.650980  0.392157  0.419608  0.372549  0.368627  0.254902  0.321569   \n",
       "\n",
       "          7         8         9  ...      2294      2295      2296      2297  \\\n",
       "0  0.164706  0.137255  0.137255  ...  0.227451  0.219608  0.219608  0.215686   \n",
       "1  0.074510  0.074510  0.074510  ...  0.043137  0.043137  0.043137  0.043137   \n",
       "2  0.054902  0.054902  0.058824  ...  0.070588  0.070588  0.070588  0.070588   \n",
       "3  0.294118  0.454902  0.611765  ...  0.164706  0.192157  0.223529  0.203922   \n",
       "4  0.341176  0.337255  0.337255  ...  0.349020  0.235294  0.250980  0.321569   \n",
       "\n",
       "       2298      2299      2300      2301      2302      2303  \n",
       "0  0.227451  0.235294  0.235294  0.227451  0.211765  0.223529  \n",
       "1  0.043137  0.047059  0.047059  0.043137  0.043137  0.047059  \n",
       "2  0.105882  0.133333  0.156863  0.145098  0.121569  0.105882  \n",
       "3  0.258824  0.325490  0.298039  0.262745  0.341176  0.435294  \n",
       "4  0.396078  0.478431  0.564706  0.294118  0.243137  0.290196  \n",
       "\n",
       "[5 rows x 2304 columns]"
      ]
     },
     "execution_count": 58,
     "metadata": {},
     "output_type": "execute_result"
    }
   ],
   "source": [
    "X_train_4000less=X_train_4000less.drop('Class',axis=1)\n",
    "X_train_4000less=X_train_4000less/255\n",
    "X_train_4000less.head()"
   ]
  },
  {
   "cell_type": "code",
   "execution_count": 59,
   "metadata": {},
   "outputs": [],
   "source": [
    "X_train, X_test, y_train, y_test = train_test_split( X_train_4000less, labels1, test_size=0.2, random_state=0)"
   ]
  },
  {
   "cell_type": "code",
   "execution_count": 60,
   "metadata": {},
   "outputs": [
    {
     "data": {
      "text/plain": [
       "(4552, 2304)"
      ]
     },
     "execution_count": 60,
     "metadata": {},
     "output_type": "execute_result"
    }
   ],
   "source": [
    "X_train=X_train.to_numpy()\n",
    "X_train.shape"
   ]
  },
  {
   "cell_type": "code",
   "execution_count": 61,
   "metadata": {},
   "outputs": [],
   "source": [
    "X_train=X_train.reshape(4552,48,48)\n",
    "X_train = np.expand_dims(X_train, -1)"
   ]
  },
  {
   "cell_type": "code",
   "execution_count": 62,
   "metadata": {},
   "outputs": [],
   "source": [
    "X_test=X_test.to_numpy()\n",
    "X_test=X_test.reshape(1138,48,48)"
   ]
  },
  {
   "cell_type": "code",
   "execution_count": 63,
   "metadata": {},
   "outputs": [
    {
     "name": "stdout",
     "output_type": "stream",
     "text": [
      "Epoch 1/15\n",
      "143/143 [==============================] - 3s 23ms/step - loss: 0.0310 - accuracy: 0.9930 - val_loss: 0.0271 - val_accuracy: 0.9947\n",
      "Epoch 2/15\n",
      "143/143 [==============================] - 3s 22ms/step - loss: 0.0062 - accuracy: 0.9989 - val_loss: 0.0120 - val_accuracy: 0.9974\n",
      "Epoch 3/15\n",
      "143/143 [==============================] - 3s 22ms/step - loss: 0.0013 - accuracy: 0.9998 - val_loss: 0.0104 - val_accuracy: 0.9974\n",
      "Epoch 4/15\n",
      "143/143 [==============================] - 3s 22ms/step - loss: 2.3961e-04 - accuracy: 1.0000 - val_loss: 0.0083 - val_accuracy: 0.9982\n",
      "Epoch 5/15\n",
      "143/143 [==============================] - 3s 22ms/step - loss: 0.0369 - accuracy: 0.9895 - val_loss: 0.0371 - val_accuracy: 0.9886\n",
      "Epoch 6/15\n",
      "143/143 [==============================] - 3s 22ms/step - loss: 0.0144 - accuracy: 0.9963 - val_loss: 0.0360 - val_accuracy: 0.9921\n",
      "Epoch 7/15\n",
      "143/143 [==============================] - 3s 22ms/step - loss: 0.0187 - accuracy: 0.9952 - val_loss: 0.0410 - val_accuracy: 0.9895\n",
      "Epoch 8/15\n",
      "143/143 [==============================] - 3s 22ms/step - loss: 0.0092 - accuracy: 0.9969 - val_loss: 0.0123 - val_accuracy: 0.9956\n",
      "Epoch 9/15\n",
      "143/143 [==============================] - 3s 22ms/step - loss: 0.0141 - accuracy: 0.9947 - val_loss: 0.0172 - val_accuracy: 0.9938\n",
      "Epoch 10/15\n",
      "143/143 [==============================] - 3s 22ms/step - loss: 0.0011 - accuracy: 1.0000 - val_loss: 0.0073 - val_accuracy: 0.9974\n",
      "Epoch 11/15\n",
      "143/143 [==============================] - 3s 22ms/step - loss: 2.1660e-04 - accuracy: 1.0000 - val_loss: 0.0082 - val_accuracy: 0.9965\n",
      "Epoch 12/15\n",
      "143/143 [==============================] - 3s 22ms/step - loss: 1.8717e-04 - accuracy: 1.0000 - val_loss: 0.0103 - val_accuracy: 0.9965\n",
      "Epoch 13/15\n",
      "143/143 [==============================] - 3s 22ms/step - loss: 5.5414e-04 - accuracy: 1.0000 - val_loss: 0.0060 - val_accuracy: 0.9974\n",
      "Epoch 14/15\n",
      "143/143 [==============================] - 3s 22ms/step - loss: 1.8753e-04 - accuracy: 1.0000 - val_loss: 0.0073 - val_accuracy: 0.9974\n",
      "Epoch 15/15\n",
      "143/143 [==============================] - 3s 22ms/step - loss: 8.9169e-05 - accuracy: 1.0000 - val_loss: 0.0074 - val_accuracy: 0.9974\n"
     ]
    }
   ],
   "source": [
    "model.compile(optimizer='adam',\n",
    "              loss='sparse_categorical_crossentropy',\n",
    "              metrics=['accuracy'])\n",
    "r4000 = model.fit(X_train, y_train, validation_data=(X_test, y_test), epochs=15)"
   ]
  },
  {
   "cell_type": "code",
   "execution_count": 64,
   "metadata": {},
   "outputs": [
    {
     "data": {
      "text/plain": [
       "<matplotlib.legend.Legend at 0x2494b858100>"
      ]
     },
     "execution_count": 64,
     "metadata": {},
     "output_type": "execute_result"
    },
    {
     "data": {
      "image/png": "[encoded data removed]",
      "text/plain": [
       "<Figure size 432x288 with 1 Axes>"
      ]
     },
     "metadata": {
      "needs_background": "light"
     },
     "output_type": "display_data"
    }
   ],
   "source": [
    "import matplotlib.pyplot as plt\n",
    "plt.plot(r4000.history['loss'], label='loss')\n",
    "plt.plot(r4000.history['val_loss'], label='val_loss')\n",
    "plt.legend()"
   ]
  },
  {
   "cell_type": "code",
   "execution_count": 65,
   "metadata": {},
   "outputs": [
    {
     "data": {
      "text/plain": [
       "<matplotlib.legend.Legend at 0x2494c88e130>"
      ]
     },
     "execution_count": 65,
     "metadata": {},
     "output_type": "execute_result"
    },
    {
     "data": {
      "image/png": "[encoded data removed]",
      "text/plain": [
       "<Figure size 432x288 with 1 Axes>"
      ]
     },
     "metadata": {
      "needs_background": "light"
     },
     "output_type": "display_data"
    }
   ],
   "source": [
    "# Plot accuracy per iteration\n",
    "plt.plot(r4000.history['accuracy'], label='acc')\n",
    "plt.plot(r4000.history['val_accuracy'], label='val_acc')\n",
    "plt.legend()"
   ]
  },
  {
   "cell_type": "markdown",
   "metadata": {},
   "source": [
    "Evaluate"
   ]
  },
  {
   "cell_type": "code",
   "execution_count": 66,
   "metadata": {},
   "outputs": [
    {
     "data": {
      "text/html": [
       "<div>\n",
       "<style scoped>\n",
       "    .dataframe tbody tr th:only-of-type {\n",
       "        vertical-align: middle;\n",
       "    }\n",
       "\n",
       "    .dataframe tbody tr th {\n",
       "        vertical-align: top;\n",
       "    }\n",
       "\n",
       "    .dataframe thead th {\n",
       "        text-align: right;\n",
       "    }\n",
       "</style>\n",
       "<table border=\"1\" class=\"dataframe\">\n",
       "  <thead>\n",
       "    <tr style=\"text-align: right;\">\n",
       "      <th></th>\n",
       "      <th>0</th>\n",
       "      <th>1</th>\n",
       "      <th>2</th>\n",
       "      <th>3</th>\n",
       "      <th>4</th>\n",
       "      <th>5</th>\n",
       "      <th>6</th>\n",
       "      <th>7</th>\n",
       "      <th>8</th>\n",
       "      <th>9</th>\n",
       "      <th>...</th>\n",
       "      <th>2295</th>\n",
       "      <th>2296</th>\n",
       "      <th>2297</th>\n",
       "      <th>2298</th>\n",
       "      <th>2299</th>\n",
       "      <th>2300</th>\n",
       "      <th>2301</th>\n",
       "      <th>2302</th>\n",
       "      <th>2303</th>\n",
       "      <th>Class</th>\n",
       "    </tr>\n",
       "  </thead>\n",
       "  <tbody>\n",
       "    <tr>\n",
       "      <th>0</th>\n",
       "      <td>22.0</td>\n",
       "      <td>23.0</td>\n",
       "      <td>24.0</td>\n",
       "      <td>24.0</td>\n",
       "      <td>24.0</td>\n",
       "      <td>22.0</td>\n",
       "      <td>20.0</td>\n",
       "      <td>24.0</td>\n",
       "      <td>25.0</td>\n",
       "      <td>26.0</td>\n",
       "      <td>...</td>\n",
       "      <td>24.0</td>\n",
       "      <td>24.0</td>\n",
       "      <td>24.0</td>\n",
       "      <td>24.0</td>\n",
       "      <td>24.0</td>\n",
       "      <td>24.0</td>\n",
       "      <td>23.0</td>\n",
       "      <td>23.0</td>\n",
       "      <td>22.0</td>\n",
       "      <td>2</td>\n",
       "    </tr>\n",
       "    <tr>\n",
       "      <th>1</th>\n",
       "      <td>255.0</td>\n",
       "      <td>255.0</td>\n",
       "      <td>255.0</td>\n",
       "      <td>255.0</td>\n",
       "      <td>255.0</td>\n",
       "      <td>255.0</td>\n",
       "      <td>255.0</td>\n",
       "      <td>255.0</td>\n",
       "      <td>255.0</td>\n",
       "      <td>255.0</td>\n",
       "      <td>...</td>\n",
       "      <td>200.0</td>\n",
       "      <td>226.0</td>\n",
       "      <td>243.0</td>\n",
       "      <td>253.0</td>\n",
       "      <td>246.0</td>\n",
       "      <td>240.0</td>\n",
       "      <td>249.0</td>\n",
       "      <td>247.0</td>\n",
       "      <td>242.0</td>\n",
       "      <td>6</td>\n",
       "    </tr>\n",
       "    <tr>\n",
       "      <th>2</th>\n",
       "      <td>173.0</td>\n",
       "      <td>187.0</td>\n",
       "      <td>168.0</td>\n",
       "      <td>118.0</td>\n",
       "      <td>63.0</td>\n",
       "      <td>118.0</td>\n",
       "      <td>107.0</td>\n",
       "      <td>131.0</td>\n",
       "      <td>164.0</td>\n",
       "      <td>119.0</td>\n",
       "      <td>...</td>\n",
       "      <td>255.0</td>\n",
       "      <td>255.0</td>\n",
       "      <td>255.0</td>\n",
       "      <td>255.0</td>\n",
       "      <td>255.0</td>\n",
       "      <td>255.0</td>\n",
       "      <td>255.0</td>\n",
       "      <td>255.0</td>\n",
       "      <td>255.0</td>\n",
       "      <td>4</td>\n",
       "    </tr>\n",
       "    <tr>\n",
       "      <th>3</th>\n",
       "      <td>52.0</td>\n",
       "      <td>52.0</td>\n",
       "      <td>54.0</td>\n",
       "      <td>57.0</td>\n",
       "      <td>59.0</td>\n",
       "      <td>60.0</td>\n",
       "      <td>61.0</td>\n",
       "      <td>58.0</td>\n",
       "      <td>57.0</td>\n",
       "      <td>56.0</td>\n",
       "      <td>...</td>\n",
       "      <td>255.0</td>\n",
       "      <td>255.0</td>\n",
       "      <td>255.0</td>\n",
       "      <td>255.0</td>\n",
       "      <td>255.0</td>\n",
       "      <td>255.0</td>\n",
       "      <td>255.0</td>\n",
       "      <td>255.0</td>\n",
       "      <td>255.0</td>\n",
       "      <td>2</td>\n",
       "    </tr>\n",
       "    <tr>\n",
       "      <th>4</th>\n",
       "      <td>235.0</td>\n",
       "      <td>156.0</td>\n",
       "      <td>121.0</td>\n",
       "      <td>70.0</td>\n",
       "      <td>44.0</td>\n",
       "      <td>66.0</td>\n",
       "      <td>86.0</td>\n",
       "      <td>94.0</td>\n",
       "      <td>106.0</td>\n",
       "      <td>110.0</td>\n",
       "      <td>...</td>\n",
       "      <td>255.0</td>\n",
       "      <td>255.0</td>\n",
       "      <td>255.0</td>\n",
       "      <td>255.0</td>\n",
       "      <td>255.0</td>\n",
       "      <td>255.0</td>\n",
       "      <td>254.0</td>\n",
       "      <td>254.0</td>\n",
       "      <td>254.0</td>\n",
       "      <td>1</td>\n",
       "    </tr>\n",
       "  </tbody>\n",
       "</table>\n",
       "<p>5 rows × 2305 columns</p>\n",
       "</div>"
      ],
      "text/plain": [
       "       0      1      2      3      4      5      6      7      8      9  ...  \\\n",
       "0   22.0   23.0   24.0   24.0   24.0   22.0   20.0   24.0   25.0   26.0  ...   \n",
       "1  255.0  255.0  255.0  255.0  255.0  255.0  255.0  255.0  255.0  255.0  ...   \n",
       "2  173.0  187.0  168.0  118.0   63.0  118.0  107.0  131.0  164.0  119.0  ...   \n",
       "3   52.0   52.0   54.0   57.0   59.0   60.0   61.0   58.0   57.0   56.0  ...   \n",
       "4  235.0  156.0  121.0   70.0   44.0   66.0   86.0   94.0  106.0  110.0  ...   \n",
       "\n",
       "    2295   2296   2297   2298   2299   2300   2301   2302   2303  Class  \n",
       "0   24.0   24.0   24.0   24.0   24.0   24.0   23.0   23.0   22.0      2  \n",
       "1  200.0  226.0  243.0  253.0  246.0  240.0  249.0  247.0  242.0      6  \n",
       "2  255.0  255.0  255.0  255.0  255.0  255.0  255.0  255.0  255.0      4  \n",
       "3  255.0  255.0  255.0  255.0  255.0  255.0  255.0  255.0  255.0      2  \n",
       "4  255.0  255.0  255.0  255.0  255.0  255.0  254.0  254.0  254.0      1  \n",
       "\n",
       "[5 rows x 2305 columns]"
      ]
     },
     "execution_count": 66,
     "metadata": {},
     "output_type": "execute_result"
    }
   ],
   "source": [
    "Test_4000=pd.read_csv('Test_Dataset_4000.csv')\n",
    "Test_4000[['Class']] = Test_4000[['Class']].replace( ['zero', 'one', 'two','three', 'four', 'five', 'six', 'seven', 'eight',\n",
    "                                 'nine'],[0, 1, 2,3,4,5,6,7,8,9])\n",
    "Test_4000.head()"
   ]
  },
  {
   "cell_type": "code",
   "execution_count": 67,
   "metadata": {},
   "outputs": [
    {
     "name": "stdout",
     "output_type": "stream",
     "text": [
      "<class 'pandas.core.frame.DataFrame'>\n",
      "RangeIndex: 7090 entries, 0 to 7089\n",
      "Data columns (total 1 columns):\n",
      " #   Column  Non-Null Count  Dtype\n",
      "---  ------  --------------  -----\n",
      " 0   Class   7090 non-null   int64\n",
      "dtypes: int64(1)\n",
      "memory usage: 55.5 KB\n"
     ]
    }
   ],
   "source": [
    "Data400_plus_test=Test_4000[['Class']]\n",
    "Data400_plus_test.info()"
   ]
  },
  {
   "cell_type": "code",
   "execution_count": 68,
   "metadata": {},
   "outputs": [
    {
     "name": "stdout",
     "output_type": "stream",
     "text": [
      "<class 'pandas.core.frame.DataFrame'>\n",
      "RangeIndex: 7090 entries, 0 to 7089\n",
      "Columns: 2304 entries, 0 to 2303\n",
      "dtypes: float64(2304)\n",
      "memory usage: 124.6 MB\n"
     ]
    }
   ],
   "source": [
    "Test_4000=Test_4000.drop('Class',axis=1)\n",
    "Test_4000=Test_4000/255\n",
    "Test_4000.info()"
   ]
  },
  {
   "cell_type": "code",
   "execution_count": 69,
   "metadata": {},
   "outputs": [
    {
     "data": {
      "text/plain": [
       "(7090, 1)"
      ]
     },
     "execution_count": 69,
     "metadata": {},
     "output_type": "execute_result"
    }
   ],
   "source": [
    "numpie=Data400_plus_test.to_numpy()   #convert the data to numpy array\n",
    "numpie.shape"
   ]
  },
  {
   "cell_type": "code",
   "execution_count": 70,
   "metadata": {},
   "outputs": [
    {
     "data": {
      "text/plain": [
       "array([2, 6, 4, ..., 6, 2, 4], dtype=int64)"
      ]
     },
     "execution_count": 70,
     "metadata": {},
     "output_type": "execute_result"
    }
   ],
   "source": [
    "labels_test_new=np.squeeze(numpie) \n",
    "labels_test_new"
   ]
  },
  {
   "cell_type": "code",
   "execution_count": 71,
   "metadata": {},
   "outputs": [
    {
     "data": {
      "text/plain": [
       "(7090,)"
      ]
     },
     "execution_count": 71,
     "metadata": {},
     "output_type": "execute_result"
    }
   ],
   "source": [
    "labels_test_new.shape"
   ]
  },
  {
   "cell_type": "code",
   "execution_count": 72,
   "metadata": {},
   "outputs": [],
   "source": [
    "Test_4000=Test_4000.to_numpy()"
   ]
  },
  {
   "cell_type": "code",
   "execution_count": 73,
   "metadata": {},
   "outputs": [],
   "source": [
    "Test_4000=Test_4000.reshape(7090,48,48)"
   ]
  },
  {
   "cell_type": "code",
   "execution_count": 74,
   "metadata": {},
   "outputs": [],
   "source": [
    "Test_4000 = np.expand_dims(Test_4000, -1)"
   ]
  },
  {
   "cell_type": "code",
   "execution_count": 75,
   "metadata": {},
   "outputs": [
    {
     "name": "stdout",
     "output_type": "stream",
     "text": [
      "222/222 [==============================] - 1s 6ms/step - loss: 0.1976 - accuracy: 0.9814\n",
      "[0.19762714207172394, 0.9813822507858276]\n"
     ]
    }
   ],
   "source": [
    "print(model.evaluate(Test_4000, labels_test_new))"
   ]
  },
  {
   "cell_type": "code",
   "execution_count": 76,
   "metadata": {},
   "outputs": [],
   "source": [
    "raw=model.predict(Test_4000,verbose=0)\n",
    "pred=[]\n",
    "for result in raw:\n",
    "    value=np.argmax(result)\n",
    "    pred.append(value)\n",
    "    "
   ]
  },
  {
   "cell_type": "code",
   "execution_count": 77,
   "metadata": {},
   "outputs": [
    {
     "name": "stdout",
     "output_type": "stream",
     "text": [
      "Classification report for classifier <tensorflow.python.keras.engine.functional.Functional object at 0x000002494852E4F0>:\n",
      "              precision    recall  f1-score   support\n",
      "\n",
      "           0       0.97      0.90      0.94       144\n",
      "           1       0.97      0.98      0.97      1634\n",
      "           2       0.98      0.99      0.99      1691\n",
      "           3       0.99      0.99      0.99      1036\n",
      "           4       0.99      0.98      0.98      1474\n",
      "           5       0.99      1.00      1.00       145\n",
      "           6       0.99      0.99      0.99       242\n",
      "           7       1.00      0.79      0.89       146\n",
      "           8       1.00      0.99      0.99       376\n",
      "           9       0.99      0.98      0.98       202\n",
      "\n",
      "    accuracy                           0.98      7090\n",
      "   macro avg       0.99      0.96      0.97      7090\n",
      "weighted avg       0.98      0.98      0.98      7090\n",
      "\n",
      "\n"
     ]
    }
   ],
   "source": [
    "from sklearn import metrics\n",
    "print(\"Classification report for classifier %s:\\n%s\\n\"\n",
    "      % (model, metrics.classification_report(list(labels_test_new), pred)))"
   ]
  },
  {
   "cell_type": "code",
   "execution_count": 78,
   "metadata": {},
   "outputs": [
    {
     "name": "stdout",
     "output_type": "stream",
     "text": [
      "Confusion matrix, without normalization\n",
      "[[ 130    5    0    0    9    0    0    0    0    0]\n",
      " [   1 1609   16    2    5    0    0    0    1    0]\n",
      " [   0    5 1681    4    1    0    0    0    0    0]\n",
      " [   0    2    4 1029    0    0    0    0    0    1]\n",
      " [   2   16   14    1 1440    0    1    0    0    0]\n",
      " [   0    0    0    0    0  145    0    0    0    0]\n",
      " [   1    0    0    0    2    0  239    0    0    0]\n",
      " [   0   30    0    0    0    0    0  116    0    0]\n",
      " [   0    0    1    0    0    1    1    0  371    2]\n",
      " [   0    0    0    3    0    0    1    0    0  198]]\n"
     ]
    },
    {
     "data": {
      "image/png": "[encoded data removed]",
      "text/plain": [
       "<Figure size 432x288 with 2 Axes>"
      ]
     },
     "metadata": {
      "needs_background": "light"
     },
     "output_type": "display_data"
    }
   ],
   "source": [
    "#p_test = model.predict(X_test).argmax(axis=1)\n",
    "cm = confusion_matrix(labels_test_new, pred)\n",
    "plot_confusion_matrix(cm, list(range(10)))"
   ]
  },
  {
   "cell_type": "markdown",
   "metadata": {},
   "source": [
    "# Class label Meaning\n",
    "\n",
    "0 speed limit 20\n",
    "\n",
    "1 speed limit 30\n",
    "\n",
    "2 speed limit 50\n",
    "\n",
    "3 speed limit 60\n",
    "\n",
    "4 speed limit 70\n",
    "\n",
    "5 left turn\n",
    "\n",
    "6 right turn\n",
    "\n",
    "7 beware pedestrian crossing\n",
    "\n",
    "8 beware children\n",
    "\n",
    "9 beware cycle route ahead"
   ]
  },
  {
   "cell_type": "code",
   "execution_count": 80,
   "metadata": {},
   "outputs": [
    {
     "data": {
      "image/png": "[encoded data removed]",
      "text/plain": [
       "<Figure size 432x288 with 1 Axes>"
      ]
     },
     "metadata": {
      "needs_background": "light"
     },
     "output_type": "display_data"
    }
   ],
   "source": [
    "misclassified_idx = np.where(pred != labels_test_new)[0]\n",
    "i = np.random.choice(misclassified_idx)\n",
    "plt.imshow(Test_4000[i].reshape(48,48), cmap='gray')\n",
    "plt.title(\"True label: %s Predicted: %s\" % (labels_test_new[i], pred[i]));"
   ]
  },
  {
   "cell_type": "markdown",
   "metadata": {},
   "source": [
    "# 9000 LESS INSTANCES"
   ]
  },
  {
   "cell_type": "code",
   "execution_count": 81,
   "metadata": {},
   "outputs": [],
   "source": [
    "X_train_9000less=pd.read_csv(\"Train_Dataset_9000.csv\")\n",
    "X_train_9000less[['Class']] = X_train_9000less[['Class']].replace( ['zero', 'one', 'two','three', 'four', 'five', 'six', 'seven', 'eight',\n",
    "                                 'nine'],[0, 1, 2,3,4,5,6,7,8,9])"
   ]
  },
  {
   "cell_type": "code",
   "execution_count": 82,
   "metadata": {},
   "outputs": [
    {
     "name": "stdout",
     "output_type": "stream",
     "text": [
      "<class 'pandas.core.frame.DataFrame'>\n",
      "RangeIndex: 690 entries, 0 to 689\n",
      "Columns: 2305 entries, 0 to Class\n",
      "dtypes: float64(2304), int64(1)\n",
      "memory usage: 12.1 MB\n"
     ]
    }
   ],
   "source": [
    "X_train_9000less.info()"
   ]
  },
  {
   "cell_type": "code",
   "execution_count": 83,
   "metadata": {},
   "outputs": [],
   "source": [
    "y_train_9000less=X_train_9000less[['Class']]\n",
    "npie=y_train_9000less.to_numpy()   #convert the data to numpy array\n",
    "labels1=np.squeeze(npie) "
   ]
  },
  {
   "cell_type": "markdown",
   "metadata": {},
   "source": [
    "Drop last collumn"
   ]
  },
  {
   "cell_type": "code",
   "execution_count": 84,
   "metadata": {},
   "outputs": [
    {
     "data": {
      "text/html": [
       "<div>\n",
       "<style scoped>\n",
       "    .dataframe tbody tr th:only-of-type {\n",
       "        vertical-align: middle;\n",
       "    }\n",
       "\n",
       "    .dataframe tbody tr th {\n",
       "        vertical-align: top;\n",
       "    }\n",
       "\n",
       "    .dataframe thead th {\n",
       "        text-align: right;\n",
       "    }\n",
       "</style>\n",
       "<table border=\"1\" class=\"dataframe\">\n",
       "  <thead>\n",
       "    <tr style=\"text-align: right;\">\n",
       "      <th></th>\n",
       "      <th>0</th>\n",
       "      <th>1</th>\n",
       "      <th>2</th>\n",
       "      <th>3</th>\n",
       "      <th>4</th>\n",
       "      <th>5</th>\n",
       "      <th>6</th>\n",
       "      <th>7</th>\n",
       "      <th>8</th>\n",
       "      <th>9</th>\n",
       "      <th>...</th>\n",
       "      <th>2294</th>\n",
       "      <th>2295</th>\n",
       "      <th>2296</th>\n",
       "      <th>2297</th>\n",
       "      <th>2298</th>\n",
       "      <th>2299</th>\n",
       "      <th>2300</th>\n",
       "      <th>2301</th>\n",
       "      <th>2302</th>\n",
       "      <th>2303</th>\n",
       "    </tr>\n",
       "  </thead>\n",
       "  <tbody>\n",
       "    <tr>\n",
       "      <th>0</th>\n",
       "      <td>0.125490</td>\n",
       "      <td>0.211765</td>\n",
       "      <td>0.266667</td>\n",
       "      <td>0.309804</td>\n",
       "      <td>0.313725</td>\n",
       "      <td>0.309804</td>\n",
       "      <td>0.243137</td>\n",
       "      <td>0.164706</td>\n",
       "      <td>0.137255</td>\n",
       "      <td>0.137255</td>\n",
       "      <td>...</td>\n",
       "      <td>0.227451</td>\n",
       "      <td>0.219608</td>\n",
       "      <td>0.219608</td>\n",
       "      <td>0.215686</td>\n",
       "      <td>0.227451</td>\n",
       "      <td>0.235294</td>\n",
       "      <td>0.235294</td>\n",
       "      <td>0.227451</td>\n",
       "      <td>0.211765</td>\n",
       "      <td>0.223529</td>\n",
       "    </tr>\n",
       "    <tr>\n",
       "      <th>1</th>\n",
       "      <td>0.070588</td>\n",
       "      <td>0.070588</td>\n",
       "      <td>0.074510</td>\n",
       "      <td>0.074510</td>\n",
       "      <td>0.074510</td>\n",
       "      <td>0.074510</td>\n",
       "      <td>0.074510</td>\n",
       "      <td>0.074510</td>\n",
       "      <td>0.074510</td>\n",
       "      <td>0.074510</td>\n",
       "      <td>...</td>\n",
       "      <td>0.043137</td>\n",
       "      <td>0.043137</td>\n",
       "      <td>0.043137</td>\n",
       "      <td>0.043137</td>\n",
       "      <td>0.043137</td>\n",
       "      <td>0.047059</td>\n",
       "      <td>0.047059</td>\n",
       "      <td>0.043137</td>\n",
       "      <td>0.043137</td>\n",
       "      <td>0.047059</td>\n",
       "    </tr>\n",
       "    <tr>\n",
       "      <th>2</th>\n",
       "      <td>0.054902</td>\n",
       "      <td>0.054902</td>\n",
       "      <td>0.054902</td>\n",
       "      <td>0.054902</td>\n",
       "      <td>0.054902</td>\n",
       "      <td>0.054902</td>\n",
       "      <td>0.054902</td>\n",
       "      <td>0.054902</td>\n",
       "      <td>0.054902</td>\n",
       "      <td>0.058824</td>\n",
       "      <td>...</td>\n",
       "      <td>0.070588</td>\n",
       "      <td>0.070588</td>\n",
       "      <td>0.070588</td>\n",
       "      <td>0.070588</td>\n",
       "      <td>0.105882</td>\n",
       "      <td>0.133333</td>\n",
       "      <td>0.156863</td>\n",
       "      <td>0.145098</td>\n",
       "      <td>0.121569</td>\n",
       "      <td>0.105882</td>\n",
       "    </tr>\n",
       "    <tr>\n",
       "      <th>3</th>\n",
       "      <td>0.835294</td>\n",
       "      <td>0.929412</td>\n",
       "      <td>0.937255</td>\n",
       "      <td>0.945098</td>\n",
       "      <td>0.721569</td>\n",
       "      <td>0.403922</td>\n",
       "      <td>0.337255</td>\n",
       "      <td>0.294118</td>\n",
       "      <td>0.454902</td>\n",
       "      <td>0.611765</td>\n",
       "      <td>...</td>\n",
       "      <td>0.164706</td>\n",
       "      <td>0.192157</td>\n",
       "      <td>0.223529</td>\n",
       "      <td>0.203922</td>\n",
       "      <td>0.258824</td>\n",
       "      <td>0.325490</td>\n",
       "      <td>0.298039</td>\n",
       "      <td>0.262745</td>\n",
       "      <td>0.341176</td>\n",
       "      <td>0.435294</td>\n",
       "    </tr>\n",
       "    <tr>\n",
       "      <th>4</th>\n",
       "      <td>0.650980</td>\n",
       "      <td>0.392157</td>\n",
       "      <td>0.419608</td>\n",
       "      <td>0.372549</td>\n",
       "      <td>0.368627</td>\n",
       "      <td>0.254902</td>\n",
       "      <td>0.321569</td>\n",
       "      <td>0.341176</td>\n",
       "      <td>0.337255</td>\n",
       "      <td>0.337255</td>\n",
       "      <td>...</td>\n",
       "      <td>0.349020</td>\n",
       "      <td>0.235294</td>\n",
       "      <td>0.250980</td>\n",
       "      <td>0.321569</td>\n",
       "      <td>0.396078</td>\n",
       "      <td>0.478431</td>\n",
       "      <td>0.564706</td>\n",
       "      <td>0.294118</td>\n",
       "      <td>0.243137</td>\n",
       "      <td>0.290196</td>\n",
       "    </tr>\n",
       "  </tbody>\n",
       "</table>\n",
       "<p>5 rows × 2304 columns</p>\n",
       "</div>"
      ],
      "text/plain": [
       "          0         1         2         3         4         5         6  \\\n",
       "0  0.125490  0.211765  0.266667  0.309804  0.313725  0.309804  0.243137   \n",
       "1  0.070588  0.070588  0.074510  0.074510  0.074510  0.074510  0.074510   \n",
       "2  0.054902  0.054902  0.054902  0.054902  0.054902  0.054902  0.054902   \n",
       "3  0.835294  0.929412  0.937255  0.945098  0.721569  0.403922  0.337255   \n",
       "4  0.650980  0.392157  0.419608  0.372549  0.368627  0.254902  0.321569   \n",
       "\n",
       "          7         8         9  ...      2294      2295      2296      2297  \\\n",
       "0  0.164706  0.137255  0.137255  ...  0.227451  0.219608  0.219608  0.215686   \n",
       "1  0.074510  0.074510  0.074510  ...  0.043137  0.043137  0.043137  0.043137   \n",
       "2  0.054902  0.054902  0.058824  ...  0.070588  0.070588  0.070588  0.070588   \n",
       "3  0.294118  0.454902  0.611765  ...  0.164706  0.192157  0.223529  0.203922   \n",
       "4  0.341176  0.337255  0.337255  ...  0.349020  0.235294  0.250980  0.321569   \n",
       "\n",
       "       2298      2299      2300      2301      2302      2303  \n",
       "0  0.227451  0.235294  0.235294  0.227451  0.211765  0.223529  \n",
       "1  0.043137  0.047059  0.047059  0.043137  0.043137  0.047059  \n",
       "2  0.105882  0.133333  0.156863  0.145098  0.121569  0.105882  \n",
       "3  0.258824  0.325490  0.298039  0.262745  0.341176  0.435294  \n",
       "4  0.396078  0.478431  0.564706  0.294118  0.243137  0.290196  \n",
       "\n",
       "[5 rows x 2304 columns]"
      ]
     },
     "execution_count": 84,
     "metadata": {},
     "output_type": "execute_result"
    }
   ],
   "source": [
    "X_train_9000less=X_train_9000less.drop('Class',axis=1)\n",
    "X_train_9000less=X_train_9000less/255\n",
    "X_train_9000less.head()"
   ]
  },
  {
   "cell_type": "code",
   "execution_count": 85,
   "metadata": {},
   "outputs": [],
   "source": [
    "X_train, X_test, y_train, y_test = train_test_split( X_train_9000less, labels1, test_size=0.2, random_state=0)"
   ]
  },
  {
   "cell_type": "code",
   "execution_count": 86,
   "metadata": {},
   "outputs": [
    {
     "data": {
      "text/plain": [
       "(552, 2304)"
      ]
     },
     "execution_count": 86,
     "metadata": {},
     "output_type": "execute_result"
    }
   ],
   "source": [
    "X_train=X_train.to_numpy()\n",
    "X_train.shape"
   ]
  },
  {
   "cell_type": "code",
   "execution_count": 87,
   "metadata": {},
   "outputs": [],
   "source": [
    "X_train=X_train.reshape(552,48,48)\n",
    "X_train = np.expand_dims(X_train, -1)"
   ]
  },
  {
   "cell_type": "code",
   "execution_count": 88,
   "metadata": {},
   "outputs": [],
   "source": [
    "X_test=X_test.to_numpy()\n",
    "X_test=X_test.reshape(138,48,48)"
   ]
  },
  {
   "cell_type": "code",
   "execution_count": 89,
   "metadata": {},
   "outputs": [
    {
     "name": "stdout",
     "output_type": "stream",
     "text": [
      "Epoch 1/15\n",
      "18/18 [==============================] - 1s 38ms/step - loss: 0.0084 - accuracy: 0.9982 - val_loss: 0.0706 - val_accuracy: 0.9855\n",
      "Epoch 2/15\n",
      "18/18 [==============================] - 0s 22ms/step - loss: 0.0018 - accuracy: 0.9982 - val_loss: 0.0135 - val_accuracy: 0.9928\n",
      "Epoch 3/15\n",
      "18/18 [==============================] - 0s 21ms/step - loss: 3.8208e-04 - accuracy: 1.0000 - val_loss: 0.0037 - val_accuracy: 1.0000\n",
      "Epoch 4/15\n",
      "18/18 [==============================] - 0s 21ms/step - loss: 1.5378e-04 - accuracy: 1.0000 - val_loss: 0.0039 - val_accuracy: 1.0000\n",
      "Epoch 5/15\n",
      "18/18 [==============================] - 0s 21ms/step - loss: 1.5965e-05 - accuracy: 1.0000 - val_loss: 0.0097 - val_accuracy: 0.9928\n",
      "Epoch 6/15\n",
      "18/18 [==============================] - 0s 21ms/step - loss: 1.6280e-05 - accuracy: 1.0000 - val_loss: 0.0102 - val_accuracy: 0.9928\n",
      "Epoch 7/15\n",
      "18/18 [==============================] - 0s 21ms/step - loss: 0.0012 - accuracy: 1.0000 - val_loss: 0.0047 - val_accuracy: 1.0000\n",
      "Epoch 8/15\n",
      "18/18 [==============================] - 0s 21ms/step - loss: 4.0991e-04 - accuracy: 1.0000 - val_loss: 0.0048 - val_accuracy: 1.0000\n",
      "Epoch 9/15\n",
      "18/18 [==============================] - 0s 21ms/step - loss: 5.0809e-05 - accuracy: 1.0000 - val_loss: 0.0065 - val_accuracy: 1.0000\n",
      "Epoch 10/15\n",
      "18/18 [==============================] - 0s 21ms/step - loss: 3.2294e-05 - accuracy: 1.0000 - val_loss: 0.0062 - val_accuracy: 1.0000\n",
      "Epoch 11/15\n",
      "18/18 [==============================] - 0s 22ms/step - loss: 3.2179e-05 - accuracy: 1.0000 - val_loss: 0.0152 - val_accuracy: 0.9928\n",
      "Epoch 12/15\n",
      "18/18 [==============================] - 0s 22ms/step - loss: 1.8484e-05 - accuracy: 1.0000 - val_loss: 0.0098 - val_accuracy: 0.9928\n",
      "Epoch 13/15\n",
      "18/18 [==============================] - 0s 22ms/step - loss: 3.2265e-05 - accuracy: 1.0000 - val_loss: 0.0092 - val_accuracy: 0.9928\n",
      "Epoch 14/15\n",
      "18/18 [==============================] - 0s 22ms/step - loss: 7.8102e-05 - accuracy: 1.0000 - val_loss: 0.0198 - val_accuracy: 0.9928\n",
      "Epoch 15/15\n",
      "18/18 [==============================] - 0s 21ms/step - loss: 3.0756e-05 - accuracy: 1.0000 - val_loss: 0.0116 - val_accuracy: 0.9928\n"
     ]
    }
   ],
   "source": [
    "model.compile(optimizer='adam',\n",
    "              loss='sparse_categorical_crossentropy',\n",
    "              metrics=['accuracy'])\n",
    "r9000 = model.fit(X_train, y_train, validation_data=(X_test, y_test), epochs=15)"
   ]
  },
  {
   "cell_type": "code",
   "execution_count": 90,
   "metadata": {},
   "outputs": [
    {
     "data": {
      "text/plain": [
       "<matplotlib.legend.Legend at 0x2494cb5b8e0>"
      ]
     },
     "execution_count": 90,
     "metadata": {},
     "output_type": "execute_result"
    },
    {
     "data": {
      "image/png": "[encoded data removed]",
      "text/plain": [
       "<Figure size 432x288 with 1 Axes>"
      ]
     },
     "metadata": {
      "needs_background": "light"
     },
     "output_type": "display_data"
    }
   ],
   "source": [
    "import matplotlib.pyplot as plt\n",
    "plt.plot(r9000.history['loss'], label='loss')\n",
    "plt.plot(r9000.history['val_loss'], label='val_loss')\n",
    "plt.legend()"
   ]
  },
  {
   "cell_type": "code",
   "execution_count": 91,
   "metadata": {},
   "outputs": [
    {
     "data": {
      "text/plain": [
       "<matplotlib.legend.Legend at 0x2494aee7550>"
      ]
     },
     "execution_count": 91,
     "metadata": {},
     "output_type": "execute_result"
    },
    {
     "data": {
      "image/png": "[encoded data removed]",
      "text/plain": [
       "<Figure size 432x288 with 1 Axes>"
      ]
     },
     "metadata": {
      "needs_background": "light"
     },
     "output_type": "display_data"
    }
   ],
   "source": [
    "# Plot accuracy per iteration\n",
    "plt.plot(r9000.history['accuracy'], label='acc')\n",
    "plt.plot(r9000.history['val_accuracy'], label='val_acc')\n",
    "plt.legend()"
   ]
  },
  {
   "cell_type": "markdown",
   "metadata": {},
   "source": [
    "Evaluate"
   ]
  },
  {
   "cell_type": "code",
   "execution_count": 92,
   "metadata": {},
   "outputs": [
    {
     "data": {
      "text/html": [
       "<div>\n",
       "<style scoped>\n",
       "    .dataframe tbody tr th:only-of-type {\n",
       "        vertical-align: middle;\n",
       "    }\n",
       "\n",
       "    .dataframe tbody tr th {\n",
       "        vertical-align: top;\n",
       "    }\n",
       "\n",
       "    .dataframe thead th {\n",
       "        text-align: right;\n",
       "    }\n",
       "</style>\n",
       "<table border=\"1\" class=\"dataframe\">\n",
       "  <thead>\n",
       "    <tr style=\"text-align: right;\">\n",
       "      <th></th>\n",
       "      <th>0</th>\n",
       "      <th>1</th>\n",
       "      <th>2</th>\n",
       "      <th>3</th>\n",
       "      <th>4</th>\n",
       "      <th>5</th>\n",
       "      <th>6</th>\n",
       "      <th>7</th>\n",
       "      <th>8</th>\n",
       "      <th>9</th>\n",
       "      <th>...</th>\n",
       "      <th>2295</th>\n",
       "      <th>2296</th>\n",
       "      <th>2297</th>\n",
       "      <th>2298</th>\n",
       "      <th>2299</th>\n",
       "      <th>2300</th>\n",
       "      <th>2301</th>\n",
       "      <th>2302</th>\n",
       "      <th>2303</th>\n",
       "      <th>Class</th>\n",
       "    </tr>\n",
       "  </thead>\n",
       "  <tbody>\n",
       "    <tr>\n",
       "      <th>0</th>\n",
       "      <td>65.0</td>\n",
       "      <td>52.0</td>\n",
       "      <td>58.0</td>\n",
       "      <td>67.0</td>\n",
       "      <td>52.0</td>\n",
       "      <td>64.0</td>\n",
       "      <td>58.0</td>\n",
       "      <td>49.0</td>\n",
       "      <td>56.0</td>\n",
       "      <td>61.0</td>\n",
       "      <td>...</td>\n",
       "      <td>38.0</td>\n",
       "      <td>55.0</td>\n",
       "      <td>70.0</td>\n",
       "      <td>83.0</td>\n",
       "      <td>74.0</td>\n",
       "      <td>55.0</td>\n",
       "      <td>72.0</td>\n",
       "      <td>73.0</td>\n",
       "      <td>77.0</td>\n",
       "      <td>1</td>\n",
       "    </tr>\n",
       "    <tr>\n",
       "      <th>1</th>\n",
       "      <td>255.0</td>\n",
       "      <td>255.0</td>\n",
       "      <td>255.0</td>\n",
       "      <td>255.0</td>\n",
       "      <td>255.0</td>\n",
       "      <td>255.0</td>\n",
       "      <td>255.0</td>\n",
       "      <td>255.0</td>\n",
       "      <td>255.0</td>\n",
       "      <td>255.0</td>\n",
       "      <td>...</td>\n",
       "      <td>255.0</td>\n",
       "      <td>255.0</td>\n",
       "      <td>130.0</td>\n",
       "      <td>46.0</td>\n",
       "      <td>42.0</td>\n",
       "      <td>31.0</td>\n",
       "      <td>26.0</td>\n",
       "      <td>25.0</td>\n",
       "      <td>26.0</td>\n",
       "      <td>1</td>\n",
       "    </tr>\n",
       "    <tr>\n",
       "      <th>2</th>\n",
       "      <td>35.0</td>\n",
       "      <td>35.0</td>\n",
       "      <td>35.0</td>\n",
       "      <td>34.0</td>\n",
       "      <td>34.0</td>\n",
       "      <td>35.0</td>\n",
       "      <td>36.0</td>\n",
       "      <td>38.0</td>\n",
       "      <td>42.0</td>\n",
       "      <td>44.0</td>\n",
       "      <td>...</td>\n",
       "      <td>60.0</td>\n",
       "      <td>61.0</td>\n",
       "      <td>52.0</td>\n",
       "      <td>44.0</td>\n",
       "      <td>39.0</td>\n",
       "      <td>33.0</td>\n",
       "      <td>27.0</td>\n",
       "      <td>30.0</td>\n",
       "      <td>32.0</td>\n",
       "      <td>2</td>\n",
       "    </tr>\n",
       "    <tr>\n",
       "      <th>3</th>\n",
       "      <td>98.0</td>\n",
       "      <td>97.0</td>\n",
       "      <td>92.0</td>\n",
       "      <td>80.0</td>\n",
       "      <td>82.0</td>\n",
       "      <td>83.0</td>\n",
       "      <td>84.0</td>\n",
       "      <td>86.0</td>\n",
       "      <td>85.0</td>\n",
       "      <td>85.0</td>\n",
       "      <td>...</td>\n",
       "      <td>15.0</td>\n",
       "      <td>14.0</td>\n",
       "      <td>14.0</td>\n",
       "      <td>14.0</td>\n",
       "      <td>14.0</td>\n",
       "      <td>15.0</td>\n",
       "      <td>15.0</td>\n",
       "      <td>15.0</td>\n",
       "      <td>15.0</td>\n",
       "      <td>4</td>\n",
       "    </tr>\n",
       "    <tr>\n",
       "      <th>4</th>\n",
       "      <td>255.0</td>\n",
       "      <td>255.0</td>\n",
       "      <td>255.0</td>\n",
       "      <td>255.0</td>\n",
       "      <td>251.0</td>\n",
       "      <td>225.0</td>\n",
       "      <td>232.0</td>\n",
       "      <td>252.0</td>\n",
       "      <td>247.0</td>\n",
       "      <td>254.0</td>\n",
       "      <td>...</td>\n",
       "      <td>251.0</td>\n",
       "      <td>249.0</td>\n",
       "      <td>247.0</td>\n",
       "      <td>247.0</td>\n",
       "      <td>245.0</td>\n",
       "      <td>206.0</td>\n",
       "      <td>87.0</td>\n",
       "      <td>46.0</td>\n",
       "      <td>47.0</td>\n",
       "      <td>8</td>\n",
       "    </tr>\n",
       "  </tbody>\n",
       "</table>\n",
       "<p>5 rows × 2305 columns</p>\n",
       "</div>"
      ],
      "text/plain": [
       "       0      1      2      3      4      5      6      7      8      9  ...  \\\n",
       "0   65.0   52.0   58.0   67.0   52.0   64.0   58.0   49.0   56.0   61.0  ...   \n",
       "1  255.0  255.0  255.0  255.0  255.0  255.0  255.0  255.0  255.0  255.0  ...   \n",
       "2   35.0   35.0   35.0   34.0   34.0   35.0   36.0   38.0   42.0   44.0  ...   \n",
       "3   98.0   97.0   92.0   80.0   82.0   83.0   84.0   86.0   85.0   85.0  ...   \n",
       "4  255.0  255.0  255.0  255.0  251.0  225.0  232.0  252.0  247.0  254.0  ...   \n",
       "\n",
       "    2295   2296   2297   2298   2299   2300  2301  2302  2303  Class  \n",
       "0   38.0   55.0   70.0   83.0   74.0   55.0  72.0  73.0  77.0      1  \n",
       "1  255.0  255.0  130.0   46.0   42.0   31.0  26.0  25.0  26.0      1  \n",
       "2   60.0   61.0   52.0   44.0   39.0   33.0  27.0  30.0  32.0      2  \n",
       "3   15.0   14.0   14.0   14.0   14.0   15.0  15.0  15.0  15.0      4  \n",
       "4  251.0  249.0  247.0  247.0  245.0  206.0  87.0  46.0  47.0      8  \n",
       "\n",
       "[5 rows x 2305 columns]"
      ]
     },
     "execution_count": 92,
     "metadata": {},
     "output_type": "execute_result"
    }
   ],
   "source": [
    "Test_9000=pd.read_csv('Test_Dataset_9000.csv')\n",
    "Test_9000[['Class']] = Test_9000[['Class']].replace( ['zero', 'one', 'two','three', 'four', 'five', 'six', 'seven', 'eight',\n",
    "                                 'nine'],[0, 1, 2,3,4,5,6,7,8,9])\n",
    "Test_9000.head()"
   ]
  },
  {
   "cell_type": "code",
   "execution_count": 93,
   "metadata": {},
   "outputs": [
    {
     "name": "stdout",
     "output_type": "stream",
     "text": [
      "<class 'pandas.core.frame.DataFrame'>\n",
      "RangeIndex: 9000 entries, 0 to 8999\n",
      "Data columns (total 1 columns):\n",
      " #   Column  Non-Null Count  Dtype\n",
      "---  ------  --------------  -----\n",
      " 0   Class   9000 non-null   int64\n",
      "dtypes: int64(1)\n",
      "memory usage: 70.4 KB\n"
     ]
    }
   ],
   "source": [
    "Data9000_plus_test=Test_9000[['Class']]\n",
    "Data9000_plus_test.info()"
   ]
  },
  {
   "cell_type": "code",
   "execution_count": 94,
   "metadata": {},
   "outputs": [
    {
     "name": "stdout",
     "output_type": "stream",
     "text": [
      "<class 'pandas.core.frame.DataFrame'>\n",
      "RangeIndex: 9000 entries, 0 to 8999\n",
      "Columns: 2304 entries, 0 to 2303\n",
      "dtypes: float64(2304)\n",
      "memory usage: 158.2 MB\n"
     ]
    }
   ],
   "source": [
    "Test_9000=Test_9000.drop('Class',axis=1)\n",
    "Test_9000=Test_9000/255\n",
    "Test_9000.info()"
   ]
  },
  {
   "cell_type": "code",
   "execution_count": 95,
   "metadata": {},
   "outputs": [
    {
     "data": {
      "text/plain": [
       "(9000, 1)"
      ]
     },
     "execution_count": 95,
     "metadata": {},
     "output_type": "execute_result"
    }
   ],
   "source": [
    "numpie=Data9000_plus_test.to_numpy()   #convert the data to numpy array\n",
    "numpie.shape"
   ]
  },
  {
   "cell_type": "code",
   "execution_count": 96,
   "metadata": {},
   "outputs": [
    {
     "data": {
      "text/plain": [
       "array([1, 1, 2, ..., 1, 4, 3], dtype=int64)"
      ]
     },
     "execution_count": 96,
     "metadata": {},
     "output_type": "execute_result"
    }
   ],
   "source": [
    "labels_test_new=np.squeeze(numpie) \n",
    "labels_test_new"
   ]
  },
  {
   "cell_type": "code",
   "execution_count": 97,
   "metadata": {},
   "outputs": [
    {
     "data": {
      "text/plain": [
       "(9000,)"
      ]
     },
     "execution_count": 97,
     "metadata": {},
     "output_type": "execute_result"
    }
   ],
   "source": [
    "labels_test_new.shape"
   ]
  },
  {
   "cell_type": "code",
   "execution_count": 98,
   "metadata": {},
   "outputs": [],
   "source": [
    "Test_9000=Test_9000.to_numpy()"
   ]
  },
  {
   "cell_type": "code",
   "execution_count": 99,
   "metadata": {},
   "outputs": [],
   "source": [
    "Test_9000=Test_9000.reshape(9000,48,48)"
   ]
  },
  {
   "cell_type": "code",
   "execution_count": 100,
   "metadata": {},
   "outputs": [],
   "source": [
    "Test_9000 = np.expand_dims(Test_9000, -1)"
   ]
  },
  {
   "cell_type": "code",
   "execution_count": 101,
   "metadata": {},
   "outputs": [
    {
     "name": "stdout",
     "output_type": "stream",
     "text": [
      "282/282 [==============================] - 2s 6ms/step - loss: 0.0187 - accuracy: 0.9958\n",
      "[0.01874309405684471, 0.9957777857780457]\n"
     ]
    }
   ],
   "source": [
    "print(model.evaluate(Test_9000, labels_test_new))"
   ]
  },
  {
   "cell_type": "code",
   "execution_count": 102,
   "metadata": {},
   "outputs": [],
   "source": [
    "raw=model.predict(Test_9000,verbose=0)\n",
    "pred=[]\n",
    "for result in raw:\n",
    "    value=np.argmax(result)\n",
    "    pred.append(value)\n",
    "    "
   ]
  },
  {
   "cell_type": "code",
   "execution_count": 103,
   "metadata": {},
   "outputs": [
    {
     "name": "stdout",
     "output_type": "stream",
     "text": [
      "Classification report for classifier <tensorflow.python.keras.engine.functional.Functional object at 0x000002494852E4F0>:\n",
      "              precision    recall  f1-score   support\n",
      "\n",
      "           0       1.00      0.97      0.99       192\n",
      "           1       0.99      1.00      0.99      2063\n",
      "           2       1.00      0.99      1.00      2089\n",
      "           3       1.00      1.00      1.00      1308\n",
      "           4       1.00      1.00      1.00      1838\n",
      "           5       0.97      1.00      0.99       195\n",
      "           6       1.00      0.99      1.00       336\n",
      "           7       1.00      1.00      1.00       219\n",
      "           8       1.00      0.99      1.00       508\n",
      "           9       1.00      1.00      1.00       252\n",
      "\n",
      "    accuracy                           1.00      9000\n",
      "   macro avg       1.00      0.99      0.99      9000\n",
      "weighted avg       1.00      1.00      1.00      9000\n",
      "\n",
      "\n"
     ]
    }
   ],
   "source": [
    "from sklearn import metrics\n",
    "print(\"Classification report for classifier %s:\\n%s\\n\"\n",
    "      % (model, metrics.classification_report(list(labels_test_new), pred)))\n"
   ]
  },
  {
   "cell_type": "code",
   "execution_count": 104,
   "metadata": {},
   "outputs": [
    {
     "name": "stdout",
     "output_type": "stream",
     "text": [
      "Confusion matrix, without normalization\n",
      "[[ 187    2    0    0    2    1    0    0    0    0]\n",
      " [   0 2058    2    0    2    1    0    0    0    0]\n",
      " [   0   11 2076    1    1    0    0    0    0    0]\n",
      " [   0    1    1 1305    0    1    0    0    0    0]\n",
      " [   0    3    1    0 1834    0    0    0    0    0]\n",
      " [   0    0    0    0    0  195    0    0    0    0]\n",
      " [   0    1    0    0    1    1  333    0    0    0]\n",
      " [   0    0    0    0    0    0    0  219    0    0]\n",
      " [   0    2    0    0    0    1    0    1  504    0]\n",
      " [   0    0    0    1    0    0    0    0    0  251]]\n"
     ]
    },
    {
     "data": {
      "image/png": "[encoded data removed]",
      "text/plain": [
       "<Figure size 432x288 with 2 Axes>"
      ]
     },
     "metadata": {
      "needs_background": "light"
     },
     "output_type": "display_data"
    }
   ],
   "source": [
    "#p_test = model.predict(X_test).argmax(axis=1)\n",
    "cm = confusion_matrix(labels_test_new, pred)\n",
    "plot_confusion_matrix(cm, list(range(10)))"
   ]
  },
  {
   "cell_type": "markdown",
   "metadata": {},
   "source": [
    "# Class label Meaning\n",
    "\n",
    "0 speed limit 20\n",
    "\n",
    "1 speed limit 30\n",
    "\n",
    "2 speed limit 50\n",
    "\n",
    "3 speed limit 60\n",
    "\n",
    "4 speed limit 70\n",
    "\n",
    "5 left turn\n",
    "\n",
    "6 right turn\n",
    "\n",
    "7 beware pedestrian crossing\n",
    "\n",
    "8 beware children\n",
    "\n",
    "9 beware cycle route ahead"
   ]
  },
  {
   "cell_type": "code",
   "execution_count": 508,
   "metadata": {},
   "outputs": [
    {
     "data": {
      "image/png": "[encoded data removed]",
      "text/plain": [
       "<Figure size 432x288 with 1 Axes>"
      ]
     },
     "metadata": {
      "needs_background": "light"
     },
     "output_type": "display_data"
    }
   ],
   "source": [
    "misclassified_idx = np.where(pred != labels_test_new)[0]\n",
    "i = np.random.choice(misclassified_idx)\n",
    "plt.imshow(Test_9000[i].reshape(48,48), cmap='gray')\n",
    "plt.title(\"True label: %s Predicted: %s\" % (labels_test_new[i], pred[i]));"
   ]
  },
  {
   "cell_type": "markdown",
   "metadata": {},
   "source": [
    "# dont run unless gpu"
   ]
  },
  {
   "cell_type": "markdown",
   "metadata": {},
   "source": [
    "# Data Augumentation And Batch Normalisation"
   ]
  },
  {
   "cell_type": "markdown",
   "metadata": {},
   "source": [
    "It is possible that positioning caused some erros in the learning of the neural net. Perhaps we can help the neural network learn better this notion of transalational invariance  using data augumentation.\n",
    "\n",
    "Thi is basically inventing new data"
   ]
  },
  {
   "cell_type": "code",
   "execution_count": 77,
   "metadata": {},
   "outputs": [],
   "source": [
    "from tensorflow.keras.layers import Input, Conv2D, Dense, Flatten, Dropout, GlobalMaxPooling2D, MaxPooling2D, BatchNormalization"
   ]
  },
  {
   "cell_type": "code",
   "execution_count": 78,
   "metadata": {},
   "outputs": [],
   "source": [
    "# Build the model using the functional API\n",
    "i = Input(shape=X_train[0].shape)\n",
    "# x = Conv2D(32, (3, 3), strides=2, activation='relu')(i)\n",
    "# x = Conv2D(64, (3, 3), strides=2, activation='relu')(x)\n",
    "# x = Conv2D(128, (3, 3), strides=2, activation='relu')(x)\n",
    "\n",
    "x = Conv2D(32, (3, 3), activation='relu', padding='same')(i)\n",
    "x = BatchNormalization()(x)\n",
    "x = Conv2D(32, (3, 3), activation='relu', padding='same')(x)\n",
    "x = BatchNormalization()(x)\n",
    "x = MaxPooling2D((2, 2))(x)\n",
    "# x = Dropout(0.2)(x)\n",
    "x = Conv2D(64, (3, 3), activation='relu', padding='same')(x)\n",
    "x = BatchNormalization()(x)\n",
    "x = Conv2D(64, (3, 3), activation='relu', padding='same')(x)\n",
    "x = BatchNormalization()(x)\n",
    "x = MaxPooling2D((2, 2))(x)\n",
    "# x = Dropout(0.2)(x)\n",
    "x = Conv2D(128, (3, 3), activation='relu', padding='same')(x)\n",
    "x = BatchNormalization()(x)\n",
    "x = Conv2D(128, (3, 3), activation='relu', padding='same')(x)\n",
    "x = BatchNormalization()(x)\n",
    "x = MaxPooling2D((2, 2))(x)\n",
    "# x = Dropout(0.2)(x)\n",
    "\n",
    "# x = GlobalMaxPooling2D()(x)\n",
    "x = Flatten()(x)\n",
    "x = Dropout(0.2)(x)\n",
    "x = Dense(1024, activation='relu')(x)\n",
    "x = Dropout(0.2)(x)\n",
    "x = Dense(K, activation='softmax')(x)\n",
    "\n",
    "model = Model(i, x)"
   ]
  },
  {
   "cell_type": "code",
   "execution_count": 79,
   "metadata": {},
   "outputs": [],
   "source": [
    "model.compile(optimizer='adam',\n",
    "              loss='sparse_categorical_crossentropy',\n",
    "              metrics=['accuracy'])"
   ]
  },
  {
   "cell_type": "code",
   "execution_count": 80,
   "metadata": {},
   "outputs": [
    {
     "name": "stdout",
     "output_type": "stream",
     "text": [
      "Epoch 1/50\n",
      "243/243 [==============================] - 76s 312ms/step - loss: 1.6018 - accuracy: 0.6415 - val_loss: 2.1424 - val_accuracy: 0.3117\n",
      "Epoch 2/50\n",
      "243/243 [==============================] - 76s 312ms/step - loss: 0.0826 - accuracy: 0.9717 - val_loss: 0.4969 - val_accuracy: 0.9009\n",
      "Epoch 3/50\n",
      "243/243 [==============================] - 76s 313ms/step - loss: 0.0387 - accuracy: 0.9880 - val_loss: 0.2583 - val_accuracy: 0.9381\n",
      "Epoch 4/50\n",
      "243/243 [==============================] - 76s 315ms/step - loss: 0.0703 - accuracy: 0.9813 - val_loss: 0.2219 - val_accuracy: 0.9376\n",
      "Epoch 5/50\n",
      "243/243 [==============================] - 77s 317ms/step - loss: 0.0360 - accuracy: 0.9892 - val_loss: 0.0338 - val_accuracy: 0.9917\n",
      "Epoch 6/50\n",
      "243/243 [==============================] - 76s 314ms/step - loss: 0.0209 - accuracy: 0.9932 - val_loss: 0.3733 - val_accuracy: 0.9391\n",
      "Epoch 7/50\n",
      "243/243 [==============================] - 77s 316ms/step - loss: 0.0214 - accuracy: 0.9946 - val_loss: 0.0612 - val_accuracy: 0.9902\n",
      "Epoch 8/50\n",
      "243/243 [==============================] - 77s 315ms/step - loss: 0.0637 - accuracy: 0.9867 - val_loss: 0.1932 - val_accuracy: 0.9556\n",
      "Epoch 9/50\n",
      "243/243 [==============================] - 77s 316ms/step - loss: 0.0452 - accuracy: 0.9903 - val_loss: 0.2114 - val_accuracy: 0.9510\n",
      "Epoch 10/50\n",
      "243/243 [==============================] - 77s 315ms/step - loss: 0.0445 - accuracy: 0.9914 - val_loss: 0.0217 - val_accuracy: 0.9954\n",
      "Epoch 11/50\n",
      "243/243 [==============================] - 77s 317ms/step - loss: 0.0092 - accuracy: 0.9974 - val_loss: 0.0156 - val_accuracy: 0.9954\n",
      "Epoch 12/50\n",
      "243/243 [==============================] - 77s 317ms/step - loss: 0.0071 - accuracy: 0.9977 - val_loss: 0.0212 - val_accuracy: 0.9948\n",
      "Epoch 13/50\n",
      "243/243 [==============================] - 77s 318ms/step - loss: 0.0298 - accuracy: 0.9947 - val_loss: 0.0650 - val_accuracy: 0.9933\n",
      "Epoch 14/50\n",
      "243/243 [==============================] - 78s 321ms/step - loss: 0.0959 - accuracy: 0.9881 - val_loss: 0.4640 - val_accuracy: 0.9665\n",
      "Epoch 15/50\n",
      "243/243 [==============================] - 78s 320ms/step - loss: 0.0664 - accuracy: 0.9908 - val_loss: 0.0860 - val_accuracy: 0.9897\n",
      "Epoch 16/50\n",
      "243/243 [==============================] - 78s 320ms/step - loss: 0.0380 - accuracy: 0.9954 - val_loss: 0.0267 - val_accuracy: 0.9969\n",
      "Epoch 17/50\n",
      "243/243 [==============================] - 78s 320ms/step - loss: 0.0087 - accuracy: 0.9995 - val_loss: 0.0307 - val_accuracy: 0.9959\n",
      "Epoch 18/50\n",
      "243/243 [==============================] - 78s 320ms/step - loss: 0.0280 - accuracy: 0.9965 - val_loss: 0.0406 - val_accuracy: 0.9928\n",
      "Epoch 19/50\n",
      "243/243 [==============================] - 78s 320ms/step - loss: 0.0334 - accuracy: 0.9956 - val_loss: 0.2883 - val_accuracy: 0.9732\n",
      "Epoch 20/50\n",
      "190/243 [======================>.......] - ETA: 16s - loss: 0.0232 - accuracy: 0.9957"
     ]
    },
    {
     "ename": "KeyboardInterrupt",
     "evalue": "",
     "output_type": "error",
     "traceback": [
      "\u001b[1;31m---------------------------------------------------------------------------\u001b[0m",
      "\u001b[1;31mKeyboardInterrupt\u001b[0m                         Traceback (most recent call last)",
      "\u001b[1;32m<ipython-input-80-0b7c2e7fa2ce>\u001b[0m in \u001b[0;36m<module>\u001b[1;34m\u001b[0m\n\u001b[1;32m----> 1\u001b[1;33m \u001b[0mr\u001b[0m \u001b[1;33m=\u001b[0m \u001b[0mmodel\u001b[0m\u001b[1;33m.\u001b[0m\u001b[0mfit\u001b[0m\u001b[1;33m(\u001b[0m\u001b[0mX_train\u001b[0m\u001b[1;33m,\u001b[0m \u001b[0my_train\u001b[0m\u001b[1;33m,\u001b[0m \u001b[0mvalidation_data\u001b[0m\u001b[1;33m=\u001b[0m\u001b[1;33m(\u001b[0m\u001b[0mX_test\u001b[0m\u001b[1;33m,\u001b[0m \u001b[0my_test\u001b[0m\u001b[1;33m)\u001b[0m\u001b[1;33m,\u001b[0m \u001b[0mepochs\u001b[0m\u001b[1;33m=\u001b[0m\u001b[1;36m50\u001b[0m\u001b[1;33m)\u001b[0m\u001b[1;33m\u001b[0m\u001b[1;33m\u001b[0m\u001b[0m\n\u001b[0m",
      "\u001b[1;32m~\\anaconda3\\lib\\site-packages\\tensorflow\\python\\keras\\engine\\training.py\u001b[0m in \u001b[0;36m_method_wrapper\u001b[1;34m(self, *args, **kwargs)\u001b[0m\n\u001b[0;32m    106\u001b[0m   \u001b[1;32mdef\u001b[0m \u001b[0m_method_wrapper\u001b[0m\u001b[1;33m(\u001b[0m\u001b[0mself\u001b[0m\u001b[1;33m,\u001b[0m \u001b[1;33m*\u001b[0m\u001b[0margs\u001b[0m\u001b[1;33m,\u001b[0m \u001b[1;33m**\u001b[0m\u001b[0mkwargs\u001b[0m\u001b[1;33m)\u001b[0m\u001b[1;33m:\u001b[0m\u001b[1;33m\u001b[0m\u001b[1;33m\u001b[0m\u001b[0m\n\u001b[0;32m    107\u001b[0m     \u001b[1;32mif\u001b[0m \u001b[1;32mnot\u001b[0m \u001b[0mself\u001b[0m\u001b[1;33m.\u001b[0m\u001b[0m_in_multi_worker_mode\u001b[0m\u001b[1;33m(\u001b[0m\u001b[1;33m)\u001b[0m\u001b[1;33m:\u001b[0m  \u001b[1;31m# pylint: disable=protected-access\u001b[0m\u001b[1;33m\u001b[0m\u001b[1;33m\u001b[0m\u001b[0m\n\u001b[1;32m--> 108\u001b[1;33m       \u001b[1;32mreturn\u001b[0m \u001b[0mmethod\u001b[0m\u001b[1;33m(\u001b[0m\u001b[0mself\u001b[0m\u001b[1;33m,\u001b[0m \u001b[1;33m*\u001b[0m\u001b[0margs\u001b[0m\u001b[1;33m,\u001b[0m \u001b[1;33m**\u001b[0m\u001b[0mkwargs\u001b[0m\u001b[1;33m)\u001b[0m\u001b[1;33m\u001b[0m\u001b[1;33m\u001b[0m\u001b[0m\n\u001b[0m\u001b[0;32m    109\u001b[0m \u001b[1;33m\u001b[0m\u001b[0m\n\u001b[0;32m    110\u001b[0m     \u001b[1;31m# Running inside `run_distribute_coordinator` already.\u001b[0m\u001b[1;33m\u001b[0m\u001b[1;33m\u001b[0m\u001b[1;33m\u001b[0m\u001b[0m\n",
      "\u001b[1;32m~\\anaconda3\\lib\\site-packages\\tensorflow\\python\\keras\\engine\\training.py\u001b[0m in \u001b[0;36mfit\u001b[1;34m(self, x, y, batch_size, epochs, verbose, callbacks, validation_split, validation_data, shuffle, class_weight, sample_weight, initial_epoch, steps_per_epoch, validation_steps, validation_batch_size, validation_freq, max_queue_size, workers, use_multiprocessing)\u001b[0m\n\u001b[0;32m   1096\u001b[0m                 batch_size=batch_size):\n\u001b[0;32m   1097\u001b[0m               \u001b[0mcallbacks\u001b[0m\u001b[1;33m.\u001b[0m\u001b[0mon_train_batch_begin\u001b[0m\u001b[1;33m(\u001b[0m\u001b[0mstep\u001b[0m\u001b[1;33m)\u001b[0m\u001b[1;33m\u001b[0m\u001b[1;33m\u001b[0m\u001b[0m\n\u001b[1;32m-> 1098\u001b[1;33m               \u001b[0mtmp_logs\u001b[0m \u001b[1;33m=\u001b[0m \u001b[0mtrain_function\u001b[0m\u001b[1;33m(\u001b[0m\u001b[0miterator\u001b[0m\u001b[1;33m)\u001b[0m\u001b[1;33m\u001b[0m\u001b[1;33m\u001b[0m\u001b[0m\n\u001b[0m\u001b[0;32m   1099\u001b[0m               \u001b[1;32mif\u001b[0m \u001b[0mdata_handler\u001b[0m\u001b[1;33m.\u001b[0m\u001b[0mshould_sync\u001b[0m\u001b[1;33m:\u001b[0m\u001b[1;33m\u001b[0m\u001b[1;33m\u001b[0m\u001b[0m\n\u001b[0;32m   1100\u001b[0m                 \u001b[0mcontext\u001b[0m\u001b[1;33m.\u001b[0m\u001b[0masync_wait\u001b[0m\u001b[1;33m(\u001b[0m\u001b[1;33m)\u001b[0m\u001b[1;33m\u001b[0m\u001b[1;33m\u001b[0m\u001b[0m\n",
      "\u001b[1;32m~\\anaconda3\\lib\\site-packages\\tensorflow\\python\\eager\\def_function.py\u001b[0m in \u001b[0;36m__call__\u001b[1;34m(self, *args, **kwds)\u001b[0m\n\u001b[0;32m    778\u001b[0m       \u001b[1;32melse\u001b[0m\u001b[1;33m:\u001b[0m\u001b[1;33m\u001b[0m\u001b[1;33m\u001b[0m\u001b[0m\n\u001b[0;32m    779\u001b[0m         \u001b[0mcompiler\u001b[0m \u001b[1;33m=\u001b[0m \u001b[1;34m\"nonXla\"\u001b[0m\u001b[1;33m\u001b[0m\u001b[1;33m\u001b[0m\u001b[0m\n\u001b[1;32m--> 780\u001b[1;33m         \u001b[0mresult\u001b[0m \u001b[1;33m=\u001b[0m \u001b[0mself\u001b[0m\u001b[1;33m.\u001b[0m\u001b[0m_call\u001b[0m\u001b[1;33m(\u001b[0m\u001b[1;33m*\u001b[0m\u001b[0margs\u001b[0m\u001b[1;33m,\u001b[0m \u001b[1;33m**\u001b[0m\u001b[0mkwds\u001b[0m\u001b[1;33m)\u001b[0m\u001b[1;33m\u001b[0m\u001b[1;33m\u001b[0m\u001b[0m\n\u001b[0m\u001b[0;32m    781\u001b[0m \u001b[1;33m\u001b[0m\u001b[0m\n\u001b[0;32m    782\u001b[0m       \u001b[0mnew_tracing_count\u001b[0m \u001b[1;33m=\u001b[0m \u001b[0mself\u001b[0m\u001b[1;33m.\u001b[0m\u001b[0m_get_tracing_count\u001b[0m\u001b[1;33m(\u001b[0m\u001b[1;33m)\u001b[0m\u001b[1;33m\u001b[0m\u001b[1;33m\u001b[0m\u001b[0m\n",
      "\u001b[1;32m~\\anaconda3\\lib\\site-packages\\tensorflow\\python\\eager\\def_function.py\u001b[0m in \u001b[0;36m_call\u001b[1;34m(self, *args, **kwds)\u001b[0m\n\u001b[0;32m    805\u001b[0m       \u001b[1;31m# In this case we have created variables on the first call, so we run the\u001b[0m\u001b[1;33m\u001b[0m\u001b[1;33m\u001b[0m\u001b[1;33m\u001b[0m\u001b[0m\n\u001b[0;32m    806\u001b[0m       \u001b[1;31m# defunned version which is guaranteed to never create variables.\u001b[0m\u001b[1;33m\u001b[0m\u001b[1;33m\u001b[0m\u001b[1;33m\u001b[0m\u001b[0m\n\u001b[1;32m--> 807\u001b[1;33m       \u001b[1;32mreturn\u001b[0m \u001b[0mself\u001b[0m\u001b[1;33m.\u001b[0m\u001b[0m_stateless_fn\u001b[0m\u001b[1;33m(\u001b[0m\u001b[1;33m*\u001b[0m\u001b[0margs\u001b[0m\u001b[1;33m,\u001b[0m \u001b[1;33m**\u001b[0m\u001b[0mkwds\u001b[0m\u001b[1;33m)\u001b[0m  \u001b[1;31m# pylint: disable=not-callable\u001b[0m\u001b[1;33m\u001b[0m\u001b[1;33m\u001b[0m\u001b[0m\n\u001b[0m\u001b[0;32m    808\u001b[0m     \u001b[1;32melif\u001b[0m \u001b[0mself\u001b[0m\u001b[1;33m.\u001b[0m\u001b[0m_stateful_fn\u001b[0m \u001b[1;32mis\u001b[0m \u001b[1;32mnot\u001b[0m \u001b[1;32mNone\u001b[0m\u001b[1;33m:\u001b[0m\u001b[1;33m\u001b[0m\u001b[1;33m\u001b[0m\u001b[0m\n\u001b[0;32m    809\u001b[0m       \u001b[1;31m# Release the lock early so that multiple threads can perform the call\u001b[0m\u001b[1;33m\u001b[0m\u001b[1;33m\u001b[0m\u001b[1;33m\u001b[0m\u001b[0m\n",
      "\u001b[1;32m~\\anaconda3\\lib\\site-packages\\tensorflow\\python\\eager\\function.py\u001b[0m in \u001b[0;36m__call__\u001b[1;34m(self, *args, **kwargs)\u001b[0m\n\u001b[0;32m   2827\u001b[0m     \u001b[1;32mwith\u001b[0m \u001b[0mself\u001b[0m\u001b[1;33m.\u001b[0m\u001b[0m_lock\u001b[0m\u001b[1;33m:\u001b[0m\u001b[1;33m\u001b[0m\u001b[1;33m\u001b[0m\u001b[0m\n\u001b[0;32m   2828\u001b[0m       \u001b[0mgraph_function\u001b[0m\u001b[1;33m,\u001b[0m \u001b[0margs\u001b[0m\u001b[1;33m,\u001b[0m \u001b[0mkwargs\u001b[0m \u001b[1;33m=\u001b[0m \u001b[0mself\u001b[0m\u001b[1;33m.\u001b[0m\u001b[0m_maybe_define_function\u001b[0m\u001b[1;33m(\u001b[0m\u001b[0margs\u001b[0m\u001b[1;33m,\u001b[0m \u001b[0mkwargs\u001b[0m\u001b[1;33m)\u001b[0m\u001b[1;33m\u001b[0m\u001b[1;33m\u001b[0m\u001b[0m\n\u001b[1;32m-> 2829\u001b[1;33m     \u001b[1;32mreturn\u001b[0m \u001b[0mgraph_function\u001b[0m\u001b[1;33m.\u001b[0m\u001b[0m_filtered_call\u001b[0m\u001b[1;33m(\u001b[0m\u001b[0margs\u001b[0m\u001b[1;33m,\u001b[0m \u001b[0mkwargs\u001b[0m\u001b[1;33m)\u001b[0m  \u001b[1;31m# pylint: disable=protected-access\u001b[0m\u001b[1;33m\u001b[0m\u001b[1;33m\u001b[0m\u001b[0m\n\u001b[0m\u001b[0;32m   2830\u001b[0m \u001b[1;33m\u001b[0m\u001b[0m\n\u001b[0;32m   2831\u001b[0m   \u001b[1;33m@\u001b[0m\u001b[0mproperty\u001b[0m\u001b[1;33m\u001b[0m\u001b[1;33m\u001b[0m\u001b[0m\n",
      "\u001b[1;32m~\\anaconda3\\lib\\site-packages\\tensorflow\\python\\eager\\function.py\u001b[0m in \u001b[0;36m_filtered_call\u001b[1;34m(self, args, kwargs, cancellation_manager)\u001b[0m\n\u001b[0;32m   1841\u001b[0m       \u001b[0;31m`\u001b[0m\u001b[0margs\u001b[0m\u001b[0;31m`\u001b[0m \u001b[1;32mand\u001b[0m\u001b[0;31m \u001b[0m\u001b[0;31m`\u001b[0m\u001b[0mkwargs\u001b[0m\u001b[0;31m`\u001b[0m\u001b[1;33m.\u001b[0m\u001b[1;33m\u001b[0m\u001b[1;33m\u001b[0m\u001b[0m\n\u001b[0;32m   1842\u001b[0m     \"\"\"\n\u001b[1;32m-> 1843\u001b[1;33m     return self._call_flat(\n\u001b[0m\u001b[0;32m   1844\u001b[0m         [t for t in nest.flatten((args, kwargs), expand_composites=True)\n\u001b[0;32m   1845\u001b[0m          if isinstance(t, (ops.Tensor,\n",
      "\u001b[1;32m~\\anaconda3\\lib\\site-packages\\tensorflow\\python\\eager\\function.py\u001b[0m in \u001b[0;36m_call_flat\u001b[1;34m(self, args, captured_inputs, cancellation_manager)\u001b[0m\n\u001b[0;32m   1921\u001b[0m         and executing_eagerly):\n\u001b[0;32m   1922\u001b[0m       \u001b[1;31m# No tape is watching; skip to running the function.\u001b[0m\u001b[1;33m\u001b[0m\u001b[1;33m\u001b[0m\u001b[1;33m\u001b[0m\u001b[0m\n\u001b[1;32m-> 1923\u001b[1;33m       return self._build_call_outputs(self._inference_function.call(\n\u001b[0m\u001b[0;32m   1924\u001b[0m           ctx, args, cancellation_manager=cancellation_manager))\n\u001b[0;32m   1925\u001b[0m     forward_backward = self._select_forward_and_backward_functions(\n",
      "\u001b[1;32m~\\anaconda3\\lib\\site-packages\\tensorflow\\python\\eager\\function.py\u001b[0m in \u001b[0;36mcall\u001b[1;34m(self, ctx, args, cancellation_manager)\u001b[0m\n\u001b[0;32m    543\u001b[0m       \u001b[1;32mwith\u001b[0m \u001b[0m_InterpolateFunctionError\u001b[0m\u001b[1;33m(\u001b[0m\u001b[0mself\u001b[0m\u001b[1;33m)\u001b[0m\u001b[1;33m:\u001b[0m\u001b[1;33m\u001b[0m\u001b[1;33m\u001b[0m\u001b[0m\n\u001b[0;32m    544\u001b[0m         \u001b[1;32mif\u001b[0m \u001b[0mcancellation_manager\u001b[0m \u001b[1;32mis\u001b[0m \u001b[1;32mNone\u001b[0m\u001b[1;33m:\u001b[0m\u001b[1;33m\u001b[0m\u001b[1;33m\u001b[0m\u001b[0m\n\u001b[1;32m--> 545\u001b[1;33m           outputs = execute.execute(\n\u001b[0m\u001b[0;32m    546\u001b[0m               \u001b[0mstr\u001b[0m\u001b[1;33m(\u001b[0m\u001b[0mself\u001b[0m\u001b[1;33m.\u001b[0m\u001b[0msignature\u001b[0m\u001b[1;33m.\u001b[0m\u001b[0mname\u001b[0m\u001b[1;33m)\u001b[0m\u001b[1;33m,\u001b[0m\u001b[1;33m\u001b[0m\u001b[1;33m\u001b[0m\u001b[0m\n\u001b[0;32m    547\u001b[0m               \u001b[0mnum_outputs\u001b[0m\u001b[1;33m=\u001b[0m\u001b[0mself\u001b[0m\u001b[1;33m.\u001b[0m\u001b[0m_num_outputs\u001b[0m\u001b[1;33m,\u001b[0m\u001b[1;33m\u001b[0m\u001b[1;33m\u001b[0m\u001b[0m\n",
      "\u001b[1;32m~\\anaconda3\\lib\\site-packages\\tensorflow\\python\\eager\\execute.py\u001b[0m in \u001b[0;36mquick_execute\u001b[1;34m(op_name, num_outputs, inputs, attrs, ctx, name)\u001b[0m\n\u001b[0;32m     57\u001b[0m   \u001b[1;32mtry\u001b[0m\u001b[1;33m:\u001b[0m\u001b[1;33m\u001b[0m\u001b[1;33m\u001b[0m\u001b[0m\n\u001b[0;32m     58\u001b[0m     \u001b[0mctx\u001b[0m\u001b[1;33m.\u001b[0m\u001b[0mensure_initialized\u001b[0m\u001b[1;33m(\u001b[0m\u001b[1;33m)\u001b[0m\u001b[1;33m\u001b[0m\u001b[1;33m\u001b[0m\u001b[0m\n\u001b[1;32m---> 59\u001b[1;33m     tensors = pywrap_tfe.TFE_Py_Execute(ctx._handle, device_name, op_name,\n\u001b[0m\u001b[0;32m     60\u001b[0m                                         inputs, attrs, num_outputs)\n\u001b[0;32m     61\u001b[0m   \u001b[1;32mexcept\u001b[0m \u001b[0mcore\u001b[0m\u001b[1;33m.\u001b[0m\u001b[0m_NotOkStatusException\u001b[0m \u001b[1;32mas\u001b[0m \u001b[0me\u001b[0m\u001b[1;33m:\u001b[0m\u001b[1;33m\u001b[0m\u001b[1;33m\u001b[0m\u001b[0m\n",
      "\u001b[1;31mKeyboardInterrupt\u001b[0m: "
     ]
    }
   ],
   "source": [
    "r = model.fit(X_train, y_train, validation_data=(X_test, y_test), epochs=50)"
   ]
  },
  {
   "cell_type": "code",
   "execution_count": 81,
   "metadata": {},
   "outputs": [
    {
     "name": "stdout",
     "output_type": "stream",
     "text": [
      "Epoch 1/50\n",
      "242/242 [==============================] - 77s 319ms/step - loss: 0.7219 - accuracy: 0.8499 - val_loss: 0.0664 - val_accuracy: 0.9701\n",
      "Epoch 2/50\n",
      " 34/242 [===>..........................] - ETA: 1:02 - loss: 0.1808 - accuracy: 0.9467"
     ]
    },
    {
     "ename": "KeyboardInterrupt",
     "evalue": "",
     "output_type": "error",
     "traceback": [
      "\u001b[1;31m---------------------------------------------------------------------------\u001b[0m",
      "\u001b[1;31mKeyboardInterrupt\u001b[0m                         Traceback (most recent call last)",
      "\u001b[1;32m<ipython-input-81-305b12242b72>\u001b[0m in \u001b[0;36m<module>\u001b[1;34m\u001b[0m\n\u001b[0;32m      3\u001b[0m \u001b[0mtrain_generator\u001b[0m \u001b[1;33m=\u001b[0m \u001b[0mdata_generator\u001b[0m\u001b[1;33m.\u001b[0m\u001b[0mflow\u001b[0m\u001b[1;33m(\u001b[0m\u001b[0mX_train\u001b[0m\u001b[1;33m,\u001b[0m \u001b[0my_train\u001b[0m\u001b[1;33m,\u001b[0m \u001b[0mbatch_size\u001b[0m\u001b[1;33m)\u001b[0m\u001b[1;33m\u001b[0m\u001b[1;33m\u001b[0m\u001b[0m\n\u001b[0;32m      4\u001b[0m \u001b[0msteps_per_epoch\u001b[0m \u001b[1;33m=\u001b[0m \u001b[0mX_train\u001b[0m\u001b[1;33m.\u001b[0m\u001b[0mshape\u001b[0m\u001b[1;33m[\u001b[0m\u001b[1;36m0\u001b[0m\u001b[1;33m]\u001b[0m \u001b[1;33m//\u001b[0m \u001b[0mbatch_size\u001b[0m\u001b[1;33m\u001b[0m\u001b[1;33m\u001b[0m\u001b[0m\n\u001b[1;32m----> 5\u001b[1;33m \u001b[0mr\u001b[0m \u001b[1;33m=\u001b[0m \u001b[0mmodel\u001b[0m\u001b[1;33m.\u001b[0m\u001b[0mfit\u001b[0m\u001b[1;33m(\u001b[0m\u001b[0mtrain_generator\u001b[0m\u001b[1;33m,\u001b[0m \u001b[0mvalidation_data\u001b[0m\u001b[1;33m=\u001b[0m\u001b[1;33m(\u001b[0m\u001b[0mX_test\u001b[0m\u001b[1;33m,\u001b[0m \u001b[0my_test\u001b[0m\u001b[1;33m)\u001b[0m\u001b[1;33m,\u001b[0m \u001b[0msteps_per_epoch\u001b[0m\u001b[1;33m=\u001b[0m\u001b[0msteps_per_epoch\u001b[0m\u001b[1;33m,\u001b[0m \u001b[0mepochs\u001b[0m\u001b[1;33m=\u001b[0m\u001b[1;36m50\u001b[0m\u001b[1;33m)\u001b[0m\u001b[1;33m\u001b[0m\u001b[1;33m\u001b[0m\u001b[0m\n\u001b[0m",
      "\u001b[1;32m~\\anaconda3\\lib\\site-packages\\tensorflow\\python\\keras\\engine\\training.py\u001b[0m in \u001b[0;36m_method_wrapper\u001b[1;34m(self, *args, **kwargs)\u001b[0m\n\u001b[0;32m    106\u001b[0m   \u001b[1;32mdef\u001b[0m \u001b[0m_method_wrapper\u001b[0m\u001b[1;33m(\u001b[0m\u001b[0mself\u001b[0m\u001b[1;33m,\u001b[0m \u001b[1;33m*\u001b[0m\u001b[0margs\u001b[0m\u001b[1;33m,\u001b[0m \u001b[1;33m**\u001b[0m\u001b[0mkwargs\u001b[0m\u001b[1;33m)\u001b[0m\u001b[1;33m:\u001b[0m\u001b[1;33m\u001b[0m\u001b[1;33m\u001b[0m\u001b[0m\n\u001b[0;32m    107\u001b[0m     \u001b[1;32mif\u001b[0m \u001b[1;32mnot\u001b[0m \u001b[0mself\u001b[0m\u001b[1;33m.\u001b[0m\u001b[0m_in_multi_worker_mode\u001b[0m\u001b[1;33m(\u001b[0m\u001b[1;33m)\u001b[0m\u001b[1;33m:\u001b[0m  \u001b[1;31m# pylint: disable=protected-access\u001b[0m\u001b[1;33m\u001b[0m\u001b[1;33m\u001b[0m\u001b[0m\n\u001b[1;32m--> 108\u001b[1;33m       \u001b[1;32mreturn\u001b[0m \u001b[0mmethod\u001b[0m\u001b[1;33m(\u001b[0m\u001b[0mself\u001b[0m\u001b[1;33m,\u001b[0m \u001b[1;33m*\u001b[0m\u001b[0margs\u001b[0m\u001b[1;33m,\u001b[0m \u001b[1;33m**\u001b[0m\u001b[0mkwargs\u001b[0m\u001b[1;33m)\u001b[0m\u001b[1;33m\u001b[0m\u001b[1;33m\u001b[0m\u001b[0m\n\u001b[0m\u001b[0;32m    109\u001b[0m \u001b[1;33m\u001b[0m\u001b[0m\n\u001b[0;32m    110\u001b[0m     \u001b[1;31m# Running inside `run_distribute_coordinator` already.\u001b[0m\u001b[1;33m\u001b[0m\u001b[1;33m\u001b[0m\u001b[1;33m\u001b[0m\u001b[0m\n",
      "\u001b[1;32m~\\anaconda3\\lib\\site-packages\\tensorflow\\python\\keras\\engine\\training.py\u001b[0m in \u001b[0;36mfit\u001b[1;34m(self, x, y, batch_size, epochs, verbose, callbacks, validation_split, validation_data, shuffle, class_weight, sample_weight, initial_epoch, steps_per_epoch, validation_steps, validation_batch_size, validation_freq, max_queue_size, workers, use_multiprocessing)\u001b[0m\n\u001b[0;32m   1096\u001b[0m                 batch_size=batch_size):\n\u001b[0;32m   1097\u001b[0m               \u001b[0mcallbacks\u001b[0m\u001b[1;33m.\u001b[0m\u001b[0mon_train_batch_begin\u001b[0m\u001b[1;33m(\u001b[0m\u001b[0mstep\u001b[0m\u001b[1;33m)\u001b[0m\u001b[1;33m\u001b[0m\u001b[1;33m\u001b[0m\u001b[0m\n\u001b[1;32m-> 1098\u001b[1;33m               \u001b[0mtmp_logs\u001b[0m \u001b[1;33m=\u001b[0m \u001b[0mtrain_function\u001b[0m\u001b[1;33m(\u001b[0m\u001b[0miterator\u001b[0m\u001b[1;33m)\u001b[0m\u001b[1;33m\u001b[0m\u001b[1;33m\u001b[0m\u001b[0m\n\u001b[0m\u001b[0;32m   1099\u001b[0m               \u001b[1;32mif\u001b[0m \u001b[0mdata_handler\u001b[0m\u001b[1;33m.\u001b[0m\u001b[0mshould_sync\u001b[0m\u001b[1;33m:\u001b[0m\u001b[1;33m\u001b[0m\u001b[1;33m\u001b[0m\u001b[0m\n\u001b[0;32m   1100\u001b[0m                 \u001b[0mcontext\u001b[0m\u001b[1;33m.\u001b[0m\u001b[0masync_wait\u001b[0m\u001b[1;33m(\u001b[0m\u001b[1;33m)\u001b[0m\u001b[1;33m\u001b[0m\u001b[1;33m\u001b[0m\u001b[0m\n",
      "\u001b[1;32m~\\anaconda3\\lib\\site-packages\\tensorflow\\python\\eager\\def_function.py\u001b[0m in \u001b[0;36m__call__\u001b[1;34m(self, *args, **kwds)\u001b[0m\n\u001b[0;32m    778\u001b[0m       \u001b[1;32melse\u001b[0m\u001b[1;33m:\u001b[0m\u001b[1;33m\u001b[0m\u001b[1;33m\u001b[0m\u001b[0m\n\u001b[0;32m    779\u001b[0m         \u001b[0mcompiler\u001b[0m \u001b[1;33m=\u001b[0m \u001b[1;34m\"nonXla\"\u001b[0m\u001b[1;33m\u001b[0m\u001b[1;33m\u001b[0m\u001b[0m\n\u001b[1;32m--> 780\u001b[1;33m         \u001b[0mresult\u001b[0m \u001b[1;33m=\u001b[0m \u001b[0mself\u001b[0m\u001b[1;33m.\u001b[0m\u001b[0m_call\u001b[0m\u001b[1;33m(\u001b[0m\u001b[1;33m*\u001b[0m\u001b[0margs\u001b[0m\u001b[1;33m,\u001b[0m \u001b[1;33m**\u001b[0m\u001b[0mkwds\u001b[0m\u001b[1;33m)\u001b[0m\u001b[1;33m\u001b[0m\u001b[1;33m\u001b[0m\u001b[0m\n\u001b[0m\u001b[0;32m    781\u001b[0m \u001b[1;33m\u001b[0m\u001b[0m\n\u001b[0;32m    782\u001b[0m       \u001b[0mnew_tracing_count\u001b[0m \u001b[1;33m=\u001b[0m \u001b[0mself\u001b[0m\u001b[1;33m.\u001b[0m\u001b[0m_get_tracing_count\u001b[0m\u001b[1;33m(\u001b[0m\u001b[1;33m)\u001b[0m\u001b[1;33m\u001b[0m\u001b[1;33m\u001b[0m\u001b[0m\n",
      "\u001b[1;32m~\\anaconda3\\lib\\site-packages\\tensorflow\\python\\eager\\def_function.py\u001b[0m in \u001b[0;36m_call\u001b[1;34m(self, *args, **kwds)\u001b[0m\n\u001b[0;32m    805\u001b[0m       \u001b[1;31m# In this case we have created variables on the first call, so we run the\u001b[0m\u001b[1;33m\u001b[0m\u001b[1;33m\u001b[0m\u001b[1;33m\u001b[0m\u001b[0m\n\u001b[0;32m    806\u001b[0m       \u001b[1;31m# defunned version which is guaranteed to never create variables.\u001b[0m\u001b[1;33m\u001b[0m\u001b[1;33m\u001b[0m\u001b[1;33m\u001b[0m\u001b[0m\n\u001b[1;32m--> 807\u001b[1;33m       \u001b[1;32mreturn\u001b[0m \u001b[0mself\u001b[0m\u001b[1;33m.\u001b[0m\u001b[0m_stateless_fn\u001b[0m\u001b[1;33m(\u001b[0m\u001b[1;33m*\u001b[0m\u001b[0margs\u001b[0m\u001b[1;33m,\u001b[0m \u001b[1;33m**\u001b[0m\u001b[0mkwds\u001b[0m\u001b[1;33m)\u001b[0m  \u001b[1;31m# pylint: disable=not-callable\u001b[0m\u001b[1;33m\u001b[0m\u001b[1;33m\u001b[0m\u001b[0m\n\u001b[0m\u001b[0;32m    808\u001b[0m     \u001b[1;32melif\u001b[0m \u001b[0mself\u001b[0m\u001b[1;33m.\u001b[0m\u001b[0m_stateful_fn\u001b[0m \u001b[1;32mis\u001b[0m \u001b[1;32mnot\u001b[0m \u001b[1;32mNone\u001b[0m\u001b[1;33m:\u001b[0m\u001b[1;33m\u001b[0m\u001b[1;33m\u001b[0m\u001b[0m\n\u001b[0;32m    809\u001b[0m       \u001b[1;31m# Release the lock early so that multiple threads can perform the call\u001b[0m\u001b[1;33m\u001b[0m\u001b[1;33m\u001b[0m\u001b[1;33m\u001b[0m\u001b[0m\n",
      "\u001b[1;32m~\\anaconda3\\lib\\site-packages\\tensorflow\\python\\eager\\function.py\u001b[0m in \u001b[0;36m__call__\u001b[1;34m(self, *args, **kwargs)\u001b[0m\n\u001b[0;32m   2827\u001b[0m     \u001b[1;32mwith\u001b[0m \u001b[0mself\u001b[0m\u001b[1;33m.\u001b[0m\u001b[0m_lock\u001b[0m\u001b[1;33m:\u001b[0m\u001b[1;33m\u001b[0m\u001b[1;33m\u001b[0m\u001b[0m\n\u001b[0;32m   2828\u001b[0m       \u001b[0mgraph_function\u001b[0m\u001b[1;33m,\u001b[0m \u001b[0margs\u001b[0m\u001b[1;33m,\u001b[0m \u001b[0mkwargs\u001b[0m \u001b[1;33m=\u001b[0m \u001b[0mself\u001b[0m\u001b[1;33m.\u001b[0m\u001b[0m_maybe_define_function\u001b[0m\u001b[1;33m(\u001b[0m\u001b[0margs\u001b[0m\u001b[1;33m,\u001b[0m \u001b[0mkwargs\u001b[0m\u001b[1;33m)\u001b[0m\u001b[1;33m\u001b[0m\u001b[1;33m\u001b[0m\u001b[0m\n\u001b[1;32m-> 2829\u001b[1;33m     \u001b[1;32mreturn\u001b[0m \u001b[0mgraph_function\u001b[0m\u001b[1;33m.\u001b[0m\u001b[0m_filtered_call\u001b[0m\u001b[1;33m(\u001b[0m\u001b[0margs\u001b[0m\u001b[1;33m,\u001b[0m \u001b[0mkwargs\u001b[0m\u001b[1;33m)\u001b[0m  \u001b[1;31m# pylint: disable=protected-access\u001b[0m\u001b[1;33m\u001b[0m\u001b[1;33m\u001b[0m\u001b[0m\n\u001b[0m\u001b[0;32m   2830\u001b[0m \u001b[1;33m\u001b[0m\u001b[0m\n\u001b[0;32m   2831\u001b[0m   \u001b[1;33m@\u001b[0m\u001b[0mproperty\u001b[0m\u001b[1;33m\u001b[0m\u001b[1;33m\u001b[0m\u001b[0m\n",
      "\u001b[1;32m~\\anaconda3\\lib\\site-packages\\tensorflow\\python\\eager\\function.py\u001b[0m in \u001b[0;36m_filtered_call\u001b[1;34m(self, args, kwargs, cancellation_manager)\u001b[0m\n\u001b[0;32m   1841\u001b[0m       \u001b[0;31m`\u001b[0m\u001b[0margs\u001b[0m\u001b[0;31m`\u001b[0m \u001b[1;32mand\u001b[0m\u001b[0;31m \u001b[0m\u001b[0;31m`\u001b[0m\u001b[0mkwargs\u001b[0m\u001b[0;31m`\u001b[0m\u001b[1;33m.\u001b[0m\u001b[1;33m\u001b[0m\u001b[1;33m\u001b[0m\u001b[0m\n\u001b[0;32m   1842\u001b[0m     \"\"\"\n\u001b[1;32m-> 1843\u001b[1;33m     return self._call_flat(\n\u001b[0m\u001b[0;32m   1844\u001b[0m         [t for t in nest.flatten((args, kwargs), expand_composites=True)\n\u001b[0;32m   1845\u001b[0m          if isinstance(t, (ops.Tensor,\n",
      "\u001b[1;32m~\\anaconda3\\lib\\site-packages\\tensorflow\\python\\eager\\function.py\u001b[0m in \u001b[0;36m_call_flat\u001b[1;34m(self, args, captured_inputs, cancellation_manager)\u001b[0m\n\u001b[0;32m   1921\u001b[0m         and executing_eagerly):\n\u001b[0;32m   1922\u001b[0m       \u001b[1;31m# No tape is watching; skip to running the function.\u001b[0m\u001b[1;33m\u001b[0m\u001b[1;33m\u001b[0m\u001b[1;33m\u001b[0m\u001b[0m\n\u001b[1;32m-> 1923\u001b[1;33m       return self._build_call_outputs(self._inference_function.call(\n\u001b[0m\u001b[0;32m   1924\u001b[0m           ctx, args, cancellation_manager=cancellation_manager))\n\u001b[0;32m   1925\u001b[0m     forward_backward = self._select_forward_and_backward_functions(\n",
      "\u001b[1;32m~\\anaconda3\\lib\\site-packages\\tensorflow\\python\\eager\\function.py\u001b[0m in \u001b[0;36mcall\u001b[1;34m(self, ctx, args, cancellation_manager)\u001b[0m\n\u001b[0;32m    543\u001b[0m       \u001b[1;32mwith\u001b[0m \u001b[0m_InterpolateFunctionError\u001b[0m\u001b[1;33m(\u001b[0m\u001b[0mself\u001b[0m\u001b[1;33m)\u001b[0m\u001b[1;33m:\u001b[0m\u001b[1;33m\u001b[0m\u001b[1;33m\u001b[0m\u001b[0m\n\u001b[0;32m    544\u001b[0m         \u001b[1;32mif\u001b[0m \u001b[0mcancellation_manager\u001b[0m \u001b[1;32mis\u001b[0m \u001b[1;32mNone\u001b[0m\u001b[1;33m:\u001b[0m\u001b[1;33m\u001b[0m\u001b[1;33m\u001b[0m\u001b[0m\n\u001b[1;32m--> 545\u001b[1;33m           outputs = execute.execute(\n\u001b[0m\u001b[0;32m    546\u001b[0m               \u001b[0mstr\u001b[0m\u001b[1;33m(\u001b[0m\u001b[0mself\u001b[0m\u001b[1;33m.\u001b[0m\u001b[0msignature\u001b[0m\u001b[1;33m.\u001b[0m\u001b[0mname\u001b[0m\u001b[1;33m)\u001b[0m\u001b[1;33m,\u001b[0m\u001b[1;33m\u001b[0m\u001b[1;33m\u001b[0m\u001b[0m\n\u001b[0;32m    547\u001b[0m               \u001b[0mnum_outputs\u001b[0m\u001b[1;33m=\u001b[0m\u001b[0mself\u001b[0m\u001b[1;33m.\u001b[0m\u001b[0m_num_outputs\u001b[0m\u001b[1;33m,\u001b[0m\u001b[1;33m\u001b[0m\u001b[1;33m\u001b[0m\u001b[0m\n",
      "\u001b[1;32m~\\anaconda3\\lib\\site-packages\\tensorflow\\python\\eager\\execute.py\u001b[0m in \u001b[0;36mquick_execute\u001b[1;34m(op_name, num_outputs, inputs, attrs, ctx, name)\u001b[0m\n\u001b[0;32m     57\u001b[0m   \u001b[1;32mtry\u001b[0m\u001b[1;33m:\u001b[0m\u001b[1;33m\u001b[0m\u001b[1;33m\u001b[0m\u001b[0m\n\u001b[0;32m     58\u001b[0m     \u001b[0mctx\u001b[0m\u001b[1;33m.\u001b[0m\u001b[0mensure_initialized\u001b[0m\u001b[1;33m(\u001b[0m\u001b[1;33m)\u001b[0m\u001b[1;33m\u001b[0m\u001b[1;33m\u001b[0m\u001b[0m\n\u001b[1;32m---> 59\u001b[1;33m     tensors = pywrap_tfe.TFE_Py_Execute(ctx._handle, device_name, op_name,\n\u001b[0m\u001b[0;32m     60\u001b[0m                                         inputs, attrs, num_outputs)\n\u001b[0;32m     61\u001b[0m   \u001b[1;32mexcept\u001b[0m \u001b[0mcore\u001b[0m\u001b[1;33m.\u001b[0m\u001b[0m_NotOkStatusException\u001b[0m \u001b[1;32mas\u001b[0m \u001b[0me\u001b[0m\u001b[1;33m:\u001b[0m\u001b[1;33m\u001b[0m\u001b[1;33m\u001b[0m\u001b[0m\n",
      "\u001b[1;31mKeyboardInterrupt\u001b[0m: "
     ]
    }
   ],
   "source": [
    "batch_size = 32\n",
    "data_generator = tf.keras.preprocessing.image.ImageDataGenerator(width_shift_range=0.1, height_shift_range=0.1, horizontal_flip=True)\n",
    "train_generator = data_generator.flow(X_train, y_train, batch_size)\n",
    "steps_per_epoch = X_train.shape[0] // batch_size\n",
    "r = model.fit(train_generator, validation_data=(X_test, y_test), steps_per_epoch=steps_per_epoch, epochs=50)"
   ]
  },
  {
   "cell_type": "code",
   "execution_count": 82,
   "metadata": {},
   "outputs": [
    {
     "data": {
      "text/plain": [
       "<matplotlib.legend.Legend at 0x2a39262ff70>"
      ]
     },
     "execution_count": 82,
     "metadata": {},
     "output_type": "execute_result"
    },
    {
     "data": {
      "image/png": "[encoded data removed]",
      "text/plain": [
       "<Figure size 432x288 with 1 Axes>"
      ]
     },
     "metadata": {
      "needs_background": "light"
     },
     "output_type": "display_data"
    }
   ],
   "source": [
    "import matplotlib.pyplot as plt\n",
    "plt.plot(r.history['loss'], label='loss')\n",
    "plt.plot(r.history['val_loss'], label='val_loss')\n",
    "plt.legend()"
   ]
  },
  {
   "cell_type": "code",
   "execution_count": 83,
   "metadata": {},
   "outputs": [
    {
     "data": {
      "text/plain": [
       "<matplotlib.legend.Legend at 0x2a392695b80>"
      ]
     },
     "execution_count": 83,
     "metadata": {},
     "output_type": "execute_result"
    },
    {
     "data": {
      "image/png": "[encoded data removed]",
      "text/plain": [
       "<Figure size 432x288 with 1 Axes>"
      ]
     },
     "metadata": {
      "needs_background": "light"
     },
     "output_type": "display_data"
    }
   ],
   "source": [
    "# Plot accuracy per iteration\n",
    "plt.plot(r.history['accuracy'], label='acc')\n",
    "plt.plot(r.history['val_accuracy'], label='val_acc')\n",
    "plt.legend()"
   ]
  },
  {
   "cell_type": "code",
   "execution_count": 100,
   "metadata": {},
   "outputs": [
    {
     "name": "stdout",
     "output_type": "stream",
     "text": [
      "WARNING:tensorflow:Model was constructed with shape (None, 48, 48, 1) for input Tensor(\"input_57:0\", shape=(None, 48, 48, 1), dtype=float32), but it was called on an input with incompatible shape (None, 2304).\n"
     ]
    },
    {
     "ename": "ValueError",
     "evalue": "in user code:\n\n    C:\\Users\\kumug\\anaconda3\\lib\\site-packages\\tensorflow\\python\\keras\\engine\\training.py:1462 predict_function  *\n        return step_function(self, iterator)\n    C:\\Users\\kumug\\anaconda3\\lib\\site-packages\\tensorflow\\python\\keras\\engine\\training.py:1452 step_function  **\n        outputs = model.distribute_strategy.run(run_step, args=(data,))\n    C:\\Users\\kumug\\anaconda3\\lib\\site-packages\\tensorflow\\python\\distribute\\distribute_lib.py:1211 run\n        return self._extended.call_for_each_replica(fn, args=args, kwargs=kwargs)\n    C:\\Users\\kumug\\anaconda3\\lib\\site-packages\\tensorflow\\python\\distribute\\distribute_lib.py:2585 call_for_each_replica\n        return self._call_for_each_replica(fn, args, kwargs)\n    C:\\Users\\kumug\\anaconda3\\lib\\site-packages\\tensorflow\\python\\distribute\\distribute_lib.py:2945 _call_for_each_replica\n        return fn(*args, **kwargs)\n    C:\\Users\\kumug\\anaconda3\\lib\\site-packages\\tensorflow\\python\\keras\\engine\\training.py:1445 run_step  **\n        outputs = model.predict_step(data)\n    C:\\Users\\kumug\\anaconda3\\lib\\site-packages\\tensorflow\\python\\keras\\engine\\training.py:1418 predict_step\n        return self(x, training=False)\n    C:\\Users\\kumug\\anaconda3\\lib\\site-packages\\tensorflow\\python\\keras\\engine\\base_layer.py:985 __call__\n        outputs = call_fn(inputs, *args, **kwargs)\n    C:\\Users\\kumug\\anaconda3\\lib\\site-packages\\tensorflow\\python\\keras\\engine\\functional.py:385 call\n        return self._run_internal_graph(\n    C:\\Users\\kumug\\anaconda3\\lib\\site-packages\\tensorflow\\python\\keras\\engine\\functional.py:508 _run_internal_graph\n        outputs = node.layer(*args, **kwargs)\n    C:\\Users\\kumug\\anaconda3\\lib\\site-packages\\tensorflow\\python\\keras\\engine\\base_layer.py:975 __call__\n        input_spec.assert_input_compatibility(self.input_spec, inputs,\n    C:\\Users\\kumug\\anaconda3\\lib\\site-packages\\tensorflow\\python\\keras\\engine\\input_spec.py:191 assert_input_compatibility\n        raise ValueError('Input ' + str(input_index) + ' of layer ' +\n\n    ValueError: Input 0 of layer conv2d_148 is incompatible with the layer: : expected min_ndim=4, found ndim=2. Full shape received: [None, 2304]\n",
     "output_type": "error",
     "traceback": [
      "\u001b[1;31m---------------------------------------------------------------------------\u001b[0m",
      "\u001b[1;31mValueError\u001b[0m                                Traceback (most recent call last)",
      "\u001b[1;32m<ipython-input-100-2d190350c699>\u001b[0m in \u001b[0;36m<module>\u001b[1;34m\u001b[0m\n\u001b[0;32m     39\u001b[0m \u001b[1;33m\u001b[0m\u001b[0m\n\u001b[0;32m     40\u001b[0m \u001b[1;33m\u001b[0m\u001b[0m\n\u001b[1;32m---> 41\u001b[1;33m \u001b[0mp_test\u001b[0m \u001b[1;33m=\u001b[0m \u001b[0mmodel\u001b[0m\u001b[1;33m.\u001b[0m\u001b[0mpredict\u001b[0m\u001b[1;33m(\u001b[0m\u001b[0mX_test\u001b[0m\u001b[1;33m)\u001b[0m\u001b[1;33m.\u001b[0m\u001b[0margmax\u001b[0m\u001b[1;33m(\u001b[0m\u001b[0maxis\u001b[0m\u001b[1;33m=\u001b[0m\u001b[1;36m1\u001b[0m\u001b[1;33m)\u001b[0m\u001b[1;33m\u001b[0m\u001b[1;33m\u001b[0m\u001b[0m\n\u001b[0m\u001b[0;32m     42\u001b[0m \u001b[0mcm\u001b[0m \u001b[1;33m=\u001b[0m \u001b[0mconfusion_matrix\u001b[0m\u001b[1;33m(\u001b[0m\u001b[0my_test\u001b[0m\u001b[1;33m,\u001b[0m \u001b[0mp_test\u001b[0m\u001b[1;33m)\u001b[0m\u001b[1;33m\u001b[0m\u001b[1;33m\u001b[0m\u001b[0m\n\u001b[0;32m     43\u001b[0m \u001b[0mplot_confusion_matrix\u001b[0m\u001b[1;33m(\u001b[0m\u001b[0mcm\u001b[0m\u001b[1;33m,\u001b[0m \u001b[0mlist\u001b[0m\u001b[1;33m(\u001b[0m\u001b[0mrange\u001b[0m\u001b[1;33m(\u001b[0m\u001b[1;36m10\u001b[0m\u001b[1;33m)\u001b[0m\u001b[1;33m)\u001b[0m\u001b[1;33m)\u001b[0m\u001b[1;33m\u001b[0m\u001b[1;33m\u001b[0m\u001b[0m\n",
      "\u001b[1;32m~\\anaconda3\\lib\\site-packages\\tensorflow\\python\\keras\\engine\\training.py\u001b[0m in \u001b[0;36m_method_wrapper\u001b[1;34m(self, *args, **kwargs)\u001b[0m\n\u001b[0;32m    128\u001b[0m       raise ValueError('{} is not supported in multi-worker mode.'.format(\n\u001b[0;32m    129\u001b[0m           method.__name__))\n\u001b[1;32m--> 130\u001b[1;33m     \u001b[1;32mreturn\u001b[0m \u001b[0mmethod\u001b[0m\u001b[1;33m(\u001b[0m\u001b[0mself\u001b[0m\u001b[1;33m,\u001b[0m \u001b[1;33m*\u001b[0m\u001b[0margs\u001b[0m\u001b[1;33m,\u001b[0m \u001b[1;33m**\u001b[0m\u001b[0mkwargs\u001b[0m\u001b[1;33m)\u001b[0m\u001b[1;33m\u001b[0m\u001b[1;33m\u001b[0m\u001b[0m\n\u001b[0m\u001b[0;32m    131\u001b[0m \u001b[1;33m\u001b[0m\u001b[0m\n\u001b[0;32m    132\u001b[0m   return tf_decorator.make_decorator(\n",
      "\u001b[1;32m~\\anaconda3\\lib\\site-packages\\tensorflow\\python\\keras\\engine\\training.py\u001b[0m in \u001b[0;36mpredict\u001b[1;34m(self, x, batch_size, verbose, steps, callbacks, max_queue_size, workers, use_multiprocessing)\u001b[0m\n\u001b[0;32m   1597\u001b[0m           \u001b[1;32mfor\u001b[0m \u001b[0mstep\u001b[0m \u001b[1;32min\u001b[0m \u001b[0mdata_handler\u001b[0m\u001b[1;33m.\u001b[0m\u001b[0msteps\u001b[0m\u001b[1;33m(\u001b[0m\u001b[1;33m)\u001b[0m\u001b[1;33m:\u001b[0m\u001b[1;33m\u001b[0m\u001b[1;33m\u001b[0m\u001b[0m\n\u001b[0;32m   1598\u001b[0m             \u001b[0mcallbacks\u001b[0m\u001b[1;33m.\u001b[0m\u001b[0mon_predict_batch_begin\u001b[0m\u001b[1;33m(\u001b[0m\u001b[0mstep\u001b[0m\u001b[1;33m)\u001b[0m\u001b[1;33m\u001b[0m\u001b[1;33m\u001b[0m\u001b[0m\n\u001b[1;32m-> 1599\u001b[1;33m             \u001b[0mtmp_batch_outputs\u001b[0m \u001b[1;33m=\u001b[0m \u001b[0mpredict_function\u001b[0m\u001b[1;33m(\u001b[0m\u001b[0miterator\u001b[0m\u001b[1;33m)\u001b[0m\u001b[1;33m\u001b[0m\u001b[1;33m\u001b[0m\u001b[0m\n\u001b[0m\u001b[0;32m   1600\u001b[0m             \u001b[1;32mif\u001b[0m \u001b[0mdata_handler\u001b[0m\u001b[1;33m.\u001b[0m\u001b[0mshould_sync\u001b[0m\u001b[1;33m:\u001b[0m\u001b[1;33m\u001b[0m\u001b[1;33m\u001b[0m\u001b[0m\n\u001b[0;32m   1601\u001b[0m               \u001b[0mcontext\u001b[0m\u001b[1;33m.\u001b[0m\u001b[0masync_wait\u001b[0m\u001b[1;33m(\u001b[0m\u001b[1;33m)\u001b[0m\u001b[1;33m\u001b[0m\u001b[1;33m\u001b[0m\u001b[0m\n",
      "\u001b[1;32m~\\anaconda3\\lib\\site-packages\\tensorflow\\python\\eager\\def_function.py\u001b[0m in \u001b[0;36m__call__\u001b[1;34m(self, *args, **kwds)\u001b[0m\n\u001b[0;32m    778\u001b[0m       \u001b[1;32melse\u001b[0m\u001b[1;33m:\u001b[0m\u001b[1;33m\u001b[0m\u001b[1;33m\u001b[0m\u001b[0m\n\u001b[0;32m    779\u001b[0m         \u001b[0mcompiler\u001b[0m \u001b[1;33m=\u001b[0m \u001b[1;34m\"nonXla\"\u001b[0m\u001b[1;33m\u001b[0m\u001b[1;33m\u001b[0m\u001b[0m\n\u001b[1;32m--> 780\u001b[1;33m         \u001b[0mresult\u001b[0m \u001b[1;33m=\u001b[0m \u001b[0mself\u001b[0m\u001b[1;33m.\u001b[0m\u001b[0m_call\u001b[0m\u001b[1;33m(\u001b[0m\u001b[1;33m*\u001b[0m\u001b[0margs\u001b[0m\u001b[1;33m,\u001b[0m \u001b[1;33m**\u001b[0m\u001b[0mkwds\u001b[0m\u001b[1;33m)\u001b[0m\u001b[1;33m\u001b[0m\u001b[1;33m\u001b[0m\u001b[0m\n\u001b[0m\u001b[0;32m    781\u001b[0m \u001b[1;33m\u001b[0m\u001b[0m\n\u001b[0;32m    782\u001b[0m       \u001b[0mnew_tracing_count\u001b[0m \u001b[1;33m=\u001b[0m \u001b[0mself\u001b[0m\u001b[1;33m.\u001b[0m\u001b[0m_get_tracing_count\u001b[0m\u001b[1;33m(\u001b[0m\u001b[1;33m)\u001b[0m\u001b[1;33m\u001b[0m\u001b[1;33m\u001b[0m\u001b[0m\n",
      "\u001b[1;32m~\\anaconda3\\lib\\site-packages\\tensorflow\\python\\eager\\def_function.py\u001b[0m in \u001b[0;36m_call\u001b[1;34m(self, *args, **kwds)\u001b[0m\n\u001b[0;32m    821\u001b[0m       \u001b[1;31m# This is the first call of __call__, so we have to initialize.\u001b[0m\u001b[1;33m\u001b[0m\u001b[1;33m\u001b[0m\u001b[1;33m\u001b[0m\u001b[0m\n\u001b[0;32m    822\u001b[0m       \u001b[0minitializers\u001b[0m \u001b[1;33m=\u001b[0m \u001b[1;33m[\u001b[0m\u001b[1;33m]\u001b[0m\u001b[1;33m\u001b[0m\u001b[1;33m\u001b[0m\u001b[0m\n\u001b[1;32m--> 823\u001b[1;33m       \u001b[0mself\u001b[0m\u001b[1;33m.\u001b[0m\u001b[0m_initialize\u001b[0m\u001b[1;33m(\u001b[0m\u001b[0margs\u001b[0m\u001b[1;33m,\u001b[0m \u001b[0mkwds\u001b[0m\u001b[1;33m,\u001b[0m \u001b[0madd_initializers_to\u001b[0m\u001b[1;33m=\u001b[0m\u001b[0minitializers\u001b[0m\u001b[1;33m)\u001b[0m\u001b[1;33m\u001b[0m\u001b[1;33m\u001b[0m\u001b[0m\n\u001b[0m\u001b[0;32m    824\u001b[0m     \u001b[1;32mfinally\u001b[0m\u001b[1;33m:\u001b[0m\u001b[1;33m\u001b[0m\u001b[1;33m\u001b[0m\u001b[0m\n\u001b[0;32m    825\u001b[0m       \u001b[1;31m# At this point we know that the initialization is complete (or less\u001b[0m\u001b[1;33m\u001b[0m\u001b[1;33m\u001b[0m\u001b[1;33m\u001b[0m\u001b[0m\n",
      "\u001b[1;32m~\\anaconda3\\lib\\site-packages\\tensorflow\\python\\eager\\def_function.py\u001b[0m in \u001b[0;36m_initialize\u001b[1;34m(self, args, kwds, add_initializers_to)\u001b[0m\n\u001b[0;32m    694\u001b[0m     \u001b[0mself\u001b[0m\u001b[1;33m.\u001b[0m\u001b[0m_graph_deleter\u001b[0m \u001b[1;33m=\u001b[0m \u001b[0mFunctionDeleter\u001b[0m\u001b[1;33m(\u001b[0m\u001b[0mself\u001b[0m\u001b[1;33m.\u001b[0m\u001b[0m_lifted_initializer_graph\u001b[0m\u001b[1;33m)\u001b[0m\u001b[1;33m\u001b[0m\u001b[1;33m\u001b[0m\u001b[0m\n\u001b[0;32m    695\u001b[0m     self._concrete_stateful_fn = (\n\u001b[1;32m--> 696\u001b[1;33m         self._stateful_fn._get_concrete_function_internal_garbage_collected(  # pylint: disable=protected-access\n\u001b[0m\u001b[0;32m    697\u001b[0m             *args, **kwds))\n\u001b[0;32m    698\u001b[0m \u001b[1;33m\u001b[0m\u001b[0m\n",
      "\u001b[1;32m~\\anaconda3\\lib\\site-packages\\tensorflow\\python\\eager\\function.py\u001b[0m in \u001b[0;36m_get_concrete_function_internal_garbage_collected\u001b[1;34m(self, *args, **kwargs)\u001b[0m\n\u001b[0;32m   2853\u001b[0m       \u001b[0margs\u001b[0m\u001b[1;33m,\u001b[0m \u001b[0mkwargs\u001b[0m \u001b[1;33m=\u001b[0m \u001b[1;32mNone\u001b[0m\u001b[1;33m,\u001b[0m \u001b[1;32mNone\u001b[0m\u001b[1;33m\u001b[0m\u001b[1;33m\u001b[0m\u001b[0m\n\u001b[0;32m   2854\u001b[0m     \u001b[1;32mwith\u001b[0m \u001b[0mself\u001b[0m\u001b[1;33m.\u001b[0m\u001b[0m_lock\u001b[0m\u001b[1;33m:\u001b[0m\u001b[1;33m\u001b[0m\u001b[1;33m\u001b[0m\u001b[0m\n\u001b[1;32m-> 2855\u001b[1;33m       \u001b[0mgraph_function\u001b[0m\u001b[1;33m,\u001b[0m \u001b[0m_\u001b[0m\u001b[1;33m,\u001b[0m \u001b[0m_\u001b[0m \u001b[1;33m=\u001b[0m \u001b[0mself\u001b[0m\u001b[1;33m.\u001b[0m\u001b[0m_maybe_define_function\u001b[0m\u001b[1;33m(\u001b[0m\u001b[0margs\u001b[0m\u001b[1;33m,\u001b[0m \u001b[0mkwargs\u001b[0m\u001b[1;33m)\u001b[0m\u001b[1;33m\u001b[0m\u001b[1;33m\u001b[0m\u001b[0m\n\u001b[0m\u001b[0;32m   2856\u001b[0m     \u001b[1;32mreturn\u001b[0m \u001b[0mgraph_function\u001b[0m\u001b[1;33m\u001b[0m\u001b[1;33m\u001b[0m\u001b[0m\n\u001b[0;32m   2857\u001b[0m \u001b[1;33m\u001b[0m\u001b[0m\n",
      "\u001b[1;32m~\\anaconda3\\lib\\site-packages\\tensorflow\\python\\eager\\function.py\u001b[0m in \u001b[0;36m_maybe_define_function\u001b[1;34m(self, args, kwargs)\u001b[0m\n\u001b[0;32m   3211\u001b[0m \u001b[1;33m\u001b[0m\u001b[0m\n\u001b[0;32m   3212\u001b[0m       \u001b[0mself\u001b[0m\u001b[1;33m.\u001b[0m\u001b[0m_function_cache\u001b[0m\u001b[1;33m.\u001b[0m\u001b[0mmissed\u001b[0m\u001b[1;33m.\u001b[0m\u001b[0madd\u001b[0m\u001b[1;33m(\u001b[0m\u001b[0mcall_context_key\u001b[0m\u001b[1;33m)\u001b[0m\u001b[1;33m\u001b[0m\u001b[1;33m\u001b[0m\u001b[0m\n\u001b[1;32m-> 3213\u001b[1;33m       \u001b[0mgraph_function\u001b[0m \u001b[1;33m=\u001b[0m \u001b[0mself\u001b[0m\u001b[1;33m.\u001b[0m\u001b[0m_create_graph_function\u001b[0m\u001b[1;33m(\u001b[0m\u001b[0margs\u001b[0m\u001b[1;33m,\u001b[0m \u001b[0mkwargs\u001b[0m\u001b[1;33m)\u001b[0m\u001b[1;33m\u001b[0m\u001b[1;33m\u001b[0m\u001b[0m\n\u001b[0m\u001b[0;32m   3214\u001b[0m       \u001b[0mself\u001b[0m\u001b[1;33m.\u001b[0m\u001b[0m_function_cache\u001b[0m\u001b[1;33m.\u001b[0m\u001b[0mprimary\u001b[0m\u001b[1;33m[\u001b[0m\u001b[0mcache_key\u001b[0m\u001b[1;33m]\u001b[0m \u001b[1;33m=\u001b[0m \u001b[0mgraph_function\u001b[0m\u001b[1;33m\u001b[0m\u001b[1;33m\u001b[0m\u001b[0m\n\u001b[0;32m   3215\u001b[0m       \u001b[1;32mreturn\u001b[0m \u001b[0mgraph_function\u001b[0m\u001b[1;33m,\u001b[0m \u001b[0margs\u001b[0m\u001b[1;33m,\u001b[0m \u001b[0mkwargs\u001b[0m\u001b[1;33m\u001b[0m\u001b[1;33m\u001b[0m\u001b[0m\n",
      "\u001b[1;32m~\\anaconda3\\lib\\site-packages\\tensorflow\\python\\eager\\function.py\u001b[0m in \u001b[0;36m_create_graph_function\u001b[1;34m(self, args, kwargs, override_flat_arg_shapes)\u001b[0m\n\u001b[0;32m   3063\u001b[0m     \u001b[0marg_names\u001b[0m \u001b[1;33m=\u001b[0m \u001b[0mbase_arg_names\u001b[0m \u001b[1;33m+\u001b[0m \u001b[0mmissing_arg_names\u001b[0m\u001b[1;33m\u001b[0m\u001b[1;33m\u001b[0m\u001b[0m\n\u001b[0;32m   3064\u001b[0m     graph_function = ConcreteFunction(\n\u001b[1;32m-> 3065\u001b[1;33m         func_graph_module.func_graph_from_py_func(\n\u001b[0m\u001b[0;32m   3066\u001b[0m             \u001b[0mself\u001b[0m\u001b[1;33m.\u001b[0m\u001b[0m_name\u001b[0m\u001b[1;33m,\u001b[0m\u001b[1;33m\u001b[0m\u001b[1;33m\u001b[0m\u001b[0m\n\u001b[0;32m   3067\u001b[0m             \u001b[0mself\u001b[0m\u001b[1;33m.\u001b[0m\u001b[0m_python_function\u001b[0m\u001b[1;33m,\u001b[0m\u001b[1;33m\u001b[0m\u001b[1;33m\u001b[0m\u001b[0m\n",
      "\u001b[1;32m~\\anaconda3\\lib\\site-packages\\tensorflow\\python\\framework\\func_graph.py\u001b[0m in \u001b[0;36mfunc_graph_from_py_func\u001b[1;34m(name, python_func, args, kwargs, signature, func_graph, autograph, autograph_options, add_control_dependencies, arg_names, op_return_value, collections, capture_by_value, override_flat_arg_shapes)\u001b[0m\n\u001b[0;32m    984\u001b[0m         \u001b[0m_\u001b[0m\u001b[1;33m,\u001b[0m \u001b[0moriginal_func\u001b[0m \u001b[1;33m=\u001b[0m \u001b[0mtf_decorator\u001b[0m\u001b[1;33m.\u001b[0m\u001b[0munwrap\u001b[0m\u001b[1;33m(\u001b[0m\u001b[0mpython_func\u001b[0m\u001b[1;33m)\u001b[0m\u001b[1;33m\u001b[0m\u001b[1;33m\u001b[0m\u001b[0m\n\u001b[0;32m    985\u001b[0m \u001b[1;33m\u001b[0m\u001b[0m\n\u001b[1;32m--> 986\u001b[1;33m       \u001b[0mfunc_outputs\u001b[0m \u001b[1;33m=\u001b[0m \u001b[0mpython_func\u001b[0m\u001b[1;33m(\u001b[0m\u001b[1;33m*\u001b[0m\u001b[0mfunc_args\u001b[0m\u001b[1;33m,\u001b[0m \u001b[1;33m**\u001b[0m\u001b[0mfunc_kwargs\u001b[0m\u001b[1;33m)\u001b[0m\u001b[1;33m\u001b[0m\u001b[1;33m\u001b[0m\u001b[0m\n\u001b[0m\u001b[0;32m    987\u001b[0m \u001b[1;33m\u001b[0m\u001b[0m\n\u001b[0;32m    988\u001b[0m       \u001b[1;31m# invariant: `func_outputs` contains only Tensors, CompositeTensors,\u001b[0m\u001b[1;33m\u001b[0m\u001b[1;33m\u001b[0m\u001b[1;33m\u001b[0m\u001b[0m\n",
      "\u001b[1;32m~\\anaconda3\\lib\\site-packages\\tensorflow\\python\\eager\\def_function.py\u001b[0m in \u001b[0;36mwrapped_fn\u001b[1;34m(*args, **kwds)\u001b[0m\n\u001b[0;32m    598\u001b[0m         \u001b[1;31m# __wrapped__ allows AutoGraph to swap in a converted function. We give\u001b[0m\u001b[1;33m\u001b[0m\u001b[1;33m\u001b[0m\u001b[1;33m\u001b[0m\u001b[0m\n\u001b[0;32m    599\u001b[0m         \u001b[1;31m# the function a weak reference to itself to avoid a reference cycle.\u001b[0m\u001b[1;33m\u001b[0m\u001b[1;33m\u001b[0m\u001b[1;33m\u001b[0m\u001b[0m\n\u001b[1;32m--> 600\u001b[1;33m         \u001b[1;32mreturn\u001b[0m \u001b[0mweak_wrapped_fn\u001b[0m\u001b[1;33m(\u001b[0m\u001b[1;33m)\u001b[0m\u001b[1;33m.\u001b[0m\u001b[0m__wrapped__\u001b[0m\u001b[1;33m(\u001b[0m\u001b[1;33m*\u001b[0m\u001b[0margs\u001b[0m\u001b[1;33m,\u001b[0m \u001b[1;33m**\u001b[0m\u001b[0mkwds\u001b[0m\u001b[1;33m)\u001b[0m\u001b[1;33m\u001b[0m\u001b[1;33m\u001b[0m\u001b[0m\n\u001b[0m\u001b[0;32m    601\u001b[0m     \u001b[0mweak_wrapped_fn\u001b[0m \u001b[1;33m=\u001b[0m \u001b[0mweakref\u001b[0m\u001b[1;33m.\u001b[0m\u001b[0mref\u001b[0m\u001b[1;33m(\u001b[0m\u001b[0mwrapped_fn\u001b[0m\u001b[1;33m)\u001b[0m\u001b[1;33m\u001b[0m\u001b[1;33m\u001b[0m\u001b[0m\n\u001b[0;32m    602\u001b[0m \u001b[1;33m\u001b[0m\u001b[0m\n",
      "\u001b[1;32m~\\anaconda3\\lib\\site-packages\\tensorflow\\python\\framework\\func_graph.py\u001b[0m in \u001b[0;36mwrapper\u001b[1;34m(*args, **kwargs)\u001b[0m\n\u001b[0;32m    971\u001b[0m           \u001b[1;32mexcept\u001b[0m \u001b[0mException\u001b[0m \u001b[1;32mas\u001b[0m \u001b[0me\u001b[0m\u001b[1;33m:\u001b[0m  \u001b[1;31m# pylint:disable=broad-except\u001b[0m\u001b[1;33m\u001b[0m\u001b[1;33m\u001b[0m\u001b[0m\n\u001b[0;32m    972\u001b[0m             \u001b[1;32mif\u001b[0m \u001b[0mhasattr\u001b[0m\u001b[1;33m(\u001b[0m\u001b[0me\u001b[0m\u001b[1;33m,\u001b[0m \u001b[1;34m\"ag_error_metadata\"\u001b[0m\u001b[1;33m)\u001b[0m\u001b[1;33m:\u001b[0m\u001b[1;33m\u001b[0m\u001b[1;33m\u001b[0m\u001b[0m\n\u001b[1;32m--> 973\u001b[1;33m               \u001b[1;32mraise\u001b[0m \u001b[0me\u001b[0m\u001b[1;33m.\u001b[0m\u001b[0mag_error_metadata\u001b[0m\u001b[1;33m.\u001b[0m\u001b[0mto_exception\u001b[0m\u001b[1;33m(\u001b[0m\u001b[0me\u001b[0m\u001b[1;33m)\u001b[0m\u001b[1;33m\u001b[0m\u001b[1;33m\u001b[0m\u001b[0m\n\u001b[0m\u001b[0;32m    974\u001b[0m             \u001b[1;32melse\u001b[0m\u001b[1;33m:\u001b[0m\u001b[1;33m\u001b[0m\u001b[1;33m\u001b[0m\u001b[0m\n\u001b[0;32m    975\u001b[0m               \u001b[1;32mraise\u001b[0m\u001b[1;33m\u001b[0m\u001b[1;33m\u001b[0m\u001b[0m\n",
      "\u001b[1;31mValueError\u001b[0m: in user code:\n\n    C:\\Users\\kumug\\anaconda3\\lib\\site-packages\\tensorflow\\python\\keras\\engine\\training.py:1462 predict_function  *\n        return step_function(self, iterator)\n    C:\\Users\\kumug\\anaconda3\\lib\\site-packages\\tensorflow\\python\\keras\\engine\\training.py:1452 step_function  **\n        outputs = model.distribute_strategy.run(run_step, args=(data,))\n    C:\\Users\\kumug\\anaconda3\\lib\\site-packages\\tensorflow\\python\\distribute\\distribute_lib.py:1211 run\n        return self._extended.call_for_each_replica(fn, args=args, kwargs=kwargs)\n    C:\\Users\\kumug\\anaconda3\\lib\\site-packages\\tensorflow\\python\\distribute\\distribute_lib.py:2585 call_for_each_replica\n        return self._call_for_each_replica(fn, args, kwargs)\n    C:\\Users\\kumug\\anaconda3\\lib\\site-packages\\tensorflow\\python\\distribute\\distribute_lib.py:2945 _call_for_each_replica\n        return fn(*args, **kwargs)\n    C:\\Users\\kumug\\anaconda3\\lib\\site-packages\\tensorflow\\python\\keras\\engine\\training.py:1445 run_step  **\n        outputs = model.predict_step(data)\n    C:\\Users\\kumug\\anaconda3\\lib\\site-packages\\tensorflow\\python\\keras\\engine\\training.py:1418 predict_step\n        return self(x, training=False)\n    C:\\Users\\kumug\\anaconda3\\lib\\site-packages\\tensorflow\\python\\keras\\engine\\base_layer.py:985 __call__\n        outputs = call_fn(inputs, *args, **kwargs)\n    C:\\Users\\kumug\\anaconda3\\lib\\site-packages\\tensorflow\\python\\keras\\engine\\functional.py:385 call\n        return self._run_internal_graph(\n    C:\\Users\\kumug\\anaconda3\\lib\\site-packages\\tensorflow\\python\\keras\\engine\\functional.py:508 _run_internal_graph\n        outputs = node.layer(*args, **kwargs)\n    C:\\Users\\kumug\\anaconda3\\lib\\site-packages\\tensorflow\\python\\keras\\engine\\base_layer.py:975 __call__\n        input_spec.assert_input_compatibility(self.input_spec, inputs,\n    C:\\Users\\kumug\\anaconda3\\lib\\site-packages\\tensorflow\\python\\keras\\engine\\input_spec.py:191 assert_input_compatibility\n        raise ValueError('Input ' + str(input_index) + ' of layer ' +\n\n    ValueError: Input 0 of layer conv2d_148 is incompatible with the layer: : expected min_ndim=4, found ndim=2. Full shape received: [None, 2304]\n"
     ]
    }
   ],
   "source": [
    "# Plot confusion matrix\n",
    "from sklearn.metrics import confusion_matrix\n",
    "import itertools\n",
    "\n",
    "def plot_confusion_matrix(cm, classes,\n",
    "                          normalize=False,\n",
    "                          title='Confusion matrix',\n",
    "                          cmap=plt.cm.Blues):\n",
    "  \"\"\"\n",
    "  This function prints and plots the confusion matrix.\n",
    "  Normalization can be applied by setting `normalize=True`.\n",
    "  \"\"\"\n",
    "  if normalize:\n",
    "      cm = cm.astype('float') / cm.sum(axis=1)[:, np.newaxis]\n",
    "      print(\"Normalized confusion matrix\")\n",
    "  else:\n",
    "      print('Confusion matrix, without normalization')\n",
    "\n",
    "  print(cm)\n",
    "\n",
    "  plt.imshow(cm, interpolation='nearest', cmap=cmap)\n",
    "  plt.title(title)\n",
    "  plt.colorbar()\n",
    "  tick_marks = np.arange(len(classes))\n",
    "  plt.xticks(tick_marks, classes, rotation=45)\n",
    "  plt.yticks(tick_marks, classes)\n",
    "\n",
    "  fmt = '.2f' if normalize else 'd'\n",
    "  thresh = cm.max() / 2.\n",
    "  for i, j in itertools.product(range(cm.shape[0]), range(cm.shape[1])):\n",
    "      plt.text(j, i, format(cm[i, j], fmt),\n",
    "               horizontalalignment=\"center\",\n",
    "               color=\"white\" if cm[i, j] > thresh else \"black\")\n",
    "\n",
    "  plt.tight_layout()\n",
    "  plt.ylabel('True label')\n",
    "  plt.xlabel('Predicted label')\n",
    "  plt.show()\n",
    "\n",
    "\n",
    "p_test = model.predict(X_test).argmax(axis=1)\n",
    "cm = confusion_matrix(y_test, p_test)\n",
    "plot_confusion_matrix(cm, list(range(10)))"
   ]
  },
  {
   "cell_type": "markdown",
   "metadata": {},
   "source": [
    "#  Investigation for Coursework"
   ]
  },
  {
   "cell_type": "markdown",
   "metadata": {},
   "source": [
    "## Degree of freedom"
   ]
  },
  {
   "cell_type": "markdown",
   "metadata": {},
   "source": [
    "Degree of freedom in machine learning refers to the number of parameters in the model.The concern is that the more the number of control point the more the model would not be able to generalise i.e Higher chance to overfit.\n",
    "\n",
    "\n",
    "Deep learning models usually have more parameters than the sample and are prone to overfiting but there are regularisation techniques such as drop out that help deal with this problem.\n",
    "\n",
    "In deep networks the degree of freedome is generally lower  than the number of parameters:  Deeper networks tend to have lower degrees of freedom\n",
    "\n",
    "for more info: https://machinelearningmastery.com/degrees-of-freedom-in-machine-learning/#:~:text=In%20machine%20learning%2C%20the%20degrees,a%20deep%20learning%20neural%20network.&text=In%20statistics%2C%20degrees%20of%20freedom,used%20to%20calculate%20a%20statistic.\n",
    "\n",
    "Futher reading: https://arxiv.org/abs/1603.09260\n",
    "                \n",
    "                https://arxiv.org/abs/1312.7851\n",
    "                \n",
    "                https://amzn.to/37ChU3k\n",
    "                \n",
    "                https://amzn.to/2O3BuOa\n",
    "                \n",
    "                https://en.wikipedia.org/wiki/Degrees_of_freedom_(statistics)"
   ]
  },
  {
   "cell_type": "markdown",
   "metadata": {},
   "source": [
    "## Size of Training Set"
   ]
  },
  {
   "cell_type": "markdown",
   "metadata": {},
   "source": [
    "There are two cases: \n",
    "\n",
    "A model with too little capacity ---> This will not learn the data too well\n",
    "\n",
    "A model with too much capacity  -----> This may learn the data too well and overfit \n",
    "\n",
    "In both of the above cases it means the model will not generalise too well.\n",
    "As an Approach to tackle both of this worlds a larger model with regularisation may be with to keep the weight as small as possible. It will not only curb the problem of generalisation but also results in faster convergence.\n",
    "\n",
    "SUGGESTED APRROACHES TO BE INVESTIGATED HERE:\n",
    "\n",
    "Regularisation method like weight decay\n",
    "\n",
    "Early stopping with with drop out and weight constraint."
   ]
  },
  {
   "cell_type": "markdown",
   "metadata": {},
   "source": [
    "#  Adapting the above model to add K fold Cross Validation"
   ]
  },
  {
   "cell_type": "code",
   "execution_count": 140,
   "metadata": {},
   "outputs": [],
   "source": [
    "#Provides train/test indices to split data in train/test sets. Split dataset into k consecutive folds (without shuffling by default).\n",
    "from sklearn.model_selection import KFold\n",
    "import numpy as np"
   ]
  },
  {
   "cell_type": "markdown",
   "metadata": {},
   "source": [
    "## Configuration value"
   ]
  },
  {
   "cell_type": "code",
   "execution_count": 141,
   "metadata": {},
   "outputs": [],
   "source": [
    "num_folds = 10"
   ]
  },
  {
   "cell_type": "markdown",
   "metadata": {},
   "source": [
    "# Make sure data is Normalised"
   ]
  },
  {
   "cell_type": "code",
   "execution_count": 142,
   "metadata": {},
   "outputs": [
    {
     "data": {
      "text/html": [
       "<div>\n",
       "<style scoped>\n",
       "    .dataframe tbody tr th:only-of-type {\n",
       "        vertical-align: middle;\n",
       "    }\n",
       "\n",
       "    .dataframe tbody tr th {\n",
       "        vertical-align: top;\n",
       "    }\n",
       "\n",
       "    .dataframe thead th {\n",
       "        text-align: right;\n",
       "    }\n",
       "</style>\n",
       "<table border=\"1\" class=\"dataframe\">\n",
       "  <thead>\n",
       "    <tr style=\"text-align: right;\">\n",
       "      <th></th>\n",
       "      <th>0</th>\n",
       "      <th>1</th>\n",
       "      <th>2</th>\n",
       "      <th>3</th>\n",
       "      <th>4</th>\n",
       "      <th>5</th>\n",
       "      <th>6</th>\n",
       "      <th>7</th>\n",
       "      <th>8</th>\n",
       "      <th>9</th>\n",
       "      <th>...</th>\n",
       "      <th>2294</th>\n",
       "      <th>2295</th>\n",
       "      <th>2296</th>\n",
       "      <th>2297</th>\n",
       "      <th>2298</th>\n",
       "      <th>2299</th>\n",
       "      <th>2300</th>\n",
       "      <th>2301</th>\n",
       "      <th>2302</th>\n",
       "      <th>2303</th>\n",
       "    </tr>\n",
       "  </thead>\n",
       "  <tbody>\n",
       "    <tr>\n",
       "      <th>0</th>\n",
       "      <td>0.305882</td>\n",
       "      <td>0.301961</td>\n",
       "      <td>0.298039</td>\n",
       "      <td>0.321569</td>\n",
       "      <td>0.341176</td>\n",
       "      <td>0.360784</td>\n",
       "      <td>0.407843</td>\n",
       "      <td>0.466667</td>\n",
       "      <td>0.458824</td>\n",
       "      <td>0.470588</td>\n",
       "      <td>...</td>\n",
       "      <td>0.341176</td>\n",
       "      <td>0.309804</td>\n",
       "      <td>0.282353</td>\n",
       "      <td>0.298039</td>\n",
       "      <td>0.325490</td>\n",
       "      <td>0.372549</td>\n",
       "      <td>0.388235</td>\n",
       "      <td>0.384314</td>\n",
       "      <td>0.372549</td>\n",
       "      <td>0.368627</td>\n",
       "    </tr>\n",
       "    <tr>\n",
       "      <th>1</th>\n",
       "      <td>0.286275</td>\n",
       "      <td>0.294118</td>\n",
       "      <td>0.309804</td>\n",
       "      <td>0.305882</td>\n",
       "      <td>0.298039</td>\n",
       "      <td>0.294118</td>\n",
       "      <td>0.349020</td>\n",
       "      <td>0.419608</td>\n",
       "      <td>0.521569</td>\n",
       "      <td>0.490196</td>\n",
       "      <td>...</td>\n",
       "      <td>0.376471</td>\n",
       "      <td>0.364706</td>\n",
       "      <td>0.333333</td>\n",
       "      <td>0.301961</td>\n",
       "      <td>0.270588</td>\n",
       "      <td>0.286275</td>\n",
       "      <td>0.325490</td>\n",
       "      <td>0.392157</td>\n",
       "      <td>0.396078</td>\n",
       "      <td>0.396078</td>\n",
       "    </tr>\n",
       "    <tr>\n",
       "      <th>2</th>\n",
       "      <td>0.282353</td>\n",
       "      <td>0.294118</td>\n",
       "      <td>0.309804</td>\n",
       "      <td>0.301961</td>\n",
       "      <td>0.317647</td>\n",
       "      <td>0.349020</td>\n",
       "      <td>0.411765</td>\n",
       "      <td>0.427451</td>\n",
       "      <td>0.337255</td>\n",
       "      <td>0.352941</td>\n",
       "      <td>...</td>\n",
       "      <td>0.384314</td>\n",
       "      <td>0.372549</td>\n",
       "      <td>0.345098</td>\n",
       "      <td>0.313725</td>\n",
       "      <td>0.286275</td>\n",
       "      <td>0.278431</td>\n",
       "      <td>0.290196</td>\n",
       "      <td>0.313725</td>\n",
       "      <td>0.349020</td>\n",
       "      <td>0.372549</td>\n",
       "    </tr>\n",
       "    <tr>\n",
       "      <th>3</th>\n",
       "      <td>0.262745</td>\n",
       "      <td>0.274510</td>\n",
       "      <td>0.290196</td>\n",
       "      <td>0.313725</td>\n",
       "      <td>0.364706</td>\n",
       "      <td>0.419608</td>\n",
       "      <td>0.431373</td>\n",
       "      <td>0.376471</td>\n",
       "      <td>0.270588</td>\n",
       "      <td>0.392157</td>\n",
       "      <td>...</td>\n",
       "      <td>0.439216</td>\n",
       "      <td>0.360784</td>\n",
       "      <td>0.341176</td>\n",
       "      <td>0.321569</td>\n",
       "      <td>0.301961</td>\n",
       "      <td>0.282353</td>\n",
       "      <td>0.274510</td>\n",
       "      <td>0.282353</td>\n",
       "      <td>0.317647</td>\n",
       "      <td>0.345098</td>\n",
       "    </tr>\n",
       "    <tr>\n",
       "      <th>4</th>\n",
       "      <td>0.290196</td>\n",
       "      <td>0.290196</td>\n",
       "      <td>0.286275</td>\n",
       "      <td>0.282353</td>\n",
       "      <td>0.301961</td>\n",
       "      <td>0.341176</td>\n",
       "      <td>0.407843</td>\n",
       "      <td>0.427451</td>\n",
       "      <td>0.329412</td>\n",
       "      <td>0.325490</td>\n",
       "      <td>...</td>\n",
       "      <td>0.392157</td>\n",
       "      <td>0.384314</td>\n",
       "      <td>0.388235</td>\n",
       "      <td>0.392157</td>\n",
       "      <td>0.388235</td>\n",
       "      <td>0.349020</td>\n",
       "      <td>0.305882</td>\n",
       "      <td>0.258824</td>\n",
       "      <td>0.266667</td>\n",
       "      <td>0.282353</td>\n",
       "    </tr>\n",
       "    <tr>\n",
       "      <th>5</th>\n",
       "      <td>0.266667</td>\n",
       "      <td>0.262745</td>\n",
       "      <td>0.278431</td>\n",
       "      <td>0.364706</td>\n",
       "      <td>0.458824</td>\n",
       "      <td>0.545098</td>\n",
       "      <td>0.411765</td>\n",
       "      <td>0.321569</td>\n",
       "      <td>0.274510</td>\n",
       "      <td>0.490196</td>\n",
       "      <td>...</td>\n",
       "      <td>0.352941</td>\n",
       "      <td>0.321569</td>\n",
       "      <td>0.349020</td>\n",
       "      <td>0.372549</td>\n",
       "      <td>0.392157</td>\n",
       "      <td>0.360784</td>\n",
       "      <td>0.321569</td>\n",
       "      <td>0.274510</td>\n",
       "      <td>0.266667</td>\n",
       "      <td>0.266667</td>\n",
       "    </tr>\n",
       "    <tr>\n",
       "      <th>6</th>\n",
       "      <td>0.247059</td>\n",
       "      <td>0.250980</td>\n",
       "      <td>0.258824</td>\n",
       "      <td>0.270588</td>\n",
       "      <td>0.294118</td>\n",
       "      <td>0.352941</td>\n",
       "      <td>0.462745</td>\n",
       "      <td>0.376471</td>\n",
       "      <td>0.321569</td>\n",
       "      <td>0.309804</td>\n",
       "      <td>...</td>\n",
       "      <td>0.364706</td>\n",
       "      <td>0.356863</td>\n",
       "      <td>0.360784</td>\n",
       "      <td>0.360784</td>\n",
       "      <td>0.368627</td>\n",
       "      <td>0.364706</td>\n",
       "      <td>0.337255</td>\n",
       "      <td>0.282353</td>\n",
       "      <td>0.270588</td>\n",
       "      <td>0.274510</td>\n",
       "    </tr>\n",
       "    <tr>\n",
       "      <th>7</th>\n",
       "      <td>0.262745</td>\n",
       "      <td>0.262745</td>\n",
       "      <td>0.274510</td>\n",
       "      <td>0.305882</td>\n",
       "      <td>0.443137</td>\n",
       "      <td>0.466667</td>\n",
       "      <td>0.392157</td>\n",
       "      <td>0.286275</td>\n",
       "      <td>0.321569</td>\n",
       "      <td>0.470588</td>\n",
       "      <td>...</td>\n",
       "      <td>0.419608</td>\n",
       "      <td>0.388235</td>\n",
       "      <td>0.337255</td>\n",
       "      <td>0.349020</td>\n",
       "      <td>0.368627</td>\n",
       "      <td>0.376471</td>\n",
       "      <td>0.368627</td>\n",
       "      <td>0.313725</td>\n",
       "      <td>0.270588</td>\n",
       "      <td>0.243137</td>\n",
       "    </tr>\n",
       "    <tr>\n",
       "      <th>8</th>\n",
       "      <td>0.368627</td>\n",
       "      <td>0.482353</td>\n",
       "      <td>0.541176</td>\n",
       "      <td>0.384314</td>\n",
       "      <td>0.301961</td>\n",
       "      <td>0.309804</td>\n",
       "      <td>0.427451</td>\n",
       "      <td>0.694118</td>\n",
       "      <td>0.878431</td>\n",
       "      <td>0.968627</td>\n",
       "      <td>...</td>\n",
       "      <td>0.407843</td>\n",
       "      <td>0.388235</td>\n",
       "      <td>0.368627</td>\n",
       "      <td>0.349020</td>\n",
       "      <td>0.352941</td>\n",
       "      <td>0.360784</td>\n",
       "      <td>0.360784</td>\n",
       "      <td>0.321569</td>\n",
       "      <td>0.278431</td>\n",
       "      <td>0.247059</td>\n",
       "    </tr>\n",
       "    <tr>\n",
       "      <th>9</th>\n",
       "      <td>0.262745</td>\n",
       "      <td>0.294118</td>\n",
       "      <td>0.380392</td>\n",
       "      <td>0.478431</td>\n",
       "      <td>0.450980</td>\n",
       "      <td>0.349020</td>\n",
       "      <td>0.286275</td>\n",
       "      <td>0.317647</td>\n",
       "      <td>0.549020</td>\n",
       "      <td>0.803922</td>\n",
       "      <td>...</td>\n",
       "      <td>0.509804</td>\n",
       "      <td>0.431373</td>\n",
       "      <td>0.400000</td>\n",
       "      <td>0.384314</td>\n",
       "      <td>0.372549</td>\n",
       "      <td>0.356863</td>\n",
       "      <td>0.294118</td>\n",
       "      <td>0.274510</td>\n",
       "      <td>0.270588</td>\n",
       "      <td>0.278431</td>\n",
       "    </tr>\n",
       "  </tbody>\n",
       "</table>\n",
       "<p>10 rows × 2304 columns</p>\n",
       "</div>"
      ],
      "text/plain": [
       "          0         1         2         3         4         5         6  \\\n",
       "0  0.305882  0.301961  0.298039  0.321569  0.341176  0.360784  0.407843   \n",
       "1  0.286275  0.294118  0.309804  0.305882  0.298039  0.294118  0.349020   \n",
       "2  0.282353  0.294118  0.309804  0.301961  0.317647  0.349020  0.411765   \n",
       "3  0.262745  0.274510  0.290196  0.313725  0.364706  0.419608  0.431373   \n",
       "4  0.290196  0.290196  0.286275  0.282353  0.301961  0.341176  0.407843   \n",
       "5  0.266667  0.262745  0.278431  0.364706  0.458824  0.545098  0.411765   \n",
       "6  0.247059  0.250980  0.258824  0.270588  0.294118  0.352941  0.462745   \n",
       "7  0.262745  0.262745  0.274510  0.305882  0.443137  0.466667  0.392157   \n",
       "8  0.368627  0.482353  0.541176  0.384314  0.301961  0.309804  0.427451   \n",
       "9  0.262745  0.294118  0.380392  0.478431  0.450980  0.349020  0.286275   \n",
       "\n",
       "          7         8         9  ...      2294      2295      2296      2297  \\\n",
       "0  0.466667  0.458824  0.470588  ...  0.341176  0.309804  0.282353  0.298039   \n",
       "1  0.419608  0.521569  0.490196  ...  0.376471  0.364706  0.333333  0.301961   \n",
       "2  0.427451  0.337255  0.352941  ...  0.384314  0.372549  0.345098  0.313725   \n",
       "3  0.376471  0.270588  0.392157  ...  0.439216  0.360784  0.341176  0.321569   \n",
       "4  0.427451  0.329412  0.325490  ...  0.392157  0.384314  0.388235  0.392157   \n",
       "5  0.321569  0.274510  0.490196  ...  0.352941  0.321569  0.349020  0.372549   \n",
       "6  0.376471  0.321569  0.309804  ...  0.364706  0.356863  0.360784  0.360784   \n",
       "7  0.286275  0.321569  0.470588  ...  0.419608  0.388235  0.337255  0.349020   \n",
       "8  0.694118  0.878431  0.968627  ...  0.407843  0.388235  0.368627  0.349020   \n",
       "9  0.317647  0.549020  0.803922  ...  0.509804  0.431373  0.400000  0.384314   \n",
       "\n",
       "       2298      2299      2300      2301      2302      2303  \n",
       "0  0.325490  0.372549  0.388235  0.384314  0.372549  0.368627  \n",
       "1  0.270588  0.286275  0.325490  0.392157  0.396078  0.396078  \n",
       "2  0.286275  0.278431  0.290196  0.313725  0.349020  0.372549  \n",
       "3  0.301961  0.282353  0.274510  0.282353  0.317647  0.345098  \n",
       "4  0.388235  0.349020  0.305882  0.258824  0.266667  0.282353  \n",
       "5  0.392157  0.360784  0.321569  0.274510  0.266667  0.266667  \n",
       "6  0.368627  0.364706  0.337255  0.282353  0.270588  0.274510  \n",
       "7  0.368627  0.376471  0.368627  0.313725  0.270588  0.243137  \n",
       "8  0.352941  0.360784  0.360784  0.321569  0.278431  0.247059  \n",
       "9  0.372549  0.356863  0.294118  0.274510  0.270588  0.278431  \n",
       "\n",
       "[10 rows x 2304 columns]"
      ]
     },
     "execution_count": 142,
     "metadata": {},
     "output_type": "execute_result"
    }
   ],
   "source": [
    "scaled=Features_data/255\n",
    "scaled.head(10)"
   ]
  },
  {
   "cell_type": "code",
   "execution_count": 143,
   "metadata": {},
   "outputs": [],
   "source": [
    "# Define per-fold score containers \n",
    "acc_per_fold = []\n",
    "loss_per_fold = []\n",
    "kfold = KFold(n_splits=num_folds, shuffle=True)"
   ]
  },
  {
   "cell_type": "code",
   "execution_count": 144,
   "metadata": {},
   "outputs": [
    {
     "data": {
      "text/plain": [
       "(9690, 2304)"
      ]
     },
     "execution_count": 144,
     "metadata": {},
     "output_type": "execute_result"
    }
   ],
   "source": [
    "scaled.shape"
   ]
  },
  {
   "cell_type": "code",
   "execution_count": 145,
   "metadata": {},
   "outputs": [
    {
     "name": "stdout",
     "output_type": "stream",
     "text": [
      "(9690, 48, 48, 1)\n"
     ]
    }
   ],
   "source": [
    "Features_modified=Features.reshape(9690,48,48)\n",
    "train_data = np.expand_dims(Features_modified, -1)\n",
    "\n",
    "print(train_data.shape)"
   ]
  },
  {
   "cell_type": "code",
   "execution_count": 146,
   "metadata": {},
   "outputs": [
    {
     "name": "stdout",
     "output_type": "stream",
     "text": [
      "number of classes: 10\n"
     ]
    }
   ],
   "source": [
    "K = len(set(labels1))\n",
    "print(\"number of classes:\", K)"
   ]
  },
  {
   "cell_type": "code",
   "execution_count": 147,
   "metadata": {},
   "outputs": [
    {
     "name": "stdout",
     "output_type": "stream",
     "text": [
      "(8721,) (969,)\n",
      "------------------------------------------------------------------------\n",
      "Training for fold 1 ...\n",
      "Epoch 1/15\n",
      "273/273 [==============================] - 7s 26ms/step - loss: 0.8849 - accuracy: 0.6879\n",
      "Epoch 2/15\n",
      "273/273 [==============================] - 7s 26ms/step - loss: 0.1866 - accuracy: 0.9428\n",
      "Epoch 3/15\n",
      "273/273 [==============================] - 7s 26ms/step - loss: 0.0883 - accuracy: 0.9747\n",
      "Epoch 4/15\n",
      "273/273 [==============================] - 7s 26ms/step - loss: 0.0637 - accuracy: 0.9792\n",
      "Epoch 5/15\n",
      "273/273 [==============================] - 7s 26ms/step - loss: 0.0431 - accuracy: 0.9886\n",
      "Epoch 6/15\n",
      "273/273 [==============================] - 7s 26ms/step - loss: 0.0367 - accuracy: 0.9888\n",
      "Epoch 7/15\n",
      "273/273 [==============================] - 7s 26ms/step - loss: 0.0187 - accuracy: 0.9950\n",
      "Epoch 8/15\n",
      "273/273 [==============================] - 7s 27ms/step - loss: 0.0399 - accuracy: 0.9868\n",
      "Epoch 9/15\n",
      "273/273 [==============================] - 7s 26ms/step - loss: 0.0218 - accuracy: 0.9923\n",
      "Epoch 10/15\n",
      "273/273 [==============================] - 7s 26ms/step - loss: 0.0240 - accuracy: 0.9927\n",
      "Epoch 11/15\n",
      "273/273 [==============================] - 8s 28ms/step - loss: 0.0170 - accuracy: 0.9948\n",
      "Epoch 12/15\n",
      "273/273 [==============================] - 8s 28ms/step - loss: 0.0093 - accuracy: 0.9971\n",
      "Epoch 13/15\n",
      "273/273 [==============================] - 7s 27ms/step - loss: 0.0185 - accuracy: 0.9950\n",
      "Epoch 14/15\n",
      "273/273 [==============================] - 8s 29ms/step - loss: 0.0118 - accuracy: 0.9969\n",
      "Epoch 15/15\n",
      "273/273 [==============================] - 8s 29ms/step - loss: 0.0095 - accuracy: 0.9970\n",
      "Score for fold 1: loss of 0.09278292953968048; accuracy of 98.3488142490387%\n",
      "(8721,) (969,)\n",
      "------------------------------------------------------------------------\n",
      "Training for fold 2 ...\n",
      "Epoch 1/15\n",
      "273/273 [==============================] - 7s 25ms/step - loss: 0.8869 - accuracy: 0.6762\n",
      "Epoch 2/15\n",
      "273/273 [==============================] - 7s 27ms/step - loss: 0.1968 - accuracy: 0.9388\n",
      "Epoch 3/15\n",
      "273/273 [==============================] - 8s 28ms/step - loss: 0.1055 - accuracy: 0.9649\n",
      "Epoch 4/15\n",
      "273/273 [==============================] - 8s 28ms/step - loss: 0.0688 - accuracy: 0.9791\n",
      "Epoch 5/15\n",
      "273/273 [==============================] - 8s 28ms/step - loss: 0.0475 - accuracy: 0.9844\n",
      "Epoch 6/15\n",
      "273/273 [==============================] - 7s 27ms/step - loss: 0.0376 - accuracy: 0.9891\n",
      "Epoch 7/15\n",
      "273/273 [==============================] - 7s 27ms/step - loss: 0.0344 - accuracy: 0.9896\n",
      "Epoch 8/15\n",
      "273/273 [==============================] - 7s 27ms/step - loss: 0.0356 - accuracy: 0.9884\n",
      "Epoch 9/15\n",
      "273/273 [==============================] - 8s 28ms/step - loss: 0.0215 - accuracy: 0.9924\n",
      "Epoch 10/15\n",
      "273/273 [==============================] - 8s 28ms/step - loss: 0.0297 - accuracy: 0.9916\n",
      "Epoch 11/15\n",
      "273/273 [==============================] - 8s 28ms/step - loss: 0.0116 - accuracy: 0.9967\n",
      "Epoch 12/15\n",
      "273/273 [==============================] - 8s 28ms/step - loss: 0.0207 - accuracy: 0.9939\n",
      "Epoch 13/15\n",
      "273/273 [==============================] - 8s 30ms/step - loss: 0.0115 - accuracy: 0.9958\n",
      "Epoch 14/15\n",
      "273/273 [==============================] - 8s 28ms/step - loss: 0.0138 - accuracy: 0.9951\n",
      "Epoch 15/15\n",
      "273/273 [==============================] - 8s 30ms/step - loss: 0.0233 - accuracy: 0.9946\n",
      "Score for fold 2: loss of 0.030014608055353165; accuracy of 98.76161217689514%\n",
      "(8721,) (969,)\n",
      "------------------------------------------------------------------------\n",
      "Training for fold 3 ...\n",
      "Epoch 1/15\n",
      "273/273 [==============================] - 7s 27ms/step - loss: 0.8893 - accuracy: 0.6844\n",
      "Epoch 2/15\n",
      "273/273 [==============================] - 8s 30ms/step - loss: 0.1592 - accuracy: 0.9508\n",
      "Epoch 3/15\n",
      "273/273 [==============================] - 8s 28ms/step - loss: 0.0910 - accuracy: 0.9733\n",
      "Epoch 4/15\n",
      "273/273 [==============================] - 8s 30ms/step - loss: 0.0623 - accuracy: 0.9822\n",
      "Epoch 5/15\n",
      "273/273 [==============================] - 8s 29ms/step - loss: 0.0446 - accuracy: 0.9862 0s - l\n",
      "Epoch 6/15\n",
      "273/273 [==============================] - 8s 30ms/step - loss: 0.0427 - accuracy: 0.9864\n",
      "Epoch 7/15\n",
      "273/273 [==============================] - 9s 31ms/step - loss: 0.0280 - accuracy: 0.9917\n",
      "Epoch 8/15\n",
      "273/273 [==============================] - 8s 29ms/step - loss: 0.0337 - accuracy: 0.9891\n",
      "Epoch 9/15\n",
      "273/273 [==============================] - 8s 29ms/step - loss: 0.0256 - accuracy: 0.9909\n",
      "Epoch 10/15\n",
      "273/273 [==============================] - 8s 31ms/step - loss: 0.0189 - accuracy: 0.9945\n",
      "Epoch 11/15\n",
      "273/273 [==============================] - 8s 30ms/step - loss: 0.0186 - accuracy: 0.9946\n",
      "Epoch 12/15\n",
      "273/273 [==============================] - 9s 31ms/step - loss: 0.0161 - accuracy: 0.9950\n",
      "Epoch 13/15\n",
      "273/273 [==============================] - 8s 30ms/step - loss: 0.0068 - accuracy: 0.9982\n",
      "Epoch 14/15\n",
      "273/273 [==============================] - 8s 30ms/step - loss: 0.0139 - accuracy: 0.9959\n",
      "Epoch 15/15\n",
      "273/273 [==============================] - 8s 31ms/step - loss: 0.0142 - accuracy: 0.9963\n",
      "Score for fold 3: loss of 0.06754699349403381; accuracy of 97.93601632118225%\n",
      "(8721,) (969,)\n",
      "------------------------------------------------------------------------\n",
      "Training for fold 4 ...\n",
      "Epoch 1/15\n",
      "273/273 [==============================] - 8s 29ms/step - loss: 0.8392 - accuracy: 0.7040\n",
      "Epoch 2/15\n",
      "273/273 [==============================] - 9s 32ms/step - loss: 0.1692 - accuracy: 0.9463\n",
      "Epoch 3/15\n",
      "273/273 [==============================] - 9s 31ms/step - loss: 0.0901 - accuracy: 0.9705\n",
      "Epoch 4/15\n",
      "273/273 [==============================] - 9s 32ms/step - loss: 0.0694 - accuracy: 0.9795\n",
      "Epoch 5/15\n",
      "273/273 [==============================] - 10s 35ms/step - loss: 0.0476 - accuracy: 0.9856\n",
      "Epoch 6/15\n",
      "273/273 [==============================] - 10s 36ms/step - loss: 0.0348 - accuracy: 0.9903\n",
      "Epoch 7/15\n",
      "273/273 [==============================] - 9s 34ms/step - loss: 0.0255 - accuracy: 0.9924\n",
      "Epoch 8/15\n",
      "273/273 [==============================] - 9s 32ms/step - loss: 0.0344 - accuracy: 0.9895\n",
      "Epoch 9/15\n",
      "273/273 [==============================] - 9s 32ms/step - loss: 0.0272 - accuracy: 0.9900\n",
      "Epoch 10/15\n",
      "273/273 [==============================] - 9s 33ms/step - loss: 0.0158 - accuracy: 0.9942\n",
      "Epoch 11/15\n",
      "273/273 [==============================] - 9s 33ms/step - loss: 0.0149 - accuracy: 0.9958\n",
      "Epoch 12/15\n",
      "273/273 [==============================] - 9s 32ms/step - loss: 0.0215 - accuracy: 0.9940\n",
      "Epoch 13/15\n",
      "273/273 [==============================] - 9s 32ms/step - loss: 0.0067 - accuracy: 0.9982\n",
      "Epoch 14/15\n",
      "273/273 [==============================] - 9s 33ms/step - loss: 0.0446 - accuracy: 0.9867\n",
      "Epoch 15/15\n",
      "273/273 [==============================] - 9s 34ms/step - loss: 0.0124 - accuracy: 0.9968\n",
      "Score for fold 4: loss of 0.029460100457072258; accuracy of 99.27760362625122%\n",
      "(8721,) (969,)\n",
      "------------------------------------------------------------------------\n",
      "Training for fold 5 ...\n",
      "Epoch 1/15\n",
      "273/273 [==============================] - 8s 31ms/step - loss: 0.8794 - accuracy: 0.6828\n",
      "Epoch 2/15\n",
      "273/273 [==============================] - 10s 38ms/step - loss: 0.1751 - accuracy: 0.9462\n",
      "Epoch 3/15\n",
      "273/273 [==============================] - 10s 37ms/step - loss: 0.0956 - accuracy: 0.9690\n",
      "Epoch 4/15\n",
      "273/273 [==============================] - 9s 32ms/step - loss: 0.0607 - accuracy: 0.9813\n",
      "Epoch 5/15\n",
      "273/273 [==============================] - 11s 42ms/step - loss: 0.0527 - accuracy: 0.9833\n",
      "Epoch 6/15\n",
      "273/273 [==============================] - 13s 48ms/step - loss: 0.0375 - accuracy: 0.9885\n",
      "Epoch 7/15\n",
      "273/273 [==============================] - 14s 52ms/step - loss: 0.0301 - accuracy: 0.9905\n",
      "Epoch 8/15\n",
      "273/273 [==============================] - 14s 50ms/step - loss: 0.0298 - accuracy: 0.9904\n",
      "Epoch 9/15\n",
      "273/273 [==============================] - 13s 49ms/step - loss: 0.0231 - accuracy: 0.9932\n",
      "Epoch 10/15\n",
      "273/273 [==============================] - 13s 47ms/step - loss: 0.0174 - accuracy: 0.9951\n",
      "Epoch 11/15\n",
      "273/273 [==============================] - 11s 41ms/step - loss: 0.0159 - accuracy: 0.9951\n",
      "Epoch 12/15\n",
      "273/273 [==============================] - 11s 39ms/step - loss: 0.0248 - accuracy: 0.9935\n",
      "Epoch 13/15\n"
     ]
    },
    {
     "name": "stdout",
     "output_type": "stream",
     "text": [
      "273/273 [==============================] - 10s 38ms/step - loss: 0.0088 - accuracy: 0.9972\n",
      "Epoch 14/15\n",
      "273/273 [==============================] - 10s 38ms/step - loss: 0.0175 - accuracy: 0.9939\n",
      "Epoch 15/15\n",
      "273/273 [==============================] - 10s 35ms/step - loss: 0.0191 - accuracy: 0.9940\n",
      "Score for fold 5: loss of 0.012920216657221317; accuracy of 99.48400259017944%\n",
      "(8721,) (969,)\n",
      "------------------------------------------------------------------------\n",
      "Training for fold 6 ...\n",
      "Epoch 1/15\n",
      "273/273 [==============================] - 9s 33ms/step - loss: 0.8603 - accuracy: 0.6951 1s - loss: 0.9746 - accu -\n",
      "Epoch 2/15\n",
      "273/273 [==============================] - 10s 36ms/step - loss: 0.1743 - accuracy: 0.9468\n",
      "Epoch 3/15\n",
      "273/273 [==============================] - 10s 35ms/step - loss: 0.0864 - accuracy: 0.9731\n",
      "Epoch 4/15\n",
      "273/273 [==============================] - 10s 36ms/step - loss: 0.0598 - accuracy: 0.9811\n",
      "Epoch 5/15\n",
      "273/273 [==============================] - 11s 42ms/step - loss: 0.0431 - accuracy: 0.9860\n",
      "Epoch 6/15\n",
      "273/273 [==============================] - 11s 39ms/step - loss: 0.0320 - accuracy: 0.9890\n",
      "Epoch 7/15\n",
      "273/273 [==============================] - 9s 33ms/step - loss: 0.0284 - accuracy: 0.9905\n",
      "Epoch 8/15\n",
      "273/273 [==============================] - 10s 38ms/step - loss: 0.0296 - accuracy: 0.9922\n",
      "Epoch 9/15\n",
      "273/273 [==============================] - 12s 44ms/step - loss: 0.0235 - accuracy: 0.9928\n",
      "Epoch 10/15\n",
      "273/273 [==============================] - 8s 30ms/step - loss: 0.0223 - accuracy: 0.9942\n",
      "Epoch 11/15\n",
      "273/273 [==============================] - 10s 35ms/step - loss: 0.0111 - accuracy: 0.9966\n",
      "Epoch 12/15\n",
      "273/273 [==============================] - 10s 38ms/step - loss: 0.0180 - accuracy: 0.9945\n",
      "Epoch 13/15\n",
      "273/273 [==============================] - 10s 35ms/step - loss: 0.0219 - accuracy: 0.9938\n",
      "Epoch 14/15\n",
      "273/273 [==============================] - 9s 34ms/step - loss: 0.0118 - accuracy: 0.9961\n",
      "Epoch 15/15\n",
      "273/273 [==============================] - 9s 32ms/step - loss: 0.0113 - accuracy: 0.9964 0s - loss: 0.0111 - \n",
      "Score for fold 6: loss of 0.07727234810590744; accuracy of 98.65841269493103%\n",
      "(8721,) (969,)\n",
      "------------------------------------------------------------------------\n",
      "Training for fold 7 ...\n",
      "Epoch 1/15\n",
      "273/273 [==============================] - 8s 28ms/step - loss: 0.9410 - accuracy: 0.6607\n",
      "Epoch 2/15\n",
      "273/273 [==============================] - 9s 31ms/step - loss: 0.1896 - accuracy: 0.9405\n",
      "Epoch 3/15\n",
      "273/273 [==============================] - 9s 34ms/step - loss: 0.1001 - accuracy: 0.9686\n",
      "Epoch 4/15\n",
      "273/273 [==============================] - 9s 33ms/step - loss: 0.0645 - accuracy: 0.9804\n",
      "Epoch 5/15\n",
      "273/273 [==============================] - 9s 33ms/step - loss: 0.0521 - accuracy: 0.9839\n",
      "Epoch 6/15\n",
      "273/273 [==============================] - 9s 33ms/step - loss: 0.0394 - accuracy: 0.9881\n",
      "Epoch 7/15\n",
      "273/273 [==============================] - 9s 33ms/step - loss: 0.0276 - accuracy: 0.9915\n",
      "Epoch 8/15\n",
      "273/273 [==============================] - 10s 37ms/step - loss: 0.0309 - accuracy: 0.9895\n",
      "Epoch 9/15\n",
      "273/273 [==============================] - 11s 41ms/step - loss: 0.0221 - accuracy: 0.9936\n",
      "Epoch 10/15\n",
      "273/273 [==============================] - 10s 36ms/step - loss: 0.0172 - accuracy: 0.9953\n",
      "Epoch 11/15\n",
      "273/273 [==============================] - 9s 35ms/step - loss: 0.0188 - accuracy: 0.9945\n",
      "Epoch 12/15\n",
      "273/273 [==============================] - 10s 35ms/step - loss: 0.0370 - accuracy: 0.9893\n",
      "Epoch 13/15\n",
      "273/273 [==============================] - 10s 36ms/step - loss: 0.0111 - accuracy: 0.9972\n",
      "Epoch 14/15\n",
      "273/273 [==============================] - 9s 35ms/step - loss: 0.0144 - accuracy: 0.9960\n",
      "Epoch 15/15\n",
      "273/273 [==============================] - 10s 35ms/step - loss: 0.0145 - accuracy: 0.9963\n",
      "Score for fold 7: loss of 0.05279642343521118; accuracy of 98.76161217689514%\n",
      "(8721,) (969,)\n",
      "------------------------------------------------------------------------\n",
      "Training for fold 8 ...\n",
      "Epoch 1/15\n",
      "273/273 [==============================] - 10s 36ms/step - loss: 0.8858 - accuracy: 0.6848\n",
      "Epoch 2/15\n",
      "273/273 [==============================] - 10s 37ms/step - loss: 0.1700 - accuracy: 0.9465\n",
      "Epoch 3/15\n",
      "273/273 [==============================] - 10s 37ms/step - loss: 0.0961 - accuracy: 0.9689\n",
      "Epoch 4/15\n",
      "273/273 [==============================] - 10s 37ms/step - loss: 0.0515 - accuracy: 0.9833\n",
      "Epoch 5/15\n",
      "273/273 [==============================] - 10s 37ms/step - loss: 0.0460 - accuracy: 0.9850\n",
      "Epoch 6/15\n",
      "273/273 [==============================] - 10s 37ms/step - loss: 0.0371 - accuracy: 0.98830s - loss: 0.0372 - accu\n",
      "Epoch 7/15\n",
      "273/273 [==============================] - 10s 37ms/step - loss: 0.0362 - accuracy: 0.9896\n",
      "Epoch 8/15\n",
      "273/273 [==============================] - 10s 36ms/step - loss: 0.0316 - accuracy: 0.9900\n",
      "Epoch 9/15\n",
      "273/273 [==============================] - 10s 37ms/step - loss: 0.0172 - accuracy: 0.9953\n",
      "Epoch 10/15\n",
      "273/273 [==============================] - 10s 38ms/step - loss: 0.0202 - accuracy: 0.9935\n",
      "Epoch 11/15\n",
      "273/273 [==============================] - 10s 36ms/step - loss: 0.0190 - accuracy: 0.9943\n",
      "Epoch 12/15\n",
      "273/273 [==============================] - 10s 37ms/step - loss: 0.0110 - accuracy: 0.9962\n",
      "Epoch 13/15\n",
      "273/273 [==============================] - 12s 43ms/step - loss: 0.0105 - accuracy: 0.9971\n",
      "Epoch 14/15\n",
      "273/273 [==============================] - 10s 37ms/step - loss: 0.0088 - accuracy: 0.9974\n",
      "Epoch 15/15\n",
      "273/273 [==============================] - 10s 37ms/step - loss: 0.0274 - accuracy: 0.9923\n",
      "Score for fold 8: loss of 0.032454714179039; accuracy of 99.48400259017944%\n",
      "(8721,) (969,)\n",
      "------------------------------------------------------------------------\n",
      "Training for fold 9 ...\n",
      "Epoch 1/15\n",
      "273/273 [==============================] - 10s 35ms/step - loss: 0.9266 - accuracy: 0.6659\n",
      "Epoch 2/15\n",
      "273/273 [==============================] - 10s 37ms/step - loss: 0.1966 - accuracy: 0.9393\n",
      "Epoch 3/15\n",
      "273/273 [==============================] - 11s 40ms/step - loss: 0.1001 - accuracy: 0.9690\n",
      "Epoch 4/15\n",
      "273/273 [==============================] - 10s 38ms/step - loss: 0.0671 - accuracy: 0.9784\n",
      "Epoch 5/15\n",
      "273/273 [==============================] - 10s 36ms/step - loss: 0.0493 - accuracy: 0.9850\n",
      "Epoch 6/15\n",
      "273/273 [==============================] - 10s 38ms/step - loss: 0.0373 - accuracy: 0.9892\n",
      "Epoch 7/15\n",
      "273/273 [==============================] - 10s 38ms/step - loss: 0.0398 - accuracy: 0.9878\n",
      "Epoch 8/15\n",
      "273/273 [==============================] - 11s 39ms/step - loss: 0.0229 - accuracy: 0.9924\n",
      "Epoch 9/15\n",
      "273/273 [==============================] - 13s 49ms/step - loss: 0.0368 - accuracy: 0.9884\n",
      "Epoch 10/15\n",
      "273/273 [==============================] - 12s 42ms/step - loss: 0.0206 - accuracy: 0.9943\n",
      "Epoch 11/15\n",
      "273/273 [==============================] - 12s 44ms/step - loss: 0.0185 - accuracy: 0.9935\n",
      "Epoch 12/15\n",
      "273/273 [==============================] - 10s 38ms/step - loss: 0.0185 - accuracy: 0.9950\n",
      "Epoch 13/15\n",
      "273/273 [==============================] - 11s 40ms/step - loss: 0.0282 - accuracy: 0.9924\n",
      "Epoch 14/15\n",
      "273/273 [==============================] - 11s 41ms/step - loss: 0.0154 - accuracy: 0.9958\n",
      "Epoch 15/15\n",
      "273/273 [==============================] - 11s 38ms/step - loss: 0.0162 - accuracy: 0.9953\n",
      "Score for fold 9: loss of 0.06881771236658096; accuracy of 98.86481165885925%\n",
      "(8721,) (969,)\n",
      "------------------------------------------------------------------------\n",
      "Training for fold 10 ...\n",
      "Epoch 1/15\n",
      "273/273 [==============================] - 9s 35ms/step - loss: 0.8973 - accuracy: 0.6846\n",
      "Epoch 2/15\n",
      "273/273 [==============================] - 11s 39ms/step - loss: 0.1894 - accuracy: 0.9392\n",
      "Epoch 3/15\n",
      "273/273 [==============================] - 11s 39ms/step - loss: 0.0989 - accuracy: 0.9675\n",
      "Epoch 4/15\n",
      "273/273 [==============================] - 10s 38ms/step - loss: 0.0676 - accuracy: 0.9784\n",
      "Epoch 5/15\n",
      "273/273 [==============================] - 11s 39ms/step - loss: 0.0459 - accuracy: 0.9849\n",
      "Epoch 6/15\n",
      "273/273 [==============================] - 10s 37ms/step - loss: 0.0526 - accuracy: 0.9838\n",
      "Epoch 7/15\n",
      "273/273 [==============================] - 10s 38ms/step - loss: 0.0347 - accuracy: 0.9892\n",
      "Epoch 8/15\n",
      "273/273 [==============================] - 10s 36ms/step - loss: 0.0299 - accuracy: 0.9903\n",
      "Epoch 9/15\n",
      "273/273 [==============================] - 11s 40ms/step - loss: 0.0202 - accuracy: 0.9937\n",
      "Epoch 10/15\n",
      "273/273 [==============================] - 10s 38ms/step - loss: 0.0224 - accuracy: 0.9922\n",
      "Epoch 11/15\n",
      "273/273 [==============================] - 10s 38ms/step - loss: 0.0116 - accuracy: 0.9961\n",
      "Epoch 12/15\n",
      "273/273 [==============================] - 11s 39ms/step - loss: 0.0159 - accuracy: 0.9952\n",
      "Epoch 13/15\n",
      "273/273 [==============================] - 11s 41ms/step - loss: 0.0245 - accuracy: 0.9933\n",
      "Epoch 14/15\n",
      "273/273 [==============================] - 10s 38ms/step - loss: 0.0224 - accuracy: 0.9946\n",
      "Epoch 15/15\n",
      "273/273 [==============================] - 10s 38ms/step - loss: 0.0092 - accuracy: 0.9976\n",
      "Score for fold 10: loss of 0.08124011009931564; accuracy of 98.65841269493103%\n"
     ]
    }
   ],
   "source": [
    "# K-fold Cross Validation model evaluation\n",
    "fold_no = 1\n",
    "for train, test in kfold.split(scaled, labels1):\n",
    "  print(train.shape,test.shape)\n",
    "  # Define the model architecture\n",
    "  i = Input(shape=train_data[0].shape)                          #\n",
    "  x = Conv2D(32, (3, 3), strides=2, activation='relu')(i)\n",
    "  x = Conv2D(64, (3, 3), strides=2, activation='relu')(x)\n",
    "  x = Conv2D(128, (3, 3), strides=2, activation='relu')(x)\n",
    "  x = Flatten()(x)   # converts image into a feature vector\n",
    "  x = Dropout(0.2)(x)\n",
    "  x = Dense(512, activation='relu')(x)\n",
    "  x = Dropout(0.2)(x)\n",
    "  x = Dense(K, activation='softmax')(x)   # k output points\n",
    "\n",
    "  model = Model(i, x)\n",
    "\n",
    "  # Compile the model\n",
    "  model.compile(optimizer='adam',\n",
    "              loss='sparse_categorical_crossentropy',\n",
    "              metrics=['accuracy'])\n",
    "\n",
    "  # Generate a print\n",
    "  print('------------------------------------------------------------------------')\n",
    "  print(f'Training for fold {fold_no} ...')\n",
    "\n",
    "  # Fit data to model\n",
    "  r = model.fit(train_data[train], labels1[train], epochs=15)\n",
    "  \n",
    "\n",
    "  scores = model.evaluate(train_data[test], labels1[test], verbose=0)\n",
    "  print(f'Score for fold {fold_no}: {model.metrics_names[0]} of {scores[0]}; {model.metrics_names[1]} of {scores[1]*100}%')\n",
    "  acc_per_fold.append(scores[1] * 100)\n",
    "  loss_per_fold.append(scores[0])\n",
    "  # Increase fold number\n",
    "  fold_no = fold_no + 1\n"
   ]
  },
  {
   "cell_type": "code",
   "execution_count": 149,
   "metadata": {},
   "outputs": [
    {
     "name": "stdout",
     "output_type": "stream",
     "text": [
      "------------------------------------------------------------------------\n",
      "Score per fold\n",
      "------------------------------------------------------------------------\n",
      "> Fold 1 - Loss: 0.09278292953968048 - Accuracy: 98.3488142490387%\n",
      "------------------------------------------------------------------------\n",
      "> Fold 2 - Loss: 0.030014608055353165 - Accuracy: 98.76161217689514%\n",
      "------------------------------------------------------------------------\n",
      "> Fold 3 - Loss: 0.06754699349403381 - Accuracy: 97.93601632118225%\n",
      "------------------------------------------------------------------------\n",
      "> Fold 4 - Loss: 0.029460100457072258 - Accuracy: 99.27760362625122%\n",
      "------------------------------------------------------------------------\n",
      "> Fold 5 - Loss: 0.012920216657221317 - Accuracy: 99.48400259017944%\n",
      "------------------------------------------------------------------------\n",
      "> Fold 6 - Loss: 0.07727234810590744 - Accuracy: 98.65841269493103%\n",
      "------------------------------------------------------------------------\n",
      "> Fold 7 - Loss: 0.05279642343521118 - Accuracy: 98.76161217689514%\n",
      "------------------------------------------------------------------------\n",
      "> Fold 8 - Loss: 0.032454714179039 - Accuracy: 99.48400259017944%\n",
      "------------------------------------------------------------------------\n",
      "> Fold 9 - Loss: 0.06881771236658096 - Accuracy: 98.86481165885925%\n",
      "------------------------------------------------------------------------\n",
      "> Fold 10 - Loss: 0.08124011009931564 - Accuracy: 98.65841269493103%\n",
      "------------------------------------------------------------------------\n",
      "Average scores for all folds:\n",
      "> Accuracy: 98.82353007793427 (+- 0.46428070980535757)\n",
      "> Loss: 0.05453061563894153\n",
      "------------------------------------------------------------------------\n"
     ]
    }
   ],
   "source": [
    "print('------------------------------------------------------------------------')\n",
    "print('Score per fold')\n",
    "for i in range(0, len(acc_per_fold)):\n",
    "  print('------------------------------------------------------------------------')\n",
    "  print(f'> Fold {i+1} - Loss: {loss_per_fold[i]} - Accuracy: {acc_per_fold[i]}%')\n",
    "print('------------------------------------------------------------------------')\n",
    "print('Average scores for all folds:')\n",
    "print(f'> Accuracy: {np.mean(acc_per_fold)} (+- {np.std(acc_per_fold)})')\n",
    "print(f'> Loss: {np.mean(loss_per_fold)}')\n",
    "print('------------------------------------------------------------------------')"
   ]
  },
  {
   "cell_type": "markdown",
   "metadata": {},
   "source": [
    "# Summary"
   ]
  },
  {
   "cell_type": "code",
   "execution_count": 546,
   "metadata": {},
   "outputs": [],
   "source": [
    "algo=['ann','cnn_train_test','CNN_TEST_NONE MODIFIED','CNN_CV','cnntrain_test9000_SPLIT','cnntrain_test4000_SPLIT']\n",
    "accuracy=[0.9325,0.9955,0.955,0.98,0.991,0.9978]\n",
    "import matplotlib.pyplot as plt\n"
   ]
  },
  {
   "cell_type": "code",
   "execution_count": 547,
   "metadata": {
    "scrolled": true
   },
   "outputs": [
    {
     "data": {
      "text/plain": [
       "([0, 1, 2, 3, 4, 5], <a list of 6 Text major ticklabel objects>)"
      ]
     },
     "execution_count": 547,
     "metadata": {},
     "output_type": "execute_result"
    },
    {
     "data": {
      "image/png": "[encoded data removed]",
      "text/plain": [
       "<Figure size 432x288 with 1 Axes>"
      ]
     },
     "metadata": {
      "needs_background": "light"
     },
     "output_type": "display_data"
    }
   ],
   "source": [
    "plt.plot(algo,accuracy)\n",
    "plt.xticks(rotation=90)"
   ]
  },
  {
   "cell_type": "code",
   "execution_count": null,
   "metadata": {},
   "outputs": [],
   "source": []
  }
 ],
 "metadata": {
  "kernelspec": {
   "display_name": "Python 3",
   "language": "python",
   "name": "python3"
  },
  "language_info": {
   "codemirror_mode": {
    "name": "ipython",
    "version": 3
   },
   "file_extension": ".py",
   "mimetype": "text/x-python",
   "name": "python",
   "nbconvert_exporter": "python",
   "pygments_lexer": "ipython3",
   "version": "3.8.3"
  }
 },
 "nbformat": 4,
 "nbformat_minor": 4
}
