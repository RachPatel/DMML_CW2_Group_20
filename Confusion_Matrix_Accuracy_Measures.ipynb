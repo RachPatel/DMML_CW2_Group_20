{
 "cells": [
  {
   "cell_type": "markdown",
   "metadata": {},
   "source": [
    "Code below will help in acquiring information for detailed accuracy analyses (~ confusion matrix in weka). This is a primary requirement for this CW.\n",
    "ref: https://towardsdatascience.com/understanding-the-confusion-matrix-and-how-to-implement-it-in-python-319202e0fe4d"
   ]
  },
  {
   "cell_type": "code",
   "execution_count": null,
   "metadata": {},
   "outputs": [],
   "source": [
    "# Confusion Matrix\n",
    "#Apply this when after classifier run to specify Y_ids = true class and Y_predictions = predicted class\n",
    "#This code and the ones below will not run on their own\n",
    "from sklearn.metrics import confusion_matrix\n",
    "confusion_matrix(Y_ids, Y_prediction)"
   ]
  },
  {
   "cell_type": "code",
   "execution_count": null,
   "metadata": {},
   "outputs": [],
   "source": [
    "# Accuracy\n",
    "from sklearn.metrics import accuracy_score\n",
    "accuracy_score(Y_ids, Y_prediction)"
   ]
  },
  {
   "cell_type": "code",
   "execution_count": null,
   "metadata": {},
   "outputs": [],
   "source": [
    "# Recall\n",
    "from sklearn.metrics import recall_score\n",
    "recall_score(Y_ids, Y_prediction, average=None)"
   ]
  },
  {
   "cell_type": "code",
   "execution_count": null,
   "metadata": {},
   "outputs": [],
   "source": [
    "# Precision\n",
    "from sklearn.metrics import precision_score\n",
    "precision_score(Y_ids, Y_prediction, average=None)"
   ]
  },
  {
   "cell_type": "code",
   "execution_count": null,
   "metadata": {},
   "outputs": [],
   "source": [
    "#Use any one of the methods below to get the F measure \n",
    "\n",
    "# Method 1: sklearn\n",
    "from sklearn.metrics import f1_score\n",
    "f1_score(Y_ids, Y_prediction, average=None)\n",
    "\n",
    "# Method 2: Manual Calculation\n",
    "F1 = 2 * (precision * recall) / (precision + recall)\n",
    "\n",
    "# Method 3: Classification report [BONUS]\n",
    "from sklearn.metrics import classification_report\n",
    "print(classification_report(Y_ids, Y_prediction, target_names=target_names))"
   ]
  }
 ],
 "metadata": {
  "kernelspec": {
   "display_name": "Python 3",
   "language": "python",
   "name": "python3"
  },
  "language_info": {
   "codemirror_mode": {
    "name": "ipython",
    "version": 3
   },
   "file_extension": ".py",
   "mimetype": "text/x-python",
   "name": "python",
   "nbconvert_exporter": "python",
   "pygments_lexer": "ipython3",
   "version": "3.8.3"
  }
 },
 "nbformat": 4,
 "nbformat_minor": 4
}
