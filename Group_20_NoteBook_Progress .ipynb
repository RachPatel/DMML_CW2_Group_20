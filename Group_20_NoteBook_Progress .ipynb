{
 "cells": [
  {
   "cell_type": "markdown",
   "metadata": {},
   "source": [
    "<h1> Group 20 <h1>\n",
    "    \n",
    "<hr>"
   ]
  },
  {
   "cell_type": "markdown",
   "metadata": {},
   "source": [
    "<h6> Data <h6> "
   ]
  },
  {
   "cell_type": "markdown",
   "metadata": {},
   "source": [
    "Setup full data set :"
   ]
  },
  {
   "cell_type": "code",
   "execution_count": 63,
   "metadata": {},
   "outputs": [
    {
     "name": "stdout",
     "output_type": "stream",
     "text": [
      "          0      1      2      3      4      5      6      7      8      9  \\\n",
      "0      78.0   77.0   76.0   82.0   87.0   92.0  104.0  119.0  117.0  120.0   \n",
      "1      73.0   75.0   79.0   78.0   76.0   75.0   89.0  107.0  133.0  125.0   \n",
      "2      72.0   75.0   79.0   77.0   81.0   89.0  105.0  109.0   86.0   90.0   \n",
      "3      67.0   70.0   74.0   80.0   93.0  107.0  110.0   96.0   69.0  100.0   \n",
      "4      74.0   74.0   73.0   72.0   77.0   87.0  104.0  109.0   84.0   83.0   \n",
      "...     ...    ...    ...    ...    ...    ...    ...    ...    ...    ...   \n",
      "9685  247.0  220.0  254.0  213.0  129.0  208.0  254.0  255.0  255.0  255.0   \n",
      "9686  151.0  118.0  254.0  255.0  255.0  255.0  254.0  254.0  254.0  252.0   \n",
      "9687  255.0  255.0  255.0  255.0  255.0  255.0  255.0  255.0  255.0  255.0   \n",
      "9688  255.0  253.0  255.0  255.0  255.0  255.0  255.0  255.0  255.0  255.0   \n",
      "9689  252.0  189.0  238.0  255.0  255.0  245.0  219.0  212.0  140.0   40.0   \n",
      "\n",
      "      ...  2295  2296   2297  2298  2299  2300   2301   2302   2303  Class  \n",
      "0     ...  79.0  72.0   76.0  83.0  95.0  99.0   98.0   95.0   94.0      0  \n",
      "1     ...  93.0  85.0   77.0  69.0  73.0  83.0  100.0  101.0  101.0      0  \n",
      "2     ...  95.0  88.0   80.0  73.0  71.0  74.0   80.0   89.0   95.0      0  \n",
      "3     ...  92.0  87.0   82.0  77.0  72.0  70.0   72.0   81.0   88.0      0  \n",
      "4     ...  98.0  99.0  100.0  99.0  89.0  78.0   66.0   68.0   72.0      0  \n",
      "...   ...   ...   ...    ...   ...   ...   ...    ...    ...    ...    ...  \n",
      "9685  ...  29.0  27.0   26.0  25.0  23.0  22.0   26.0   26.0   27.0      9  \n",
      "9686  ...  31.0  30.0   30.0  30.0  30.0  29.0   26.0   28.0   27.0      9  \n",
      "9687  ...  49.0  42.0   36.0  33.0  36.0  39.0   31.0   39.0   43.0      9  \n",
      "9688  ...  27.0  26.0   27.0  35.0  28.0  27.0   26.0   26.0   24.0      9  \n",
      "9689  ...  23.0  23.0   30.0  32.0  23.0  23.0   26.0   20.0   17.0      9  \n",
      "\n",
      "[9690 rows x 2305 columns]\n"
     ]
    }
   ],
   "source": [
    "# Python ≥3.5 is required\n",
    "import sys\n",
    "assert sys.version_info >= (3, 5)\n",
    "# Scikit-Learn ≥0.20 is required\n",
    "import sklearn\n",
    "assert sklearn.__version__ >= \"0.20\"\n",
    "# Common imports\n",
    "import numpy as np\n",
    "import os\n",
    "import tarfile\n",
    "import urllib\n",
    "import pandas as pd\n",
    "# To plot pretty figures\n",
    "%matplotlib inline\n",
    "import matplotlib as mpl\n",
    "import matplotlib.pyplot as plt\n",
    "\n",
    "#read the attribute csvs file into respective dataframes\n",
    "X = pd.read_csv ('x_train_gr_smpl.csv')\n",
    "\n",
    "\n",
    "# read the class attribute file into Y datafram\n",
    "Y = pd.read_csv('y_train_smpl.csv')\n",
    "Y.columns = ['Class']\n",
    "\n",
    "#join the two such that Y is the last column\n",
    "XYraw = pd.concat([X,Y], axis=1)\n",
    "#check the concatination\n",
    "print(XYraw)"
   ]
  },
  {
   "cell_type": "code",
   "execution_count": 64,
   "metadata": {},
   "outputs": [
    {
     "data": {
      "text/html": [
       "<div>\n",
       "<style scoped>\n",
       "    .dataframe tbody tr th:only-of-type {\n",
       "        vertical-align: middle;\n",
       "    }\n",
       "\n",
       "    .dataframe tbody tr th {\n",
       "        vertical-align: top;\n",
       "    }\n",
       "\n",
       "    .dataframe thead th {\n",
       "        text-align: right;\n",
       "    }\n",
       "</style>\n",
       "<table border=\"1\" class=\"dataframe\">\n",
       "  <thead>\n",
       "    <tr style=\"text-align: right;\">\n",
       "      <th></th>\n",
       "      <th>0</th>\n",
       "      <th>1</th>\n",
       "      <th>2</th>\n",
       "      <th>3</th>\n",
       "      <th>4</th>\n",
       "      <th>5</th>\n",
       "      <th>6</th>\n",
       "      <th>7</th>\n",
       "      <th>8</th>\n",
       "      <th>9</th>\n",
       "      <th>...</th>\n",
       "      <th>2295</th>\n",
       "      <th>2296</th>\n",
       "      <th>2297</th>\n",
       "      <th>2298</th>\n",
       "      <th>2299</th>\n",
       "      <th>2300</th>\n",
       "      <th>2301</th>\n",
       "      <th>2302</th>\n",
       "      <th>2303</th>\n",
       "      <th>Class</th>\n",
       "    </tr>\n",
       "  </thead>\n",
       "  <tbody>\n",
       "    <tr>\n",
       "      <th>0</th>\n",
       "      <td>78.0</td>\n",
       "      <td>77.0</td>\n",
       "      <td>76.0</td>\n",
       "      <td>82.0</td>\n",
       "      <td>87.0</td>\n",
       "      <td>92.0</td>\n",
       "      <td>104.0</td>\n",
       "      <td>119.0</td>\n",
       "      <td>117.0</td>\n",
       "      <td>120.0</td>\n",
       "      <td>...</td>\n",
       "      <td>79.0</td>\n",
       "      <td>72.0</td>\n",
       "      <td>76.0</td>\n",
       "      <td>83.0</td>\n",
       "      <td>95.0</td>\n",
       "      <td>99.0</td>\n",
       "      <td>98.0</td>\n",
       "      <td>95.0</td>\n",
       "      <td>94.0</td>\n",
       "      <td>zero</td>\n",
       "    </tr>\n",
       "    <tr>\n",
       "      <th>1</th>\n",
       "      <td>73.0</td>\n",
       "      <td>75.0</td>\n",
       "      <td>79.0</td>\n",
       "      <td>78.0</td>\n",
       "      <td>76.0</td>\n",
       "      <td>75.0</td>\n",
       "      <td>89.0</td>\n",
       "      <td>107.0</td>\n",
       "      <td>133.0</td>\n",
       "      <td>125.0</td>\n",
       "      <td>...</td>\n",
       "      <td>93.0</td>\n",
       "      <td>85.0</td>\n",
       "      <td>77.0</td>\n",
       "      <td>69.0</td>\n",
       "      <td>73.0</td>\n",
       "      <td>83.0</td>\n",
       "      <td>100.0</td>\n",
       "      <td>101.0</td>\n",
       "      <td>101.0</td>\n",
       "      <td>zero</td>\n",
       "    </tr>\n",
       "    <tr>\n",
       "      <th>2</th>\n",
       "      <td>72.0</td>\n",
       "      <td>75.0</td>\n",
       "      <td>79.0</td>\n",
       "      <td>77.0</td>\n",
       "      <td>81.0</td>\n",
       "      <td>89.0</td>\n",
       "      <td>105.0</td>\n",
       "      <td>109.0</td>\n",
       "      <td>86.0</td>\n",
       "      <td>90.0</td>\n",
       "      <td>...</td>\n",
       "      <td>95.0</td>\n",
       "      <td>88.0</td>\n",
       "      <td>80.0</td>\n",
       "      <td>73.0</td>\n",
       "      <td>71.0</td>\n",
       "      <td>74.0</td>\n",
       "      <td>80.0</td>\n",
       "      <td>89.0</td>\n",
       "      <td>95.0</td>\n",
       "      <td>zero</td>\n",
       "    </tr>\n",
       "    <tr>\n",
       "      <th>3</th>\n",
       "      <td>67.0</td>\n",
       "      <td>70.0</td>\n",
       "      <td>74.0</td>\n",
       "      <td>80.0</td>\n",
       "      <td>93.0</td>\n",
       "      <td>107.0</td>\n",
       "      <td>110.0</td>\n",
       "      <td>96.0</td>\n",
       "      <td>69.0</td>\n",
       "      <td>100.0</td>\n",
       "      <td>...</td>\n",
       "      <td>92.0</td>\n",
       "      <td>87.0</td>\n",
       "      <td>82.0</td>\n",
       "      <td>77.0</td>\n",
       "      <td>72.0</td>\n",
       "      <td>70.0</td>\n",
       "      <td>72.0</td>\n",
       "      <td>81.0</td>\n",
       "      <td>88.0</td>\n",
       "      <td>zero</td>\n",
       "    </tr>\n",
       "    <tr>\n",
       "      <th>4</th>\n",
       "      <td>74.0</td>\n",
       "      <td>74.0</td>\n",
       "      <td>73.0</td>\n",
       "      <td>72.0</td>\n",
       "      <td>77.0</td>\n",
       "      <td>87.0</td>\n",
       "      <td>104.0</td>\n",
       "      <td>109.0</td>\n",
       "      <td>84.0</td>\n",
       "      <td>83.0</td>\n",
       "      <td>...</td>\n",
       "      <td>98.0</td>\n",
       "      <td>99.0</td>\n",
       "      <td>100.0</td>\n",
       "      <td>99.0</td>\n",
       "      <td>89.0</td>\n",
       "      <td>78.0</td>\n",
       "      <td>66.0</td>\n",
       "      <td>68.0</td>\n",
       "      <td>72.0</td>\n",
       "      <td>zero</td>\n",
       "    </tr>\n",
       "  </tbody>\n",
       "</table>\n",
       "<p>5 rows × 2305 columns</p>\n",
       "</div>"
      ],
      "text/plain": [
       "      0     1     2     3     4      5      6      7      8      9  ...  2295  \\\n",
       "0  78.0  77.0  76.0  82.0  87.0   92.0  104.0  119.0  117.0  120.0  ...  79.0   \n",
       "1  73.0  75.0  79.0  78.0  76.0   75.0   89.0  107.0  133.0  125.0  ...  93.0   \n",
       "2  72.0  75.0  79.0  77.0  81.0   89.0  105.0  109.0   86.0   90.0  ...  95.0   \n",
       "3  67.0  70.0  74.0  80.0  93.0  107.0  110.0   96.0   69.0  100.0  ...  92.0   \n",
       "4  74.0  74.0  73.0  72.0  77.0   87.0  104.0  109.0   84.0   83.0  ...  98.0   \n",
       "\n",
       "   2296   2297  2298  2299  2300   2301   2302   2303  Class  \n",
       "0  72.0   76.0  83.0  95.0  99.0   98.0   95.0   94.0   zero  \n",
       "1  85.0   77.0  69.0  73.0  83.0  100.0  101.0  101.0   zero  \n",
       "2  88.0   80.0  73.0  71.0  74.0   80.0   89.0   95.0   zero  \n",
       "3  87.0   82.0  77.0  72.0  70.0   72.0   81.0   88.0   zero  \n",
       "4  99.0  100.0  99.0  89.0  78.0   66.0   68.0   72.0   zero  \n",
       "\n",
       "[5 rows x 2305 columns]"
      ]
     },
     "execution_count": 64,
     "metadata": {},
     "output_type": "execute_result"
    }
   ],
   "source": [
    "\n",
    "#convert numberic to nominal \n",
    "XYraw[['Class']] = XYraw[['Class']].replace([0, 1, 2,3,4,5,6,7,8,9], ['zero', 'one', 'two','three', 'four', 'five', 'six', 'seven', 'eight',\n",
    "                                 'nine'])\n",
    "\n",
    "XYraw.head()"
   ]
  },
  {
   "cell_type": "code",
   "execution_count": 65,
   "metadata": {},
   "outputs": [
    {
     "name": "stdout",
     "output_type": "stream",
     "text": [
      "          0      1      2      3      4      5      6      7      8      9  \\\n",
      "0      43.0   52.0   46.0   29.0   14.0   16.0   16.0   16.0   16.0   19.0   \n",
      "1     234.0  235.0  230.0  226.0  222.0  220.0  219.0  220.0  222.0  224.0   \n",
      "2      18.0   21.0   23.0   25.0   24.0   21.0   18.0   18.0   19.0   21.0   \n",
      "3     223.0  225.0  223.0  222.0  221.0  225.0  227.0  224.0  225.0  227.0   \n",
      "4      34.0   34.0   35.0   35.0   34.0   33.0   33.0   33.0   34.0   35.0   \n",
      "...     ...    ...    ...    ...    ...    ...    ...    ...    ...    ...   \n",
      "9685   44.0   48.0   41.0   41.0   43.0   46.0   50.0   50.0   49.0   50.0   \n",
      "9686   83.0   85.0   86.0   82.0   85.0   93.0   89.0   83.0   79.0   81.0   \n",
      "9687  121.0  109.0  103.0   91.0   92.0  109.0  124.0  101.0   93.0   95.0   \n",
      "9688  254.0  255.0  255.0  255.0  255.0  255.0  255.0  255.0  255.0  255.0   \n",
      "9689   40.0   31.0   28.0   35.0   39.0   34.0   35.0   41.0   77.0  150.0   \n",
      "\n",
      "      ...   2295   2296   2297   2298   2299   2300   2301   2302   2303  \\\n",
      "0     ...   24.0   23.0   21.0   20.0   22.0   23.0   23.0   23.0   24.0   \n",
      "1     ...  129.0  126.0  107.0  108.0  130.0  126.0  110.0  142.0  191.0   \n",
      "2     ...   15.0   15.0   15.0   14.0   14.0   14.0   15.0   16.0   15.0   \n",
      "3     ...  149.0  146.0  150.0  157.0  156.0  106.0   86.0  114.0  133.0   \n",
      "4     ...   31.0   29.0   29.0   29.0   28.0   29.0   29.0   31.0   32.0   \n",
      "...   ...    ...    ...    ...    ...    ...    ...    ...    ...    ...   \n",
      "9685  ...   30.0   29.0   32.0   32.0   35.0   39.0   39.0   29.0   23.0   \n",
      "9686  ...   98.0   93.0   96.0  101.0   85.0   77.0   75.0   73.0   71.0   \n",
      "9687  ...  111.0   66.0   37.0   55.0   82.0  109.0  143.0  155.0  157.0   \n",
      "9688  ...   18.0   20.0   23.0   22.0   22.0   18.0   19.0   21.0   22.0   \n",
      "9689  ...  151.0  153.0  151.0  140.0  113.0   90.0   70.0   52.0   38.0   \n",
      "\n",
      "      Class  \n",
      "0       two  \n",
      "1       six  \n",
      "2       six  \n",
      "3      four  \n",
      "4       two  \n",
      "...     ...  \n",
      "9685  seven  \n",
      "9686    two  \n",
      "9687  seven  \n",
      "9688    one  \n",
      "9689    one  \n",
      "\n",
      "[9690 rows x 2305 columns]\n"
     ]
    }
   ],
   "source": [
    "\n",
    "#randomise \n",
    "XYraw_ran = XYraw.sample(frac=1).reset_index(drop=True)\n",
    "print(XYraw_ran)"
   ]
  },
  {
   "cell_type": "code",
   "execution_count": 66,
   "metadata": {},
   "outputs": [],
   "source": [
    "#generate this as a csv to directly feed into analyses on independent notebooks\n",
    "XYraw_ran.to_csv('For_10_Fold_Cross_Validation.csv', index = False)"
   ]
  },
  {
   "cell_type": "markdown",
   "metadata": {},
   "source": [
    "Split Data into data and expected calsses\n"
   ]
  },
  {
   "cell_type": "code",
   "execution_count": 135,
   "metadata": {},
   "outputs": [
    {
     "data": {
      "text/html": [
       "<div>\n",
       "<style scoped>\n",
       "    .dataframe tbody tr th:only-of-type {\n",
       "        vertical-align: middle;\n",
       "    }\n",
       "\n",
       "    .dataframe tbody tr th {\n",
       "        vertical-align: top;\n",
       "    }\n",
       "\n",
       "    .dataframe thead th {\n",
       "        text-align: right;\n",
       "    }\n",
       "</style>\n",
       "<table border=\"1\" class=\"dataframe\">\n",
       "  <thead>\n",
       "    <tr style=\"text-align: right;\">\n",
       "      <th></th>\n",
       "      <th>0</th>\n",
       "      <th>1</th>\n",
       "      <th>2</th>\n",
       "      <th>3</th>\n",
       "      <th>4</th>\n",
       "      <th>5</th>\n",
       "      <th>6</th>\n",
       "      <th>7</th>\n",
       "      <th>8</th>\n",
       "      <th>9</th>\n",
       "      <th>...</th>\n",
       "      <th>2295</th>\n",
       "      <th>2296</th>\n",
       "      <th>2297</th>\n",
       "      <th>2298</th>\n",
       "      <th>2299</th>\n",
       "      <th>2300</th>\n",
       "      <th>2301</th>\n",
       "      <th>2302</th>\n",
       "      <th>2303</th>\n",
       "      <th>Class</th>\n",
       "    </tr>\n",
       "  </thead>\n",
       "  <tbody>\n",
       "    <tr>\n",
       "      <th>0</th>\n",
       "      <td>43.0</td>\n",
       "      <td>52.0</td>\n",
       "      <td>46.0</td>\n",
       "      <td>29.0</td>\n",
       "      <td>14.0</td>\n",
       "      <td>16.0</td>\n",
       "      <td>16.0</td>\n",
       "      <td>16.0</td>\n",
       "      <td>16.0</td>\n",
       "      <td>19.0</td>\n",
       "      <td>...</td>\n",
       "      <td>24.0</td>\n",
       "      <td>23.0</td>\n",
       "      <td>21.0</td>\n",
       "      <td>20.0</td>\n",
       "      <td>22.0</td>\n",
       "      <td>23.0</td>\n",
       "      <td>23.0</td>\n",
       "      <td>23.0</td>\n",
       "      <td>24.0</td>\n",
       "      <td>two</td>\n",
       "    </tr>\n",
       "    <tr>\n",
       "      <th>1</th>\n",
       "      <td>234.0</td>\n",
       "      <td>235.0</td>\n",
       "      <td>230.0</td>\n",
       "      <td>226.0</td>\n",
       "      <td>222.0</td>\n",
       "      <td>220.0</td>\n",
       "      <td>219.0</td>\n",
       "      <td>220.0</td>\n",
       "      <td>222.0</td>\n",
       "      <td>224.0</td>\n",
       "      <td>...</td>\n",
       "      <td>129.0</td>\n",
       "      <td>126.0</td>\n",
       "      <td>107.0</td>\n",
       "      <td>108.0</td>\n",
       "      <td>130.0</td>\n",
       "      <td>126.0</td>\n",
       "      <td>110.0</td>\n",
       "      <td>142.0</td>\n",
       "      <td>191.0</td>\n",
       "      <td>six</td>\n",
       "    </tr>\n",
       "    <tr>\n",
       "      <th>2</th>\n",
       "      <td>18.0</td>\n",
       "      <td>21.0</td>\n",
       "      <td>23.0</td>\n",
       "      <td>25.0</td>\n",
       "      <td>24.0</td>\n",
       "      <td>21.0</td>\n",
       "      <td>18.0</td>\n",
       "      <td>18.0</td>\n",
       "      <td>19.0</td>\n",
       "      <td>21.0</td>\n",
       "      <td>...</td>\n",
       "      <td>15.0</td>\n",
       "      <td>15.0</td>\n",
       "      <td>15.0</td>\n",
       "      <td>14.0</td>\n",
       "      <td>14.0</td>\n",
       "      <td>14.0</td>\n",
       "      <td>15.0</td>\n",
       "      <td>16.0</td>\n",
       "      <td>15.0</td>\n",
       "      <td>six</td>\n",
       "    </tr>\n",
       "    <tr>\n",
       "      <th>3</th>\n",
       "      <td>223.0</td>\n",
       "      <td>225.0</td>\n",
       "      <td>223.0</td>\n",
       "      <td>222.0</td>\n",
       "      <td>221.0</td>\n",
       "      <td>225.0</td>\n",
       "      <td>227.0</td>\n",
       "      <td>224.0</td>\n",
       "      <td>225.0</td>\n",
       "      <td>227.0</td>\n",
       "      <td>...</td>\n",
       "      <td>149.0</td>\n",
       "      <td>146.0</td>\n",
       "      <td>150.0</td>\n",
       "      <td>157.0</td>\n",
       "      <td>156.0</td>\n",
       "      <td>106.0</td>\n",
       "      <td>86.0</td>\n",
       "      <td>114.0</td>\n",
       "      <td>133.0</td>\n",
       "      <td>four</td>\n",
       "    </tr>\n",
       "    <tr>\n",
       "      <th>4</th>\n",
       "      <td>34.0</td>\n",
       "      <td>34.0</td>\n",
       "      <td>35.0</td>\n",
       "      <td>35.0</td>\n",
       "      <td>34.0</td>\n",
       "      <td>33.0</td>\n",
       "      <td>33.0</td>\n",
       "      <td>33.0</td>\n",
       "      <td>34.0</td>\n",
       "      <td>35.0</td>\n",
       "      <td>...</td>\n",
       "      <td>31.0</td>\n",
       "      <td>29.0</td>\n",
       "      <td>29.0</td>\n",
       "      <td>29.0</td>\n",
       "      <td>28.0</td>\n",
       "      <td>29.0</td>\n",
       "      <td>29.0</td>\n",
       "      <td>31.0</td>\n",
       "      <td>32.0</td>\n",
       "      <td>two</td>\n",
       "    </tr>\n",
       "  </tbody>\n",
       "</table>\n",
       "<p>5 rows × 2305 columns</p>\n",
       "</div>"
      ],
      "text/plain": [
       "       0      1      2      3      4      5      6      7      8      9  ...  \\\n",
       "0   43.0   52.0   46.0   29.0   14.0   16.0   16.0   16.0   16.0   19.0  ...   \n",
       "1  234.0  235.0  230.0  226.0  222.0  220.0  219.0  220.0  222.0  224.0  ...   \n",
       "2   18.0   21.0   23.0   25.0   24.0   21.0   18.0   18.0   19.0   21.0  ...   \n",
       "3  223.0  225.0  223.0  222.0  221.0  225.0  227.0  224.0  225.0  227.0  ...   \n",
       "4   34.0   34.0   35.0   35.0   34.0   33.0   33.0   33.0   34.0   35.0  ...   \n",
       "\n",
       "    2295   2296   2297   2298   2299   2300   2301   2302   2303  Class  \n",
       "0   24.0   23.0   21.0   20.0   22.0   23.0   23.0   23.0   24.0    two  \n",
       "1  129.0  126.0  107.0  108.0  130.0  126.0  110.0  142.0  191.0    six  \n",
       "2   15.0   15.0   15.0   14.0   14.0   14.0   15.0   16.0   15.0    six  \n",
       "3  149.0  146.0  150.0  157.0  156.0  106.0   86.0  114.0  133.0   four  \n",
       "4   31.0   29.0   29.0   29.0   28.0   29.0   29.0   31.0   32.0    two  \n",
       "\n",
       "[5 rows x 2305 columns]"
      ]
     },
     "execution_count": 135,
     "metadata": {},
     "output_type": "execute_result"
    }
   ],
   "source": [
    "#read in data from csv \n",
    "training_Data = pd.read_csv(\"For_10_Fold_Cross_Validation.csv\")\n",
    "\n",
    "#look at shape\n",
    "training_Data.shape \n",
    "\n",
    "#look at data format\n",
    "training_Data.head()"
   ]
  },
  {
   "cell_type": "code",
   "execution_count": 110,
   "metadata": {},
   "outputs": [],
   "source": [
    "#define the data to be used as all but the class attribute from the data \n",
    "X_Train = training_Data.drop('Class', axis = 1)\n",
    "\n",
    "#define the expexted value to be the class column of the input data \n",
    "y_train = training_Data['Class']"
   ]
  },
  {
   "cell_type": "markdown",
   "metadata": {},
   "source": [
    "Plot initial DataSet"
   ]
  },
  {
   "cell_type": "code",
   "execution_count": null,
   "metadata": {},
   "outputs": [],
   "source": []
  },
  {
   "cell_type": "code",
   "execution_count": null,
   "metadata": {},
   "outputs": [],
   "source": []
  },
  {
   "cell_type": "markdown",
   "metadata": {},
   "source": [
    "<h2> Decision Trees <h2> \n",
    "    <hr>\n",
    "<h3> J48 <h3>"
   ]
  },
  {
   "cell_type": "markdown",
   "metadata": {},
   "source": [
    "Decision tree adapted from : \n",
    "https://scikit-learn.org/stable/modules/generated/sklearn.tree.DecisionTreeClassifier.html\n",
    "<hr>\n",
    "Cross-Validation adapted from : \n",
    "https://scikit-learn.org/stable/modules/cross_validation.html \n",
    "    \n",
    "HOWEVER Sklearn uses CART rather than C4.5 which is the algorithm that J48 runs off so this could be incorrect. "
   ]
  },
  {
   "cell_type": "code",
   "execution_count": 100,
   "metadata": {},
   "outputs": [],
   "source": [
    "# imports for this sections \n",
    "\n",
    "import os\n",
    "import numpy as np\n",
    "import pandas as pd\n",
    "import matplotlib.pyplot as plt\n",
    "from sklearn.utils import shuffle\n",
    "from sklearn.tree import DecisionTreeClassifier\n",
    "from sklearn.metrics import roc_auc_score\n",
    "import seaborn as sns"
   ]
  },
  {
   "cell_type": "code",
   "execution_count": 92,
   "metadata": {},
   "outputs": [],
   "source": [
    "from sklearn.preprocessing import StandardScaler\n",
    "\n",
    "sc = StandardScaler()\n",
    "X_train = sc.fit_transform(X_Train)\n",
    "\n"
   ]
  },
  {
   "cell_type": "code",
   "execution_count": 124,
   "metadata": {
    "scrolled": true
   },
   "outputs": [],
   "source": [
    "# adapted from https://scikit-learn.org/stable/modules/generated/sklearn.tree.DecisionTreeClassifier.html\n",
    "#\n",
    "# Sklearn uses CART rather than C4.5 which is the algorithm that J48 runs off so this could be incorrect. Both \n",
    "\n",
    "\n",
    "from sklearn.tree import DecisionTreeClassifier \n",
    "classifier = DecisionTreeClassifier()\n",
    "classifier.fit(X_train, y_train)\n",
    "\n",
    "from sklearn.model_selection import cross_val_score\n",
    "#setup cross validation using the above classifier, X_train = data to be classified, y = the labels, CV = number of folds\n",
    "cross_validation_scores = cross_val_score(classifier, X_train, y, cv=10)\n"
   ]
  },
  {
   "cell_type": "code",
   "execution_count": 125,
   "metadata": {},
   "outputs": [
    {
     "data": {
      "text/plain": [
       "Text(0.5, 1.0, 'Average score: 0.8379772961816304')"
      ]
     },
     "execution_count": 125,
     "metadata": {},
     "output_type": "execute_result"
    },
    {
     "data": {
      "image/png": "[encoded data removed]",
      "text/plain": [
       "<Figure size 432x288 with 1 Axes>"
      ]
     },
     "metadata": {
      "needs_background": "light"
     },
     "output_type": "display_data"
    }
   ],
   "source": [
    "# use seaborn (sns) to plot a graph of the above scores\n",
    "sns.distplot(cross_validation_scores)\n",
    "plt.title('Average score: {}'.format(np.mean(cross_validation_scores)))"
   ]
  },
  {
   "cell_type": "code",
   "execution_count": 126,
   "metadata": {},
   "outputs": [],
   "source": [
    "from sklearn.model_selection import cross_val_predict\n",
    "from sklearn.metrics import confusion_matrix\n",
    "from sklearn.metrics import roc_auc_score\n",
    "\n",
    "#train model with 10 fold validation, \n",
    "#cross_val_predict Get predictions from each split of cross-validation for diagnostic purposes.\n",
    "y_pred = cross_val_predict(classifier, X_train, y_train, cv=10)\n",
    "\n",
    "#allows for confusion matrix generation\n",
    "conf_matrix = confusion_matrix(y_train, y_pred)"
   ]
  },
  {
   "cell_type": "code",
   "execution_count": 127,
   "metadata": {},
   "outputs": [
    {
     "name": "stdout",
     "output_type": "stream",
     "text": [
      "Confusion Matrix\n",
      "[[ 439    9    8   14   13    6   16   15   16    4]\n",
      " [   8  154    5   10    0    7    4    8   11    3]\n",
      " [   6    5 1760    3   77   13    7   23   75   11]\n",
      " [   6    5    2  202   13    6   10   16    8    2]\n",
      " [   7    7   96    8 1860   12   13   37  143   37]\n",
      " [   9    4    5    3   12  177    9    7   14    0]\n",
      " [  16    6   10    8   11    4  279   10   13    3]\n",
      " [  10    7   19   10   41    1   16 1223   78    5]\n",
      " [  11   12   97    8  134   10   11   76 1885    6]\n",
      " [   6    0   19    1   25    1    2    5   12  139]]\n",
      "\n",
      "\n",
      "              precision    recall  f1-score   support\n",
      "\n",
      "       eight       0.85      0.81      0.83       540\n",
      "        five       0.74      0.73      0.74       210\n",
      "        four       0.87      0.89      0.88      1980\n",
      "        nine       0.76      0.75      0.75       270\n",
      "         one       0.85      0.84      0.84      2220\n",
      "       seven       0.75      0.74      0.74       240\n",
      "         six       0.76      0.78      0.77       360\n",
      "       three       0.86      0.87      0.86      1410\n",
      "         two       0.84      0.84      0.84      2250\n",
      "        zero       0.66      0.66      0.66       210\n",
      "\n",
      "    accuracy                           0.84      9690\n",
      "   macro avg       0.79      0.79      0.79      9690\n",
      "weighted avg       0.84      0.84      0.84      9690\n",
      "\n"
     ]
    }
   ],
   "source": [
    "#Print Confusion matrix and other important results\n",
    "print(\"Confusion Matrix\")\n",
    "print(conf_matrix)\n",
    "\n",
    "print(\"\\n\")\n",
    "\n",
    "print(classification_report(y_train, y_pred))\n",
    "#print(roc_auc_score(y, y_pred))\n"
   ]
  },
  {
   "cell_type": "markdown",
   "metadata": {},
   "source": [
    "<h4>Part 2 - Using test data<h4>"
   ]
  },
  {
   "cell_type": "code",
   "execution_count": 128,
   "metadata": {},
   "outputs": [],
   "source": [
    "testData = pd.read_csv ('Test_Dataset.csv')\n",
    "\n",
    "X_Test = testData.drop('Class', axis = 1)\n",
    "y_test = testData['Class']\n",
    "\n",
    "sc = StandardScaler()\n",
    "X_train = sc.fit_transform(X_Train)\n",
    "X_test = sc.fit_transform(X_Test)\n"
   ]
  },
  {
   "cell_type": "code",
   "execution_count": 133,
   "metadata": {},
   "outputs": [
    {
     "name": "stdout",
     "output_type": "stream",
     "text": [
      "Confusion Matrix\n",
      "[[ 64   9   7  12   6   9   8  20  12   3]\n",
      " [  0  28   0   0   0   2   0  30   0   0]\n",
      " [  5   4 460   1  61   6  10  53  44  16]\n",
      " [ 10   0   0  42   4   3   0   3  28   0]\n",
      " [  6   2  49   2 575   5   1  10  56  14]\n",
      " [  2   8   2   1  23  12   5   7   0   0]\n",
      " [ 16   8   0   6   5   1  40   7   7   0]\n",
      " [ 13   1  11   8  44   0   8 314  50   1]\n",
      " [  4   5  70   4  69   2   4  54 535   3]\n",
      " [  1   0  21   0   7   4   1   0   4  22]]\n",
      "\n",
      "\n",
      "              precision    recall  f1-score   support\n",
      "\n",
      "       eight       0.53      0.43      0.47       150\n",
      "        five       0.43      0.47      0.45        60\n",
      "        four       0.74      0.70      0.72       660\n",
      "        nine       0.55      0.47      0.51        90\n",
      "         one       0.72      0.80      0.76       720\n",
      "       seven       0.27      0.20      0.23        60\n",
      "         six       0.52      0.44      0.48        90\n",
      "       three       0.63      0.70      0.66       450\n",
      "         two       0.73      0.71      0.72       750\n",
      "        zero       0.37      0.37      0.37        60\n",
      "\n",
      "    accuracy                           0.68      3090\n",
      "   macro avg       0.55      0.53      0.54      3090\n",
      "weighted avg       0.67      0.68      0.67      3090\n",
      "\n"
     ]
    }
   ],
   "source": [
    "from sklearn.tree import DecisionTreeClassifier \n",
    "\n",
    "#define the model to be used \n",
    "classifier_withTestData = DecisionTreeClassifier()\n",
    "\n",
    "#fit this model using the test data\n",
    "classifier_withTestData.fit(X_train, y_train)\n",
    "\n",
    "#test this model on the seperated data\n",
    "y_pred = classifier_withTest.predict(X_test)\n",
    "\n",
    "\n",
    "#package used for metrics of DecisionTreeClassifier\n",
    "from sklearn.metrics import classification_report_withTestData, confusion_matrix_withTestData\n",
    "\n",
    "#Print Confusion matrix and other important results\n",
    "print(\"Confusion Matrix\")\n",
    "print(confusion_matrix_withTestData(y_test, y_pred))\n",
    "print(\"\\n\")\n",
    "print(classification_report_withTestData(y_test, y_pred))"
   ]
  },
  {
   "cell_type": "markdown",
   "metadata": {},
   "source": [
    "<h4>Part 3 - 4000 into the test cases <h4>"
   ]
  },
  {
   "cell_type": "markdown",
   "metadata": {},
   "source": [
    "<hr>\n",
    "setup new dataframes\n",
    "<hr>"
   ]
  },
  {
   "cell_type": "code",
   "execution_count": 177,
   "metadata": {},
   "outputs": [
    {
     "data": {
      "text/plain": [
       "9690"
      ]
     },
     "execution_count": 177,
     "metadata": {},
     "output_type": "execute_result"
    }
   ],
   "source": [
    "#Check length of training data\n",
    "len(training_Data)"
   ]
  },
  {
   "cell_type": "code",
   "execution_count": 194,
   "metadata": {},
   "outputs": [
    {
     "data": {
      "text/plain": [
       "4000"
      ]
     },
     "execution_count": 194,
     "metadata": {},
     "output_type": "execute_result"
    }
   ],
   "source": [
    "#split data into two divisions\n",
    "data_split4000, data_split5690= training_Data[:4000], training_Data[4000:]\n",
    "\n",
    "#test new split \n",
    "len(data_split4000)"
   ]
  },
  {
   "cell_type": "code",
   "execution_count": 180,
   "metadata": {},
   "outputs": [],
   "source": [
    "#merge test and 4000 cases from above \n",
    "testData_with4000 =pd.concat([testData, data_split4000])"
   ]
  },
  {
   "cell_type": "code",
   "execution_count": 181,
   "metadata": {},
   "outputs": [
    {
     "data": {
      "text/plain": [
       "3090"
      ]
     },
     "execution_count": 181,
     "metadata": {},
     "output_type": "execute_result"
    }
   ],
   "source": [
    "#size of testData before addition\n",
    "len(testData)"
   ]
  },
  {
   "cell_type": "code",
   "execution_count": 182,
   "metadata": {},
   "outputs": [
    {
     "data": {
      "text/plain": [
       "7090"
      ]
     },
     "execution_count": 182,
     "metadata": {},
     "output_type": "execute_result"
    }
   ],
   "source": [
    "#check items have been added to testData\n",
    "len(testData_with4000)"
   ]
  },
  {
   "cell_type": "markdown",
   "metadata": {},
   "source": [
    "<hr>\n",
    "train with new dataframes\n",
    "<hr>"
   ]
  },
  {
   "cell_type": "code",
   "execution_count": 211,
   "metadata": {},
   "outputs": [],
   "source": [
    "#setup training data\n",
    "X_Train_4000Split = data_split5690.drop('Class', axis = 1)\n",
    "y_train_4000Split = data_split5690['Class']\n",
    "\n",
    "\n",
    "#setup test data\n",
    "X_Test_4000Split = testData_with4000.drop('Class', axis = 1)\n",
    "y_test_4000Split = testData_with4000['Class']\n",
    "\n",
    "\n",
    "\n",
    "sc = StandardScaler()\n",
    "X_train_4000Split = sc.fit_transform(X_Train_4000Split)\n",
    "X_test_4000Split = sc.fit_transform(X_Test_4000Split)"
   ]
  },
  {
   "cell_type": "code",
   "execution_count": 212,
   "metadata": {},
   "outputs": [],
   "source": [
    "from sklearn.tree import DecisionTreeClassifier \n",
    "\n",
    "#define the model to be used \n",
    "classifier_4000Split = DecisionTreeClassifier()\n",
    "\n",
    "#fit this model using the test data\n",
    "classifier_4000Split.fit(X_train_4000Split, y_train_4000Split)\n",
    "\n",
    "#test this model on the seperated data\n",
    "y_pred_4000Split = classifier_4000Split.predict(X_test_4000Split)"
   ]
  },
  {
   "cell_type": "code",
   "execution_count": 213,
   "metadata": {},
   "outputs": [
    {
     "name": "stdout",
     "output_type": "stream",
     "text": [
      "Confusion Matrix\n",
      "[[ 237   17   22   18   26   10   22   20   21    7]\n",
      " [   1   94   18    2    1    3    3   19    3    0]\n",
      " [  12   15 1191    2   89    5    6   58  108    8]\n",
      " [  24   17    5  111    2   17    3   15    8    2]\n",
      " [  11    3  110    4 1186   10   16   38  211   24]\n",
      " [   5   23   10    0   12  100    6    5    5    3]\n",
      " [  15   12   10    9    5   10  157   11   12    0]\n",
      " [   4    5   17    9   56    6   23  775   99    4]\n",
      " [  17    9   92    6  164   21   11  113 1238   14]\n",
      " [   3    0   14    0   30    0    0    1   17   77]]\n",
      "\n",
      "\n",
      "              precision    recall  f1-score   support\n",
      "\n",
      "       eight       0.72      0.59      0.65       400\n",
      "        five       0.48      0.65      0.55       144\n",
      "        four       0.80      0.80      0.80      1494\n",
      "        nine       0.69      0.54      0.61       204\n",
      "         one       0.75      0.74      0.74      1613\n",
      "       seven       0.55      0.59      0.57       169\n",
      "         six       0.64      0.65      0.64       241\n",
      "       three       0.73      0.78      0.75       998\n",
      "         two       0.72      0.73      0.73      1685\n",
      "        zero       0.55      0.54      0.55       142\n",
      "\n",
      "    accuracy                           0.73      7090\n",
      "   macro avg       0.66      0.66      0.66      7090\n",
      "weighted avg       0.73      0.73      0.73      7090\n",
      "\n"
     ]
    }
   ],
   "source": [
    "#package used for metrics of DecisionTreeClassifier\n",
    "from sklearn.metrics import classification_report, confusion_matrix\n",
    "\n",
    "#Print Confusion matrix and other important results\n",
    "print(\"Confusion Matrix\")\n",
    "print(confusion_matrix(y_test_4000Split, y_pred_4000Split))\n",
    "print(\"\\n\")\n",
    "print(classification_report(y_test_4000Split, y_pred_4000Split))"
   ]
  },
  {
   "cell_type": "markdown",
   "metadata": {},
   "source": [
    "<hr>\n",
    "<h4>Part 4 - 9000 into the test cases <h4>"
   ]
  },
  {
   "cell_type": "markdown",
   "metadata": {},
   "source": [
    "<hr>\n",
    "setup new dataframes\n",
    "<hr>"
   ]
  },
  {
   "cell_type": "code",
   "execution_count": 200,
   "metadata": {},
   "outputs": [
    {
     "data": {
      "text/plain": [
       "9690"
      ]
     },
     "execution_count": 200,
     "metadata": {},
     "output_type": "execute_result"
    }
   ],
   "source": [
    "#Check length of training data\n",
    "len(training_Data)"
   ]
  },
  {
   "cell_type": "code",
   "execution_count": 201,
   "metadata": {},
   "outputs": [
    {
     "data": {
      "text/plain": [
       "9000"
      ]
     },
     "execution_count": 201,
     "metadata": {},
     "output_type": "execute_result"
    }
   ],
   "source": [
    "#split data into two divisions\n",
    "data_split9000, data_split690= training_Data[:9000], training_Data[9000:]\n",
    "\n",
    "#test new split \n",
    "len(data_split9000)"
   ]
  },
  {
   "cell_type": "code",
   "execution_count": 202,
   "metadata": {},
   "outputs": [],
   "source": [
    "#merge test and 4000 cases from above \n",
    "testData_with9000 =pd.concat([testData, data_split9000])"
   ]
  },
  {
   "cell_type": "code",
   "execution_count": 203,
   "metadata": {},
   "outputs": [
    {
     "data": {
      "text/plain": [
       "3090"
      ]
     },
     "execution_count": 203,
     "metadata": {},
     "output_type": "execute_result"
    }
   ],
   "source": [
    "#size of testData before addition \n",
    "len(testData)"
   ]
  },
  {
   "cell_type": "code",
   "execution_count": 204,
   "metadata": {},
   "outputs": [
    {
     "data": {
      "text/plain": [
       "12090"
      ]
     },
     "execution_count": 204,
     "metadata": {},
     "output_type": "execute_result"
    }
   ],
   "source": [
    "#check items have been added to testData\n",
    "len(testData_with9000)"
   ]
  },
  {
   "cell_type": "markdown",
   "metadata": {},
   "source": [
    "<hr>\n",
    "train with new dataframes\n",
    "<hr>"
   ]
  },
  {
   "cell_type": "code",
   "execution_count": 214,
   "metadata": {},
   "outputs": [],
   "source": [
    "#setup training data\n",
    "X_Train_9000Split = data_split690.drop('Class', axis = 1)\n",
    "y_train_9000Split = data_split690['Class']\n",
    "\n",
    "\n",
    "#setup test data\n",
    "X_Test_9000Split = testData_with4000.drop('Class', axis = 1)\n",
    "y_test_9000Split = testData_with4000['Class']\n",
    "\n",
    "\n",
    "\n",
    "sc = StandardScaler()\n",
    "X_train_9000Split = sc.fit_transform(X_Train_9000Split)\n",
    "X_test_9000Split = sc.fit_transform(X_Test_9000Split)"
   ]
  },
  {
   "cell_type": "code",
   "execution_count": 215,
   "metadata": {},
   "outputs": [],
   "source": [
    "from sklearn.tree import DecisionTreeClassifier \n",
    "\n",
    "#define the model to be used \n",
    "classifier_9000Split = DecisionTreeClassifier()\n",
    "\n",
    "#fit this model using the test data\n",
    "classifier_9000Split.fit(X_train_9000Split, y_train_9000Split)\n",
    "\n",
    "#test this model on the seperated data\n",
    "y_pred_9000Split = classifier_9000Split.predict(X_test_9000Split)"
   ]
  },
  {
   "cell_type": "code",
   "execution_count": 216,
   "metadata": {},
   "outputs": [
    {
     "name": "stdout",
     "output_type": "stream",
     "text": [
      "Confusion Matrix\n",
      "[[191  52  23  15  40   3  20  46   5   5]\n",
      " [  6  69  21   1  18   2   1  20   4   2]\n",
      " [ 33  21 852   6 279   9  15 144 118  17]\n",
      " [ 36  45   8  41  38   8   4  12   6   6]\n",
      " [ 77   7 199   4 933  34  15  79 229  36]\n",
      " [ 11  46  15   0  17  51   2   6  16   5]\n",
      " [ 44  14  18  12  26   8  73  34  11   1]\n",
      " [ 13   7  61  11 149   3  67 594  79  14]\n",
      " [ 38  25 139   4 310  18  27 245 812  67]\n",
      " [  7   0  39   0  40   1   0   6  12  37]]\n",
      "\n",
      "\n",
      "              precision    recall  f1-score   support\n",
      "\n",
      "       eight       0.42      0.48      0.45       400\n",
      "        five       0.24      0.48      0.32       144\n",
      "        four       0.62      0.57      0.59      1494\n",
      "        nine       0.44      0.20      0.28       204\n",
      "         one       0.50      0.58      0.54      1613\n",
      "       seven       0.37      0.30      0.33       169\n",
      "         six       0.33      0.30      0.31       241\n",
      "       three       0.50      0.60      0.54       998\n",
      "         two       0.63      0.48      0.55      1685\n",
      "        zero       0.19      0.26      0.22       142\n",
      "\n",
      "    accuracy                           0.52      7090\n",
      "   macro avg       0.42      0.42      0.41      7090\n",
      "weighted avg       0.53      0.52      0.52      7090\n",
      "\n"
     ]
    }
   ],
   "source": [
    "#package used for metrics of DecisionTreeClassifier\n",
    "from sklearn.metrics import classification_report, confusion_matrix\n",
    "\n",
    "#Print Confusion matrix and other important results\n",
    "print(\"Confusion Matrix\")\n",
    "print(confusion_matrix(y_test_9000Split, y_pred_9000Split))\n",
    "print(\"\\n\")\n",
    "print(classification_report(y_test_9000Split, y_pred_9000Split))"
   ]
  },
  {
   "cell_type": "code",
   "execution_count": null,
   "metadata": {},
   "outputs": [],
   "source": []
  },
  {
   "cell_type": "code",
   "execution_count": null,
   "metadata": {},
   "outputs": [],
   "source": []
  },
  {
   "cell_type": "markdown",
   "metadata": {},
   "source": [
    "<h3> Alternative Tree <h3>"
   ]
  },
  {
   "cell_type": "markdown",
   "metadata": {},
   "source": [
    "<h6> Random Forest <h6> \n",
    "    \n",
    "  "
   ]
  },
  {
   "cell_type": "markdown",
   "metadata": {},
   "source": [
    "adapted from https://scikit-learn.org/stable/modules/generated/sklearn.ensemble.RandomForestClassifier.html"
   ]
  },
  {
   "cell_type": "code",
   "execution_count": 71,
   "metadata": {},
   "outputs": [],
   "source": [
    "# split data into test set and training set, to reduce bias\n",
    "\n",
    "from sklearn.model_selection import train_test_split\n",
    "X_train, X_test, y_train, y_test = train_test_split(X, y, test_size=0.20)\n",
    "\n",
    "from sklearn.preprocessing import StandardScaler\n",
    "\n",
    "sc = StandardScaler()\n",
    "X_train = sc.fit_transform(X_train)\n",
    "X_test = sc.transform(X_test)"
   ]
  },
  {
   "cell_type": "code",
   "execution_count": 72,
   "metadata": {},
   "outputs": [],
   "source": [
    "from sklearn.ensemble import RandomForestClassifier\n",
    "\n",
    "#create a Gaussian Classifier - random forest\n",
    "\n",
    "randomForest = RandomForestClassifier(n_estimators = 100)\n",
    "\n",
    "#train the model using the training set generated \n",
    "randomForest.fit(X_train, y_train)\n",
    "\n",
    "#assign the predicted values as the result of running the model on the split test data\n",
    "y_pred = randomForest.predict(X_test)"
   ]
  },
  {
   "cell_type": "code",
   "execution_count": 73,
   "metadata": {},
   "outputs": [
    {
     "name": "stdout",
     "output_type": "stream",
     "text": [
      "Confusion Matrix\n",
      "[[112   0   1   1   1   0   1   0   1   0]\n",
      " [  0  49   0   1   0   0   0   0   1   0]\n",
      " [  0   0 391   0   0   0   0   0   1   0]\n",
      " [  0   0   0  53   1   0   0   1   0   0]\n",
      " [  0   0   3   1 435   0   0   0   6   0]\n",
      " [  0   0   0   0   0  45   0   0   0   0]\n",
      " [  0   0   0   0   2   0  72   2   0   0]\n",
      " [  0   0   1   0   4   0   0 267   2   0]\n",
      " [  0   0   2   0   5   0   0   5 430   0]\n",
      " [  0   0   1   0   4   0   0   0   0  36]]\n",
      "\n",
      "\n",
      "              precision    recall  f1-score   support\n",
      "\n",
      "       eight       1.00      0.96      0.98       117\n",
      "        five       1.00      0.96      0.98        51\n",
      "        four       0.98      1.00      0.99       392\n",
      "        nine       0.95      0.96      0.95        55\n",
      "         one       0.96      0.98      0.97       445\n",
      "       seven       1.00      1.00      1.00        45\n",
      "         six       0.99      0.95      0.97        76\n",
      "       three       0.97      0.97      0.97       274\n",
      "         two       0.98      0.97      0.97       442\n",
      "        zero       1.00      0.88      0.94        41\n",
      "\n",
      "    accuracy                           0.98      1938\n",
      "   macro avg       0.98      0.96      0.97      1938\n",
      "weighted avg       0.98      0.98      0.98      1938\n",
      "\n"
     ]
    }
   ],
   "source": [
    "#Print Confusion matrix and other important results\n",
    "\n",
    "from sklearn.metrics import classification_report, confusion_matrix\n",
    "\n",
    "print(\"Confusion Matrix\")\n",
    "print(confusion_matrix(y_test, y_pred))\n",
    "print(\"\\n\")\n",
    "print(classification_report(y_test, y_pred))"
   ]
  },
  {
   "cell_type": "markdown",
   "metadata": {},
   "source": [
    "<h6> Support Vector Classification <h6> \n",
    "    "
   ]
  },
  {
   "cell_type": "markdown",
   "metadata": {},
   "source": [
    "Adapted from https://scikit-learn.org/stable/modules/generated/sklearn.svm.SVC.html#sklearn.svm.SVC"
   ]
  },
  {
   "cell_type": "code",
   "execution_count": 74,
   "metadata": {},
   "outputs": [],
   "source": [
    "#-----------Setup \n",
    "\n",
    "from sklearn.svm import SVC\n",
    "\n",
    "# split data into test set and training set, to reduce bias\n",
    "\n",
    "from sklearn.model_selection import train_test_split\n",
    "X_train, X_test, y_train, y_test = train_test_split(X, y, test_size=0.20)\n",
    "\n",
    "from sklearn.preprocessing import StandardScaler\n",
    "\n",
    "sc = StandardScaler()\n",
    "X_train = sc.fit_transform(X_train)\n",
    "X_test = sc.transform(X_test)"
   ]
  },
  {
   "cell_type": "code",
   "execution_count": 75,
   "metadata": {},
   "outputs": [],
   "source": [
    "#Create a svm Classifier\n",
    "svmClassifier= SVC(kernel='linear') # Linear Kernel\n",
    "\n",
    "#Train the model using the training sets\n",
    "svmClassifier.fit(X_train, y_train)\n",
    "\n",
    "#Predict the response for test dataset\n",
    "y_pred = svmClassifier.predict(X_test)"
   ]
  },
  {
   "cell_type": "code",
   "execution_count": 76,
   "metadata": {},
   "outputs": [
    {
     "name": "stdout",
     "output_type": "stream",
     "text": [
      "Confusion Matrix\n",
      "[[ 99   0   0   2   2   0   0   0   0   3]\n",
      " [  1  34   0   0   0   0   0   1   0   0]\n",
      " [  0   0 376   0   9   0   0   2   8   2]\n",
      " [  3   1   0  55   0   0   0   0   1   0]\n",
      " [  1   0  12   0 416   0   0   1  23   2]\n",
      " [  0   1   0   0   0  56   0   0   0   0]\n",
      " [  0   0   1   0   0   0  60   1   0   0]\n",
      " [  0   0   6   0   2   0   0 268   5   0]\n",
      " [  0   0   6   0  16   0   1   8 413   1]\n",
      " [  0   0   0   0   3   0   0   0   0  36]]\n",
      "\n",
      "\n",
      "              precision    recall  f1-score   support\n",
      "\n",
      "       eight       0.95      0.93      0.94       106\n",
      "        five       0.94      0.94      0.94        36\n",
      "        four       0.94      0.95      0.94       397\n",
      "        nine       0.96      0.92      0.94        60\n",
      "         one       0.93      0.91      0.92       455\n",
      "       seven       1.00      0.98      0.99        57\n",
      "         six       0.98      0.97      0.98        62\n",
      "       three       0.95      0.95      0.95       281\n",
      "         two       0.92      0.93      0.92       445\n",
      "        zero       0.82      0.92      0.87        39\n",
      "\n",
      "    accuracy                           0.94      1938\n",
      "   macro avg       0.94      0.94      0.94      1938\n",
      "weighted avg       0.94      0.94      0.94      1938\n",
      "\n"
     ]
    }
   ],
   "source": [
    "#Print Confusion matrix and other important results\n",
    "\n",
    "from sklearn.metrics import classification_report, confusion_matrix, recall_score, precision_score\n",
    "\n",
    "print(\"Confusion Matrix\")\n",
    "print(confusion_matrix(y_test, y_pred))\n",
    "print(\"\\n\")\n",
    "print(classification_report(y_test, y_pred))\n"
   ]
  },
  {
   "cell_type": "markdown",
   "metadata": {},
   "source": [
    "<h2> Neural Networks <h2>\n",
    "   <hr>"
   ]
  },
  {
   "cell_type": "markdown",
   "metadata": {},
   "source": [
    "<h3> Linear Classifier <h3>"
   ]
  },
  {
   "cell_type": "code",
   "execution_count": null,
   "metadata": {},
   "outputs": [],
   "source": []
  },
  {
   "cell_type": "code",
   "execution_count": null,
   "metadata": {},
   "outputs": [],
   "source": []
  },
  {
   "cell_type": "markdown",
   "metadata": {},
   "source": [
    "<h3> MLP <h3>"
   ]
  },
  {
   "cell_type": "code",
   "execution_count": null,
   "metadata": {},
   "outputs": [],
   "source": []
  },
  {
   "cell_type": "code",
   "execution_count": null,
   "metadata": {},
   "outputs": [],
   "source": []
  }
 ],
 "metadata": {
  "kernelspec": {
   "display_name": "Python 3",
   "language": "python",
   "name": "python3"
  },
  "language_info": {
   "codemirror_mode": {
    "name": "ipython",
    "version": 3
   },
   "file_extension": ".py",
   "mimetype": "text/x-python",
   "name": "python",
   "nbconvert_exporter": "python",
   "pygments_lexer": "ipython3",
   "version": "3.8.3"
  }
 },
 "nbformat": 4,
 "nbformat_minor": 4
}
